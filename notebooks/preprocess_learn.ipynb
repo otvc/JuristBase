{
 "cells": [
  {
   "cell_type": "code",
   "execution_count": 18,
   "id": "d9a4ec2d",
   "metadata": {},
   "outputs": [],
   "source": [
    "import numpy as np\n",
    "import pandas as pd"
   ]
  },
  {
   "cell_type": "code",
   "execution_count": 19,
   "id": "078e043d",
   "metadata": {},
   "outputs": [],
   "source": [
    "codes = pd.read_csv('CodesTypes.csv', index_col='Id')\n",
    "codes_tree = pd.read_csv('CodesTree.csv', index_col = 'Id').drop(columns=['Unnamed: 0'])\n",
    "codes_par = pd.read_csv('CodesParagraphs.csv', index_col = 'Id', dtype = {'paragraph':'string'}).drop(columns=['Unnamed: 0'])\n",
    "answers = pd.read_csv('Answers.csv').drop(columns = ['Unnamed: 0'])\n",
    "questions = pd.read_csv('Questions.csv', index_col = 'Id')"
   ]
  },
  {
   "cell_type": "code",
   "execution_count": 20,
   "id": "4faa531c",
   "metadata": {},
   "outputs": [],
   "source": [
    "codes_par.dropna(inplace=True)"
   ]
  },
  {
   "cell_type": "code",
   "execution_count": 21,
   "id": "0a5d8d08",
   "metadata": {},
   "outputs": [],
   "source": [
    "answers.rename(columns = {'QuestionId':'question_id'}, inplace = True)\n",
    "codes_par.rename(columns = {'Article_Id': 'article_id', 'Paragraph': 'paragraph'}, inplace = True)\n",
    "codes_tree.rename(columns = {'CodesId': 'codes_id'}, inplace = True)"
   ]
  },
  {
   "cell_type": "code",
   "execution_count": 22,
   "id": "f03ff9ec",
   "metadata": {},
   "outputs": [],
   "source": [
    "codes.drop(columns=['Unnamed: 0'], inplace = True)"
   ]
  },
  {
   "cell_type": "code",
   "execution_count": 23,
   "id": "82a3a65d",
   "metadata": {},
   "outputs": [],
   "source": [
    "codes.index = codes.index - 3 # нужно сделать, что совпадали идентификаторы кодексов в codes_tree"
   ]
  },
  {
   "cell_type": "code",
   "execution_count": 24,
   "id": "897fc826",
   "metadata": {},
   "outputs": [
    {
     "data": {
      "text/plain": [
       "Parent                                                    1\n",
       "Name      Уголовно-исполнительный кодекс Российской Феде...\n",
       "Name: 25, dtype: object"
      ]
     },
     "execution_count": 24,
     "metadata": {},
     "output_type": "execute_result"
    }
   ],
   "source": [
    "codes.loc[25]"
   ]
  },
  {
   "cell_type": "code",
   "execution_count": 25,
   "id": "9104344b",
   "metadata": {},
   "outputs": [],
   "source": [
    "answers = answers[answers.Text.notna()]"
   ]
  },
  {
   "cell_type": "code",
   "execution_count": 26,
   "id": "af37a9da",
   "metadata": {},
   "outputs": [
    {
     "data": {
      "text/html": [
       "<div>\n",
       "<style scoped>\n",
       "    .dataframe tbody tr th:only-of-type {\n",
       "        vertical-align: middle;\n",
       "    }\n",
       "\n",
       "    .dataframe tbody tr th {\n",
       "        vertical-align: top;\n",
       "    }\n",
       "\n",
       "    .dataframe thead th {\n",
       "        text-align: right;\n",
       "    }\n",
       "</style>\n",
       "<table border=\"1\" class=\"dataframe\">\n",
       "  <thead>\n",
       "    <tr style=\"text-align: right;\">\n",
       "      <th></th>\n",
       "      <th>Rating</th>\n",
       "      <th>Name</th>\n",
       "      <th>Text</th>\n",
       "      <th>Datetime</th>\n",
       "      <th>question_id</th>\n",
       "    </tr>\n",
       "  </thead>\n",
       "  <tbody>\n",
       "    <tr>\n",
       "      <th>0</th>\n",
       "      <td>4</td>\n",
       "      <td>Мурашко Владимир</td>\n",
       "      <td>Здравствуйте!  Банк не сможет оспаривать  дого...</td>\n",
       "      <td>30.01.2023 19:41:49</td>\n",
       "      <td>176810</td>\n",
       "    </tr>\n",
       "    <tr>\n",
       "      <th>1</th>\n",
       "      <td>5</td>\n",
       "      <td>Полникова Марина Николаевна</td>\n",
       "      <td>Здравствуйте!  подскажите пожалуйста может ли ...</td>\n",
       "      <td>31.01.2023 10:14:53</td>\n",
       "      <td>176810</td>\n",
       "    </tr>\n",
       "    <tr>\n",
       "      <th>2</th>\n",
       "      <td>2</td>\n",
       "      <td>Охотников Кирилл Сергеевич</td>\n",
       "      <td>Дарение кому -либо кредита очень не частая в ю...</td>\n",
       "      <td>31.01.2023 10:40:14</td>\n",
       "      <td>176810</td>\n",
       "    </tr>\n",
       "    <tr>\n",
       "      <th>3</th>\n",
       "      <td>4</td>\n",
       "      <td>Алексей Владимирович</td>\n",
       "      <td>Здравствуйте, Руслан!  Да, будете. Если Вы пол...</td>\n",
       "      <td>30.01.2023 22:15:44</td>\n",
       "      <td>176809</td>\n",
       "    </tr>\n",
       "    <tr>\n",
       "      <th>4</th>\n",
       "      <td>1</td>\n",
       "      <td>Елена Михайловна</td>\n",
       "      <td>Руслан, здравствуйте!  Первым делом посмотрите...</td>\n",
       "      <td>31.01.2023 07:04:49</td>\n",
       "      <td>176809</td>\n",
       "    </tr>\n",
       "  </tbody>\n",
       "</table>\n",
       "</div>"
      ],
      "text/plain": [
       "   Rating                         Name  \\\n",
       "0       4             Мурашко Владимир   \n",
       "1       5  Полникова Марина Николаевна   \n",
       "2       2   Охотников Кирилл Сергеевич   \n",
       "3       4         Алексей Владимирович   \n",
       "4       1             Елена Михайловна   \n",
       "\n",
       "                                                Text             Datetime  \\\n",
       "0  Здравствуйте!  Банк не сможет оспаривать  дого...  30.01.2023 19:41:49   \n",
       "1  Здравствуйте!  подскажите пожалуйста может ли ...  31.01.2023 10:14:53   \n",
       "2  Дарение кому -либо кредита очень не частая в ю...  31.01.2023 10:40:14   \n",
       "3  Здравствуйте, Руслан!  Да, будете. Если Вы пол...  30.01.2023 22:15:44   \n",
       "4  Руслан, здравствуйте!  Первым делом посмотрите...  31.01.2023 07:04:49   \n",
       "\n",
       "   question_id  \n",
       "0       176810  \n",
       "1       176810  \n",
       "2       176810  \n",
       "3       176809  \n",
       "4       176809  "
      ]
     },
     "execution_count": 26,
     "metadata": {},
     "output_type": "execute_result"
    }
   ],
   "source": [
    "answers.head()"
   ]
  },
  {
   "cell_type": "code",
   "execution_count": 27,
   "id": "5790a84f",
   "metadata": {},
   "outputs": [],
   "source": [
    "codes = codes.loc[0:]"
   ]
  },
  {
   "cell_type": "code",
   "execution_count": 28,
   "id": "bc1b5300",
   "metadata": {},
   "outputs": [
    {
     "data": {
      "text/plain": [
       "Parent                                                1\n",
       "Name      Уголовный кодекс Российской Федерации (УК РФ)\n",
       "Name: 27, dtype: object"
      ]
     },
     "execution_count": 28,
     "metadata": {},
     "output_type": "execute_result"
    }
   ],
   "source": [
    "codes.loc[27]"
   ]
  },
  {
   "cell_type": "code",
   "execution_count": 11,
   "id": "cbcbf2fb",
   "metadata": {},
   "outputs": [
    {
     "data": {
      "text/html": [
       "<div>\n",
       "<style scoped>\n",
       "    .dataframe tbody tr th:only-of-type {\n",
       "        vertical-align: middle;\n",
       "    }\n",
       "\n",
       "    .dataframe tbody tr th {\n",
       "        vertical-align: top;\n",
       "    }\n",
       "\n",
       "    .dataframe thead th {\n",
       "        text-align: right;\n",
       "    }\n",
       "</style>\n",
       "<table border=\"1\" class=\"dataframe\">\n",
       "  <thead>\n",
       "    <tr style=\"text-align: right;\">\n",
       "      <th></th>\n",
       "      <th>Name</th>\n",
       "      <th>Datetime</th>\n",
       "      <th>Title</th>\n",
       "      <th>City</th>\n",
       "      <th>Categories</th>\n",
       "      <th>Answers</th>\n",
       "      <th>Text</th>\n",
       "    </tr>\n",
       "    <tr>\n",
       "      <th>Id</th>\n",
       "      <th></th>\n",
       "      <th></th>\n",
       "      <th></th>\n",
       "      <th></th>\n",
       "      <th></th>\n",
       "      <th></th>\n",
       "      <th></th>\n",
       "    </tr>\n",
       "  </thead>\n",
       "  <tbody>\n",
       "    <tr>\n",
       "      <th>176810</th>\n",
       "      <td>Валерий</td>\n",
       "      <td>30.01.2023 19:08:36</td>\n",
       "      <td>Может ли банк через суд оспорить договор дарения?</td>\n",
       "      <td>Мичуринск</td>\n",
       "      <td>['Гражданское право', 'Кредит и займ']</td>\n",
       "      <td>3</td>\n",
       "      <td>Здравствуйте! У меня кредит больше 1.3 млн.р. ...</td>\n",
       "    </tr>\n",
       "    <tr>\n",
       "      <th>176809</th>\n",
       "      <td>Руслан</td>\n",
       "      <td>30.01.2023 19:07:04</td>\n",
       "      <td>Про отработка гранта после выпуска.</td>\n",
       "      <td>Алматы</td>\n",
       "      <td>['Образование']</td>\n",
       "      <td>2</td>\n",
       "      <td>Здравствуйте! Я учусь в колледже, на 3 курсе в...</td>\n",
       "    </tr>\n",
       "    <tr>\n",
       "      <th>176808</th>\n",
       "      <td>Валера</td>\n",
       "      <td>30.01.2023 14:17:47</td>\n",
       "      <td>Как получить ветерана боевых действий в ДНР?</td>\n",
       "      <td>Мкеевка</td>\n",
       "      <td>['Военная служба']</td>\n",
       "      <td>2</td>\n",
       "      <td>Как получить ветерана боевых действий? Комиссо...</td>\n",
       "    </tr>\n",
       "    <tr>\n",
       "      <th>176806</th>\n",
       "      <td>Екатерина</td>\n",
       "      <td>29.01.2023 19:30:37</td>\n",
       "      <td>Могут ли снять с денежного довольствия?</td>\n",
       "      <td>Донецк</td>\n",
       "      <td>['Военная служба']</td>\n",
       "      <td>3</td>\n",
       "      <td>Здравствуйте! После ВВК поставили категорию Г....</td>\n",
       "    </tr>\n",
       "    <tr>\n",
       "      <th>176804</th>\n",
       "      <td>Тата</td>\n",
       "      <td>29.01.2023 11:21:38</td>\n",
       "      <td>Имеют ли право МФО заявлять в полицию, если пр...</td>\n",
       "      <td>Знаменка</td>\n",
       "      <td>['Гражданское право', 'Кредит и займ']</td>\n",
       "      <td>6</td>\n",
       "      <td>У меня просрочка в займе, займ написал заявлен...</td>\n",
       "    </tr>\n",
       "  </tbody>\n",
       "</table>\n",
       "</div>"
      ],
      "text/plain": [
       "             Name             Datetime  \\\n",
       "Id                                       \n",
       "176810    Валерий  30.01.2023 19:08:36   \n",
       "176809     Руслан  30.01.2023 19:07:04   \n",
       "176808     Валера  30.01.2023 14:17:47   \n",
       "176806  Екатерина  29.01.2023 19:30:37   \n",
       "176804       Тата  29.01.2023 11:21:38   \n",
       "\n",
       "                                                    Title       City  \\\n",
       "Id                                                                     \n",
       "176810  Может ли банк через суд оспорить договор дарения?  Мичуринск   \n",
       "176809                Про отработка гранта после выпуска.     Алматы   \n",
       "176808       Как получить ветерана боевых действий в ДНР?    Мкеевка   \n",
       "176806            Могут ли снять с денежного довольствия?     Донецк   \n",
       "176804  Имеют ли право МФО заявлять в полицию, если пр...   Знаменка   \n",
       "\n",
       "                                    Categories  Answers  \\\n",
       "Id                                                        \n",
       "176810  ['Гражданское право', 'Кредит и займ']        3   \n",
       "176809                         ['Образование']        2   \n",
       "176808                      ['Военная служба']        2   \n",
       "176806                      ['Военная служба']        3   \n",
       "176804  ['Гражданское право', 'Кредит и займ']        6   \n",
       "\n",
       "                                                     Text  \n",
       "Id                                                         \n",
       "176810  Здравствуйте! У меня кредит больше 1.3 млн.р. ...  \n",
       "176809  Здравствуйте! Я учусь в колледже, на 3 курсе в...  \n",
       "176808  Как получить ветерана боевых действий? Комиссо...  \n",
       "176806  Здравствуйте! После ВВК поставили категорию Г....  \n",
       "176804  У меня просрочка в займе, займ написал заявлен...  "
      ]
     },
     "execution_count": 11,
     "metadata": {},
     "output_type": "execute_result"
    }
   ],
   "source": [
    "questions.head()"
   ]
  },
  {
   "cell_type": "markdown",
   "id": "56a1fa92",
   "metadata": {},
   "source": [
    "Для того, чтобы найти в тексте нужные кодексы, нам нужно получить их сокращенные варианты.\n",
    "В конце каждой `codes.Name`, которая отвечает конечному кодексу, содержится такой сокращенный вариант в круглых скобках по следующему шаблону `Fullname ({ShortName})`.\n",
    "\n",
    "Давайте извлечем это короткое имя"
   ]
  },
  {
   "cell_type": "code",
   "execution_count": 29,
   "id": "576bb813",
   "metadata": {},
   "outputs": [
    {
     "name": "stdout",
     "output_type": "stream",
     "text": [
      "['АПК РФ', 'БК РФ', 'ВК РФ', 'ГПК РФ', 'ЖК РФ', 'ЗК РФ', 'КАС РФ', 'ЛК РФ', 'СК РФ', 'ТК ЕАЭС', 'ТК ТС', 'ТК РФ', 'УИК РФ', 'УПК РФ', 'УК РФ', 'ЗОЗПП', 'АО', 'ООО', 'ОСАГО', 'ПДД', 'ПД']\n"
     ]
    }
   ],
   "source": [
    "short_codes = filter(lambda x: x, codes.Name.str.findall('\\([А-Я \\d]+\\)').values)\n",
    "short_codes = list(map(lambda x: x[0][1:-1], short_codes))\n",
    "print(short_codes)"
   ]
  },
  {
   "cell_type": "code",
   "execution_count": 30,
   "id": "3e224cca",
   "metadata": {},
   "outputs": [
    {
     "name": "stdout",
     "output_type": "stream",
     "text": [
      "21\n"
     ]
    }
   ],
   "source": [
    "print(len(short_codes))"
   ]
  },
  {
   "cell_type": "markdown",
   "id": "e6a02a4c",
   "metadata": {},
   "source": [
    "Давайте теперь попробуем найти все ответы, в которых содержится указание на хотя бы один из нужных кодексов"
   ]
  },
  {
   "cell_type": "code",
   "execution_count": 31,
   "id": "edeff6d3",
   "metadata": {},
   "outputs": [],
   "source": [
    "target = 'Text'"
   ]
  },
  {
   "cell_type": "code",
   "execution_count": 32,
   "id": "ed2f5467",
   "metadata": {},
   "outputs": [
    {
     "name": "stderr",
     "output_type": "stream",
     "text": [
      "/tmp/ipykernel_6133/3581087905.py:2: UserWarning: This pattern has match groups. To actually get the groups, use str.extract.\n",
      "  contain_sc = answers.Text.str.contains(short_codes_ptr, regex = True)\n"
     ]
    }
   ],
   "source": [
    "short_codes_ptr = '(' +'|'.join(short_codes) + ')'\n",
    "contain_sc = answers.Text.str.contains(short_codes_ptr, regex = True)\n",
    "answ_codes = answers.loc[contain_sc[contain_sc].index].copy()"
   ]
  },
  {
   "cell_type": "markdown",
   "id": "75989b9f",
   "metadata": {},
   "source": [
    "Теперь узнаем сколько всего ответов содержат ссылки на кодексы, с учетом того, что вопросы различные"
   ]
  },
  {
   "cell_type": "code",
   "execution_count": 16,
   "id": "dda2a9bd",
   "metadata": {},
   "outputs": [],
   "source": [
    "answ_codes[target] = answ_codes[target].str.lower()"
   ]
  },
  {
   "cell_type": "code",
   "execution_count": 17,
   "id": "6b994005",
   "metadata": {},
   "outputs": [
    {
     "ename": "AttributeError",
     "evalue": "'DataFrame' object has no attribute 'QuestionId'",
     "output_type": "error",
     "traceback": [
      "\u001b[0;31m---------------------------------------------------------------------------\u001b[0m",
      "\u001b[0;31mAttributeError\u001b[0m                            Traceback (most recent call last)",
      "Cell \u001b[0;32mIn[17], line 1\u001b[0m\n\u001b[0;32m----> 1\u001b[0m \u001b[38;5;28mprint\u001b[39m(\u001b[38;5;124mf\u001b[39m\u001b[38;5;124m'\u001b[39m\u001b[38;5;124mUniques \u001b[39m\u001b[38;5;132;01m{\u001b[39;00m\u001b[43mansw_codes\u001b[49m\u001b[38;5;241;43m.\u001b[39;49m\u001b[43mQuestionId\u001b[49m\u001b[38;5;241m.\u001b[39munique()\u001b[38;5;241m.\u001b[39mshape\u001b[38;5;132;01m}\u001b[39;00m\u001b[38;5;124m'\u001b[39m)\n\u001b[1;32m      2\u001b[0m quest_ids \u001b[38;5;241m=\u001b[39m answ_codes\u001b[38;5;241m.\u001b[39mQuestionId\u001b[38;5;241m.\u001b[39munique()\n",
      "File \u001b[0;32m~/.local/lib/python3.10/site-packages/pandas/core/generic.py:5487\u001b[0m, in \u001b[0;36mNDFrame.__getattr__\u001b[0;34m(self, name)\u001b[0m\n\u001b[1;32m   5480\u001b[0m \u001b[38;5;28;01mif\u001b[39;00m (\n\u001b[1;32m   5481\u001b[0m     name \u001b[38;5;129;01mnot\u001b[39;00m \u001b[38;5;129;01min\u001b[39;00m \u001b[38;5;28mself\u001b[39m\u001b[38;5;241m.\u001b[39m_internal_names_set\n\u001b[1;32m   5482\u001b[0m     \u001b[38;5;129;01mand\u001b[39;00m name \u001b[38;5;129;01mnot\u001b[39;00m \u001b[38;5;129;01min\u001b[39;00m \u001b[38;5;28mself\u001b[39m\u001b[38;5;241m.\u001b[39m_metadata\n\u001b[1;32m   5483\u001b[0m     \u001b[38;5;129;01mand\u001b[39;00m name \u001b[38;5;129;01mnot\u001b[39;00m \u001b[38;5;129;01min\u001b[39;00m \u001b[38;5;28mself\u001b[39m\u001b[38;5;241m.\u001b[39m_accessors\n\u001b[1;32m   5484\u001b[0m     \u001b[38;5;129;01mand\u001b[39;00m \u001b[38;5;28mself\u001b[39m\u001b[38;5;241m.\u001b[39m_info_axis\u001b[38;5;241m.\u001b[39m_can_hold_identifiers_and_holds_name(name)\n\u001b[1;32m   5485\u001b[0m ):\n\u001b[1;32m   5486\u001b[0m     \u001b[38;5;28;01mreturn\u001b[39;00m \u001b[38;5;28mself\u001b[39m[name]\n\u001b[0;32m-> 5487\u001b[0m \u001b[38;5;28;01mreturn\u001b[39;00m \u001b[38;5;28;43mobject\u001b[39;49m\u001b[38;5;241;43m.\u001b[39;49m\u001b[38;5;21;43m__getattribute__\u001b[39;49m\u001b[43m(\u001b[49m\u001b[38;5;28;43mself\u001b[39;49m\u001b[43m,\u001b[49m\u001b[43m \u001b[49m\u001b[43mname\u001b[49m\u001b[43m)\u001b[49m\n",
      "\u001b[0;31mAttributeError\u001b[0m: 'DataFrame' object has no attribute 'QuestionId'"
     ]
    }
   ],
   "source": [
    "print(f'Uniques {answ_codes.QuestionId.unique().shape}')\n",
    "quest_ids = answ_codes.QuestionId.unique()"
   ]
  },
  {
   "cell_type": "code",
   "execution_count": null,
   "id": "468f52ed",
   "metadata": {},
   "outputs": [],
   "source": [
    "suit_quest = questions[questions.index.isin(quest_ids)].copy()"
   ]
  },
  {
   "cell_type": "markdown",
   "id": "17e7d9fb",
   "metadata": {},
   "source": [
    "Давайте попробуем теперь из всех тех ответов, где есть ссылки на различные кодексы, найти ссылки на статьи.\n",
    "\n",
    "Сделаем предположение, что ссылка на статью выглядит одним из следующих способов:\n",
    "1. \"... статья {`d` слов справа}\";\n",
    "    2. слово `статья` в различных падежах;\n",
    "2. \"... cт{.+} {`d` слов справа}\";\n",
    "3. \"... с{.+} {`d` слов справа}\".\n"
   ]
  },
  {
   "cell_type": "code",
   "execution_count": 33,
   "id": "dbe03380",
   "metadata": {},
   "outputs": [],
   "source": [
    "import nltk\n",
    "import pymorphy2\n",
    "import string\n",
    "import re\n",
    "from Supportive import snlp\n",
    "from importlib import reload\n",
    "from collections import Counter\n",
    "import seaborn as sns\n",
    "import math"
   ]
  },
  {
   "cell_type": "code",
   "execution_count": 34,
   "id": "e730fc53",
   "metadata": {},
   "outputs": [],
   "source": [
    "reload(snlp)\n",
    "pass"
   ]
  },
  {
   "cell_type": "code",
   "execution_count": 16,
   "id": "421f4613",
   "metadata": {},
   "outputs": [
    {
     "data": {
      "text/plain": [
       "re.compile(r'([^а-я](статьей|статьи|статьёй|статья|статье|статью|c[\\. ]+|ст[. ])(( |,)[а-я\\d.]*){0,6})',\n",
       "           re.UNICODE)"
      ]
     },
     "execution_count": 16,
     "metadata": {},
     "output_type": "execute_result"
    }
   ],
   "source": [
    "all_art_cases = ['статьей']+list(snlp.get_all_word_case('статья'))\n",
    "reg_article = '([^а-я]' + '(' + '|'.join(all_art_cases+['c[\\. ]+', 'ст[. ]']) + ')'\n",
    "right_count = 6\n",
    "reg_article += '(( |,)[а-я\\d.]*){0,'+str(right_count)+'})'\n",
    "reg_article = re.compile(reg_article)\n",
    "reg_article"
   ]
  },
  {
   "cell_type": "code",
   "execution_count": 17,
   "id": "591f6bbb",
   "metadata": {},
   "outputs": [
    {
     "name": "stderr",
     "output_type": "stream",
     "text": [
      "/tmp/ipykernel_6843/1799238598.py:1: UserWarning: This pattern is interpreted as a regular expression, and has match groups. To actually get the groups, use str.extract.\n",
      "  answ_art = answ_codes[target].str.contains(reg_article, regex=True)\n"
     ]
    },
    {
     "data": {
      "text/plain": [
       "(7078, 5)"
      ]
     },
     "execution_count": 17,
     "metadata": {},
     "output_type": "execute_result"
    }
   ],
   "source": [
    "answ_art = answ_codes[target].str.contains(reg_article, regex=True)\n",
    "answ_art = answ_codes.loc[answ_codes[target].loc[answ_art].index].copy()\n",
    "answ_art.shape"
   ]
  },
  {
   "cell_type": "markdown",
   "id": "33ff5fac",
   "metadata": {},
   "source": [
    "Как мы видим, практически в каждом ответе, где указывался кодекс, содержится статья, на которую ссылается юрист. Давайте теперь соберем все строки текстов со словом статья и `right_count` правых слов, стоящих справа, дабы:\n",
    "1. Понять, что за слова справа от этих слов \n",
    "2. Оценить, как построить регулярное выражение, чтобы забрать номер статьи"
   ]
  },
  {
   "cell_type": "code",
   "execution_count": 95,
   "id": "b81d2c27",
   "metadata": {},
   "outputs": [],
   "source": [
    "art_words = answ_art[target].str.extractall(reg_article)#.apply(lambda x: ' '.join(x.values.astype(str)),axis=1)"
   ]
  },
  {
   "cell_type": "code",
   "execution_count": 96,
   "id": "90a3a880",
   "metadata": {},
   "outputs": [
    {
     "data": {
      "text/html": [
       "<div>\n",
       "<style scoped>\n",
       "    .dataframe tbody tr th:only-of-type {\n",
       "        vertical-align: middle;\n",
       "    }\n",
       "\n",
       "    .dataframe tbody tr th {\n",
       "        vertical-align: top;\n",
       "    }\n",
       "\n",
       "    .dataframe thead th {\n",
       "        text-align: right;\n",
       "    }\n",
       "</style>\n",
       "<table border=\"1\" class=\"dataframe\">\n",
       "  <thead>\n",
       "    <tr style=\"text-align: right;\">\n",
       "      <th></th>\n",
       "      <th></th>\n",
       "      <th>0</th>\n",
       "      <th>1</th>\n",
       "      <th>2</th>\n",
       "      <th>3</th>\n",
       "    </tr>\n",
       "    <tr>\n",
       "      <th></th>\n",
       "      <th>match</th>\n",
       "      <th></th>\n",
       "      <th></th>\n",
       "      <th></th>\n",
       "      <th></th>\n",
       "    </tr>\n",
       "  </thead>\n",
       "  <tbody>\n",
       "    <tr>\n",
       "      <th rowspan=\"2\" valign=\"top\">13</th>\n",
       "      <th>0</th>\n",
       "      <td>статья</td>\n",
       "      <td>статья</td>\n",
       "      <td>NaN</td>\n",
       "      <td>NaN</td>\n",
       "    </tr>\n",
       "    <tr>\n",
       "      <th>1</th>\n",
       "      <td>статья 159.1. мошенничество в сфере кредитова...</td>\n",
       "      <td>статья</td>\n",
       "      <td></td>\n",
       "      <td></td>\n",
       "    </tr>\n",
       "    <tr>\n",
       "      <th rowspan=\"3\" valign=\"top\">14</th>\n",
       "      <th>0</th>\n",
       "      <td>статья 24. основания отказа в возбуждении уго...</td>\n",
       "      <td>статья</td>\n",
       "      <td>уголовного</td>\n",
       "      <td></td>\n",
       "    </tr>\n",
       "    <tr>\n",
       "      <th>1</th>\n",
       "      <td>статье 159.1 ук рф.  для целей</td>\n",
       "      <td>статье</td>\n",
       "      <td>целей</td>\n",
       "      <td></td>\n",
       "    </tr>\n",
       "    <tr>\n",
       "      <th>2</th>\n",
       "      <td>статьи 159.1 ук рф заемщиком признается лицо</td>\n",
       "      <td>статьи</td>\n",
       "      <td>лицо</td>\n",
       "      <td></td>\n",
       "    </tr>\n",
       "  </tbody>\n",
       "</table>\n",
       "</div>"
      ],
      "text/plain": [
       "                                                          0       1  \\\n",
       "   match                                                              \n",
       "13 0                                                 статья  статья   \n",
       "   1       статья 159.1. мошенничество в сфере кредитова...  статья   \n",
       "14 0       статья 24. основания отказа в возбуждении уго...  статья   \n",
       "   1                         статье 159.1 ук рф.  для целей  статье   \n",
       "   2           статьи 159.1 ук рф заемщиком признается лицо  статьи   \n",
       "\n",
       "                    2    3  \n",
       "   match                    \n",
       "13 0              NaN  NaN  \n",
       "   1                        \n",
       "14 0       уголовного       \n",
       "   1            целей       \n",
       "   2             лицо       "
      ]
     },
     "execution_count": 96,
     "metadata": {},
     "output_type": "execute_result"
    }
   ],
   "source": [
    "art_words.head()"
   ]
  },
  {
   "cell_type": "code",
   "execution_count": 97,
   "id": "601007a4",
   "metadata": {
    "scrolled": false
   },
   "outputs": [],
   "source": [
    "art_words = art_words[[0]].astype({0:'string'})\n",
    "art_words.rename(columns={0:'article'},inplace=True)"
   ]
  },
  {
   "cell_type": "code",
   "execution_count": 98,
   "id": "9d6d09aa",
   "metadata": {},
   "outputs": [
    {
     "data": {
      "text/plain": [
       "2051"
      ]
     },
     "execution_count": 98,
     "metadata": {},
     "output_type": "execute_result"
    }
   ],
   "source": [
    "expr_one_word = art_words['article'].str.split(' ').str.len()==2\n",
    "expr_one_word.sum()"
   ]
  },
  {
   "cell_type": "code",
   "execution_count": 246,
   "id": "6ea11c96",
   "metadata": {},
   "outputs": [],
   "source": [
    "ids_art_words = expr_one_word.loc[~expr_one_word].index\n",
    "art_words = art_words.loc[ids_art_words]"
   ]
  },
  {
   "cell_type": "code",
   "execution_count": 247,
   "id": "081d4fda",
   "metadata": {},
   "outputs": [
    {
     "data": {
      "text/html": [
       "<div>\n",
       "<style scoped>\n",
       "    .dataframe tbody tr th:only-of-type {\n",
       "        vertical-align: middle;\n",
       "    }\n",
       "\n",
       "    .dataframe tbody tr th {\n",
       "        vertical-align: top;\n",
       "    }\n",
       "\n",
       "    .dataframe thead th {\n",
       "        text-align: right;\n",
       "    }\n",
       "</style>\n",
       "<table border=\"1\" class=\"dataframe\">\n",
       "  <thead>\n",
       "    <tr style=\"text-align: right;\">\n",
       "      <th></th>\n",
       "      <th></th>\n",
       "      <th>article</th>\n",
       "    </tr>\n",
       "    <tr>\n",
       "      <th></th>\n",
       "      <th>match</th>\n",
       "      <th></th>\n",
       "    </tr>\n",
       "  </thead>\n",
       "  <tbody>\n",
       "    <tr>\n",
       "      <th>13</th>\n",
       "      <th>1</th>\n",
       "      <td>статья 159.1. мошенничество в сфере кредитова...</td>\n",
       "    </tr>\n",
       "    <tr>\n",
       "      <th rowspan=\"4\" valign=\"top\">14</th>\n",
       "      <th>0</th>\n",
       "      <td>статья 24. основания отказа в возбуждении уго...</td>\n",
       "    </tr>\n",
       "    <tr>\n",
       "      <th>1</th>\n",
       "      <td>статье 159.1 ук рф.  для целей</td>\n",
       "    </tr>\n",
       "    <tr>\n",
       "      <th>2</th>\n",
       "      <td>статьи 159.1 ук рф заемщиком признается лицо</td>\n",
       "    </tr>\n",
       "    <tr>\n",
       "      <th>3</th>\n",
       "      <td>статье 159.1 ук рф может являться банк</td>\n",
       "    </tr>\n",
       "    <tr>\n",
       "      <th>...</th>\n",
       "      <th>...</th>\n",
       "      <td>...</td>\n",
       "    </tr>\n",
       "    <tr>\n",
       "      <th rowspan=\"2\" valign=\"top\">42282</th>\n",
       "      <th>0</th>\n",
       "      <td>ст. 12.8, ч. 1 ст. 12.26</td>\n",
       "    </tr>\n",
       "    <tr>\n",
       "      <th>1</th>\n",
       "      <td>ст. 12.27 коап рф</td>\n",
       "    </tr>\n",
       "    <tr>\n",
       "      <th>42316</th>\n",
       "      <th>0</th>\n",
       "      <td>статья 65. осуществление родительских прав 1....</td>\n",
       "    </tr>\n",
       "    <tr>\n",
       "      <th rowspan=\"2\" valign=\"top\">42320</th>\n",
       "      <th>0</th>\n",
       "      <td>статья 158. кража 1. кража, то</td>\n",
       "    </tr>\n",
       "    <tr>\n",
       "      <th>1</th>\n",
       "      <td>статьей 159.3 настоящего кодекса</td>\n",
       "    </tr>\n",
       "  </tbody>\n",
       "</table>\n",
       "<p>23867 rows × 1 columns</p>\n",
       "</div>"
      ],
      "text/plain": [
       "                                                       article\n",
       "      match                                                   \n",
       "13    1       статья 159.1. мошенничество в сфере кредитова...\n",
       "14    0       статья 24. основания отказа в возбуждении уго...\n",
       "      1                         статье 159.1 ук рф.  для целей\n",
       "      2           статьи 159.1 ук рф заемщиком признается лицо\n",
       "      3                 статье 159.1 ук рф может являться банк\n",
       "...                                                        ...\n",
       "42282 0                               ст. 12.8, ч. 1 ст. 12.26\n",
       "      1                                      ст. 12.27 коап рф\n",
       "42316 0       статья 65. осуществление родительских прав 1....\n",
       "42320 0                         статья 158. кража 1. кража, то\n",
       "      1                       статьей 159.3 настоящего кодекса\n",
       "\n",
       "[23867 rows x 1 columns]"
      ]
     },
     "execution_count": 247,
     "metadata": {},
     "output_type": "execute_result"
    }
   ],
   "source": [
    "art_words"
   ]
  },
  {
   "cell_type": "code",
   "execution_count": 101,
   "id": "f942e29b",
   "metadata": {},
   "outputs": [],
   "source": [
    "def number_right_word(x):\n",
    "    words = x[1:]\n",
    "    dict_num_word = dict.fromkeys(range(1, right_count + 1))\n",
    "    for i, word in enumerate(words, start = 1):\n",
    "        dict_num_word[i] = word\n",
    "    return dict_num_word"
   ]
  },
  {
   "cell_type": "code",
   "execution_count": 102,
   "id": "43495764",
   "metadata": {},
   "outputs": [],
   "source": [
    "num_right_word = pd.DataFrame(list(art_words.article.str.split(' ').apply(number_right_word).values))"
   ]
  },
  {
   "cell_type": "code",
   "execution_count": 103,
   "id": "dfa1f598",
   "metadata": {},
   "outputs": [
    {
     "data": {
      "text/plain": [
       "1        2               3               4               5          6                 7        \n",
       "статьей  372             настоящего      кодекса         для        принятия          локальных    65\n",
       "статья   119.            изменение       установленного  судом      размера           алиментов    63\n",
       "         203.            отсрочка        или             рассрочка  исполнения        решения      58\n",
       "         55.             доказательства                  1.         доказательствами  по           57\n",
       "         129.            отмена          судебного       приказа                      при          48\n",
       "                                                                                                   ..\n",
       "ст.      446             гпк             рф.             согласно   данной            статьи        1\n",
       "                                                         если       списали           деньги        1\n",
       "                                                         а          вот               что           1\n",
       "                                                                    что               касается      1\n",
       "статьёй  взаимодействие  дистанционного  работника       и          работодателя      может         1\n",
       "Length: 6098, dtype: int64"
      ]
     },
     "execution_count": 103,
     "metadata": {},
     "output_type": "execute_result"
    }
   ],
   "source": [
    "num_right_word.value_counts()"
   ]
  },
  {
   "cell_type": "markdown",
   "id": "b7a54866",
   "metadata": {},
   "source": [
    "Let's check, how much number of articles at second column"
   ]
  },
  {
   "cell_type": "code",
   "execution_count": 209,
   "id": "dab39532",
   "metadata": {},
   "outputs": [
    {
     "name": "stdout",
     "output_type": "stream",
     "text": [
      "Frequency of 1 word from name `article` is digits is equal:  0.8497926006620019\n",
      "Frequency of 2 word from name `article` is digits is equal:  0.020069552101227635\n",
      "Frequency of 3 word from name `article` is digits is equal:  0.03858884652448988\n",
      "Frequency of 4 word from name `article` is digits is equal:  0.03234591695646709\n",
      "Frequency of 5 word from name `article` is digits is equal:  0.05543218670130305\n",
      "Frequency of 6 word from name `article` is digits is equal:  0.03087945699082415\n",
      "Total frequancy of digits in first 6-th right words:  1.0271085599363137\n"
     ]
    }
   ],
   "source": [
    "total_freq = 0\n",
    "for num in range(2, right_count + 2):\n",
    "    freq_num_digits = num_right_word[num].str.match('\\d').sum()/num_right_word.shape[0]\n",
    "    total_freq += freq_num_digits\n",
    "    print(f'Frequency of {num-1} word from name `article` is digits is equal: ', freq_num_digits)\n",
    "\n",
    "print(f'Total frequancy of digits in first {right_count}-th right words: ', total_freq)"
   ]
  },
  {
   "cell_type": "markdown",
   "id": "c42a3c47",
   "metadata": {},
   "source": [
    "It says, that we might extract number of article in first 6-th words"
   ]
  },
  {
   "cell_type": "markdown",
   "id": "e8bcc44c",
   "metadata": {},
   "source": [
    "## Extract numbers of articles for each question"
   ]
  },
  {
   "cell_type": "code",
   "execution_count": 12,
   "id": "20dc2da0",
   "metadata": {},
   "outputs": [],
   "source": [
    "from Supportive import spdf"
   ]
  },
  {
   "cell_type": "code",
   "execution_count": 200,
   "id": "81cfdb25",
   "metadata": {},
   "outputs": [],
   "source": [
    "reload(spdf)\n",
    "pass"
   ]
  },
  {
   "cell_type": "code",
   "execution_count": 201,
   "id": "e504a5a0",
   "metadata": {},
   "outputs": [
    {
     "name": "stdout",
     "output_type": "stream",
     "text": [
      "     0\n",
      "1 2  1\n",
      "3 4  1\n",
      "5 6  2\n"
     ]
    }
   ],
   "source": [
    "mi = pd.MultiIndex.from_tuples([(1, 2), (1,3), (3, 4), (5, 6)])\n",
    "tdf = pd.DataFrame([(1,1), (1, 1), (1,1), (2,3),], index = mi)\n",
    "tdf.index.get_level_values(0)\n",
    "print(spdf.drop_duplicates_by_index(tdf, columns = [0]))"
   ]
  },
  {
   "cell_type": "code",
   "execution_count": 202,
   "id": "ef7f32d4",
   "metadata": {},
   "outputs": [],
   "source": [
    "reg_art_num = re.compile('(\\d+(\\.*\\d)*)')"
   ]
  },
  {
   "cell_type": "code",
   "execution_count": 203,
   "id": "202959d5",
   "metadata": {},
   "outputs": [],
   "source": [
    "answ_art_num = spdf.drop_duplicates_by_index(art_words.article.str.extract(reg_art_num), columns = [0])"
   ]
  },
  {
   "cell_type": "code",
   "execution_count": 344,
   "id": "26d330f9",
   "metadata": {
    "scrolled": false
   },
   "outputs": [],
   "source": [
    "answ_art_num = answ_art_num.loc[answ_art_num[0].loc[~answ_art_num[0].isna()].index]"
   ]
  },
  {
   "cell_type": "code",
   "execution_count": 345,
   "id": "6acd53cf",
   "metadata": {},
   "outputs": [
    {
     "data": {
      "text/html": [
       "<div>\n",
       "<style scoped>\n",
       "    .dataframe tbody tr th:only-of-type {\n",
       "        vertical-align: middle;\n",
       "    }\n",
       "\n",
       "    .dataframe tbody tr th {\n",
       "        vertical-align: top;\n",
       "    }\n",
       "\n",
       "    .dataframe thead th {\n",
       "        text-align: right;\n",
       "    }\n",
       "</style>\n",
       "<table border=\"1\" class=\"dataframe\">\n",
       "  <thead>\n",
       "    <tr style=\"text-align: right;\">\n",
       "      <th></th>\n",
       "      <th></th>\n",
       "      <th>0</th>\n",
       "    </tr>\n",
       "    <tr>\n",
       "      <th></th>\n",
       "      <th>match</th>\n",
       "      <th></th>\n",
       "    </tr>\n",
       "  </thead>\n",
       "  <tbody>\n",
       "    <tr>\n",
       "      <th>13</th>\n",
       "      <th>1</th>\n",
       "      <td>159.1</td>\n",
       "    </tr>\n",
       "    <tr>\n",
       "      <th rowspan=\"3\" valign=\"top\">14</th>\n",
       "      <th>0</th>\n",
       "      <td>24</td>\n",
       "    </tr>\n",
       "    <tr>\n",
       "      <th>1</th>\n",
       "      <td>159.1</td>\n",
       "    </tr>\n",
       "    <tr>\n",
       "      <th>4</th>\n",
       "      <td>819</td>\n",
       "    </tr>\n",
       "    <tr>\n",
       "      <th>22</th>\n",
       "      <th>0</th>\n",
       "      <td>2.1</td>\n",
       "    </tr>\n",
       "    <tr>\n",
       "      <th>...</th>\n",
       "      <th>...</th>\n",
       "      <td>...</td>\n",
       "    </tr>\n",
       "    <tr>\n",
       "      <th rowspan=\"2\" valign=\"top\">42282</th>\n",
       "      <th>0</th>\n",
       "      <td>12.8</td>\n",
       "    </tr>\n",
       "    <tr>\n",
       "      <th>1</th>\n",
       "      <td>12.27</td>\n",
       "    </tr>\n",
       "    <tr>\n",
       "      <th>42316</th>\n",
       "      <th>0</th>\n",
       "      <td>65</td>\n",
       "    </tr>\n",
       "    <tr>\n",
       "      <th rowspan=\"2\" valign=\"top\">42320</th>\n",
       "      <th>0</th>\n",
       "      <td>158</td>\n",
       "    </tr>\n",
       "    <tr>\n",
       "      <th>1</th>\n",
       "      <td>159.3</td>\n",
       "    </tr>\n",
       "  </tbody>\n",
       "</table>\n",
       "<p>17285 rows × 1 columns</p>\n",
       "</div>"
      ],
      "text/plain": [
       "                 0\n",
       "      match       \n",
       "13    1      159.1\n",
       "14    0         24\n",
       "      1      159.1\n",
       "      4        819\n",
       "22    0        2.1\n",
       "...            ...\n",
       "42282 0       12.8\n",
       "      1      12.27\n",
       "42316 0         65\n",
       "42320 0        158\n",
       "      1      159.3\n",
       "\n",
       "[17285 rows x 1 columns]"
      ]
     },
     "execution_count": 345,
     "metadata": {},
     "output_type": "execute_result"
    }
   ],
   "source": [
    "answ_art_num"
   ]
  },
  {
   "cell_type": "markdown",
   "id": "386f7a41",
   "metadata": {},
   "source": [
    "### Extract codes name for each number of article"
   ]
  },
  {
   "cell_type": "markdown",
   "id": "637dcf04",
   "metadata": {},
   "source": [
    "And now we should relate the codes names and number of article at each answer. But now we should check `left_count` left_words, because codes name writes before number of article\n",
    "\n",
    "Let's do it, using check article name's in first `left_count` before number of article\n",
    "\n",
    "Algorithm:\n",
    "\n",
    "1. For each text of answer with article number we create regular expression which will extract right words with this number. (we can't create regex which fits for all texts, because texts contains dates, numbers of numbered lists)\n",
    "\n",
    "2. With using function `pandas.DataFrame.apply` obtain words and return np.arrays with this left words"
   ]
  },
  {
   "cell_type": "code",
   "execution_count": 429,
   "id": "e0217c04",
   "metadata": {},
   "outputs": [],
   "source": [
    "left_count = 6\n",
    "answ_regex = '('+'(( |,|;|:)[а-я\\d.]*)' + '{' + ',' + str(left_count) + '}'+answ_art_num[0] + ')'"
   ]
  },
  {
   "cell_type": "code",
   "execution_count": 430,
   "id": "008a08bc",
   "metadata": {},
   "outputs": [
    {
     "data": {
      "text/plain": [
       "       match\n",
       "13     1        ((( |,|;|:)[а-я\\d.]*){,6}159.1)\n",
       "14     0           ((( |,|;|:)[а-я\\d.]*){,6}24)\n",
       "       1        ((( |,|;|:)[а-я\\d.]*){,6}159.1)\n",
       "       4          ((( |,|;|:)[а-я\\d.]*){,6}819)\n",
       "22     0          ((( |,|;|:)[а-я\\d.]*){,6}2.1)\n",
       "                             ...               \n",
       "42282  0         ((( |,|;|:)[а-я\\d.]*){,6}12.8)\n",
       "       1        ((( |,|;|:)[а-я\\d.]*){,6}12.27)\n",
       "42316  0           ((( |,|;|:)[а-я\\d.]*){,6}65)\n",
       "42320  0          ((( |,|;|:)[а-я\\d.]*){,6}158)\n",
       "       1        ((( |,|;|:)[а-я\\d.]*){,6}159.3)\n",
       "Name: 0, Length: 17285, dtype: string"
      ]
     },
     "execution_count": 430,
     "metadata": {},
     "output_type": "execute_result"
    }
   ],
   "source": [
    "answ_regex"
   ]
  },
  {
   "cell_type": "code",
   "execution_count": 431,
   "id": "ce072731",
   "metadata": {},
   "outputs": [],
   "source": [
    "answ_art['AnswerId'] = answ_art.index"
   ]
  },
  {
   "cell_type": "code",
   "execution_count": 517,
   "id": "743887f0",
   "metadata": {},
   "outputs": [],
   "source": [
    "def obtain_left_words_before_number(x):\n",
    "    key_val, key_id, key_qid = 'ArtString', 'AnswerId', 'QuestionId'\n",
    "    \n",
    "    idx = x[key_id]\n",
    "    text = x[target]\n",
    "    qidx = x[key_qid]\n",
    "    \n",
    "    cleaned_sub_art = {key_val: [], key_id: [], key_qid: []}\n",
    "    if idx in answ_regex.index:\n",
    "        regex_for_art = answ_regex.loc[idx]\n",
    "        for sidx in regex_for_art.index:\n",
    "            reg_expr = regex_for_art.loc[sidx]\n",
    "            cleaned_str = re.search(reg_expr, text)[0].strip()\n",
    "            cleaned_sub_art[key_val].append(cleaned_str)\n",
    "            cleaned_sub_art[key_id].append(idx)\n",
    "            cleaned_sub_art[key_qid].append(qidx)\n",
    "    return pd.DataFrame(cleaned_sub_art).astype({key_id:int, key_qid:int})\n",
    "\n",
    "def creat_df_left_words(df):\n",
    "    df_left_words = None\n",
    "    for idx in df.index:\n",
    "        part_left_words = obtain_left_words_before_number(df.loc[idx])\n",
    "        df_left_words = pd.concat([df_left_words, part_left_words])\n",
    "    return df_left_words"
   ]
  },
  {
   "cell_type": "code",
   "execution_count": 518,
   "id": "8db9999f",
   "metadata": {},
   "outputs": [],
   "source": [
    "answ_art_short = answ_art[[target, 'AnswerId', 'QuestionId']].copy()"
   ]
  },
  {
   "cell_type": "code",
   "execution_count": 538,
   "id": "954d8b9b",
   "metadata": {},
   "outputs": [],
   "source": [
    "art_left_words = creat_df_left_words(answ_art_short)"
   ]
  },
  {
   "cell_type": "code",
   "execution_count": 549,
   "id": "7163ead1",
   "metadata": {},
   "outputs": [],
   "source": [
    "art_left_words.index = range(0, art_left_words.shape[0])"
   ]
  },
  {
   "cell_type": "code",
   "execution_count": 550,
   "id": "18e8f4f8",
   "metadata": {},
   "outputs": [
    {
     "data": {
      "text/html": [
       "<div>\n",
       "<style scoped>\n",
       "    .dataframe tbody tr th:only-of-type {\n",
       "        vertical-align: middle;\n",
       "    }\n",
       "\n",
       "    .dataframe tbody tr th {\n",
       "        vertical-align: top;\n",
       "    }\n",
       "\n",
       "    .dataframe thead th {\n",
       "        text-align: right;\n",
       "    }\n",
       "</style>\n",
       "<table border=\"1\" class=\"dataframe\">\n",
       "  <thead>\n",
       "    <tr style=\"text-align: right;\">\n",
       "      <th></th>\n",
       "      <th>ArtString</th>\n",
       "      <th>AnswerId</th>\n",
       "      <th>QuestionId</th>\n",
       "    </tr>\n",
       "  </thead>\n",
       "  <tbody>\n",
       "    <tr>\n",
       "      <th>0</th>\n",
       "      <td>ук рф статья 159.1</td>\n",
       "      <td>13</td>\n",
       "      <td>176804</td>\n",
       "    </tr>\n",
       "    <tr>\n",
       "      <th>1</th>\n",
       "      <td>упк рф статья 24</td>\n",
       "      <td>14</td>\n",
       "      <td>176804</td>\n",
       "    </tr>\n",
       "    <tr>\n",
       "      <th>2</th>\n",
       "      <td>, подлежат квалификации по статье 159.1</td>\n",
       "      <td>14</td>\n",
       "      <td>176804</td>\n",
       "    </tr>\n",
       "    <tr>\n",
       "      <th>3</th>\n",
       "      <td>819</td>\n",
       "      <td>14</td>\n",
       "      <td>176804</td>\n",
       "    </tr>\n",
       "    <tr>\n",
       "      <th>4</th>\n",
       "      <td>из уголовного права. согласно ст. 2.1</td>\n",
       "      <td>22</td>\n",
       "      <td>176802</td>\n",
       "    </tr>\n",
       "    <tr>\n",
       "      <th>...</th>\n",
       "      <td>...</td>\n",
       "      <td>...</td>\n",
       "      <td>...</td>\n",
       "    </tr>\n",
       "    <tr>\n",
       "      <th>17280</th>\n",
       "      <td>1, 4 ст. 12.8</td>\n",
       "      <td>42282</td>\n",
       "      <td>167259</td>\n",
       "    </tr>\n",
       "    <tr>\n",
       "      <th>17281</th>\n",
       "      <td>12.26, ч. 3 ст. 12.27</td>\n",
       "      <td>42282</td>\n",
       "      <td>167259</td>\n",
       "    </tr>\n",
       "    <tr>\n",
       "      <th>17282</th>\n",
       "      <td>ребенка.  ск рф статья 65</td>\n",
       "      <td>42316</td>\n",
       "      <td>167245</td>\n",
       "    </tr>\n",
       "    <tr>\n",
       "      <th>17283</th>\n",
       "      <td>своем.  ук рф статья 158</td>\n",
       "      <td>42320</td>\n",
       "      <td>167243</td>\n",
       "    </tr>\n",
       "    <tr>\n",
       "      <th>17284</th>\n",
       "      <td>признаков преступления, предусмотренного стать...</td>\n",
       "      <td>42320</td>\n",
       "      <td>167243</td>\n",
       "    </tr>\n",
       "  </tbody>\n",
       "</table>\n",
       "<p>17285 rows × 3 columns</p>\n",
       "</div>"
      ],
      "text/plain": [
       "                                               ArtString  AnswerId  QuestionId\n",
       "0                                     ук рф статья 159.1        13      176804\n",
       "1                                       упк рф статья 24        14      176804\n",
       "2                , подлежат квалификации по статье 159.1        14      176804\n",
       "3                                                    819        14      176804\n",
       "4                  из уголовного права. согласно ст. 2.1        22      176802\n",
       "...                                                  ...       ...         ...\n",
       "17280                                      1, 4 ст. 12.8     42282      167259\n",
       "17281                              12.26, ч. 3 ст. 12.27     42282      167259\n",
       "17282                          ребенка.  ск рф статья 65     42316      167245\n",
       "17283                           своем.  ук рф статья 158     42320      167243\n",
       "17284  признаков преступления, предусмотренного стать...     42320      167243\n",
       "\n",
       "[17285 rows x 3 columns]"
      ]
     },
     "execution_count": 550,
     "metadata": {},
     "output_type": "execute_result"
    }
   ],
   "source": [
    "art_left_words"
   ]
  },
  {
   "cell_type": "code",
   "execution_count": 551,
   "id": "4dcf49b1",
   "metadata": {},
   "outputs": [
    {
     "data": {
      "text/plain": [
       "'здравствуйте!  расскажите мне пожалуйста детали и что в таком случае делать.  вам нужно явиться по вызову правоохранительных органов и дать необходимые объяснения. если в ваших действиях при взятии кредита не было мошеннических действий, то последует отказ в возбуждении уголовного дела.   упк рф статья 24. основания отказа в возбуждении уголовного дела или прекращения уголовного дела  1. уголовное дело не может быть возбуждено, а возбужденное уголовное дело подлежит прекращению по следующим основаниям:  1) отсутствие события преступления;  2) отсутствие в деянии состава преступления.  постановление пленума верховного суда рф от 30.11.2017 n 48 \"о судебной практике по делам о мошенничестве, присвоении и растрате\"  13. действия заемщика, состоящие в получении наличных либо безналичных денежных средств путем представления банку или иному кредитору заведомо ложных и (или) недостоверных сведений с целью безвозмездного обращения денежных средств в свою пользу или в пользу третьих лиц при заведомом отсутствии у него намерения возвратить их в соответствии с требованиями договора, подлежат квалификации по статье 159.1 ук рф.  для целей статьи 159.1 ук рф заемщиком признается лицо, обратившееся к кредитору с намерением получить, получающее или получившее кредит в виде денежных средств от своего имени или от имени представляемого им на законных основаниях юридического лица.  по смыслу закона кредитором в статье 159.1 ук рф может являться банк или иная кредитная организация, обладающая правом заключения кредитного договора (статья 819 гражданского кодекса российской федерации).  обман при совершении мошенничества в сфере кредитования заключается в представлении кредитору заведомо ложных или недостоверных сведений об обстоятельствах, наличие которых предусмотрено кредитором в качестве условия для предоставления кредита (например, сведения о месте работы, доходах, финансовом состоянии индивидуального предпринимателя или организации, наличии непогашенной кредиторской задолженности, об имуществе, являющемся предметом залога).   отказ в возбуждении уголовного дела не лишает кредитора возможности обратиться в суд для взыскания задолженности в порядке гражданского судопроизводства.'"
      ]
     },
     "execution_count": 551,
     "metadata": {},
     "output_type": "execute_result"
    }
   ],
   "source": [
    "answ_art.loc[14].Text"
   ]
  },
  {
   "cell_type": "code",
   "execution_count": 552,
   "id": "3b71bc15",
   "metadata": {},
   "outputs": [
    {
     "data": {
      "text/plain": [
       "re.compile(r'(апк рф|бк рф|вк рф|гпк рф|жк рф|зк рф|кас рф|лк рф|ск рф|тк еаэс|тк тс|тк рф|уик рф|упк рф|ук рф|зозпп|ао|ооо|осаго|пдд|пд)',\n",
       "           re.UNICODE)"
      ]
     },
     "execution_count": 552,
     "metadata": {},
     "output_type": "execute_result"
    }
   ],
   "source": [
    "re_short_codes_ptr = re.compile(short_codes_ptr.lower())\n",
    "re_short_codes_ptr"
   ]
  },
  {
   "cell_type": "markdown",
   "id": "1c7e7667",
   "metadata": {},
   "source": [
    "## Другой подход к получению нужных статей\n",
    "Давайте подойдем с другой стороны.\n",
    "Так как на данный момент датасет не очень большой, то для того, чтобы получить статьи и кодексы, можно сделать следующее:\n",
    "\n",
    "1. Приведем все слова в тексте в нормальную форму\n",
    "2. Далее, будем искать в тексте не только аббревиатуры, но и полные названия кодексов. Т.к. все слова в нормальной форме, единственном числе, именительном падеже, то, скорее всего, мы найдем их больше.\n",
    "    1. Проблема может возникнуть в том, что мы не будем знать, где будет упомянут номер статьи, после кодекса или перед кодексом. Так как есть пример \"в статье 132 ук рф\" и \"УК РФ статья 132\". Но а там, мы уже можем смотреть на левый и правый контекст и пытаться получить оттуда номер, надеясь, что он там нормальный\n",
    "3. Далее ищем номера статей, которые не так далеко лежат от названий кодексов"
   ]
  },
  {
   "cell_type": "markdown",
   "id": "8aa7f813",
   "metadata": {},
   "source": [
    "### 1. Приведем все слова в тексте в нормальную форму "
   ]
  },
  {
   "cell_type": "code",
   "execution_count": 94,
   "id": "599d53c2",
   "metadata": {},
   "outputs": [],
   "source": [
    "reload(snlp)\n",
    "reload(spdf)\n",
    "pass"
   ]
  },
  {
   "cell_type": "code",
   "execution_count": 35,
   "id": "b11e93ba",
   "metadata": {},
   "outputs": [],
   "source": [
    "from tqdm import tqdm"
   ]
  },
  {
   "cell_type": "code",
   "execution_count": 99,
   "id": "2d4e4365",
   "metadata": {},
   "outputs": [
    {
     "name": "stderr",
     "output_type": "stream",
     "text": [
      "100%|███████████████████████████████████| 42317/42317 [1:47:03<00:00,  6.59it/s]\n"
     ]
    }
   ],
   "source": [
    "tqdm.pandas()\n",
    "norm_apply = spdf.dec_df_apply(snlp.text_norm, target = 'Text')\n",
    "norm_answers = answers.progress_apply(norm_apply, axis = 1)"
   ]
  },
  {
   "cell_type": "code",
   "execution_count": 100,
   "id": "724bcfd3",
   "metadata": {},
   "outputs": [],
   "source": [
    "norm_answers.to_csv('norm_answers.csv')"
   ]
  },
  {
   "cell_type": "code",
   "execution_count": 101,
   "id": "98795674",
   "metadata": {},
   "outputs": [
    {
     "data": {
      "text/html": [
       "<div>\n",
       "<style scoped>\n",
       "    .dataframe tbody tr th:only-of-type {\n",
       "        vertical-align: middle;\n",
       "    }\n",
       "\n",
       "    .dataframe tbody tr th {\n",
       "        vertical-align: top;\n",
       "    }\n",
       "\n",
       "    .dataframe thead th {\n",
       "        text-align: right;\n",
       "    }\n",
       "</style>\n",
       "<table border=\"1\" class=\"dataframe\">\n",
       "  <thead>\n",
       "    <tr style=\"text-align: right;\">\n",
       "      <th></th>\n",
       "      <th>Rating</th>\n",
       "      <th>Name</th>\n",
       "      <th>Text</th>\n",
       "      <th>Datetime</th>\n",
       "      <th>QuestionId</th>\n",
       "    </tr>\n",
       "  </thead>\n",
       "  <tbody>\n",
       "    <tr>\n",
       "      <th>0</th>\n",
       "      <td>4</td>\n",
       "      <td>Мурашко Владимир</td>\n",
       "      <td>здравствуйте ! банк не смочь оспаривать догово...</td>\n",
       "      <td>30.01.2023 19:41:49</td>\n",
       "      <td>176810</td>\n",
       "    </tr>\n",
       "    <tr>\n",
       "      <th>1</th>\n",
       "      <td>5</td>\n",
       "      <td>Полникова Марина Николаевна</td>\n",
       "      <td>здравствуйте ! подсказать пожалуйста мочь ли б...</td>\n",
       "      <td>31.01.2023 10:14:53</td>\n",
       "      <td>176810</td>\n",
       "    </tr>\n",
       "    <tr>\n",
       "      <th>2</th>\n",
       "      <td>2</td>\n",
       "      <td>Охотников Кирилл Сергеевич</td>\n",
       "      <td>дарение кто -либо кредит очень не частый в юри...</td>\n",
       "      <td>31.01.2023 10:40:14</td>\n",
       "      <td>176810</td>\n",
       "    </tr>\n",
       "    <tr>\n",
       "      <th>3</th>\n",
       "      <td>4</td>\n",
       "      <td>Алексей Владимирович</td>\n",
       "      <td>здравствуйте , руслан ! да , быть . если вы по...</td>\n",
       "      <td>30.01.2023 22:15:44</td>\n",
       "      <td>176809</td>\n",
       "    </tr>\n",
       "    <tr>\n",
       "      <th>4</th>\n",
       "      <td>1</td>\n",
       "      <td>Елена Михайловна</td>\n",
       "      <td>руслан , здравствуйте ! первый дело посмотреть...</td>\n",
       "      <td>31.01.2023 07:04:49</td>\n",
       "      <td>176809</td>\n",
       "    </tr>\n",
       "    <tr>\n",
       "      <th>...</th>\n",
       "      <td>...</td>\n",
       "      <td>...</td>\n",
       "      <td>...</td>\n",
       "      <td>...</td>\n",
       "      <td>...</td>\n",
       "    </tr>\n",
       "    <tr>\n",
       "      <th>42319</th>\n",
       "      <td>4</td>\n",
       "      <td>Алексей Владимирович</td>\n",
       "      <td>здравствуйте , алёна ! пока вы находиться в от...</td>\n",
       "      <td>01.07.2020 10:39:46</td>\n",
       "      <td>167244</td>\n",
       "    </tr>\n",
       "    <tr>\n",
       "      <th>42320</th>\n",
       "      <td>3</td>\n",
       "      <td>Марина Олеговна</td>\n",
       "      <td>здравствуйте к сожаление мочь быть всякий . но...</td>\n",
       "      <td>01.07.2020 01:43:15</td>\n",
       "      <td>167243</td>\n",
       "    </tr>\n",
       "    <tr>\n",
       "      <th>42321</th>\n",
       "      <td>5</td>\n",
       "      <td>Роза Мударисовна</td>\n",
       "      <td>здравствуйте если вы не знать , что это чужой ...</td>\n",
       "      <td>01.07.2020 09:19:57</td>\n",
       "      <td>167243</td>\n",
       "    </tr>\n",
       "    <tr>\n",
       "      <th>42322</th>\n",
       "      <td>3</td>\n",
       "      <td>Попов Игорь Олегович</td>\n",
       "      <td>всё мочь быть . это позиция обвинение . у вы п...</td>\n",
       "      <td>06.07.2020 22:57:17</td>\n",
       "      <td>167243</td>\n",
       "    </tr>\n",
       "    <tr>\n",
       "      <th>42323</th>\n",
       "      <td>4</td>\n",
       "      <td>Алексей Владимирович</td>\n",
       "      <td>здравствуйте , ян ! в данный случай советовать...</td>\n",
       "      <td>01.07.2020 10:45:48</td>\n",
       "      <td>167242</td>\n",
       "    </tr>\n",
       "  </tbody>\n",
       "</table>\n",
       "<p>42317 rows × 5 columns</p>\n",
       "</div>"
      ],
      "text/plain": [
       "       Rating                         Name  \\\n",
       "0           4             Мурашко Владимир   \n",
       "1           5  Полникова Марина Николаевна   \n",
       "2           2   Охотников Кирилл Сергеевич   \n",
       "3           4         Алексей Владимирович   \n",
       "4           1             Елена Михайловна   \n",
       "...       ...                          ...   \n",
       "42319       4         Алексей Владимирович   \n",
       "42320       3              Марина Олеговна   \n",
       "42321       5             Роза Мударисовна   \n",
       "42322       3         Попов Игорь Олегович   \n",
       "42323       4         Алексей Владимирович   \n",
       "\n",
       "                                                    Text             Datetime  \\\n",
       "0      здравствуйте ! банк не смочь оспаривать догово...  30.01.2023 19:41:49   \n",
       "1      здравствуйте ! подсказать пожалуйста мочь ли б...  31.01.2023 10:14:53   \n",
       "2      дарение кто -либо кредит очень не частый в юри...  31.01.2023 10:40:14   \n",
       "3      здравствуйте , руслан ! да , быть . если вы по...  30.01.2023 22:15:44   \n",
       "4      руслан , здравствуйте ! первый дело посмотреть...  31.01.2023 07:04:49   \n",
       "...                                                  ...                  ...   \n",
       "42319  здравствуйте , алёна ! пока вы находиться в от...  01.07.2020 10:39:46   \n",
       "42320  здравствуйте к сожаление мочь быть всякий . но...  01.07.2020 01:43:15   \n",
       "42321  здравствуйте если вы не знать , что это чужой ...  01.07.2020 09:19:57   \n",
       "42322  всё мочь быть . это позиция обвинение . у вы п...  06.07.2020 22:57:17   \n",
       "42323  здравствуйте , ян ! в данный случай советовать...  01.07.2020 10:45:48   \n",
       "\n",
       "       QuestionId  \n",
       "0          176810  \n",
       "1          176810  \n",
       "2          176810  \n",
       "3          176809  \n",
       "4          176809  \n",
       "...           ...  \n",
       "42319      167244  \n",
       "42320      167243  \n",
       "42321      167243  \n",
       "42322      167243  \n",
       "42323      167242  \n",
       "\n",
       "[42317 rows x 5 columns]"
      ]
     },
     "execution_count": 101,
     "metadata": {},
     "output_type": "execute_result"
    }
   ],
   "source": [
    "norm_answers"
   ]
  },
  {
   "cell_type": "markdown",
   "id": "a0891a29",
   "metadata": {},
   "source": [
    "С другой стороны можно было бы это сделать по-другому, предприняв подход, который был использован до этого:\n",
    "1. Создать регулярки с разными формами и сочитаниями слов кодексов и статей (8*21=168, часть из них не очень корректны, поэтому нужно было бы либо сидеть и ручками размечать, какие пары могут сочитаться, какие нет, где слово обозначающее статью перед кодексом, а где после)"
   ]
  },
  {
   "cell_type": "markdown",
   "id": "690f732a",
   "metadata": {},
   "source": [
    "Во-первых, нормализованные строки могут содержать статью и кодекс в следующем виде:\n",
    "1. `статья {число} {кодекс}`\n",
    "2. `{кодекс} статья {число}`\n",
    "3. `статья {число} {имя статьи} {кодекс}`\n",
    "\n",
    "Как мне кажется, юристы часто пишут именно так, хотя, возможно, может быть такое написание:\n",
    "1. `эта статья {номер}, регулирующая {текст}, {кодекс}`"
   ]
  },
  {
   "cell_type": "markdown",
   "id": "de222419",
   "metadata": {},
   "source": [
    "## 2. Найдём названия кодексов совместно с номером статей"
   ]
  },
  {
   "cell_type": "code",
   "execution_count": 20,
   "id": "0a3efb28",
   "metadata": {},
   "outputs": [],
   "source": [
    "target = 'Text'"
   ]
  },
  {
   "cell_type": "code",
   "execution_count": 25,
   "id": "0815e6f3",
   "metadata": {},
   "outputs": [],
   "source": [
    "reload(snlp)\n",
    "pass"
   ]
  },
  {
   "cell_type": "code",
   "execution_count": 21,
   "id": "1cc71ca3",
   "metadata": {
    "scrolled": true
   },
   "outputs": [
    {
     "name": "stdout",
     "output_type": "stream",
     "text": [
      "['конституция', 'кодекс', 'закон\\\\ ,\\\\ нормативный\\\\ акт\\\\ ,\\\\ справочный\\\\ материал', 'конституция\\\\ российский\\\\ федерация', 'арбитражный\\\\ процессуальный\\\\ кодекс\\\\ российский\\\\ федерация', 'бюджетный\\\\ кодекс\\\\ российский\\\\ федерация', 'водный\\\\ кодекс\\\\ российский\\\\ федерация', 'воздушный\\\\ кодекс\\\\ российский\\\\ федерация', 'градостроительный\\\\ кодекс\\\\ российский\\\\ федерация', 'гражданский\\\\ кодекс\\\\ российский\\\\ федерация\\\\ \\\\-\\\\ часть\\\\ первый', 'гражданский\\\\ кодекс\\\\ российский\\\\ федерация\\\\ \\\\-\\\\ часть\\\\ второй', 'гражданский\\\\ кодекс\\\\ российский\\\\ федерация\\\\ \\\\-\\\\ часть\\\\ третий', 'гражданский\\\\ кодекс\\\\ российский\\\\ федерация\\\\ \\\\-\\\\ часть\\\\ четвёртый', 'гражданский\\\\ процессуальный\\\\ кодекс\\\\ российский\\\\ федерация', 'жилищный\\\\ кодекс\\\\ российский\\\\ федерация', 'земельный\\\\ кодекс\\\\ российский\\\\ федерация', 'кодекс\\\\ административный\\\\ судопроизводство\\\\ российский\\\\ федерация', 'кодекс\\\\ закон\\\\ о\\\\ труд', 'трудовой\\\\ кодекс\\\\ российский\\\\ федерация', 'кодекс\\\\ российский\\\\ федерация\\\\ о\\\\ административный\\\\ правонарушение', 'лесной\\\\ кодекс\\\\ российский\\\\ федерация', 'налоговый\\\\ кодекс\\\\ российский\\\\ федерация\\\\ \\\\-\\\\ часть\\\\ первый', 'налоговый\\\\ кодекс\\\\ российский\\\\ федерация\\\\ \\\\-\\\\ часть\\\\ второй', 'семейный\\\\ кодекс\\\\ российский\\\\ федерация', 'таможенный\\\\ кодекс\\\\ евразийский\\\\ экономический\\\\ союз', 'таможенный\\\\ кодекс\\\\ таможенный\\\\ союз', 'таможенный\\\\ кодекс\\\\ евразийский\\\\ экономический\\\\ союз', 'трудовой\\\\ кодекс\\\\ российский\\\\ федерация', 'уголовно\\\\-исполнительный\\\\ кодекс\\\\ российский\\\\ федерация', 'уголовно\\\\-процессуальный\\\\ кодекс\\\\ российский\\\\ федерация', 'уголовный\\\\ кодекс\\\\ российский\\\\ федерация', 'закон\\\\ рф\\\\ \"\\\\ о\\\\ защита\\\\ право\\\\ потребитель\\\\ \"', 'закон\\\\ рф\\\\ \"\\\\ о\\\\ налог\\\\ на\\\\ имущество\\\\ физический\\\\ лицо\\\\ \"\\\\ n\\\\ 2003\\\\-1', 'нк\\\\ рф\\\\ ч\\\\ \\\\.\\\\ 2\\\\ глава\\\\ 32\\\\ \\\\.\\\\ налог\\\\ на\\\\ имущество\\\\ физический\\\\ лицо', 'закон\\\\ рф\\\\ \"\\\\ о\\\\ недра\\\\ \"\\\\ n\\\\ 2395\\\\-1', 'закон\\\\ рф\\\\ \"\\\\ о\\\\ приватизация\\\\ жилищный\\\\ фонд\\\\ в\\\\ российский\\\\ федерация\\\\ \"\\\\ n\\\\ 1541\\\\-1', 'закон\\\\ рф\\\\ \"\\\\ о\\\\ средство\\\\ массовый\\\\ информация\\\\ \"', 'закон\\\\ рф\\\\ \"\\\\ о\\\\ авторский\\\\ право\\\\ и\\\\ смежный\\\\ право\\\\ \"\\\\ n\\\\ 5351\\\\-1', 'гк\\\\ рф\\\\ ч\\\\ \\\\.\\\\ 4\\\\ глава\\\\ 70\\\\ \\\\.\\\\ авторский\\\\ право', 'федеральный\\\\ закон\\\\ \"\\\\ о\\\\ банк\\\\ и\\\\ банковский\\\\ деятельность\\\\ \"\\\\ n\\\\ 395\\\\-1', 'федеральный\\\\ закон\\\\ \"\\\\ о\\\\ бесплатный\\\\ юридический\\\\ помощь\\\\ в\\\\ российский\\\\ федерация\\\\ \"\\\\ n\\\\ 324\\\\-фз', 'федеральный\\\\ закон\\\\ \"\\\\ о\\\\ бухгалтерский\\\\ учёт\\\\ \"\\\\ n\\\\ 402\\\\-фз', 'федеральный\\\\ закон\\\\ \"\\\\ о\\\\ валютный\\\\ регулирование\\\\ и\\\\ валютный\\\\ контроль\\\\ \"\\\\ n\\\\ 173\\\\-фз', 'федеральный\\\\ закон\\\\ \"\\\\ о\\\\ ведомственный\\\\ охрана\\\\ \"\\\\ n\\\\ 77\\\\-фз', 'федеральный\\\\ закон\\\\ \"\\\\ о\\\\ ветеран\\\\ \"\\\\ n\\\\ 5\\\\-фз', 'федеральный\\\\ закон\\\\ \"\\\\ о\\\\ внесение\\\\ изменение\\\\ в\\\\ отдельный\\\\ законодательный\\\\ акт\\\\ российский\\\\ федерация\\\\ в\\\\ связь\\\\ с\\\\ совершенствование\\\\ принцип\\\\ определение\\\\ цена\\\\ для\\\\ цель\\\\ налогообложение\\\\ \"\\\\ n\\\\ 227\\\\-фз', 'федеральный\\\\ закон\\\\ \"\\\\ о\\\\ воинский\\\\ обязанность\\\\ и\\\\ военный\\\\ служба\\\\ \"\\\\ n\\\\ 53\\\\-фз', 'федеральный\\\\ закон\\\\ \"\\\\ о\\\\ войско\\\\ национальный\\\\ гвардия\\\\ российский\\\\ федерация\\\\ \"\\\\ n\\\\ 226\\\\-фз', 'федеральный\\\\ закон\\\\ \"\\\\ о\\\\ государственный\\\\ регистрация\\\\ юридический\\\\ лицо\\\\ и\\\\ индивидуальный\\\\ предприниматель\\\\ \"\\\\ n\\\\ 129\\\\-фз', 'федеральный\\\\ закон\\\\ \"\\\\ о\\\\ государственный\\\\ регистрация\\\\ недвижимость\\\\ \"\\\\ n\\\\ 218\\\\-фз', 'федеральный\\\\ закон\\\\ \"\\\\ о\\\\ государственный\\\\ регистрация\\\\ транспортный\\\\ средство\\\\ в\\\\ российский\\\\ федерация\\\\ и\\\\ о\\\\ внесение\\\\ изменение\\\\ в\\\\ отдельный\\\\ законодательный\\\\ акт\\\\ российский\\\\ федерация\\\\ \"\\\\ n\\\\ 283\\\\-фз', 'федеральный\\\\ закон\\\\ \"\\\\ о\\\\ государственный\\\\ регулирование\\\\ производство\\\\ и\\\\ оборот\\\\ этиловый\\\\ спирт\\\\ ,\\\\ алкогольный\\\\ и\\\\ спиртосодержащий\\\\ продукция\\\\ и\\\\ о\\\\ ограничение\\\\ потребление', 'федеральный\\\\ закон\\\\ от\\\\ 31\\\\.07\\\\.2020\\\\ n\\\\ 248\\\\-фз\\\\ \"\\\\ о\\\\ государственный\\\\ контроль', 'федеральный\\\\ закон\\\\ от\\\\ 08\\\\.12\\\\.2020\\\\ n\\\\ 394\\\\-фз\\\\ \"\\\\ о\\\\ государственный\\\\ совет\\\\ российский\\\\ федерация\\\\ \"', 'федеральный\\\\ закон\\\\ \"\\\\ о\\\\ государственный\\\\ пособие\\\\ гражданин\\\\ ,\\\\ иметь\\\\ ребёнок\\\\ \"\\\\ n\\\\ 81\\\\-фз', 'федеральный\\\\ закон\\\\ \"\\\\ о\\\\ гражданство\\\\ российский\\\\ федерация\\\\ \"\\\\ n\\\\ 62\\\\-фз', 'федеральный\\\\ закон\\\\ \"\\\\ о\\\\ ежемесячный\\\\ выплата\\\\ семья\\\\ ,\\\\ иметь\\\\ ребёнок\\\\ \"\\\\ n\\\\ 418\\\\-фз', 'федеральный\\\\ закон\\\\ \"\\\\ о\\\\ концессионный\\\\ соглашение\\\\ \"\\\\ n\\\\ 115\\\\-фз', 'федеральный\\\\ закон\\\\ \"\\\\ о\\\\ лицензирование\\\\ отдельный\\\\ вид\\\\ деятельность\\\\ \"\\\\ n\\\\ 99\\\\-фз', 'федеральный\\\\ закон\\\\ \"\\\\ о\\\\ некоммерческий\\\\ организация\\\\ \"\\\\ n\\\\ 7\\\\-фз', 'федеральный\\\\ закон\\\\ \"\\\\ о\\\\ несостоятельность', 'федеральный\\\\ закон\\\\ \"\\\\ о\\\\ персональный\\\\ данные\\\\ \"\\\\ n\\\\ 152\\\\-фз', 'федеральный\\\\ закон\\\\ \"\\\\ о\\\\ пожарный\\\\ безопасность\\\\ \"\\\\ n\\\\ 69\\\\-фз', 'федеральный\\\\ закон\\\\ \"\\\\ о\\\\ полиция\\\\ \"\\\\ n\\\\ 3\\\\-фз', 'федеральный\\\\ закон\\\\ \"\\\\ о\\\\ правовой\\\\ положение\\\\ иностранный\\\\ гражданин\\\\ в\\\\ российский\\\\ федерация\\\\ \"\\\\ n\\\\ 115\\\\-фз', 'федеральный\\\\ закон\\\\ \"\\\\ о\\\\ прокуратура\\\\ российский\\\\ федерация\\\\ \"\\\\ n\\\\ 2202\\\\-1\\\\-фз', 'федеральный\\\\ закон\\\\ \"\\\\ о\\\\ противодействие\\\\ легализация', 'федеральный\\\\ закон\\\\ \"\\\\ о\\\\ развитие\\\\ малое\\\\ и\\\\ среднее\\\\ предпринимательство\\\\ в\\\\ российский\\\\ федерация\\\\ \"\\\\ n\\\\ 209\\\\-фз', 'федеральный\\\\ закон\\\\ \"\\\\ о\\\\ контрактный\\\\ система\\\\ в\\\\ сфера\\\\ закупка\\\\ товар\\\\ ,\\\\ работа\\\\ ,\\\\ услуга\\\\ для\\\\ обеспечение\\\\ государственный\\\\ и\\\\ муниципальный\\\\ нужда\\\\ \"\\\\ n\\\\ 44\\\\-фз', 'федеральный\\\\ закон\\\\ \"\\\\ о\\\\ реклама\\\\ \"\\\\ n\\\\ 38\\\\-фз', 'федеральный\\\\ закон\\\\ \"\\\\ о\\\\ рынок\\\\ ценный\\\\ бумага\\\\ \"\\\\ n\\\\ 39\\\\-фз', 'федеральный\\\\ закон\\\\ \"\\\\ о\\\\ связь\\\\ \"\\\\ n\\\\ 126\\\\-фз', 'федеральный\\\\ закон\\\\ \"\\\\ о\\\\ система\\\\ государственный\\\\ служба\\\\ российский\\\\ федерация\\\\ \"\\\\ n\\\\ 58\\\\-фз', 'федеральный\\\\ закон\\\\ от\\\\ 20\\\\.07\\\\.2020\\\\ n\\\\ 211\\\\-фз\\\\ \"\\\\ о\\\\ совершение\\\\ финансовый\\\\ сделка\\\\ с\\\\ использование\\\\ финансовый\\\\ платформа\\\\ \"', 'федеральный\\\\ закон\\\\ \"\\\\ о\\\\ стандартизация\\\\ в\\\\ российский\\\\ федерация\\\\ \"\\\\ n\\\\ 162\\\\-фз', 'федеральный\\\\ закон\\\\ \"\\\\ о\\\\ статус\\\\ военнослужащий\\\\ \"\\\\ n\\\\ 76\\\\-фз', 'федеральный\\\\ закон\\\\ \"\\\\ о\\\\ стратегический\\\\ планирование\\\\ в\\\\ российский\\\\ федерация\\\\ \"\\\\ n\\\\ 172\\\\-фз', 'федеральный\\\\ закон\\\\ \"\\\\ о\\\\ страхование\\\\ вклад\\\\ физический\\\\ лицо\\\\ в\\\\ банк\\\\ российский\\\\ федерация\\\\ \"\\\\ n\\\\ 177\\\\-фз', 'федеральный\\\\ закон\\\\ \"\\\\ о\\\\ судебный\\\\ пристав\\\\ \"\\\\ n\\\\ 118\\\\-фз', 'федеральный\\\\ закон\\\\ \"\\\\ о\\\\ таможенный\\\\ регулирование\\\\ в\\\\ российский\\\\ федерация\\\\ \"\\\\ n\\\\ 311\\\\-фз', 'федеральный\\\\ закон\\\\ \"\\\\ о\\\\ таможенный\\\\ регулирование\\\\ в\\\\ российский\\\\ федерация\\\\ и\\\\ о\\\\ внесение\\\\ изменение\\\\ в\\\\ отдельный\\\\ законодательный\\\\ акт\\\\ российский\\\\ федерация\\\\ \"\\\\ n\\\\ 289\\\\-фз', 'федеральный\\\\ закон\\\\ \"\\\\ о\\\\ технический\\\\ осмотр\\\\ транспортный\\\\ средство\\\\ и\\\\ о\\\\ внесение\\\\ изменение\\\\ в\\\\ отдельный\\\\ законодательный\\\\ акт\\\\ российский\\\\ федерация\\\\ \"\\\\ n\\\\ 170\\\\-фз', 'федеральный\\\\ закон\\\\ \"\\\\ о\\\\ технический\\\\ регулирование\\\\ \"\\\\ n\\\\ 184\\\\-фз', 'федеральный\\\\ закон\\\\ \"\\\\ о\\\\ трудовой\\\\ пенсия\\\\ в\\\\ российский\\\\ федерация\\\\ \"\\\\ n\\\\ 173\\\\-фз', 'федеральный\\\\ закон\\\\ от\\\\ 31\\\\.07\\\\.2020\\\\ n\\\\ 259\\\\-фз\\\\ \"\\\\ о\\\\ цифровой\\\\ финансовый\\\\ актив\\\\ ,\\\\ цифровой\\\\ валюта\\\\ и\\\\ о\\\\ внесение\\\\ изменение\\\\ в\\\\ отдельный\\\\ законодательный\\\\ акт\\\\ российский\\\\ федерация\\\\ \"', 'федеральный\\\\ закон\\\\ \"\\\\ о\\\\ административный\\\\ надзор\\\\ за\\\\ лицо\\\\ ,\\\\ освободить\\\\ из\\\\ место\\\\ лишение\\\\ свобода\\\\ \"\\\\ n\\\\ 64\\\\-фз', 'федеральный\\\\ закон\\\\ \"\\\\ о\\\\ акционерный\\\\ общество\\\\ \"', 'федеральный\\\\ закон\\\\ \"\\\\ о\\\\ аудиторский\\\\ деятельность\\\\ \"\\\\ n\\\\ 307\\\\-фз', 'федеральный\\\\ закон\\\\ \"\\\\ о\\\\ инвестиционный\\\\ товарищество\\\\ \"\\\\ n\\\\ 335\\\\-фз', 'федеральный\\\\ закон\\\\ \"\\\\ о\\\\ ипотека', 'федеральный\\\\ закон\\\\ \"\\\\ о\\\\ исполнительный\\\\ производство\\\\ \"\\\\ n\\\\ 229\\\\-фз', 'федеральный\\\\ закон\\\\ \"\\\\ о\\\\ образование\\\\ в\\\\ российский\\\\ федерация\\\\ \"\\\\ n\\\\ 273\\\\-фз', 'федеральный\\\\ закон\\\\ \"\\\\ о\\\\ общество\\\\ с\\\\ ограниченный\\\\ ответственность\\\\ \"', 'федеральный\\\\ закон\\\\ \"\\\\ о\\\\ общественный\\\\ объединение\\\\ \"\\\\ n\\\\ 82\\\\-фз', 'федеральный\\\\ закон\\\\ \"\\\\ о\\\\ общий\\\\ принцип\\\\ организация\\\\ местный\\\\ самоуправление\\\\ в\\\\ рф\\\\ \"', 'федеральный\\\\ закон\\\\ \"\\\\ о\\\\ обязательный\\\\ социальный\\\\ страхование\\\\ от\\\\ несчастный\\\\ случай\\\\ на\\\\ производство\\\\ и\\\\ профессиональный\\\\ заболевание\\\\ \"\\\\ n\\\\ 125\\\\-фз', 'федеральный\\\\ закон\\\\ \"\\\\ о\\\\ обязательный\\\\ страхование\\\\ гражданский\\\\ ответственность\\\\ владелец\\\\ транспортный\\\\ средство\\\\ \"', 'федеральный\\\\ закон\\\\ от\\\\ 31\\\\.07\\\\.2020\\\\ n\\\\ 247\\\\-фз\\\\ \"\\\\ о\\\\ обязательный\\\\ требование\\\\ в\\\\ российский\\\\ федерация\\\\ \"', 'федеральный\\\\ закон\\\\ \"\\\\ о\\\\ оружие\\\\ \"\\\\ n\\\\ 150\\\\-фз', 'федеральный\\\\ закон\\\\ \"\\\\ о\\\\ основа\\\\ охрана\\\\ здоровье\\\\ гражданин\\\\ в\\\\ российский\\\\ федерация\\\\ \"\\\\ n\\\\ 323\\\\-фз', 'федеральный\\\\ закон\\\\ \"\\\\ о\\\\ основа\\\\ система\\\\ профилактика\\\\ безнадзорность\\\\ и\\\\ правонарушение\\\\ несовершеннолетний\\\\ \"\\\\ n\\\\ 120\\\\-фз', 'федеральный\\\\ закон\\\\ \"\\\\ о\\\\ основа\\\\ система\\\\ профилактика\\\\ правонарушение\\\\ в\\\\ российский\\\\ федерация\\\\ \"\\\\ n\\\\ 182\\\\-фз', 'федеральный\\\\ закон\\\\ от\\\\ 01\\\\.04\\\\.2020\\\\ n\\\\ 104\\\\-фз', 'федеральный\\\\ закон\\\\ \"\\\\ о\\\\ ответственный\\\\ обращение\\\\ с\\\\ животное\\\\ и\\\\ о\\\\ внесение\\\\ изменение\\\\ в\\\\ отдельный\\\\ законодательный\\\\ акт\\\\ российский\\\\ федерация\\\\ \"\\\\ n\\\\ 498\\\\-фз', 'федеральный\\\\ закон\\\\ \"\\\\ о\\\\ охрана\\\\ окружающий\\\\ среда\\\\ \"\\\\ n\\\\ 7\\\\-фз', 'федеральный\\\\ закон\\\\ \"\\\\ о\\\\ уполномоченный\\\\ по\\\\ право\\\\ ребёнок\\\\ в\\\\ российский\\\\ федерация\\\\ \"\\\\ n\\\\ 501\\\\-фз', 'федеральный\\\\ закон\\\\ от\\\\ 31\\\\.07\\\\.2020\\\\ n\\\\ 258\\\\-фз\\\\ \"\\\\ о\\\\ экспериментальный\\\\ правовой\\\\ режим\\\\ в\\\\ сфера\\\\ цифровой\\\\ инновация\\\\ в\\\\ российский\\\\ федерация\\\\ \"', 'федеральный\\\\ конституционный\\\\ закон\\\\ от\\\\ 06\\\\.11\\\\.2020\\\\ n\\\\ 4\\\\-фкз\\\\ \"\\\\ о\\\\ правительство\\\\ российский\\\\ федерация\\\\ \"', 'постановление\\\\ правительство\\\\ рф\\\\ \"\\\\ о\\\\ правило\\\\ дорожный\\\\ движение\\\\ \"', 'постановление\\\\ правительство\\\\ рф\\\\ \"\\\\ о\\\\ проведение\\\\ технический\\\\ осмотр\\\\ транспортный\\\\ средство\\\\ \"\\\\ n\\\\ 1008', 'постановление\\\\ правительство\\\\ рф\\\\ \"\\\\ о\\\\ утверждение\\\\ правило\\\\ перевозка\\\\ груз\\\\ автомобильный\\\\ транспорт\\\\ \"\\\\ n\\\\ 272', 'приказ\\\\ минрегион\\\\ рф\\\\ \"\\\\ о\\\\ утверждение\\\\ перечень\\\\ вид\\\\ работа\\\\ по\\\\ инженерный\\\\ изыскание\\\\ ,\\\\ по\\\\ подготовка\\\\ проектный\\\\ документация\\\\ ,\\\\ по\\\\ строительство\\\\ ,\\\\ реконструкция\\\\ ,\\\\ капитальный\\\\ ремонт\\\\ объект\\\\ капитальный\\\\ строительство\\\\ ,\\\\ который\\\\ оказывать\\\\ влияние\\\\ на\\\\ безопасность\\\\ объект\\\\ капитальный\\\\ строительство\\\\ \"', 'календарь\\\\ кадровик\\\\ на\\\\ 2021\\\\ год', 'пособие\\\\ и\\\\ они\\\\ расчётный\\\\ дать\\\\ на\\\\ 2018\\\\ \\\\-\\\\ 2021\\\\ год', 'расчёт\\\\ сумма\\\\ налог\\\\ на\\\\ доход\\\\ физический\\\\ лицо\\\\ ,\\\\ исчислить\\\\ и\\\\ удержать\\\\ налоговый\\\\ агент']\n"
     ]
    }
   ],
   "source": [
    "full_codes = filter(lambda x: x, codes.Name.str.findall('([^\\(\\)]+)').values)\n",
    "full_codes = list(map(lambda x: x[0].lower(), full_codes))\n",
    "full_codes = [re.escape(snlp.text_norm(codes)) for codes in full_codes]\n",
    "print(full_codes)"
   ]
  },
  {
   "cell_type": "code",
   "execution_count": 26,
   "id": "128141e9",
   "metadata": {},
   "outputs": [],
   "source": [
    "all_codes = full_codes + short_codes\n",
    "codes_find = re.compile('(' +'|'.join(all_codes) + ')', re.IGNORECASE)"
   ]
  },
  {
   "cell_type": "code",
   "execution_count": 27,
   "id": "85393509",
   "metadata": {},
   "outputs": [
    {
     "data": {
      "text/plain": [
       "['конституция',\n",
       " 'кодекс',\n",
       " 'закон\\\\ ,\\\\ нормативный\\\\ акт\\\\ ,\\\\ справочный\\\\ материал',\n",
       " 'конституция\\\\ российский\\\\ федерация',\n",
       " 'арбитражный\\\\ процессуальный\\\\ кодекс\\\\ российский\\\\ федерация',\n",
       " 'бюджетный\\\\ кодекс\\\\ российский\\\\ федерация',\n",
       " 'водный\\\\ кодекс\\\\ российский\\\\ федерация',\n",
       " 'воздушный\\\\ кодекс\\\\ российский\\\\ федерация',\n",
       " 'градостроительный\\\\ кодекс\\\\ российский\\\\ федерация',\n",
       " 'гражданский\\\\ кодекс\\\\ российский\\\\ федерация\\\\ \\\\-\\\\ часть\\\\ первый',\n",
       " 'гражданский\\\\ кодекс\\\\ российский\\\\ федерация\\\\ \\\\-\\\\ часть\\\\ второй',\n",
       " 'гражданский\\\\ кодекс\\\\ российский\\\\ федерация\\\\ \\\\-\\\\ часть\\\\ третий',\n",
       " 'гражданский\\\\ кодекс\\\\ российский\\\\ федерация\\\\ \\\\-\\\\ часть\\\\ четвёртый',\n",
       " 'гражданский\\\\ процессуальный\\\\ кодекс\\\\ российский\\\\ федерация',\n",
       " 'жилищный\\\\ кодекс\\\\ российский\\\\ федерация',\n",
       " 'земельный\\\\ кодекс\\\\ российский\\\\ федерация',\n",
       " 'кодекс\\\\ административный\\\\ судопроизводство\\\\ российский\\\\ федерация',\n",
       " 'кодекс\\\\ закон\\\\ о\\\\ труд',\n",
       " 'трудовой\\\\ кодекс\\\\ российский\\\\ федерация',\n",
       " 'кодекс\\\\ российский\\\\ федерация\\\\ о\\\\ административный\\\\ правонарушение',\n",
       " 'лесной\\\\ кодекс\\\\ российский\\\\ федерация',\n",
       " 'налоговый\\\\ кодекс\\\\ российский\\\\ федерация\\\\ \\\\-\\\\ часть\\\\ первый',\n",
       " 'налоговый\\\\ кодекс\\\\ российский\\\\ федерация\\\\ \\\\-\\\\ часть\\\\ второй',\n",
       " 'семейный\\\\ кодекс\\\\ российский\\\\ федерация',\n",
       " 'таможенный\\\\ кодекс\\\\ евразийский\\\\ экономический\\\\ союз',\n",
       " 'таможенный\\\\ кодекс\\\\ таможенный\\\\ союз',\n",
       " 'таможенный\\\\ кодекс\\\\ евразийский\\\\ экономический\\\\ союз',\n",
       " 'трудовой\\\\ кодекс\\\\ российский\\\\ федерация',\n",
       " 'уголовно\\\\-исполнительный\\\\ кодекс\\\\ российский\\\\ федерация',\n",
       " 'уголовно\\\\-процессуальный\\\\ кодекс\\\\ российский\\\\ федерация',\n",
       " 'уголовный\\\\ кодекс\\\\ российский\\\\ федерация',\n",
       " 'закон\\\\ рф\\\\ \"\\\\ о\\\\ защита\\\\ право\\\\ потребитель\\\\ \"',\n",
       " 'закон\\\\ рф\\\\ \"\\\\ о\\\\ налог\\\\ на\\\\ имущество\\\\ физический\\\\ лицо\\\\ \"\\\\ n\\\\ 2003\\\\-1',\n",
       " 'нк\\\\ рф\\\\ ч\\\\ \\\\.\\\\ 2\\\\ глава\\\\ 32\\\\ \\\\.\\\\ налог\\\\ на\\\\ имущество\\\\ физический\\\\ лицо',\n",
       " 'закон\\\\ рф\\\\ \"\\\\ о\\\\ недра\\\\ \"\\\\ n\\\\ 2395\\\\-1',\n",
       " 'закон\\\\ рф\\\\ \"\\\\ о\\\\ приватизация\\\\ жилищный\\\\ фонд\\\\ в\\\\ российский\\\\ федерация\\\\ \"\\\\ n\\\\ 1541\\\\-1',\n",
       " 'закон\\\\ рф\\\\ \"\\\\ о\\\\ средство\\\\ массовый\\\\ информация\\\\ \"',\n",
       " 'закон\\\\ рф\\\\ \"\\\\ о\\\\ авторский\\\\ право\\\\ и\\\\ смежный\\\\ право\\\\ \"\\\\ n\\\\ 5351\\\\-1',\n",
       " 'гк\\\\ рф\\\\ ч\\\\ \\\\.\\\\ 4\\\\ глава\\\\ 70\\\\ \\\\.\\\\ авторский\\\\ право',\n",
       " 'федеральный\\\\ закон\\\\ \"\\\\ о\\\\ банк\\\\ и\\\\ банковский\\\\ деятельность\\\\ \"\\\\ n\\\\ 395\\\\-1',\n",
       " 'федеральный\\\\ закон\\\\ \"\\\\ о\\\\ бесплатный\\\\ юридический\\\\ помощь\\\\ в\\\\ российский\\\\ федерация\\\\ \"\\\\ n\\\\ 324\\\\-фз',\n",
       " 'федеральный\\\\ закон\\\\ \"\\\\ о\\\\ бухгалтерский\\\\ учёт\\\\ \"\\\\ n\\\\ 402\\\\-фз',\n",
       " 'федеральный\\\\ закон\\\\ \"\\\\ о\\\\ валютный\\\\ регулирование\\\\ и\\\\ валютный\\\\ контроль\\\\ \"\\\\ n\\\\ 173\\\\-фз',\n",
       " 'федеральный\\\\ закон\\\\ \"\\\\ о\\\\ ведомственный\\\\ охрана\\\\ \"\\\\ n\\\\ 77\\\\-фз',\n",
       " 'федеральный\\\\ закон\\\\ \"\\\\ о\\\\ ветеран\\\\ \"\\\\ n\\\\ 5\\\\-фз',\n",
       " 'федеральный\\\\ закон\\\\ \"\\\\ о\\\\ внесение\\\\ изменение\\\\ в\\\\ отдельный\\\\ законодательный\\\\ акт\\\\ российский\\\\ федерация\\\\ в\\\\ связь\\\\ с\\\\ совершенствование\\\\ принцип\\\\ определение\\\\ цена\\\\ для\\\\ цель\\\\ налогообложение\\\\ \"\\\\ n\\\\ 227\\\\-фз',\n",
       " 'федеральный\\\\ закон\\\\ \"\\\\ о\\\\ воинский\\\\ обязанность\\\\ и\\\\ военный\\\\ служба\\\\ \"\\\\ n\\\\ 53\\\\-фз',\n",
       " 'федеральный\\\\ закон\\\\ \"\\\\ о\\\\ войско\\\\ национальный\\\\ гвардия\\\\ российский\\\\ федерация\\\\ \"\\\\ n\\\\ 226\\\\-фз',\n",
       " 'федеральный\\\\ закон\\\\ \"\\\\ о\\\\ государственный\\\\ регистрация\\\\ юридический\\\\ лицо\\\\ и\\\\ индивидуальный\\\\ предприниматель\\\\ \"\\\\ n\\\\ 129\\\\-фз',\n",
       " 'федеральный\\\\ закон\\\\ \"\\\\ о\\\\ государственный\\\\ регистрация\\\\ недвижимость\\\\ \"\\\\ n\\\\ 218\\\\-фз',\n",
       " 'федеральный\\\\ закон\\\\ \"\\\\ о\\\\ государственный\\\\ регистрация\\\\ транспортный\\\\ средство\\\\ в\\\\ российский\\\\ федерация\\\\ и\\\\ о\\\\ внесение\\\\ изменение\\\\ в\\\\ отдельный\\\\ законодательный\\\\ акт\\\\ российский\\\\ федерация\\\\ \"\\\\ n\\\\ 283\\\\-фз',\n",
       " 'федеральный\\\\ закон\\\\ \"\\\\ о\\\\ государственный\\\\ регулирование\\\\ производство\\\\ и\\\\ оборот\\\\ этиловый\\\\ спирт\\\\ ,\\\\ алкогольный\\\\ и\\\\ спиртосодержащий\\\\ продукция\\\\ и\\\\ о\\\\ ограничение\\\\ потребление',\n",
       " 'федеральный\\\\ закон\\\\ от\\\\ 31\\\\.07\\\\.2020\\\\ n\\\\ 248\\\\-фз\\\\ \"\\\\ о\\\\ государственный\\\\ контроль',\n",
       " 'федеральный\\\\ закон\\\\ от\\\\ 08\\\\.12\\\\.2020\\\\ n\\\\ 394\\\\-фз\\\\ \"\\\\ о\\\\ государственный\\\\ совет\\\\ российский\\\\ федерация\\\\ \"',\n",
       " 'федеральный\\\\ закон\\\\ \"\\\\ о\\\\ государственный\\\\ пособие\\\\ гражданин\\\\ ,\\\\ иметь\\\\ ребёнок\\\\ \"\\\\ n\\\\ 81\\\\-фз',\n",
       " 'федеральный\\\\ закон\\\\ \"\\\\ о\\\\ гражданство\\\\ российский\\\\ федерация\\\\ \"\\\\ n\\\\ 62\\\\-фз',\n",
       " 'федеральный\\\\ закон\\\\ \"\\\\ о\\\\ ежемесячный\\\\ выплата\\\\ семья\\\\ ,\\\\ иметь\\\\ ребёнок\\\\ \"\\\\ n\\\\ 418\\\\-фз',\n",
       " 'федеральный\\\\ закон\\\\ \"\\\\ о\\\\ концессионный\\\\ соглашение\\\\ \"\\\\ n\\\\ 115\\\\-фз',\n",
       " 'федеральный\\\\ закон\\\\ \"\\\\ о\\\\ лицензирование\\\\ отдельный\\\\ вид\\\\ деятельность\\\\ \"\\\\ n\\\\ 99\\\\-фз',\n",
       " 'федеральный\\\\ закон\\\\ \"\\\\ о\\\\ некоммерческий\\\\ организация\\\\ \"\\\\ n\\\\ 7\\\\-фз',\n",
       " 'федеральный\\\\ закон\\\\ \"\\\\ о\\\\ несостоятельность',\n",
       " 'федеральный\\\\ закон\\\\ \"\\\\ о\\\\ персональный\\\\ данные\\\\ \"\\\\ n\\\\ 152\\\\-фз',\n",
       " 'федеральный\\\\ закон\\\\ \"\\\\ о\\\\ пожарный\\\\ безопасность\\\\ \"\\\\ n\\\\ 69\\\\-фз',\n",
       " 'федеральный\\\\ закон\\\\ \"\\\\ о\\\\ полиция\\\\ \"\\\\ n\\\\ 3\\\\-фз',\n",
       " 'федеральный\\\\ закон\\\\ \"\\\\ о\\\\ правовой\\\\ положение\\\\ иностранный\\\\ гражданин\\\\ в\\\\ российский\\\\ федерация\\\\ \"\\\\ n\\\\ 115\\\\-фз',\n",
       " 'федеральный\\\\ закон\\\\ \"\\\\ о\\\\ прокуратура\\\\ российский\\\\ федерация\\\\ \"\\\\ n\\\\ 2202\\\\-1\\\\-фз',\n",
       " 'федеральный\\\\ закон\\\\ \"\\\\ о\\\\ противодействие\\\\ легализация',\n",
       " 'федеральный\\\\ закон\\\\ \"\\\\ о\\\\ развитие\\\\ малое\\\\ и\\\\ среднее\\\\ предпринимательство\\\\ в\\\\ российский\\\\ федерация\\\\ \"\\\\ n\\\\ 209\\\\-фз',\n",
       " 'федеральный\\\\ закон\\\\ \"\\\\ о\\\\ контрактный\\\\ система\\\\ в\\\\ сфера\\\\ закупка\\\\ товар\\\\ ,\\\\ работа\\\\ ,\\\\ услуга\\\\ для\\\\ обеспечение\\\\ государственный\\\\ и\\\\ муниципальный\\\\ нужда\\\\ \"\\\\ n\\\\ 44\\\\-фз',\n",
       " 'федеральный\\\\ закон\\\\ \"\\\\ о\\\\ реклама\\\\ \"\\\\ n\\\\ 38\\\\-фз',\n",
       " 'федеральный\\\\ закон\\\\ \"\\\\ о\\\\ рынок\\\\ ценный\\\\ бумага\\\\ \"\\\\ n\\\\ 39\\\\-фз',\n",
       " 'федеральный\\\\ закон\\\\ \"\\\\ о\\\\ связь\\\\ \"\\\\ n\\\\ 126\\\\-фз',\n",
       " 'федеральный\\\\ закон\\\\ \"\\\\ о\\\\ система\\\\ государственный\\\\ служба\\\\ российский\\\\ федерация\\\\ \"\\\\ n\\\\ 58\\\\-фз',\n",
       " 'федеральный\\\\ закон\\\\ от\\\\ 20\\\\.07\\\\.2020\\\\ n\\\\ 211\\\\-фз\\\\ \"\\\\ о\\\\ совершение\\\\ финансовый\\\\ сделка\\\\ с\\\\ использование\\\\ финансовый\\\\ платформа\\\\ \"',\n",
       " 'федеральный\\\\ закон\\\\ \"\\\\ о\\\\ стандартизация\\\\ в\\\\ российский\\\\ федерация\\\\ \"\\\\ n\\\\ 162\\\\-фз',\n",
       " 'федеральный\\\\ закон\\\\ \"\\\\ о\\\\ статус\\\\ военнослужащий\\\\ \"\\\\ n\\\\ 76\\\\-фз',\n",
       " 'федеральный\\\\ закон\\\\ \"\\\\ о\\\\ стратегический\\\\ планирование\\\\ в\\\\ российский\\\\ федерация\\\\ \"\\\\ n\\\\ 172\\\\-фз',\n",
       " 'федеральный\\\\ закон\\\\ \"\\\\ о\\\\ страхование\\\\ вклад\\\\ физический\\\\ лицо\\\\ в\\\\ банк\\\\ российский\\\\ федерация\\\\ \"\\\\ n\\\\ 177\\\\-фз',\n",
       " 'федеральный\\\\ закон\\\\ \"\\\\ о\\\\ судебный\\\\ пристав\\\\ \"\\\\ n\\\\ 118\\\\-фз',\n",
       " 'федеральный\\\\ закон\\\\ \"\\\\ о\\\\ таможенный\\\\ регулирование\\\\ в\\\\ российский\\\\ федерация\\\\ \"\\\\ n\\\\ 311\\\\-фз',\n",
       " 'федеральный\\\\ закон\\\\ \"\\\\ о\\\\ таможенный\\\\ регулирование\\\\ в\\\\ российский\\\\ федерация\\\\ и\\\\ о\\\\ внесение\\\\ изменение\\\\ в\\\\ отдельный\\\\ законодательный\\\\ акт\\\\ российский\\\\ федерация\\\\ \"\\\\ n\\\\ 289\\\\-фз',\n",
       " 'федеральный\\\\ закон\\\\ \"\\\\ о\\\\ технический\\\\ осмотр\\\\ транспортный\\\\ средство\\\\ и\\\\ о\\\\ внесение\\\\ изменение\\\\ в\\\\ отдельный\\\\ законодательный\\\\ акт\\\\ российский\\\\ федерация\\\\ \"\\\\ n\\\\ 170\\\\-фз',\n",
       " 'федеральный\\\\ закон\\\\ \"\\\\ о\\\\ технический\\\\ регулирование\\\\ \"\\\\ n\\\\ 184\\\\-фз',\n",
       " 'федеральный\\\\ закон\\\\ \"\\\\ о\\\\ трудовой\\\\ пенсия\\\\ в\\\\ российский\\\\ федерация\\\\ \"\\\\ n\\\\ 173\\\\-фз',\n",
       " 'федеральный\\\\ закон\\\\ от\\\\ 31\\\\.07\\\\.2020\\\\ n\\\\ 259\\\\-фз\\\\ \"\\\\ о\\\\ цифровой\\\\ финансовый\\\\ актив\\\\ ,\\\\ цифровой\\\\ валюта\\\\ и\\\\ о\\\\ внесение\\\\ изменение\\\\ в\\\\ отдельный\\\\ законодательный\\\\ акт\\\\ российский\\\\ федерация\\\\ \"',\n",
       " 'федеральный\\\\ закон\\\\ \"\\\\ о\\\\ административный\\\\ надзор\\\\ за\\\\ лицо\\\\ ,\\\\ освободить\\\\ из\\\\ место\\\\ лишение\\\\ свобода\\\\ \"\\\\ n\\\\ 64\\\\-фз',\n",
       " 'федеральный\\\\ закон\\\\ \"\\\\ о\\\\ акционерный\\\\ общество\\\\ \"',\n",
       " 'федеральный\\\\ закон\\\\ \"\\\\ о\\\\ аудиторский\\\\ деятельность\\\\ \"\\\\ n\\\\ 307\\\\-фз',\n",
       " 'федеральный\\\\ закон\\\\ \"\\\\ о\\\\ инвестиционный\\\\ товарищество\\\\ \"\\\\ n\\\\ 335\\\\-фз',\n",
       " 'федеральный\\\\ закон\\\\ \"\\\\ о\\\\ ипотека',\n",
       " 'федеральный\\\\ закон\\\\ \"\\\\ о\\\\ исполнительный\\\\ производство\\\\ \"\\\\ n\\\\ 229\\\\-фз',\n",
       " 'федеральный\\\\ закон\\\\ \"\\\\ о\\\\ образование\\\\ в\\\\ российский\\\\ федерация\\\\ \"\\\\ n\\\\ 273\\\\-фз',\n",
       " 'федеральный\\\\ закон\\\\ \"\\\\ о\\\\ общество\\\\ с\\\\ ограниченный\\\\ ответственность\\\\ \"',\n",
       " 'федеральный\\\\ закон\\\\ \"\\\\ о\\\\ общественный\\\\ объединение\\\\ \"\\\\ n\\\\ 82\\\\-фз',\n",
       " 'федеральный\\\\ закон\\\\ \"\\\\ о\\\\ общий\\\\ принцип\\\\ организация\\\\ местный\\\\ самоуправление\\\\ в\\\\ рф\\\\ \"',\n",
       " 'федеральный\\\\ закон\\\\ \"\\\\ о\\\\ обязательный\\\\ социальный\\\\ страхование\\\\ от\\\\ несчастный\\\\ случай\\\\ на\\\\ производство\\\\ и\\\\ профессиональный\\\\ заболевание\\\\ \"\\\\ n\\\\ 125\\\\-фз',\n",
       " 'федеральный\\\\ закон\\\\ \"\\\\ о\\\\ обязательный\\\\ страхование\\\\ гражданский\\\\ ответственность\\\\ владелец\\\\ транспортный\\\\ средство\\\\ \"',\n",
       " 'федеральный\\\\ закон\\\\ от\\\\ 31\\\\.07\\\\.2020\\\\ n\\\\ 247\\\\-фз\\\\ \"\\\\ о\\\\ обязательный\\\\ требование\\\\ в\\\\ российский\\\\ федерация\\\\ \"',\n",
       " 'федеральный\\\\ закон\\\\ \"\\\\ о\\\\ оружие\\\\ \"\\\\ n\\\\ 150\\\\-фз',\n",
       " 'федеральный\\\\ закон\\\\ \"\\\\ о\\\\ основа\\\\ охрана\\\\ здоровье\\\\ гражданин\\\\ в\\\\ российский\\\\ федерация\\\\ \"\\\\ n\\\\ 323\\\\-фз',\n",
       " 'федеральный\\\\ закон\\\\ \"\\\\ о\\\\ основа\\\\ система\\\\ профилактика\\\\ безнадзорность\\\\ и\\\\ правонарушение\\\\ несовершеннолетний\\\\ \"\\\\ n\\\\ 120\\\\-фз',\n",
       " 'федеральный\\\\ закон\\\\ \"\\\\ о\\\\ основа\\\\ система\\\\ профилактика\\\\ правонарушение\\\\ в\\\\ российский\\\\ федерация\\\\ \"\\\\ n\\\\ 182\\\\-фз',\n",
       " 'федеральный\\\\ закон\\\\ от\\\\ 01\\\\.04\\\\.2020\\\\ n\\\\ 104\\\\-фз',\n",
       " 'федеральный\\\\ закон\\\\ \"\\\\ о\\\\ ответственный\\\\ обращение\\\\ с\\\\ животное\\\\ и\\\\ о\\\\ внесение\\\\ изменение\\\\ в\\\\ отдельный\\\\ законодательный\\\\ акт\\\\ российский\\\\ федерация\\\\ \"\\\\ n\\\\ 498\\\\-фз',\n",
       " 'федеральный\\\\ закон\\\\ \"\\\\ о\\\\ охрана\\\\ окружающий\\\\ среда\\\\ \"\\\\ n\\\\ 7\\\\-фз',\n",
       " 'федеральный\\\\ закон\\\\ \"\\\\ о\\\\ уполномоченный\\\\ по\\\\ право\\\\ ребёнок\\\\ в\\\\ российский\\\\ федерация\\\\ \"\\\\ n\\\\ 501\\\\-фз',\n",
       " 'федеральный\\\\ закон\\\\ от\\\\ 31\\\\.07\\\\.2020\\\\ n\\\\ 258\\\\-фз\\\\ \"\\\\ о\\\\ экспериментальный\\\\ правовой\\\\ режим\\\\ в\\\\ сфера\\\\ цифровой\\\\ инновация\\\\ в\\\\ российский\\\\ федерация\\\\ \"',\n",
       " 'федеральный\\\\ конституционный\\\\ закон\\\\ от\\\\ 06\\\\.11\\\\.2020\\\\ n\\\\ 4\\\\-фкз\\\\ \"\\\\ о\\\\ правительство\\\\ российский\\\\ федерация\\\\ \"',\n",
       " 'постановление\\\\ правительство\\\\ рф\\\\ \"\\\\ о\\\\ правило\\\\ дорожный\\\\ движение\\\\ \"',\n",
       " 'постановление\\\\ правительство\\\\ рф\\\\ \"\\\\ о\\\\ проведение\\\\ технический\\\\ осмотр\\\\ транспортный\\\\ средство\\\\ \"\\\\ n\\\\ 1008',\n",
       " 'постановление\\\\ правительство\\\\ рф\\\\ \"\\\\ о\\\\ утверждение\\\\ правило\\\\ перевозка\\\\ груз\\\\ автомобильный\\\\ транспорт\\\\ \"\\\\ n\\\\ 272',\n",
       " 'приказ\\\\ минрегион\\\\ рф\\\\ \"\\\\ о\\\\ утверждение\\\\ перечень\\\\ вид\\\\ работа\\\\ по\\\\ инженерный\\\\ изыскание\\\\ ,\\\\ по\\\\ подготовка\\\\ проектный\\\\ документация\\\\ ,\\\\ по\\\\ строительство\\\\ ,\\\\ реконструкция\\\\ ,\\\\ капитальный\\\\ ремонт\\\\ объект\\\\ капитальный\\\\ строительство\\\\ ,\\\\ который\\\\ оказывать\\\\ влияние\\\\ на\\\\ безопасность\\\\ объект\\\\ капитальный\\\\ строительство\\\\ \"',\n",
       " 'календарь\\\\ кадровик\\\\ на\\\\ 2021\\\\ год',\n",
       " 'пособие\\\\ и\\\\ они\\\\ расчётный\\\\ дать\\\\ на\\\\ 2018\\\\ \\\\-\\\\ 2021\\\\ год',\n",
       " 'расчёт\\\\ сумма\\\\ налог\\\\ на\\\\ доход\\\\ физический\\\\ лицо\\\\ ,\\\\ исчислить\\\\ и\\\\ удержать\\\\ налоговый\\\\ агент',\n",
       " 'АПК РФ',\n",
       " 'БК РФ',\n",
       " 'ВК РФ',\n",
       " 'ГПК РФ',\n",
       " 'ЖК РФ',\n",
       " 'ЗК РФ',\n",
       " 'КАС РФ',\n",
       " 'ЛК РФ',\n",
       " 'СК РФ',\n",
       " 'ТК ЕАЭС',\n",
       " 'ТК ТС',\n",
       " 'ТК РФ',\n",
       " 'УИК РФ',\n",
       " 'УПК РФ',\n",
       " 'УК РФ',\n",
       " 'ЗОЗПП',\n",
       " 'АО',\n",
       " 'ООО',\n",
       " 'ОСАГО',\n",
       " 'ПДД',\n",
       " 'ПД']"
      ]
     },
     "execution_count": 27,
     "metadata": {},
     "output_type": "execute_result"
    }
   ],
   "source": [
    "all_codes"
   ]
  },
  {
   "cell_type": "code",
   "execution_count": 28,
   "id": "03acc378",
   "metadata": {},
   "outputs": [
    {
     "data": {
      "text/plain": [
       "'федеральный\\\\ закон\\\\ \"\\\\ о\\\\ обязательный\\\\ социальный\\\\ страхование\\\\ от\\\\ несчастный\\\\ случай\\\\ на\\\\ производство\\\\ и\\\\ профессиональный\\\\ заболевание\\\\ \"\\\\ n\\\\ 125\\\\-фз'"
      ]
     },
     "execution_count": 28,
     "metadata": {},
     "output_type": "execute_result"
    }
   ],
   "source": [
    "full_codes[-20]"
   ]
  },
  {
   "cell_type": "code",
   "execution_count": 29,
   "id": "84b080c3",
   "metadata": {},
   "outputs": [],
   "source": [
    "reg_patterns = ['статья \\d+\\.{0,1}\\d*', 'статья([а-я ])+ \\d+\\.{0,1}\\d*', 'c[\\. ]+\\d+\\.{0,1}\\d*', 'ст[\\. ]+\\d+\\.{0,1}\\d*']\n",
    "all_patterns = snlp.get_two_list_permutations(all_codes, reg_patterns)\n",
    "codes_ptr = re.compile('(' +'|'.join(all_patterns) + ')', re.IGNORECASE)"
   ]
  },
  {
   "cell_type": "code",
   "execution_count": 209,
   "id": "952c92fe",
   "metadata": {},
   "outputs": [
    {
     "data": {
      "text/plain": [
       "re.compile(r'(статья \\d+\\.{0,1}\\d* конституция|статья \\d+\\.{0,1}\\d* кодекс|статья \\d+\\.{0,1}\\d* закон\\ ,\\ нормативный\\ акт\\ ,\\ справочный\\ материал|статья \\d+\\.{0,1}\\d* конституция\\ российский\\ федерация|статья \\d+\\.{0,1}\\d* арбитражный\\ процессуальный\\ кодекс\\ российский\\ федерация|статья \\d+\\.{0,1}\\d* бюджетный\\ кодекс\\ российский\\ федерация|статья \\d+\\.{0,1}\\d* водный\\ кодекс\\ российский\\ федерация|статья \\d+\\.{0,1}\\d* воздушный\\ кодекс\\ российский\\ федерация|статья \\d+\\.{0,1}\\d* градостроительный\\ кодекс\\ российский\\ федерация|статья \\d+\\.{0,1}\\d* гражданский\\ кодекс\\ российский\\ федерация\\ \\-\\ часть\\ первый|статья \\d+\\.{0,1}\\d* гражданский\\ кодекс\\ российский\\ федерация\\ \\-\\ часть\\ второй|статья \\d+\\.{0,1}\\d* гражданский\\ кодекс\\ российский\\ федерация\\ \\-\\ часть\\ третий|статья \\d+\\.{0,1}\\d* гражданский\\ кодекс\\ российский\\ федерация\\ \\-\\ часть\\ четвёртый|статья \\d+\\.{0,1}\\d* гражданский\\ процессуальный\\ кодекс\\ российский\\ федерация|статья \\d+\\.{0,1}\\d* жилищный\\ кодекс\\ российский\\ федерация|статья \\d+\\.{0,1}\\d* земельный\\ кодекс\\ российский\\ федерация|статья \\d+\\.{0,1}\\d* кодекс\\ административный\\ судопроизводство\\ российский\\ федерация|статья \\d+\\.{0,1}\\d* кодекс\\ закон\\ о\\ труд|статья \\d+\\.{0,1}\\d* трудовой\\ кодекс\\ российский\\ федерация|статья \\d+\\.{0,1}\\d* кодекс\\ российский\\ федерация\\ о\\ административный\\ правонарушение|статья \\d+\\.{0,1}\\d* лесной\\ кодекс\\ российский\\ федерация|статья \\d+\\.{0,1}\\d* налоговый\\ кодекс\\ российский\\ федерация\\ \\-\\ часть\\ первый|статья \\d+\\.{0,1}\\d* налоговый\\ кодекс\\ российский\\ федерация\\ \\-\\ часть\\ второй|статья \\d+\\.{0,1}\\d* семейный\\ кодекс\\ российский\\ федерация|статья \\d+\\.{0,1}\\d* таможенный\\ кодекс\\ евразийский\\ экономический\\ союз|статья \\d+\\.{0,1}\\d* таможенный\\ кодекс\\ таможенный\\ союз|статья \\d+\\.{0,1}\\d* таможенный\\ кодекс\\ евразийский\\ экономический\\ союз|статья \\d+\\.{0,1}\\d* трудовой\\ кодекс\\ российский\\ федерация|статья \\d+\\.{0,1}\\d* уголовно\\-исполнительный\\ кодекс\\ российский\\ федерация|статья \\d+\\.{0,1}\\d* уголовно\\-процессуальный\\ кодекс\\ российский\\ федерация|статья \\d+\\.{0,1}\\d* уголовный\\ кодекс\\ российский\\ федерация|статья \\d+\\.{0,1}\\d* закон\\ рф\\ \"\\ о\\ защита\\ право\\ потребитель\\ \"|статья \\d+\\.{0,1}\\d* закон\\ рф\\ \"\\ о\\ налог\\ на\\ имущество\\ физический\\ лицо\\ \"\\ n\\ 2003\\-1|статья \\d+\\.{0,1}\\d* нк\\ рф\\ ч\\ \\.\\ 2\\ глава\\ 32\\ \\.\\ налог\\ на\\ имущество\\ физический\\ лицо|статья \\d+\\.{0,1}\\d* закон\\ рф\\ \"\\ о\\ недра\\ \"\\ n\\ 2395\\-1|статья \\d+\\.{0,1}\\d* закон\\ рф\\ \"\\ о\\ приватизация\\ жилищный\\ фонд\\ в\\ российский\\ федерация\\ \"\\ n\\ 1541\\-1|статья \\d+\\.{0,1}\\d* закон\\ рф\\ \"\\ о\\ средство\\ массовый\\ информация\\ \"|статья \\d+\\.{0,1}\\d* закон\\ рф\\ \"\\ о\\ авторский\\ право\\ и\\ смежный\\ право\\ \"\\ n\\ 5351\\-1|статья \\d+\\.{0,1}\\d* гк\\ рф\\ ч\\ \\.\\ 4\\ глава\\ 70\\ \\.\\ авторский\\ право|статья \\d+\\.{0,1}\\d* федеральный\\ закон\\ \"\\ о\\ банк\\ и\\ банковский\\ деятельность\\ \"\\ n\\ 395\\-1|статья \\d+\\.{0,1}\\d* федеральный\\ закон\\ \"\\ о\\ бесплатный\\ юридический\\ помощь\\ в\\ российский\\ федерация\\ \"\\ n\\ 324\\-фз|статья \\d+\\.{0,1}\\d* федеральный\\ закон\\ \"\\ о\\ бухгалтерский\\ учёт\\ \"\\ n\\ 402\\-фз|статья \\d+\\.{0,1}\\d* федеральный\\ закон\\ \"\\ о\\ валютный\\ регулирование\\ и\\ валютный\\ контроль\\ \"\\ n\\ 173\\-фз|статья \\d+\\.{0,1}\\d* федеральный\\ закон\\ \"\\ о\\ ведомственный\\ охрана\\ \"\\ n\\ 77\\-фз|статья \\d+\\.{0,1}\\d* федеральный\\ закон\\ \"\\ о\\ ветеран\\ \"\\ n\\ 5\\-фз|статья \\d+\\.{0,1}\\d* федеральный\\ закон\\ \"\\ о\\ внесение\\ изменение\\ в\\ отдельный\\ законодательный\\ акт\\ российский\\ федерация\\ в\\ связь\\ с\\ совершенствование\\ принцип\\ определение\\ цена\\ для\\ цель\\ налогообложение\\ \"\\ n\\ 227\\-фз|статья \\d+\\.{0,1}\\d* федеральный\\ закон\\ \"\\ о\\ воинский\\ обязанность\\ и\\ военный\\ служба\\ \"\\ n\\ 53\\-фз|статья \\d+\\.{0,1}\\d* федеральный\\ закон\\ \"\\ о\\ войско\\ национальный\\ гвардия\\ российский\\ федерация\\ \"\\ n\\ 226\\-фз|статья \\d+\\.{0,1}\\d* федеральный\\ закон\\ \"\\ о\\ государственный\\ регистрация\\ юридический\\ лицо\\ и\\ индивидуальный\\ предприниматель\\ \"\\ n\\ 129\\-фз|статья \\d+\\.{0,1}\\d* федеральный\\ закон\\ \"\\ о\\ государственный\\ регистрация\\ недвижимость\\ \"\\ n\\ 218\\-фз|статья \\d+\\.{0,1}\\d* федеральный\\ закон\\ \"\\ о\\ государственный\\ регистрация\\ транспортный\\ средство\\ в\\ российский\\ федерация\\ и\\ о\\ внесение\\ изменение\\ в\\ отдельный\\ законодательный\\ акт\\ российский\\ федерация\\ \"\\ n\\ 283\\-фз|статья \\d+\\.{0,1}\\d* федеральный\\ закон\\ \"\\ о\\ государственный\\ регулирование\\ производство\\ и\\ оборот\\ этиловый\\ спирт\\ ,\\ алкогольный\\ и\\ спиртосодержащий\\ продукция\\ и\\ о\\ ограничение\\ потребление|статья \\d+\\.{0,1}\\d* федеральный\\ закон\\ от\\ 31\\.07\\.2020\\ n\\ 248\\-фз\\ \"\\ о\\ государственный\\ контроль|статья \\d+\\.{0,1}\\d* федеральный\\ закон\\ от\\ 08\\.12\\.2020\\ n\\ 394\\-фз\\ \"\\ о\\ государственный\\ совет\\ российский\\ федерация\\ \"|статья \\d+\\.{0,1}\\d* федеральный\\ закон\\ \"\\ о\\ государственный\\ пособие\\ гражданин\\ ,\\ иметь\\ ребёнок\\ \"\\ n\\ 81\\-фз|статья \\d+\\.{0,1}\\d* федеральный\\ закон\\ \"\\ о\\ гражданство\\ российский\\ федерация\\ \"\\ n\\ 62\\-фз|статья \\d+\\.{0,1}\\d* федеральный\\ закон\\ \"\\ о\\ ежемесячный\\ выплата\\ семья\\ ,\\ иметь\\ ребёнок\\ \"\\ n\\ 418\\-фз|статья \\d+\\.{0,1}\\d* федеральный\\ закон\\ \"\\ о\\ концессионный\\ соглашение\\ \"\\ n\\ 115\\-фз|статья \\d+\\.{0,1}\\d* федеральный\\ закон\\ \"\\ о\\ лицензирование\\ отдельный\\ вид\\ деятельность\\ \"\\ n\\ 99\\-фз|статья \\d+\\.{0,1}\\d* федеральный\\ закон\\ \"\\ о\\ некоммерческий\\ организация\\ \"\\ n\\ 7\\-фз|статья \\d+\\.{0,1}\\d* федеральный\\ закон\\ \"\\ о\\ несостоятельность|статья \\d+\\.{0,1}\\d* федеральный\\ закон\\ \"\\ о\\ персональный\\ данные\\ \"\\ n\\ 152\\-фз|статья \\d+\\.{0,1}\\d* федеральный\\ закон\\ \"\\ о\\ пожарный\\ безопасность\\ \"\\ n\\ 69\\-фз|статья \\d+\\.{0,1}\\d* федеральный\\ закон\\ \"\\ о\\ полиция\\ \"\\ n\\ 3\\-фз|статья \\d+\\.{0,1}\\d* федеральный\\ закон\\ \"\\ о\\ правовой\\ положение\\ иностранный\\ гражданин\\ в\\ российский\\ федерация\\ \"\\ n\\ 115\\-фз|статья \\d+\\.{0,1}\\d* федеральный\\ закон\\ \"\\ о\\ прокуратура\\ российский\\ федерация\\ \"\\ n\\ 2202\\-1\\-фз|статья \\d+\\.{0,1}\\d* федеральный\\ закон\\ \"\\ о\\ противодействие\\ легализация|статья \\d+\\.{0,1}\\d* федеральный\\ закон\\ \"\\ о\\ развитие\\ малое\\ и\\ среднее\\ предпринимательство\\ в\\ российский\\ федерация\\ \"\\ n\\ 209\\-фз|статья \\d+\\.{0,1}\\d* федеральный\\ закон\\ \"\\ о\\ контрактный\\ система\\ в\\ сфера\\ закупка\\ товар\\ ,\\ работа\\ ,\\ услуга\\ для\\ обеспечение\\ государственный\\ и\\ муниципальный\\ нужда\\ \"\\ n\\ 44\\-фз|статья \\d+\\.{0,1}\\d* федеральный\\ закон\\ \"\\ о\\ реклама\\ \"\\ n\\ 38\\-фз|статья \\d+\\.{0,1}\\d* федеральный\\ закон\\ \"\\ о\\ рынок\\ ценный\\ бумага\\ \"\\ n\\ 39\\-фз|статья \\d+\\.{0,1}\\d* федеральный\\ закон\\ \"\\ о\\ связь\\ \"\\ n\\ 126\\-фз|статья \\d+\\.{0,1}\\d* федеральный\\ закон\\ \"\\ о\\ система\\ государственный\\ служба\\ российский\\ федерация\\ \"\\ n\\ 58\\-фз|статья \\d+\\.{0,1}\\d* федеральный\\ закон\\ от\\ 20\\.07\\.2020\\ n\\ 211\\-фз\\ \"\\ о\\ совершение\\ финансовый\\ сделка\\ с\\ использование\\ финансовый\\ платформа\\ \"|статья \\d+\\.{0,1}\\d* федеральный\\ закон\\ \"\\ о\\ стандартизация\\ в\\ российский\\ федерация\\ \"\\ n\\ 162\\-фз|статья \\d+\\.{0,1}\\d* федеральный\\ закон\\ \"\\ о\\ статус\\ военнослужащий\\ \"\\ n\\ 76\\-фз|статья \\d+\\.{0,1}\\d* федеральный\\ закон\\ \"\\ о\\ стратегический\\ планирование\\ в\\ российский\\ федерация\\ \"\\ n\\ 172\\-фз|статья \\d+\\.{0,1}\\d* федеральный\\ закон\\ \"\\ о\\ страхование\\ вклад\\ физический\\ лицо\\ в\\ банк\\ российский\\ федерация\\ \"\\ n\\ 177\\-фз|статья \\d+\\.{0,1}\\d* федеральный\\ закон\\ \"\\ о\\ судебный\\ пристав\\ \"\\ n\\ 118\\-фз|статья \\d+\\.{0,1}\\d* федеральный\\ закон\\ \"\\ о\\ таможенный\\ регулирование\\ в\\ российский\\ федерация\\ \"\\ n\\ 311\\-фз|статья \\d+\\.{0,1}\\d* федеральный\\ закон\\ \"\\ о\\ таможенный\\ регулирование\\ в\\ российский\\ федерация\\ и\\ о\\ внесение\\ изменение\\ в\\ отдельный\\ законодательный\\ акт\\ российский\\ федерация\\ \"\\ n\\ 289\\-фз|статья \\d+\\.{0,1}\\d* федеральный\\ закон\\ \"\\ о\\ технический\\ осмотр\\ транспортный\\ средство\\ и\\ о\\ внесение\\ изменение\\ в\\ отдельный\\ законодательный\\ акт\\ российский\\ федерация\\ \"\\ n\\ 170\\-фз|статья \\d+\\.{0,1}\\d* федеральный\\ закон\\ \"\\ о\\ технический\\ регулирование\\ \"\\ n\\ 184\\-фз|статья \\d+\\.{0,1}\\d* федеральный\\ закон\\ \"\\ о\\ трудовой\\ пенсия\\ в\\ российский\\ федерация\\ \"\\ n\\ 173\\-фз|статья \\d+\\.{0,1}\\d* федеральный\\ закон\\ от\\ 31\\.07\\.2020\\ n\\ 259\\-фз\\ \"\\ о\\ цифровой\\ финансовый\\ актив\\ ,\\ цифровой\\ валюта\\ и\\ о\\ внесение\\ изменение\\ в\\ отдельный\\ законодательный\\ акт\\ российский\\ федерация\\ \"|статья \\d+\\.{0,1}\\d* федеральный\\ закон\\ \"\\ о\\ административный\\ надзор\\ за\\ лицо\\ ,\\ освободить\\ из\\ место\\ лишение\\ свобода\\ \"\\ n\\ 64\\-фз|статья \\d+\\.{0,1}\\d* федеральный\\ закон\\ \"\\ о\\ акционерный\\ общество\\ \"|статья \\d+\\.{0,1}\\d* федеральный\\ закон\\ \"\\ о\\ аудиторский\\ деятельность\\ \"\\ n\\ 307\\-фз|статья \\d+\\.{0,1}\\d* федеральный\\ закон\\ \"\\ о\\ инвестиционный\\ товарищество\\ \"\\ n\\ 335\\-фз|статья \\d+\\.{0,1}\\d* федеральный\\ закон\\ \"\\ о\\ ипотека|статья \\d+\\.{0,1}\\d* федеральный\\ закон\\ \"\\ о\\ исполнительный\\ производство\\ \"\\ n\\ 229\\-фз|статья \\d+\\.{0,1}\\d* федеральный\\ закон\\ \"\\ о\\ образование\\ в\\ российский\\ федерация\\ \"\\ n\\ 273\\-фз|статья \\d+\\.{0,1}\\d* федеральный\\ закон\\ \"\\ о\\ общество\\ с\\ ограниченный\\ ответственность\\ \"|статья \\d+\\.{0,1}\\d* федеральный\\ закон\\ \"\\ о\\ общественный\\ объединение\\ \"\\ n\\ 82\\-фз|статья \\d+\\.{0,1}\\d* федеральный\\ закон\\ \"\\ о\\ общий\\ принцип\\ организация\\ местный\\ самоуправление\\ в\\ рф\\ \"|статья \\d+\\.{0,1}\\d* федеральный\\ закон\\ \"\\ о\\ обязательный\\ социальный\\ страхование\\ от\\ несчастный\\ случай\\ на\\ производство\\ и\\ профессиональный\\ заболевание\\ \"\\ n\\ 125\\-фз|статья \\d+\\.{0,1}\\d* федеральный\\ закон\\ \"\\ о\\ обязательный\\ страхование\\ гражданский\\ ответственность\\ владелец\\ транспортный\\ средство\\ \"|статья \\d+\\.{0,1}\\d* федеральный\\ закон\\ от\\ 31\\.07\\.2020\\ n\\ 247\\-фз\\ \"\\ о\\ обязательный\\ требование\\ в\\ российский\\ федерация\\ \"|статья \\d+\\.{0,1}\\d* федеральный\\ закон\\ \"\\ о\\ оружие\\ \"\\ n\\ 150\\-фз|статья \\d+\\.{0,1}\\d* федеральный\\ закон\\ \"\\ о\\ основа\\ охрана\\ здоровье\\ гражданин\\ в\\ российский\\ федерация\\ \"\\ n\\ 323\\-фз|статья \\d+\\.{0,1}\\d* федеральный\\ закон\\ \"\\ о\\ основа\\ система\\ профилактика\\ безнадзорность\\ и\\ правонарушение\\ несовершеннолетний\\ \"\\ n\\ 120\\-фз|статья \\d+\\.{0,1}\\d* федеральный\\ закон\\ \"\\ о\\ основа\\ система\\ профилактика\\ правонарушение\\ в\\ российский\\ федерация\\ \"\\ n\\ 182\\-фз|статья \\d+\\.{0,1}\\d* федеральный\\ закон\\ от\\ 01\\.04\\.2020\\ n\\ 104\\-фз|статья \\d+\\.{0,1}\\d* федеральный\\ закон\\ \"\\ о\\ ответственный\\ обращение\\ с\\ животное\\ и\\ о\\ внесение\\ изменение\\ в\\ отдельный\\ законодательный\\ акт\\ российский\\ федерация\\ \"\\ n\\ 498\\-фз|статья \\d+\\.{0,1}\\d* федеральный\\ закон\\ \"\\ о\\ охрана\\ окружающий\\ среда\\ \"\\ n\\ 7\\-фз|статья \\d+\\.{0,1}\\d* федеральный\\ закон\\ \"\\ о\\ уполномоченный\\ по\\ право\\ ребёнок\\ в\\ российский\\ федерация\\ \"\\ n\\ 501\\-фз|статья \\d+\\.{0,1}\\d* федеральный\\ закон\\ от\\ 31\\.07\\.2020\\ n\\ 258\\-фз\\ \"\\ о\\ экспериментальный\\ правовой\\ режим\\ в\\ сфера\\ цифровой\\ инновация\\ в\\ российский\\ федерация\\ \"|статья \\d+\\.{0,1}\\d* федеральный\\ конституционный\\ закон\\ от\\ 06\\.11\\.2020\\ n\\ 4\\-фкз\\ \"\\ о\\ правительство\\ российский\\ федерация\\ \"|статья \\d+\\.{0,1}\\d* постановление\\ правительство\\ рф\\ \"\\ о\\ правило\\ дорожный\\ движение\\ \"|статья \\d+\\.{0,1}\\d* постановление\\ правительство\\ рф\\ \"\\ о\\ проведение\\ технический\\ осмотр\\ транспортный\\ средство\\ \"\\ n\\ 1008|статья \\d+\\.{0,1}\\d* постановление\\ правительство\\ рф\\ \"\\ о\\ утверждение\\ правило\\ перевозка\\ груз\\ автомобильный\\ транспорт\\ \"\\ n\\ 272|статья \\d+\\.{0,1}\\d* приказ\\ минрегион\\ рф\\ \"\\ о\\ утверждение\\ перечень\\ вид\\ работа\\ по\\ инженерный\\ изыскание\\ ,\\ по\\ подготовка\\ проектный\\ документация\\ ,\\ по\\ строительство\\ ,\\ реконструкция\\ ,\\ капитальный\\ ремонт\\ объект\\ капитальный\\ строительство\\ ,\\ который\\ оказывать\\ влияние\\ на\\ безопасность\\ объект\\ капитальный\\ строительство\\ \"|статья \\d+\\.{0,1}\\d* календарь\\ кадровик\\ на\\ 2021\\ год|статья \\d+\\.{0,1}\\d* пособие\\ и\\ они\\ расчётный\\ дать\\ на\\ 2018\\ \\-\\ 2021\\ год|статья \\d+\\.{0,1}\\d* расчёт\\ сумма\\ налог\\ на\\ доход\\ физический\\ лицо\\ ,\\ исчислить\\ и\\ удержать\\ налоговый\\ агент|статья \\d+\\.{0,1}\\d* АПК РФ|статья \\d+\\.{0,1}\\d* БК РФ|статья \\d+\\.{0,1}\\d* ВК РФ|статья \\d+\\.{0,1}\\d* ГПК РФ|статья \\d+\\.{0,1}\\d* ЖК РФ|статья \\d+\\.{0,1}\\d* ЗК РФ|статья \\d+\\.{0,1}\\d* КАС РФ|статья \\d+\\.{0,1}\\d* ЛК РФ|статья \\d+\\.{0,1}\\d* СК РФ|статья \\d+\\.{0,1}\\d* ТК ЕАЭС|статья \\d+\\.{0,1}\\d* ТК ТС|статья \\d+\\.{0,1}\\d* ТК РФ|статья \\d+\\.{0,1}\\d* УИК РФ|статья \\d+\\.{0,1}\\d* УПК РФ|статья \\d+\\.{0,1}\\d* УК РФ|статья \\d+\\.{0,1}\\d* ЗОЗПП|статья \\d+\\.{0,1}\\d* АО|статья \\d+\\.{0,1}\\d* ООО|статья \\d+\\.{0,1}\\d* ОСАГО|статья \\d+\\.{0,1}\\d* ПДД|статья \\d+\\.{0,1}\\d* ПД|статья([а-я ])+ \\d+\\.{0,1}\\d* конституция|статья([а-я ])+ \\d+\\.{0,1}\\d* кодекс|статья([а-я ])+ \\d+\\.{0,1}\\d* закон\\ ,\\ нормативный\\ акт\\ ,\\ справочный\\ материал|статья([а-я ])+ \\d+\\.{0,1}\\d* конституция\\ российский\\ федерация|статья([а-я ])+ \\d+\\.{0,1}\\d* арбитражный\\ процессуальный\\ кодекс\\ российский\\ федерация|статья([а-я ])+ \\d+\\.{0,1}\\d* бюджетный\\ кодекс\\ российский\\ федерация|статья([а-я ])+ \\d+\\.{0,1}\\d* водный\\ кодекс\\ российский\\ федерация|статья([а-я ])+ \\d+\\.{0,1}\\d* воздушный\\ кодекс\\ российский\\ федерация|статья([а-я ])+ \\d+\\.{0,1}\\d* градостроительный\\ кодекс\\ российский\\ федерация|статья([а-я ])+ \\d+\\.{0,1}\\d* гражданский\\ кодекс\\ российский\\ федерация\\ \\-\\ часть\\ первый|статья([а-я ])+ \\d+\\.{0,1}\\d* гражданский\\ кодекс\\ российский\\ федерация\\ \\-\\ часть\\ второй|статья([а-я ])+ \\d+\\.{0,1}\\d* гражданский\\ кодекс\\ российский\\ федерация\\ \\-\\ часть\\ третий|статья([а-я ])+ \\d+\\.{0,1}\\d* гражданский\\ кодекс\\ российский\\ федерация\\ \\-\\ часть\\ четвёртый|статья([а-я ])+ \\d+\\.{0,1}\\d* гражданский\\ процессуальный\\ кодекс\\ российский\\ федерация|статья([а-я ])+ \\d+\\.{0,1}\\d* жилищный\\ кодекс\\ российский\\ федерация|статья([а-я ])+ \\d+\\.{0,1}\\d* земельный\\ кодекс\\ российский\\ федерация|статья([а-я ])+ \\d+\\.{0,1}\\d* кодекс\\ административный\\ судопроизводство\\ российский\\ федерация|статья([а-я ])+ \\d+\\.{0,1}\\d* кодекс\\ закон\\ о\\ труд|статья([а-я ])+ \\d+\\.{0,1}\\d* трудовой\\ кодекс\\ российский\\ федерация|статья([а-я ])+ \\d+\\.{0,1}\\d* кодекс\\ российский\\ федерация\\ о\\ административный\\ правонарушение|статья([а-я ])+ \\d+\\.{0,1}\\d* лесной\\ кодекс\\ российский\\ федерация|статья([а-я ])+ \\d+\\.{0,1}\\d* налоговый\\ кодекс\\ российский\\ федерация\\ \\-\\ часть\\ первый|статья([а-я ])+ \\d+\\.{0,1}\\d* налоговый\\ кодекс\\ российский\\ федерация\\ \\-\\ часть\\ второй|статья([а-я ])+ \\d+\\.{0,1}\\d* семейный\\ кодекс\\ российский\\ федерация|статья([а-я ])+ \\d+\\.{0,1}\\d* таможенный\\ кодекс\\ евразийский\\ экономический\\ союз|статья([а-я ])+ \\d+\\.{0,1}\\d* таможенный\\ кодекс\\ таможенный\\ союз|статья([а-я ])+ \\d+\\.{0,1}\\d* таможенный\\ кодекс\\ евразийский\\ экономический\\ союз|статья([а-я ])+ \\d+\\.{0,1}\\d* трудовой\\ кодекс\\ российский\\ федерация|статья([а-я ])+ \\d+\\.{0,1}\\d* уголовно\\-исполнительный\\ кодекс\\ российский\\ федерация|статья([а-я ])+ \\d+\\.{0,1}\\d* уголовно\\-процессуальный\\ кодекс\\ российский\\ федерация|статья([а-я ])+ \\d+\\.{0,1}\\d* уголовный\\ кодекс\\ российский\\ федерация|статья([а-я ])+ \\d+\\.{0,1}\\d* закон\\ рф\\ \"\\ о\\ защита\\ право\\ потребитель\\ \"|статья([а-я ])+ \\d+\\.{0,1}\\d* закон\\ рф\\ \"\\ о\\ налог\\ на\\ имущество\\ физический\\ лицо\\ \"\\ n\\ 2003\\-1|статья([а-я ])+ \\d+\\.{0,1}\\d* нк\\ рф\\ ч\\ \\.\\ 2\\ глава\\ 32\\ \\.\\ налог\\ на\\ имущество\\ физический\\ лицо|статья([а-я ])+ \\d+\\.{0,1}\\d* закон\\ рф\\ \"\\ о\\ недра\\ \"\\ n\\ 2395\\-1|статья([а-я ])+ \\d+\\.{0,1}\\d* закон\\ рф\\ \"\\ о\\ приватизация\\ жилищный\\ фонд\\ в\\ российский\\ федерация\\ \"\\ n\\ 1541\\-1|статья([а-я ])+ \\d+\\.{0,1}\\d* закон\\ рф\\ \"\\ о\\ средство\\ массовый\\ информация\\ \"|статья([а-я ])+ \\d+\\.{0,1}\\d* закон\\ рф\\ \"\\ о\\ авторский\\ право\\ и\\ смежный\\ право\\ \"\\ n\\ 5351\\-1|статья([а-я ])+ \\d+\\.{0,1}\\d* гк\\ рф\\ ч\\ \\.\\ 4\\ глава\\ 70\\ \\.\\ авторский\\ право|статья([а-я ])+ \\d+\\.{0,1}\\d* федеральный\\ закон\\ \"\\ о\\ банк\\ и\\ банковский\\ деятельность\\ \"\\ n\\ 395\\-1|статья([а-я ])+ \\d+\\.{0,1}\\d* федеральный\\ закон\\ \"\\ о\\ бесплатный\\ юридический\\ помощь\\ в\\ российский\\ федерация\\ \"\\ n\\ 324\\-фз|статья([а-я ])+ \\d+\\.{0,1}\\d* федеральный\\ закон\\ \"\\ о\\ бухгалтерский\\ учёт\\ \"\\ n\\ 402\\-фз|статья([а-я ])+ \\d+\\.{0,1}\\d* федеральный\\ закон\\ \"\\ о\\ валютный\\ регулирование\\ и\\ валютный\\ контроль\\ \"\\ n\\ 173\\-фз|статья([а-я ])+ \\d+\\.{0,1}\\d* федеральный\\ закон\\ \"\\ о\\ ведомственный\\ охрана\\ \"\\ n\\ 77\\-фз|статья([а-я ])+ \\d+\\.{0,1}\\d* федеральный\\ закон\\ \"\\ о\\ ветеран\\ \"\\ n\\ 5\\-фз|статья([а-я ])+ \\d+\\.{0,1}\\d* федеральный\\ закон\\ \"\\ о\\ внесение\\ изменение\\ в\\ отдельный\\ законодательный\\ акт\\ российский\\ федерация\\ в\\ связь\\ с\\ совершенствование\\ принцип\\ определение\\ цена\\ для\\ цель\\ налогообложение\\ \"\\ n\\ 227\\-фз|статья([а-я ])+ \\d+\\.{0,1}\\d* федеральный\\ закон\\ \"\\ о\\ воинский\\ обязанность\\ и\\ военный\\ служба\\ \"\\ n\\ 53\\-фз|статья([а-я ])+ \\d+\\.{0,1}\\d* федеральный\\ закон\\ \"\\ о\\ войско\\ национальный\\ гвардия\\ российский\\ федерация\\ \"\\ n\\ 226\\-фз|статья([а-я ])+ \\d+\\.{0,1}\\d* федеральный\\ закон\\ \"\\ о\\ государственный\\ регистрация\\ юридический\\ лицо\\ и\\ индивидуальный\\ предприниматель\\ \"\\ n\\ 129\\-фз|статья([а-я ])+ \\d+\\.{0,1}\\d* федеральный\\ закон\\ \"\\ о\\ государственный\\ регистрация\\ недвижимость\\ \"\\ n\\ 218\\-фз|статья([а-я ])+ \\d+\\.{0,1}\\d* федеральный\\ закон\\ \"\\ о\\ государственный\\ регистрация\\ транспортный\\ средство\\ в\\ российский\\ федерация\\ и\\ о\\ внесение\\ изменение\\ в\\ отдельный\\ законодательный\\ акт\\ российский\\ федерация\\ \"\\ n\\ 283\\-фз|статья([а-я ])+ \\d+\\.{0,1}\\d* федеральный\\ закон\\ \"\\ о\\ государственный\\ регулирование\\ производство\\ и\\ оборот\\ этиловый\\ спирт\\ ,\\ алкогольный\\ и\\ спиртосодержащий\\ продукция\\ и\\ о\\ ограничение\\ потребление|статья([а-я ])+ \\d+\\.{0,1}\\d* федеральный\\ закон\\ от\\ 31\\.07\\.2020\\ n\\ 248\\-фз\\ \"\\ о\\ государственный\\ контроль|статья([а-я ])+ \\d+\\.{0,1}\\d* федеральный\\ закон\\ от\\ 08\\.12\\.2020\\ n\\ 394\\-фз\\ \"\\ о\\ государственный\\ совет\\ российский\\ федерация\\ \"|статья([а-я ])+ \\d+\\.{0,1}\\d* федеральный\\ закон\\ \"\\ о\\ государственный\\ пособие\\ гражданин\\ ,\\ иметь\\ ребёнок\\ \"\\ n\\ 81\\-фз|статья([а-я ])+ \\d+\\.{0,1}\\d* федеральный\\ закон\\ \"\\ о\\ гражданство\\ российский\\ федерация\\ \"\\ n\\ 62\\-фз|статья([а-я ])+ \\d+\\.{0,1}\\d* федеральный\\ закон\\ \"\\ о\\ ежемесячный\\ выплата\\ семья\\ ,\\ иметь\\ ребёнок\\ \"\\ n\\ 418\\-фз|статья([а-я ])+ \\d+\\.{0,1}\\d* федеральный\\ закон\\ \"\\ о\\ концессионный\\ соглашение\\ \"\\ n\\ 115\\-фз|статья([а-я ])+ \\d+\\.{0,1}\\d* федеральный\\ закон\\ \"\\ о\\ лицензирование\\ отдельный\\ вид\\ деятельность\\ \"\\ n\\ 99\\-фз|статья([а-я ])+ \\d+\\.{0,1}\\d* федеральный\\ закон\\ \"\\ о\\ некоммерческий\\ организация\\ \"\\ n\\ 7\\-фз|статья([а-я ])+ \\d+\\.{0,1}\\d* федеральный\\ закон\\ \"\\ о\\ несостоятельность|статья([а-я ])+ \\d+\\.{0,1}\\d* федеральный\\ закон\\ \"\\ о\\ персональный\\ данные\\ \"\\ n\\ 152\\-фз|статья([а-я ])+ \\d+\\.{0,1}\\d* федеральный\\ закон\\ \"\\ о\\ пожарный\\ безопасность\\ \"\\ n\\ 69\\-фз|статья([а-я ])+ \\d+\\.{0,1}\\d* федеральный\\ закон\\ \"\\ о\\ полиция\\ \"\\ n\\ 3\\-фз|статья([а-я ])+ \\d+\\.{0,1}\\d* федеральный\\ закон\\ \"\\ о\\ правовой\\ положение\\ иностранный\\ гражданин\\ в\\ российский\\ федерация\\ \"\\ n\\ 115\\-фз|статья([а-я ])+ \\d+\\.{0,1}\\d* федеральный\\ закон\\ \"\\ о\\ прокуратура\\ российский\\ федерация\\ \"\\ n\\ 2202\\-1\\-фз|статья([а-я ])+ \\d+\\.{0,1}\\d* федеральный\\ закон\\ \"\\ о\\ противодействие\\ легализация|статья([а-я ])+ \\d+\\.{0,1}\\d* федеральный\\ закон\\ \"\\ о\\ развитие\\ малое\\ и\\ среднее\\ предпринимательство\\ в\\ российский\\ федерация\\ \"\\ n\\ 209\\-фз|статья([а-я ])+ \\d+\\.{0,1}\\d* федеральный\\ закон\\ \"\\ о\\ контрактный\\ система\\ в\\ сфера\\ закупка\\ товар\\ ,\\ работа\\ ,\\ услуга\\ для\\ обеспечение\\ государственный\\ и\\ муниципальный\\ нужда\\ \"\\ n\\ 44\\-фз|статья([а-я ])+ \\d+\\.{0,1}\\d* федеральный\\ закон\\ \"\\ о\\ реклама\\ \"\\ n\\ 38\\-фз|статья([а-я ])+ \\d+\\.{0,1}\\d* федеральный\\ закон\\ \"\\ о\\ рынок\\ ценный\\ бумага\\ \"\\ n\\ 39\\-фз|статья([а-я ])+ \\d+\\.{0,1}\\d* федеральный\\ закон\\ \"\\ о\\ связь\\ \"\\ n\\ 126\\-фз|статья([а-я ])+ \\d+\\.{0,1}\\d* федеральный\\ закон\\ \"\\ о\\ система\\ государственный\\ служба\\ российский\\ федерация\\ \"\\ n\\ 58\\-фз|статья([а-я ])+ \\d+\\.{0,1}\\d* федеральный\\ закон\\ от\\ 20\\.07\\.2020\\ n\\ 211\\-фз\\ \"\\ о\\ совершение\\ финансовый\\ сделка\\ с\\ использование\\ финансовый\\ платформа\\ \"|статья([а-я ])+ \\d+\\.{0,1}\\d* федеральный\\ закон\\ \"\\ о\\ стандартизация\\ в\\ российский\\ федерация\\ \"\\ n\\ 162\\-фз|статья([а-я ])+ \\d+\\.{0,1}\\d* федеральный\\ закон\\ \"\\ о\\ статус\\ военнослужащий\\ \"\\ n\\ 76\\-фз|статья([а-я ])+ \\d+\\.{0,1}\\d* федеральный\\ закон\\ \"\\ о\\ стратегический\\ планирование\\ в\\ российский\\ федерация\\ \"\\ n\\ 172\\-фз|статья([а-я ])+ \\d+\\.{0,1}\\d* федеральный\\ закон\\ \"\\ о\\ страхование\\ вклад\\ физический\\ лицо\\ в\\ банк\\ российский\\ федерация\\ \"\\ n\\ 177\\-фз|статья([а-я ])+ \\d+\\.{0,1}\\d* федеральный\\ закон\\ \"\\ о\\ судебный\\ пристав\\ \"\\ n\\ 118\\-фз|статья([а-я ])+ \\d+\\.{0,1}\\d* федеральный\\ закон\\ \"\\ о\\ таможенный\\ регулирование\\ в\\ российский\\ федерация\\ \"\\ n\\ 311\\-фз|статья([а-я ])+ \\d+\\.{0,1}\\d* федеральный\\ закон\\ \"\\ о\\ таможенный\\ регулирование\\ в\\ российский\\ федерация\\ и\\ о\\ внесение\\ изменение\\ в\\ отдельный\\ законодательный\\ акт\\ российский\\ федерация\\ \"\\ n\\ 289\\-фз|статья([а-я ])+ \\d+\\.{0,1}\\d* федеральный\\ закон\\ \"\\ о\\ технический\\ осмотр\\ транспортный\\ средство\\ и\\ о\\ внесение\\ изменение\\ в\\ отдельный\\ законодательный\\ акт\\ российский\\ федерация\\ \"\\ n\\ 170\\-фз|статья([а-я ])+ \\d+\\.{0,1}\\d* федеральный\\ закон\\ \"\\ о\\ технический\\ регулирование\\ \"\\ n\\ 184\\-фз|статья([а-я ])+ \\d+\\.{0,1}\\d* федеральный\\ закон\\ \"\\ о\\ трудовой\\ пенсия\\ в\\ российский\\ федерация\\ \"\\ n\\ 173\\-фз|статья([а-я ])+ \\d+\\.{0,1}\\d* федеральный\\ закон\\ от\\ 31\\.07\\.2020\\ n\\ 259\\-фз\\ \"\\ о\\ цифровой\\ финансовый\\ актив\\ ,\\ цифровой\\ валюта\\ и\\ о\\ внесение\\ изменение\\ в\\ отдельный\\ законодательный\\ акт\\ российский\\ федерация\\ \"|статья([а-я ])+ \\d+\\.{0,1}\\d* федеральный\\ закон\\ \"\\ о\\ административный\\ надзор\\ за\\ лицо\\ ,\\ освободить\\ из\\ место\\ лишение\\ свобода\\ \"\\ n\\ 64\\-фз|статья([а-я ])+ \\d+\\.{0,1}\\d* федеральный\\ закон\\ \"\\ о\\ акционерный\\ общество\\ \"|статья([а-я ])+ \\d+\\.{0,1}\\d* федеральный\\ закон\\ \"\\ о\\ аудиторский\\ деятельность\\ \"\\ n\\ 307\\-фз|статья([а-я ])+ \\d+\\.{0,1}\\d* федеральный\\ закон\\ \"\\ о\\ инвестиционный\\ товарищество\\ \"\\ n\\ 335\\-фз|статья([а-я ])+ \\d+\\.{0,1}\\d* федеральный\\ закон\\ \"\\ о\\ ипотека|статья([а-я ])+ \\d+\\.{0,1}\\d* федеральный\\ закон\\ \"\\ о\\ исполнительный\\ производство\\ \"\\ n\\ 229\\-фз|статья([а-я ])+ \\d+\\.{0,1}\\d* федеральный\\ закон\\ \"\\ о\\ образование\\ в\\ российский\\ федерация\\ \"\\ n\\ 273\\-фз|статья([а-я ])+ \\d+\\.{0,1}\\d* федеральный\\ закон\\ \"\\ о\\ общество\\ с\\ ограниченный\\ ответственность\\ \"|статья([а-я ])+ \\d+\\.{0,1}\\d* федеральный\\ закон\\ \"\\ о\\ общественный\\ объединение\\ \"\\ n\\ 82\\-фз|статья([а-я ])+ \\d+\\.{0,1}\\d* федеральный\\ закон\\ \"\\ о\\ общий\\ принцип\\ организация\\ местный\\ самоуправление\\ в\\ рф\\ \"|статья([а-я ])+ \\d+\\.{0,1}\\d* федеральный\\ закон\\ \"\\ о\\ обязательный\\ социальный\\ страхование\\ от\\ несчастный\\ случай\\ на\\ производство\\ и\\ профессиональный\\ заболевание\\ \"\\ n\\ 125\\-фз|статья([а-я ])+ \\d+\\.{0,1}\\d* федеральный\\ закон\\ \"\\ о\\ обязательный\\ страхование\\ гражданский\\ ответственность\\ владелец\\ транспортный\\ средство\\ \"|статья([а-я ])+ \\d+\\.{0,1}\\d* федеральный\\ закон\\ от\\ 31\\.07\\.2020\\ n\\ 247\\-фз\\ \"\\ о\\ обязательный\\ требование\\ в\\ российский\\ федерация\\ \"|статья([а-я ])+ \\d+\\.{0,1}\\d* федеральный\\ закон\\ \"\\ о\\ оружие\\ \"\\ n\\ 150\\-фз|статья([а-я ])+ \\d+\\.{0,1}\\d* федеральный\\ закон\\ \"\\ о\\ основа\\ охрана\\ здоровье\\ гражданин\\ в\\ российский\\ федерация\\ \"\\ n\\ 323\\-фз|статья([а-я ])+ \\d+\\.{0,1}\\d* федеральный\\ закон\\ \"\\ о\\ основа\\ система\\ профилактика\\ безнадзорность\\ и\\ правонарушение\\ несовершеннолетний\\ \"\\ n\\ 120\\-фз|статья([а-я ])+ \\d+\\.{0,1}\\d* федеральный\\ закон\\ \"\\ о\\ основа\\ система\\ профилактика\\ правонарушение\\ в\\ российский\\ федерация\\ \"\\ n\\ 182\\-фз|статья([а-я ])+ \\d+\\.{0,1}\\d* федеральный\\ закон\\ от\\ 01\\.04\\.2020\\ n\\ 104\\-фз|статья([а-я ])+ \\d+\\.{0,1}\\d* федеральный\\ закон\\ \"\\ о\\ ответственный\\ обращение\\ с\\ животное\\ и\\ о\\ внесение\\ изменение\\ в\\ отдельный\\ законодательный\\ акт\\ российский\\ федерация\\ \"\\ n\\ 498\\-фз|статья([а-я ])+ \\d+\\.{0,1}\\d* федеральный\\ закон\\ \"\\ о\\ охрана\\ окружающий\\ среда\\ \"\\ n\\ 7\\-фз|статья([а-я ])+ \\d+\\.{0,1}\\d* федеральный\\ закон\\ \"\\ о\\ уполномоченный\\ по\\ право\\ ребёнок\\ в\\ российский\\ федерация\\ \"\\ n\\ 501\\-фз|статья([а-я ])+ \\d+\\.{0,1}\\d* федеральный\\ закон\\ от\\ 31\\.07\\.2020\\ n\\ 258\\-фз\\ \"\\ о\\ экспериментальный\\ правовой\\ режим\\ в\\ сфера\\ цифровой\\ инновация\\ в\\ российский\\ федерация\\ \"|статья([а-я ])+ \\d+\\.{0,1}\\d* федеральный\\ конституционный\\ закон\\ от\\ 06\\.11\\.2020\\ n\\ 4\\-фкз\\ \"\\ о\\ правительство\\ российский\\ федерация\\ \"|статья([а-я ])+ \\d+\\.{0,1}\\d* постановление\\ правительство\\ рф\\ \"\\ о\\ правило\\ дорожный\\ движение\\ \"|статья([а-я ])+ \\d+\\.{0,1}\\d* постановление\\ правительство\\ рф\\ \"\\ о\\ проведение\\ технический\\ осмотр\\ транспортный\\ средство\\ \"\\ n\\ 1008|статья([а-я ])+ \\d+\\.{0,1}\\d* постановление\\ правительство\\ рф\\ \"\\ о\\ утверждение\\ правило\\ перевозка\\ груз\\ автомобильный\\ транспорт\\ \"\\ n\\ 272|статья([а-я ])+ \\d+\\.{0,1}\\d* приказ\\ минрегион\\ рф\\ \"\\ о\\ утверждение\\ перечень\\ вид\\ работа\\ по\\ инженерный\\ изыскание\\ ,\\ по\\ подготовка\\ проектный\\ документация\\ ,\\ по\\ строительство\\ ,\\ реконструкция\\ ,\\ капитальный\\ ремонт\\ объект\\ капитальный\\ строительство\\ ,\\ который\\ оказывать\\ влияние\\ на\\ безопасность\\ объект\\ капитальный\\ строительство\\ \"|статья([а-я ])+ \\d+\\.{0,1}\\d* календарь\\ кадровик\\ на\\ 2021\\ год|статья([а-я ])+ \\d+\\.{0,1}\\d* пособие\\ и\\ они\\ расчётный\\ дать\\ на\\ 2018\\ \\-\\ 2021\\ год|статья([а-я ])+ \\d+\\.{0,1}\\d* расчёт\\ сумма\\ налог\\ на\\ доход\\ физический\\ лицо\\ ,\\ исчислить\\ и\\ удержать\\ налоговый\\ агент|статья([а-я ])+ \\d+\\.{0,1}\\d* АПК РФ|статья([а-я ])+ \\d+\\.{0,1}\\d* БК РФ|статья([а-я ])+ \\d+\\.{0,1}\\d* ВК РФ|статья([а-я ])+ \\d+\\.{0,1}\\d* ГПК РФ|статья([а-я ])+ \\d+\\.{0,1}\\d* ЖК РФ|статья([а-я ])+ \\d+\\.{0,1}\\d* ЗК РФ|статья([а-я ])+ \\d+\\.{0,1}\\d* КАС РФ|статья([а-я ])+ \\d+\\.{0,1}\\d* ЛК РФ|статья([а-я ])+ \\d+\\.{0,1}\\d* СК РФ|статья([а-я ])+ \\d+\\.{0,1}\\d* ТК ЕАЭС|статья([а-я ])+ \\d+\\.{0,1}\\d* ТК ТС|статья([а-я ])+ \\d+\\.{0,1}\\d* ТК РФ|статья([а-я ])+ \\d+\\.{0,1}\\d* УИК РФ|статья([а-я ])+ \\d+\\.{0,1}\\d* УПК РФ|статья([а-я ])+ \\d+\\.{0,1}\\d* УК РФ|статья([а-я ])+ \\d+\\.{0,1}\\d* ЗОЗПП|статья([а-я ])+ \\d+\\.{0,1}\\d* АО|статья([а-я ])+ \\d+\\.{0,1}\\d* ООО|статья([а-я ])+ \\d+\\.{0,1}\\d* ОСАГО|статья([а-я ])+ \\d+\\.{0,1}\\d* ПДД|статья([а-я ])+ \\d+\\.{0,1}\\d* ПД|c[\\. ]+\\d+\\.{0,1}\\d* конституция|c[\\. ]+\\d+\\.{0,1}\\d* кодекс|c[\\. ]+\\d+\\.{0,1}\\d* закон\\ ,\\ нормативный\\ акт\\ ,\\ справочный\\ материал|c[\\. ]+\\d+\\.{0,1}\\d* конституция\\ российский\\ федерация|c[\\. ]+\\d+\\.{0,1}\\d* арбитражный\\ процессуальный\\ кодекс\\ российский\\ федерация|c[\\. ]+\\d+\\.{0,1}\\d* бюджетный\\ кодекс\\ российский\\ федерация|c[\\. ]+\\d+\\.{0,1}\\d* водный\\ кодекс\\ российский\\ федерация|c[\\. ]+\\d+\\.{0,1}\\d* воздушный\\ кодекс\\ российский\\ федерация|c[\\. ]+\\d+\\.{0,1}\\d* градостроительный\\ кодекс\\ российский\\ федерация|c[\\. ]+\\d+\\.{0,1}\\d* гражданский\\ кодекс\\ российский\\ федерация\\ \\-\\ часть\\ первый|c[\\. ]+\\d+\\.{0,1}\\d* гражданский\\ кодекс\\ российский\\ федерация\\ \\-\\ часть\\ второй|c[\\. ]+\\d+\\.{0,1}\\d* гражданский\\ кодекс\\ российский\\ федерация\\ \\-\\ часть\\ третий|c[\\. ]+\\d+\\.{0,1}\\d* гражданский\\ кодекс\\ российский\\ федерация\\ \\-\\ часть\\ четвёртый|c[\\. ]+\\d+\\.{0,1}\\d* гражданский\\ процессуальный\\ кодекс\\ российский\\ федерация|c[\\. ]+\\d+\\.{0,1}\\d* жилищный\\ кодекс\\ российский\\ федерация|c[\\. ]+\\d+\\.{0,1}\\d* земельный\\ кодекс\\ российский\\ федерация|c[\\. ]+\\d+\\.{0,1}\\d* кодекс\\ административный\\ судопроизводство\\ российский\\ федерация|c[\\. ]+\\d+\\.{0,1}\\d* кодекс\\ закон\\ о\\ труд|c[\\. ]+\\d+\\.{0,1}\\d* трудовой\\ кодекс\\ российский\\ федерация|c[\\. ]+\\d+\\.{0,1}\\d* кодекс\\ российский\\ федерация\\ о\\ административный\\ правонарушение|c[\\. ]+\\d+\\.{0,1}\\d* лесной\\ кодекс\\ российский\\ федерация|c[\\. ]+\\d+\\.{0,1}\\d* налоговый\\ кодекс\\ российский\\ федерация\\ \\-\\ часть\\ первый|c[\\. ]+\\d+\\.{0,1}\\d* налоговый\\ кодекс\\ российский\\ федерация\\ \\-\\ часть\\ второй|c[\\. ]+\\d+\\.{0,1}\\d* семейный\\ кодекс\\ российский\\ федерация|c[\\. ]+\\d+\\.{0,1}\\d* таможенный\\ кодекс\\ евразийский\\ экономический\\ союз|c[\\. ]+\\d+\\.{0,1}\\d* таможенный\\ кодекс\\ таможенный\\ союз|c[\\. ]+\\d+\\.{0,1}\\d* таможенный\\ кодекс\\ евразийский\\ экономический\\ союз|c[\\. ]+\\d+\\.{0,1}\\d* трудовой\\ кодекс\\ российский\\ федерация|c[\\. ]+\\d+\\.{0,1}\\d* уголовно\\-исполнительный\\ кодекс\\ российский\\ федерация|c[\\. ]+\\d+\\.{0,1}\\d* уголовно\\-процессуальный\\ кодекс\\ российский\\ федерация|c[\\. ]+\\d+\\.{0,1}\\d* уголовный\\ кодекс\\ российский\\ федерация|c[\\. ]+\\d+\\.{0,1}\\d* закон\\ рф\\ \"\\ о\\ защита\\ право\\ потребитель\\ \"|c[\\. ]+\\d+\\.{0,1}\\d* закон\\ рф\\ \"\\ о\\ налог\\ на\\ имущество\\ физический\\ лицо\\ \"\\ n\\ 2003\\-1|c[\\. ]+\\d+\\.{0,1}\\d* нк\\ рф\\ ч\\ \\.\\ 2\\ глава\\ 32\\ \\.\\ налог\\ на\\ имущество\\ физический\\ лицо|c[\\. ]+\\d+\\.{0,1}\\d* закон\\ рф\\ \"\\ о\\ недра\\ \"\\ n\\ 2395\\-1|c[\\. ]+\\d+\\.{0,1}\\d* закон\\ рф\\ \"\\ о\\ приватизация\\ жилищный\\ фонд\\ в\\ российский\\ федерация\\ \"\\ n\\ 1541\\-1|c[\\. ]+\\d+\\.{0,1}\\d* закон\\ рф\\ \"\\ о\\ средство\\ массовый\\ информация\\ \"|c[\\. ]+\\d+\\.{0,1}\\d* закон\\ рф\\ \"\\ о\\ авторский\\ право\\ и\\ смежный\\ право\\ \"\\ n\\ 5351\\-1|c[\\. ]+\\d+\\.{0,1}\\d* гк\\ рф\\ ч\\ \\.\\ 4\\ глава\\ 70\\ \\.\\ авторский\\ право|c[\\. ]+\\d+\\.{0,1}\\d* федеральный\\ закон\\ \"\\ о\\ банк\\ и\\ банковский\\ деятельность\\ \"\\ n\\ 395\\-1|c[\\. ]+\\d+\\.{0,1}\\d* федеральный\\ закон\\ \"\\ о\\ бесплатный\\ юридический\\ помощь\\ в\\ российский\\ федерация\\ \"\\ n\\ 324\\-фз|c[\\. ]+\\d+\\.{0,1}\\d* федеральный\\ закон\\ \"\\ о\\ бухгалтерский\\ учёт\\ \"\\ n\\ 402\\-фз|c[\\. ]+\\d+\\.{0,1}\\d* федеральный\\ закон\\ \"\\ о\\ валютный\\ регулирование\\ и\\ валютный\\ контроль\\ \"\\ n\\ 173\\-фз|c[\\. ]+\\d+\\.{0,1}\\d* федеральный\\ закон\\ \"\\ о\\ ведомственный\\ охрана\\ \"\\ n\\ 77\\-фз|c[\\. ]+\\d+\\.{0,1}\\d* федеральный\\ закон\\ \"\\ о\\ ветеран\\ \"\\ n\\ 5\\-фз|c[\\. ]+\\d+\\.{0,1}\\d* федеральный\\ закон\\ \"\\ о\\ внесение\\ изменение\\ в\\ отдельный\\ законодательный\\ акт\\ российский\\ федерация\\ в\\ связь\\ с\\ совершенствование\\ принцип\\ определение\\ цена\\ для\\ цель\\ налогообложение\\ \"\\ n\\ 227\\-фз|c[\\. ]+\\d+\\.{0,1}\\d* федеральный\\ закон\\ \"\\ о\\ воинский\\ обязанность\\ и\\ военный\\ служба\\ \"\\ n\\ 53\\-фз|c[\\. ]+\\d+\\.{0,1}\\d* федеральный\\ закон\\ \"\\ о\\ войско\\ национальный\\ гвардия\\ российский\\ федерация\\ \"\\ n\\ 226\\-фз|c[\\. ]+\\d+\\.{0,1}\\d* федеральный\\ закон\\ \"\\ о\\ государственный\\ регистрация\\ юридический\\ лицо\\ и\\ индивидуальный\\ предприниматель\\ \"\\ n\\ 129\\-фз|c[\\. ]+\\d+\\.{0,1}\\d* федеральный\\ закон\\ \"\\ о\\ государственный\\ регистрация\\ недвижимость\\ \"\\ n\\ 218\\-фз|c[\\. ]+\\d+\\.{0,1}\\d* федеральный\\ закон\\ \"\\ о\\ государственный\\ регистрация\\ транспортный\\ средство\\ в\\ российский\\ федерация\\ и\\ о\\ внесение\\ изменение\\ в\\ отдельный\\ законодательный\\ акт\\ российский\\ федерация\\ \"\\ n\\ 283\\-фз|c[\\. ]+\\d+\\.{0,1}\\d* федеральный\\ закон\\ \"\\ о\\ государственный\\ регулирование\\ производство\\ и\\ оборот\\ этиловый\\ спирт\\ ,\\ алкогольный\\ и\\ спиртосодержащий\\ продукция\\ и\\ о\\ ограничение\\ потребление|c[\\. ]+\\d+\\.{0,1}\\d* федеральный\\ закон\\ от\\ 31\\.07\\.2020\\ n\\ 248\\-фз\\ \"\\ о\\ государственный\\ контроль|c[\\. ]+\\d+\\.{0,1}\\d* федеральный\\ закон\\ от\\ 08\\.12\\.2020\\ n\\ 394\\-фз\\ \"\\ о\\ государственный\\ совет\\ российский\\ федерация\\ \"|c[\\. ]+\\d+\\.{0,1}\\d* федеральный\\ закон\\ \"\\ о\\ государственный\\ пособие\\ гражданин\\ ,\\ иметь\\ ребёнок\\ \"\\ n\\ 81\\-фз|c[\\. ]+\\d+\\.{0,1}\\d* федеральный\\ закон\\ \"\\ о\\ гражданство\\ российский\\ федерация\\ \"\\ n\\ 62\\-фз|c[\\. ]+\\d+\\.{0,1}\\d* федеральный\\ закон\\ \"\\ о\\ ежемесячный\\ выплата\\ семья\\ ,\\ иметь\\ ребёнок\\ \"\\ n\\ 418\\-фз|c[\\. ]+\\d+\\.{0,1}\\d* федеральный\\ закон\\ \"\\ о\\ концессионный\\ соглашение\\ \"\\ n\\ 115\\-фз|c[\\. ]+\\d+\\.{0,1}\\d* федеральный\\ закон\\ \"\\ о\\ лицензирование\\ отдельный\\ вид\\ деятельность\\ \"\\ n\\ 99\\-фз|c[\\. ]+\\d+\\.{0,1}\\d* федеральный\\ закон\\ \"\\ о\\ некоммерческий\\ организация\\ \"\\ n\\ 7\\-фз|c[\\. ]+\\d+\\.{0,1}\\d* федеральный\\ закон\\ \"\\ о\\ несостоятельность|c[\\. ]+\\d+\\.{0,1}\\d* федеральный\\ закон\\ \"\\ о\\ персональный\\ данные\\ \"\\ n\\ 152\\-фз|c[\\. ]+\\d+\\.{0,1}\\d* федеральный\\ закон\\ \"\\ о\\ пожарный\\ безопасность\\ \"\\ n\\ 69\\-фз|c[\\. ]+\\d+\\.{0,1}\\d* федеральный\\ закон\\ \"\\ о\\ полиция\\ \"\\ n\\ 3\\-фз|c[\\. ]+\\d+\\.{0,1}\\d* федеральный\\ закон\\ \"\\ о\\ правовой\\ положение\\ иностранный\\ гражданин\\ в\\ российский\\ федерация\\ \"\\ n\\ 115\\-фз|c[\\. ]+\\d+\\.{0,1}\\d* федеральный\\ закон\\ \"\\ о\\ прокуратура\\ российский\\ федерация\\ \"\\ n\\ 2202\\-1\\-фз|c[\\. ]+\\d+\\.{0,1}\\d* федеральный\\ закон\\ \"\\ о\\ противодействие\\ легализация|c[\\. ]+\\d+\\.{0,1}\\d* федеральный\\ закон\\ \"\\ о\\ развитие\\ малое\\ и\\ среднее\\ предпринимательство\\ в\\ российский\\ федерация\\ \"\\ n\\ 209\\-фз|c[\\. ]+\\d+\\.{0,1}\\d* федеральный\\ закон\\ \"\\ о\\ контрактный\\ система\\ в\\ сфера\\ закупка\\ товар\\ ,\\ работа\\ ,\\ услуга\\ для\\ обеспечение\\ государственный\\ и\\ муниципальный\\ нужда\\ \"\\ n\\ 44\\-фз|c[\\. ]+\\d+\\.{0,1}\\d* федеральный\\ закон\\ \"\\ о\\ реклама\\ \"\\ n\\ 38\\-фз|c[\\. ]+\\d+\\.{0,1}\\d* федеральный\\ закон\\ \"\\ о\\ рынок\\ ценный\\ бумага\\ \"\\ n\\ 39\\-фз|c[\\. ]+\\d+\\.{0,1}\\d* федеральный\\ закон\\ \"\\ о\\ связь\\ \"\\ n\\ 126\\-фз|c[\\. ]+\\d+\\.{0,1}\\d* федеральный\\ закон\\ \"\\ о\\ система\\ государственный\\ служба\\ российский\\ федерация\\ \"\\ n\\ 58\\-фз|c[\\. ]+\\d+\\.{0,1}\\d* федеральный\\ закон\\ от\\ 20\\.07\\.2020\\ n\\ 211\\-фз\\ \"\\ о\\ совершение\\ финансовый\\ сделка\\ с\\ использование\\ финансовый\\ платформа\\ \"|c[\\. ]+\\d+\\.{0,1}\\d* федеральный\\ закон\\ \"\\ о\\ стандартизация\\ в\\ российский\\ федерация\\ \"\\ n\\ 162\\-фз|c[\\. ]+\\d+\\.{0,1}\\d* федеральный\\ закон\\ \"\\ о\\ статус\\ военнослужащий\\ \"\\ n\\ 76\\-фз|c[\\. ]+\\d+\\.{0,1}\\d* федеральный\\ закон\\ \"\\ о\\ стратегический\\ планирование\\ в\\ российский\\ федерация\\ \"\\ n\\ 172\\-фз|c[\\. ]+\\d+\\.{0,1}\\d* федеральный\\ закон\\ \"\\ о\\ страхование\\ вклад\\ физический\\ лицо\\ в\\ банк\\ российский\\ федерация\\ \"\\ n\\ 177\\-фз|c[\\. ]+\\d+\\.{0,1}\\d* федеральный\\ закон\\ \"\\ о\\ судебный\\ пристав\\ \"\\ n\\ 118\\-фз|c[\\. ]+\\d+\\.{0,1}\\d* федеральный\\ закон\\ \"\\ о\\ таможенный\\ регулирование\\ в\\ российский\\ федерация\\ \"\\ n\\ 311\\-фз|c[\\. ]+\\d+\\.{0,1}\\d* федеральный\\ закон\\ \"\\ о\\ таможенный\\ регулирование\\ в\\ российский\\ федерация\\ и\\ о\\ внесение\\ изменение\\ в\\ отдельный\\ законодательный\\ акт\\ российский\\ федерация\\ \"\\ n\\ 289\\-фз|c[\\. ]+\\d+\\.{0,1}\\d* федеральный\\ закон\\ \"\\ о\\ технический\\ осмотр\\ транспортный\\ средство\\ и\\ о\\ внесение\\ изменение\\ в\\ отдельный\\ законодательный\\ акт\\ российский\\ федерация\\ \"\\ n\\ 170\\-фз|c[\\. ]+\\d+\\.{0,1}\\d* федеральный\\ закон\\ \"\\ о\\ технический\\ регулирование\\ \"\\ n\\ 184\\-фз|c[\\. ]+\\d+\\.{0,1}\\d* федеральный\\ закон\\ \"\\ о\\ трудовой\\ пенсия\\ в\\ российский\\ федерация\\ \"\\ n\\ 173\\-фз|c[\\. ]+\\d+\\.{0,1}\\d* федеральный\\ закон\\ от\\ 31\\.07\\.2020\\ n\\ 259\\-фз\\ \"\\ о\\ цифровой\\ финансовый\\ актив\\ ,\\ цифровой\\ валюта\\ и\\ о\\ внесение\\ изменение\\ в\\ отдельный\\ законодательный\\ акт\\ российский\\ федерация\\ \"|c[\\. ]+\\d+\\.{0,1}\\d* федеральный\\ закон\\ \"\\ о\\ административный\\ надзор\\ за\\ лицо\\ ,\\ освободить\\ из\\ место\\ лишение\\ свобода\\ \"\\ n\\ 64\\-фз|c[\\. ]+\\d+\\.{0,1}\\d* федеральный\\ закон\\ \"\\ о\\ акционерный\\ общество\\ \"|c[\\. ]+\\d+\\.{0,1}\\d* федеральный\\ закон\\ \"\\ о\\ аудиторский\\ деятельность\\ \"\\ n\\ 307\\-фз|c[\\. ]+\\d+\\.{0,1}\\d* федеральный\\ закон\\ \"\\ о\\ инвестиционный\\ товарищество\\ \"\\ n\\ 335\\-фз|c[\\. ]+\\d+\\.{0,1}\\d* федеральный\\ закон\\ \"\\ о\\ ипотека|c[\\. ]+\\d+\\.{0,1}\\d* федеральный\\ закон\\ \"\\ о\\ исполнительный\\ производство\\ \"\\ n\\ 229\\-фз|c[\\. ]+\\d+\\.{0,1}\\d* федеральный\\ закон\\ \"\\ о\\ образование\\ в\\ российский\\ федерация\\ \"\\ n\\ 273\\-фз|c[\\. ]+\\d+\\.{0,1}\\d* федеральный\\ закон\\ \"\\ о\\ общество\\ с\\ ограниченный\\ ответственность\\ \"|c[\\. ]+\\d+\\.{0,1}\\d* федеральный\\ закон\\ \"\\ о\\ общественный\\ объединение\\ \"\\ n\\ 82\\-фз|c[\\. ]+\\d+\\.{0,1}\\d* федеральный\\ закон\\ \"\\ о\\ общий\\ принцип\\ организация\\ местный\\ самоуправление\\ в\\ рф\\ \"|c[\\. ]+\\d+\\.{0,1}\\d* федеральный\\ закон\\ \"\\ о\\ обязательный\\ социальный\\ страхование\\ от\\ несчастный\\ случай\\ на\\ производство\\ и\\ профессиональный\\ заболевание\\ \"\\ n\\ 125\\-фз|c[\\. ]+\\d+\\.{0,1}\\d* федеральный\\ закон\\ \"\\ о\\ обязательный\\ страхование\\ гражданский\\ ответственность\\ владелец\\ транспортный\\ средство\\ \"|c[\\. ]+\\d+\\.{0,1}\\d* федеральный\\ закон\\ от\\ 31\\.07\\.2020\\ n\\ 247\\-фз\\ \"\\ о\\ обязательный\\ требование\\ в\\ российский\\ федерация\\ \"|c[\\. ]+\\d+\\.{0,1}\\d* федеральный\\ закон\\ \"\\ о\\ оружие\\ \"\\ n\\ 150\\-фз|c[\\. ]+\\d+\\.{0,1}\\d* федеральный\\ закон\\ \"\\ о\\ основа\\ охрана\\ здоровье\\ гражданин\\ в\\ российский\\ федерация\\ \"\\ n\\ 323\\-фз|c[\\. ]+\\d+\\.{0,1}\\d* федеральный\\ закон\\ \"\\ о\\ основа\\ система\\ профилактика\\ безнадзорность\\ и\\ правонарушение\\ несовершеннолетний\\ \"\\ n\\ 120\\-фз|c[\\. ]+\\d+\\.{0,1}\\d* федеральный\\ закон\\ \"\\ о\\ основа\\ система\\ профилактика\\ правонарушение\\ в\\ российский\\ федерация\\ \"\\ n\\ 182\\-фз|c[\\. ]+\\d+\\.{0,1}\\d* федеральный\\ закон\\ от\\ 01\\.04\\.2020\\ n\\ 104\\-фз|c[\\. ]+\\d+\\.{0,1}\\d* федеральный\\ закон\\ \"\\ о\\ ответственный\\ обращение\\ с\\ животное\\ и\\ о\\ внесение\\ изменение\\ в\\ отдельный\\ законодательный\\ акт\\ российский\\ федерация\\ \"\\ n\\ 498\\-фз|c[\\. ]+\\d+\\.{0,1}\\d* федеральный\\ закон\\ \"\\ о\\ охрана\\ окружающий\\ среда\\ \"\\ n\\ 7\\-фз|c[\\. ]+\\d+\\.{0,1}\\d* федеральный\\ закон\\ \"\\ о\\ уполномоченный\\ по\\ право\\ ребёнок\\ в\\ российский\\ федерация\\ \"\\ n\\ 501\\-фз|c[\\. ]+\\d+\\.{0,1}\\d* федеральный\\ закон\\ от\\ 31\\.07\\.2020\\ n\\ 258\\-фз\\ \"\\ о\\ экспериментальный\\ правовой\\ режим\\ в\\ сфера\\ цифровой\\ инновация\\ в\\ российский\\ федерация\\ \"|c[\\. ]+\\d+\\.{0,1}\\d* федеральный\\ конституционный\\ закон\\ от\\ 06\\.11\\.2020\\ n\\ 4\\-фкз\\ \"\\ о\\ правительство\\ российский\\ федерация\\ \"|c[\\. ]+\\d+\\.{0,1}\\d* постановление\\ правительство\\ рф\\ \"\\ о\\ правило\\ дорожный\\ движение\\ \"|c[\\. ]+\\d+\\.{0,1}\\d* постановление\\ правительство\\ рф\\ \"\\ о\\ проведение\\ технический\\ осмотр\\ транспортный\\ средство\\ \"\\ n\\ 1008|c[\\. ]+\\d+\\.{0,1}\\d* постановление\\ правительство\\ рф\\ \"\\ о\\ утверждение\\ правило\\ перевозка\\ груз\\ автомобильный\\ транспорт\\ \"\\ n\\ 272|c[\\. ]+\\d+\\.{0,1}\\d* приказ\\ минрегион\\ рф\\ \"\\ о\\ утверждение\\ перечень\\ вид\\ работа\\ по\\ инженерный\\ изыскание\\ ,\\ по\\ подготовка\\ проектный\\ документация\\ ,\\ по\\ строительство\\ ,\\ реконструкция\\ ,\\ капитальный\\ ремонт\\ объект\\ капитальный\\ строительство\\ ,\\ который\\ оказывать\\ влияние\\ на\\ безопасность\\ объект\\ капитальный\\ строительство\\ \"|c[\\. ]+\\d+\\.{0,1}\\d* календарь\\ кадровик\\ на\\ 2021\\ год|c[\\. ]+\\d+\\.{0,1}\\d* пособие\\ и\\ они\\ расчётный\\ дать\\ на\\ 2018\\ \\-\\ 2021\\ год|c[\\. ]+\\d+\\.{0,1}\\d* расчёт\\ сумма\\ налог\\ на\\ доход\\ физический\\ лицо\\ ,\\ исчислить\\ и\\ удержать\\ налоговый\\ агент|c[\\. ]+\\d+\\.{0,1}\\d* АПК РФ|c[\\. ]+\\d+\\.{0,1}\\d* БК РФ|c[\\. ]+\\d+\\.{0,1}\\d* ВК РФ|c[\\. ]+\\d+\\.{0,1}\\d* ГПК РФ|c[\\. ]+\\d+\\.{0,1}\\d* ЖК РФ|c[\\. ]+\\d+\\.{0,1}\\d* ЗК РФ|c[\\. ]+\\d+\\.{0,1}\\d* КАС РФ|c[\\. ]+\\d+\\.{0,1}\\d* ЛК РФ|c[\\. ]+\\d+\\.{0,1}\\d* СК РФ|c[\\. ]+\\d+\\.{0,1}\\d* ТК ЕАЭС|c[\\. ]+\\d+\\.{0,1}\\d* ТК ТС|c[\\. ]+\\d+\\.{0,1}\\d* ТК РФ|c[\\. ]+\\d+\\.{0,1}\\d* УИК РФ|c[\\. ]+\\d+\\.{0,1}\\d* УПК РФ|c[\\. ]+\\d+\\.{0,1}\\d* УК РФ|c[\\. ]+\\d+\\.{0,1}\\d* ЗОЗПП|c[\\. ]+\\d+\\.{0,1}\\d* АО|c[\\. ]+\\d+\\.{0,1}\\d* ООО|c[\\. ]+\\d+\\.{0,1}\\d* ОСАГО|c[\\. ]+\\d+\\.{0,1}\\d* ПДД|c[\\. ]+\\d+\\.{0,1}\\d* ПД|ст[\\. ]+\\d+\\.{0,1}\\d* конституция|ст[\\. ]+\\d+\\.{0,1}\\d* кодекс|ст[\\. ]+\\d+\\.{0,1}\\d* закон\\ ,\\ нормативный\\ акт\\ ,\\ справочный\\ материал|ст[\\. ]+\\d+\\.{0,1}\\d* конституция\\ российский\\ федерация|ст[\\. ]+\\d+\\.{0,1}\\d* арбитражный\\ процессуальный\\ кодекс\\ российский\\ федерация|ст[\\. ]+\\d+\\.{0,1}\\d* бюджетный\\ кодекс\\ российский\\ федерация|ст[\\. ]+\\d+\\.{0,1}\\d* водный\\ кодекс\\ российский\\ федерация|ст[\\. ]+\\d+\\.{0,1}\\d* воздушный\\ кодекс\\ российский\\ федерация|ст[\\. ]+\\d+\\.{0,1}\\d* градостроительный\\ кодекс\\ российский\\ федерация|ст[\\. ]+\\d+\\.{0,1}\\d* гражданский\\ кодекс\\ российский\\ федерация\\ \\-\\ часть\\ первый|ст[\\. ]+\\d+\\.{0,1}\\d* гражданский\\ кодекс\\ российский\\ федерация\\ \\-\\ часть\\ второй|ст[\\. ]+\\d+\\.{0,1}\\d* гражданский\\ кодекс\\ российский\\ федерация\\ \\-\\ часть\\ третий|ст[\\. ]+\\d+\\.{0,1}\\d* гражданский\\ кодекс\\ российский\\ федерация\\ \\-\\ часть\\ четвёртый|ст[\\. ]+\\d+\\.{0,1}\\d* гражданский\\ процессуальный\\ кодекс\\ российский\\ федерация|ст[\\. ]+\\d+\\.{0,1}\\d* жилищный\\ кодекс\\ российский\\ федерация|ст[\\. ]+\\d+\\.{0,1}\\d* земельный\\ кодекс\\ российский\\ федерация|ст[\\. ]+\\d+\\.{0,1}\\d* кодекс\\ административный\\ судопроизводство\\ российский\\ федерация|ст[\\. ]+\\d+\\.{0,1}\\d* кодекс\\ закон\\ о\\ труд|ст[\\. ]+\\d+\\.{0,1}\\d* трудовой\\ кодекс\\ российский\\ федерация|ст[\\. ]+\\d+\\.{0,1}\\d* кодекс\\ российский\\ федерация\\ о\\ административный\\ правонарушение|ст[\\. ]+\\d+\\.{0,1}\\d* лесной\\ кодекс\\ российский\\ федерация|ст[\\. ]+\\d+\\.{0,1}\\d* налоговый\\ кодекс\\ российский\\ федерация\\ \\-\\ часть\\ первый|ст[\\. ]+\\d+\\.{0,1}\\d* налоговый\\ кодекс\\ российский\\ федерация\\ \\-\\ часть\\ второй|ст[\\. ]+\\d+\\.{0,1}\\d* семейный\\ кодекс\\ российский\\ федерация|ст[\\. ]+\\d+\\.{0,1}\\d* таможенный\\ кодекс\\ евразийский\\ экономический\\ союз|ст[\\. ]+\\d+\\.{0,1}\\d* таможенный\\ кодекс\\ таможенный\\ союз|ст[\\. ]+\\d+\\.{0,1}\\d* таможенный\\ кодекс\\ евразийский\\ экономический\\ союз|ст[\\. ]+\\d+\\.{0,1}\\d* трудовой\\ кодекс\\ российский\\ федерация|ст[\\. ]+\\d+\\.{0,1}\\d* уголовно\\-исполнительный\\ кодекс\\ российский\\ федерация|ст[\\. ]+\\d+\\.{0,1}\\d* уголовно\\-процессуальный\\ кодекс\\ российский\\ федерация|ст[\\. ]+\\d+\\.{0,1}\\d* уголовный\\ кодекс\\ российский\\ федерация|ст[\\. ]+\\d+\\.{0,1}\\d* закон\\ рф\\ \"\\ о\\ защита\\ право\\ потребитель\\ \"|ст[\\. ]+\\d+\\.{0,1}\\d* закон\\ рф\\ \"\\ о\\ налог\\ на\\ имущество\\ физический\\ лицо\\ \"\\ n\\ 2003\\-1|ст[\\. ]+\\d+\\.{0,1}\\d* нк\\ рф\\ ч\\ \\.\\ 2\\ глава\\ 32\\ \\.\\ налог\\ на\\ имущество\\ физический\\ лицо|ст[\\. ]+\\d+\\.{0,1}\\d* закон\\ рф\\ \"\\ о\\ недра\\ \"\\ n\\ 2395\\-1|ст[\\. ]+\\d+\\.{0,1}\\d* закон\\ рф\\ \"\\ о\\ приватизация\\ жилищный\\ фонд\\ в\\ российский\\ федерация\\ \"\\ n\\ 1541\\-1|ст[\\. ]+\\d+\\.{0,1}\\d* закон\\ рф\\ \"\\ о\\ средство\\ массовый\\ информация\\ \"|ст[\\. ]+\\d+\\.{0,1}\\d* закон\\ рф\\ \"\\ о\\ авторский\\ право\\ и\\ смежный\\ право\\ \"\\ n\\ 5351\\-1|ст[\\. ]+\\d+\\.{0,1}\\d* гк\\ рф\\ ч\\ \\.\\ 4\\ глава\\ 70\\ \\.\\ авторский\\ право|ст[\\. ]+\\d+\\.{0,1}\\d* федеральный\\ закон\\ \"\\ о\\ банк\\ и\\ банковский\\ деятельность\\ \"\\ n\\ 395\\-1|ст[\\. ]+\\d+\\.{0,1}\\d* федеральный\\ закон\\ \"\\ о\\ бесплатный\\ юридический\\ помощь\\ в\\ российский\\ федерация\\ \"\\ n\\ 324\\-фз|ст[\\. ]+\\d+\\.{0,1}\\d* федеральный\\ закон\\ \"\\ о\\ бухгалтерский\\ учёт\\ \"\\ n\\ 402\\-фз|ст[\\. ]+\\d+\\.{0,1}\\d* федеральный\\ закон\\ \"\\ о\\ валютный\\ регулирование\\ и\\ валютный\\ контроль\\ \"\\ n\\ 173\\-фз|ст[\\. ]+\\d+\\.{0,1}\\d* федеральный\\ закон\\ \"\\ о\\ ведомственный\\ охрана\\ \"\\ n\\ 77\\-фз|ст[\\. ]+\\d+\\.{0,1}\\d* федеральный\\ закон\\ \"\\ о\\ ветеран\\ \"\\ n\\ 5\\-фз|ст[\\. ]+\\d+\\.{0,1}\\d* федеральный\\ закон\\ \"\\ о\\ внесение\\ изменение\\ в\\ отдельный\\ законодательный\\ акт\\ российский\\ федерация\\ в\\ связь\\ с\\ совершенствование\\ принцип\\ определение\\ цена\\ для\\ цель\\ налогообложение\\ \"\\ n\\ 227\\-фз|ст[\\. ]+\\d+\\.{0,1}\\d* федеральный\\ закон\\ \"\\ о\\ воинский\\ обязанность\\ и\\ военный\\ служба\\ \"\\ n\\ 53\\-фз|ст[\\. ]+\\d+\\.{0,1}\\d* федеральный\\ закон\\ \"\\ о\\ войско\\ национальный\\ гвардия\\ российский\\ федерация\\ \"\\ n\\ 226\\-фз|ст[\\. ]+\\d+\\.{0,1}\\d* федеральный\\ закон\\ \"\\ о\\ государственный\\ регистрация\\ юридический\\ лицо\\ и\\ индивидуальный\\ предприниматель\\ \"\\ n\\ 129\\-фз|ст[\\. ]+\\d+\\.{0,1}\\d* федеральный\\ закон\\ \"\\ о\\ государственный\\ регистрация\\ недвижимость\\ \"\\ n\\ 218\\-фз|ст[\\. ]+\\d+\\.{0,1}\\d* федеральный\\ закон\\ \"\\ о\\ государственный\\ регистрация\\ транспортный\\ средство\\ в\\ российский\\ федерация\\ и\\ о\\ внесение\\ изменение\\ в\\ отдельный\\ законодательный\\ акт\\ российский\\ федерация\\ \"\\ n\\ 283\\-фз|ст[\\. ]+\\d+\\.{0,1}\\d* федеральный\\ закон\\ \"\\ о\\ государственный\\ регулирование\\ производство\\ и\\ оборот\\ этиловый\\ спирт\\ ,\\ алкогольный\\ и\\ спиртосодержащий\\ продукция\\ и\\ о\\ ограничение\\ потребление|ст[\\. ]+\\d+\\.{0,1}\\d* федеральный\\ закон\\ от\\ 31\\.07\\.2020\\ n\\ 248\\-фз\\ \"\\ о\\ государственный\\ контроль|ст[\\. ]+\\d+\\.{0,1}\\d* федеральный\\ закон\\ от\\ 08\\.12\\.2020\\ n\\ 394\\-фз\\ \"\\ о\\ государственный\\ совет\\ российский\\ федерация\\ \"|ст[\\. ]+\\d+\\.{0,1}\\d* федеральный\\ закон\\ \"\\ о\\ государственный\\ пособие\\ гражданин\\ ,\\ иметь\\ ребёнок\\ \"\\ n\\ 81\\-фз|ст[\\. ]+\\d+\\.{0,1}\\d* федеральный\\ закон\\ \"\\ о\\ гражданство\\ российский\\ федерация\\ \"\\ n\\ 62\\-фз|ст[\\. ]+\\d+\\.{0,1}\\d* федеральный\\ закон\\ \"\\ о\\ ежемесячный\\ выплата\\ семья\\ ,\\ иметь\\ ребёнок\\ \"\\ n\\ 418\\-фз|ст[\\. ]+\\d+\\.{0,1}\\d* федеральный\\ закон\\ \"\\ о\\ концессионный\\ соглашение\\ \"\\ n\\ 115\\-фз|ст[\\. ]+\\d+\\.{0,1}\\d* федеральный\\ закон\\ \"\\ о\\ лицензирование\\ отдельный\\ вид\\ деятельность\\ \"\\ n\\ 99\\-фз|ст[\\. ]+\\d+\\.{0,1}\\d* федеральный\\ закон\\ \"\\ о\\ некоммерческий\\ организация\\ \"\\ n\\ 7\\-фз|ст[\\. ]+\\d+\\.{0,1}\\d* федеральный\\ закон\\ \"\\ о\\ несостоятельность|ст[\\. ]+\\d+\\.{0,1}\\d* федеральный\\ закон\\ \"\\ о\\ персональный\\ данные\\ \"\\ n\\ 152\\-фз|ст[\\. ]+\\d+\\.{0,1}\\d* федеральный\\ закон\\ \"\\ о\\ пожарный\\ безопасность\\ \"\\ n\\ 69\\-фз|ст[\\. ]+\\d+\\.{0,1}\\d* федеральный\\ закон\\ \"\\ о\\ полиция\\ \"\\ n\\ 3\\-фз|ст[\\. ]+\\d+\\.{0,1}\\d* федеральный\\ закон\\ \"\\ о\\ правовой\\ положение\\ иностранный\\ гражданин\\ в\\ российский\\ федерация\\ \"\\ n\\ 115\\-фз|ст[\\. ]+\\d+\\.{0,1}\\d* федеральный\\ закон\\ \"\\ о\\ прокуратура\\ российский\\ федерация\\ \"\\ n\\ 2202\\-1\\-фз|ст[\\. ]+\\d+\\.{0,1}\\d* федеральный\\ закон\\ \"\\ о\\ противодействие\\ легализация|ст[\\. ]+\\d+\\.{0,1}\\d* федеральный\\ закон\\ \"\\ о\\ развитие\\ малое\\ и\\ среднее\\ предпринимательство\\ в\\ российский\\ федерация\\ \"\\ n\\ 209\\-фз|ст[\\. ]+\\d+\\.{0,1}\\d* федеральный\\ закон\\ \"\\ о\\ контрактный\\ система\\ в\\ сфера\\ закупка\\ товар\\ ,\\ работа\\ ,\\ услуга\\ для\\ обеспечение\\ государственный\\ и\\ муниципальный\\ нужда\\ \"\\ n\\ 44\\-фз|ст[\\. ]+\\d+\\.{0,1}\\d* федеральный\\ закон\\ \"\\ о\\ реклама\\ \"\\ n\\ 38\\-фз|ст[\\. ]+\\d+\\.{0,1}\\d* федеральный\\ закон\\ \"\\ о\\ рынок\\ ценный\\ бумага\\ \"\\ n\\ 39\\-фз|ст[\\. ]+\\d+\\.{0,1}\\d* федеральный\\ закон\\ \"\\ о\\ связь\\ \"\\ n\\ 126\\-фз|ст[\\. ]+\\d+\\.{0,1}\\d* федеральный\\ закон\\ \"\\ о\\ система\\ государственный\\ служба\\ российский\\ федерация\\ \"\\ n\\ 58\\-фз|ст[\\. ]+\\d+\\.{0,1}\\d* федеральный\\ закон\\ от\\ 20\\.07\\.2020\\ n\\ 211\\-фз\\ \"\\ о\\ совершение\\ финансовый\\ сделка\\ с\\ использование\\ финансовый\\ платформа\\ \"|ст[\\. ]+\\d+\\.{0,1}\\d* федеральный\\ закон\\ \"\\ о\\ стандартизация\\ в\\ российский\\ федерация\\ \"\\ n\\ 162\\-фз|ст[\\. ]+\\d+\\.{0,1}\\d* федеральный\\ закон\\ \"\\ о\\ статус\\ военнослужащий\\ \"\\ n\\ 76\\-фз|ст[\\. ]+\\d+\\.{0,1}\\d* федеральный\\ закон\\ \"\\ о\\ стратегический\\ планирование\\ в\\ российский\\ федерация\\ \"\\ n\\ 172\\-фз|ст[\\. ]+\\d+\\.{0,1}\\d* федеральный\\ закон\\ \"\\ о\\ страхование\\ вклад\\ физический\\ лицо\\ в\\ банк\\ российский\\ федерация\\ \"\\ n\\ 177\\-фз|ст[\\. ]+\\d+\\.{0,1}\\d* федеральный\\ закон\\ \"\\ о\\ судебный\\ пристав\\ \"\\ n\\ 118\\-фз|ст[\\. ]+\\d+\\.{0,1}\\d* федеральный\\ закон\\ \"\\ о\\ таможенный\\ регулирование\\ в\\ российский\\ федерация\\ \"\\ n\\ 311\\-фз|ст[\\. ]+\\d+\\.{0,1}\\d* федеральный\\ закон\\ \"\\ о\\ таможенный\\ регулирование\\ в\\ российский\\ федерация\\ и\\ о\\ внесение\\ изменение\\ в\\ отдельный\\ законодательный\\ акт\\ российский\\ федерация\\ \"\\ n\\ 289\\-фз|ст[\\. ]+\\d+\\.{0,1}\\d* федеральный\\ закон\\ \"\\ о\\ технический\\ осмотр\\ транспортный\\ средство\\ и\\ о\\ внесение\\ изменение\\ в\\ отдельный\\ законодательный\\ акт\\ российский\\ федерация\\ \"\\ n\\ 170\\-фз|ст[\\. ]+\\d+\\.{0,1}\\d* федеральный\\ закон\\ \"\\ о\\ технический\\ регулирование\\ \"\\ n\\ 184\\-фз|ст[\\. ]+\\d+\\.{0,1}\\d* федеральный\\ закон\\ \"\\ о\\ трудовой\\ пенсия\\ в\\ российский\\ федерация\\ \"\\ n\\ 173\\-фз|ст[\\. ]+\\d+\\.{0,1}\\d* федеральный\\ закон\\ от\\ 31\\.07\\.2020\\ n\\ 259\\-фз\\ \"\\ о\\ цифровой\\ финансовый\\ актив\\ ,\\ цифровой\\ валюта\\ и\\ о\\ внесение\\ изменение\\ в\\ отдельный\\ законодательный\\ акт\\ российский\\ федерация\\ \"|ст[\\. ]+\\d+\\.{0,1}\\d* федеральный\\ закон\\ \"\\ о\\ административный\\ надзор\\ за\\ лицо\\ ,\\ освободить\\ из\\ место\\ лишение\\ свобода\\ \"\\ n\\ 64\\-фз|ст[\\. ]+\\d+\\.{0,1}\\d* федеральный\\ закон\\ \"\\ о\\ акционерный\\ общество\\ \"|ст[\\. ]+\\d+\\.{0,1}\\d* федеральный\\ закон\\ \"\\ о\\ аудиторский\\ деятельность\\ \"\\ n\\ 307\\-фз|ст[\\. ]+\\d+\\.{0,1}\\d* федеральный\\ закон\\ \"\\ о\\ инвестиционный\\ товарищество\\ \"\\ n\\ 335\\-фз|ст[\\. ]+\\d+\\.{0,1}\\d* федеральный\\ закон\\ \"\\ о\\ ипотека|ст[\\. ]+\\d+\\.{0,1}\\d* федеральный\\ закон\\ \"\\ о\\ исполнительный\\ производство\\ \"\\ n\\ 229\\-фз|ст[\\. ]+\\d+\\.{0,1}\\d* федеральный\\ закон\\ \"\\ о\\ образование\\ в\\ российский\\ федерация\\ \"\\ n\\ 273\\-фз|ст[\\. ]+\\d+\\.{0,1}\\d* федеральный\\ закон\\ \"\\ о\\ общество\\ с\\ ограниченный\\ ответственность\\ \"|ст[\\. ]+\\d+\\.{0,1}\\d* федеральный\\ закон\\ \"\\ о\\ общественный\\ объединение\\ \"\\ n\\ 82\\-фз|ст[\\. ]+\\d+\\.{0,1}\\d* федеральный\\ закон\\ \"\\ о\\ общий\\ принцип\\ организация\\ местный\\ самоуправление\\ в\\ рф\\ \"|ст[\\. ]+\\d+\\.{0,1}\\d* федеральный\\ закон\\ \"\\ о\\ обязательный\\ социальный\\ страхование\\ от\\ несчастный\\ случай\\ на\\ производство\\ и\\ профессиональный\\ заболевание\\ \"\\ n\\ 125\\-фз|ст[\\. ]+\\d+\\.{0,1}\\d* федеральный\\ закон\\ \"\\ о\\ обязательный\\ страхование\\ гражданский\\ ответственность\\ владелец\\ транспортный\\ средство\\ \"|ст[\\. ]+\\d+\\.{0,1}\\d* федеральный\\ закон\\ от\\ 31\\.07\\.2020\\ n\\ 247\\-фз\\ \"\\ о\\ обязательный\\ требование\\ в\\ российский\\ федерация\\ \"|ст[\\. ]+\\d+\\.{0,1}\\d* федеральный\\ закон\\ \"\\ о\\ оружие\\ \"\\ n\\ 150\\-фз|ст[\\. ]+\\d+\\.{0,1}\\d* федеральный\\ закон\\ \"\\ о\\ основа\\ охрана\\ здоровье\\ гражданин\\ в\\ российский\\ федерация\\ \"\\ n\\ 323\\-фз|ст[\\. ]+\\d+\\.{0,1}\\d* федеральный\\ закон\\ \"\\ о\\ основа\\ система\\ профилактика\\ безнадзорность\\ и\\ правонарушение\\ несовершеннолетний\\ \"\\ n\\ 120\\-фз|ст[\\. ]+\\d+\\.{0,1}\\d* федеральный\\ закон\\ \"\\ о\\ основа\\ система\\ профилактика\\ правонарушение\\ в\\ российский\\ федерация\\ \"\\ n\\ 182\\-фз|ст[\\. ]+\\d+\\.{0,1}\\d* федеральный\\ закон\\ от\\ 01\\.04\\.2020\\ n\\ 104\\-фз|ст[\\. ]+\\d+\\.{0,1}\\d* федеральный\\ закон\\ \"\\ о\\ ответственный\\ обращение\\ с\\ животное\\ и\\ о\\ внесение\\ изменение\\ в\\ отдельный\\ законодательный\\ акт\\ российский\\ федерация\\ \"\\ n\\ 498\\-фз|ст[\\. ]+\\d+\\.{0,1}\\d* федеральный\\ закон\\ \"\\ о\\ охрана\\ окружающий\\ среда\\ \"\\ n\\ 7\\-фз|ст[\\. ]+\\d+\\.{0,1}\\d* федеральный\\ закон\\ \"\\ о\\ уполномоченный\\ по\\ право\\ ребёнок\\ в\\ российский\\ федерация\\ \"\\ n\\ 501\\-фз|ст[\\. ]+\\d+\\.{0,1}\\d* федеральный\\ закон\\ от\\ 31\\.07\\.2020\\ n\\ 258\\-фз\\ \"\\ о\\ экспериментальный\\ правовой\\ режим\\ в\\ сфера\\ цифровой\\ инновация\\ в\\ российский\\ федерация\\ \"|ст[\\. ]+\\d+\\.{0,1}\\d* федеральный\\ конституционный\\ закон\\ от\\ 06\\.11\\.2020\\ n\\ 4\\-фкз\\ \"\\ о\\ правительство\\ российский\\ федерация\\ \"|ст[\\. ]+\\d+\\.{0,1}\\d* постановление\\ правительство\\ рф\\ \"\\ о\\ правило\\ дорожный\\ движение\\ \"|ст[\\. ]+\\d+\\.{0,1}\\d* постановление\\ правительство\\ рф\\ \"\\ о\\ проведение\\ технический\\ осмотр\\ транспортный\\ средство\\ \"\\ n\\ 1008|ст[\\. ]+\\d+\\.{0,1}\\d* постановление\\ правительство\\ рф\\ \"\\ о\\ утверждение\\ правило\\ перевозка\\ груз\\ автомобильный\\ транспорт\\ \"\\ n\\ 272|ст[\\. ]+\\d+\\.{0,1}\\d* приказ\\ минрегион\\ рф\\ \"\\ о\\ утверждение\\ перечень\\ вид\\ работа\\ по\\ инженерный\\ изыскание\\ ,\\ по\\ подготовка\\ проектный\\ документация\\ ,\\ по\\ строительство\\ ,\\ реконструкция\\ ,\\ капитальный\\ ремонт\\ объект\\ капитальный\\ строительство\\ ,\\ который\\ оказывать\\ влияние\\ на\\ безопасность\\ объект\\ капитальный\\ строительство\\ \"|ст[\\. ]+\\d+\\.{0,1}\\d* календарь\\ кадровик\\ на\\ 2021\\ год|ст[\\. ]+\\d+\\.{0,1}\\d* пособие\\ и\\ они\\ расчётный\\ дать\\ на\\ 2018\\ \\-\\ 2021\\ год|ст[\\. ]+\\d+\\.{0,1}\\d* расчёт\\ сумма\\ налог\\ на\\ доход\\ физический\\ лицо\\ ,\\ исчислить\\ и\\ удержать\\ налоговый\\ агент|ст[\\. ]+\\d+\\.{0,1}\\d* АПК РФ|ст[\\. ]+\\d+\\.{0,1}\\d* БК РФ|ст[\\. ]+\\d+\\.{0,1}\\d* ВК РФ|ст[\\. ]+\\d+\\.{0,1}\\d* ГПК РФ|ст[\\. ]+\\d+\\.{0,1}\\d* ЖК РФ|ст[\\. ]+\\d+\\.{0,1}\\d* ЗК РФ|ст[\\. ]+\\d+\\.{0,1}\\d* КАС РФ|ст[\\. ]+\\d+\\.{0,1}\\d* ЛК РФ|ст[\\. ]+\\d+\\.{0,1}\\d* СК РФ|ст[\\. ]+\\d+\\.{0,1}\\d* ТК ЕАЭС|ст[\\. ]+\\d+\\.{0,1}\\d* ТК ТС|ст[\\. ]+\\d+\\.{0,1}\\d* ТК РФ|ст[\\. ]+\\d+\\.{0,1}\\d* УИК РФ|ст[\\. ]+\\d+\\.{0,1}\\d* УПК РФ|ст[\\. ]+\\d+\\.{0,1}\\d* УК РФ|ст[\\. ]+\\d+\\.{0,1}\\d* ЗОЗПП|ст[\\. ]+\\d+\\.{0,1}\\d* АО|ст[\\. ]+\\d+\\.{0,1}\\d* ООО|ст[\\. ]+\\d+\\.{0,1}\\d* ОСАГО|ст[\\. ]+\\d+\\.{0,1}\\d* ПДД|ст[\\. ]+\\d+\\.{0,1}\\d* ПД|конституция статья \\d+\\.{0,1}\\d*|конституция статья([а-я ])+ \\d+\\.{0,1}\\d*|конституция c[\\. ]+\\d+\\.{0,1}\\d*|конституция ст[\\. ]+\\d+\\.{0,1}\\d*|кодекс статья \\d+\\.{0,1}\\d*|кодекс статья([а-я ])+ \\d+\\.{0,1}\\d*|кодекс c[\\. ]+\\d+\\.{0,1}\\d*|кодекс ст[\\. ]+\\d+\\.{0,1}\\d*|закон\\ ,\\ нормативный\\ акт\\ ,\\ справочный\\ материал статья \\d+\\.{0,1}\\d*|закон\\ ,\\ нормативный\\ акт\\ ,\\ справочный\\ материал статья([а-я ])+ \\d+\\.{0,1}\\d*|закон\\ ,\\ нормативный\\ акт\\ ,\\ справочный\\ материал c[\\. ]+\\d+\\.{0,1}\\d*|закон\\ ,\\ нормативный\\ акт\\ ,\\ справочный\\ материал ст[\\. ]+\\d+\\.{0,1}\\d*|конституция\\ российский\\ федерация статья \\d+\\.{0,1}\\d*|конституция\\ российский\\ федерация статья([а-я ])+ \\d+\\.{0,1}\\d*|конституция\\ российский\\ федерация c[\\. ]+\\d+\\.{0,1}\\d*|конституция\\ российский\\ федерация ст[\\. ]+\\d+\\.{0,1}\\d*|арбитражный\\ процессуальный\\ кодекс\\ российский\\ федерация статья \\d+\\.{0,1}\\d*|арбитражный\\ процессуальный\\ кодекс\\ российский\\ федерация статья([а-я ])+ \\d+\\.{0,1}\\d*|арбитражный\\ процессуальный\\ кодекс\\ российский\\ федерация c[\\. ]+\\d+\\.{0,1}\\d*|арбитражный\\ процессуальный\\ кодекс\\ российский\\ федерация ст[\\. ]+\\d+\\.{0,1}\\d*|бюджетный\\ кодекс\\ российский\\ федерация статья \\d+\\.{0,1}\\d*|бюджетный\\ кодекс\\ российский\\ федерация статья([а-я ])+ \\d+\\.{0,1}\\d*|бюджетный\\ кодекс\\ российский\\ федерация c[\\. ]+\\d+\\.{0,1}\\d*|бюджетный\\ кодекс\\ российский\\ федерация ст[\\. ]+\\d+\\.{0,1}\\d*|водный\\ кодекс\\ российский\\ федерация статья \\d+\\.{0,1}\\d*|водный\\ кодекс\\ российский\\ федерация статья([а-я ])+ \\d+\\.{0,1}\\d*|водный\\ кодекс\\ российский\\ федерация c[\\. ]+\\d+\\.{0,1}\\d*|водный\\ кодекс\\ российский\\ федерация ст[\\. ]+\\d+\\.{0,1}\\d*|воздушный\\ кодекс\\ российский\\ федерация статья \\d+\\.{0,1}\\d*|воздушный\\ кодекс\\ российский\\ федерация статья([а-я ])+ \\d+\\.{0,1}\\d*|воздушный\\ кодекс\\ российский\\ федерация c[\\. ]+\\d+\\.{0,1}\\d*|воздушный\\ кодекс\\ российский\\ федерация ст[\\. ]+\\d+\\.{0,1}\\d*|градостроительный\\ кодекс\\ российский\\ федерация статья \\d+\\.{0,1}\\d*|градостроительный\\ кодекс\\ российский\\ федерация статья([а-я ])+ \\d+\\.{0,1}\\d*|градостроительный\\ кодекс\\ российский\\ федерация c[\\. ]+\\d+\\.{0,1}\\d*|градостроительный\\ кодекс\\ российский\\ федерация ст[\\. ]+\\d+\\.{0,1}\\d*|гражданский\\ кодекс\\ российский\\ федерация\\ \\-\\ часть\\ первый статья \\d+\\.{0,1}\\d*|гражданский\\ кодекс\\ российский\\ федерация\\ \\-\\ часть\\ первый статья([а-я ])+ \\d+\\.{0,1}\\d*|гражданский\\ кодекс\\ российский\\ федерация\\ \\-\\ часть\\ первый c[\\. ]+\\d+\\.{0,1}\\d*|гражданский\\ кодекс\\ российский\\ федерация\\ \\-\\ часть\\ первый ст[\\. ]+\\d+\\.{0,1}\\d*|гражданский\\ кодекс\\ российский\\ федерация\\ \\-\\ часть\\ второй статья \\d+\\.{0,1}\\d*|гражданский\\ кодекс\\ российский\\ федерация\\ \\-\\ часть\\ второй статья([а-я ])+ \\d+\\.{0,1}\\d*|гражданский\\ кодекс\\ российский\\ федерация\\ \\-\\ часть\\ второй c[\\. ]+\\d+\\.{0,1}\\d*|гражданский\\ кодекс\\ российский\\ федерация\\ \\-\\ часть\\ второй ст[\\. ]+\\d+\\.{0,1}\\d*|гражданский\\ кодекс\\ российский\\ федерация\\ \\-\\ часть\\ третий статья \\d+\\.{0,1}\\d*|гражданский\\ кодекс\\ российский\\ федерация\\ \\-\\ часть\\ третий статья([а-я ])+ \\d+\\.{0,1}\\d*|гражданский\\ кодекс\\ российский\\ федерация\\ \\-\\ часть\\ третий c[\\. ]+\\d+\\.{0,1}\\d*|гражданский\\ кодекс\\ российский\\ федерация\\ \\-\\ часть\\ третий ст[\\. ]+\\d+\\.{0,1}\\d*|гражданский\\ кодекс\\ российский\\ федерация\\ \\-\\ часть\\ четвёртый статья \\d+\\.{0,1}\\d*|гражданский\\ кодекс\\ российский\\ федерация\\ \\-\\ часть\\ четвёртый статья([а-я ])+ \\d+\\.{0,1}\\d*|гражданский\\ кодекс\\ российский\\ федерация\\ \\-\\ часть\\ четвёртый c[\\. ]+\\d+\\.{0,1}\\d*|гражданский\\ кодекс\\ российский\\ федерация\\ \\-\\ часть\\ четвёртый ст[\\. ]+\\d+\\.{0,1}\\d*|гражданский\\ процессуальный\\ кодекс\\ российский\\ федерация статья \\d+\\.{0,1}\\d*|гражданский\\ процессуальный\\ кодекс\\ российский\\ федерация статья([а-я ])+ \\d+\\.{0,1}\\d*|гражданский\\ процессуальный\\ кодекс\\ российский\\ федерация c[\\. ]+\\d+\\.{0,1}\\d*|гражданский\\ процессуальный\\ кодекс\\ российский\\ федерация ст[\\. ]+\\d+\\.{0,1}\\d*|жилищный\\ кодекс\\ российский\\ федерация статья \\d+\\.{0,1}\\d*|жилищный\\ кодекс\\ российский\\ федерация статья([а-я ])+ \\d+\\.{0,1}\\d*|жилищный\\ кодекс\\ российский\\ федерация c[\\. ]+\\d+\\.{0,1}\\d*|жилищный\\ кодекс\\ российский\\ федерация ст[\\. ]+\\d+\\.{0,1}\\d*|земельный\\ кодекс\\ российский\\ федерация статья \\d+\\.{0,1}\\d*|земельный\\ кодекс\\ российский\\ федерация статья([а-я ])+ \\d+\\.{0,1}\\d*|земельный\\ кодекс\\ российский\\ федерация c[\\. ]+\\d+\\.{0,1}\\d*|земельный\\ кодекс\\ российский\\ федерация ст[\\. ]+\\d+\\.{0,1}\\d*|кодекс\\ административный\\ судопроизводство\\ российский\\ федерация статья \\d+\\.{0,1}\\d*|кодекс\\ административный\\ судопроизводство\\ российский\\ федерация статья([а-я ])+ \\d+\\.{0,1}\\d*|кодекс\\ административный\\ судопроизводство\\ российский\\ федерация c[\\. ]+\\d+\\.{0,1}\\d*|кодекс\\ административный\\ судопроизводство\\ российский\\ федерация ст[\\. ]+\\d+\\.{0,1}\\d*|кодекс\\ закон\\ о\\ труд статья \\d+\\.{0,1}\\d*|кодекс\\ закон\\ о\\ труд статья([а-я ])+ \\d+\\.{0,1}\\d*|кодекс\\ закон\\ о\\ труд c[\\. ]+\\d+\\.{0,1}\\d*|кодекс\\ закон\\ о\\ труд ст[\\. ]+\\d+\\.{0,1}\\d*|трудовой\\ кодекс\\ российский\\ федерация статья \\d+\\.{0,1}\\d*|трудовой\\ кодекс\\ российский\\ федерация статья([а-я ])+ \\d+\\.{0,1}\\d*|трудовой\\ кодекс\\ российский\\ федерация c[\\. ]+\\d+\\.{0,1}\\d*|трудовой\\ кодекс\\ российский\\ федерация ст[\\. ]+\\d+\\.{0,1}\\d*|кодекс\\ российский\\ федерация\\ о\\ административный\\ правонарушение статья \\d+\\.{0,1}\\d*|кодекс\\ российский\\ федерация\\ о\\ административный\\ правонарушение статья([а-я ])+ \\d+\\.{0,1}\\d*|кодекс\\ российский\\ федерация\\ о\\ административный\\ правонарушение c[\\. ]+\\d+\\.{0,1}\\d*|кодекс\\ российский\\ федерация\\ о\\ административный\\ правонарушение ст[\\. ]+\\d+\\.{0,1}\\d*|лесной\\ кодекс\\ российский\\ федерация статья \\d+\\.{0,1}\\d*|лесной\\ кодекс\\ российский\\ федерация статья([а-я ])+ \\d+\\.{0,1}\\d*|лесной\\ кодекс\\ российский\\ федерация c[\\. ]+\\d+\\.{0,1}\\d*|лесной\\ кодекс\\ российский\\ федерация ст[\\. ]+\\d+\\.{0,1}\\d*|налоговый\\ кодекс\\ российский\\ федерация\\ \\-\\ часть\\ первый статья \\d+\\.{0,1}\\d*|налоговый\\ кодекс\\ российский\\ федерация\\ \\-\\ часть\\ первый статья([а-я ])+ \\d+\\.{0,1}\\d*|налоговый\\ кодекс\\ российский\\ федерация\\ \\-\\ часть\\ первый c[\\. ]+\\d+\\.{0,1}\\d*|налоговый\\ кодекс\\ российский\\ федерация\\ \\-\\ часть\\ первый ст[\\. ]+\\d+\\.{0,1}\\d*|налоговый\\ кодекс\\ российский\\ федерация\\ \\-\\ часть\\ второй статья \\d+\\.{0,1}\\d*|налоговый\\ кодекс\\ российский\\ федерация\\ \\-\\ часть\\ второй статья([а-я ])+ \\d+\\.{0,1}\\d*|налоговый\\ кодекс\\ российский\\ федерация\\ \\-\\ часть\\ второй c[\\. ]+\\d+\\.{0,1}\\d*|налоговый\\ кодекс\\ российский\\ федерация\\ \\-\\ часть\\ второй ст[\\. ]+\\d+\\.{0,1}\\d*|семейный\\ кодекс\\ российский\\ федерация статья \\d+\\.{0,1}\\d*|семейный\\ кодекс\\ российский\\ федерация статья([а-я ])+ \\d+\\.{0,1}\\d*|семейный\\ кодекс\\ российский\\ федерация c[\\. ]+\\d+\\.{0,1}\\d*|семейный\\ кодекс\\ российский\\ федерация ст[\\. ]+\\d+\\.{0,1}\\d*|таможенный\\ кодекс\\ евразийский\\ экономический\\ союз статья \\d+\\.{0,1}\\d*|таможенный\\ кодекс\\ евразийский\\ экономический\\ союз статья([а-я ])+ \\d+\\.{0,1}\\d*|таможенный\\ кодекс\\ евразийский\\ экономический\\ союз c[\\. ]+\\d+\\.{0,1}\\d*|таможенный\\ кодекс\\ евразийский\\ экономический\\ союз ст[\\. ]+\\d+\\.{0,1}\\d*|таможенный\\ кодекс\\ таможенный\\ союз статья \\d+\\.{0,1}\\d*|таможенный\\ кодекс\\ таможенный\\ союз статья([а-я ])+ \\d+\\.{0,1}\\d*|таможенный\\ кодекс\\ таможенный\\ союз c[\\. ]+\\d+\\.{0,1}\\d*|таможенный\\ кодекс\\ таможенный\\ союз ст[\\. ]+\\d+\\.{0,1}\\d*|таможенный\\ кодекс\\ евразийский\\ экономический\\ союз статья \\d+\\.{0,1}\\d*|таможенный\\ кодекс\\ евразийский\\ экономический\\ союз статья([а-я ])+ \\d+\\.{0,1}\\d*|таможенный\\ кодекс\\ евразийский\\ экономический\\ союз c[\\. ]+\\d+\\.{0,1}\\d*|таможенный\\ кодекс\\ евразийский\\ экономический\\ союз ст[\\. ]+\\d+\\.{0,1}\\d*|трудовой\\ кодекс\\ российский\\ федерация статья \\d+\\.{0,1}\\d*|трудовой\\ кодекс\\ российский\\ федерация статья([а-я ])+ \\d+\\.{0,1}\\d*|трудовой\\ кодекс\\ российский\\ федерация c[\\. ]+\\d+\\.{0,1}\\d*|трудовой\\ кодекс\\ российский\\ федерация ст[\\. ]+\\d+\\.{0,1}\\d*|уголовно\\-исполнительный\\ кодекс\\ российский\\ федерация статья \\d+\\.{0,1}\\d*|уголовно\\-исполнительный\\ кодекс\\ российский\\ федерация статья([а-я ])+ \\d+\\.{0,1}\\d*|уголовно\\-исполнительный\\ кодекс\\ российский\\ федерация c[\\. ]+\\d+\\.{0,1}\\d*|уголовно\\-исполнительный\\ кодекс\\ российский\\ федерация ст[\\. ]+\\d+\\.{0,1}\\d*|уголовно\\-процессуальный\\ кодекс\\ российский\\ федерация статья \\d+\\.{0,1}\\d*|уголовно\\-процессуальный\\ кодекс\\ российский\\ федерация статья([а-я ])+ \\d+\\.{0,1}\\d*|уголовно\\-процессуальный\\ кодекс\\ российский\\ федерация c[\\. ]+\\d+\\.{0,1}\\d*|уголовно\\-процессуальный\\ кодекс\\ российский\\ федерация ст[\\. ]+\\d+\\.{0,1}\\d*|уголовный\\ кодекс\\ российский\\ федерация статья \\d+\\.{0,1}\\d*|уголовный\\ кодекс\\ российский\\ федерация статья([а-я ])+ \\d+\\.{0,1}\\d*|уголовный\\ кодекс\\ российский\\ федерация c[\\. ]+\\d+\\.{0,1}\\d*|уголовный\\ кодекс\\ российский\\ федерация ст[\\. ]+\\d+\\.{0,1}\\d*|закон\\ рф\\ \"\\ о\\ защита\\ право\\ потребитель\\ \" статья \\d+\\.{0,1}\\d*|закон\\ рф\\ \"\\ о\\ защита\\ право\\ потребитель\\ \" статья([а-я ])+ \\d+\\.{0,1}\\d*|закон\\ рф\\ \"\\ о\\ защита\\ право\\ потребитель\\ \" c[\\. ]+\\d+\\.{0,1}\\d*|закон\\ рф\\ \"\\ о\\ защита\\ право\\ потребитель\\ \" ст[\\. ]+\\d+\\.{0,1}\\d*|закон\\ рф\\ \"\\ о\\ налог\\ на\\ имущество\\ физический\\ лицо\\ \"\\ n\\ 2003\\-1 статья \\d+\\.{0,1}\\d*|закон\\ рф\\ \"\\ о\\ налог\\ на\\ имущество\\ физический\\ лицо\\ \"\\ n\\ 2003\\-1 статья([а-я ])+ \\d+\\.{0,1}\\d*|закон\\ рф\\ \"\\ о\\ налог\\ на\\ имущество\\ физический\\ лицо\\ \"\\ n\\ 2003\\-1 c[\\. ]+\\d+\\.{0,1}\\d*|закон\\ рф\\ \"\\ о\\ налог\\ на\\ имущество\\ физический\\ лицо\\ \"\\ n\\ 2003\\-1 ст[\\. ]+\\d+\\.{0,1}\\d*|нк\\ рф\\ ч\\ \\.\\ 2\\ глава\\ 32\\ \\.\\ налог\\ на\\ имущество\\ физический\\ лицо статья \\d+\\.{0,1}\\d*|нк\\ рф\\ ч\\ \\.\\ 2\\ глава\\ 32\\ \\.\\ налог\\ на\\ имущество\\ физический\\ лицо статья([а-я ])+ \\d+\\.{0,1}\\d*|нк\\ рф\\ ч\\ \\.\\ 2\\ глава\\ 32\\ \\.\\ налог\\ на\\ имущество\\ физический\\ лицо c[\\. ]+\\d+\\.{0,1}\\d*|нк\\ рф\\ ч\\ \\.\\ 2\\ глава\\ 32\\ \\.\\ налог\\ на\\ имущество\\ физический\\ лицо ст[\\. ]+\\d+\\.{0,1}\\d*|закон\\ рф\\ \"\\ о\\ недра\\ \"\\ n\\ 2395\\-1 статья \\d+\\.{0,1}\\d*|закон\\ рф\\ \"\\ о\\ недра\\ \"\\ n\\ 2395\\-1 статья([а-я ])+ \\d+\\.{0,1}\\d*|закон\\ рф\\ \"\\ о\\ недра\\ \"\\ n\\ 2395\\-1 c[\\. ]+\\d+\\.{0,1}\\d*|закон\\ рф\\ \"\\ о\\ недра\\ \"\\ n\\ 2395\\-1 ст[\\. ]+\\d+\\.{0,1}\\d*|закон\\ рф\\ \"\\ о\\ приватизация\\ жилищный\\ фонд\\ в\\ российский\\ федерация\\ \"\\ n\\ 1541\\-1 статья \\d+\\.{0,1}\\d*|закон\\ рф\\ \"\\ о\\ приватизация\\ жилищный\\ фонд\\ в\\ российский\\ федерация\\ \"\\ n\\ 1541\\-1 статья([а-я ])+ \\d+\\.{0,1}\\d*|закон\\ рф\\ \"\\ о\\ приватизация\\ жилищный\\ фонд\\ в\\ российский\\ федерация\\ \"\\ n\\ 1541\\-1 c[\\. ]+\\d+\\.{0,1}\\d*|закон\\ рф\\ \"\\ о\\ приватизация\\ жилищный\\ фонд\\ в\\ российский\\ федерация\\ \"\\ n\\ 1541\\-1 ст[\\. ]+\\d+\\.{0,1}\\d*|закон\\ рф\\ \"\\ о\\ средство\\ массовый\\ информация\\ \" статья \\d+\\.{0,1}\\d*|закон\\ рф\\ \"\\ о\\ средство\\ массовый\\ информация\\ \" статья([а-я ])+ \\d+\\.{0,1}\\d*|закон\\ рф\\ \"\\ о\\ средство\\ массовый\\ информация\\ \" c[\\. ]+\\d+\\.{0,1}\\d*|закон\\ рф\\ \"\\ о\\ средство\\ массовый\\ информация\\ \" ст[\\. ]+\\d+\\.{0,1}\\d*|закон\\ рф\\ \"\\ о\\ авторский\\ право\\ и\\ смежный\\ право\\ \"\\ n\\ 5351\\-1 статья \\d+\\.{0,1}\\d*|закон\\ рф\\ \"\\ о\\ авторский\\ право\\ и\\ смежный\\ право\\ \"\\ n\\ 5351\\-1 статья([а-я ])+ \\d+\\.{0,1}\\d*|закон\\ рф\\ \"\\ о\\ авторский\\ право\\ и\\ смежный\\ право\\ \"\\ n\\ 5351\\-1 c[\\. ]+\\d+\\.{0,1}\\d*|закон\\ рф\\ \"\\ о\\ авторский\\ право\\ и\\ смежный\\ право\\ \"\\ n\\ 5351\\-1 ст[\\. ]+\\d+\\.{0,1}\\d*|гк\\ рф\\ ч\\ \\.\\ 4\\ глава\\ 70\\ \\.\\ авторский\\ право статья \\d+\\.{0,1}\\d*|гк\\ рф\\ ч\\ \\.\\ 4\\ глава\\ 70\\ \\.\\ авторский\\ право статья([а-я ])+ \\d+\\.{0,1}\\d*|гк\\ рф\\ ч\\ \\.\\ 4\\ глава\\ 70\\ \\.\\ авторский\\ право c[\\. ]+\\d+\\.{0,1}\\d*|гк\\ рф\\ ч\\ \\.\\ 4\\ глава\\ 70\\ \\.\\ авторский\\ право ст[\\. ]+\\d+\\.{0,1}\\d*|федеральный\\ закон\\ \"\\ о\\ банк\\ и\\ банковский\\ деятельность\\ \"\\ n\\ 395\\-1 статья \\d+\\.{0,1}\\d*|федеральный\\ закон\\ \"\\ о\\ банк\\ и\\ банковский\\ деятельность\\ \"\\ n\\ 395\\-1 статья([а-я ])+ \\d+\\.{0,1}\\d*|федеральный\\ закон\\ \"\\ о\\ банк\\ и\\ банковский\\ деятельность\\ \"\\ n\\ 395\\-1 c[\\. ]+\\d+\\.{0,1}\\d*|федеральный\\ закон\\ \"\\ о\\ банк\\ и\\ банковский\\ деятельность\\ \"\\ n\\ 395\\-1 ст[\\. ]+\\d+\\.{0,1}\\d*|федеральный\\ закон\\ \"\\ о\\ бесплатный\\ юридический\\ помощь\\ в\\ российский\\ федерация\\ \"\\ n\\ 324\\-фз статья \\d+\\.{0,1}\\d*|федеральный\\ закон\\ \"\\ о\\ бесплатный\\ юридический\\ помощь\\ в\\ российский\\ федерация\\ \"\\ n\\ 324\\-фз статья([а-я ])+ \\d+\\.{0,1}\\d*|федеральный\\ закон\\ \"\\ о\\ бесплатный\\ юридический\\ помощь\\ в\\ российский\\ федерация\\ \"\\ n\\ 324\\-фз c[\\. ]+\\d+\\.{0,1}\\d*|федеральный\\ закон\\ \"\\ о\\ бесплатный\\ юридический\\ помощь\\ в\\ российский\\ федерация\\ \"\\ n\\ 324\\-фз ст[\\. ]+\\d+\\.{0,1}\\d*|федеральный\\ закон\\ \"\\ о\\ бухгалтерский\\ учёт\\ \"\\ n\\ 402\\-фз статья \\d+\\.{0,1}\\d*|федеральный\\ закон\\ \"\\ о\\ бухгалтерский\\ учёт\\ \"\\ n\\ 402\\-фз статья([а-я ])+ \\d+\\.{0,1}\\d*|федеральный\\ закон\\ \"\\ о\\ бухгалтерский\\ учёт\\ \"\\ n\\ 402\\-фз c[\\. ]+\\d+\\.{0,1}\\d*|федеральный\\ закон\\ \"\\ о\\ бухгалтерский\\ учёт\\ \"\\ n\\ 402\\-фз ст[\\. ]+\\d+\\.{0,1}\\d*|федеральный\\ закон\\ \"\\ о\\ валютный\\ регулирование\\ и\\ валютный\\ контроль\\ \"\\ n\\ 173\\-фз статья \\d+\\.{0,1}\\d*|федеральный\\ закон\\ \"\\ о\\ валютный\\ регулирование\\ и\\ валютный\\ контроль\\ \"\\ n\\ 173\\-фз статья([а-я ])+ \\d+\\.{0,1}\\d*|федеральный\\ закон\\ \"\\ о\\ валютный\\ регулирование\\ и\\ валютный\\ контроль\\ \"\\ n\\ 173\\-фз c[\\. ]+\\d+\\.{0,1}\\d*|федеральный\\ закон\\ \"\\ о\\ валютный\\ регулирование\\ и\\ валютный\\ контроль\\ \"\\ n\\ 173\\-фз ст[\\. ]+\\d+\\.{0,1}\\d*|федеральный\\ закон\\ \"\\ о\\ ведомственный\\ охрана\\ \"\\ n\\ 77\\-фз статья \\d+\\.{0,1}\\d*|федеральный\\ закон\\ \"\\ о\\ ведомственный\\ охрана\\ \"\\ n\\ 77\\-фз статья([а-я ])+ \\d+\\.{0,1}\\d*|федеральный\\ закон\\ \"\\ о\\ ведомственный\\ охрана\\ \"\\ n\\ 77\\-фз c[\\. ]+\\d+\\.{0,1}\\d*|федеральный\\ закон\\ \"\\ о\\ ведомственный\\ охрана\\ \"\\ n\\ 77\\-фз ст[\\. ]+\\d+\\.{0,1}\\d*|федеральный\\ закон\\ \"\\ о\\ ветеран\\ \"\\ n\\ 5\\-фз статья \\d+\\.{0,1}\\d*|федеральный\\ закон\\ \"\\ о\\ ветеран\\ \"\\ n\\ 5\\-фз статья([а-я ])+ \\d+\\.{0,1}\\d*|федеральный\\ закон\\ \"\\ о\\ ветеран\\ \"\\ n\\ 5\\-фз c[\\. ]+\\d+\\.{0,1}\\d*|федеральный\\ закон\\ \"\\ о\\ ветеран\\ \"\\ n\\ 5\\-фз ст[\\. ]+\\d+\\.{0,1}\\d*|федеральный\\ закон\\ \"\\ о\\ внесение\\ изменение\\ в\\ отдельный\\ законодательный\\ акт\\ российский\\ федерация\\ в\\ связь\\ с\\ совершенствование\\ принцип\\ определение\\ цена\\ для\\ цель\\ налогообложение\\ \"\\ n\\ 227\\-фз статья \\d+\\.{0,1}\\d*|федеральный\\ закон\\ \"\\ о\\ внесение\\ изменение\\ в\\ отдельный\\ законодательный\\ акт\\ российский\\ федерация\\ в\\ связь\\ с\\ совершенствование\\ принцип\\ определение\\ цена\\ для\\ цель\\ налогообложение\\ \"\\ n\\ 227\\-фз статья([а-я ])+ \\d+\\.{0,1}\\d*|федеральный\\ закон\\ \"\\ о\\ внесение\\ изменение\\ в\\ отдельный\\ законодательный\\ акт\\ российский\\ федерация\\ в\\ связь\\ с\\ совершенствование\\ принцип\\ определение\\ цена\\ для\\ цель\\ налогообложение\\ \"\\ n\\ 227\\-фз c[\\. ]+\\d+\\.{0,1}\\d*|федеральный\\ закон\\ \"\\ о\\ внесение\\ изменение\\ в\\ отдельный\\ законодательный\\ акт\\ российский\\ федерация\\ в\\ связь\\ с\\ совершенствование\\ принцип\\ определение\\ цена\\ для\\ цель\\ налогообложение\\ \"\\ n\\ 227\\-фз ст[\\. ]+\\d+\\.{0,1}\\d*|федеральный\\ закон\\ \"\\ о\\ воинский\\ обязанность\\ и\\ военный\\ служба\\ \"\\ n\\ 53\\-фз статья \\d+\\.{0,1}\\d*|федеральный\\ закон\\ \"\\ о\\ воинский\\ обязанность\\ и\\ военный\\ служба\\ \"\\ n\\ 53\\-фз статья([а-я ])+ \\d+\\.{0,1}\\d*|федеральный\\ закон\\ \"\\ о\\ воинский\\ обязанность\\ и\\ военный\\ служба\\ \"\\ n\\ 53\\-фз c[\\. ]+\\d+\\.{0,1}\\d*|федеральный\\ закон\\ \"\\ о\\ воинский\\ обязанность\\ и\\ военный\\ служба\\ \"\\ n\\ 53\\-фз ст[\\. ]+\\d+\\.{0,1}\\d*|федеральный\\ закон\\ \"\\ о\\ войско\\ национальный\\ гвардия\\ российский\\ федерация\\ \"\\ n\\ 226\\-фз статья \\d+\\.{0,1}\\d*|федеральный\\ закон\\ \"\\ о\\ войско\\ национальный\\ гвардия\\ российский\\ федерация\\ \"\\ n\\ 226\\-фз статья([а-я ])+ \\d+\\.{0,1}\\d*|федеральный\\ закон\\ \"\\ о\\ войско\\ национальный\\ гвардия\\ российский\\ федерация\\ \"\\ n\\ 226\\-фз c[\\. ]+\\d+\\.{0,1}\\d*|федеральный\\ закон\\ \"\\ о\\ войско\\ национальный\\ гвардия\\ российский\\ федерация\\ \"\\ n\\ 226\\-фз ст[\\. ]+\\d+\\.{0,1}\\d*|федеральный\\ закон\\ \"\\ о\\ государственный\\ регистрация\\ юридический\\ лицо\\ и\\ индивидуальный\\ предприниматель\\ \"\\ n\\ 129\\-фз статья \\d+\\.{0,1}\\d*|федеральный\\ закон\\ \"\\ о\\ государственный\\ регистрация\\ юридический\\ лицо\\ и\\ индивидуальный\\ предприниматель\\ \"\\ n\\ 129\\-фз статья([а-я ])+ \\d+\\.{0,1}\\d*|федеральный\\ закон\\ \"\\ о\\ государственный\\ регистрация\\ юридический\\ лицо\\ и\\ индивидуальный\\ предприниматель\\ \"\\ n\\ 129\\-фз c[\\. ]+\\d+\\.{0,1}\\d*|федеральный\\ закон\\ \"\\ о\\ государственный\\ регистрация\\ юридический\\ лицо\\ и\\ индивидуальный\\ предприниматель\\ \"\\ n\\ 129\\-фз ст[\\. ]+\\d+\\.{0,1}\\d*|федеральный\\ закон\\ \"\\ о\\ государственный\\ регистрация\\ недвижимость\\ \"\\ n\\ 218\\-фз статья \\d+\\.{0,1}\\d*|федеральный\\ закон\\ \"\\ о\\ государственный\\ регистрация\\ недвижимость\\ \"\\ n\\ 218\\-фз статья([а-я ])+ \\d+\\.{0,1}\\d*|федеральный\\ закон\\ \"\\ о\\ государственный\\ регистрация\\ недвижимость\\ \"\\ n\\ 218\\-фз c[\\. ]+\\d+\\.{0,1}\\d*|федеральный\\ закон\\ \"\\ о\\ государственный\\ регистрация\\ недвижимость\\ \"\\ n\\ 218\\-фз ст[\\. ]+\\d+\\.{0,1}\\d*|федеральный\\ закон\\ \"\\ о\\ государственный\\ регистрация\\ транспортный\\ средство\\ в\\ российский\\ федерация\\ и\\ о\\ внесение\\ изменение\\ в\\ отдельный\\ законодательный\\ акт\\ российский\\ федерация\\ \"\\ n\\ 283\\-фз статья \\d+\\.{0,1}\\d*|федеральный\\ закон\\ \"\\ о\\ государственный\\ регистрация\\ транспортный\\ средство\\ в\\ российский\\ федерация\\ и\\ о\\ внесение\\ изменение\\ в\\ отдельный\\ законодательный\\ акт\\ российский\\ федерация\\ \"\\ n\\ 283\\-фз статья([а-я ])+ \\d+\\.{0,1}\\d*|федеральный\\ закон\\ \"\\ о\\ государственный\\ регистрация\\ транспортный\\ средство\\ в\\ российский\\ федерация\\ и\\ о\\ внесение\\ изменение\\ в\\ отдельный\\ законодательный\\ акт\\ российский\\ федерация\\ \"\\ n\\ 283\\-фз c[\\. ]+\\d+\\.{0,1}\\d*|федеральный\\ закон\\ \"\\ о\\ государственный\\ регистрация\\ транспортный\\ средство\\ в\\ российский\\ федерация\\ и\\ о\\ внесение\\ изменение\\ в\\ отдельный\\ законодательный\\ акт\\ российский\\ федерация\\ \"\\ n\\ 283\\-фз ст[\\. ]+\\d+\\.{0,1}\\d*|федеральный\\ закон\\ \"\\ о\\ государственный\\ регулирование\\ производство\\ и\\ оборот\\ этиловый\\ спирт\\ ,\\ алкогольный\\ и\\ спиртосодержащий\\ продукция\\ и\\ о\\ ограничение\\ потребление статья \\d+\\.{0,1}\\d*|федеральный\\ закон\\ \"\\ о\\ государственный\\ регулирование\\ производство\\ и\\ оборот\\ этиловый\\ спирт\\ ,\\ алкогольный\\ и\\ спиртосодержащий\\ продукция\\ и\\ о\\ ограничение\\ потребление статья([а-я ])+ \\d+\\.{0,1}\\d*|федеральный\\ закон\\ \"\\ о\\ государственный\\ регулирование\\ производство\\ и\\ оборот\\ этиловый\\ спирт\\ ,\\ алкогольный\\ и\\ спиртосодержащий\\ продукция\\ и\\ о\\ ограничение\\ потребление c[\\. ]+\\d+\\.{0,1}\\d*|федеральный\\ закон\\ \"\\ о\\ государственный\\ регулирование\\ производство\\ и\\ оборот\\ этиловый\\ спирт\\ ,\\ алкогольный\\ и\\ спиртосодержащий\\ продукция\\ и\\ о\\ ограничение\\ потребление ст[\\. ]+\\d+\\.{0,1}\\d*|федеральный\\ закон\\ от\\ 31\\.07\\.2020\\ n\\ 248\\-фз\\ \"\\ о\\ государственный\\ контроль статья \\d+\\.{0,1}\\d*|федеральный\\ закон\\ от\\ 31\\.07\\.2020\\ n\\ 248\\-фз\\ \"\\ о\\ государственный\\ контроль статья([а-я ])+ \\d+\\.{0,1}\\d*|федеральный\\ закон\\ от\\ 31\\.07\\.2020\\ n\\ 248\\-фз\\ \"\\ о\\ государственный\\ контроль c[\\. ]+\\d+\\.{0,1}\\d*|федеральный\\ закон\\ от\\ 31\\.07\\.2020\\ n\\ 248\\-фз\\ \"\\ о\\ государственный\\ контроль ст[\\. ]+\\d+\\.{0,1}\\d*|федеральный\\ закон\\ от\\ 08\\.12\\.2020\\ n\\ 394\\-фз\\ \"\\ о\\ государственный\\ совет\\ российский\\ федерация\\ \" статья \\d+\\.{0,1}\\d*|федеральный\\ закон\\ от\\ 08\\.12\\.2020\\ n\\ 394\\-фз\\ \"\\ о\\ государственный\\ совет\\ российский\\ федерация\\ \" статья([а-я ])+ \\d+\\.{0,1}\\d*|федеральный\\ закон\\ от\\ 08\\.12\\.2020\\ n\\ 394\\-фз\\ \"\\ о\\ государственный\\ совет\\ российский\\ федерация\\ \" c[\\. ]+\\d+\\.{0,1}\\d*|федеральный\\ закон\\ от\\ 08\\.12\\.2020\\ n\\ 394\\-фз\\ \"\\ о\\ государственный\\ совет\\ российский\\ федерация\\ \" ст[\\. ]+\\d+\\.{0,1}\\d*|федеральный\\ закон\\ \"\\ о\\ государственный\\ пособие\\ гражданин\\ ,\\ иметь\\ ребёнок\\ \"\\ n\\ 81\\-фз статья \\d+\\.{0,1}\\d*|федеральный\\ закон\\ \"\\ о\\ государственный\\ пособие\\ гражданин\\ ,\\ иметь\\ ребёнок\\ \"\\ n\\ 81\\-фз статья([а-я ])+ \\d+\\.{0,1}\\d*|федеральный\\ закон\\ \"\\ о\\ государственный\\ пособие\\ гражданин\\ ,\\ иметь\\ ребёнок\\ \"\\ n\\ 81\\-фз c[\\. ]+\\d+\\.{0,1}\\d*|федеральный\\ закон\\ \"\\ о\\ государственный\\ пособие\\ гражданин\\ ,\\ иметь\\ ребёнок\\ \"\\ n\\ 81\\-фз ст[\\. ]+\\d+\\.{0,1}\\d*|федеральный\\ закон\\ \"\\ о\\ гражданство\\ российский\\ федерация\\ \"\\ n\\ 62\\-фз статья \\d+\\.{0,1}\\d*|федеральный\\ закон\\ \"\\ о\\ гражданство\\ российский\\ федерация\\ \"\\ n\\ 62\\-фз статья([а-я ])+ \\d+\\.{0,1}\\d*|федеральный\\ закон\\ \"\\ о\\ гражданство\\ российский\\ федерация\\ \"\\ n\\ 62\\-фз c[\\. ]+\\d+\\.{0,1}\\d*|федеральный\\ закон\\ \"\\ о\\ гражданство\\ российский\\ федерация\\ \"\\ n\\ 62\\-фз ст[\\. ]+\\d+\\.{0,1}\\d*|федеральный\\ закон\\ \"\\ о\\ ежемесячный\\ выплата\\ семья\\ ,\\ иметь\\ ребёнок\\ \"\\ n\\ 418\\-фз статья \\d+\\.{0,1}\\d*|федеральный\\ закон\\ \"\\ о\\ ежемесячный\\ выплата\\ семья\\ ,\\ иметь\\ ребёнок\\ \"\\ n\\ 418\\-фз статья([а-я ])+ \\d+\\.{0,1}\\d*|федеральный\\ закон\\ \"\\ о\\ ежемесячный\\ выплата\\ семья\\ ,\\ иметь\\ ребёнок\\ \"\\ n\\ 418\\-фз c[\\. ]+\\d+\\.{0,1}\\d*|федеральный\\ закон\\ \"\\ о\\ ежемесячный\\ выплата\\ семья\\ ,\\ иметь\\ ребёнок\\ \"\\ n\\ 418\\-фз ст[\\. ]+\\d+\\.{0,1}\\d*|федеральный\\ закон\\ \"\\ о\\ концессионный\\ соглашение\\ \"\\ n\\ 115\\-фз статья \\d+\\.{0,1}\\d*|федеральный\\ закон\\ \"\\ о\\ концессионный\\ соглашение\\ \"\\ n\\ 115\\-фз статья([а-я ])+ \\d+\\.{0,1}\\d*|федеральный\\ закон\\ \"\\ о\\ концессионный\\ соглашение\\ \"\\ n\\ 115\\-фз c[\\. ]+\\d+\\.{0,1}\\d*|федеральный\\ закон\\ \"\\ о\\ концессионный\\ соглашение\\ \"\\ n\\ 115\\-фз ст[\\. ]+\\d+\\.{0,1}\\d*|федеральный\\ закон\\ \"\\ о\\ лицензирование\\ отдельный\\ вид\\ деятельность\\ \"\\ n\\ 99\\-фз статья \\d+\\.{0,1}\\d*|федеральный\\ закон\\ \"\\ о\\ лицензирование\\ отдельный\\ вид\\ деятельность\\ \"\\ n\\ 99\\-фз статья([а-я ])+ \\d+\\.{0,1}\\d*|федеральный\\ закон\\ \"\\ о\\ лицензирование\\ отдельный\\ вид\\ деятельность\\ \"\\ n\\ 99\\-фз c[\\. ]+\\d+\\.{0,1}\\d*|федеральный\\ закон\\ \"\\ о\\ лицензирование\\ отдельный\\ вид\\ деятельность\\ \"\\ n\\ 99\\-фз ст[\\. ]+\\d+\\.{0,1}\\d*|федеральный\\ закон\\ \"\\ о\\ некоммерческий\\ организация\\ \"\\ n\\ 7\\-фз статья \\d+\\.{0,1}\\d*|федеральный\\ закон\\ \"\\ о\\ некоммерческий\\ организация\\ \"\\ n\\ 7\\-фз статья([а-я ])+ \\d+\\.{0,1}\\d*|федеральный\\ закон\\ \"\\ о\\ некоммерческий\\ организация\\ \"\\ n\\ 7\\-фз c[\\. ]+\\d+\\.{0,1}\\d*|федеральный\\ закон\\ \"\\ о\\ некоммерческий\\ организация\\ \"\\ n\\ 7\\-фз ст[\\. ]+\\d+\\.{0,1}\\d*|федеральный\\ закон\\ \"\\ о\\ несостоятельность статья \\d+\\.{0,1}\\d*|федеральный\\ закон\\ \"\\ о\\ несостоятельность статья([а-я ])+ \\d+\\.{0,1}\\d*|федеральный\\ закон\\ \"\\ о\\ несостоятельность c[\\. ]+\\d+\\.{0,1}\\d*|федеральный\\ закон\\ \"\\ о\\ несостоятельность ст[\\. ]+\\d+\\.{0,1}\\d*|федеральный\\ закон\\ \"\\ о\\ персональный\\ данные\\ \"\\ n\\ 152\\-фз статья \\d+\\.{0,1}\\d*|федеральный\\ закон\\ \"\\ о\\ персональный\\ данные\\ \"\\ n\\ 152\\-фз статья([а-я ])+ \\d+\\.{0,1}\\d*|федеральный\\ закон\\ \"\\ о\\ персональный\\ данные\\ \"\\ n\\ 152\\-фз c[\\. ]+\\d+\\.{0,1}\\d*|федеральный\\ закон\\ \"\\ о\\ персональный\\ данные\\ \"\\ n\\ 152\\-фз ст[\\. ]+\\d+\\.{0,1}\\d*|федеральный\\ закон\\ \"\\ о\\ пожарный\\ безопасность\\ \"\\ n\\ 69\\-фз статья \\d+\\.{0,1}\\d*|федеральный\\ закон\\ \"\\ о\\ пожарный\\ безопасность\\ \"\\ n\\ 69\\-фз статья([а-я ])+ \\d+\\.{0,1}\\d*|федеральный\\ закон\\ \"\\ о\\ пожарный\\ безопасность\\ \"\\ n\\ 69\\-фз c[\\. ]+\\d+\\.{0,1}\\d*|федеральный\\ закон\\ \"\\ о\\ пожарный\\ безопасность\\ \"\\ n\\ 69\\-фз ст[\\. ]+\\d+\\.{0,1}\\d*|федеральный\\ закон\\ \"\\ о\\ полиция\\ \"\\ n\\ 3\\-фз статья \\d+\\.{0,1}\\d*|федеральный\\ закон\\ \"\\ о\\ полиция\\ \"\\ n\\ 3\\-фз статья([а-я ])+ \\d+\\.{0,1}\\d*|федеральный\\ закон\\ \"\\ о\\ полиция\\ \"\\ n\\ 3\\-фз c[\\. ]+\\d+\\.{0,1}\\d*|федеральный\\ закон\\ \"\\ о\\ полиция\\ \"\\ n\\ 3\\-фз ст[\\. ]+\\d+\\.{0,1}\\d*|федеральный\\ закон\\ \"\\ о\\ правовой\\ положение\\ иностранный\\ гражданин\\ в\\ российский\\ федерация\\ \"\\ n\\ 115\\-фз статья \\d+\\.{0,1}\\d*|федеральный\\ закон\\ \"\\ о\\ правовой\\ положение\\ иностранный\\ гражданин\\ в\\ российский\\ федерация\\ \"\\ n\\ 115\\-фз статья([а-я ])+ \\d+\\.{0,1}\\d*|федеральный\\ закон\\ \"\\ о\\ правовой\\ положение\\ иностранный\\ гражданин\\ в\\ российский\\ федерация\\ \"\\ n\\ 115\\-фз c[\\. ]+\\d+\\.{0,1}\\d*|федеральный\\ закон\\ \"\\ о\\ правовой\\ положение\\ иностранный\\ гражданин\\ в\\ российский\\ федерация\\ \"\\ n\\ 115\\-фз ст[\\. ]+\\d+\\.{0,1}\\d*|федеральный\\ закон\\ \"\\ о\\ прокуратура\\ российский\\ федерация\\ \"\\ n\\ 2202\\-1\\-фз статья \\d+\\.{0,1}\\d*|федеральный\\ закон\\ \"\\ о\\ прокуратура\\ российский\\ федерация\\ \"\\ n\\ 2202\\-1\\-фз статья([а-я ])+ \\d+\\.{0,1}\\d*|федеральный\\ закон\\ \"\\ о\\ прокуратура\\ российский\\ федерация\\ \"\\ n\\ 2202\\-1\\-фз c[\\. ]+\\d+\\.{0,1}\\d*|федеральный\\ закон\\ \"\\ о\\ прокуратура\\ российский\\ федерация\\ \"\\ n\\ 2202\\-1\\-фз ст[\\. ]+\\d+\\.{0,1}\\d*|федеральный\\ закон\\ \"\\ о\\ противодействие\\ легализация статья \\d+\\.{0,1}\\d*|федеральный\\ закон\\ \"\\ о\\ противодействие\\ легализация статья([а-я ])+ \\d+\\.{0,1}\\d*|федеральный\\ закон\\ \"\\ о\\ противодействие\\ легализация c[\\. ]+\\d+\\.{0,1}\\d*|федеральный\\ закон\\ \"\\ о\\ противодействие\\ легализация ст[\\. ]+\\d+\\.{0,1}\\d*|федеральный\\ закон\\ \"\\ о\\ развитие\\ малое\\ и\\ среднее\\ предпринимательство\\ в\\ российский\\ федерация\\ \"\\ n\\ 209\\-фз статья \\d+\\.{0,1}\\d*|федеральный\\ закон\\ \"\\ о\\ развитие\\ малое\\ и\\ среднее\\ предпринимательство\\ в\\ российский\\ федерация\\ \"\\ n\\ 209\\-фз статья([а-я ])+ \\d+\\.{0,1}\\d*|федеральный\\ закон\\ \"\\ о\\ развитие\\ малое\\ и\\ среднее\\ предпринимательство\\ в\\ российский\\ федерация\\ \"\\ n\\ 209\\-фз c[\\. ]+\\d+\\.{0,1}\\d*|федеральный\\ закон\\ \"\\ о\\ развитие\\ малое\\ и\\ среднее\\ предпринимательство\\ в\\ российский\\ федерация\\ \"\\ n\\ 209\\-фз ст[\\. ]+\\d+\\.{0,1}\\d*|федеральный\\ закон\\ \"\\ о\\ контрактный\\ система\\ в\\ сфера\\ закупка\\ товар\\ ,\\ работа\\ ,\\ услуга\\ для\\ обеспечение\\ государственный\\ и\\ муниципальный\\ нужда\\ \"\\ n\\ 44\\-фз статья \\d+\\.{0,1}\\d*|федеральный\\ закон\\ \"\\ о\\ контрактный\\ система\\ в\\ сфера\\ закупка\\ товар\\ ,\\ работа\\ ,\\ услуга\\ для\\ обеспечение\\ государственный\\ и\\ муниципальный\\ нужда\\ \"\\ n\\ 44\\-фз статья([а-я ])+ \\d+\\.{0,1}\\d*|федеральный\\ закон\\ \"\\ о\\ контрактный\\ система\\ в\\ сфера\\ закупка\\ товар\\ ,\\ работа\\ ,\\ услуга\\ для\\ обеспечение\\ государственный\\ и\\ муниципальный\\ нужда\\ \"\\ n\\ 44\\-фз c[\\. ]+\\d+\\.{0,1}\\d*|федеральный\\ закон\\ \"\\ о\\ контрактный\\ система\\ в\\ сфера\\ закупка\\ товар\\ ,\\ работа\\ ,\\ услуга\\ для\\ обеспечение\\ государственный\\ и\\ муниципальный\\ нужда\\ \"\\ n\\ 44\\-фз ст[\\. ]+\\d+\\.{0,1}\\d*|федеральный\\ закон\\ \"\\ о\\ реклама\\ \"\\ n\\ 38\\-фз статья \\d+\\.{0,1}\\d*|федеральный\\ закон\\ \"\\ о\\ реклама\\ \"\\ n\\ 38\\-фз статья([а-я ])+ \\d+\\.{0,1}\\d*|федеральный\\ закон\\ \"\\ о\\ реклама\\ \"\\ n\\ 38\\-фз c[\\. ]+\\d+\\.{0,1}\\d*|федеральный\\ закон\\ \"\\ о\\ реклама\\ \"\\ n\\ 38\\-фз ст[\\. ]+\\d+\\.{0,1}\\d*|федеральный\\ закон\\ \"\\ о\\ рынок\\ ценный\\ бумага\\ \"\\ n\\ 39\\-фз статья \\d+\\.{0,1}\\d*|федеральный\\ закон\\ \"\\ о\\ рынок\\ ценный\\ бумага\\ \"\\ n\\ 39\\-фз статья([а-я ])+ \\d+\\.{0,1}\\d*|федеральный\\ закон\\ \"\\ о\\ рынок\\ ценный\\ бумага\\ \"\\ n\\ 39\\-фз c[\\. ]+\\d+\\.{0,1}\\d*|федеральный\\ закон\\ \"\\ о\\ рынок\\ ценный\\ бумага\\ \"\\ n\\ 39\\-фз ст[\\. ]+\\d+\\.{0,1}\\d*|федеральный\\ закон\\ \"\\ о\\ связь\\ \"\\ n\\ 126\\-фз статья \\d+\\.{0,1}\\d*|федеральный\\ закон\\ \"\\ о\\ связь\\ \"\\ n\\ 126\\-фз статья([а-я ])+ \\d+\\.{0,1}\\d*|федеральный\\ закон\\ \"\\ о\\ связь\\ \"\\ n\\ 126\\-фз c[\\. ]+\\d+\\.{0,1}\\d*|федеральный\\ закон\\ \"\\ о\\ связь\\ \"\\ n\\ 126\\-фз ст[\\. ]+\\d+\\.{0,1}\\d*|федеральный\\ закон\\ \"\\ о\\ система\\ государственный\\ служба\\ российский\\ федерация\\ \"\\ n\\ 58\\-фз статья \\d+\\.{0,1}\\d*|федеральный\\ закон\\ \"\\ о\\ система\\ государственный\\ служба\\ российский\\ федерация\\ \"\\ n\\ 58\\-фз статья([а-я ])+ \\d+\\.{0,1}\\d*|федеральный\\ закон\\ \"\\ о\\ система\\ государственный\\ служба\\ российский\\ федерация\\ \"\\ n\\ 58\\-фз c[\\. ]+\\d+\\.{0,1}\\d*|федеральный\\ закон\\ \"\\ о\\ система\\ государственный\\ служба\\ российский\\ федерация\\ \"\\ n\\ 58\\-фз ст[\\. ]+\\d+\\.{0,1}\\d*|федеральный\\ закон\\ от\\ 20\\.07\\.2020\\ n\\ 211\\-фз\\ \"\\ о\\ совершение\\ финансовый\\ сделка\\ с\\ использование\\ финансовый\\ платформа\\ \" статья \\d+\\.{0,1}\\d*|федеральный\\ закон\\ от\\ 20\\.07\\.2020\\ n\\ 211\\-фз\\ \"\\ о\\ совершение\\ финансовый\\ сделка\\ с\\ использование\\ финансовый\\ платформа\\ \" статья([а-я ])+ \\d+\\.{0,1}\\d*|федеральный\\ закон\\ от\\ 20\\.07\\.2020\\ n\\ 211\\-фз\\ \"\\ о\\ совершение\\ финансовый\\ сделка\\ с\\ использование\\ финансовый\\ платформа\\ \" c[\\. ]+\\d+\\.{0,1}\\d*|федеральный\\ закон\\ от\\ 20\\.07\\.2020\\ n\\ 211\\-фз\\ \"\\ о\\ совершение\\ финансовый\\ сделка\\ с\\ использование\\ финансовый\\ платформа\\ \" ст[\\. ]+\\d+\\.{0,1}\\d*|федеральный\\ закон\\ \"\\ о\\ стандартизация\\ в\\ российский\\ федерация\\ \"\\ n\\ 162\\-фз статья \\d+\\.{0,1}\\d*|федеральный\\ закон\\ \"\\ о\\ стандартизация\\ в\\ российский\\ федерация\\ \"\\ n\\ 162\\-фз статья([а-я ])+ \\d+\\.{0,1}\\d*|федеральный\\ закон\\ \"\\ о\\ стандартизация\\ в\\ российский\\ федерация\\ \"\\ n\\ 162\\-фз c[\\. ]+\\d+\\.{0,1}\\d*|федеральный\\ закон\\ \"\\ о\\ стандартизация\\ в\\ российский\\ федерация\\ \"\\ n\\ 162\\-фз ст[\\. ]+\\d+\\.{0,1}\\d*|федеральный\\ закон\\ \"\\ о\\ статус\\ военнослужащий\\ \"\\ n\\ 76\\-фз статья \\d+\\.{0,1}\\d*|федеральный\\ закон\\ \"\\ о\\ статус\\ военнослужащий\\ \"\\ n\\ 76\\-фз статья([а-я ])+ \\d+\\.{0,1}\\d*|федеральный\\ закон\\ \"\\ о\\ статус\\ военнослужащий\\ \"\\ n\\ 76\\-фз c[\\. ]+\\d+\\.{0,1}\\d*|федеральный\\ закон\\ \"\\ о\\ статус\\ военнослужащий\\ \"\\ n\\ 76\\-фз ст[\\. ]+\\d+\\.{0,1}\\d*|федеральный\\ закон\\ \"\\ о\\ стратегический\\ планирование\\ в\\ российский\\ федерация\\ \"\\ n\\ 172\\-фз статья \\d+\\.{0,1}\\d*|федеральный\\ закон\\ \"\\ о\\ стратегический\\ планирование\\ в\\ российский\\ федерация\\ \"\\ n\\ 172\\-фз статья([а-я ])+ \\d+\\.{0,1}\\d*|федеральный\\ закон\\ \"\\ о\\ стратегический\\ планирование\\ в\\ российский\\ федерация\\ \"\\ n\\ 172\\-фз c[\\. ]+\\d+\\.{0,1}\\d*|федеральный\\ закон\\ \"\\ о\\ стратегический\\ планирование\\ в\\ российский\\ федерация\\ \"\\ n\\ 172\\-фз ст[\\. ]+\\d+\\.{0,1}\\d*|федеральный\\ закон\\ \"\\ о\\ страхование\\ вклад\\ физический\\ лицо\\ в\\ банк\\ российский\\ федерация\\ \"\\ n\\ 177\\-фз статья \\d+\\.{0,1}\\d*|федеральный\\ закон\\ \"\\ о\\ страхование\\ вклад\\ физический\\ лицо\\ в\\ банк\\ российский\\ федерация\\ \"\\ n\\ 177\\-фз статья([а-я ])+ \\d+\\.{0,1}\\d*|федеральный\\ закон\\ \"\\ о\\ страхование\\ вклад\\ физический\\ лицо\\ в\\ банк\\ российский\\ федерация\\ \"\\ n\\ 177\\-фз c[\\. ]+\\d+\\.{0,1}\\d*|федеральный\\ закон\\ \"\\ о\\ страхование\\ вклад\\ физический\\ лицо\\ в\\ банк\\ российский\\ федерация\\ \"\\ n\\ 177\\-фз ст[\\. ]+\\d+\\.{0,1}\\d*|федеральный\\ закон\\ \"\\ о\\ судебный\\ пристав\\ \"\\ n\\ 118\\-фз статья \\d+\\.{0,1}\\d*|федеральный\\ закон\\ \"\\ о\\ судебный\\ пристав\\ \"\\ n\\ 118\\-фз статья([а-я ])+ \\d+\\.{0,1}\\d*|федеральный\\ закон\\ \"\\ о\\ судебный\\ пристав\\ \"\\ n\\ 118\\-фз c[\\. ]+\\d+\\.{0,1}\\d*|федеральный\\ закон\\ \"\\ о\\ судебный\\ пристав\\ \"\\ n\\ 118\\-фз ст[\\. ]+\\d+\\.{0,1}\\d*|федеральный\\ закон\\ \"\\ о\\ таможенный\\ регулирование\\ в\\ российский\\ федерация\\ \"\\ n\\ 311\\-фз статья \\d+\\.{0,1}\\d*|федеральный\\ закон\\ \"\\ о\\ таможенный\\ регулирование\\ в\\ российский\\ федерация\\ \"\\ n\\ 311\\-фз статья([а-я ])+ \\d+\\.{0,1}\\d*|федеральный\\ закон\\ \"\\ о\\ таможенный\\ регулирование\\ в\\ российский\\ федерация\\ \"\\ n\\ 311\\-фз c[\\. ]+\\d+\\.{0,1}\\d*|федеральный\\ закон\\ \"\\ о\\ таможенный\\ регулирование\\ в\\ российский\\ федерация\\ \"\\ n\\ 311\\-фз ст[\\. ]+\\d+\\.{0,1}\\d*|федеральный\\ закон\\ \"\\ о\\ таможенный\\ регулирование\\ в\\ российский\\ федерация\\ и\\ о\\ внесение\\ изменение\\ в\\ отдельный\\ законодательный\\ акт\\ российский\\ федерация\\ \"\\ n\\ 289\\-фз статья \\d+\\.{0,1}\\d*|федеральный\\ закон\\ \"\\ о\\ таможенный\\ регулирование\\ в\\ российский\\ федерация\\ и\\ о\\ внесение\\ изменение\\ в\\ отдельный\\ законодательный\\ акт\\ российский\\ федерация\\ \"\\ n\\ 289\\-фз статья([а-я ])+ \\d+\\.{0,1}\\d*|федеральный\\ закон\\ \"\\ о\\ таможенный\\ регулирование\\ в\\ российский\\ федерация\\ и\\ о\\ внесение\\ изменение\\ в\\ отдельный\\ законодательный\\ акт\\ российский\\ федерация\\ \"\\ n\\ 289\\-фз c[\\. ]+\\d+\\.{0,1}\\d*|федеральный\\ закон\\ \"\\ о\\ таможенный\\ регулирование\\ в\\ российский\\ федерация\\ и\\ о\\ внесение\\ изменение\\ в\\ отдельный\\ законодательный\\ акт\\ российский\\ федерация\\ \"\\ n\\ 289\\-фз ст[\\. ]+\\d+\\.{0,1}\\d*|федеральный\\ закон\\ \"\\ о\\ технический\\ осмотр\\ транспортный\\ средство\\ и\\ о\\ внесение\\ изменение\\ в\\ отдельный\\ законодательный\\ акт\\ российский\\ федерация\\ \"\\ n\\ 170\\-фз статья \\d+\\.{0,1}\\d*|федеральный\\ закон\\ \"\\ о\\ технический\\ осмотр\\ транспортный\\ средство\\ и\\ о\\ внесение\\ изменение\\ в\\ отдельный\\ законодательный\\ акт\\ российский\\ федерация\\ \"\\ n\\ 170\\-фз статья([а-я ])+ \\d+\\.{0,1}\\d*|федеральный\\ закон\\ \"\\ о\\ технический\\ осмотр\\ транспортный\\ средство\\ и\\ о\\ внесение\\ изменение\\ в\\ отдельный\\ законодательный\\ акт\\ российский\\ федерация\\ \"\\ n\\ 170\\-фз c[\\. ]+\\d+\\.{0,1}\\d*|федеральный\\ закон\\ \"\\ о\\ технический\\ осмотр\\ транспортный\\ средство\\ и\\ о\\ внесение\\ изменение\\ в\\ отдельный\\ законодательный\\ акт\\ российский\\ федерация\\ \"\\ n\\ 170\\-фз ст[\\. ]+\\d+\\.{0,1}\\d*|федеральный\\ закон\\ \"\\ о\\ технический\\ регулирование\\ \"\\ n\\ 184\\-фз статья \\d+\\.{0,1}\\d*|федеральный\\ закон\\ \"\\ о\\ технический\\ регулирование\\ \"\\ n\\ 184\\-фз статья([а-я ])+ \\d+\\.{0,1}\\d*|федеральный\\ закон\\ \"\\ о\\ технический\\ регулирование\\ \"\\ n\\ 184\\-фз c[\\. ]+\\d+\\.{0,1}\\d*|федеральный\\ закон\\ \"\\ о\\ технический\\ регулирование\\ \"\\ n\\ 184\\-фз ст[\\. ]+\\d+\\.{0,1}\\d*|федеральный\\ закон\\ \"\\ о\\ трудовой\\ пенсия\\ в\\ российский\\ федерация\\ \"\\ n\\ 173\\-фз статья \\d+\\.{0,1}\\d*|федеральный\\ закон\\ \"\\ о\\ трудовой\\ пенсия\\ в\\ российский\\ федерация\\ \"\\ n\\ 173\\-фз статья([а-я ])+ \\d+\\.{0,1}\\d*|федеральный\\ закон\\ \"\\ о\\ трудовой\\ пенсия\\ в\\ российский\\ федерация\\ \"\\ n\\ 173\\-фз c[\\. ]+\\d+\\.{0,1}\\d*|федеральный\\ закон\\ \"\\ о\\ трудовой\\ пенсия\\ в\\ российский\\ федерация\\ \"\\ n\\ 173\\-фз ст[\\. ]+\\d+\\.{0,1}\\d*|федеральный\\ закон\\ от\\ 31\\.07\\.2020\\ n\\ 259\\-фз\\ \"\\ о\\ цифровой\\ финансовый\\ актив\\ ,\\ цифровой\\ валюта\\ и\\ о\\ внесение\\ изменение\\ в\\ отдельный\\ законодательный\\ акт\\ российский\\ федерация\\ \" статья \\d+\\.{0,1}\\d*|федеральный\\ закон\\ от\\ 31\\.07\\.2020\\ n\\ 259\\-фз\\ \"\\ о\\ цифровой\\ финансовый\\ актив\\ ,\\ цифровой\\ валюта\\ и\\ о\\ внесение\\ изменение\\ в\\ отдельный\\ законодательный\\ акт\\ российский\\ федерация\\ \" статья([а-я ])+ \\d+\\.{0,1}\\d*|федеральный\\ закон\\ от\\ 31\\.07\\.2020\\ n\\ 259\\-фз\\ \"\\ о\\ цифровой\\ финансовый\\ актив\\ ,\\ цифровой\\ валюта\\ и\\ о\\ внесение\\ изменение\\ в\\ отдельный\\ законодательный\\ акт\\ российский\\ федерация\\ \" c[\\. ]+\\d+\\.{0,1}\\d*|федеральный\\ закон\\ от\\ 31\\.07\\.2020\\ n\\ 259\\-фз\\ \"\\ о\\ цифровой\\ финансовый\\ актив\\ ,\\ цифровой\\ валюта\\ и\\ о\\ внесение\\ изменение\\ в\\ отдельный\\ законодательный\\ акт\\ российский\\ федерация\\ \" ст[\\. ]+\\d+\\.{0,1}\\d*|федеральный\\ закон\\ \"\\ о\\ административный\\ надзор\\ за\\ лицо\\ ,\\ освободить\\ из\\ место\\ лишение\\ свобода\\ \"\\ n\\ 64\\-фз статья \\d+\\.{0,1}\\d*|федеральный\\ закон\\ \"\\ о\\ административный\\ надзор\\ за\\ лицо\\ ,\\ освободить\\ из\\ место\\ лишение\\ свобода\\ \"\\ n\\ 64\\-фз статья([а-я ])+ \\d+\\.{0,1}\\d*|федеральный\\ закон\\ \"\\ о\\ административный\\ надзор\\ за\\ лицо\\ ,\\ освободить\\ из\\ место\\ лишение\\ свобода\\ \"\\ n\\ 64\\-фз c[\\. ]+\\d+\\.{0,1}\\d*|федеральный\\ закон\\ \"\\ о\\ административный\\ надзор\\ за\\ лицо\\ ,\\ освободить\\ из\\ место\\ лишение\\ свобода\\ \"\\ n\\ 64\\-фз ст[\\. ]+\\d+\\.{0,1}\\d*|федеральный\\ закон\\ \"\\ о\\ акционерный\\ общество\\ \" статья \\d+\\.{0,1}\\d*|федеральный\\ закон\\ \"\\ о\\ акционерный\\ общество\\ \" статья([а-я ])+ \\d+\\.{0,1}\\d*|федеральный\\ закон\\ \"\\ о\\ акционерный\\ общество\\ \" c[\\. ]+\\d+\\.{0,1}\\d*|федеральный\\ закон\\ \"\\ о\\ акционерный\\ общество\\ \" ст[\\. ]+\\d+\\.{0,1}\\d*|федеральный\\ закон\\ \"\\ о\\ аудиторский\\ деятельность\\ \"\\ n\\ 307\\-фз статья \\d+\\.{0,1}\\d*|федеральный\\ закон\\ \"\\ о\\ аудиторский\\ деятельность\\ \"\\ n\\ 307\\-фз статья([а-я ])+ \\d+\\.{0,1}\\d*|федеральный\\ закон\\ \"\\ о\\ аудиторский\\ деятельность\\ \"\\ n\\ 307\\-фз c[\\. ]+\\d+\\.{0,1}\\d*|федеральный\\ закон\\ \"\\ о\\ аудиторский\\ деятельность\\ \"\\ n\\ 307\\-фз ст[\\. ]+\\d+\\.{0,1}\\d*|федеральный\\ закон\\ \"\\ о\\ инвестиционный\\ товарищество\\ \"\\ n\\ 335\\-фз статья \\d+\\.{0,1}\\d*|федеральный\\ закон\\ \"\\ о\\ инвестиционный\\ товарищество\\ \"\\ n\\ 335\\-фз статья([а-я ])+ \\d+\\.{0,1}\\d*|федеральный\\ закон\\ \"\\ о\\ инвестиционный\\ товарищество\\ \"\\ n\\ 335\\-фз c[\\. ]+\\d+\\.{0,1}\\d*|федеральный\\ закон\\ \"\\ о\\ инвестиционный\\ товарищество\\ \"\\ n\\ 335\\-фз ст[\\. ]+\\d+\\.{0,1}\\d*|федеральный\\ закон\\ \"\\ о\\ ипотека статья \\d+\\.{0,1}\\d*|федеральный\\ закон\\ \"\\ о\\ ипотека статья([а-я ])+ \\d+\\.{0,1}\\d*|федеральный\\ закон\\ \"\\ о\\ ипотека c[\\. ]+\\d+\\.{0,1}\\d*|федеральный\\ закон\\ \"\\ о\\ ипотека ст[\\. ]+\\d+\\.{0,1}\\d*|федеральный\\ закон\\ \"\\ о\\ исполнительный\\ производство\\ \"\\ n\\ 229\\-фз статья \\d+\\.{0,1}\\d*|федеральный\\ закон\\ \"\\ о\\ исполнительный\\ производство\\ \"\\ n\\ 229\\-фз статья([а-я ])+ \\d+\\.{0,1}\\d*|федеральный\\ закон\\ \"\\ о\\ исполнительный\\ производство\\ \"\\ n\\ 229\\-фз c[\\. ]+\\d+\\.{0,1}\\d*|федеральный\\ закон\\ \"\\ о\\ исполнительный\\ производство\\ \"\\ n\\ 229\\-фз ст[\\. ]+\\d+\\.{0,1}\\d*|федеральный\\ закон\\ \"\\ о\\ образование\\ в\\ российский\\ федерация\\ \"\\ n\\ 273\\-фз статья \\d+\\.{0,1}\\d*|федеральный\\ закон\\ \"\\ о\\ образование\\ в\\ российский\\ федерация\\ \"\\ n\\ 273\\-фз статья([а-я ])+ \\d+\\.{0,1}\\d*|федеральный\\ закон\\ \"\\ о\\ образование\\ в\\ российский\\ федерация\\ \"\\ n\\ 273\\-фз c[\\. ]+\\d+\\.{0,1}\\d*|федеральный\\ закон\\ \"\\ о\\ образование\\ в\\ российский\\ федерация\\ \"\\ n\\ 273\\-фз ст[\\. ]+\\d+\\.{0,1}\\d*|федеральный\\ закон\\ \"\\ о\\ общество\\ с\\ ограниченный\\ ответственность\\ \" статья \\d+\\.{0,1}\\d*|федеральный\\ закон\\ \"\\ о\\ общество\\ с\\ ограниченный\\ ответственность\\ \" статья([а-я ])+ \\d+\\.{0,1}\\d*|федеральный\\ закон\\ \"\\ о\\ общество\\ с\\ ограниченный\\ ответственность\\ \" c[\\. ]+\\d+\\.{0,1}\\d*|федеральный\\ закон\\ \"\\ о\\ общество\\ с\\ ограниченный\\ ответственность\\ \" ст[\\. ]+\\d+\\.{0,1}\\d*|федеральный\\ закон\\ \"\\ о\\ общественный\\ объединение\\ \"\\ n\\ 82\\-фз статья \\d+\\.{0,1}\\d*|федеральный\\ закон\\ \"\\ о\\ общественный\\ объединение\\ \"\\ n\\ 82\\-фз статья([а-я ])+ \\d+\\.{0,1}\\d*|федеральный\\ закон\\ \"\\ о\\ общественный\\ объединение\\ \"\\ n\\ 82\\-фз c[\\. ]+\\d+\\.{0,1}\\d*|федеральный\\ закон\\ \"\\ о\\ общественный\\ объединение\\ \"\\ n\\ 82\\-фз ст[\\. ]+\\d+\\.{0,1}\\d*|федеральный\\ закон\\ \"\\ о\\ общий\\ принцип\\ организация\\ местный\\ самоуправление\\ в\\ рф\\ \" статья \\d+\\.{0,1}\\d*|федеральный\\ закон\\ \"\\ о\\ общий\\ принцип\\ организация\\ местный\\ самоуправление\\ в\\ рф\\ \" статья([а-я ])+ \\d+\\.{0,1}\\d*|федеральный\\ закон\\ \"\\ о\\ общий\\ принцип\\ организация\\ местный\\ самоуправление\\ в\\ рф\\ \" c[\\. ]+\\d+\\.{0,1}\\d*|федеральный\\ закон\\ \"\\ о\\ общий\\ принцип\\ организация\\ местный\\ самоуправление\\ в\\ рф\\ \" ст[\\. ]+\\d+\\.{0,1}\\d*|федеральный\\ закон\\ \"\\ о\\ обязательный\\ социальный\\ страхование\\ от\\ несчастный\\ случай\\ на\\ производство\\ и\\ профессиональный\\ заболевание\\ \"\\ n\\ 125\\-фз статья \\d+\\.{0,1}\\d*|федеральный\\ закон\\ \"\\ о\\ обязательный\\ социальный\\ страхование\\ от\\ несчастный\\ случай\\ на\\ производство\\ и\\ профессиональный\\ заболевание\\ \"\\ n\\ 125\\-фз статья([а-я ])+ \\d+\\.{0,1}\\d*|федеральный\\ закон\\ \"\\ о\\ обязательный\\ социальный\\ страхование\\ от\\ несчастный\\ случай\\ на\\ производство\\ и\\ профессиональный\\ заболевание\\ \"\\ n\\ 125\\-фз c[\\. ]+\\d+\\.{0,1}\\d*|федеральный\\ закон\\ \"\\ о\\ обязательный\\ социальный\\ страхование\\ от\\ несчастный\\ случай\\ на\\ производство\\ и\\ профессиональный\\ заболевание\\ \"\\ n\\ 125\\-фз ст[\\. ]+\\d+\\.{0,1}\\d*|федеральный\\ закон\\ \"\\ о\\ обязательный\\ страхование\\ гражданский\\ ответственность\\ владелец\\ транспортный\\ средство\\ \" статья \\d+\\.{0,1}\\d*|федеральный\\ закон\\ \"\\ о\\ обязательный\\ страхование\\ гражданский\\ ответственность\\ владелец\\ транспортный\\ средство\\ \" статья([а-я ])+ \\d+\\.{0,1}\\d*|федеральный\\ закон\\ \"\\ о\\ обязательный\\ страхование\\ гражданский\\ ответственность\\ владелец\\ транспортный\\ средство\\ \" c[\\. ]+\\d+\\.{0,1}\\d*|федеральный\\ закон\\ \"\\ о\\ обязательный\\ страхование\\ гражданский\\ ответственность\\ владелец\\ транспортный\\ средство\\ \" ст[\\. ]+\\d+\\.{0,1}\\d*|федеральный\\ закон\\ от\\ 31\\.07\\.2020\\ n\\ 247\\-фз\\ \"\\ о\\ обязательный\\ требование\\ в\\ российский\\ федерация\\ \" статья \\d+\\.{0,1}\\d*|федеральный\\ закон\\ от\\ 31\\.07\\.2020\\ n\\ 247\\-фз\\ \"\\ о\\ обязательный\\ требование\\ в\\ российский\\ федерация\\ \" статья([а-я ])+ \\d+\\.{0,1}\\d*|федеральный\\ закон\\ от\\ 31\\.07\\.2020\\ n\\ 247\\-фз\\ \"\\ о\\ обязательный\\ требование\\ в\\ российский\\ федерация\\ \" c[\\. ]+\\d+\\.{0,1}\\d*|федеральный\\ закон\\ от\\ 31\\.07\\.2020\\ n\\ 247\\-фз\\ \"\\ о\\ обязательный\\ требование\\ в\\ российский\\ федерация\\ \" ст[\\. ]+\\d+\\.{0,1}\\d*|федеральный\\ закон\\ \"\\ о\\ оружие\\ \"\\ n\\ 150\\-фз статья \\d+\\.{0,1}\\d*|федеральный\\ закон\\ \"\\ о\\ оружие\\ \"\\ n\\ 150\\-фз статья([а-я ])+ \\d+\\.{0,1}\\d*|федеральный\\ закон\\ \"\\ о\\ оружие\\ \"\\ n\\ 150\\-фз c[\\. ]+\\d+\\.{0,1}\\d*|федеральный\\ закон\\ \"\\ о\\ оружие\\ \"\\ n\\ 150\\-фз ст[\\. ]+\\d+\\.{0,1}\\d*|федеральный\\ закон\\ \"\\ о\\ основа\\ охрана\\ здоровье\\ гражданин\\ в\\ российский\\ федерация\\ \"\\ n\\ 323\\-фз статья \\d+\\.{0,1}\\d*|федеральный\\ закон\\ \"\\ о\\ основа\\ охрана\\ здоровье\\ гражданин\\ в\\ российский\\ федерация\\ \"\\ n\\ 323\\-фз статья([а-я ])+ \\d+\\.{0,1}\\d*|федеральный\\ закон\\ \"\\ о\\ основа\\ охрана\\ здоровье\\ гражданин\\ в\\ российский\\ федерация\\ \"\\ n\\ 323\\-фз c[\\. ]+\\d+\\.{0,1}\\d*|федеральный\\ закон\\ \"\\ о\\ основа\\ охрана\\ здоровье\\ гражданин\\ в\\ российский\\ федерация\\ \"\\ n\\ 323\\-фз ст[\\. ]+\\d+\\.{0,1}\\d*|федеральный\\ закон\\ \"\\ о\\ основа\\ система\\ профилактика\\ безнадзорность\\ и\\ правонарушение\\ несовершеннолетний\\ \"\\ n\\ 120\\-фз статья \\d+\\.{0,1}\\d*|федеральный\\ закон\\ \"\\ о\\ основа\\ система\\ профилактика\\ безнадзорность\\ и\\ правонарушение\\ несовершеннолетний\\ \"\\ n\\ 120\\-фз статья([а-я ])+ \\d+\\.{0,1}\\d*|федеральный\\ закон\\ \"\\ о\\ основа\\ система\\ профилактика\\ безнадзорность\\ и\\ правонарушение\\ несовершеннолетний\\ \"\\ n\\ 120\\-фз c[\\. ]+\\d+\\.{0,1}\\d*|федеральный\\ закон\\ \"\\ о\\ основа\\ система\\ профилактика\\ безнадзорность\\ и\\ правонарушение\\ несовершеннолетний\\ \"\\ n\\ 120\\-фз ст[\\. ]+\\d+\\.{0,1}\\d*|федеральный\\ закон\\ \"\\ о\\ основа\\ система\\ профилактика\\ правонарушение\\ в\\ российский\\ федерация\\ \"\\ n\\ 182\\-фз статья \\d+\\.{0,1}\\d*|федеральный\\ закон\\ \"\\ о\\ основа\\ система\\ профилактика\\ правонарушение\\ в\\ российский\\ федерация\\ \"\\ n\\ 182\\-фз статья([а-я ])+ \\d+\\.{0,1}\\d*|федеральный\\ закон\\ \"\\ о\\ основа\\ система\\ профилактика\\ правонарушение\\ в\\ российский\\ федерация\\ \"\\ n\\ 182\\-фз c[\\. ]+\\d+\\.{0,1}\\d*|федеральный\\ закон\\ \"\\ о\\ основа\\ система\\ профилактика\\ правонарушение\\ в\\ российский\\ федерация\\ \"\\ n\\ 182\\-фз ст[\\. ]+\\d+\\.{0,1}\\d*|федеральный\\ закон\\ от\\ 01\\.04\\.2020\\ n\\ 104\\-фз статья \\d+\\.{0,1}\\d*|федеральный\\ закон\\ от\\ 01\\.04\\.2020\\ n\\ 104\\-фз статья([а-я ])+ \\d+\\.{0,1}\\d*|федеральный\\ закон\\ от\\ 01\\.04\\.2020\\ n\\ 104\\-фз c[\\. ]+\\d+\\.{0,1}\\d*|федеральный\\ закон\\ от\\ 01\\.04\\.2020\\ n\\ 104\\-фз ст[\\. ]+\\d+\\.{0,1}\\d*|федеральный\\ закон\\ \"\\ о\\ ответственный\\ обращение\\ с\\ животное\\ и\\ о\\ внесение\\ изменение\\ в\\ отдельный\\ законодательный\\ акт\\ российский\\ федерация\\ \"\\ n\\ 498\\-фз статья \\d+\\.{0,1}\\d*|федеральный\\ закон\\ \"\\ о\\ ответственный\\ обращение\\ с\\ животное\\ и\\ о\\ внесение\\ изменение\\ в\\ отдельный\\ законодательный\\ акт\\ российский\\ федерация\\ \"\\ n\\ 498\\-фз статья([а-я ])+ \\d+\\.{0,1}\\d*|федеральный\\ закон\\ \"\\ о\\ ответственный\\ обращение\\ с\\ животное\\ и\\ о\\ внесение\\ изменение\\ в\\ отдельный\\ законодательный\\ акт\\ российский\\ федерация\\ \"\\ n\\ 498\\-фз c[\\. ]+\\d+\\.{0,1}\\d*|федеральный\\ закон\\ \"\\ о\\ ответственный\\ обращение\\ с\\ животное\\ и\\ о\\ внесение\\ изменение\\ в\\ отдельный\\ законодательный\\ акт\\ российский\\ федерация\\ \"\\ n\\ 498\\-фз ст[\\. ]+\\d+\\.{0,1}\\d*|федеральный\\ закон\\ \"\\ о\\ охрана\\ окружающий\\ среда\\ \"\\ n\\ 7\\-фз статья \\d+\\.{0,1}\\d*|федеральный\\ закон\\ \"\\ о\\ охрана\\ окружающий\\ среда\\ \"\\ n\\ 7\\-фз статья([а-я ])+ \\d+\\.{0,1}\\d*|федеральный\\ закон\\ \"\\ о\\ охрана\\ окружающий\\ среда\\ \"\\ n\\ 7\\-фз c[\\. ]+\\d+\\.{0,1}\\d*|федеральный\\ закон\\ \"\\ о\\ охрана\\ окружающий\\ среда\\ \"\\ n\\ 7\\-фз ст[\\. ]+\\d+\\.{0,1}\\d*|федеральный\\ закон\\ \"\\ о\\ уполномоченный\\ по\\ право\\ ребёнок\\ в\\ российский\\ федерация\\ \"\\ n\\ 501\\-фз статья \\d+\\.{0,1}\\d*|федеральный\\ закон\\ \"\\ о\\ уполномоченный\\ по\\ право\\ ребёнок\\ в\\ российский\\ федерация\\ \"\\ n\\ 501\\-фз статья([а-я ])+ \\d+\\.{0,1}\\d*|федеральный\\ закон\\ \"\\ о\\ уполномоченный\\ по\\ право\\ ребёнок\\ в\\ российский\\ федерация\\ \"\\ n\\ 501\\-фз c[\\. ]+\\d+\\.{0,1}\\d*|федеральный\\ закон\\ \"\\ о\\ уполномоченный\\ по\\ право\\ ребёнок\\ в\\ российский\\ федерация\\ \"\\ n\\ 501\\-фз ст[\\. ]+\\d+\\.{0,1}\\d*|федеральный\\ закон\\ от\\ 31\\.07\\.2020\\ n\\ 258\\-фз\\ \"\\ о\\ экспериментальный\\ правовой\\ режим\\ в\\ сфера\\ цифровой\\ инновация\\ в\\ российский\\ федерация\\ \" статья \\d+\\.{0,1}\\d*|федеральный\\ закон\\ от\\ 31\\.07\\.2020\\ n\\ 258\\-фз\\ \"\\ о\\ экспериментальный\\ правовой\\ режим\\ в\\ сфера\\ цифровой\\ инновация\\ в\\ российский\\ федерация\\ \" статья([а-я ])+ \\d+\\.{0,1}\\d*|федеральный\\ закон\\ от\\ 31\\.07\\.2020\\ n\\ 258\\-фз\\ \"\\ о\\ экспериментальный\\ правовой\\ режим\\ в\\ сфера\\ цифровой\\ инновация\\ в\\ российский\\ федерация\\ \" c[\\. ]+\\d+\\.{0,1}\\d*|федеральный\\ закон\\ от\\ 31\\.07\\.2020\\ n\\ 258\\-фз\\ \"\\ о\\ экспериментальный\\ правовой\\ режим\\ в\\ сфера\\ цифровой\\ инновация\\ в\\ российский\\ федерация\\ \" ст[\\. ]+\\d+\\.{0,1}\\d*|федеральный\\ конституционный\\ закон\\ от\\ 06\\.11\\.2020\\ n\\ 4\\-фкз\\ \"\\ о\\ правительство\\ российский\\ федерация\\ \" статья \\d+\\.{0,1}\\d*|федеральный\\ конституционный\\ закон\\ от\\ 06\\.11\\.2020\\ n\\ 4\\-фкз\\ \"\\ о\\ правительство\\ российский\\ федерация\\ \" статья([а-я ])+ \\d+\\.{0,1}\\d*|федеральный\\ конституционный\\ закон\\ от\\ 06\\.11\\.2020\\ n\\ 4\\-фкз\\ \"\\ о\\ правительство\\ российский\\ федерация\\ \" c[\\. ]+\\d+\\.{0,1}\\d*|федеральный\\ конституционный\\ закон\\ от\\ 06\\.11\\.2020\\ n\\ 4\\-фкз\\ \"\\ о\\ правительство\\ российский\\ федерация\\ \" ст[\\. ]+\\d+\\.{0,1}\\d*|постановление\\ правительство\\ рф\\ \"\\ о\\ правило\\ дорожный\\ движение\\ \" статья \\d+\\.{0,1}\\d*|постановление\\ правительство\\ рф\\ \"\\ о\\ правило\\ дорожный\\ движение\\ \" статья([а-я ])+ \\d+\\.{0,1}\\d*|постановление\\ правительство\\ рф\\ \"\\ о\\ правило\\ дорожный\\ движение\\ \" c[\\. ]+\\d+\\.{0,1}\\d*|постановление\\ правительство\\ рф\\ \"\\ о\\ правило\\ дорожный\\ движение\\ \" ст[\\. ]+\\d+\\.{0,1}\\d*|постановление\\ правительство\\ рф\\ \"\\ о\\ проведение\\ технический\\ осмотр\\ транспортный\\ средство\\ \"\\ n\\ 1008 статья \\d+\\.{0,1}\\d*|постановление\\ правительство\\ рф\\ \"\\ о\\ проведение\\ технический\\ осмотр\\ транспортный\\ средство\\ \"\\ n\\ 1008 статья([а-я ])+ \\d+\\.{0,1}\\d*|постановление\\ правительство\\ рф\\ \"\\ о\\ проведение\\ технический\\ осмотр\\ транспортный\\ средство\\ \"\\ n\\ 1008 c[\\. ]+\\d+\\.{0,1}\\d*|постановление\\ правительство\\ рф\\ \"\\ о\\ проведение\\ технический\\ осмотр\\ транспортный\\ средство\\ \"\\ n\\ 1008 ст[\\. ]+\\d+\\.{0,1}\\d*|постановление\\ правительство\\ рф\\ \"\\ о\\ утверждение\\ правило\\ перевозка\\ груз\\ автомобильный\\ транспорт\\ \"\\ n\\ 272 статья \\d+\\.{0,1}\\d*|постановление\\ правительство\\ рф\\ \"\\ о\\ утверждение\\ правило\\ перевозка\\ груз\\ автомобильный\\ транспорт\\ \"\\ n\\ 272 статья([а-я ])+ \\d+\\.{0,1}\\d*|постановление\\ правительство\\ рф\\ \"\\ о\\ утверждение\\ правило\\ перевозка\\ груз\\ автомобильный\\ транспорт\\ \"\\ n\\ 272 c[\\. ]+\\d+\\.{0,1}\\d*|постановление\\ правительство\\ рф\\ \"\\ о\\ утверждение\\ правило\\ перевозка\\ груз\\ автомобильный\\ транспорт\\ \"\\ n\\ 272 ст[\\. ]+\\d+\\.{0,1}\\d*|приказ\\ минрегион\\ рф\\ \"\\ о\\ утверждение\\ перечень\\ вид\\ работа\\ по\\ инженерный\\ изыскание\\ ,\\ по\\ подготовка\\ проектный\\ документация\\ ,\\ по\\ строительство\\ ,\\ реконструкция\\ ,\\ капитальный\\ ремонт\\ объект\\ капитальный\\ строительство\\ ,\\ который\\ оказывать\\ влияние\\ на\\ безопасность\\ объект\\ капитальный\\ строительство\\ \" статья \\d+\\.{0,1}\\d*|приказ\\ минрегион\\ рф\\ \"\\ о\\ утверждение\\ перечень\\ вид\\ работа\\ по\\ инженерный\\ изыскание\\ ,\\ по\\ подготовка\\ проектный\\ документация\\ ,\\ по\\ строительство\\ ,\\ реконструкция\\ ,\\ капитальный\\ ремонт\\ объект\\ капитальный\\ строительство\\ ,\\ который\\ оказывать\\ влияние\\ на\\ безопасность\\ объект\\ капитальный\\ строительство\\ \" статья([а-я ])+ \\d+\\.{0,1}\\d*|приказ\\ минрегион\\ рф\\ \"\\ о\\ утверждение\\ перечень\\ вид\\ работа\\ по\\ инженерный\\ изыскание\\ ,\\ по\\ подготовка\\ проектный\\ документация\\ ,\\ по\\ строительство\\ ,\\ реконструкция\\ ,\\ капитальный\\ ремонт\\ объект\\ капитальный\\ строительство\\ ,\\ который\\ оказывать\\ влияние\\ на\\ безопасность\\ объект\\ капитальный\\ строительство\\ \" c[\\. ]+\\d+\\.{0,1}\\d*|приказ\\ минрегион\\ рф\\ \"\\ о\\ утверждение\\ перечень\\ вид\\ работа\\ по\\ инженерный\\ изыскание\\ ,\\ по\\ подготовка\\ проектный\\ документация\\ ,\\ по\\ строительство\\ ,\\ реконструкция\\ ,\\ капитальный\\ ремонт\\ объект\\ капитальный\\ строительство\\ ,\\ который\\ оказывать\\ влияние\\ на\\ безопасность\\ объект\\ капитальный\\ строительство\\ \" ст[\\. ]+\\d+\\.{0,1}\\d*|календарь\\ кадровик\\ на\\ 2021\\ год статья \\d+\\.{0,1}\\d*|календарь\\ кадровик\\ на\\ 2021\\ год статья([а-я ])+ \\d+\\.{0,1}\\d*|календарь\\ кадровик\\ на\\ 2021\\ год c[\\. ]+\\d+\\.{0,1}\\d*|календарь\\ кадровик\\ на\\ 2021\\ год ст[\\. ]+\\d+\\.{0,1}\\d*|пособие\\ и\\ они\\ расчётный\\ дать\\ на\\ 2018\\ \\-\\ 2021\\ год статья \\d+\\.{0,1}\\d*|пособие\\ и\\ они\\ расчётный\\ дать\\ на\\ 2018\\ \\-\\ 2021\\ год статья([а-я ])+ \\d+\\.{0,1}\\d*|пособие\\ и\\ они\\ расчётный\\ дать\\ на\\ 2018\\ \\-\\ 2021\\ год c[\\. ]+\\d+\\.{0,1}\\d*|пособие\\ и\\ они\\ расчётный\\ дать\\ на\\ 2018\\ \\-\\ 2021\\ год ст[\\. ]+\\d+\\.{0,1}\\d*|расчёт\\ сумма\\ налог\\ на\\ доход\\ физический\\ лицо\\ ,\\ исчислить\\ и\\ удержать\\ налоговый\\ агент статья \\d+\\.{0,1}\\d*|расчёт\\ сумма\\ налог\\ на\\ доход\\ физический\\ лицо\\ ,\\ исчислить\\ и\\ удержать\\ налоговый\\ агент статья([а-я ])+ \\d+\\.{0,1}\\d*|расчёт\\ сумма\\ налог\\ на\\ доход\\ физический\\ лицо\\ ,\\ исчислить\\ и\\ удержать\\ налоговый\\ агент c[\\. ]+\\d+\\.{0,1}\\d*|расчёт\\ сумма\\ налог\\ на\\ доход\\ физический\\ лицо\\ ,\\ исчислить\\ и\\ удержать\\ налоговый\\ агент ст[\\. ]+\\d+\\.{0,1}\\d*|АПК РФ статья \\d+\\.{0,1}\\d*|АПК РФ статья([а-я ])+ \\d+\\.{0,1}\\d*|АПК РФ c[\\. ]+\\d+\\.{0,1}\\d*|АПК РФ ст[\\. ]+\\d+\\.{0,1}\\d*|БК РФ статья \\d+\\.{0,1}\\d*|БК РФ статья([а-я ])+ \\d+\\.{0,1}\\d*|БК РФ c[\\. ]+\\d+\\.{0,1}\\d*|БК РФ ст[\\. ]+\\d+\\.{0,1}\\d*|ВК РФ статья \\d+\\.{0,1}\\d*|ВК РФ статья([а-я ])+ \\d+\\.{0,1}\\d*|ВК РФ c[\\. ]+\\d+\\.{0,1}\\d*|ВК РФ ст[\\. ]+\\d+\\.{0,1}\\d*|ГПК РФ статья \\d+\\.{0,1}\\d*|ГПК РФ статья([а-я ])+ \\d+\\.{0,1}\\d*|ГПК РФ c[\\. ]+\\d+\\.{0,1}\\d*|ГПК РФ ст[\\. ]+\\d+\\.{0,1}\\d*|ЖК РФ статья \\d+\\.{0,1}\\d*|ЖК РФ статья([а-я ])+ \\d+\\.{0,1}\\d*|ЖК РФ c[\\. ]+\\d+\\.{0,1}\\d*|ЖК РФ ст[\\. ]+\\d+\\.{0,1}\\d*|ЗК РФ статья \\d+\\.{0,1}\\d*|ЗК РФ статья([а-я ])+ \\d+\\.{0,1}\\d*|ЗК РФ c[\\. ]+\\d+\\.{0,1}\\d*|ЗК РФ ст[\\. ]+\\d+\\.{0,1}\\d*|КАС РФ статья \\d+\\.{0,1}\\d*|КАС РФ статья([а-я ])+ \\d+\\.{0,1}\\d*|КАС РФ c[\\. ]+\\d+\\.{0,1}\\d*|КАС РФ ст[\\. ]+\\d+\\.{0,1}\\d*|ЛК РФ статья \\d+\\.{0,1}\\d*|ЛК РФ статья([а-я ])+ \\d+\\.{0,1}\\d*|ЛК РФ c[\\. ]+\\d+\\.{0,1}\\d*|ЛК РФ ст[\\. ]+\\d+\\.{0,1}\\d*|СК РФ статья \\d+\\.{0,1}\\d*|СК РФ статья([а-я ])+ \\d+\\.{0,1}\\d*|СК РФ c[\\. ]+\\d+\\.{0,1}\\d*|СК РФ ст[\\. ]+\\d+\\.{0,1}\\d*|ТК ЕАЭС статья \\d+\\.{0,1}\\d*|ТК ЕАЭС статья([а-я ])+ \\d+\\.{0,1}\\d*|ТК ЕАЭС c[\\. ]+\\d+\\.{0,1}\\d*|ТК ЕАЭС ст[\\. ]+\\d+\\.{0,1}\\d*|ТК ТС статья \\d+\\.{0,1}\\d*|ТК ТС статья([а-я ])+ \\d+\\.{0,1}\\d*|ТК ТС c[\\. ]+\\d+\\.{0,1}\\d*|ТК ТС ст[\\. ]+\\d+\\.{0,1}\\d*|ТК РФ статья \\d+\\.{0,1}\\d*|ТК РФ статья([а-я ])+ \\d+\\.{0,1}\\d*|ТК РФ c[\\. ]+\\d+\\.{0,1}\\d*|ТК РФ ст[\\. ]+\\d+\\.{0,1}\\d*|УИК РФ статья \\d+\\.{0,1}\\d*|УИК РФ статья([а-я ])+ \\d+\\.{0,1}\\d*|УИК РФ c[\\. ]+\\d+\\.{0,1}\\d*|УИК РФ ст[\\. ]+\\d+\\.{0,1}\\d*|УПК РФ статья \\d+\\.{0,1}\\d*|УПК РФ статья([а-я ])+ \\d+\\.{0,1}\\d*|УПК РФ c[\\. ]+\\d+\\.{0,1}\\d*|УПК РФ ст[\\. ]+\\d+\\.{0,1}\\d*|УК РФ статья \\d+\\.{0,1}\\d*|УК РФ статья([а-я ])+ \\d+\\.{0,1}\\d*|УК РФ c[\\. ]+\\d+\\.{0,1}\\d*|УК РФ ст[\\. ]+\\d+\\.{0,1}\\d*|ЗОЗПП статья \\d+\\.{0,1}\\d*|ЗОЗПП статья([а-я ])+ \\d+\\.{0,1}\\d*|ЗОЗПП c[\\. ]+\\d+\\.{0,1}\\d*|ЗОЗПП ст[\\. ]+\\d+\\.{0,1}\\d*|АО статья \\d+\\.{0,1}\\d*|АО статья([а-я ])+ \\d+\\.{0,1}\\d*|АО c[\\. ]+\\d+\\.{0,1}\\d*|АО ст[\\. ]+\\d+\\.{0,1}\\d*|ООО статья \\d+\\.{0,1}\\d*|ООО статья([а-я ])+ \\d+\\.{0,1}\\d*|ООО c[\\. ]+\\d+\\.{0,1}\\d*|ООО ст[\\. ]+\\d+\\.{0,1}\\d*|ОСАГО статья \\d+\\.{0,1}\\d*|ОСАГО статья([а-я ])+ \\d+\\.{0,1}\\d*|ОСАГО c[\\. ]+\\d+\\.{0,1}\\d*|ОСАГО ст[\\. ]+\\d+\\.{0,1}\\d*|ПДД статья \\d+\\.{0,1}\\d*|ПДД статья([а-я ])+ \\d+\\.{0,1}\\d*|ПДД c[\\. ]+\\d+\\.{0,1}\\d*|ПДД ст[\\. ]+\\d+\\.{0,1}\\d*|ПД статья \\d+\\.{0,1}\\d*|ПД статья([а-я ])+ \\d+\\.{0,1}\\d*|ПД c[\\. ]+\\d+\\.{0,1}\\d*|ПД ст[\\. ]+\\d+\\.{0,1}\\d*)',\n",
       "           re.IGNORECASE|re.UNICODE)"
      ]
     },
     "execution_count": 209,
     "metadata": {},
     "output_type": "execute_result"
    }
   ],
   "source": [
    "codes_ptr"
   ]
  },
  {
   "cell_type": "code",
   "execution_count": 157,
   "id": "6837623c",
   "metadata": {
    "collapsed": true
   },
   "outputs": [
    {
     "data": {
      "text/plain": [
       "'здравствуйте ! подсказать пожалуйста мочь ли банк через суд оспорить договор дарение ? в рамка задолженность по кредит кредитор не мочь оспорить сделка по дарение недвижимость . перечень основание для отмена дарение предусмотреть ниже . гк рф статья 578 . отмена дарение 1 . даритель вправе отменить дарение , если одарять совершить покушение на он жизнь , жизнь кто-либо из член он семья или близкий родственник либо умышленно причинить даритель телесный повреждение . в случай умышленный лишение жизнь даритель одарять право требовать в суд отмена дарение принадлежать наследник даритель . 2 . даритель вправе потребовать в судебный порядок отмена дарение , если обращение одарять с подарить вещь , представлять для даритель больший неимущественный ценность , создавать угроза она безвозвратный утрата . 3 . по требование заинтересованный лицо суд мочь отменить дарение , совершенный индивидуальный предприниматель или юридический лицо в нарушение положение закон о несостоятельность ( банкротство ) за счёт средство , связанный с он предпринимательский деятельность , в течение шесть месяц , предшествовать объявление такой лицо несостоятельный ( банкрот ) . 4 . в договор дарение мочь быть обусловить право даритель отменить дарение в случай , если он пережить одарять . 5 . в случай отмена дарение одарять обязать возвратить подарить вещь , если она сохраниться в натура к момент отмена дарение . да и что я делать в этот ситуация ? можно ли как нибыть списать списать задолженность по кредит нельзя . вы мочь инициировать процедура банкротство физический лицо , но вы должный понимать , что этот процедура тоже стоить деньга . федеральный закон от 26.10.2002 n 127-фз \" о несостоятельность ( банкротство ) \" статья 213.3 . возбуждение производство по дело о банкротство гражданин 1 . право на обращение в арбитражный суд с заявление о признание гражданин банкрот обладать гражданин , конкурсный кредитор , уполномоченный орган . 2 . заявление о признание гражданин банкрот приниматься арбитражный суд при условие , что требование к гражданин составлять не менее чем пятьсот тысяча рубль и указанный требование не исполнить в течение три месяц с дата , когда они должный быть исполнить , если иной не предусмотреть настоящий федеральный закон .'"
      ]
     },
     "execution_count": 157,
     "metadata": {},
     "output_type": "execute_result"
    }
   ],
   "source": [
    "norm_answers.loc[1].Text"
   ]
  },
  {
   "cell_type": "code",
   "execution_count": 210,
   "id": "7c1f3631",
   "metadata": {},
   "outputs": [
    {
     "name": "stdout",
     "output_type": "stream",
     "text": [
      "CPU times: user 19min 15s, sys: 6.42 s, total: 19min 22s\n",
      "Wall time: 19min 12s\n"
     ]
    }
   ],
   "source": [
    "%%time\n",
    "answers_articles_with_na = norm_answers[target].str.findall(codes_ptr)"
   ]
  },
  {
   "cell_type": "code",
   "execution_count": 211,
   "id": "149efcb0",
   "metadata": {},
   "outputs": [],
   "source": [
    "answers_articles_with_na.to_csv('answers_articles_with_na.csv')"
   ]
  },
  {
   "cell_type": "code",
   "execution_count": 274,
   "id": "4b6d58e9",
   "metadata": {},
   "outputs": [
    {
     "data": {
      "text/plain": [
       "13    [(ук рф статья 159.1, , , , , , , , , , , , , ...\n",
       "14    [(упк рф статья 24, , , , , , , , , , , , , , ...\n",
       "26    [(ст . 40 ук рф, , , , , , , , , , , , , , , ,...\n",
       "27    [(статья 40 ук рф, , , , , , , , , , , , , , ,...\n",
       "43    [(ст . 44 жк рф, , , , , , , , , , , , , , , ,...\n",
       "Name: Text, dtype: object"
      ]
     },
     "execution_count": 274,
     "metadata": {},
     "output_type": "execute_result"
    }
   ],
   "source": [
    "answers_articles_mask = (answers_articles_with_na.str.len()>0)\n",
    "answers_articles = answers_articles_with_na.loc[answers_articles_mask]\n",
    "answers_articles.head()"
   ]
  },
  {
   "cell_type": "code",
   "execution_count": 275,
   "id": "84f4a0c0",
   "metadata": {},
   "outputs": [
    {
     "name": "stderr",
     "output_type": "stream",
     "text": [
      "100%|████████████████████████████████████| 7147/7147 [00:00<00:00, 17401.46it/s]\n"
     ]
    }
   ],
   "source": [
    "tqdm.pandas()\n",
    "def apply_filter(x):\n",
    "    output = []\n",
    "    for sub_list in x:\n",
    "        output.extend(list(filter(lambda substr: len(substr) > 1, sub_list)))\n",
    "    return output\n",
    "\n",
    "answers_articles = answers_articles.progress_apply(apply_filter)"
   ]
  },
  {
   "cell_type": "code",
   "execution_count": 276,
   "id": "4fa7acdb",
   "metadata": {},
   "outputs": [],
   "source": [
    "answers_articles\n",
    "#Let answer_articles should have MultiIndex\n",
    "#Where index is (answer_id, str for article)\n",
    "mi_answers_article = None\n",
    "for idx in answers_articles.index:\n",
    "    key_article_ref = 'article_reference'\n",
    "    key_article_id1 = 'ArticleId'\n",
    "    key_article_id2 = 'reference_id'\n",
    "    new_table = {key_article_ref: [], key_article_id1: [], key_article_id2: []}\n",
    "    for i, article_ref in enumerate(answers_articles.loc[idx]):\n",
    "        new_table[key_article_ref].append(article_ref)\n",
    "        new_table[key_article_id1].append(idx)\n",
    "        new_table[key_article_id2].append(i)\n",
    "    \n",
    "    new_table = pd.DataFrame(new_table)\n",
    "    mi_answers_article = pd.concat([mi_answers_article, new_table])\n",
    "\n",
    "answers_articles =  mi_answers_article.set_index(['ArticleId', 'reference_id'])\n",
    "answers_articles = spdf.drop_duplicates_by_index(answers_articles, columns = [key_article_ref])"
   ]
  },
  {
   "cell_type": "code",
   "execution_count": 310,
   "id": "d3622c5b",
   "metadata": {},
   "outputs": [
    {
     "data": {
      "text/html": [
       "<div>\n",
       "<style scoped>\n",
       "    .dataframe tbody tr th:only-of-type {\n",
       "        vertical-align: middle;\n",
       "    }\n",
       "\n",
       "    .dataframe tbody tr th {\n",
       "        vertical-align: top;\n",
       "    }\n",
       "\n",
       "    .dataframe thead th {\n",
       "        text-align: right;\n",
       "    }\n",
       "</style>\n",
       "<table border=\"1\" class=\"dataframe\">\n",
       "  <thead>\n",
       "    <tr style=\"text-align: right;\">\n",
       "      <th></th>\n",
       "      <th></th>\n",
       "      <th>article_reference</th>\n",
       "    </tr>\n",
       "    <tr>\n",
       "      <th>ArticleId</th>\n",
       "      <th>reference_id</th>\n",
       "      <th></th>\n",
       "    </tr>\n",
       "  </thead>\n",
       "  <tbody>\n",
       "    <tr>\n",
       "      <th>13</th>\n",
       "      <th>0</th>\n",
       "      <td>ук рф статья 159.1</td>\n",
       "    </tr>\n",
       "    <tr>\n",
       "      <th rowspan=\"2\" valign=\"top\">14</th>\n",
       "      <th>0</th>\n",
       "      <td>упк рф статья 24</td>\n",
       "    </tr>\n",
       "    <tr>\n",
       "      <th>1</th>\n",
       "      <td>статья 159.1 ук рф</td>\n",
       "    </tr>\n",
       "    <tr>\n",
       "      <th rowspan=\"2\" valign=\"top\">26</th>\n",
       "      <th>0</th>\n",
       "      <td>ст . 40 ук рф</td>\n",
       "    </tr>\n",
       "    <tr>\n",
       "      <th>1</th>\n",
       "      <td>ст . 39 ук рф</td>\n",
       "    </tr>\n",
       "  </tbody>\n",
       "</table>\n",
       "</div>"
      ],
      "text/plain": [
       "                         article_reference\n",
       "ArticleId reference_id                    \n",
       "13        0             ук рф статья 159.1\n",
       "14        0               упк рф статья 24\n",
       "          1             статья 159.1 ук рф\n",
       "26        0                  ст . 40 ук рф\n",
       "          1                  ст . 39 ук рф"
      ]
     },
     "execution_count": 310,
     "metadata": {},
     "output_type": "execute_result"
    }
   ],
   "source": [
    "answers_articles.head()"
   ]
  },
  {
   "cell_type": "code",
   "execution_count": 40,
   "id": "9b2aa290",
   "metadata": {},
   "outputs": [
    {
     "name": "stdout",
     "output_type": "stream",
     "text": [
      "Total count of suitable answers:  7147\n",
      "Total count of suitable questions:  3512\n"
     ]
    }
   ],
   "source": [
    "answers_articles['article_id'] = answers_articles.article_reference.str.findall('\\d+\\.{0,1}\\d*')\\\n",
    "                                  .apply(lambda x: x[0]).values\n",
    "answers_articles['codes_id'] = answers_articles.article_reference.str.findall(codes_find).apply(lambda x: x[0]).values\n",
    "\n",
    "aa_indeces = answers_articles.index.get_level_values(0).unique()\n",
    "all_suitable_questions = answers.loc[aa_indeces, 'QuestionId'].unique() \n",
    "\n",
    "print('Total count of suitable answers: ', aa_indeces.shape[0]) \n",
    "print('Total count of suitable questions: ', all_suitable_questions.shape[0])"
   ]
  },
  {
   "cell_type": "code",
   "execution_count": 52,
   "id": "f672c1cb",
   "metadata": {},
   "outputs": [],
   "source": [
    "answers_articles.index.set_names({'ArticleId': 'answer_id'}, inplace = True)"
   ]
  },
  {
   "cell_type": "code",
   "execution_count": 54,
   "id": "fa9b41cd",
   "metadata": {},
   "outputs": [],
   "source": [
    "answers_articles.to_csv('answers_articles.csv')"
   ]
  },
  {
   "cell_type": "code",
   "execution_count": 7,
   "id": "2575643d",
   "metadata": {},
   "outputs": [],
   "source": [
    "answers_articles = pd.read_csv('answers_articles.csv', index_col = ['answer_id', 'reference_id'], dtype = {'article_id': str})"
   ]
  },
  {
   "cell_type": "code",
   "execution_count": 8,
   "id": "1b790032",
   "metadata": {},
   "outputs": [
    {
     "data": {
      "text/html": [
       "<div>\n",
       "<style scoped>\n",
       "    .dataframe tbody tr th:only-of-type {\n",
       "        vertical-align: middle;\n",
       "    }\n",
       "\n",
       "    .dataframe tbody tr th {\n",
       "        vertical-align: top;\n",
       "    }\n",
       "\n",
       "    .dataframe thead th {\n",
       "        text-align: right;\n",
       "    }\n",
       "</style>\n",
       "<table border=\"1\" class=\"dataframe\">\n",
       "  <thead>\n",
       "    <tr style=\"text-align: right;\">\n",
       "      <th></th>\n",
       "      <th></th>\n",
       "      <th>article_reference</th>\n",
       "      <th>article_id</th>\n",
       "      <th>codes_id</th>\n",
       "    </tr>\n",
       "    <tr>\n",
       "      <th>answer_id</th>\n",
       "      <th>reference_id</th>\n",
       "      <th></th>\n",
       "      <th></th>\n",
       "      <th></th>\n",
       "    </tr>\n",
       "  </thead>\n",
       "  <tbody>\n",
       "    <tr>\n",
       "      <th>13</th>\n",
       "      <th>0</th>\n",
       "      <td>ук рф статья 159.1</td>\n",
       "      <td>159.1</td>\n",
       "      <td>ук рф</td>\n",
       "    </tr>\n",
       "    <tr>\n",
       "      <th rowspan=\"2\" valign=\"top\">14</th>\n",
       "      <th>0</th>\n",
       "      <td>упк рф статья 24</td>\n",
       "      <td>24</td>\n",
       "      <td>упк рф</td>\n",
       "    </tr>\n",
       "    <tr>\n",
       "      <th>1</th>\n",
       "      <td>статья 159.1 ук рф</td>\n",
       "      <td>159.1</td>\n",
       "      <td>ук рф</td>\n",
       "    </tr>\n",
       "    <tr>\n",
       "      <th rowspan=\"2\" valign=\"top\">26</th>\n",
       "      <th>0</th>\n",
       "      <td>ст . 40 ук рф</td>\n",
       "      <td>40</td>\n",
       "      <td>ук рф</td>\n",
       "    </tr>\n",
       "    <tr>\n",
       "      <th>1</th>\n",
       "      <td>ст . 39 ук рф</td>\n",
       "      <td>39</td>\n",
       "      <td>ук рф</td>\n",
       "    </tr>\n",
       "    <tr>\n",
       "      <th>...</th>\n",
       "      <th>...</th>\n",
       "      <td>...</td>\n",
       "      <td>...</td>\n",
       "      <td>...</td>\n",
       "    </tr>\n",
       "    <tr>\n",
       "      <th>42276</th>\n",
       "      <th>4</th>\n",
       "      <td>ст . 157 тк рф</td>\n",
       "      <td>157</td>\n",
       "      <td>тк рф</td>\n",
       "    </tr>\n",
       "    <tr>\n",
       "      <th>42277</th>\n",
       "      <th>0</th>\n",
       "      <td>статья 299 трудовой кодекс российский федерация</td>\n",
       "      <td>299</td>\n",
       "      <td>трудовой кодекс российский федерация</td>\n",
       "    </tr>\n",
       "    <tr>\n",
       "      <th>42316</th>\n",
       "      <th>0</th>\n",
       "      <td>ск рф статья 65</td>\n",
       "      <td>65</td>\n",
       "      <td>ск рф</td>\n",
       "    </tr>\n",
       "    <tr>\n",
       "      <th>42320</th>\n",
       "      <th>0</th>\n",
       "      <td>ук рф статья 158</td>\n",
       "      <td>158</td>\n",
       "      <td>ук рф</td>\n",
       "    </tr>\n",
       "    <tr>\n",
       "      <th>42323</th>\n",
       "      <th>0</th>\n",
       "      <td>ст . 29 закон рф \" о защита право потребитель \"</td>\n",
       "      <td>29</td>\n",
       "      <td>закон рф \" о защита право потребитель \"</td>\n",
       "    </tr>\n",
       "  </tbody>\n",
       "</table>\n",
       "<p>12794 rows × 3 columns</p>\n",
       "</div>"
      ],
      "text/plain": [
       "                                                      article_reference  \\\n",
       "answer_id reference_id                                                    \n",
       "13        0                                          ук рф статья 159.1   \n",
       "14        0                                            упк рф статья 24   \n",
       "          1                                          статья 159.1 ук рф   \n",
       "26        0                                               ст . 40 ук рф   \n",
       "          1                                               ст . 39 ук рф   \n",
       "...                                                                 ...   \n",
       "42276     4                                              ст . 157 тк рф   \n",
       "42277     0             статья 299 трудовой кодекс российский федерация   \n",
       "42316     0                                             ск рф статья 65   \n",
       "42320     0                                            ук рф статья 158   \n",
       "42323     0             ст . 29 закон рф \" о защита право потребитель \"   \n",
       "\n",
       "                       article_id                                 codes_id  \n",
       "answer_id reference_id                                                      \n",
       "13        0                 159.1                                    ук рф  \n",
       "14        0                    24                                   упк рф  \n",
       "          1                 159.1                                    ук рф  \n",
       "26        0                    40                                    ук рф  \n",
       "          1                    39                                    ук рф  \n",
       "...                           ...                                      ...  \n",
       "42276     4                   157                                    тк рф  \n",
       "42277     0                   299     трудовой кодекс российский федерация  \n",
       "42316     0                    65                                    ск рф  \n",
       "42320     0                   158                                    ук рф  \n",
       "42323     0                    29  закон рф \" о защита право потребитель \"  \n",
       "\n",
       "[12794 rows x 3 columns]"
      ]
     },
     "execution_count": 8,
     "metadata": {},
     "output_type": "execute_result"
    }
   ],
   "source": [
    "answers_articles"
   ]
  },
  {
   "cell_type": "code",
   "execution_count": 322,
   "id": "f974600f",
   "metadata": {},
   "outputs": [
    {
     "data": {
      "text/plain": [
       "array([False, False, False, ..., False,  True,  True])"
      ]
     },
     "execution_count": 322,
     "metadata": {},
     "output_type": "execute_result"
    }
   ],
   "source": [
    "questions.index.isin(all_suitable_questions)"
   ]
  },
  {
   "cell_type": "code",
   "execution_count": 320,
   "id": "2aa81f85",
   "metadata": {},
   "outputs": [],
   "source": [
    "suit_questions = questions[questions.index.isin(all_suitable_questions)].copy()"
   ]
  },
  {
   "cell_type": "code",
   "execution_count": 349,
   "id": "0d8356a6",
   "metadata": {},
   "outputs": [],
   "source": [
    "suit_questions.to_csv('suit_questions.csv')"
   ]
  },
  {
   "cell_type": "code",
   "execution_count": 9,
   "id": "df4c0f16",
   "metadata": {},
   "outputs": [],
   "source": [
    "suit_questions = pd.read_csv('suit_questions.csv', index_col = 'Id')"
   ]
  },
  {
   "cell_type": "code",
   "execution_count": 10,
   "id": "f1e14522",
   "metadata": {},
   "outputs": [
    {
     "data": {
      "text/html": [
       "<div>\n",
       "<style scoped>\n",
       "    .dataframe tbody tr th:only-of-type {\n",
       "        vertical-align: middle;\n",
       "    }\n",
       "\n",
       "    .dataframe tbody tr th {\n",
       "        vertical-align: top;\n",
       "    }\n",
       "\n",
       "    .dataframe thead th {\n",
       "        text-align: right;\n",
       "    }\n",
       "</style>\n",
       "<table border=\"1\" class=\"dataframe\">\n",
       "  <thead>\n",
       "    <tr style=\"text-align: right;\">\n",
       "      <th></th>\n",
       "      <th>Name</th>\n",
       "      <th>Datetime</th>\n",
       "      <th>Title</th>\n",
       "      <th>City</th>\n",
       "      <th>Categories</th>\n",
       "      <th>Answers</th>\n",
       "      <th>Text</th>\n",
       "    </tr>\n",
       "    <tr>\n",
       "      <th>Id</th>\n",
       "      <th></th>\n",
       "      <th></th>\n",
       "      <th></th>\n",
       "      <th></th>\n",
       "      <th></th>\n",
       "      <th></th>\n",
       "      <th></th>\n",
       "    </tr>\n",
       "  </thead>\n",
       "  <tbody>\n",
       "    <tr>\n",
       "      <th>176804</th>\n",
       "      <td>Тата</td>\n",
       "      <td>29.01.2023 11:21:38</td>\n",
       "      <td>Имеют ли право МФО заявлять в полицию, если пр...</td>\n",
       "      <td>Знаменка</td>\n",
       "      <td>['Гражданское право', 'Кредит и займ']</td>\n",
       "      <td>6</td>\n",
       "      <td>У меня просрочка в займе, займ написал заявлен...</td>\n",
       "    </tr>\n",
       "    <tr>\n",
       "      <th>176802</th>\n",
       "      <td>Ирина</td>\n",
       "      <td>28.01.2023 18:24:09</td>\n",
       "      <td>Из-за угроз в мой адрес я совершила администра...</td>\n",
       "      <td>Республика Удмуртия</td>\n",
       "      <td>['Административное право']</td>\n",
       "      <td>7</td>\n",
       "      <td>Из-за угроз в мой адрес я совершила администра...</td>\n",
       "    </tr>\n",
       "    <tr>\n",
       "      <th>176798</th>\n",
       "      <td>Юлия</td>\n",
       "      <td>27.01.2023 14:45:43</td>\n",
       "      <td>Кто должен смотреть за дорогой на придомовой т...</td>\n",
       "      <td>с. Подозерский, Ивановская обл</td>\n",
       "      <td>['Жилищное право', 'Квартплата, квитанции, опл...</td>\n",
       "      <td>8</td>\n",
       "      <td>Здравствуйте! Многоквартирный дом с самоуправл...</td>\n",
       "    </tr>\n",
       "    <tr>\n",
       "      <th>176797</th>\n",
       "      <td>максим</td>\n",
       "      <td>27.01.2023 11:47:01</td>\n",
       "      <td>Как подать правильно заявление в суд на прекра...</td>\n",
       "      <td>мзырь</td>\n",
       "      <td>['Жилищное право', 'Квартплата, квитанции, опл...</td>\n",
       "      <td>5</td>\n",
       "      <td>Доброго вам дня. Меня зовут Бычков Максим Влад...</td>\n",
       "    </tr>\n",
       "    <tr>\n",
       "      <th>176794</th>\n",
       "      <td>Александр</td>\n",
       "      <td>26.01.2023 23:38:21</td>\n",
       "      <td>Проходим ли по критериям молодой семьи?</td>\n",
       "      <td>Ноябрьск</td>\n",
       "      <td>['Жилищное право', 'Получение жилья (квартиры)']</td>\n",
       "      <td>6</td>\n",
       "      <td>Здравствуйте! Я с супругой в браке менее года....</td>\n",
       "    </tr>\n",
       "    <tr>\n",
       "      <th>...</th>\n",
       "      <td>...</td>\n",
       "      <td>...</td>\n",
       "      <td>...</td>\n",
       "      <td>...</td>\n",
       "      <td>...</td>\n",
       "      <td>...</td>\n",
       "      <td>...</td>\n",
       "    </tr>\n",
       "    <tr>\n",
       "      <th>167266</th>\n",
       "      <td>Аноним</td>\n",
       "      <td>02.07.2020 14:30:22</td>\n",
       "      <td>Звонят кредиторы по долгу подруги т.к. я подтв...</td>\n",
       "      <td>Кировоград</td>\n",
       "      <td>['Гражданское право', 'Кредит и займ']</td>\n",
       "      <td>6</td>\n",
       "      <td>Здравствуйте! У меня проблема: моя знакомая вз...</td>\n",
       "    </tr>\n",
       "    <tr>\n",
       "      <th>167262</th>\n",
       "      <td>Алексей</td>\n",
       "      <td>02.07.2020 11:16:26</td>\n",
       "      <td>Пандемия, обсервация, оплата, вахтовый метод р...</td>\n",
       "      <td>Ноябрьск</td>\n",
       "      <td>['Трудовое право']</td>\n",
       "      <td>4</td>\n",
       "      <td>Здравствуйте! Работаю вахтовым методом, из-за ...</td>\n",
       "    </tr>\n",
       "    <tr>\n",
       "      <th>167245</th>\n",
       "      <td>Pavel</td>\n",
       "      <td>01.07.2020 05:55:14</td>\n",
       "      <td>Взыскать штраф с матери за то, что она не дает...</td>\n",
       "      <td>Tula</td>\n",
       "      <td>['Административное право']</td>\n",
       "      <td>4</td>\n",
       "      <td>Статья 5.35 КоАП п2.2. Нарушение родителями ил...</td>\n",
       "    </tr>\n",
       "    <tr>\n",
       "      <th>167243</th>\n",
       "      <td>Сергей</td>\n",
       "      <td>01.07.2020 01:13:45</td>\n",
       "      <td>Прохожу по делу как свидетель, но боюсь что бу...</td>\n",
       "      <td>Старый Оскол</td>\n",
       "      <td>['Уголовное право']</td>\n",
       "      <td>3</td>\n",
       "      <td>Здравствуйте! Мой знакомый перевел с чужой кар...</td>\n",
       "    </tr>\n",
       "    <tr>\n",
       "      <th>167242</th>\n",
       "      <td>Яна</td>\n",
       "      <td>30.06.2020 23:24:46</td>\n",
       "      <td>СДЭК испортил груз.</td>\n",
       "      <td>Ухта</td>\n",
       "      <td>['Защита прав потребителей']</td>\n",
       "      <td>1</td>\n",
       "      <td>Здравствуйте! Подскажите, пожалуйста, заказали...</td>\n",
       "    </tr>\n",
       "  </tbody>\n",
       "</table>\n",
       "<p>3528 rows × 7 columns</p>\n",
       "</div>"
      ],
      "text/plain": [
       "             Name             Datetime  \\\n",
       "Id                                       \n",
       "176804       Тата  29.01.2023 11:21:38   \n",
       "176802      Ирина  28.01.2023 18:24:09   \n",
       "176798       Юлия  27.01.2023 14:45:43   \n",
       "176797     максим  27.01.2023 11:47:01   \n",
       "176794  Александр  26.01.2023 23:38:21   \n",
       "...           ...                  ...   \n",
       "167266     Аноним  02.07.2020 14:30:22   \n",
       "167262    Алексей  02.07.2020 11:16:26   \n",
       "167245      Pavel  01.07.2020 05:55:14   \n",
       "167243     Сергей  01.07.2020 01:13:45   \n",
       "167242        Яна  30.06.2020 23:24:46   \n",
       "\n",
       "                                                    Title  \\\n",
       "Id                                                          \n",
       "176804  Имеют ли право МФО заявлять в полицию, если пр...   \n",
       "176802  Из-за угроз в мой адрес я совершила администра...   \n",
       "176798  Кто должен смотреть за дорогой на придомовой т...   \n",
       "176797  Как подать правильно заявление в суд на прекра...   \n",
       "176794            Проходим ли по критериям молодой семьи?   \n",
       "...                                                   ...   \n",
       "167266  Звонят кредиторы по долгу подруги т.к. я подтв...   \n",
       "167262  Пандемия, обсервация, оплата, вахтовый метод р...   \n",
       "167245  Взыскать штраф с матери за то, что она не дает...   \n",
       "167243  Прохожу по делу как свидетель, но боюсь что бу...   \n",
       "167242                                СДЭК испортил груз.   \n",
       "\n",
       "                                  City  \\\n",
       "Id                                       \n",
       "176804                        Знаменка   \n",
       "176802             Республика Удмуртия   \n",
       "176798  с. Подозерский, Ивановская обл   \n",
       "176797                           мзырь   \n",
       "176794                        Ноябрьск   \n",
       "...                                ...   \n",
       "167266                      Кировоград   \n",
       "167262                        Ноябрьск   \n",
       "167245                            Tula   \n",
       "167243                    Старый Оскол   \n",
       "167242                            Ухта   \n",
       "\n",
       "                                               Categories  Answers  \\\n",
       "Id                                                                   \n",
       "176804             ['Гражданское право', 'Кредит и займ']        6   \n",
       "176802                         ['Административное право']        7   \n",
       "176798  ['Жилищное право', 'Квартплата, квитанции, опл...        8   \n",
       "176797  ['Жилищное право', 'Квартплата, квитанции, опл...        5   \n",
       "176794   ['Жилищное право', 'Получение жилья (квартиры)']        6   \n",
       "...                                                   ...      ...   \n",
       "167266             ['Гражданское право', 'Кредит и займ']        6   \n",
       "167262                                 ['Трудовое право']        4   \n",
       "167245                         ['Административное право']        4   \n",
       "167243                                ['Уголовное право']        3   \n",
       "167242                       ['Защита прав потребителей']        1   \n",
       "\n",
       "                                                     Text  \n",
       "Id                                                         \n",
       "176804  У меня просрочка в займе, займ написал заявлен...  \n",
       "176802  Из-за угроз в мой адрес я совершила администра...  \n",
       "176798  Здравствуйте! Многоквартирный дом с самоуправл...  \n",
       "176797  Доброго вам дня. Меня зовут Бычков Максим Влад...  \n",
       "176794  Здравствуйте! Я с супругой в браке менее года....  \n",
       "...                                                   ...  \n",
       "167266  Здравствуйте! У меня проблема: моя знакомая вз...  \n",
       "167262  Здравствуйте! Работаю вахтовым методом, из-за ...  \n",
       "167245  Статья 5.35 КоАП п2.2. Нарушение родителями ил...  \n",
       "167243  Здравствуйте! Мой знакомый перевел с чужой кар...  \n",
       "167242  Здравствуйте! Подскажите, пожалуйста, заказали...  \n",
       "\n",
       "[3528 rows x 7 columns]"
      ]
     },
     "execution_count": 10,
     "metadata": {},
     "output_type": "execute_result"
    }
   ],
   "source": [
    "suit_questions"
   ]
  },
  {
   "cell_type": "markdown",
   "id": "302e21da",
   "metadata": {},
   "source": [
    "### Преобразование признаков в идентификаторы других таблицы"
   ]
  },
  {
   "cell_type": "markdown",
   "id": "bd242a72",
   "metadata": {},
   "source": [
    "Давайте сделаем последнее преобразованиие, а именно:\n",
    "\n",
    "1. Вместо текста кодекса поставим его идентификатор в таблице `codes`;\n",
    "2. Вместо текста статьи поставим её идентификатор в таблие `codes_tree`;\n",
    "\n",
    "И уже с использованием этой таблицы мы можем построить torch DataSet  \n"
   ]
  },
  {
   "cell_type": "markdown",
   "id": "df558663",
   "metadata": {},
   "source": [
    "####   Идентификатор таблицы  codes"
   ]
  },
  {
   "cell_type": "markdown",
   "id": "1a1d9f31",
   "metadata": {},
   "source": [
    "1. Нормализуем имена\n",
    "2. Пройдем по каждому кодексу из `all_codes`:\n",
    "    1. Найдем `codes.Id` по кодексу;\n",
    "    2. У всех столбов `answers_article.codes_id`, в которых есть данное имя мы заменим на `codes.Id`;\n",
    "3. Изменим тип идентификатора `answers_article.codes_id` на int"
   ]
  },
  {
   "cell_type": "code",
   "execution_count": 16,
   "id": "5ebedffa",
   "metadata": {},
   "outputs": [
    {
     "name": "stderr",
     "output_type": "stream",
     "text": [
      "100%|█████████████████████████████████████████| 112/112 [00:09<00:00, 11.22it/s]\n"
     ]
    }
   ],
   "source": [
    "tqdm.pandas()\n",
    "norm_apply = spdf.dec_df_apply(snlp.text_norm, target = 'Name')\n",
    "norm_codes = codes.loc[0:].progress_apply(norm_apply, axis = 1)"
   ]
  },
  {
   "cell_type": "code",
   "execution_count": 17,
   "id": "18c3011d",
   "metadata": {},
   "outputs": [],
   "source": [
    "temp_answers_articles = answers_articles.copy() "
   ]
  },
  {
   "cell_type": "code",
   "execution_count": 28,
   "id": "3d125e9d",
   "metadata": {},
   "outputs": [],
   "source": [
    "def change_codes_id(temp_answers_articles, cur_codes, codes_id):\n",
    "    try:\n",
    "        codes_id_mask = temp_answers_articles.codes_id.str.match(cur_codes).fillna(False)\n",
    "        temp_answers_articles.loc[codes_id_mask, 'codes_id'] = codes_id\n",
    "    except Exception as e:\n",
    "        print(e)"
   ]
  },
  {
   "cell_type": "code",
   "execution_count": 29,
   "id": "ceb2c125",
   "metadata": {},
   "outputs": [
    {
     "name": "stdout",
     "output_type": "stream",
     "text": [
      "Can only use .str accessor with string values!\n"
     ]
    }
   ],
   "source": [
    "for cur_codes in all_codes:\n",
    "    cur_codes = cur_codes.lower()\n",
    "    name_mask = norm_codes.Name.str.findall(f'([^\\w]{cur_codes}|^{cur_codes})').str.len()>0\n",
    "    if norm_codes.Name[name_mask].index.values.shape[0]:\n",
    "        codes_id = norm_codes.Name[name_mask].index.values.min()\n",
    "        change_codes_id(temp_answers_articles, cur_codes, codes_id)"
   ]
  },
  {
   "cell_type": "code",
   "execution_count": 31,
   "id": "7a0d41f5",
   "metadata": {},
   "outputs": [
    {
     "data": {
      "text/plain": [
       "'уголовный кодекс российский федерация ( ук рф )'"
      ]
     },
     "execution_count": 31,
     "metadata": {},
     "output_type": "execute_result"
    }
   ],
   "source": [
    "norm_codes.Name[27]"
   ]
  },
  {
   "cell_type": "code",
   "execution_count": 33,
   "id": "1ba5e0d7",
   "metadata": {},
   "outputs": [
    {
     "data": {
      "text/html": [
       "<div>\n",
       "<style scoped>\n",
       "    .dataframe tbody tr th:only-of-type {\n",
       "        vertical-align: middle;\n",
       "    }\n",
       "\n",
       "    .dataframe tbody tr th {\n",
       "        vertical-align: top;\n",
       "    }\n",
       "\n",
       "    .dataframe thead th {\n",
       "        text-align: right;\n",
       "    }\n",
       "</style>\n",
       "<table border=\"1\" class=\"dataframe\">\n",
       "  <thead>\n",
       "    <tr style=\"text-align: right;\">\n",
       "      <th></th>\n",
       "      <th></th>\n",
       "      <th>article_reference</th>\n",
       "      <th>article_id</th>\n",
       "      <th>codes_id</th>\n",
       "    </tr>\n",
       "    <tr>\n",
       "      <th>answer_id</th>\n",
       "      <th>reference_id</th>\n",
       "      <th></th>\n",
       "      <th></th>\n",
       "      <th></th>\n",
       "    </tr>\n",
       "  </thead>\n",
       "  <tbody>\n",
       "    <tr>\n",
       "      <th>13</th>\n",
       "      <th>0</th>\n",
       "      <td>ук рф статья 159.1</td>\n",
       "      <td>159.1</td>\n",
       "      <td>27</td>\n",
       "    </tr>\n",
       "    <tr>\n",
       "      <th rowspan=\"2\" valign=\"top\">14</th>\n",
       "      <th>0</th>\n",
       "      <td>упк рф статья 24</td>\n",
       "      <td>24</td>\n",
       "      <td>26</td>\n",
       "    </tr>\n",
       "    <tr>\n",
       "      <th>1</th>\n",
       "      <td>статья 159.1 ук рф</td>\n",
       "      <td>159.1</td>\n",
       "      <td>27</td>\n",
       "    </tr>\n",
       "    <tr>\n",
       "      <th rowspan=\"2\" valign=\"top\">26</th>\n",
       "      <th>0</th>\n",
       "      <td>ст . 40 ук рф</td>\n",
       "      <td>40</td>\n",
       "      <td>27</td>\n",
       "    </tr>\n",
       "    <tr>\n",
       "      <th>1</th>\n",
       "      <td>ст . 39 ук рф</td>\n",
       "      <td>39</td>\n",
       "      <td>27</td>\n",
       "    </tr>\n",
       "    <tr>\n",
       "      <th>...</th>\n",
       "      <th>...</th>\n",
       "      <td>...</td>\n",
       "      <td>...</td>\n",
       "      <td>...</td>\n",
       "    </tr>\n",
       "    <tr>\n",
       "      <th>42276</th>\n",
       "      <th>4</th>\n",
       "      <td>ст . 157 тк рф</td>\n",
       "      <td>157</td>\n",
       "      <td>24</td>\n",
       "    </tr>\n",
       "    <tr>\n",
       "      <th>42277</th>\n",
       "      <th>0</th>\n",
       "      <td>статья 299 трудовой кодекс российский федерация</td>\n",
       "      <td>299</td>\n",
       "      <td>15</td>\n",
       "    </tr>\n",
       "    <tr>\n",
       "      <th>42316</th>\n",
       "      <th>0</th>\n",
       "      <td>ск рф статья 65</td>\n",
       "      <td>65</td>\n",
       "      <td>20</td>\n",
       "    </tr>\n",
       "    <tr>\n",
       "      <th>42320</th>\n",
       "      <th>0</th>\n",
       "      <td>ук рф статья 158</td>\n",
       "      <td>158</td>\n",
       "      <td>27</td>\n",
       "    </tr>\n",
       "    <tr>\n",
       "      <th>42323</th>\n",
       "      <th>0</th>\n",
       "      <td>ст . 29 закон рф \" о защита право потребитель \"</td>\n",
       "      <td>29</td>\n",
       "      <td>28</td>\n",
       "    </tr>\n",
       "  </tbody>\n",
       "</table>\n",
       "<p>12794 rows × 3 columns</p>\n",
       "</div>"
      ],
      "text/plain": [
       "                                                      article_reference  \\\n",
       "answer_id reference_id                                                    \n",
       "13        0                                          ук рф статья 159.1   \n",
       "14        0                                            упк рф статья 24   \n",
       "          1                                          статья 159.1 ук рф   \n",
       "26        0                                               ст . 40 ук рф   \n",
       "          1                                               ст . 39 ук рф   \n",
       "...                                                                 ...   \n",
       "42276     4                                              ст . 157 тк рф   \n",
       "42277     0             статья 299 трудовой кодекс российский федерация   \n",
       "42316     0                                             ск рф статья 65   \n",
       "42320     0                                            ук рф статья 158   \n",
       "42323     0             ст . 29 закон рф \" о защита право потребитель \"   \n",
       "\n",
       "                       article_id codes_id  \n",
       "answer_id reference_id                      \n",
       "13        0                 159.1       27  \n",
       "14        0                    24       26  \n",
       "          1                 159.1       27  \n",
       "26        0                    40       27  \n",
       "          1                    39       27  \n",
       "...                           ...      ...  \n",
       "42276     4                   157       24  \n",
       "42277     0                   299       15  \n",
       "42316     0                    65       20  \n",
       "42320     0                   158       27  \n",
       "42323     0                    29       28  \n",
       "\n",
       "[12794 rows x 3 columns]"
      ]
     },
     "execution_count": 33,
     "metadata": {},
     "output_type": "execute_result"
    }
   ],
   "source": [
    "temp_answers_articles"
   ]
  },
  {
   "cell_type": "code",
   "execution_count": 34,
   "id": "86612caa",
   "metadata": {},
   "outputs": [
    {
     "data": {
      "text/plain": [
       "array([27, 26, 11, 24, 15, 20, 10, 0, 25, 1, 12, 13, 28, 105, 21, 2, 89,\n",
       "       57, 86, 49, 3, 5, 17, 4], dtype=object)"
      ]
     },
     "execution_count": 34,
     "metadata": {},
     "output_type": "execute_result"
    }
   ],
   "source": [
    "temp_answers_articles.codes_id.unique()"
   ]
  },
  {
   "cell_type": "code",
   "execution_count": 311,
   "id": "8592662c",
   "metadata": {},
   "outputs": [],
   "source": [
    "change_codes_id(temp_answers_articles, 'конституция', 0)"
   ]
  },
  {
   "cell_type": "code",
   "execution_count": 41,
   "id": "912021fe",
   "metadata": {},
   "outputs": [
    {
     "data": {
      "text/plain": [
       "array([27, 26, 11, 24, 15, 20, 10, 0, 25, 1, 12, 13, 28, 105, 21, 2, 89,\n",
       "       57, 86, 49, 3, 5, 17, 4], dtype=object)"
      ]
     },
     "execution_count": 41,
     "metadata": {},
     "output_type": "execute_result"
    }
   ],
   "source": [
    "temp_answers_articles.codes_id.unique()"
   ]
  },
  {
   "cell_type": "code",
   "execution_count": 42,
   "id": "8ffac4ba",
   "metadata": {},
   "outputs": [],
   "source": [
    "# codes_id_mask_drop = temp_answers_articles.codes_id.str.findall(f'([^\\w]кодекс|^кодекс)').str.len()>0"
   ]
  },
  {
   "cell_type": "code",
   "execution_count": 43,
   "id": "424b0ac8",
   "metadata": {},
   "outputs": [],
   "source": [
    "filtered_answers_articles=temp_answers_articles#[~codes_id_mask_drop]"
   ]
  },
  {
   "cell_type": "code",
   "execution_count": 44,
   "id": "b59b5911",
   "metadata": {},
   "outputs": [],
   "source": [
    "filtered_answers_articles.to_csv('filtered_answers_articles.cs')"
   ]
  },
  {
   "cell_type": "markdown",
   "id": "eea08bd8",
   "metadata": {},
   "source": [
    "####  Поставим идентификаторы статей"
   ]
  },
  {
   "cell_type": "markdown",
   "id": "a40c0b26",
   "metadata": {},
   "source": [
    "1. Возьмем все поля из `filtered_answers_articles.article_id,filtered_answers_articles.сodes_id`\n",
    "2. Пробежим по всем  `article_id,codes_id`\n",
    "    1. Найдем все `articles` из `codes_tree`, где `codes_tree.CodesId`=`codes_id`\n",
    "    2. Из выбранных найдем те статьи, где содержится  `article_id`\n",
    "    3. Заменим `article_id` на тот, который содержится в `codes_tree.CodesId` "
   ]
  },
  {
   "cell_type": "code",
   "execution_count": 45,
   "id": "3b5e49cd",
   "metadata": {},
   "outputs": [
    {
     "data": {
      "text/plain": [
       "Parent                                                1\n",
       "Name      Уголовный кодекс Российской Федерации (УК РФ)\n",
       "Name: 27, dtype: object"
      ]
     },
     "execution_count": 45,
     "metadata": {},
     "output_type": "execute_result"
    }
   ],
   "source": [
    "codes.loc[27]"
   ]
  },
  {
   "cell_type": "code",
   "execution_count": 46,
   "id": "8b144e89",
   "metadata": {},
   "outputs": [
    {
     "name": "stderr",
     "output_type": "stream",
     "text": [
      "100%|████████████████████████████████████| 12794/12794 [00:27<00:00, 467.57it/s]\n"
     ]
    }
   ],
   "source": [
    "temp_answers_articles = filtered_answers_articles.copy()\n",
    "wrong_ids = []\n",
    "for aid in tqdm(filtered_answers_articles.index):\n",
    "    cur_article_id, codes_id = temp_answers_articles.loc[aid, ['article_id', 'codes_id']]\n",
    "    particular_codes = codes_tree[codes_tree.codes_id == codes_id]\n",
    "    cur_article_id_mask  = particular_codes.Name.str.findall(cur_article_id).str.len()>0\n",
    "    try:\n",
    "        new_article_id = particular_codes.Name[cur_article_id_mask].index.values.min()\n",
    "        temp_answers_articles.loc[aid, 'article_id'] = new_article_id\n",
    "    except Exception as e:\n",
    "        wrong_ids.append(aid)\n",
    "#         print(e)\n",
    "#         print(cur_article_id, codes_id)"
   ]
  },
  {
   "cell_type": "code",
   "execution_count": 47,
   "id": "4106e2a6",
   "metadata": {},
   "outputs": [
    {
     "data": {
      "text/html": [
       "<div>\n",
       "<style scoped>\n",
       "    .dataframe tbody tr th:only-of-type {\n",
       "        vertical-align: middle;\n",
       "    }\n",
       "\n",
       "    .dataframe tbody tr th {\n",
       "        vertical-align: top;\n",
       "    }\n",
       "\n",
       "    .dataframe thead th {\n",
       "        text-align: right;\n",
       "    }\n",
       "</style>\n",
       "<table border=\"1\" class=\"dataframe\">\n",
       "  <thead>\n",
       "    <tr style=\"text-align: right;\">\n",
       "      <th></th>\n",
       "      <th></th>\n",
       "      <th>article_reference</th>\n",
       "      <th>article_id</th>\n",
       "      <th>codes_id</th>\n",
       "    </tr>\n",
       "    <tr>\n",
       "      <th>answer_id</th>\n",
       "      <th>reference_id</th>\n",
       "      <th></th>\n",
       "      <th></th>\n",
       "      <th></th>\n",
       "    </tr>\n",
       "  </thead>\n",
       "  <tbody>\n",
       "    <tr>\n",
       "      <th>13</th>\n",
       "      <th>0</th>\n",
       "      <td>ук рф статья 159.1</td>\n",
       "      <td>159.1</td>\n",
       "      <td>27</td>\n",
       "    </tr>\n",
       "    <tr>\n",
       "      <th rowspan=\"2\" valign=\"top\">14</th>\n",
       "      <th>0</th>\n",
       "      <td>упк рф статья 24</td>\n",
       "      <td>10678</td>\n",
       "      <td>26</td>\n",
       "    </tr>\n",
       "    <tr>\n",
       "      <th>1</th>\n",
       "      <td>статья 159.1 ук рф</td>\n",
       "      <td>159.1</td>\n",
       "      <td>27</td>\n",
       "    </tr>\n",
       "    <tr>\n",
       "      <th rowspan=\"2\" valign=\"top\">26</th>\n",
       "      <th>0</th>\n",
       "      <td>ст . 40 ук рф</td>\n",
       "      <td>40</td>\n",
       "      <td>27</td>\n",
       "    </tr>\n",
       "    <tr>\n",
       "      <th>1</th>\n",
       "      <td>ст . 39 ук рф</td>\n",
       "      <td>39</td>\n",
       "      <td>27</td>\n",
       "    </tr>\n",
       "    <tr>\n",
       "      <th>...</th>\n",
       "      <th>...</th>\n",
       "      <td>...</td>\n",
       "      <td>...</td>\n",
       "      <td>...</td>\n",
       "    </tr>\n",
       "    <tr>\n",
       "      <th>42276</th>\n",
       "      <th>4</th>\n",
       "      <td>ст . 157 тк рф</td>\n",
       "      <td>9659</td>\n",
       "      <td>24</td>\n",
       "    </tr>\n",
       "    <tr>\n",
       "      <th>42277</th>\n",
       "      <th>0</th>\n",
       "      <td>статья 299 трудовой кодекс российский федерация</td>\n",
       "      <td>5647</td>\n",
       "      <td>15</td>\n",
       "    </tr>\n",
       "    <tr>\n",
       "      <th>42316</th>\n",
       "      <th>0</th>\n",
       "      <td>ск рф статья 65</td>\n",
       "      <td>8097</td>\n",
       "      <td>20</td>\n",
       "    </tr>\n",
       "    <tr>\n",
       "      <th>42320</th>\n",
       "      <th>0</th>\n",
       "      <td>ук рф статья 158</td>\n",
       "      <td>158</td>\n",
       "      <td>27</td>\n",
       "    </tr>\n",
       "    <tr>\n",
       "      <th>42323</th>\n",
       "      <th>0</th>\n",
       "      <td>ст . 29 закон рф \" о защита право потребитель \"</td>\n",
       "      <td>10767</td>\n",
       "      <td>28</td>\n",
       "    </tr>\n",
       "  </tbody>\n",
       "</table>\n",
       "<p>12794 rows × 3 columns</p>\n",
       "</div>"
      ],
      "text/plain": [
       "                                                      article_reference  \\\n",
       "answer_id reference_id                                                    \n",
       "13        0                                          ук рф статья 159.1   \n",
       "14        0                                            упк рф статья 24   \n",
       "          1                                          статья 159.1 ук рф   \n",
       "26        0                                               ст . 40 ук рф   \n",
       "          1                                               ст . 39 ук рф   \n",
       "...                                                                 ...   \n",
       "42276     4                                              ст . 157 тк рф   \n",
       "42277     0             статья 299 трудовой кодекс российский федерация   \n",
       "42316     0                                             ск рф статья 65   \n",
       "42320     0                                            ук рф статья 158   \n",
       "42323     0             ст . 29 закон рф \" о защита право потребитель \"   \n",
       "\n",
       "                       article_id codes_id  \n",
       "answer_id reference_id                      \n",
       "13        0                 159.1       27  \n",
       "14        0                 10678       26  \n",
       "          1                 159.1       27  \n",
       "26        0                    40       27  \n",
       "          1                    39       27  \n",
       "...                           ...      ...  \n",
       "42276     4                  9659       24  \n",
       "42277     0                  5647       15  \n",
       "42316     0                  8097       20  \n",
       "42320     0                   158       27  \n",
       "42323     0                 10767       28  \n",
       "\n",
       "[12794 rows x 3 columns]"
      ]
     },
     "execution_count": 47,
     "metadata": {},
     "output_type": "execute_result"
    }
   ],
   "source": [
    "temp_answers_articles"
   ]
  },
  {
   "cell_type": "code",
   "execution_count": 48,
   "id": "86da6575",
   "metadata": {},
   "outputs": [
    {
     "data": {
      "text/plain": [
       "2374"
      ]
     },
     "execution_count": 48,
     "metadata": {},
     "output_type": "execute_result"
    }
   ],
   "source": [
    "len(wrong_ids)"
   ]
  },
  {
   "cell_type": "markdown",
   "id": "5372118f",
   "metadata": {},
   "source": [
    "В проблемных статьях можно разобраться. Например, 3907, скорее всего означает 390.7 стаью 10-го кодекса.\n",
    "Давайте, чтобы не тратить время на все эти случаи, просто исклюим их из исходной таблицы"
   ]
  },
  {
   "cell_type": "code",
   "execution_count": 49,
   "id": "946f4319",
   "metadata": {},
   "outputs": [],
   "source": [
    "temp_answers_articles = temp_answers_articles[~temp_answers_articles.index.isin(wrong_ids)]"
   ]
  },
  {
   "cell_type": "code",
   "execution_count": 50,
   "id": "cb2a1344",
   "metadata": {},
   "outputs": [],
   "source": [
    "final_answers = temp_answers_articles"
   ]
  },
  {
   "cell_type": "code",
   "execution_count": 51,
   "id": "c9e46260",
   "metadata": {},
   "outputs": [],
   "source": [
    "final_answers = final_answers.reset_index('reference_id')"
   ]
  },
  {
   "cell_type": "markdown",
   "id": "4e940a1f",
   "metadata": {},
   "source": [
    "Давайте произведем еще одно последнее преобразование, а именно соединим `answers` таблицу с `questions`. Это нужно нам для того, чтобы при создании тестовой и тренировочной выборки мы могли легче сделать разбиение таким образом, чтобы вопросы, которые находятся в тренировочной выборке не попали в тестовую (иначе наша модель просто будет иметь информацию об ответе)"
   ]
  },
  {
   "cell_type": "code",
   "execution_count": 64,
   "id": "8e6a2f8b",
   "metadata": {},
   "outputs": [],
   "source": [
    "df_art_to_par = codes_par.groupby('article_id').agg({'paragraph': ' '.join})\n",
    "answers['answer_id'] = answers.index\n",
    "        \n",
    "#relation with answer, which needed to obtain question text\n",
    "join_question_bridge = final_answers.join(answers,on = 'answer_id', how = 'left')[list(final_answers.columns) + ['question_id']]\n",
    "#relation with questions to obtain text of questions\n",
    "final_answers = join_question_bridge.set_index('question_id').join(questions, on='question_id')"
   ]
  },
  {
   "cell_type": "code",
   "execution_count": 68,
   "id": "6b256022",
   "metadata": {},
   "outputs": [],
   "source": [
    "final_answers.to_csv('final_answers.csv')"
   ]
  },
  {
   "cell_type": "code",
   "execution_count": 37,
   "id": "456fce66",
   "metadata": {},
   "outputs": [],
   "source": [
    "final_answers = pd.read_csv('final_answers.csv', index_col = 'question_id')"
   ]
  },
  {
   "cell_type": "code",
   "execution_count": 38,
   "id": "589e56c0",
   "metadata": {},
   "outputs": [
    {
     "data": {
      "text/html": [
       "<div>\n",
       "<style scoped>\n",
       "    .dataframe tbody tr th:only-of-type {\n",
       "        vertical-align: middle;\n",
       "    }\n",
       "\n",
       "    .dataframe tbody tr th {\n",
       "        vertical-align: top;\n",
       "    }\n",
       "\n",
       "    .dataframe thead th {\n",
       "        text-align: right;\n",
       "    }\n",
       "</style>\n",
       "<table border=\"1\" class=\"dataframe\">\n",
       "  <thead>\n",
       "    <tr style=\"text-align: right;\">\n",
       "      <th></th>\n",
       "      <th>reference_id</th>\n",
       "      <th>article_reference</th>\n",
       "      <th>article_id</th>\n",
       "      <th>codes_id</th>\n",
       "      <th>Name</th>\n",
       "      <th>Datetime</th>\n",
       "      <th>Title</th>\n",
       "      <th>City</th>\n",
       "      <th>Categories</th>\n",
       "      <th>Answers</th>\n",
       "      <th>Text</th>\n",
       "    </tr>\n",
       "    <tr>\n",
       "      <th>question_id</th>\n",
       "      <th></th>\n",
       "      <th></th>\n",
       "      <th></th>\n",
       "      <th></th>\n",
       "      <th></th>\n",
       "      <th></th>\n",
       "      <th></th>\n",
       "      <th></th>\n",
       "      <th></th>\n",
       "      <th></th>\n",
       "      <th></th>\n",
       "    </tr>\n",
       "  </thead>\n",
       "  <tbody>\n",
       "    <tr>\n",
       "      <th>176804</th>\n",
       "      <td>0</td>\n",
       "      <td>упк рф статья 24</td>\n",
       "      <td>10678</td>\n",
       "      <td>26</td>\n",
       "      <td>Тата</td>\n",
       "      <td>29.01.2023 11:21:38</td>\n",
       "      <td>Имеют ли право МФО заявлять в полицию, если пр...</td>\n",
       "      <td>Знаменка</td>\n",
       "      <td>['Гражданское право', 'Кредит и займ']</td>\n",
       "      <td>6</td>\n",
       "      <td>У меня просрочка в займе, займ написал заявлен...</td>\n",
       "    </tr>\n",
       "    <tr>\n",
       "      <th>176798</th>\n",
       "      <td>0</td>\n",
       "      <td>ст . 44 жк рф</td>\n",
       "      <td>4047</td>\n",
       "      <td>11</td>\n",
       "      <td>Юлия</td>\n",
       "      <td>27.01.2023 14:45:43</td>\n",
       "      <td>Кто должен смотреть за дорогой на придомовой т...</td>\n",
       "      <td>с. Подозерский, Ивановская обл</td>\n",
       "      <td>['Жилищное право', 'Квартплата, квитанции, опл...</td>\n",
       "      <td>8</td>\n",
       "      <td>Здравствуйте! Многоквартирный дом с самоуправл...</td>\n",
       "    </tr>\n",
       "    <tr>\n",
       "      <th>176798</th>\n",
       "      <td>1</td>\n",
       "      <td>ст . 164 жк рф</td>\n",
       "      <td>4212</td>\n",
       "      <td>11</td>\n",
       "      <td>Юлия</td>\n",
       "      <td>27.01.2023 14:45:43</td>\n",
       "      <td>Кто должен смотреть за дорогой на придомовой т...</td>\n",
       "      <td>с. Подозерский, Ивановская обл</td>\n",
       "      <td>['Жилищное право', 'Квартплата, квитанции, опл...</td>\n",
       "      <td>8</td>\n",
       "      <td>Здравствуйте! Многоквартирный дом с самоуправл...</td>\n",
       "    </tr>\n",
       "    <tr>\n",
       "      <th>176798</th>\n",
       "      <td>0</td>\n",
       "      <td>ст . 164 жк рф</td>\n",
       "      <td>4212</td>\n",
       "      <td>11</td>\n",
       "      <td>Юлия</td>\n",
       "      <td>27.01.2023 14:45:43</td>\n",
       "      <td>Кто должен смотреть за дорогой на придомовой т...</td>\n",
       "      <td>с. Подозерский, Ивановская обл</td>\n",
       "      <td>['Жилищное право', 'Квартплата, квитанции, опл...</td>\n",
       "      <td>8</td>\n",
       "      <td>Здравствуйте! Многоквартирный дом с самоуправл...</td>\n",
       "    </tr>\n",
       "    <tr>\n",
       "      <th>176798</th>\n",
       "      <td>0</td>\n",
       "      <td>жк рф статья 164</td>\n",
       "      <td>4212</td>\n",
       "      <td>11</td>\n",
       "      <td>Юлия</td>\n",
       "      <td>27.01.2023 14:45:43</td>\n",
       "      <td>Кто должен смотреть за дорогой на придомовой т...</td>\n",
       "      <td>с. Подозерский, Ивановская обл</td>\n",
       "      <td>['Жилищное право', 'Квартплата, квитанции, опл...</td>\n",
       "      <td>8</td>\n",
       "      <td>Здравствуйте! Многоквартирный дом с самоуправл...</td>\n",
       "    </tr>\n",
       "    <tr>\n",
       "      <th>...</th>\n",
       "      <td>...</td>\n",
       "      <td>...</td>\n",
       "      <td>...</td>\n",
       "      <td>...</td>\n",
       "      <td>...</td>\n",
       "      <td>...</td>\n",
       "      <td>...</td>\n",
       "      <td>...</td>\n",
       "      <td>...</td>\n",
       "      <td>...</td>\n",
       "      <td>...</td>\n",
       "    </tr>\n",
       "    <tr>\n",
       "      <th>167262</th>\n",
       "      <td>3</td>\n",
       "      <td>ст . 220 тк рф</td>\n",
       "      <td>9728</td>\n",
       "      <td>24</td>\n",
       "      <td>Алексей</td>\n",
       "      <td>02.07.2020 11:16:26</td>\n",
       "      <td>Пандемия, обсервация, оплата, вахтовый метод р...</td>\n",
       "      <td>Ноябрьск</td>\n",
       "      <td>['Трудовое право']</td>\n",
       "      <td>4</td>\n",
       "      <td>Здравствуйте! Работаю вахтовым методом, из-за ...</td>\n",
       "    </tr>\n",
       "    <tr>\n",
       "      <th>167262</th>\n",
       "      <td>4</td>\n",
       "      <td>ст . 157 тк рф</td>\n",
       "      <td>9659</td>\n",
       "      <td>24</td>\n",
       "      <td>Алексей</td>\n",
       "      <td>02.07.2020 11:16:26</td>\n",
       "      <td>Пандемия, обсервация, оплата, вахтовый метод р...</td>\n",
       "      <td>Ноябрьск</td>\n",
       "      <td>['Трудовое право']</td>\n",
       "      <td>4</td>\n",
       "      <td>Здравствуйте! Работаю вахтовым методом, из-за ...</td>\n",
       "    </tr>\n",
       "    <tr>\n",
       "      <th>167262</th>\n",
       "      <td>0</td>\n",
       "      <td>статья 299 трудовой кодекс российский федерация</td>\n",
       "      <td>5647</td>\n",
       "      <td>15</td>\n",
       "      <td>Алексей</td>\n",
       "      <td>02.07.2020 11:16:26</td>\n",
       "      <td>Пандемия, обсервация, оплата, вахтовый метод р...</td>\n",
       "      <td>Ноябрьск</td>\n",
       "      <td>['Трудовое право']</td>\n",
       "      <td>4</td>\n",
       "      <td>Здравствуйте! Работаю вахтовым методом, из-за ...</td>\n",
       "    </tr>\n",
       "    <tr>\n",
       "      <th>167245</th>\n",
       "      <td>0</td>\n",
       "      <td>ск рф статья 65</td>\n",
       "      <td>8097</td>\n",
       "      <td>20</td>\n",
       "      <td>Pavel</td>\n",
       "      <td>01.07.2020 05:55:14</td>\n",
       "      <td>Взыскать штраф с матери за то, что она не дает...</td>\n",
       "      <td>Tula</td>\n",
       "      <td>['Административное право']</td>\n",
       "      <td>4</td>\n",
       "      <td>Статья 5.35 КоАП п2.2. Нарушение родителями ил...</td>\n",
       "    </tr>\n",
       "    <tr>\n",
       "      <th>167242</th>\n",
       "      <td>0</td>\n",
       "      <td>ст . 29 закон рф \" о защита право потребитель \"</td>\n",
       "      <td>10767</td>\n",
       "      <td>28</td>\n",
       "      <td>Яна</td>\n",
       "      <td>30.06.2020 23:24:46</td>\n",
       "      <td>СДЭК испортил груз.</td>\n",
       "      <td>Ухта</td>\n",
       "      <td>['Защита прав потребителей']</td>\n",
       "      <td>1</td>\n",
       "      <td>Здравствуйте! Подскажите, пожалуйста, заказали...</td>\n",
       "    </tr>\n",
       "  </tbody>\n",
       "</table>\n",
       "<p>10506 rows × 11 columns</p>\n",
       "</div>"
      ],
      "text/plain": [
       "             reference_id                                article_reference  \\\n",
       "question_id                                                                  \n",
       "176804                  0                                 упк рф статья 24   \n",
       "176798                  0                                    ст . 44 жк рф   \n",
       "176798                  1                                   ст . 164 жк рф   \n",
       "176798                  0                                   ст . 164 жк рф   \n",
       "176798                  0                                 жк рф статья 164   \n",
       "...                   ...                                              ...   \n",
       "167262                  3                                   ст . 220 тк рф   \n",
       "167262                  4                                   ст . 157 тк рф   \n",
       "167262                  0  статья 299 трудовой кодекс российский федерация   \n",
       "167245                  0                                  ск рф статья 65   \n",
       "167242                  0  ст . 29 закон рф \" о защита право потребитель \"   \n",
       "\n",
       "             article_id  codes_id     Name             Datetime  \\\n",
       "question_id                                                       \n",
       "176804            10678        26     Тата  29.01.2023 11:21:38   \n",
       "176798             4047        11     Юлия  27.01.2023 14:45:43   \n",
       "176798             4212        11     Юлия  27.01.2023 14:45:43   \n",
       "176798             4212        11     Юлия  27.01.2023 14:45:43   \n",
       "176798             4212        11     Юлия  27.01.2023 14:45:43   \n",
       "...                 ...       ...      ...                  ...   \n",
       "167262             9728        24  Алексей  02.07.2020 11:16:26   \n",
       "167262             9659        24  Алексей  02.07.2020 11:16:26   \n",
       "167262             5647        15  Алексей  02.07.2020 11:16:26   \n",
       "167245             8097        20    Pavel  01.07.2020 05:55:14   \n",
       "167242            10767        28      Яна  30.06.2020 23:24:46   \n",
       "\n",
       "                                                         Title  \\\n",
       "question_id                                                      \n",
       "176804       Имеют ли право МФО заявлять в полицию, если пр...   \n",
       "176798       Кто должен смотреть за дорогой на придомовой т...   \n",
       "176798       Кто должен смотреть за дорогой на придомовой т...   \n",
       "176798       Кто должен смотреть за дорогой на придомовой т...   \n",
       "176798       Кто должен смотреть за дорогой на придомовой т...   \n",
       "...                                                        ...   \n",
       "167262       Пандемия, обсервация, оплата, вахтовый метод р...   \n",
       "167262       Пандемия, обсервация, оплата, вахтовый метод р...   \n",
       "167262       Пандемия, обсервация, оплата, вахтовый метод р...   \n",
       "167245       Взыскать штраф с матери за то, что она не дает...   \n",
       "167242                                     СДЭК испортил груз.   \n",
       "\n",
       "                                       City  \\\n",
       "question_id                                   \n",
       "176804                             Знаменка   \n",
       "176798       с. Подозерский, Ивановская обл   \n",
       "176798       с. Подозерский, Ивановская обл   \n",
       "176798       с. Подозерский, Ивановская обл   \n",
       "176798       с. Подозерский, Ивановская обл   \n",
       "...                                     ...   \n",
       "167262                             Ноябрьск   \n",
       "167262                             Ноябрьск   \n",
       "167262                             Ноябрьск   \n",
       "167245                                 Tula   \n",
       "167242                                 Ухта   \n",
       "\n",
       "                                                    Categories  Answers  \\\n",
       "question_id                                                               \n",
       "176804                  ['Гражданское право', 'Кредит и займ']        6   \n",
       "176798       ['Жилищное право', 'Квартплата, квитанции, опл...        8   \n",
       "176798       ['Жилищное право', 'Квартплата, квитанции, опл...        8   \n",
       "176798       ['Жилищное право', 'Квартплата, квитанции, опл...        8   \n",
       "176798       ['Жилищное право', 'Квартплата, квитанции, опл...        8   \n",
       "...                                                        ...      ...   \n",
       "167262                                      ['Трудовое право']        4   \n",
       "167262                                      ['Трудовое право']        4   \n",
       "167262                                      ['Трудовое право']        4   \n",
       "167245                              ['Административное право']        4   \n",
       "167242                            ['Защита прав потребителей']        1   \n",
       "\n",
       "                                                          Text  \n",
       "question_id                                                     \n",
       "176804       У меня просрочка в займе, займ написал заявлен...  \n",
       "176798       Здравствуйте! Многоквартирный дом с самоуправл...  \n",
       "176798       Здравствуйте! Многоквартирный дом с самоуправл...  \n",
       "176798       Здравствуйте! Многоквартирный дом с самоуправл...  \n",
       "176798       Здравствуйте! Многоквартирный дом с самоуправл...  \n",
       "...                                                        ...  \n",
       "167262       Здравствуйте! Работаю вахтовым методом, из-за ...  \n",
       "167262       Здравствуйте! Работаю вахтовым методом, из-за ...  \n",
       "167262       Здравствуйте! Работаю вахтовым методом, из-за ...  \n",
       "167245       Статья 5.35 КоАП п2.2. Нарушение родителями ил...  \n",
       "167242       Здравствуйте! Подскажите, пожалуйста, заказали...  \n",
       "\n",
       "[10506 rows x 11 columns]"
      ]
     },
     "execution_count": 38,
     "metadata": {},
     "output_type": "execute_result"
    }
   ],
   "source": [
    "final_answers"
   ]
  },
  {
   "cell_type": "markdown",
   "id": "598c8c55",
   "metadata": {},
   "source": [
    "Ура!\n",
    "Теперь у нас есть конечная таблица, со ссылками на:\n",
    "1. Идентификатор статьи\n",
    "2. Идентификатор кодекса\n",
    "3. Идентификатор ответа\n",
    "4. Можем найти идентификатор вопроса (Идентификатор ответа имеет ссылку через таблицу `answers` на идентификатор вопроса)"
   ]
  },
  {
   "cell_type": "markdown",
   "id": "5eab4cb5",
   "metadata": {},
   "source": [
    "#### Идентификатор таблицы codes_tree"
   ]
  },
  {
   "cell_type": "markdown",
   "id": "95f80f25",
   "metadata": {},
   "source": [
    "## Исследование подходящих вопросов\n",
    "Прежде чем переходить к построению модели, давайте посмотрим на некоторые статистики нашего текста, а именно:\n",
    "1. Посмотрим статистику по длинам\n",
    "2. Посмотрим статистику по популярным словам\n",
    "3. Посмотрим статистику по поплуярным словам за вычетом мусорных слов"
   ]
  },
  {
   "cell_type": "code",
   "execution_count": 232,
   "id": "083b7b44",
   "metadata": {},
   "outputs": [],
   "source": [
    "from Supportive import spdf"
   ]
  },
  {
   "cell_type": "code",
   "execution_count": 233,
   "id": "5a6a5529",
   "metadata": {},
   "outputs": [],
   "source": [
    "from collections import Counter\n",
    "import razdel"
   ]
  },
  {
   "cell_type": "code",
   "execution_count": 234,
   "id": "56b44e18",
   "metadata": {},
   "outputs": [
    {
     "data": {
      "text/plain": [
       "count    3528.000000\n",
       "mean      394.039399\n",
       "std       364.242007\n",
       "min        26.000000\n",
       "25%       177.000000\n",
       "50%       291.000000\n",
       "75%       473.250000\n",
       "max      4947.000000\n",
       "Name: Text, dtype: float64"
      ]
     },
     "execution_count": 234,
     "metadata": {},
     "output_type": "execute_result"
    }
   ],
   "source": [
    "suit_questions.Text.str.len().describe()"
   ]
  },
  {
   "cell_type": "code",
   "execution_count": 235,
   "id": "68d2080b",
   "metadata": {},
   "outputs": [],
   "source": [
    "suit_quest_clean = suit_questions.apply(spdf.dec_tokenization_columns(['Text']), axis = 1)\n",
    "all_concat_questions = '\\n'.join(suit_quest_clean.Text.values)"
   ]
  },
  {
   "cell_type": "code",
   "execution_count": 236,
   "id": "a6670815",
   "metadata": {},
   "outputs": [],
   "source": [
    "total_tokenization = [elem.text for elem in razdel.tokenize(all_concat_questions)]\n",
    "token_stats = {word: count for word, count in sorted(Counter(total_tokenization).items(), key = lambda x: x[1], reverse = True)}"
   ]
  },
  {
   "cell_type": "code",
   "execution_count": 237,
   "id": "d47c9dd8",
   "metadata": {},
   "outputs": [
    {
     "name": "stdout",
     "output_type": "stream",
     "text": [
      "{'в': 7498, 'и': 5415, 'на': 5017, 'не': 4550, 'я': 2969, 'с': 2757, 'что': 2625, 'по': 2474, 'ли': 2055, 'Здравствуйте': 1550, 'меня': 1534, 'мне': 1464, 'за': 1338, 'как': 1254, 'у': 1140, 'Я': 1000, 'это': 918, 'В': 917, 'но': 912, 'о': 845, 'он': 843, 'от': 822, 'а': 766, 'к': 740, 'лет': 671, 'его': 670, 'года': 666, 'если': 655, 'так': 642, 'суд': 631, 'или': 608, 'есть': 602, 'день': 554, '2': 550, 'нет': 542, 'то': 516, 'все': 516, 'она': 505, 'из': 501, 'до': 500, 'Как': 490, 'был': 487, 'У': 484, 'И': 470, 'чтобы': 465, 'было': 459, 'для': 458, 'Добрый': 439, 'заявление': 438, 'уже': 433, 'будет': 431, 'же': 423, 'мы': 423, 'г': 415, 'т': 408, '3': 403, 'после': 400, 'пожалуйста': 397, 'делать': 397, 'при': 395, 'без': 393, 'только': 389, 'можно': 368, 'деньги': 367, 'могу': 361, 'Что': 356, '1': 352, 'они': 349, 'была': 349, 'быть': 346, 'году': 345, 'На': 345, 'через': 342, 'квартиру': 331, 'Но': 324, 'алименты': 324, 'работу': 324, 'время': 317, 'этом': 312, 'детей': 308, 'со': 303, 'Подскажите': 302, 'отпуск': 301, 'сейчас': 301, 'нас': 298, 'может': 277, 'там': 275, 'РФ': 272, 'Могу': 264, 'квартире': 254, 'этого': 254, 'право': 252, 'их': 249, 'подать': 248, 'том': 248, 'С': 247, 'работы': 247, 'об': 242, 'договор': 241, 'сделать': 241, 'дом': 240, 'нужно': 240, 'дней': 239, 'Если': 236, 'ребенка': 235, 'вопрос': 227, 'где': 227, 'муж': 225, 'А': 223, 'него': 222, 'документы': 221, 'момент': 217, 'год': 215, 'квартиры': 215, 'месяца': 215, 'ещё': 212, 'ее': 211, 'работаю': 210, 'долг': 206, 'ситуации': 205, 'когда': 205, 'Сейчас': 205, 'который': 205, 'хочу': 205, 'рублей': 202, 'случае': 198, 'мой': 195, 'суда': 194, 'ему': 193, 'сумму': 187, '4': 187, 'такой': 183, 'были': 182, 'ни': 181, 'ребёнка': 180, 'мужа': 180, 'сказали': 180, 'этой': 179, 'дома': 179, 'моего': 179, 'Спасибо': 179, 'прав': 178, 'могут': 178, '10': 175, 'моей': 175, 'срок': 174, 'ничего': 173, 'Мне': 173, 'вернуть': 173, 'этот': 172, 'бы': 171, 'назад': 170, 'официально': 169, 'Вопрос': 168, 'платить': 167, 'По': 167, 'данный': 167, 'браке': 166, 'Можно': 165, 'отпуска': 162, 'квартира': 161, 'того': 161, 'теперь': 159, 'нам': 158, 'ей': 157, 'хочет': 156, 'тоже': 156, 'месяцев': 155, 'её': 155, 'другой': 154, 'месяц': 152, 'отец': 150, '5': 149, 'ст': 148, 'еще': 145, 'получить': 145, 'кредит': 143, 'себя': 142, 'мужем': 142, 'р': 141, 'При': 139, 'просто': 139, '2020': 138, 'Так': 138, 'один': 137, '2021': 137, 'Есть': 137, 'раз': 136, 'связи': 135, 'дело': 134, 'потом': 134, 'такая': 134, 'мной': 132, 'должен': 131, 'даже': 131, 'Мы': 130, 'эти': 129, 'должна': 128, 'решение': 127, 'собственности': 126, '8': 126, 'УК': 126, 'период': 125, 'работодатель': 125, 'жилья': 125, 'написать': 123, 'под': 123, 'часть': 121, 'Может': 121, 'После': 121, 'брака': 120, 'сказал': 120, 'денег': 119, 'вообще': 119, 'эту': 119, 'хотя': 119, 'будут': 119, '6': 118, 'жена': 118, 'какие': 118, 'ч': 118, 'мои': 118, 'ситуация': 117, 'них': 117, 'ИП': 116, 'доме': 116, 'права': 116, 'договору': 115, 'Хочу': 115, 'мать': 115, 'недели': 115, 'дня': 114, 'алиментов': 114, 'вот': 114, 'работе': 114, 'размере': 114, 'из-за': 114, 'Меня': 113, 'Скажите': 113, 'тысяч': 113, 'отца': 112, 'тем': 112, 'человек': 112, 'чего': 111, 'которые': 111, 'имеет': 110, 'ребенок': 110, 'действия': 109, 'Не': 109, 'знаю': 108, 'договора': 107, 'является': 106, 'Работаю': 105, 'п': 105, 'жилье': 105, 'иск': 105, 'своей': 105, 'чем': 105, 'работает': 105, 'говорит': 104, 'банк': 104, 'им': 104, 'очень': 104, 'также': 104, 'задолженность': 103, 'статье': 103, 'времени': 103, 'больше': 103, 'карту': 103, 'документов': 102, 'должны': 102, 'два': 102, '50': 101, 'вместе': 101, 'более': 101, 'дочь': 101, 'куда': 100, 'России': 100, 'во': 99, 'ним': 99, 'ребёнок': 99, 'ней': 99, 'отказ': 98, 'Или': 98, 'руб': 98, 'данной': 97, 'городе': 97, 'организации': 97, 'поступить': 97, 'тыс': 97, 'выплаты': 97, 'буду': 96, 'сумма': 96, 'дали': 96, 'работать': 95, 'обратиться': 95, 'правильно': 94, 'ипотеку': 94, 'моя': 93, 'имею': 93, '20': 93, 'сразу': 92, 'другом': 92, 'уходу': 92, 'свою': 92, 'течение': 92, '30': 92, 'оформить': 92, 'долга': 91, 'стоит': 91, 'Он': 90, 'Какие': 90, 'всё': 90, 'забрать': 90, '7': 89, 'мою': 89, 'находится': 89, 'ответ': 89, 'трудовой': 88, 'какой': 88, 'Могут': 88, 'второй': 88, 'участок': 86, 'пока': 86, 'несколько': 86, 'ребенком': 85, 'е': 85, 'человека': 85, 'грозит': 85, 'Заранее': 84, 'говорят': 84, '2019': 84, 'суммы': 84, 'месту': 84, 'этим': 83, 'развод': 83, 'взять': 82, 'сын': 82, 'написал': 81, 'возможно': 81, 'нахожусь': 81, 'долю': 81, 'вечер': 81, 'части': 80, 'доли': 80, 'либо': 80, 'которая': 80, 'подала': 80, 'надо': 80, 'свой': 80, 'оплатить': 80, 'двух': 79, 'отпуске': 79, 'кв': 79, '15': 79, 'телефон': 79, 'узнать': 78, '2022': 78, 'машину': 78, 'имущества': 77, 'средств': 77, 'требует': 77, 'Теперь': 76, 'счета': 76, 'много': 76, 'счет': 76, 'никто': 76, 'как-то': 76, 'За': 75, 'три': 75, 'мама': 75, 'никаких': 75, 'всего': 74, 'приказ': 74, 'суде': 73, 'развода': 73, 'двое': 73, 'собственному': 73, 'прописан': 73, 'счёт': 72, 'подал': 72, 'Ситуация': 72, 'якобы': 72, 'получил': 71, 'написала': 71, 'заявления': 71, '14': 71, '18': 71, 'разводе': 71, 'Возможно': 71, 'две': 71, 'карты': 71, 'Это': 70, 'договоре': 70, 'сам': 70, 'решения': 70, 'пособие': 70, 'писать': 70, 'сколько': 70, 'получила': 70, 'которой': 70, '2018': 69, 'ребёнком': 69, 'ремонт': 68, 'работодателя': 68, 'м': 68, 'место': 68, 'живу': 68, 'желанию': 68, 'штраф': 68, 'имущество': 67, 'Муж': 67, 'больничный': 67, 'средства': 67, 'товар': 67, 'итоге': 67, 'да': 66, 'тот': 66, 'жить': 65, 'Помогите': 65, 'родительских': 65, '2017': 65, '12': 65, 'Мой': 65, 'подскажите': 65, '25': 65, 'неделю': 65, 'спасибо': 65, 'часов': 65, 'полицию': 64, 'бывший': 64, 'сказала': 64, 'около': 64, 'матери': 64, 'должность': 64, 'лицо': 64, '16': 63, 'нее': 63, 'перед': 63, 'написано': 63, 'Когда': 63, 'лист': 63, 'Имеет': 62, 'долги': 62, 'именно': 62, 'месте': 62, 'сына': 62, 'приставы': 62, 'дети': 62, '9': 62, 'компании': 62, 'хотят': 62, 'законно': 62, 'супруга': 61, 'дни': 61, 'кто': 61, 'работала': 61, 'котором': 61, 'пришло': 61, 'потому': 61, 'продать': 61, 'письмо': 60, 'отказаться': 60, 'основании': 60, 'сама': 60, 'ответственности': 60, 'стороны': 60, 'себе': 59, 'неё': 59, 'ранее': 59, 'увольнение': 59, 'являюсь': 59, 'каждый': 59, 'отказывается': 58, 'зарплаты': 58, 'одна': 58, 'возможности': 58, 'рождении': 58, 'закону': 58, 'факту': 58, 'труда': 58, 'Куда': 58, 'родителей': 58, 'проживает': 58, 'дела': 57, 'понимаю': 57, 'силу': 57, 'проживаю': 57, 'отцом': 57, 'обращаться': 57, 'наследство': 57, 'авто': 57, 'займ': 56, 'прописана': 56, 'беременности': 56, 'свои': 56, 'получается': 55, 'прошло': 55, 'места': 55, 'задолженности': 55, 'капитал': 55, '000': 55, 'полностью': 54, 'брак': 54, 'суток': 54, 'фамилию': 54, 'одной': 54, 'Через': 54, 'детьми': 54, 'дать': 54, 'уволиться': 54, 'опять': 54, 'магазин': 54, 'д': 53, 'моих': 53, 'обратно': 53, 'всех': 53, 'домой': 53, 'первого': 53, 'поэтому': 53, 'имеют': 53, 'автомобиль': 53, 'выплачивать': 53, 'сайте': 53, 'оплачивать': 53, 'жены': 52, 'согласия': 52, '17': 52, 'Она': 52, 'имеется': 52, 'сестра': 52, 'спустя': 52, 'семья': 52, 'подавать': 52, 'помощь': 52, 'жизни': 52, 'группы': 52, 'образом': 51, 'что-то': 51, 'пор': 51, 'одного': 51, 'платит': 51, 'ведь': 51, 'проживания': 51, 'брат': 51, 'привлечь': 51, 'уголовное': 50, 'таком': 50, 'арест': 50, 'своего': 50, 'банка': 50, 'срока': 50, '28': 50, 'приставов': 50, 'родители': 50, 'магазине': 50, 'лица': 50, 'другую': 50, 'уволить': 50, 'компенсацию': 50, 'момента': 49, 'снова': 49, 'регистрации': 49, 'ставки': 49, 'оплату': 49, 'Законно': 49, 'Сегодня': 49, '2016': 48, 'До': 48, 'сегодня': 48, 'лишить': 48, 'сентября': 48, 'постановление': 48, 'такое': 48, 'декрет': 48, 'постоянно': 48, 'нельзя': 48, 'алиментам': 48, 'требовать': 48, '13': 48, 'против': 48, 'почему': 47, 'территории': 47, 'бывшего': 47, 'больничном': 47, 'трех': 47, 'работал': 47, 'судебного': 47, 'ребёнку': 47, 'раньше': 47, 'справку': 47, 'области': 47, 'семьи': 47, 'которого': 47, 'дальше': 47, 'ссылаясь': 47, 'пришла': 47, 'ущерб': 47, 'сотрудник': 47, 'мая': 46, 'зарплату': 46, 'пристав': 46, 'выплатить': 46, 'другого': 46, 'давности': 46, 'Работодатель': 46, 'необходимо': 46, 'смерти': 46, 'проблема': 46, 'всю': 46, 'решить': 45, 'очередь': 45, 'статьи': 45, 'Квартира': 45, 'Потом': 45, 'жалобу': 45, 'данном': 45, 'компенсации': 45, 'судебный': 45, 'данные': 45, 'ООО': 45, 'школе': 44, 'почти': 44, 'сих': 44, 'проблемы': 44, 'Был': 44, 'лучше': 44, 'соглашение': 44, 'новый': 44, 'которую': 44, 'прописаны': 44, 'сумме': 44, 'умер': 44, 'руки': 44, 'своих': 44, 'половину': 44, 'фото': 44, 'тогда': 43, 'туда': 43, 'ребенку': 43, 'января': 43, 'Все': 43, 'собственность': 43, 'возможность': 43, 'мат': 43, 'платил': 43, 'весь': 43, '1,5': 43, 'дочери': 43, 'МФО': 43, 'налог': 43, 'пенсию': 42, 'взяла': 42, 'раза': 42, 'услуги': 42, 'оплаты': 42, 'полиции': 42, 'соц': 42, 'инвалид': 42, 'июля': 42, 'сентябре': 42, 'несовершеннолетних': 42, 'наказание': 42, 'должности': 42, 'приказа': 42, 'собственником': 42, 'соответственно': 42, 'вышла': 42, 'августа': 42, 'зовут': 41, 'жильё': 41, 'номер': 41, 'предоставить': 41, 'женой': 41, 'ДТП': 41, 'Нужно': 41, 'Имею': 41, '11': 41, 'июня': 41, 'собственник': 41, 'решил': 41, 'закон': 41, 'купить': 41, 'Доброго': 40, 'город': 40, 'декабря': 40, 'стоимость': 40, 'банке': 40, 'Моя': 40, 'кроме': 40, 'взял': 40, 'хотела': 40, 'отцовство': 40, 'продажи': 40, 'получаю': 40, 'ответственность': 40, 'пенсии': 40, 'тут': 40, 'сделали': 40, 'адрес': 39, 'машина': 39, 'которых': 39, 'платы': 39, 'уйти': 39, 'руках': 39, 'живёт': 39, 'нашей': 39, 'Правомерно': 39, 'уведомление': 39, 'получала': 39, 'отказали': 39, 'полгода': 39, 'проценты': 39, 'позвонили': 39, 'службу': 39, 'марта': 39, 'найма': 38, 'ушла': 38, 'вещи': 38, 'причине': 38, 'Суд': 38, 'живём': 38, 'з': 38, 'числа': 38, 'свидетельство': 38, 'состоянии': 38, 'информацию': 38, 'взыскать': 38, '19': 38, 'магазина': 38, 'программе': 38, 'этому': 38, 'бабушка': 38, 'поводу': 38, 'сотрудника': 38, 'таких': 38, 'паспорт': 38, 'пособия': 38, 'смогу': 38, 'подали': 37, 'увольнения': 37, 'заработной': 37, 'статью': 37, 'документ': 37, 'производство': 37, '2014': 37, 'работ': 37, 'идти': 37, 'брала': 37, 'виде': 37, 'ДНК': 37, 'следующий': 37, 'получал': 37, 'Б': 37, 'оформлен': 37, 'оформлена': 37, 'процентов': 37, 'между': 37, 'действий': 37, '22': 37, 'города': 37, 'бывшей': 36, 'мамой': 36, 'исковое': 36, 'службы': 36, 'То': 36, 'меньше': 36, 'остался': 36, 'указано': 36, 'доход': 36, 'опеки': 36, 'жительства': 36, 'телефона': 36, 'оплате': 36, 'примерно': 36, 'супруг': 36, 'первый': 36, '0': 36, 'пользу': 35, 'участка': 35, 'февраля': 35, 'порядке': 35, '2015': 35, 'взыскании': 35, 'Хотя': 35, 'отношения': 35, 'рождения': 35, 'отцовства': 35, 'выписать': 35, 'доказать': 35, 'товара': 35, 'получать': 35, 'решению': 35, 'отдел': 35, 'узнала': 35, 'конце': 34, 'условий': 34, 'далее': 34, 'разобраться': 34, 'выплату': 34, 'Они': 34, 'сад': 34, 'моё': 34, 'имя': 34, 'подписать': 34, 'этих': 34, 'просит': 34, 'администрации': 34, 'получение': 34, 'январе': 34, 'возврат': 34, 'разных': 34, 'земельный': 34, 'сняли': 34, 'К': 34, 'дают': 34, 'D': 34, 'нашего': 33, 'услуг': 33, 'детям': 33, 'вроде': 33, 'кредиту': 33, 'дальнейшем': 33, 'стала': 33, 'проживаем': 33, 'такие': 33, 'работника': 33, 'которое': 33, 'отказать': 33, 'Дом': 33, 'начала': 33, 'плачу': 33, '21': 33, 'давно': 33, 'наказания': 33, 'экспертизу': 33, 'сроки': 33, 'исполнительный': 33, 'моем': 33, 'получения': 33, 'родам': 32, 'прописано': 32, 'осталась': 32, 'составить': 32, 'стаж': 32, 'судом': 32, 'согласно': 32, 'никакого': 32, 'фактически': 32, 'моему': 32, 'совместно': 32, 'можем': 32, 'той': 32, 'содержание': 32, 'свое': 32, 'отменить': 32, 'живет': 32, 'забрали': 32, 'которым': 32, 'марте': 32, 'брал': 32, 'снять': 32, 'Такая': 32, 'никогда': 32, 'сделал': 32, 'обучения': 32, 'оказалось': 32, 'Кто': 31, 'бывшая': 31, 'отказался': 31, 'ипотеке': 31, 'стоимости': 31, 'оплата': 31, 'брать': 31, 'запись': 31, 'приставам': 31, 'пристава': 31, 'процесс': 31, 'судебных': 31, 'Прошло': 31, 'стал': 31, 'взяли': 31, 'декрете': 31, 'работа': 31, 'качестве': 31, 'ситуацию': 31, 'найти': 31, 'каким': 31, 'мамы': 31, 'больничного': 31, 'нету': 31, 'О': 31, 'ко': 31, 'форме': 31, 'проезд': 31, 'семье': 31, 'кредита': 31, 'директор': 31, 'выходит': 31, '2013': 30, 'пол': 30, 'преступления': 30, 'двоих': 30, 'Прошу': 30, 'августе': 30, '158': 30, 'Отец': 30, 'вынес': 30, '23': 30, 'какого': 30, 'млн': 30, 'гражданин': 30, 'пришел': 30, 'беременна': 30, '№': 30, 'обучение': 30, 'тех': 30, 'отработать': 30, 'мое': 30, 'вместо': 30, 'праве': 30, 'определение': 30, 'претендовать': 30, 'феврале': 30, 'увольнении': 30, 'Имеют': 30, 'отказа': 30, 'равно': 30, 'такого': 30, 'решила': 30, 'организация': 29, 'других': 29, 'органы': 29, 'Банк': 29, 'июле': 29, 'здесь': 29, 'согласие': 29, 'друг': 29, 'видео': 29, 'ТК': 29, 'отказалась': 29, 'государства': 29, 'родила': 29, 'сначала': 29, 'мужу': 29, 'дохода': 29, 'оформили': 29, 'помещения': 29, 'заплатить': 29, 'Украины': 29, 'комнату': 29, '40': 29, 'всегда': 29, 'общей': 29, 'статья': 29, 'ответчик': 29, 'отработала': 29, '100': 29, 'минимума': 29, 'другие': 28, 'условия': 28, 'рассчитывать': 28, 'ноябре': 28, 'пункт': 28, 'денежные': 28, 'человеком': 28, 'другое': 28, 'регионе': 28, 'преступление': 28, 'Хотела': 28, 'умерла': 28, 'помощи': 28, 'смены': 28, 'учёт': 28, 'Сказали': 28, 'размер': 28, 'каждого': 28, 'Будет': 28, 'новую': 28, 'ЖКХ': 28, 'сотрудники': 28, 'числе': 28, 'оспорить': 28, 'брата': 28, 'избежать': 28, 'отправили': 28, 'какие-то': 28, 'несовершеннолетний': 28, 'хотим': 28, 'карта': 28, 'лиц': 28, 'декабре': 28, 'всем': 28, 'возврате': 28, 'Хотим': 27, 'купила': 27, 'куплена': 27, 'военнослужащий': 27, 'одном': 27, 'больницу': 27, 'опеку': 27, 'Ведь': 27, 'аренду': 27, 'идёт': 27, 'закрыть': 27, 'развестись': 27, 'раздел': 27, 'затем': 27, 'эта': 27, 'Бывший': 27, 'арестовали': 27, 'предложили': 27, 'плюс': 27, 'покупки': 27, 'нем': 27, 'устроилась': 27, 'денежных': 27, 'нового': 27, 'устроился': 27, 'акт': 27, 'девушка': 27, 'подавала': 27, 'согласен': 27, 'телефону': 27, 'собственника': 27, 'прожиточного': 27, 'компания': 27, 'лишь': 27, 'площадь': 27, 'матерью': 27, 'трудовую': 27, 'доля': 26, 'жили': 26, 'хоть': 26, 'шансы': 26, 'инстанции': 26, 'ноября': 26, 'требуют': 26, '27': 26, '26': 26, 'прописки': 26, 'вас': 26, 'обязан': 26, 'трудовому': 26, 'составляет': 26, 'жене': 26, '24': 26, 'пойти': 26, 'гражданство': 26, 'выйти': 26, 'другим': 26, 'сирота': 26, '1.5': 26, 'общем': 26, 'сделала': 26, 'кадров': 26, 'декретный': 26, 'позже': 26, 'коммунальные': 26, 'ждать': 26, 'расторгнуть': 26, 'собираюсь': 26, 'отрабатывать': 26, 'изменения': 26, 'развелись': 25, 'основной': 25, 'написали': 25, 'соглашению': 25, 'Российской': 25, 'оно': 25, 'судебное': 25, 'варианты': 25, 'октября': 25, 'апреля': 25, 'предпринять': 25, 'обратился': 25, 'кредиты': 25, 'подачи': 25, 'материнский': 25, 'начал': 25, 'прокуратуру': 25, 'недавно': 25, 'недвижимости': 25, 'больнице': 25, 'компанию': 25, 'остаётся': 25, 'первой': 25, 'проблему': 25, 'выплата': 25, 'аварийным': 25, 'От': 25, 'знал': 25, 'работник': 25, 'выяснилось': 25, 'рабочий': 25, 'нужны': 25, 'правомерно': 25, 'купили': 25, 'замуж': 25, 'поставили': 25, 'Была': 25, 'вышел': 25, 'ну': 25, 'моим': 25, 'совсем': 25, 'людей': 25, 'основного': 24, 'положено': 24, 'ипотека': 24, 'поменять': 24, 'зарплата': 24, 'отпускные': 24, 'муниципальной': 24, 'те': 24, 'нами': 24, 'Сколько': 24, 'помочь': 24, 'отдавать': 24, 'пришлось': 24, 'администрация': 24, 'хотел': 24, 'Написала': 24, 'уволили': 24, 'нотариуса': 24, 'осталось': 24, 'Также': 24, 'какую': 24, 'наш': 24, 'попросила': 24, 'отправила': 24, 'вернули': 24, 'сами': 24, 'сотрудников': 24, 'отказал': 24, 'подписал': 24, 'оформлять': 24, 'возврата': 24, 'экспертизы': 24, 'последствия': 24, 'получает': 24, 'информации': 24, 'отдать': 24, 'Договор': 24, 'ходатайство': 24, '159': 24, 'дверь': 24, 'завели': 23, 'вы': 23, 'точно': 23, 'тому': 23, 'учет': 23, 'автомобиля': 23, 'ними': 23, 'данного': 23, 'оставить': 23, 'узнал': 23, 'продажу': 23, 'км': 23, 'судебном': 23, 'трое': 23, 'нужен': 23, 'вопросы': 23, 'про': 23, 'получении': 23, 'расписку': 23, 'никакой': 23, 'поскольку': 23, 'комнаты': 23, 'Недавно': 23, 'минимум': 23, 'контракта': 23, 'нашли': 23, 'оборудования': 23, 'Россию': 23, 'оформления': 23, 'указана': 23, 'мед': 23, 'каких': 23, 'оплатила': 23, 'одну': 23, 'жизнь': 23, 'бабушки': 23, '1/2': 23, 'добиться': 23, '1/3': 23, 'участке': 23, 'жил': 23, 'почте': 23, 'карте': 23, 'онлайн': 23, 'сообщили': 23, 'чек': 23, 'жалобы': 23, 'делу': 23, 'уголовной': 23, 'здоровья': 23, 'второго': 23, 'отправить': 23, 'находился': 23, 'которому': 23, 'возвращать': 23, 'факт': 22, 'менее': 22, 'таким': 22, 'выплат': 22, 'оплачиваемый': 22, 'декрета': 22, 'Вот': 22, 'данное': 22, 'военной': 22, 'Далее': 22, 'идет': 22, 'капитала': 22, 'какое': 22, 'нему': 22, 'очереди': 22, 'Ребенку': 22, 'трудового': 22, 'своим': 22, 'предприятии': 22, 'попросил': 22, 'Насколько': 22, 'лично': 22, 'график': 22, 'признан': 22, '0.5': 22, 'папа': 22, 'исполнительному': 22, 'исполнительное': 22, 'друга': 22, 'школы': 22, '300': 22, 'прошлом': 22, 'Какой': 22, 'сайт': 22, 'отдела': 22, 'указать': 22, 'решили': 22, 'отдельно': 22, 'отработки': 22, 'обжаловать': 22, 'находиться': 22, 'начать': 22, 'собственников': 22, 'помогите': 22, 'общения': 22, 'пени': 22, 'причинам': 22, 'нарушение': 22, 'выселить': 22, 'купил': 22, 'соответствии': 22, 'занятости': 22, 'повторно': 22, 'заявлении': 22, 'денежной': 22, 'никак': 22, 'занимается': 21, 'благодарю': 21, 'другому': 21, 'уехал': 21, 'супругой': 21, 'оплачивает': 21, 'живем': 21, 'получилось': 21, 'провести': 21, 'понять': 21, 'мес': 21, 'хотелось': 21, 'саду': 21, 'помещение': 21, 'нигде': 21, 'снимать': 21, 'рабочего': 21, 'выхода': 21, 'полный': 21, 'контракт': 21, 'уехать': 21, 'инвалидности': 21, 'окончания': 21, 'прошу': 21, 'часа': 21, 'требования': 21, 'Алименты': 21, 'проходить': 21, 'претензию': 21, 'условный': 21, 'ипотеки': 21, 'SMS': 21, 'Приставы': 21, 'купли-продажи': 21, 'тр': 21, 'естественно': 21, 'Там': 21, 'налоговой': 21, 'сказать': 21, 'сестры': 21, 'хватает': 21, 'Мать': 21, 'Купил': 21, 'мною': 21, 'двери': 21, 'жилого': 21, 'дал': 21, 'обратилась': 21, 'комиссии': 21, 'судимость': 21, 'нужна': 21, 'каком': 21, 'справки': 21, 'проблем': 21, 'окна': 21, 'над': 21, 'Во': 21, 'уважением': 21, 'гарантии': 21, 'человеку': 20, 'июне': 20, 'оба': 20, 'мог': 20, 'Говорит': 20, 'практически': 20, 'Дело': 20, 'лишения': 20, 'юрист': 20, 'обязанности': 20, 'законную': 20, 'сторон': 20, 'свидетельстве': 20, 'машине': 20, 'ГИБДД': 20, 'единственное': 20, 'смог': 20, 'взят': 20, 'исполнилось': 20, 'начальник': 20, 'сыном': 20, 'проживать': 20, 'должно': 20, 'вахтовым': 20, 'методом': 20, 'происходит': 20, 'вопроса': 20, 'принадлежит': 20, 'суду': 20, 'зарегистрирован': 20, 'люди': 20, 'Из': 20, 'проезда': 20, 'производстве': 20, 'вреда': 20, 'Спустя': 20, 'Украине': 20, 'ущерба': 20, '500': 20, 'назначили': 20, 'ответили': 20, 'менять': 20, 'проживал': 20, 'сильно': 20, 'неофициально': 20, 'днях': 20, 'Нам': 20, '2009': 20, 'возраста': 20, 'Ребенок': 20, 'рассрочку': 20, 'следующая': 20, 'районный': 20, 'долгов': 20, 'пришёл': 20, 'вид': 20, 'данную': 20, 'судебные': 20, 'начали': 20, 'использовать': 20, 'Какое': 20, 'пройти': 20, 'гражданка': 20, 'предприятия': 20, 'банком': 20, 'типа': 20, 'планирую': 20, 'попросили': 20, 'общий': 20, 'безработице': 20, 'Почему': 19, 'вам': 19, 'ежегодный': 19, 'конечно': 19, 'покупку': 19, 'Т': 19, 'следующем': 19, 'Федерации': 19, 'ответила': 19, 'даёт': 19, 'перевести': 19, 'совместительству': 19, 'стало': 19, 'закончился': 19, 'дата': 19, 'данных': 19, 'использования': 19, 'отцу': 19, 'пошла': 19, 'сторону': 19, 'сути': 19, 'районе': 19, 'сыну': 19, 'отношении': 19, 'перестал': 19, 'настоящее': 19, 'рабочем': 19, 'угрожает': 19, 'претензий': 19, 'общежитии': 19, 'замужем': 19, 'лишена': 19, 'пришли': 19, 'просят': 19, 'подписывала': 19, 'добровольно': 19, 'получу': 19, 'Жена': 19, 'следователь': 19, 'отдала': 19, 'месяце': 19, 'Его': 19, 'недель': 19, 'проверки': 19, 'имеются': 19, 'связь': 19, 'подписывал': 19, 'лишили': 19, 'врач': 19, 'отработал': 19, '60': 19, 'продаже': 19, 'учета': 19, 'проживают': 19, 'школу': 19, 'утверждает': 19, 'какой-то': 19, 'соседей': 19, 'возместить': 19, 'Никаких': 19, 'составлен': 19, 'например': 19, 'дает': 19, 'деле': 19, 'восстановить': 19, 'аванс': 19, 'получили': 19, 'мало': 19, 'Мама': 19, 'иметь': 19, 'перевод': 19, 'выходные': 19, 'ФСС': 19, 'нашем': 19, 'оклад': 19, 'детском': 19, 'Срок': 19, 'слов': 19, 'стали': 19, 'машины': 19, 'продавец': 19, 'нашла': 19, 'порядок': 19, 'вторую': 19, 'оттуда': 18, 'проживали': 18, 'встать': 18, 'мае': 18, '31': 18, 'платежи': 18, 'такую': 18, 'самостоятельно': 18, 'декретном': 18, 'Живу': 18, 'прислали': 18, 'кем': 18, 'покупке': 18, 'начале': 18, 'имея': 18, 'нашу': 18, 'говорил': 18, 'платила': 18, 'руководитель': 18, 'заставить': 18, 'женщина': 18, 'Однако': 18, 'обратится': 18, 'судья': 18, 'приговор': 18, 'забрал': 18, 'родился': 18, 'считать': 18, 'ФССП': 18, 'взыскание': 18, 'квартир': 18, 'прошла': 18, 'объяснительную': 18, 'приехать': 18, 'мол': 18, '80': 18, 'вариант': 18, 'одному': 18, 'попал': 18, 'выходить': 18, 'заранее': 18, 'часы': 18, 'пишет': 18, 'считается': 18, 'час': 18, 'Бывшая': 18, 'земельного': 18, 'продал': 18, 'продали': 18, 'назначении': 18, 'расторжении': 18, 'иждивении': 18, 'юриста': 18, 'квитанции': 18, 'смысл': 18, 'прошел': 18, 'штрафа': 18, 'хочется': 18, 'какая': 18, 'собой': 18, 'делал': 18, '200': 18, 'приходит': 18, 'устраивает': 18, 'страны': 18, 'Уважаемые': 18, 'оформлении': 18, 'общего': 18, 'пользования': 18, 'отправил': 18, 'кредитная': 18, 'внести': 18, 'супруги': 18, 'дорогу': 18, 'часто': 18, 'устроиться': 18, 'моральный': 18, 'соседи': 18, 'полтора': 18, 'переводе': 18, 'должника': 18, 'оформил': 18, 'интернет': 18, 'наличии': 18, 'исковой': 18, 'нашел': 18, 'иногда': 18, 'гражданства': 18, 'семью': 17, 'выплатил': 17, 'одним': 17, 'Правильно': 17, 'действовать': 17, 'выплатили': 17, 'сегодняшний': 17, 'свободы': 17, 'доказательства': 17, 'самым': 17, 'отмене': 17, 'метров': 17, 'разу': 17, 'последние': 17, 'плохо': 17, 'Имеется': 17, 'Получается': 17, 'травму': 17, 'безопасности': 17, 'Работала': 17, 'заставляют': 17, 'своему': 17, 'доп': 17, 'числом': 17, 'номера': 17, 'Дочь': 17, 'погашения': 17, 'работников': 17, 'охране': 17, 'пару': 17, 'поставить': 17, 'трудовом': 17, 'предоставил': 17, 'вопросу': 17, 'банкротство': 17, 'уволился': 17, 'приобретена': 17, 'сообщение': 17, '2012': 17, 'производства': 17, 'документам': 17, 'входит': 17, 'бухгалтерии': 17, 'участия': 17, 'подпись': 17, 'находилась': 17, 'Ранее': 17, 'ремонта': 17, 'ставку': 17, 'выдали': 17, 'выходе': 17, 'ты': 17, 'ту': 17, 'многоквартирном': 17, 'общая': 17, 'Ни': 17, 'находясь': 17, 'перевели': 17, 'ежемесячно': 17, 'физ': 17, 'статус': 17, 'вести': 17, 'сдал': 17, 'другая': 17, 'мошенничество': 17, 'данная': 17, '33': 17, 'состоянию': 17, 'выплачиваю': 17, 'центре': 17, 'исполнения': 17, 'писала': 17, '3000': 17, 'ходить': 17, 'наверное': 17, 'мотивируя': 17, 'уволен': 17, 'адвоката': 17, 'сообщил': 17, 'предлагают': 17, 'границу': 17, 'позвонила': 17, 'самом': 17, 'паспорта': 17, 'смену': 17, 'кого': 17, 'установление': 17, 'частной': 17, 'книжку': 17, 'заключения': 16, 'Пока': 16, 'центр': 16, '45': 16, 'Да': 16, 'документами': 16, 'думаю': 16, 'приватизирована': 16, 'заработка': 16, 'интересует': 16, 'заканчивается': 16, 'отказе': 16, '70': 16, 'Статья': 16, '29': 16, 'руку': 16, 'судебным': 16, 'судим': 16, 'дала': 16, 'уволилась': 16, 'военный': 16, 'передачи': 16, 'долго': 16, 'запрет': 16, 'судимости': 16, 'открыть': 16, 'известно': 16, 'кто-то': 16, 'Нахожусь': 16, 'Родители': 16, 'уходить': 16, 'видеться': 16, 'Просто': 16, 'вину': 16, 'знала': 16, '2006': 16, 'кредитам': 16, 'Только': 16, 'живут': 16, 'исполнительного': 16, 'интересы': 16, 'ФЗ': 16, 'лицом': 16, 'учетом': 16, 'разделить': 16, 'группе': 16, 'оставшуюся': 16, 'детский': 16, 'расчет': 16, 'закона': 16, 'обменять': 16, 'сожитель': 16, 'просила': 16, 'вторая': 16, 'решении': 16, 'аренды': 16, 'трудоустройстве': 16, 'заказ': 16, 'считаю': 16, 'погасить': 16, 'могла': 16, 'частично': 16, 'граждан': 16, 'договоров': 16, 'Человек': 16, 'единственный': 16, 'учусь': 16, 'учиться': 16, 'указал': 16, 'кому': 16, 'выписали': 16, 'наложили': 16, 'давать': 16, 'вступило': 16, 'понял': 16, 'тысячи': 16, 'владелец': 16, 'потребовать': 16, 'установить': 16, 'мужчина': 16, 'хорошо': 16, 'КоАП': 16, 'приватизации': 16, 'бумагу': 16, 'гараж': 16, 'звонит': 16, 'какие-либо': 16, 'одиночка': 16, 'уведомления': 16, 'выход': 16, 'случай': 16, 'Нужна': 16, 'позвонил': 16, 'забирать': 16, 'интернете': 16, 'покупатель': 16, 'приватизировать': 16, 'родителями': 16, 'заседание': 16, 'документа': 16, 'социального': 16, 'результате': 16, 'проконсультироваться': 16, 'конца': 16, 'апреле': 16, 'законы': 16, 'деревне': 15, 'своё': 15, 'ушел': 15, 'бывшим': 15, 'однако': 15, 'пользоваться': 15, 'отопление': 15, 'всей': 15, 'обязанностей': 15, 'кодекса': 15, 'порядка': 15, 'Вчера': 15, 'возрасте': 15, 'Деньги': 15, 'повлиять': 15, 'Ребёнок': 15, 'поняла': 15, 'завтра': 15, 'оплачивается': 15, 'даты': 15, 'скорее': 15, 'записи': 15, 'насколько': 15, 'сосед': 15, 'улице': 15, 'расторгнут': 15, 'знает': 15, 'сроком': 15, 'молодая': 15, 'землю': 15, 'немного': 15, 'комнате': 15, 'Хотелось': 15, 'программу': 15, 'претензии': 15, 'незаконно': 15, 'заявлению': 15, 'адвокат': 15, 'помещении': 15, 'помощью': 15, 'официальный': 15, 'морального': 15, 'слова': 15, 'бесплатно': 15, 'супругом': 15, 'видно': 15, 'вчера': 15, 'Кроме': 15, 'девушкой': 15, 'помогает': 15, '2000': 15, 'Является': 15, 'требование': 15, 'писал': 15, 'разрешение': 15, 'вернуться': 15, 'Устроилась': 15, 'выходных': 15, 'район': 15, 'законом': 15, 'прочерк': 15, 'звонят': 15, 'учитель': 15, 'прошёл': 15, 'платежа': 15, 'жилищных': 15, 'содержания': 15, 'случайно': 15, 'прийти': 15, 'полном': 15, 'письма': 15, 'листу': 15, 'земля': 15, 'Где': 15, 'плату': 15, 'показания': 15, 'вычет': 15, 'воспользоваться': 15, 'микрозайм': 15, 'кредитов': 15, 'просрочки': 15, 'нарушения': 15, 'исходя': 15, 'звонки': 15, 'двумя': 15, 'сутки': 15, 'Должна': 15, 'жену': 15, 'вся': 15, 'выплате': 15, 'скажите': 15, 'звонить': 15, 'сокращению': 15, 'заработную': 15, 'приехал': 15, 'субсидию': 15, 'Вопросы': 15, 'имеем': 15, 'принял': 15, 'НДФЛ': 15, 'скоро': 15, 'заказа': 15, 'мебель': 15, 'запрос': 15, 'видел': 15, 'трудоустроен': 15, 'протокол': 15, 'гражданина': 15, 'иске': 15, '2010': 14, 'оплачивал': 14, '2023': 14, 'троих': 14, 'рапорт': 14, 'предоставления': 14, 'пытается': 14, 'армии': 14, 'Суть': 14, 'заключается': 14, 'вовремя': 14, 'наказать': 14, 'нарушением': 14, 'образовалась': 14, '1/4': 14, 'обязана': 14, 'мест': 14, 'рабочих': 14, 'видимо': 14, 'давал': 14, 'погашена': 14, 'значит': 14, 'сможет': 14, 'одно': 14, 'вписан': 14, 'родной': 14, 'заставляет': 14, '5000': 14, 'делают': 14, 'родственники': 14, 'разные': 14, 'ограничения': 14, 'площади': 14, 'знакомой': 14, 'уходит': 14, 'расчёт': 14, 'считаться': 14, 'вине': 14, 'проживала': 14, 'признали': 14, 'заключен': 14, 'Судебный': 14, 'отдал': 14, 'копию': 14, 'участковый': 14, 'большой': 14, 'провели': 14, 'консультация': 14, 'полной': 14, 'отсутствия': 14, 'замену': 14, 'календарных': 14, 'отчима': 14, 'фамилия': 14, 'согласна': 14, 'истец': 14, 'консультацию': 14, 'организацию': 14, 'большую': 14, 'вахте': 14, 'сообщила': 14, 'характера': 14, 'последний': 14, 'телевизор': 14, 'лицу': 14, 'Купила': 14, 'произошло': 14, 'мировой': 14, 'данным': 14, 'службе': 14, 'окончании': 14, '8000': 14, 'Благодарю': 14, 'оказывается': 14, 'Со': 14, 'класс': 14, 'просить': 14, 'справка': 14, 'графику': 14, 'снизить': 14, 'увидела': 14, 'небольшой': 14, 'просьбой': 14, 'продлить': 14, 'операции': 14, 'боюсь': 14, 'сижу': 14, 'переоформить': 14, 'лишение': 14, 'дарения': 14, 'контракту': 14, 'предоставили': 14, 'угрожают': 14, 'отпусков': 14, 'фотографии': 14, 'переехать': 14, 'Буду': 14, 'октябре': 14, 'умершего': 14, 'сделки': 14, 'земли': 14, 'говорить': 14, 'многодетная': 14, 'проведения': 14, 'травма': 14, 'Один': 14, 'оказалась': 14, 'история': 14, 'лицам': 14, 'смогла': 14, 'кредитную': 14, 'жила': 14, 'несовершеннолетнего': 14, 'путем': 14, 'воды': 14, 'фонда': 14, 'деятельности': 14, 'Для': 14, 'зп': 14, 'экран': 14, 'продавца': 14, 'расходы': 14, 'ответа': 14, 'режим': 14, 'этаже': 14, 'юристы': 14, '1000': 14, 'сбор': 14, 'угрозы': 14, 'Обязан': 14, 'основе': 14, 'уголовного': 14, 'новое': 14, 'Очень': 14, 'временно': 14, 'директора': 14, 'целью': 14, 'разговоре': 14, 'определения': 14, 'всеми': 14, 'каждой': 14, 'положена': 13, 'декретного': 13, 'договорились': 13, 'ниже': 13, 'остаться': 13, 'продавать': 13, 'забрала': 13, 'вновь': 13, 'Написал': 13, 'ухожу': 13, 'проверку': 13, 'ареста': 13, 'фамилии': 13, 'записан': 13, 'графе': 13, 'новой': 13, 'регион': 13, 'развелась': 13, 'передать': 13, 'признать': 13, 'внимание': 13, 'общаться': 13, 'маму': 13, 'Кредит': 13, 'проживание': 13, 'подписи': 13, 'работодателю': 13, 'старый': 13, 'приказе': 13, 'средней': 13, 'очередной': 13, 'установили': 13, 'статьям': 13, 'МВД': 13, 'грамотно': 13, 'поддержки': 13, 'сказав': 13, 'некоторое': 13, 'комната': 13, 'действительно': 13, 'операцию': 13, 'Директор': 13, 'случаях': 13, 'остались': 13, 'втором': 13, 'неоднократно': 13, 'мастер': 13, 'помимо': 13, 'личные': 13, 'могли': 13, 'Купили': 13, 'жительство': 13, 'продала': 13, 'оформила': 13, 'собирается': 13, 'судьи': 13, 'истечении': 13, 'доказательств': 13, 'сети': 13, 'расходов': 13, 'учителем': 13, 'братом': 13, 'прожиточный': 13, 'подтвердить': 13, 'штрафы': 13, 'Естественно': 13, 'таки': 13, 'Девушка': 13, 'гос': 13, 'наличными': 13, 'твердой': 13, 'Мои': 13, 'родственников': 13, 'приказом': 13, 'сказано': 13, 'заключить': 13, 'делает': 13, 'молодой': 13, 'обращении': 13, 'тд': 13, 'отказались': 13, 'разделе': 13, 'знакомая': 13, 'знать': 13, 'попросить': 13, 'займы': 13, 'нарушений': 13, 'аккаунт': 13, 'ответил': 13, 'иначе': 13, 'Вас': 13, 'официальном': 13, 'приходить': 13, 'Стоит': 13, 'доверенность': 13, '0,5': 13, 'приняли': 13, 'требуется': 13, 'сокращении': 13, 'благодарна': 13, 'выполнять': 13, 'командировку': 13, 'регистрацию': 13, 'установки': 13, 'сдачи': 13, 'армию': 13, 'поступил': 13, 'давали': 13, 'ими': 13, 'работнику': 13, 'листа': 13, 'будучи': 13, 'ноутбук': 13, '?!': 13, 'банку': 13, 'учебный': 13, 'ПФР': 13, '.?': 13, 'учится': 13, 'правда': 13, 'ЗАГС': 13, 'заявлением': 13, 'имел': 13, 'соседа': 13, 'принимает': 13, 'Казахстана': 13, 'программы': 13, 'приобрести': 13, 'третий': 13, 'B': 13, 'компенсация': 12, 'останется': 12, 'расписки': 12, 'выше': 12, 'раздела': 12, 'заработок': 12, 'деятельность': 12, 'служба': 12, 'действие': 12, 'материалы': 12, 'адресу': 12, 'прописать': 12, 'отдали': 12, 'сидеть': 12, 'стояла': 12, 'Работа': 12, 'привезли': 12, 'МФЦ': 12, 'признании': 12, 'нескольких': 12, 'реально': 12, 'дочку': 12, 'почту': 12, 'рабочее': 12, 'технику': 12, '36': 12, 'инструкции': 12, 'задним': 12, 'наличие': 12, 'грозится': 12, 'подписали': 12, 'предложил': 12, 'расчете': 12, 'площадью': 12, 'признал': 12, 'помещений': 12, 'отказывают': 12, 'группу': 12, 'своем': 12, 'первом': 12, 'Являюсь': 12, 'Подала': 12, 'оставили': 12, 'Уже': 12, 'образования': 12, 'платили': 12, 'Правомерны': 12, 'оплатил': 12, 'условиях': 12, 'предложила': 12, 'сообщения': 12, 'ходе': 12, 'перерасчёт': 12, 'уехала': 12, 'платеж': 12, 'тест': 12, 'кредитной': 12, 'Дети': 12, 'принимать': 12, 'го': 12, 'передали': 12, 'прописке': 12, 'положении': 12, 'обращения': 12, 'списали': 12, 'ответчика': 12, 'Согласно': 12, 'парень': 12, 'сложилась': 12, 'суммой': 12, 'прямо': 12, 'девушки': 12, 'наши': 12, 'согласию': 12, 'придётся': 12, 'обязательно': 12, 'приходится': 12, 'Можем': 12, 'рядом': 12, 'разговор': 12, 'принято': 12, 'Сбербанк': 12, 'положены': 12, 'ограничение': 12, 'куплен': 12, 'Чем': 12, 'нём': 12, 'остаток': 12, 'Заявление': 12, 'основном': 12, 'категории': 12, 'копии': 12, 'сведения': 12, 'оставил': 12, '...': 12, 'количество': 12, 'смогут': 12, 'долях': 12, 'своими': 12, 'продавцом': 12, 'наследства': 12, 'закрыли': 12, 'нормально': 12, 'считает': 12, 'супругу': 12, 'АО': 12, 'Какая': 12, 'остановили': 12, 'билет': 12, 'Должен': 12, 'инвалидность': 12, 'возбуждении': 12, 'пошел': 12, 'свидетельства': 12, 'отказываются': 12, 'недостача': 12, 'Без': 12, 'выплатила': 12, 'принять': 12, 'бирже': 12, 'придется': 12, 'домом': 12, 'ЗП': 12, 'подъезд': 12, 'пользование': 12, 'неизвестно': 12, 'разрешения': 12, 'ведома': 12, 'молодым': 12, 'отчество': 12, 'рассмотрения': 12, 'заявил': 12, 'список': 12, 'гарантийный': 12, '82': 12, 'покупаю': 12, 'платежам': 11, 'строительства': 11, 'взыскивать': 11, 'неиспользованный': 11, 'оставшиеся': 11, 'дополнительно': 11, 'выплачивает': 11, 'приехали': 11, 'зачем': 11, 'Ну': 11, 'уточнить': 11, 'вопросе': 11, 'подаче': 11, 'предоставлении': 11, 'вынесения': 11, 'выезд': 11, 'случилось': 11, 'обременение': 11, 'риски': 11, 'обязательства': 11, 'родителям': 11, 'ждёт': 11, 'опекуном': 11, 'наша': 11, 'маме': 11, 'предъявить': 11, 'разошлись': 11, 'начались': 11, 'истечения': 11, 'требованием': 11, 'появились': 11, 'Сумма': 11, 'уменьшить': 11, 'передал': 11, 'принята': 11, 'вахты': 11, 'НЕ': 11, 'книжке': 11, 'розыск': 11, 'Администрация': 11, 'вправе': 11, 'разве': 11, 'прописка': 11, 'изменить': 11, 'процессе': 11, 'производству': 11, 'пошли': 11, 'другу': 11, 'откуда': 11, 'процент': 11, 'мнению': 11, 'Обратилась': 11, 'апелляционную': 11, 'биологический': 11, 'первое': 11, 'большое': 11, 'минус': 11, 'начинается': 11, 'встречу': 11, 'частями': 11, 'согласилась': 11, 'Говорят': 11, 'установлено': 11, 'приказу': 11, 'сделку': 11, 'вдруг': 11, 'инвалидом': 11, 'Сын': 11, 'базе': 11, 'ехать': 11, 'переписать': 11, 'размера': 11, 'специалиста': 11, 'недостачу': 11, 'займов': 11, 'помню': 11, 'следует': 11, 'налоги': 11, 'оплатили': 11, 'Взял': 11, 'повестка': 11, 'дадут': 11, 'покупали': 11, 'условии': 11, 'вопросом': 11, 'нормы': 11, 'безработный': 11, 'вечно': 11, 'претендует': 11, 'квартирой': 11, 'некоторые': 11, 'чужой': 11, 'ситуацией': 11, 'стране': 11, 'вынесен': 11, 'взнос': 11, 'дороги': 11, 'прохождения': 11, 'Два': 11, 'подарила': 11, 'хотели': 11, 'правах': 11, 'иска': 11, 'Должны': 11, 'одновременно': 11, 'заключении': 11, 'указан': 11, 'появилась': 11, 'выдан': 11, 'моими': 11, 'снимают': 11, 'посадить': 11, 'подписывать': 11, 'годы': 11, 'стены': 11, 'Вы': 11, 'требований': 11, 'начальника': 11, 'Чтобы': 11, 'Планирую': 11, 'погашение': 11, 'причины': 11, 'остальные': 11, 'выделить': 11, 'ФИО': 11, 'каким-то': 11, 'увольняют': 11, 'полную': 11, 'заменить': 11, 'удалить': 11, 'регистрация': 11, 'по-моему': 11, 'строительство': 11, 'приобретения': 11, 'чём': 11, 'дедушка': 11, 'обнаружил': 11, 'пенсионного': 11, 'состоит': 11, 'условно': 11, 'цех': 11, 'заплатили': 11, 'Каким': 11, 'личной': 11, 'ревизии': 11, 'новые': 11, 'перевода': 11, 'рамках': 11, 'МРОТ': 11, 'вероятность': 11, 'невозможно': 11, 'чуть': 11, 'большая': 11, 'сожалению': 11, 'льготный': 11, '00': 11, 'командировке': 11, 'списывать': 11, 'Поэтому': 11, 'постоянной': 11, 'грозить': 11, 'Мужа': 11, 'Долг': 11, 'обязать': 11, 'руководителя': 11, 'выдаче': 11, 'явиться': 11, 'кажется': 11, 'воспитателем': 11, 'сада': 11, 'данному': 11, 'ставят': 11, 'состою': 11, 'жилом': 11, 'пять': 11, 'сменить': 11, 'Денег': 11, 'Пристав': 11, 'врача': 11, 'поставил': 11, 'карантин': 11, 'возмещение': 11, 'доступ': 11, 'устной': 11, 'полиция': 10, 'детали': 10, 'платят': 10, 'коммунальным': 10, 'нажитое': 10, 'отказываюсь': 10, 'словах': 10, 'нотариусу': 10, 'недвижимость': 10, 'желает': 10, 'сидит': 10, '140': 10, 'даст': 10, 'понятно': 10, 'вступления': 10, 'отменили': 10, 'документах': 10, 'опека': 10, 'действует': 10, 'звонил': 10, 'берет': 10, 'совершенно': 10, '6000': 10, 'болезни': 10, 'банки': 10, 'подает': 10, 'неделя': 10, 'материнского': 10, 'половина': 10, 'нашему': 10, 'оружие': 10, 'висит': 10, 'Официально': 10, 'соглашения': 10, 'протяжении': 10, 'контакт': 10, 'улицу': 10, 'официального': 10, 'выкупить': 10, 'дарственную': 10, 'Проживаю': 10, 'Этот': 10, 'подаёт': 10, 'новом': 10, 'выполнения': 10, 'настоящего': 10, 'готов': 10, 'делить': 10, 'режима': 10, 'Сестра': 10, 'присудили': 10, 'долевой': 10, 'участвовать': 10, '51': 10, 'снос': 10, 'материально': 10, 'материальной': 10, 'примеру': 10, 'шанс': 10, 'биологического': 10, 'юридически': 10, 'СИЗО': 10, 'предоставление': 10, 'изначально': 10, 'материального': 10, 'предлагает': 10, 'любой': 10, 'сайта': 10, 'Такой': 10, 'водителем': 10, 'пошёл': 10, 'Сам': 10, 'отсутствие': 10, 'тюрьме': 10, 'ноги': 10, 'детского': 10, 'вернула': 10, 'уведомлений': 10, 'напишет': 10, 'доходов': 10, 'сократить': 10, 'абсолютно': 10, 'делится': 10, 'отказывает': 10, 'подлежит': 10, 'единственным': 10, 'произошла': 10, 'ушёл': 10, 'Руководство': 10, 'Постановление': 10, 'апелляционной': 10, 'цена': 10, 'курс': 10, 'сложившейся': 10, 'Бабушка': 10, 'никуда': 10, 'проводить': 10, 'ударил': 10, 'центра': 10, 'женился': 10, 'доверенности': 10, 'обстоятельства': 10, 'достаточно': 10, 'получится': 10, 'гр': 10, 'никому': 10, 'сестрой': 10, 'отношение': 10, 'ЖСК': 10, 'Москву': 10, 'составили': 10, 'уменьшение': 10, 'девочка': 10, 'обмен': 10, 'срочно': 10, 'мнение': 10, 'направление': 10, 'кассе': 10, 'назначил': 10, '2007': 10, 'Брат': 10, 'Одна': 10, 'ГАИ': 10, 'проходит': 10, 'бухгалтерия': 10, 'даю': 10, 'общаемся': 10, 'произвести': 10, 'сроков': 10, 'присутствии': 10, '2/3': 10, 'знаем': 10, 'будем': 10, 'сбора': 10, 'удержать': 10, 'продажей': 10, 'учете': 10, 'вызвали': 10, 'самого': 10, 'просрочек': 10, 'директором': 10, 'сдать': 10, 'бывает': 10, 'целях': 10, 'сдавать': 10, 'имени': 10, 'отказано': 10, 'гражданином': 10, 'учреждении': 10, 'подруга': 10, 'перевела': 10, 'отвечают': 10, 'водитель': 10, 'расписании': 10, 'состава': 10, 'насчитали': 10, 'фирмы': 10, 'вода': 10, 'указанной': 10, '10000': 10, 'Живем': 10, 'Соседи': 10, 'сообщает': 10, 'личный': 10, 'удостоверение': 10, 'отдыха': 10, 'законные': 10, 'заключён': 10, 'сложности': 10, 'каждую': 10, 'цены': 10, 'поступила': 10, 'первую': 10, 'женат': 10, 'осужден': 10, 'согласился': 10, 'обязательств': 10, 'являются': 10, 'крыши': 10, 'закрыл': 10, 'совершил': 10, 'платежей': 10, 'указала': 10, 'участком': 10, 'статьей': 10, 'лежит': 10, 'покупать': 10, 'идут': 10, 'посадили': 10, 'сертификат': 10, 'пенсионер': 10, 'Соответственно': 10, 'искать': 10, 'использованием': 10, 'работали': 10, 'пенсия': 10, 'вызывать': 10, 'увольняюсь': 10, 'уволят': 10, 'соседям': 10, 'преступлении': 10, 'картой': 10, 'начислять': 10, 'обезопасить': 10, 'род': 10, 'участку': 10, 'берут': 10, 'ЦЗН': 10, 'доступа': 10, 'ВНЖ': 10, 'Лицо': 10, 'вакансию': 10, 'рассказал': 10, 'ГПК': 10, 'праздничные': 10, 'лицами': 10, 'Из-за': 9, 'административное': 9, 'смотреть': 9, 'служил': 9, 'оплачивала': 9, 'помогал': 9, 'взыскания': 9, 'переехала': 9, 'вела': 9, 'сидел': 9, 'Изначально': 9, 'откажусь': 9, 'дополнительных': 9, 'обстоятельствам': 9, 'отопления': 9, 'оклада': 9, 'родов': 9, 'N': 9, 'основание': 9, 'Ещё': 9, 'словами': 9, 'разъяснить': 9, 'Решение': 9, 'последующим': 9, 'решением': 9, 'вынесено': 9, 'счетов': 9, 'отказом': 9, 'Живём': 9, 'Моего': 9, 'поселения': 9, 'снятия': 9, 'наложен': 9, 'долей': 9, '2,5': 9, 'Всё': 9, 'камеру': 9, 'частном': 9, 'х': 9, 'проходил': 9, 'мимо': 9, 'поехать': 9, 'каждому': 9, 'какое-то': 9, 'поможет': 9, 'существует': 9, 'срочному': 9, 'подписала': 9, 'селе': 9, 'периодически': 9, 'опьянения': 9, 'жилой': 9, 'купленная': 9, 'правомерны': 9, 'здоровью': 9, 'Получил': 9, 'свидетели': 9, 'потерпевший': 9, 'видела': 9, 'та': 9, 'понедельник': 9, 'колледже': 9, 'меры': 9, 'папой': 9, 'зарегистрирована': 9, 'Разве': 9, 'станет': 9, 'летом': 9, 'стоят': 9, 'увидел': 9, 'Нас': 9, 'списать': 9, 'Такое': 9, 'кредитный': 9, 'техники': 9, '7000': 9, 'бытовую': 9, 'перелом': 9, 'справке': 9, 'группа': 9, 'назначения': 9, 'поликлинике': 9, 'работаем': 9, 'явился': 9, 'апелляцию': 9, 'говорила': 9, 'постановлению': 9, 'другими': 9, 'ссылаться': 9, 'тренинг': 9, 'обычно': 9, 'отмену': 9, 'предоплату': 9, '2500': 9, 'отмены': 9, 'все-таки': 9, 'минут': 9, 'Продавец': 9, 'Примерно': 9, 'какую-то': 9, 'маткапитал': 9, '55': 9, 'стажа': 9, '2005': 9, 'трудоустройство': 9, 'этими': 9, 'территорию': 9, 'спецоперации': 9, 'Несколько': 9, 'обоюдному': 9, 'знали': 9, 'выдать': 9, 'декретные': 9, 'отгуляла': 9, 'специально': 9, 'коллекторы': 9, 'завещанию': 9, 'спокойно': 9, 'чеки': 9, 'заплатил': 9, 'класса': 9, 'ВУЗе': 9, 'поехал': 9, 'дороге': 9, 'обжалование': 9, 'устройства': 9, 'никого': 9, 'налогов': 9, 'курсе': 9, 'повреждений': 9, 'надзора': 9, 'ковид': 9, 'Доброй': 9, 'ночи': 9, 'куда-то': 9, 'общежитие': 9, 'умирает': 9, 'наоборот': 9, 'Компания': 9, 'общается': 9, 'муниципальная': 9, 'Смогу': 9, 'видеть': 9, 'разбираться': 9, 'мужчиной': 9, 'отделе': 9, 'бумаги': 9, 'копейки': 9, 'прошлого': 9, 'выписалась': 9, 'закрывают': 9, 'расписка': 9, 'дому': 9, 'построен': 9, 'пропорционально': 9, 'водителя': 9, 'учреждения': 9, 'вина': 9, 'учёте': 9, 'пенсионный': 9, 'фонд': 9, 'бизнес': 9, 'отправляла': 9, 'медицинской': 9, 'плата': 9, 'встал': 9, '600': 9, 'ошибки': 9, 'звонили': 9, 'ремонту': 9, 'обратились': 9, 'администрацию': 9, 'Тогда': 9, '2001': 9, 'учитывая': 9, 'финансовые': 9, 'покрыть': 9, 'Брала': 9, 'предприятие': 9, 'расписаны': 9, 'Отпуск': 9, 'исправно': 9, 'возмещении': 9, 'Перед': 9, '20000': 9, 'проверить': 9, 'минимальный': 9, 'зарплатой': 9, 'Работник': 9, 'Вами': 9, 'заново': 9, 'Работал': 9, 'использование': 9, 'билеты': 9, 'практики': 9, 'информация': 9, 'представителя': 9, 'брачный': 9, 'ночь': 9, 'проходила': 9, 'дачу': 9, 'виду': 9, 'сбербанка': 9, 'запах': 9, 'выдал': 9, 'установил': 9, 'частного': 9, 'поступления': 9, '30000': 9, 'дарственной': 9, 'утром': 9, 'Об': 9, 'акты': 9, 'получена': 9, 'препараты': 9, 'потерял': 9, 'людям': 9, 'спросить': 9, '120': 9, 'попадает': 9, 'фирма': 9, 'Затем': 9, 'переехали': 9, 'воспитываю': 9, 'лишении': 9, 'прислал': 9, 'завещание': 9, 'общался': 9, 'временной': 9, 'бухгалтер': 9, 'правом': 9, 'посылку': 9, 'скажет': 9, 'замене': 9, 'воду': 9, 'телефоне': 9, 'украл': 9, 'убрать': 9, 'реальный': 9, 'ничем': 9, 'Документы': 9, 'вход': 9, 'качества': 9, 'указывать': 9, 'сей': 9, 'пакет': 9, 'возражения': 9, 'заседании': 9, 'СП': 9, 'указаны': 9, 'наследству': 9, 'сдала': 9, 'конкретно': 9, 'крае': 9, 'заключать': 9, 'аннулировать': 9, 'инспекции': 9, 'рулём': 9, 'обещали': 9, 'залог': 9, '400': 9, 'инженера': 9, 'отсудить': 9, '₽': 9, '800': 9, 'напишу': 9, 'знакомому': 9, 'получит': 9, 'административной': 9, 'Сотрудники': 9, 'категорию': 9, 'получив': 9, 'коммунальных': 9, 'заочно': 9, 'увольняться': 9, 'жильцов': 9, 'постройки': 9, 'пособий': 9, 'съехать': 9, 'аварийного': 9, 'женщины': 9, 'постоянную': 9, 'приехала': 9, 'папы': 9, 'увольнением': 9, '137': 9, 'распространение': 9, 'придомовой': 8, 'бывшую': 8, 'ЯНАО': 8, 'Г': 8, '32': 8, '56': 8, 'параллельно': 8, 'продукты': 8, 'покупала': 8, 'пополам': 8, '1/6': 8, 'Правда': 8, 'письмом': 8, 'достижения': 8, 'остальное': 8, 'пункте': 8, 'вернулся': 8, 'имела': 8, 'положения': 8, 'приобрел': 8, 'июнь': 8, 'выписки': 8, 'Пришло': 8, 'речь': 8, 'алиментах': 8, 'Моему': 8, 'л': 8, 'обоих': 8, 'Каковы': 8, 'иску': 8, 'присутствовать': 8, 'ввиду': 8, 'дочке': 8, 'заниматься': 8, 'дочкой': 8, 'началось': 8, 'й': 8, 'отдельное': 8, 'процедура': 8, 'организацией': 8, 'работники': 8, 'перечень': 8, 'мастеру': 8, 'ходит': 8, 'собственностью': 8, 'каковы': 8, 'числится': 8, '3,5': 8, 'родственника': 8, 'Помимо': 8, 'предложить': 8, 'Супруг': 8, 'сроке': 8, 'зарплате': 8, 'помогать': 8, 'девочку': 8, 'следующего': 8, 'б': 8, 'долгу': 8, 'уход': 8, 'паспорте': 8, 'февраль': 8, 'искового': 8, 'частный': 8, 'Хотел': 8, 'П': 8, 'вечером': 8, 'поступало': 8, 'досрочно': 8, 'процентами': 8, 'обвиняет': 8, 'Второй': 8, 'мебели': 8, 'замена': 8, 'факта': 8, 'закрыт': 8, 'главный': 8, 'напрямую': 8, 'письменном': 8, 'указанием': 8, 'вступить': 8, 'сожительница': 8, 'Доброе': 8, 'иском': 8, 'получено': 8, 'такова': 8, 'нагрузку': 8, 'постановления': 8, 'переписки': 8, 'клиент': 8, 'цену': 8, 'сельского': 8, 'смена': 8, 'обнаружили': 8, 'пойду': 8, 'совместного': 8, 'дополнительные': 8, 'сожителя': 8, 'умерли': 8, 'старший': 8, 'совершеннолетний': 8, 'отсутствием': 8, 'купленный': 8, 'положен': 8, 'тишина': 8, 'земельном': 8, 'сидела': 8, 'беременной': 8, 'лечения': 8, 'лечение': 8, 'гражданском': 8, 'участвует': 8, 'Плачу': 8, 'нарушены': 8, '700': 8, 'Продали': 8, 'объекта': 8, 'налога': 8, 'отношениях': 8, 'попала': 8, 'удерживать': 8, '50000': 8, 'удовлетворил': 8, 'Республики': 8, 'состав': 8, 'продает': 8, 'обучении': 8, 'боевых': 8, 'оставлять': 8, 'стороне': 8, 'пьяный': 8, 'дороже': 8, 'отвечает': 8, 'ставке': 8, 'апелляционное': 8, 'заключение': 8, 'Действительно': 8, 'долге': 8, 'ухода': 8, 'объяснить': 8, 'автоматически': 8, 'спец': 8, 'линии': 8, 'Ответьте': 8, 'следующие': 8, 'говорили': 8, 'поступать': 8, 'профессии': 8, 'опекун': 8, 'участие': 8, 'впервые': 8, 'снимок': 8, 'сроку': 8, 'благодарен': 8, 'указанного': 8, 'отсутствует': 8, 'эксплуатации': 8, 'администрацией': 8, 'улучшении': 8, 'исполнении': 8, 'Москва': 8, 'аварийном': 8, 'распоряжение': 8, 'выгоняет': 8, 'девочки': 8, 'заказов': 8, 'первоначальный': 8, 'банках': 8, 'будущем': 8, 'выгнать': 8, 'подтверждающие': 8, 'несоблюдению': 8, 'служебного': 8, 'поймали': 8, 'страховой': 8, 'истца': 8, 'УДО': 8, 'принятии': 8, 'зарегистрировать': 8, 'обещал': 8, 'менеджер': 8, 'временное': 8, 'прописку': 8, 'выселение': 8, 'готова': 8, 'постановке': 8, 'субсидии': 8, 'Прав': 8, 'участвовал': 8, 'май': 8, '15.000': 8, 'обращение': 8, 'разговора': 8, 'причин': 8, 'переписка': 8, 'семьёй': 8, 'какими': 8, 'МКД': 8, 'работой': 8, 'выполнение': 8, 'категорически': 8, 'возникла': 8, 'замены': 8, 'работодателем': 8, 'сокращения': 8, 'заседания': 8, 'забирает': 8, 'Подали': 8, 'жилплощадь': 8, 'маленькая': 8, 'работают': 8, 'защите': 8, 'вернул': 8, 'цене': 8, 'офис': 8, 'спать': 8, 'Нет': 8, 'стать': 8, 'согласны': 8, 'бюджете': 8, 'прохожу': 8, 'октябрь': 8, 'района': 8, '35': 8, 'фирму': 8, 'аргументируя': 8, 'перестала': 8, 'арестовать': 8, 'каких-либо': 8, 'составлении': 8, 'Украину': 8, 'прохождении': 8, 'счету': 8, 'трудоустройства': 8, 'снял': 8, 'возбуждено': 8, 'такси': 8, 'оформлены': 8, 'Считается': 8, 'утро': 8, 'изменений': 8, 'Пожалуйста': 8, 'старшего': 8, 'что-нибудь': 8, 'Последний': 8, 'отдельный': 8, 'трудовая': 8, 'Боюсь': 8, 'уплате': 8, 'договоренность': 8, 'забеременела': 8, 'думал': 8, 'вопросов': 8, 'всему': 8, '150': 8, 'находятся': 8, 'управляющая': 8, 'формы': 8, 'пьёт': 8, 'ветхого': 8, 'США': 8, 'посылки': 8, 'давала': 8, 'интернет-магазине': 8, 'снизу': 8, 'сообщить': 8, 'сотрудниками': 8, 'взамен': 8, 'Было': 8, 'приговора': 8, 'Ответчик': 8, 'уплаты': 8, 'особо': 8, 'разведены': 8, 'работая': 8, 'Продал': 8, 'переводить': 8, 'глаза': 8, 'личного': 8, 'сбербанк': 8, 'приставу': 8, 'крови': 8, 'анализ': 8, 'игры': 8, 'ванной': 8, 'лишён': 8, 'Москве': 8, 'телефонов': 8, 'большие': 8, 'книжки': 8, 'подано': 8, 'Подавала': 8, 'самое': 8, 'комиссию': 8, 'Имеем': 8, 'обслуживание': 8, 'девушке': 8, 'приходила': 8, 'жду': 8, 'беременная': 8, 'прочее': 8, 'Получаю': 8, 'премии': 8, 'Пришла': 8, 'балкон': 8, 'стажировку': 8, 'бывшем': 8, 'признания': 8, 'парня': 8, 'дату': 8, 'гарантия': 8, 'неправильно': 8, 'где-то': 8, 'оплачиваю': 8, 'совершеннолетние': 8, 'можете': 8, 'аренде': 8, 'препарат': 8, 'сетях': 8, 'будто': 8, 'детства': 8, 'узнали': 8, 'проверять': 8, 'ошибку': 8, 'бухгалтерию': 8, 'постоянного': 8, 'налоговый': 8, 'ГК': 8, 'игру': 8, 'стоял': 8, 'принимают': 8, 'претензия': 8, 'оставила': 8, 'льготы': 8, 'стол': 8, 'власти': 8, 'округа': 8, 'алкоголь': 8, 'стою': 8, 'ключи': 8, 'мирового': 8, 'Ростелеком': 8, 'обращался': 7, 'высчитывать': 7, 'посчитали': 7, 'созаемщик': 7, 'точнее': 7, 'начисления': 7, 'отпускных': 7, 'окончанию': 7, 'отработанное': 7, 'рабочие': 7, 'военнослужащая': 7, 'Начальник': 7, 'пункта': 7, 'предоставлять': 7, 'заводе': 7, 'дверью': 7, 'совершение': 7, 'метра': 7, 'находимся': 7, 'пандемии': 7, '228': 7, 'Дали': 7, 'задержали': 7, 'выплатах': 7, 'трубку': 7, 'местах': 7, 'гражданским': 7, 'кадастровой': 7, 'дочка': 7, 'здоровьем': 7, 'пытался': 7, 'оскорбление': 7, 'обжалования': 7, 'садик': 7, 'вахту': 7, 'пусть': 7, 'начальство': 7, 'просил': 7, 'датой': 7, 'срочный': 7, 'Проблема': 7, 'алкогольного': 7, 'летнего': 7, 'наше': 7, 'обязуется': 7, 'верно': 7, 'минимальной': 7, 'Сыну': 7, 'отпускают': 7, '46': 7, 'Молодая': 7, 'вышло': 7, 'вписать': 7, 'ставка': 7, 'системе': 7, 'З': 7, 'подписывает': 7, 'фирме': 7, 'Ушла': 7, 'декретных': 7, 'неисполнение': 7, 'нотариально': 7, 'оформлено': 7, 'слишком': 7, 'собака': 7, 'отказала': 7, 'охранника': 7, 'продавцов': 7, 'клиентов': 7, 'оплачивают': 7, 'норма': 7, 'ехал': 7, 'отделении': 7, 'товаров': 7, 'устраиваюсь': 7, 'использовала': 7, 'надбавки': 7, 'надбавка': 7, 'Грозит': 7, 'важно': 7, 'руководство': 7, 'подписании': 7, 'выплачивают': 7, 'кабинет': 7, 'изменении': 7, 'консультации': 7, 'пишут': 7, 'заключали': 7, 'посчитать': 7, 'комментарий': 7, 'простой': 7, '1500': 7, 'самой': 7, 'правы': 7, 'севере': 7, 'общее': 7, 'модель': 7, 'составляла': 7, 'подаст': 7, 'пишу': 7, 'Ст': 7, 'удерживают': 7, 'каждом': 7, 'аттестации': 7, 'работникам': 7, 'младшая': 7, 'объект': 7, 'эл': 7, 'перестали': 7, 'ждут': 7, 'одежду': 7, 'диагностику': 7, 'передан': 7, 'свет': 7, 'следствие': 7, 'снесли': 7, 'подарили': 7, 'код': 7, '130': 7, 'думала': 7, 'доходах': 7, 'причину': 7, 'учреждение': 7, 'установлен': 7, 'законов': 7, 'говорится': 7, 'погасил': 7, 'Мировой': 7, 'должник': 7, 'регистрационные': 7, 'жильем': 7, 'целевом': 7, 'Мужу': 7, 'Посоветуйте': 7, 'труд': 7, 'днем': 7, 'рук': 7, 'открыла': 7, 'налоговую': 7, 'закрытии': 7, 'ПТС': 7, 'см': 7, 'выехал': 7, 'учебу': 7, 'тебе': 7, 'желание': 7, 'списывают': 7, 'отгулять': 7, 'собрать': 7, 'Двое': 7, 'полосе': 7, 'положение': 7, 'родная': 7, 'бабушкой': 7, 'поступлении': 7, 'необходимы': 7, 'поступает': 7, 'курсы': 7, 'деньгами': 7, 'назначить': 7, 'снимали': 7, 'госуслугах': 7, 'родительской': 7, 'постановлении': 7, 'вижу': 7, 'включая': 7, 'голове': 7, 'расчитывать': 7, 'слышал': 7, 'ножом': 7, 'относительно': 7, 'приходило': 7, 'поступило': 7, 'Ей': 7, 'Сбербанке': 7, 'пыталась': 7, '52': 7, 'Завтра': 7, 'предыдущие': 7, 'разделу': 7, 'Сосед': 7, 'сложно': 7, 'Ему': 7, 'Следователь': 7, 'компанией': 7, '125': 7, 'признание': 7, 'сломал': 7, 'помог': 7, 'ведет': 7, 'пределами': 7, 'отдают': 7, 'избил': 7, 'долевого': 7, 'объясняя': 7, 'уровне': 7, '44': 7, 'Супруга': 7, 'муниципальную': 7, 'необходимость': 7, 'ложные': 7, 'вступил': 7, 'обязаны': 7, '90': 7, 'виновата': 7, 'принципе': 7, 'заключила': 7, 'ходила': 7, 'Справка': 7, 'мер': 7, 'доказывать': 7, 'приобрели': 7, 'цеха': 7, 'заболевание': 7, 'отвечать': 7, 'частью': 7, 'ЧТО': 7, 'отметки': 7, 'инспекцию': 7, 'отправляют': 7, 'потеряла': 7, 'содержанию': 7, 'указали': 7, 'Акт': 7, 'административного': 7, 'нарушении': 7, 'диплом': 7, 'БТИ': 7, 'вред': 7, 'настоящий': 7, 'пугает': 7, 'отчисления': 7, 'уверена': 7, 'пойдёт': 7, 'составлять': 7, 'начислили': 7, 'необходимые': 7, 'финансово': 7, 'пребывания': 7, 'украли': 7, 'старшая': 7, 'следующей': 7, 'границей': 7, 'устроена': 7, 'площадке': 7, 'сделано': 7, 'созаемщиком': 7, 'разбил': 7, 'Собственник': 7, 'удалось': 7, 'списание': 7, 'ук': 7, 'уголовному': 7, 'потере': 7, 'кормильца': 7, 'магазину': 7, 'инвалида': 7, 'газ': 7, 'нуждающиеся': 7, 'управление': 7, 'исполнительном': 7, 'различных': 7, 'приобрела': 7, 'прибыл': 7, 'предоставляется': 7, 'записали': 7, 'подъезда': 7, 'карт': 7, 'разъяснения': 7, 'ДПС': 7, 'изъяли': 7, 'повлияет': 7, 'образ': 7, 'пьет': 7, 'ком': 7, 'удержали': 7, 'инициативе': 7, 'числюсь': 7, 'отпустили': 7, 'Детей': 7, 'севера': 7, 'просьбе': 7, 'произведена': 7, 'как-нибудь': 7, 'служебной': 7, 'возмещать': 7, 'отменен': 7, 'назначено': 7, 'военнослужащего': 7, 'Сотрудник': 7, 'полы': 7, 'виноват': 7, 'доходом': 7, 'сумм': 7, 'сомнения': 7, 'штатном': 7, 'допрос': 7, 'МО': 7, 'Были': 7, 'уведомили': 7, 'адреса': 7, 'отправляет': 7, 'новому': 7, 'выдают': 7, 'Либо': 7, 'информацией': 7, 'наркотики': 7, 'земле': 7, 'сессии': 7, 'равных': 7, 'кухню': 7, 'хозяина': 7, 'законам': 7, 'прокурора': 7, 'учитываются': 7, 'официальная': 7, 'холодильник': 7, 'заключил': 7, '–': 7, 'коэффициент': 7, 'целом': 7, 'учёта': 7, 'возник': 7, 'договоры': 7, 'имуществом': 7, 'ответе': 7, 'людьми': 7, 'Сама': 7, 'хорошую': 7, 'заболела': 7, 'выплачен': 7, 'пропиской': 7, 'игре': 7, 'утра': 7, 'административный': 7, 'региону': 7, 'случая': 7, 'приобретение': 7, 'доказательство': 7, 'январь': 7, 'наложить': 7, 'непосредственно': 7, 'нахождения': 7, 'пойму': 7, 'заберут': 7, 'Ущерб': 7, 'возмещен': 7, 'люблю': 7, 'должностной': 7, 'сделает': 7, 'встала': 7, 'поменяла': 7, 'задания': 7, 'какой-либо': 7, 'ошибка': 7, 'подписания': 7, 'ищет': 7, 'записал': 7, 'региона': 7, 'кстати': 7, 'упал': 7, 'обнаружила': 7, 'совершеннолетия': 7, 'возбудили': 7, 'интернет-магазин': 7, 'предоставила': 7, 'членов': 7, 'выполненных': 7, 'пенсионерка': 7, 'банкротом': 7, 'первая': 7, 'собаки': 7, 'публично': 7, 'машин': 7, 'крышу': 7, 'еду': 7, 'обувь': 7, 'договориться': 7, 'органов': 7, 'отделение': 7, '264.1': 7, 'лекарства': 7, 'произошел': 7, 'свидетелей': 7, 'делала': 7, 'подтверждения': 7, 'защиту': 7, 'полис': 7, 'страховки': 7, 'жилых': 7, 'УПК': 7, 'отсутствии': 7, 'потерпевшего': 7, 'соответствует': 7, 'выплатят': 7, 'жизнью': 7, 'Больничный': 7, 'Фото': 7, 'судебному': 7, 'орган': 7, 'тысячу': 7, 'поступают': 7, 'посмотреть': 7, 'факте': 7, 'надзор': 7, 'смотря': 7, 'попасть': 7, 'операция': 7, 'прачечной': 7, 'подряд': 7, 'вещей': 7, 'расчета': 7, 'общих': 7, 'вакцинации': 7, 'обстоятельствах': 7, '13000': 7, 'СНТ': 7, 'уходе': 7, 'декларации': 7, 'историю': 7, 'исполнительский': 7, 'ВТБ': 7, 'присудил': 7, '47': 7, 'отрицательный': 7, 'бабушке': 7, 'оказался': 7, 'подряда': 7, 'объяснил': 7, 'биржи': 7, 'Интернет': 7, 'детские': 7, 'дисплей': 7, 'ru': 7, 'складе': 7, 'Никакого': 7, 'университет': 7, 'биржу': 7, 'путём': 7, 'районах': 7, 'счете': 7, 'личность': 7, 'просрочка': 6, 'дорогой': 6, 'кап': 6, 'прожили': 6, 'коммуналку': 6, 'продолжает': 6, 'квадратов': 6, 'декретом': 6, 'одни': 6, 'заведено': 6, 'Фактически': 6, 'брали': 6, 'первоначального': 6, 'взноса': 6, 'однокомнатную': 6, 'возбуждения': 6, 'указания': 6, 'претендовала': 6, 'заключал': 6, 'требовали': 6, 'начисляется': 6, 'вне': 6, 'видит': 6, '1999': 6, 'совершения': 6, 'камеры': 6, 'успел': 6, 'собрания': 6, 'принятия': 6, 'расторжение': 6, 'госуслуги': 6, 'приставом': 6, 'снятии': 6, 'закончилось': 6, 'зарегистрированы': 6, 'обращалась': 6, 'старой': 6, 'оформление': 6, 'потерять': 6, 'обеих': 6, 'работах': 6, 'шли': 6, 'детское': 6, 'несовершеннолетние': 6, '15000': 6, 'обременения': 6, 'делам': 6, 'Суда': 6, 'продана': 6, 'досталась': 6, 'своём': 6, 'дворе': 6, 'частную': 6, 'приходят': 6, 'занимает': 6, 'дядя': 6, 'нарушать': 6, 'ИЖС': 6, 'кадастрового': 6, 'соседями': 6, 'происходить': 6, 'Подал': 6, 'Вообще': 6, 'трудовых': 6, 'негде': 6, 'бытовой': 6, 'Интересует': 6, 'плате': 6, 'виновным': 6, '!?': 6, 'четверо': 6, 'выписке': 6, 'электронной': 6, 'Женщина': 6, 'учитываться': 6, 'двум': 6, 'преподавателем': 6, 'сославшись': 6, 'купленную': 6, 'Моей': 6, 'следовательно': 6, 'ВС': 6, 'собственники': 6, 'узнаю': 6, 'внучку': 6, 'акта': 6, 'чисто': 6, 'видов': 6, 'ежегодного': 6, 'личном': 6, '2011': 6, 'обстоятельств': 6, 'Вроде': 6, 'делали': 6, 'подадут': 6, 'подъезде': 6, 'вызывает': 6, 'следствии': 6, 'аварийный': 6, 'Какую': 6, 'МСЭ': 6, 'рабочая': 6, 'прогулы': 6, 'Платить': 6, 'увеличить': 6, 'первым': 6, 'сотрудникам': 6, 'прием': 6, 'Ребёнку': 6, 'погиб': 6, 'выплатой': 6, 'кабинета': 6, 'расторжения': 6, 'ускорить': 6, 'навстречу': 6, 'Министерства': 6, 'приходили': 6, 'Истец': 6, 'итог': 6, 'любом': 6, 'хранение': 6, 'главы': 6, 'График': 6, 'младшего': 6, 'бабушку': 6, 'коммуналке': 6, 'увольнять': 6, 'одежды': 6, 'родственница': 6, 'дальнейшие': 6, 'рассчитали': 6, 'испытательный': 6, 'превышает': 6, 'лечении': 6, 'выплачивал': 6, 'настаивает': 6, 'отделения': 6, 'явку': 6, 'повинной': 6, 'Получила': 6, 'открыли': 6, '4,5': 6, 'служу': 6, 'посадят': 6, 'полное': 6, 'обеспечение': 6, 'образование': 6, 'Договора': 6, 'способ': 6, 'признана': 6, 'аварийной': 6, 'комнатной': 6, 'следующее': 6, 'воинской': 6, 'ДНР': 6, 'составе': 6, 'продажа': 6, 'целевому': 6, 'бумаг': 6, 'ветеран': 6, 'классов': 6, 'отдает': 6, 'трудоустроена': 6, 'отсрочку': 6, 'повестку': 6, 'отпуском': 6, 'договором': 6, 'поступали': 6, 'оплачу': 6, 'родителя': 6, 'предписание': 6, 'написан': 6, 'интересно': 6, 'иных': 6, 'нормам': 6, 'нанимателем': 6, 'левый': 6, 'движения': 6, 'обе': 6, 'далеко': 6, 'ПДД': 6, 'Якобы': 6, 'являемся': 6, 'вступила': 6, 'умершей': 6, 'сокращают': 6, 'занимаюсь': 6, 'подарок': 6, 'продавцу': 6, 'находились': 6, 'всё-таки': 6, 'исполнительным': 6, 'путинские': 6, 'разводимся': 6, 'дождаться': 6, 'своя': 6, 'Раньше': 6, 'головой': 6, 'алкогольном': 6, 'свидетель': 6, 'поздно': 6, 'идее': 6, 'быстрее': 6, 'оформляли': 6, 'глупости': 6, 'Пришёл': 6, 'прописаться': 6, 'муниципального': 6, 'подразделения': 6, 'направить': 6, 'зуб': 6, 'Судья': 6, 'Полиция': 6, 'семейным': 6, 'вызвала': 6, 'стоимостью': 6, 'расселении': 6, 'фонде': 6, 'старого': 6, 'первых': 6, 'нечем': 6, 'высчитывают': 6, 'хозяин': 6, 'давлением': 6, 'оборудование': 6, 'закрыла': 6, 'долгами': 6, 'успела': 6, 'такими': 6, 'ипотечной': 6, 'запрета': 6, 'иные': 6, 'принят': 6, 'Приобрели': 6, 'включили': 6, 'вызвал': 6, 'истёк': 6, 'предложение': 6, 'подарил': 6, 'являться': 6, 'больницы': 6, 'видели': 6, 'пункты': 6, 'тебя': 6, 'днём': 6, '..': 6, 'отзывы': 6, 'принесла': 6, 'водительских': 6, '21.8': 6, 'официальные': 6, 'наркотиков': 6, 'покрою': 6, 'День': 6, 'клевету': 6, 'выйду': 6, '250': 6, 'вовсе': 6, 'несут': 6, 'нотариус': 6, 'подработку': 6, 'граждане': 6, 'вида': 6, 'область': 6, 'начисляться': 6, 'Крыму': 6, 'административном': 6, 'животных': 6, 'автомобилей': 6, 'расписаться': 6, 'необходимости': 6, 'педагога': 6, 'выходной': 6, 'ревизию': 6, 'служебное': 6, '37': 6, 'подходит': 6, 'обязанность': 6, 'запрещает': 6, 'Хотят': 6, 'зрения': 6, '81': 6, 'Права': 6, 'отдадут': 6, 'удержание': 6, 'последнего': 6, 'исполнению': 6, 'подало': 6, 'взрослых': 6, 'записаны': 6, 'прекращении': 6, 'ТД': 6, 'одностороннем': 6, 'общую': 6, 'обвиняют': 6, 'уроков': 6, 'колледж': 6, 'основания': 6, 'возле': 6, 'Надо': 6, 'оценку': 6, 'проведена': 6, 'лишен': 6, 'столько': 6, 'мозга': 6, 'сможем': 6, 'выйдет': 6, 'отправлял': 6, 'аттестацию': 6, 'второму': 6, 'рассматривается': 6, 'займа': 6, 'переписку': 6, 'собаку': 6, 'Можете': 6, 'Вам': 6, 'акте': 6, 'чека': 6, 'привлекался': 6, 'условного': 6, 'быстро': 6, 'пояснил': 6, 'защиты': 6, 'оплачивали': 6, 'длится': 6, 'крайнего': 6, 'газа': 6, 'предупредила': 6, 'институт': 6, 'училась': 6, 'коллег': 6, 'подтверждение': 6, 'страховка': 6, 'собираются': 6, 'сохранения': 6, 'ближе': 6, 'списаны': 6, 'пытаюсь': 6, 'пределах': 6, 'Елена': 6, 'брату': 6, 'периода': 6, 'патент': 6, 'основанием': 6, 'каких-то': 6, 'устная': 6, 'мусора': 6, 'давление': 6, 'возникли': 6, 'третьего': 6, 'экспертизе': 6, 'отметку': 6, 'коллекторов': 6, 'отправки': 6, 'переезд': 6, 'добровольное': 6, 'Биологический': 6, 'усыновлен': 6, 'комиссия': 6, 'сотруднику': 6, 'студентом': 6, 'защитить': 6, 'доставили': 6, 'заведомо': 6, 'Еще': 6, 'свидетелем': 6, 'Китая': 6, 'Мое': 6, 'ссылается': 6, 'получен': 6, 'Тут': 6, 'спросил': 6, 'владения': 6, 'предыдущего': 6, 'малоимущая': 6, 'обман': 6, 'тяжести': 6, 'Первый': 6, 'опасный': 6, 'степени': 6, 'дет': 6, 'общим': 6, 'анализы': 6, 'стен': 6, '16,5': 6, 'взыскивают': 6, 'исполняется': 6, 'закончится': 6, 'приставами': 6, 'мошенничества': 6, 'обманули': 6, 'медицинский': 6, 'пользовалась': 6, 'суды': 6, 'Состою': 6, 'хорошие': 6, 'потери': 6, 'компенсировать': 6, 'летней': 6, 'гражданскому': 6, 'Ничего': 6, 'Севера': 6, 'многодетной': 6, 'бюджетной': 6, 'заключили': 6, 'отдам': 6, 'Написали': 6, 'пользуется': 6, 'Исполнительный': 6, 'учителя': 6, 'исправить': 6, 'свекровь': 6, 'Общая': 6, 'грозят': 6, '7500': 6, 'половиной': 6, 'почтой': 6, 'разговоров': 6, 'подам': 6, 'завести': 6, 'знакомого': 6, 'мирно': 6, 'гаража': 6, 'инспектор': 6, 'предупредив': 6, 'четыре': 6, 'присутствия': 6, 'звонка': 6, 'отбывал': 6, 'психиатра': 6, 'сдаче': 6, 'свадьбы': 6, 'директору': 6, 'дача': 6, 'трёх': 6, 'предусмотрена': 6, 'соглашается': 6, 'небольшая': 6, '18000': 6, 'зафиксировали': 6, 'Ипотеку': 6, 'оплачен': 6, 'знакомых': 6, 'банкротства': 6, 'Судебные': 6, 'начинает': 6, 'интересов': 6, 'графике': 6, 'внесла': 6, 'воскресенье': 6, '1.6': 6, 'прекратить': 6, 'Угрожает': 6, 'определенную': 6, 'ведёт': 6, 'занятия': 6, 'подписью': 6, 'банковскую': 6, 'попался': 6, 'старые': 6, 'М': 6, 'функции': 6, 'газового': 6, 'письменно': 6, 'кража': 6, 'гражданского': 6, 'угодно': 6, 'Крайнего': 6, 'Канаде': 6, 'кухня': 6, 'снимает': 6, 'привлечения': 6, 'статуса': 6, 'воспитании': 6, 'коллекторам': 6, 'успели': 6, 'работником': 6, '75': 6, 'перенести': 6, 'взято': 6, 'этажа': 6, 'недостачи': 6, 'нести': 6, 'персонал': 6, 'третьим': 6, 'колонии': 6, 'скинул': 6, 'продаю': 6, 'сестру': 6, 'ограничений': 6, 'выплачены': 6, 'Почту': 6, 'постановки': 6, 'недостатков': 6, 'из-зарплаты': 6, 'говорю': 6, 'снятие': 6, 'малыша': 6, 'смогли': 6, 'способом': 6, 'осмотр': 6, 'местный': 6, 'исковых': 6, 'сфере': 6, 'охраны': 6, 'результат': 6, 'поступили': 6, 'молодого': 6, 'наказуемо': 6, 'признают': 6, 'окон': 6, 'отдых': 6, 'чтоб': 6, 'выезде': 6, 'Вектор': 6, 'лаборанта': 6, '138.1': 6, 'ю': 6, 'УО': 6, 'угроз': 5, 'прекращение': 5, 'получилась': 5, 'уволена': 5, 'Больше': 5, 'заемщик': 5, 'кражу': 5, 'бизнеса': 5, 'такому': 5, 'взята': 5, 'изменение': 5, 'всяких': 5, 'оплатой': 5, 'свидетеля': 5, 'хозяином': 5, 'разрешает': 5, 'вынесли': 5, 'добро': 5, 'Президента': 5, 'относится': 5, 'отпуску': 5, 'попытка': 5, 'дав': 5, 'недействительным': 5, 'заочное': 5, 'совершеннолетнего': 5, 'расписались': 5, 'смене': 5, 'содержать': 5, 'официальной': 5, 'заполнить': 5, 'отмечался': 5, 'коронавируса': 5, 'уволится': 5, 'проехать': 5, 'двойном': 5, 'положили': 5, 'оставлении': 5, 'пройдёт': 5, 'фактического': 5, 'Верховного': 5, 'решений': 5, 'собственниками': 5, 'виновник': 5, 'ходатайствовать': 5, 'двора': 5, 'сестре': 5, 'ибо': 5, 'пожарной': 5, 'разница': 5, 'ремонте': 5, 'встречи': 5, 'настаивать': 5, 'спрашивает': 5, 'пожаловаться': 5, 'жаловаться': 5, 'продления': 5, 'юридической': 5, 'Прописаны': 5, 'друзей': 5, 'появляются': 5, 'вложен': 5, 'несу': 5, 'соответствуют': 5, 'характер': 5, 'приостановлении': 5, 'уволил': 5, 'супруге': 5, '900': 5, 'неустойку': 5, 'выставили': 5, 'ежемесячной': 5, 'предупреждал': 5, 'предоставляет': 5, 'одобрят': 5, '111': 5, 'совмещению': 5, 'расписание': 5, 'текущего': 5, 'решать': 5, 'усмотрение': 5, 'социальной': 5, 'ответственным': 5, 'Приказ': 5, 'приватизированная': 5, 'выхожу': 5, 'Её': 5, 'реквизиты': 5, 'исковому': 5, 'нуждающимся': 5, 'обосновывая': 5, 'Три': 5, 'самозанятым': 5, '2020-2021': 5, 'оплатят': 5, 'хороших': 5, 'кражи': 5, 'Брал': 5, 'комнатную': 5, 'выставил': 5, 'н': 5, 'Пришли': 5, 'Неужели': 5, 'психолог': 5, 'Необходима': 5, 'штрафом': 5, 'ответственностью': 5, 'обеспечения': 5, 'производилась': 5, 'выдачи': 5, 'проживающий': 5, 'конкретной': 5, 'совместной': 5, 'домашний': 5, 'сиротой': 5, 'переписке': 5, 'лицензию': 5, 'внутреннему': 5, 'ссылка': 5, 'руководства': 5, 'подписывали': 5, 'материальную': 5, 'номеру': 5, 'консультант': 5, 'администратор': 5, 'выбрать': 5, 'скрины': 5, 'претензией': 5, 'подумала': 5, 'ДОУ': 5, 'трудно': 5, 'сделают': 5, '54': 5, 'дочерью': 5, 'Обязательно': 5, 'Младший': 5, '1998': 5, 'прописались': 5, 'вложила': 5, 'подарить': 5, 'мобильный': 5, 'именем': 5, 'придет': 5, 'пути': 5, 'отбыл': 5, 'зоне': 5, 'призналась': 5, 'сексуального': 5, 'объектов': 5, 'маленький': 5, 'выдавать': 5, 'врачу': 5, 'повесили': 5, 'Сможет': 5, 'ежемесячные': 5, 'Приобрела': 5, 'отправлен': 5, 'Ты': 5, 'фраза': 5, 'предупреждения': 5, 'Взят': 5, 'Р': 5, 'Будут': 5, 'высчитать': 5, 'Развелись': 5, 'аварийное': 5, 'сарай': 5, 'сдавали': 5, 'декларацию': 5, 'штрафов': 5, 'полицией': 5, 'Понимаю': 5, 'Летом': 5, 'Доли': 5, 'финансовый': 5, 'задать': 5, 'копия': 5, 'агенство': 5, 'городской': 5, 'возрасту': 5, 'учился': 5, 'направлению': 5, 'заблокировал': 5, 'побои': 5, 'наследник': 5, 'подтверждает': 5, 'ушли': 5, 'число': 5, 'очно': 5, '100.000': 5, 'сигнал': 5, 'беру': 5, 'указав': 5, 'практика': 5, 'старую': 5, 'приезду': 5, 'военном': 5, 'билете': 5, 'занимался': 5, 'пытались': 5, 'пункту': 5, 'президента': 5, 'непонятным': 5, 'жильцы': 5, 'прописанных': 5, 'новым': 5, 'выписана': 5, 'включен': 5, 'Тот': 5, 'Тем': 5, 'воспитывает': 5, 'переводиться': 5, 'составления': 5, 'руль': 5, 'опекунство': 5, 'зарплатный': 5, 'обычный': 5, 'квалификации': 5, 'техникума': 5, 'ограничили': 5, 'твёрдую': 5, 'полного': 5, 'держать': 5, 'женщине': 5, 'стоим': 5, 'предмет': 5, 'жалобе': 5, 'сохранить': 5, 'внучка': 5, 'женщиной': 5, 'Начал': 5, 'открыто': 5, 'пытаются': 5, 'опьянении': 5, 'повреждения': 5, 'вождение': 5, 'Умерла': 5, 'отчим': 5, 'полагается': 5, 'возражение': 5, 'Отношения': 5, 'рода': 5, 'предоставлено': 5, 'неотгуленные': 5, 'извещение': 5, 'мальчик': 5, 'хозяева': 5, 'выставила': 5, 'села': 5, 'территория': 5, 'напротив': 5, 'участки': 5, 'кадастровый': 5, 'СПАСИБО': 5, 'кровлю': 5, 'многоквартирного': 5, 'прекращено': 5, 'нахождение': 5, 'правила': 5, 'пользовался': 5, 'возврату': 5, 'вычета': 5, 'сертификата': 5, 'капиталом': 5, 'переездом': 5, 'денежную': 5, 'Исходя': 5, 'боится': 5, 'справкой': 5, 'закрывать': 5, 'ответы': 5, 'благополучно': 5, 'отличается': 5, 'иной': 5, 'родственник': 5, 'списка': 5, 'болезней': 5, 'просьбу': 5, 'продолжают': 5, 'отсутствуют': 5, 'Федерального': 5, 'должностных': 5, 'приговору': 5, 'Данный': 5, 'СК': 5, 'запросы': 5, 'ходил': 5, 'Тинькофф': 5, 'переводы': 5, 'переводов': 5, 'маленьких': 5, 'ссылкой': 5, 'перейти': 5, 'Пришел': 5, 'сторона': 5, 'эксперт': 5, 'условием': 5, 'гражданам': 5, 'некуда': 5, 'вычетом': 5, 'подпишу': 5, 'отучилась': 5, 'обратить': 5, 'задолженностей': 5, 'появятся': 5, 'определённого': 5, 'опираясь': 5, '230': 5, 'самим': 5, 'установку': 5, 'ряд': 5, 'советом': 5, 'разделили': 5, 'забор': 5, 'отработанные': 5, 'Соседка': 5, 'ночное': 5, 'позвонить': 5, 'доставки': 5, 'завод': 5, 'продолжать': 5, 'образовании': 5, 'Квартиру': 5, 'МЕНЯ': 5, 'НА': 5, 'МНЕ': 5, 'середине': 5, 'накопился': 5, 'итогу': 5, 'оператором': 5, 'Отработала': 5, 'смен': 5, 'заявки': 5, 'дополнительный': 5, 'потратила': 5, 'дате': 5, 'одобрили': 5, 'транспортных': 5, 'детских': 5, 'пяти': 5, 'выговор': 5, 'написания': 5, 'поликлинику': 5, 'платим': 5, 'муниципальное': 5, 'приватизация': 5, 'плана': 5, 'плиты': 5, 'годах': 5, 'штата': 5, 'прогул': 5, 'совершить': 5, 'бывшему': 5, 'официальную': 5, 'рубля': 5, 'закрыто': 5, 'Проживаем': 5, 'положительные': 5, '400000': 5, 'мошенничестве': 5, '165': 5, 'сокращение': 5, 'которыми': 5, 'первые': 5, 'качество': 5, 'продукта': 5, 'потребителей': 5, 'покупателя': 5, 'приобретен': 5, 'приказы': 5, 'независимо': 5, 'Начальство': 5, 'простоя': 5, 'команду': 5, 'осуществляется': 5, 'теми': 5, 'удаленно': 5, 'ночью': 5, 'состояние': 5, 'заставили': 5, 'роддоме': 5, 'каков': 5, 'учётом': 5, 'погибшего': 5, 'Возможен': 5, 'ошибке': 5, 'нуждающихся': 5, 'лишат': 5, 'непонятно': 5, 'вычитают': 5, 'продукции': 5, 'Заказала': 5, 'Задолженность': 5, 'лежал': 5, 'служить': 5, 'ознакомлен': 5, 'подобное': 5, '2-3': 5, 'кредитом': 5, 'папе': 5, 'забором': 5, 'приема': 5, 'Остановили': 5, 'тюрьму': 5, 'ваша': 5, 'водительское': 5, 'Идти': 5, 'призвать': 5, 'отношению': 5, 'аморальный': 5, 'отправляли': 5, 'мошенничеством': 5, 'совместных': 5, 'сеансов': 5, 'процедуры': 5, 'процедуру': 5, 'незаконным': 5, 'животное': 5, 'животного': 5, 'явилась': 5, 'обучению': 5, 'Однажды': 5, 'военную': 5, 'Сначала': 5, 'выписала': 5, 'судье': 5, 'сотрудником': 5, 'рецидив': 5, 'март': 5, 'Звонят': 5, 'сдавал': 5, 'потребовали': 5, 'упала': 5, 'участников': 5, 'сведений': 5, 'определённый': 5, 'погасила': 5, 'перешел': 5, '4-х': 5, 'филиал': 5, 'тяжело': 5, '5,5': 5, 'перерасчет': 5, 'вызывают': 5, 'удочерить': 5, 'временная': 5, 'остатки': 5, 'номером': 5, 'Магазин': 5, 'возникает': 5, 'заставит': 5, 'сегодняшнего': 5, 'посылка': 5, 'заказала': 5, 'доставка': 5, 'продавцы': 5, 'предупредил': 5, 'снят': 5, 'взятия': 5, 'направили': 5, 'статусом': 5, 'замки': 5, 'жилец': 5, 'съехали': 5, 'переживаю': 5, 'запросить': 5, 'подозрение': 5, 'материал': 5, 'начисляют': 5, 'подрядчиком': 5, 'условное': 5, 'учитывается': 5, 'Развожусь': 5, 'платёж': 5, 'Размер': 5, 'сто': 5, 'дважды': 5, 'предоставлены': 5, 'проработал': 5, 'культуры': 5, 'департамент': 5, 'ДО': 5, 'план': 5, 'шёл': 5, 'текст': 5, 'Даже': 5, 'покупателей': 5, 'инженер': 5, 'оказывает': 5, 'покупает': 5, 'управляющей': 5, 'страхования': 5, 'ежемесячных': 5, 'проблеме': 5, 'республики': 5, 'льготного': 5, 'языка': 5, 'вычитать': 5, 'усыновить': 5, '77': 5, 'заработная': 5, 'производственной': 5, 'выплачиваются': 5, 'земельным': 5, 'хозяйства': 5, 'услугами': 5, 'суть': 5, 'затраты': 5, 'открывать': 5, 'правило': 5, 'начну': 5, 'периоды': 5, 'перевестись': 5, '65': 5, 'наследника': 5, 'готовы': 5, 'разрешить': 5, 'сдаю': 5, 'обнаружено': 5, 'кухне': 5, 'камни': 5, 'ФКУ': 5, 'направлен': 5, 'показало': 5, 'вступает': 5, 'зашла': 5, 'сломала': 5, 'несчастного': 5, 'ревизия': 5, 'доплата': 5, 'ВУЗ': 5, 'появился': 5, 'август': 5, 'Объясните': 5, 'трём': 5, 'режиме': 5, 'Автор': 5, '34': 5, 'горячую': 5, 'прошли': 5, 'печати': 5, 'подождать': 5, 'удерживает': 5, 'Разводимся': 5, 'системы': 5, 'супругами': 5, '2/2': 5, 'допустим': 5, 'службой': 5, 'выходила': 5, 'Прописка': 5, 'бухгалтера': 5, 'нажитого': 5, 'прописала': 5, 'личных': 5, 'отдаст': 5, 'отдаёт': 5, 'сайтов': 5, 'приходил': 5, 'участкового': 5, 'пить': 5, 'желаю': 5, 'кармана': 5, 'подписано': 5, 'Позвонила': 5, 'Данное': 5, 'просьбы': 5, 'найдут': 5, 'письменного': 5, 'письменной': 5, 'всячески': 5, 'свекрови': 5, 'играл': 5, 'заработать': 5, 'передаче': 5, 'деда': 5, 'достался': 5, 'расстались': 5, '40000': 5, 'дневной': 5, 'точки': 5, 'приемной': 5, 'накопились': 5, 'Наша': 5, 'задание': 5, 'установления': 5, 'связанные': 5, 'Старший': 5, 'объёме': 5, 'арестовал': 5, 'родилась': 5, 'Попал': 5, 'пострадавший': 5, 'снимаю': 5, 'Москвы': 5, 'машиной': 5, 'завтраками': 5, 'присылал': 5, 'покупок': 5, 'Телефон': 5, 'Чек': 5, 'неустойки': 5, 'мошенники': 5, 'Хочет': 5, 'храню': 5, 'восстановление': 5, 'второе': 5, 'угрозами': 5, 'действительности': 5, 'съемной': 5, 'сожителем': 5, 'денежного': 5, 'декабрь': 5, 'сократили': 5, 'парнем': 5, 'требованиями': 5, 'проживающих': 5, 'Семья': 5, 'трудоспособности': 5, 'исковом': 5, 'выполнить': 5, 'твёрдой': 5, 'Оба': 5, 'края': 5, 'государственной': 5, 'Руководитель': 5, 'третьей': 5, 'управляющий': 5, 'спросила': 5, 'продан': 5, 'откажут': 5, 'связаться': 5, 'городом': 5, 'подключение': 5, 'c': 5, 'личную': 5, 'дочки': 5, 'предлагали': 5, '57': 5, 'найду': 5, 'подпишет': 5, 'трудовые': 5, 'уголовная': 5, 'случаев': 5, 'законодательства': 5, 'https': 5, 'подсказать': 5, 'заблокированы': 5, 'Севастополе': 5, 'представления': 5, 'шум': 5, 'командир': 5, 'журнал': 5, 'зарегистрировано': 5, 'пр': 5, 'дедушки': 5, 'действиями': 5, 'Оплата': 5, 'поехала': 5, 'боль': 5, 'перечислили': 5, 'истек': 5, 'поменял': 5, 'привлечение': 5, 'Условия': 5, 'категория': 5, 'проработала': 5, 'перешла': 5, 'поступок': 5, 'кодекс': 5, 'какая-то': 5, '39': 5, 'деяния': 5, 'квартал': 5, 'списания': 5, 'сирот': 5, 'заплачу': 5, '157': 5, 'массаж': 5, 'Позже': 5, 'журнале': 5, 'провел': 5, 'юристу': 5, 'диагноз': 5, 'объяснения': 5, 'фельдшер': 5, 'оружия': 5, 'следователя': 5, 'ближайшее': 5, 'бесплатную': 5, 'получая': 5, 'прибыль': 5, 'используя': 5, 'карточки': 5, 'начался': 5, 'ТСЖ': 5, 'избивает': 5, 'исп': 5, 'законным': 5, 'зарплатной': 5, 'высчитывали': 5, 'банковские': 5, 'обязательной': 5, 'автомобиле': 5, 'скоростью': 5, 'гражданами': 5, 'должников': 5, 'ставить': 5, 'обеспечить': 5, 'назначена': 5, 'минимальное': 5, 'пользуюсь': 5, 'ключ': 5, 'записать': 5, 'Республике': 5, 'нуждающимися': 5, 'знакомый': 5, 'приказов': 5, 'опеке': 5, 'сайтах': 5, '26000': 5, 'устроить': 5, 'оказании': 5, 'принимал': 5, 'факты': 5, 'общалась': 5, 'эксперта': 5, 'основаниях': 5, 'скорую': 5, 'почему-то': 5, 'убрали': 5, 'предлогом': 5, 'осмотра': 5, 'состояли': 5, 'причина': 5, 'удовлетворить': 5, 'ликвидации': 5, 'Дорогие': 5, 'подруги': 5, 'границы': 5, 'совет': 5, 'проходят': 5, 'арестован': 5, 'оригинальный': 5, 'делается': 5, 'направила': 5, 'многие': 5, 'комплектующие': 5, 'помогают': 5, 'иностранного': 5, 'оказание': 5, 'телефоны': 5, 'городах': 5, 'намерен': 5, 'сельской': 5, 'основному': 5, 'заказал': 5, 'нарушает': 5, 'прохождение': 5, 'расселение': 5, 'стадии': 5, 'волос': 5, 'будущей': 5, 'Произошла': 5, 'прочитала': 5, 'обратил': 5, 'устраивалась': 5, 'гипс': 5, 'валюты': 5, 'судебной': 5, 'программ': 5, 'вахтой': 5, '119': 5, 'приёме': 5, 'дабы': 5, 'болела': 5, 'половины': 5, 'Покупатель': 5, 'скорой': 5, 'риэлтор': 5, 'любую': 5, 'возможен': 5, 'массовой': 5, 'уволит': 5, 'алкоголя': 5, 'табель': 5, 'дисплея': 5, 'Сказала': 5, 'вывоз': 5, 'средний': 5, '11000': 5, 'фамилией': 5, 'судебную': 5, 'снегоход': 5, 'ОСП': 5, 'вконтакте': 5, '100000': 5, 'ГТС': 5, 'изъятия': 5, 'ГИТ': 5, 'покупателями': 5, 'совершила': 4, 'тюремный': 4, 'расчетный': 4, 'ситуаций': 4, 'Ноябрьск': 4, 'какое-нибудь': 4, 'полутора': 4, 'кредитного': 4, 'содержал': 4, 'понимает': 4, 'совершили': 4, 'уходя': 4, 'браков': 4, 'оформлял': 4, 'документально': 4, 'закреплено': 4, 'Вышла': 4, 'выходом': 4, 'батареи': 4, 'квартирном': 4, 'заказным': 4, 'уведомлением': 4, 'текущий': 4, 'выслуги': 4, 'видеонаблюдения': 4, 'завершения': 4, 'подтверждающих': 4, 'признано': 4, 'основаниям': 4, 'установленном': 4, 'кредитных': 4, 'Росвоенипотеки': 4, 'состоялся': 4, '68': 4, 'квадратных': 4, 'жилая': 4, 'поставила': 4, 'заберет': 4, 'биологическим': 4, 'бланк': 4, 'Н': 4, 'нотариальное': 4, 'метры': 4, 'Уволилась': 4, 'совместителем': 4, 'Подавать': 4, 'СВО': 4, 'оплачиваются': 4, 'Данная': 4, 'торги': 4, 'процентах': 4, 'среди': 4, 'осуждён': 4, 'нелегально': 4, 'настоящая': 4, 'забора': 4, 'оскорблял': 4, 'угрозу': 4, 'проверила': 4, 'ознакомления': 4, 'родительском': 4, 'установлении': 4, 'подобные': 4, 'надоело': 4, 'Потому': 4, 'силы': 4, 'сверху': 4, 'Участковый': 4, 'дерево': 4, 'обеспечивать': 4, 'связанных': 4, 'Между': 4, 'холодильника': 4, '2024': 4, 'производственную': 4, 'ушиб': 4, 'Неделю': 4, 'Долго': 4, '112': 4, 'строгого': 4, 'восстанавливать': 4, 'увольняется': 4, 'СПО': 4, 'указанный': 4, 'минимальную': 4, 'замечаний': 4, '319': 4, 'уплату': 4, 'длительное': 4, 'образец': 4, 'Увольняюсь': 4, 'предельному': 4, 'Брак': 4, 'кабинете': 4, 'госуслуг': 4, 'обнаружения': 4, 'поехали': 4, 'сели': 4, 'сел': 4, 'никакие': 4, 'председатель': 4, 'охрана': 4, 'частые': 4, '38000': 4, 'листе': 4, 'заболеванию': 4, 'открывают': 4, 'говоря': 4, 'обвинить': 4, 'акту': 4, 'плане': 4, 'Вправе': 4, 'документации': 4, 'предварительно': 4, 'определенной': 4, 'проект': 4, 'областной': 4, 'ногу': 4, 'сделана': 4, 'некачественно': 4, 'выгоднее': 4, 'объявили': 4, 'премию': 4, 'рабочей': 4, 'соцсети': 4, 'колледжа': 4, 'невыполнении': 4, 'автор': 4, 'проведение': 4, 'разбить': 4, 'моментов': 4, 'остальную': 4, 'связался': 4, 'передумала': 4, 'моменты': 4, 'квитанция': 4, 'письменную': 4, 'услуга': 4, 'куртку': 4, 'следы': 4, 'носки': 4, 'посмотрел': 4, 'соседнем': 4, 'приложить': 4, 'съезжать': 4, 'жилплощади': 4, 'временного': 4, 'Устроился': 4, 'устроили': 4, 'комитет': 4, '1988': 4, 'станции': 4, 'условиям': 4, 'коллеги': 4, 'готовит': 4, 'оплачиваем': 4, 'кассы': 4, 'ПАО': 4, 'врачей': 4, 'повесить': 4, 'ведомости': 4, 'хозяйка': 4, 'камер': 4, 'единовременно': 4, 'Платил': 4, 'Вызвали': 4, 'Решил': 4, 'Письмо': 4, 'забирают': 4, 'законной': 4, 'мобилизации': 4, 'нежилое': 4, 'свыше': 4, 'налоговая': 4, 'представились': 4, 'продолжить': 4, 'ровно': 4, 'разбирательств': 4, 'Продаем': 4, 'переживает': 4, 'своевременно': 4, 'поддержку': 4, 'возможны': 4, 'указ': 4, 'ходят': 4, 'Постоянно': 4, 'сносу': 4, 'вступлением': 4, 'соотв': 4, '53': 4, 'разводится': 4, 'начальных': 4, 'чужого': 4, 'нервы': 4, 'рабочим': 4, 'очередном': 4, 'поездки': 4, 'военкомате': 4, 'удовлетворении': 4, 'четко': 4, 'Сбербанка': 4, '1,3': 4, 'пойдет': 4, 'обычная': 4, 'открытии': 4, 'рубежом': 4, 'открытия': 4, 'любые': 4, 'Проконсультируйте': 4, 'дорога': 4, 'знают': 4, 'узнают': 4, 'истечению': 4, 'пропуск': 4, 'заходить': 4, 'лице': 4, 'продлевается': 4, 'распространением': 4, 'государственном': 4, 'смертью': 4, 'продление': 4, 'ВВК': 4, 'столкнулась': 4, 'поворота': 4, 'Дорога': 4, 'фактом': 4, 'конкретных': 4, 'забыть': 4, 'родственниками': 4, 'выгодно': 4, 'нуждается': 4, 'бесплатный': 4, 'утверждал': 4, 'переданы': 4, 'соцзащите': 4, 'здоровье': 4, 'больничные': 4, 'сервис': 4, 'прихожу': 4, 'оператор': 4, 'управлением': 4, 'голову': 4, 'улучшение': 4, 'предупреждение': 4, 'наниматель': 4, 'гостях': 4, 'слышу': 4, 'скажу': 4, 'уведомил': 4, 'Около': 4, 'нанёс': 4, 'сбербанке': 4, 'освободить': 4, 'глава': 4, 'Иван': 4, 'накопилась': 4, 'руководителем': 4, 'салоне': 4, 'внес': 4, 'спишут': 4, 'запрете': 4, 'числах': 4, 'вторым': 4, 'запросили': 4, 'Участок': 4, 'сараи': 4, 'расстоянии': 4, 'попытке': 4, 'сарая': 4, 'Взяли': 4, 'вокруг': 4, 'клиентом': 4, 'обойтись': 4, 'заведение': 4, 'кооперативном': 4, 'капитальный': 4, 'захочет': 4, 'главной': 4, 'стояли': 4, 'сбил': 4, 'подана': 4, 'взысканию': 4, 'Существует': 4, 'производственная': 4, 'заключению': 4, 'производил': 4, 'команды': 4, 'проверил': 4, 'налогового': 4, 'описать': 4, 'печь': 4, 'справляюсь': 4, 'Часть': 4, 'еë': 4, 'страну': 4, 'отсрочки': 4, 'реальные': 4, 'средствами': 4, 'прежнему': 4, 'переход': 4, 'моральной': 4, 'игнорируют': 4, 'участвующим': 4, 'приложение': 4, 'лимит': 4, '60000': 4, 'пользовались': 4, 'Проходит': 4, 'владельцем': 4, 'Выяснилось': 4, 'сделаны': 4, 'подан': 4, 'разбирательство': 4, 'определении': 4, 'личности': 4, '115': 4, 'комиссий': 4, 'рождён': 4, 'вступит': 4, 'мере': 4, 'экспертиза': 4, 'объем': 4, 'чеков': 4, 'регистрировать': 4, 'объяснительной': 4, 'Имущество': 4, 'последующем': 4, 'оштрафовали': 4, 'правами': 4, 'подмену': 4, 'поделили': 4, 'служит': 4, 'перенесли': 4, 'Развелась': 4, 'претендуем': 4, 'написаны': 4, 'бракоразводный': 4, 'отработанному': 4, 'Дальше': 4, 'Устраиваюсь': 4, 'снижением': 4, 'финансовыми': 4, 'проблемами': 4, 'Утверждают': 4, 'придут': 4, 'подробнее': 4, 'организовать': 4, 'охрану': 4, 'силами': 4, 'условие': 4, 'выпивает': 4, 'уборщицей': 4, 'спрашивал': 4, 'инструмент': 4, 'ветхий': 4, 'ап': 4, 'графика': 4, 'Выдали': 4, 'добрый': 4, 'крайнем': 4, 'Помоги': 4, 'устраиваться': 4, 'останусь': 4, 'договоренности': 4, 'вывезти': 4, 'отказы': 4, 'приобретала': 4, 'совместный': 4, 'Отчим': 4, 'коробка': 4, 'Киргизии': 4, 'миграционной': 4, '64': 4, 'крайне': 4, 'иду': 4, 'хожу': 4, 'речи': 4, 'приступить': 4, 'потеряю': 4, 'заблуждение': 4, 'сообщений': 4, 'основную': 4, 'ссылки': 4, 'посоветуете': 4, 'площадках': 4, 'Эл': 4, 'границах': 4, 'пунктов': 4, 'последствий': 4, 'населения': 4, 'вины': 4, 'способы': 4, 'оповещения': 4, 'подъёмные': 4, 'начало': 4, 'Вышел': 4, 'шесть': 4, 'Должно': 4, 'присутствовала': 4, 'актов': 4, 'мотор': 4, 'сделан': 4, 'уточню': 4, 'безработная': 4, 'экипаж': 4, 'внесли': 4, 'формулировкой': 4, 'последним': 4, 'заработке': 4, 'ошибками': 4, 'связалась': 4, 'алгоритм': 4, 'арбитражный': 4, 'считают': 4, 'разрешила': 4, '42': 4, 'Соня': 4, 'юр': 4, 'переселения': 4, 'гг': 4, 'переселение': 4, 'пределы': 4, 'уголовным': 4, 'делом': 4, 'заведующей': 4, 'рожать': 4, 'врачи': 4, 'больничным': 4, 'дорогая': 4, 'маршрут': 4, 'уведомила': 4, 'Закон': 4, 'регистрационного': 4, 'районного': 4, 'травмы': 4, 'использован': 4, 'отдавала': 4, 'спиртное': 4, 'Товар': 4, 'разницу': 4, 'ПО': 4, 'собственного': 4, 'отдельного': 4, 'толкнул': 4, 'зашёл': 4, 'Оказалось': 4, 'лежу': 4, 'Каков': 4, 'общие': 4, 'семейную': 4, 'воспитания': 4, 'учёбы': 4, 'вдвоем': 4, 'начнут': 4, 'заблокировали': 4, 'выходил': 4, 'верну': 4, 'затрат': 4, 'общеобразовательной': 4, 'дошло': 4, 'Куплена': 4, 'забирали': 4, 'пустует': 4, 'командировки': 4, 'ездить': 4, 'даче': 4, 'траву': 4, 'болеют': 4, 'заблокировала': 4, 'везде': 4, 'ведётся': 4, 'Заказывала': 4, 'переводила': 4, 'отработка': 4, 'сертификаты': 4, 'нагрузка': 4, 'браку': 4, 'первому': 4, '318': 4, 'продлевать': 4, 'найм': 4, 'переезжать': 4, 'проводил': 4, 'определением': 4, 'курса': 4, 'набежали': 4, 'самовольно': 4, 'причиной': 4, 'горячей': 4, 'куплено': 4, 'откажется': 4, '86': 4, 'прислать': 4, 'удостоверения': 4, 'выписал': 4, 'Ч': 4, 'жалуются': 4, 'пожар': 4, 'ИЛ': 4, 'финансовой': 4, 'принудительно': 4, 'заявить': 4, 'института': 4, 'вряд': 4, 'счётчик': 4, 'несовершеннолетним': 4, 'рассмотреть': 4, 'Академии': 4, 'последовательность': 4, 'обязательном': 4, 'внесении': 4, 'ветеринарные': 4, 'поставлено': 4, '2008': 4, 'отсудила': 4, 'выделили': 4, 'клиента': 4, 'Мною': 4, 'услугу': 4, 'подписан': 4, 'выплачивала': 4, 'печать': 4, 'впоследствии': 4, 'проведено': 4, 'оказаться': 4, 'несёт': 4, 'школа': 4, 'парке': 4, 'становится': 4, 'регулярно': 4, '132': 4, 'совместительство': 4, 'признаю': 4, 'состоял': 4, 'займам': 4, 'последняя': 4, 'страховку': 4, 'переносе': 4, 'листом': 4, 'последующие': 4, 'теряю': 4, 'Аргументируя': 4, 'УКРФ': 4, 'освободили': 4, 'отчёт': 4, 'коллегу': 4, 'запретить': 4, 'ситуациях': 4, 'ссылаются': 4, 'построили': 4, 'формально': 4, 'рождение': 4, 'доплату': 4, 'внутри': 4, 'расчётные': 4, 'закрыта': 4, 'Сделали': 4, 'отпускает': 4, 'собрала': 4, 'запретила': 4, 'оставит': 4, 'потребовала': 4, 'страховую': 4, 'заберу': 4, 'решит': 4, 'друзьям': 4, 'возвращаться': 4, 'исправительные': 4, 'приедет': 4, 'БМ': 4, 'БЖ': 4, 'чеке': 4, 'Написано': 4, 'опротестовать': 4, 'долгом': 4, 'снимут': 4, '76': 4, 'отработав': 4, 'Жили': 4, 'устроил': 4, 'требуются': 4, 'реабилитации': 4, 'писали': 4, 'выдадут': 4, 'межевание': 4, 'прошлый': 4, 'медосвидетельствование': 4, 'кухни': 4, 'дочерей': 4, 'телевизора': 4, 'начальнику': 4, 'самую': 4, 'открытую': 4, 'следователю': 4, 'освидетельствования': 4, 'получали': 4, '24000': 4, 'рассказать': 4, 'потерпевшая': 4, 'маленького': 4, 'кому-то': 4, 'трёхкомнатной': 4, 'арестованы': 4, 'письме': 4, 'Земельный': 4, 'отменено': 4, 'совокупности': 4, 'др': 4, 'условном': 4, 'представление': 4, 'преступлений': 4, 'поступление': 4, 'сборы': 4, 'пояснили': 4, 'Займом': 4, 'Займ': 4, 'заведут': 4, 'Доход': 4, '264': 4, 'платно': 4, 'физической': 4, 'снег': 4, 'жалоба': 4, 'специалист': 4, 'опасно': 4, 'объяснили': 4, 'здание': 4, 'Сразу': 4, 'старая': 4, 'попытался': 4, 'оформленной': 4, 'устно': 4, 'вызовет': 4, 'выполняет': 4, 'собрал': 4, 'выгоды': 4, 'приобрёл': 4, 'ДКП': 4, 'объявление': 4, 'оформляла': 4, 'семейного': 4, 'бюджета': 4, 'ковидом': 4, 'судима': 4, 'обязали': 4, 'транспорт': 4, 'хотите': 4, 'Сложилась': 4, 'предыдущих': 4, 'ведения': 4, 'Друг': 4, 'заблокирована': 4, 'обманул': 4, 'несогласия': 4, 'Отказ': 4, 'крупной': 4, 'объявления': 4, 'нарушаю': 4, 'ездит': 4, 'осмотре': 4, 'ванную': 4, 'пишите': 4, 'нарушениями': 4, 'зная': 4, 'предпринимателя': 4, 'помещением': 4, 'предыдущей': 4, 'просрочку': 4, 'судиться': 4, 'выиграла': 4, 'послужить': 4, 'выставить': 4, 'коллектива': 4, 'приложения': 4, 'Организация': 4, 'попробовать': 4, 'оценка': 4, 'многоквартирный': 4, 'выносит': 4, 'окончено': 4, 'предоставлен': 4, 'отдаю': 4, 'минимально': 4, 'линию': 4, 'принести': 4, 'полагаются': 4, 'дальнейшей': 4, 'Сломался': 4, 'остается': 4, 'подозревают': 4, 'приобретенная': 4, 'ночные': 4, 'трубы': 4, 'опыта': 4, 'уплачивать': 4, 'товарный': 4, 'делиться': 4, 'использовании': 4, 'сняты': 4, 'посчитал': 4, '12000': 4, 'конверте': 4, 'заявляет': 4, 'руководству': 4, 'кум': 4, 'устроится': 4, 'пропал': 4, 'объясняю': 4, 'участковому': 4, 'показывать': 4, 'встречались': 4, 'отказываться': 4, 'полагаю': 4, 'вывели': 4, 'небольшое': 4, 'процессуального': 4, 'какой-нибудь': 4, 'переходит': 4, 'поиске': 4, 'ежемесячный': 4, 'отозвала': 4, 'приедут': 4, 'обеда': 4, 'нашёл': 4, 'уточнил': 4, 'мировое': 4, 'исполнитель': 4, 'младшему': 4, 'четверых': 4, 'кизо': 4, 'мэрии': 4, 'жители': 4, 'Те': 4, 'НО': 4, 'присутствует': 4, 'переведена': 4, 'Главный': 4, 'сообщества': 4, 'сетей': 4, 'выезда': 4, 'малолетних': 4, 'подошли': 4, 'уголовных': 4, 'вызывали': 4, 'явно': 4, 'Угрожают': 4, 'подписей': 4, 'выиграть': 4, 'приватизацию': 4, 'расти': 4, 'закроют': 4, 'паспортные': 4, 'обещает': 4, 'пострадавшим': 4, 'летняя': 4, 'настраивает': 4, 'автомобилю': 4, 'пособием': 4, 'товаром': 4, 'вывести': 4, 'сходить': 4, 'студентка': 4, 'выполнила': 4, 'приобретён': 4, 'сироте': 4, 'словам': 4, 'одиночкой': 4, 'отправлены': 4, 'посуду': 4, 'замок': 4, 'записана': 4, 'устройстве': 4, 'Писала': 4, 'Феникс': 4, 'ПФ': 4, 'курить': 4, 'курит': 4, 'понести': 4, 'квартирах': 4, '01.01.2020': 4, 'Читала': 4, 'уборку': 4, 'рецепт': 4, 'болит': 4, 'возраст': 4, 'встречное': 4, 'пугают': 4, 'племянник': 4, 'организациях': 4, 'ответчику': 4, 'апрель': 4, 'сентябрь': 4, 'кухонный': 4, 'поставки': 4, 'фасады': 4, 'расписывались': 4, 'Узбекистана': 4, 'отчет': 4, 'вложили': 4, 'авария': 4, 'безопасность': 4, 'утверждение': 4, 'мин': 4, 'совета': 4, 'психику': 4, 'перечисляет': 4, 'сохранились': 4, 'студента': 4, 'влияет': 4, 'совместная': 4, 'положений': 4, 'заявлять': 4, 'рос': 4, 'имеющая': 4, 'улучшения': 4, 'существуют': 4, 'развёлся': 4, 'аналогичное': 4, '69': 4, 'объеме': 4, 'Приехал': 4, 'высшее': 4, 'посёлке': 4, 'дознаватель': 4, 'законного': 4, 'совершено': 4, 'иным': 4, 'защищать': 4, 'перевел': 4, 'преступлением': 4, 'временные': 4, '105': 4, 'травмпункт': 4, 'значения': 4, 'болеет': 4, 'передается': 4, 'велась': 4, 'мероприятия': 4, 'льгот': 4, 'вк': 4, 'Знаю': 4, 'разделения': 4, 'оповестили': 4, 'наложил': 4, 'подтвердили': 4, 'менеджера': 4, 'Кстати': 4, 'особенно': 4, 'нечего': 4, 'временную': 4, 'должностные': 4, 'родного': 4, 'приравненных': 4, 'комнат': 4, 'остаются': 4, 'баланс': 4, 'усыновления': 4, 'имеющий': 4, 'Дата': 4, '3-4': 4, 'продавца-консультанта': 4, 'судили': 4, 'пожертвования': 4, 'Зарплата': 4, 'заметила': 4, 'надпись': 4, 'увидели': 4, 'подлог': 4, 'расписался': 4, 'проверка': 4, 'безработного': 4, 'предъявления': 4, 'толку': 4, 'назначение': 4, 'обращались': 4, 'младшей': 4, 'Органы': 4, 'письменный': 4, 'запустить': 4, 'Плюс': 4, 'уровень': 4, 'позволяет': 4, 'характеристики': 4, 'страховая': 4, 'Находясь': 4, 'друзья': 4, 'угрожали': 4, 'Получу': 4, 'применить': 4, 'назначен': 4, 'неиспользованные': 4, 'ноябрь': 4, 'филиала': 4, 'техническим': 4, 'подключения': 4, 'этаж': 4, 'документе': 4, 'работающая': 4, 'зачисления': 4, 'действующим': 4, 'выясняется': 4, 'оформленный': 4, 'честно': 4, 'Вся': 4, 'начинают': 4, 'большого': 4, 'подделка': 4, 'кассира': 4, 'контроля': 4, 'жалобой': 4, 'продают': 4, 'автокредит': 4, 'скидку': 4, 'хочешь': 4, 'дачи': 4, 'заставил': 4, 'исполнителя': 4, 'коробке': 4, 'P': 4, 'прекратил': 4, 'осужденного': 4, 'пересчитать': 4, 'пунктах': 4, 'ежедневно': 4, 'подписываю': 4, 'условиями': 4, 'организаций': 4, 'летний': 4, 'споров': 4, 'применения': 4, 'возвращает': 4, 'пандемией': 4, 'удаленную': 4, 'куплю': 4, 'аккаунта': 4, 'указанных': 4, 'отозвать': 4, 'неделе': 4, 'порнографического': 4, 'Собственно': 4, 'фиксированной': 4, 'сгорел': 4, 'смотрел': 4, 'приватизировали': 4, 'повесткой': 4, 'главным': 4, 'заявлений': 4, 'туалете': 4, 'семьей': 4, '\\uf0b7': 4, 'сайты': 4, 'всякие': 4, 'посоветовал': 4, 'теме': 4, 'клевете': 4, 'советы': 4, 'беременность': 4, 'члена': 4, 'впереди': 4, 'разряда': 4, 'самый': 4, 'слушать': 4, 'фин': 4, 'нетрезвом': 4, 'списке': 4, 'спросили': 4, 'конкретного': 4, 'исполнительные': 4, 'листы': 4, 'доходы': 4, 'сноса': 4, 'проще': 4, 'фильмы': 4, 'музыку': 4, 'сестёр': 4, 'основу': 4, 'общение': 4, 'пятницу': 4, 'пропустила': 4, 'связано': 4, 'авансом': 4, 'установила': 4, 'законных': 4, 'аварии': 4, 'неуплату': 4, 'рассмотрении': 4, 'конец': 4, 'возьму': 4, 'накладные': 4, 'встречный': 4, 'истцу': 4, 'пропуска': 4, 'дел': 4, 'понравилось': 4, 'слышала': 4, 'диалог': 4, 'билетов': 4, 'осуществлять': 4, 'Имел': 4, 'выкуп': 4, 'текстом': 4, 'сняла': 4, 'кровли': 4, 'Законны': 4, 'обязывают': 4, 'обязал': 4, 'менеджером': 4, 'родственникам': 4, 'водить': 4, 'удивился': 4, 'отбывает': 4, 'профессию': 4, 'ставит': 4, 'ограничена': 4, 'собственно': 4, 'читал': 4, 'заболел': 4, 'клинику': 4, 'коронавирусом': 4, 'дедушке': 4, 'Наш': 4, 'технических': 4, 'перекрыть': 4, 'тайну': 4, 'Про': 4, '67': 4, 'пропала': 4, 'водителей': 4, 'меню': 4, '272': 4, 'что-либо': 4, 'событие': 4, 'мнения': 4, 'понимаем': 4, 'счетчики': 4, 'студент': 4, 'рекомендации': 4, 'законном': 4, 'окончила': 4, 'гражданский': 4, 'выпустить': 4, 'гражданской': 4, 'приватизированную': 4, 'сменила': 4, 'месячного': 4, 'Каждый': 4, 'термос': 4, 'микро': 4, 'внешний': 4, 'производителю': 4, 'платный': 4, 'СССР': 4, 'BD': 4, 'BB': 4, 'накопления': 4, 'прошедший': 4, 'банковской': 4, 'ехала': 4, 'публикации': 4, 'материальный': 4, 'отпускали': 4, 'услугам': 4, 'стипендию': 4, '3500': 4, 'выбор': 4, 'возможных': 4, 'груза': 4, 'обратный': 4, 'зачастую': 4, 'умысла': 4, 'подработок': 4, 'подработки': 4, 'определить': 4, 'задержки': 4, 'материалов': 4, 'ЗоЗПП': 4, 'выполнении': 4, 'совершившим': 4, 'правовые': 4, 'являлся': 4, 'количеством': 4, 'поднимал': 4, 'министерстве': 4, 'обременением': 4, 'придумал': 4, 'левой': 4, 'совершенные': 4, 'СТО': 4, 'исполнение': 4, 'ходатайства': 4, 'предупредили': 4, 'понимать': 4, 'Таджикистана': 4, 'видеокарты': 4, 'переноса': 4, 'Автомобиль': 4, 'аренда': 4, 'потерпевшим': 4, 'супругов': 4, 'банков': 4, 'ЗАГСе': 4, 'заяву': 4, 'подписку': 4, 'знакомым': 4, 'перечислять': 4, 'истекает': 4, 'начальником': 4, 'учебы': 4, '23.10.2020': 4, 'педагог': 4, 'грубой': 4, 'товары': 4, 'требованиям': 4, 'дед': 4, 'исполнительского': 4, 'сервисный': 4, 'уменьшилась': 4, 'произвели': 4, 'груз': 4, 'диалога': 4, 'распоряжения': 4, 'Рабочее': 4, 'расположен': 4, 'чему': 4, '392': 4, 'обсерватора': 4, 'Пётр': 4, 'Расскажите': 3, 'правонарушение': 3, 'Собственники': 3, 'Вместе': 3, 'заёмщик': 3, 'остаюсь': 3, 'ходили': 3, 'плитку': 3, 'Чеки': 3, 'поднять': 3, 'переводами': 3, 'рыночная': 3, 'ипотечную': 3, 'коммуналки': 3, 'Показания': 3, 'следователем': 3, 'поводом': 3, 'Подаю': 3, 'наравне': 3, 'Ирина': 3, 'расчёта': 3, 'ликвидировано': 3, 'ТСО': 3, 'дням': 3, 'Юрист': 3, 'оснований': 3, 'выделил': 3, 'Порядок': 3, 'вредности': 3, 'призван': 3, 'вредный': 3, 'юридическом': 3, 'психиатрической': 3, 'Другими': 3, 'имеющиеся': 3, 'внимания': 3, 'Гражданского': 3, 'счёте': 3, 'Обо': 3, 'купленной': 3, 'знакомые': 3, 'невозможности': 3, 'примирением': 3, 'Прописана': 3, 'русские': 3, 'Китае': 3, 'девичью': 3, 'Собираюсь': 3, 'высылает': 3, 'предполагаю': 3, 'означает': 3, 'Опека': 3, 'обязательство': 3, 'светит': 3, 'левое': 3, 'мобилизованный': 3, 'пробыл': 3, 'ближайший': 3, '240': 3, 'снято': 3, 'раб': 3, 'точная': 3, 'наложено': 3, 'муниципальном': 3, 'Примет': 3, 'возникновения': 3, 'депортировали': 3, 'дорого': 3, 'выборе': 3, 'опекуна': 3, 'передаст': 3, 'камера': 3, 'углом': 3, 'убрал': 3, 'шашлык': 3, 'двору': 3, 'бред': 3, 'зайти': 3, 'тварью': 3, 'публичное': 3, 'ж': 3, 'вечеру': 3, 'поедет': 3, 'оскорблений': 3, 'ведется': 3, 'правилам': 3, 'судя': 3, 'электронную': 3, 'устроило': 3, 'удочерения': 3, 'воспользовалась': 3, 'посещал': 3, 'подарки': 3, 'грубо': 3, 'боятся': 3, 'возразить': 3, 'Везде': 3, 'Значит': 3, 'утратил': 3, 'срочного': 3, 'московской': 3, 'увез': 3, 'куплю-продажу': 3, 'являющейся': 3, 'развитие': 3, 'событий': 3, 'вахтовый': 3, 'обязательные': 3, 'отдавал': 3, 'трудности': 3, 'вынести': 3, 'Машина': 3, 'съездить': 3, 'нужды': 3, 'исполнением': 3, 'назвать': 3, 'приводит': 3, 'хранить': 3, 'бросил': 3, 'Положены': 3, 'работадатель': 3, 'потолок': 3, 'сильный': 3, 'головные': 3, 'боли': 3, 'расследование': 3, 'Обвиняемый': 3, 'Прокурор': 3, 'должностях': 3, 'семестра': 3, 'лучшем': 3, 'понедельника': 3, 'расписанию': 3, 'документация': 3, 'инициировать': 3, 'частные': 3, 'предусмотрены': 3, '000,00': 3, 'Данные': 3, 'живите': 3, 'папу': 3, 'принуждает': 3, 'зону': 3, 'учёбу': 3, 'невыезде': 3, 'присуждении': 3, 'ФСБ': 3, 'Отказывают': 3, 'безработному': 3, 'Свекровь': 3, 'открыл': 3, 'вышли': 3, 'Скоро': 3, 'суммах': 3, 'менялась': 3, 'порвала': 3, 'шел': 3, 'швы': 3, 'СИД': 3, 'окно': 3, 'кровь': 3, 'осуществляет': 3, 'убытки': 3, 'подвал': 3, 'реестре': 3, 'квадраты': 3, 'специалисту': 3, 'Ссылаются': 3, 'Правы': 3, 'случаи': 3, 'Командир': 3, 'инвентаризации': 3, 'выдача': 3, 'проведении': 3, 'выходу': 3, 'оформив': 3, 'определенный': 3, 'подают': 3, 'выдано': 3, 'районном': 3, 'написав': 3, 'вышестоящий': 3, 'производственным': 3, 'надбавку': 3, '12.7': 3, 'наказанию': 3, 'ремонтом': 3, 'приобретённая': 3, 'полам': 3, 'нож': 3, 'Сходила': 3, 'пример': 3, 'уточнила': 3, 'сюда': 3, 'основная': 3, 'неполный': 3, 'преподавателя': 3, 'учебном': 3, 'получаем': 3, 'оформленные': 3, 'оплачиваться': 3, 'выполнил': 3, 'письменных': 3, 'назначали': 3, 'вотсапе': 3, 'откровенно': 3, 'сообщении': 3, 'письменные': 3, 'психологически': 3, 'тренинга': 3, '3900': 3, 'расписали': 3, 'описанием': 3, 'настаивала': 3, 'осуществления': 3, 'хранились': 3, 'Ответственность': 3, 'лежала': 3, 'обед': 3, 'управления': 3, 'урезали': 3, 'начислят': 3, 'Немного': 3, 'Проживали': 3, 'захотела': 3, 'досудебное': 3, 'бабушкин': 3, 'выслал': 3, 'съёмной': 3, 'найму': 3, 'стажировки': 3, 'шкафа': 3, 'следственный': 3, 'РЖД': 3, 'веществ': 3, 'базы': 3, 'досрочную': 3, 'признаться': 3, 'земельных': 3, 'отношений': 3, 'принадлежат': 3, 'Какова': 3, 'продается': 3, 'комплект': 3, 'подразделение': 3, 'электроэнергию': 3, 'поменяли': 3, 'санаторий': 3, 'обхода': 3, 'пациент': 3, 'учли': 3, 'подписаны': 3, 'поднятие': 3, 'жизненная': 3, 'объединить': 3, 'воспитателя': 3, 'намного': 3, 'Эльдорадо': 3, 'подошел': 3, 'оскорблением': 3, 'Бурятии': 3, 'частная': 3, 'Увольнение': 3, 'цифры': 3, 'Итого': 3, 'указанном': 3, 'ватсап': 3, 'призвали': 3, 'девушку': 3, 'Платили': 3, 'коммерческого': 3, 'пояснить': 3, 'микрозаймы': 3, 'штук': 3, 'строго': 3, 'выпишет': 3, '62': 3, 'даётся': 3, 'сироты': 3, 'срочной': 3, 'отпускать': 3, 'толком': 3, 'соцнайма': 3, 'коллекторское': 3, 'иски': 3, 'бороться': 3, 'частичной': 3, 'действуют': 3, 'запас': 3, 'указанную': 3, 'месячный': 3, 'университету': 3, 'университета': 3, 'Свидетелей': 3, 'установлению': 3, 'Доказательства': 3, 'свидетельству': 3, 'ухаживаю': 3, 'уроки': 3, 'Уволить': 3, 'магистратуре': 3, 'Выхожу': 3, 'вручили': 3, 'набор': 3, 'прожила': 3, 'добавил': 3, 'Поступил': 3, 'внуки': 3, 'лексику': 3, 'железной': 3, 'восстановлении': 3, 'строя': 3, 'СЦ': 3, 'трогал': 3, 'шею': 3, 'наблюдения': 3, 'Остаток': 3, 'оформят': 3, 'Российский': 3, 'загран': 3, 'страшного': 3, 'Российском': 3, 'уведомлять': 3, 'скончался': 3, 'государством': 3, 'село': 3, 'лево': 3, 'поворот': 3, 'создание': 3, 'милицию': 3, 'долгое': 3, 'предьявить': 3, 'угрожать': 3, 'подавая': 3, 'командование': 3, 'самолетом': 3, 'обеспечен': 3, 'зав': 3, 'ЖК': 3, 'линия': 3, 'близко': 3, 'воспитывала': 3, 'двоюродная': 3, 'заболевания': 3, 'предусмотрено': 3, 'близкими': 3, 'прямой': 3, 'уйду': 3, 'предоставив': 3, 'образца': 3, 'средство': 3, '350': 3, 'открытие': 3, 'расправой': 3, 'твердую': 3, 'обходной': 3, 'подписанный': 3, 'занял': 3, 'уклониться': 3, 'долгам': 3, 'ответственный': 3, 'инструктажи': 3, 'декретным': 3, 'маленькие': 3, 'заключенный': 3, 'побольше': 3, 'результатов': 3, 'сервисного': 3, 'каску': 3, 'маленькой': 3, 'квадратуры': 3, 'кадровик': 3, 'пожениться': 3, 'гуляет': 3, 'данными': 3, 'счёта': 3, 'ударов': 3, 'обнаружилось': 3, 'трещина': 3, 'Остался': 3, 'уничтожено': 3, 'судебными': 3, 'обороны': 3, 'изменились': 3, 'клуб': 3, 'расторгать': 3, 'продаж': 3, 'выплачено': 3, 'труду': 3, 'подписями': 3, 'вешают': 3, 'наследования': 3, 'внук': 3, 'третья': 3, 'соток': 3, 'отобрать': 3, 'возобновить': 3, '10-15': 3, 'снести': 3, 'произошёл': 3, 'износ': 3, 'равный': 3, 'выделении': 3, 'выявлено': 3, 'явка': 3, 'Адвокат': 3, 'включить': 3, 'держит': 3, 'признаки': 3, 'ребенке': 3, 'постановку': 3, 'челюсть': 3, 'подтвердил': 3, 'получению': 3, 'физлиц': 3, 'городу': 3, 'следствия': 3, 'инструктаж': 3, 'производитель': 3, 'Отказали': 3, 'прописывать': 3, 'проиграла': 3, 'исполнить': 3, 'квадратам': 3, 'продолжали': 3, '330': 3, '58': 3, '16,6': 3, 'кричит': 3, 'состояния': 3, 'попытки': 3, 'передано': 3, 'приду': 3, 'оставшимися': 3, 'телефонные': 3, 'переговоры': 3, 'планировала': 3, 'мать-одиночка': 3, 'карточке': 3, 'женская': 3, 'Эту': 3, 'ориентироваться': 3, 'оспаривать': 3, 'сменил': 3, 'приложенных': 3, 'оплачено': 3, 'Справки': 3, 'предоставляла': 3, 'исправительных': 3, 'переходе': 3, 'оплачиваемую': 3, 'определил': 3, 'продаст': 3, 'передачу': 3, 'застрахована': 3, 'Позвонили': 3, 'нецензурной': 3, 'привлекли': 3, 'банковский': 3, 'самозанятый': 3, 'разблокировать': 3, 'официальное': 3, 'государственный': 3, 'развели': 3, 'Наказание': 3, 'штуки': 3, '2004': 3, 'орать': 3, 'каждые': 3, 'поручительства': 3, 'страхового': 3, 'полиса': 3, 'собеседование': 3, 'повторную': 3, '....': 3, 'хуже': 3, 'стороной': 3, 'предположить': 3, 'прям': 3, 'отзыве': 3, 'зоны': 3, 'пожить': 3, 'зарегистрировала': 3, 'местную': 3, 'жилое': 3, 'покидать': 3, 'пунктом': 3, 'соглашений': 3, 'вносились': 3, 'ищут': 3, 'субботу': 3, 'личным': 3, 'отгул': 3, '43.8': 3, 'числилось': 3, 'разбиты': 3, '1-в': 3, 'ускорит': 3, 'терапевта': 3, 'провокацию': 3, 'сбыте': 3, 'закреплённое': 3, 'пробитию': 3, 'ДЕЗЕРТИРСТВО': 3, 'дезертирства': 3, 'вредит': 3, 'ноябре-декабре': 3, 'выглядить': 3, 'приёма': 3, 'ценой': 3, 'течёт': 3, 'тк': 3, 'тур': 3, 'подлежащий': 3, 'переводят': 3, 'присылать': 3, 'бумаге': 3, 'последнее': 3, 'женщину': 3, 'используется': 3, 'годовой': 3, 'сменный': 3, 'сантиметров': 3, 'полка': 3, 'хозяйство': 3, 'дешевле': 3, 'конфликта': 3, 'билета': 3, 'последовало': 3, 'потребовал': 3, 'привлекать': 3, 'видеокарту': 3, 'бумажки': 3, 'бумажку': 3, 'показали': 3, 'покинули': 3, 'тремя': 3, 'маленькими': 3, 'ВОПРОС': 3, 'ДЕЛАТЬ': 3, 'осуждена': 3, 'цеху': 3, 'автобус': 3, 'июль': 3, 'ввели': 3, 'управляющую': 3, 'какое-либо': 3, 'удалённо': 3, 'программой': 3, 'приложением': 3, 'оформляется': 3, '?.': 3, 'Заказал': 3, 'введена': 3, 'исключением': 3, 'юридических': 3, 'десяти': 3, 'устный': 3, 'вложении': 3, 'уведомить': 3, 'врачом': 3, 'составила': 3, 'доходит': 3, '23.05.2022': 3, 'выписку': 3, 'работниками': 3, 'Заключил': 3, 'Обучение': 3, 'Х': 3, 'издан': 3, 'НУК': 3, 'Работнику': 3, 'буквально': 3, 'официальным': 3, 'работам': 3, 'отстоять': 3, 'коммерческих': 3, 'возрастом': 3, 'сослаться': 3, 'ухудшение': 3, '4000': 3, 'превышать': 3, 'сменой': 3, 'обещают': 3, 'завершить': 3, 'следующую': 3, 'Слышала': 3, 'ИЦ': 3, 'Парень': 3, 'какому': 3, 'пдн': 3, 'графу': 3, 'Ехать': 3, 'РВП': 3, 'присутствовал': 3, 'продлении': 3, 'девять': 3, 'дан': 3, 'продукт': 3, 'Решением': 3, 'федеральный': 3, 'бюджет': 3, 'пошлина': 3, 'взысканы': 3, 'днями': 3, 'гарантией': 3, 'сломалась': 3, 'действительным': 3, 'формат': 3, 'составил': 3, 'санкции': 3, 'сан': 3, 'многодетным': 3, 'покупателем': 3, 'прослужил': 3, 'МЧС': 3, 'использовал': 3, 'скинула': 3, 'парковки': 3, 'неразглашении': 3, 'закончила': 3, 'вносила': 3, 'потерпевшей': 3, 'Причем': 3, 'Таким': 3, 'стене': 3, 'владельца': 3, 'вплоть': 3, 'пересечь': 3, 'студенты': 3, 'словом': 3, 'заболевании': 3, 'отключили': 3, 'писем': 3, 'предоставят': 3, 'пара': 3, 'памперсы': 3, 'каникулы': 3, 'Дома': 3, 'ужасно': 3, 'волосы': 3, 'электронный': 3, 'повышение': 3, 'Сумму': 3, 'ожидает': 3, 'Требуется': 3, 'контрактнику': 3, 'ПМЖ': 3, 'правонарушении': 3, 'определению': 3, 'физически': 3, 'пытаться': 3, '220': 3, 'избавиться': 3, 'разговоры': 3, '5-ти': 3, 'предприятию': 3, 'сервисе': 3, 'гарантийным': 3, 'прибор': 3, 'счетчик': 3, 'прежний': 3, 'задает': 3, 'строительной': 3, 'дольщик': 3, '228.1': 3, 'парню': 3, 'ВУ': 3, 'Штраф': 3, 'снимаем': 3, 'ею': 3, 'аресте': 3, '41': 3, 'утверждают': 3, 'Учусь': 3, 'выдана': 3, 'Столкнулся': 3, '”': 3, 'акции': 3, 'посещать': 3, 'праздник': 3, 'Земля': 3, 'дикого': 3, 'запрещенных': 3, 'правительства': 3, 'животными': 3, 'направлено': 3, 'приобретено': 3, 'распространения': 3, 'обязательная': 3, 'проводилась': 3, 'планируем': 3, '9,5': 3, 'бумага': 3, 'назначается': 3, 'сессию': 3, 'приезжала': 3, 'семестр': 3, 'сдавала': 3, 'Моё': 3, 'Сделал': 3, 'процедуре': 3, 'полугода': 3, 'полученное': 3, 'поднимать': 3, 'подобных': 3, 'потерпевшему': 3, 'обследование': 3, 'Севере': 3, 'БиР': 3, 'ежегодном': 3, 'садике': 3, 'лезла': 3, 'целовались': 3, 'секс': 3, 'отстранить': 3, 'Отпускные': 3, 'увеличен': 3, 'проходили': 3, 'какую-нибудь': 3, 'книжка': 3, 'основное': 3, 'чаще': 3, 'хорошая': 3, 'приняла': 3, 'одноклассниками': 3, 'шла': 3, 'классе': 3, 'сотрясение': 3, 'перенесла': 3, 'табеле': 3, 'Трудовой': 3, 'забыли': 3, 'льготу': 3, 'хранятся': 3, 'Развод': 3, 'вписали': 3, 'снижения': 3, 'получением': 3, 'предыдущим': 3, 'интересная': 3, 'определенных': 3, 'внятного': 3, 'зарабатывал': 3, 'авито': 3, 'опера': 3, 'Виктория': 3, 'выписывают': 3, 'свекровью': 3, '1-2': 3, 'тесте': 3, 'познакомились': 3, 'временем': 3, 'удерживали': 3, 'Вообщем': 3, 'заведении': 3, 'результата': 3, 'вскоре': 3, 'взыскателю': 3, 'больным': 3, 'ветхое': 3, 'дано': 3, 'ул': 3, 'заключено': 3, 'ой': 3, 'шести': 3, 'узаконить': 3, 'помогала': 3, 'когда-то': 3, 'Поскольку': 3, 'Жильцы': 3, 'Правомерен': 3, 'Бухгалтерия': 3, 'указывает': 3, 'удержания': 3, 'потребуется': 3, 'продолжил': 3, 'товарном': 3, 'веса': 3, 'списании': 3, 'действителен': 3, 'разбирательства': 3, 'розыска': 3, '325': 3, 'оплачиваемого': 3, 'оповещение': 3, 'Решила': 3, 'подпишут': 3, 'ди': 3, 'очной': 3, '1993': 3, 'договорился': 3, 'отмывание': 3, 'подругой': 3, 'защита': 3, 'меняется': 3, 'придти': 3, 'Чувствую': 3, 'верховный': 3, 'копий': 3, 'секретарь': 3, 'Земский': 3, 'доктор': 3, 'Подлежит': 3, 'миллиона': 3, 'учебного': 3, 'задержан': 3, 'отпустит': 3, 'предстоящем': 3, 'Должник': 3, 'наследники': 3, 'отправку': 3, 'возмещением': 3, 'внесены': 3, 'двойняшки': 3, 'бегать': 3, 'купим': 3, 'указанию': 3, 'стенку': 3, 'считал': 3, 'пиши': 3, 'взломали': 3, 'понадобится': 3, 'отрез': 3, 'водоканал': 3, 'водоснабжения': 3, 'неправомерного': 3, 'гражданину': 3, 'впорядке': 3, 'копейками': 3, 'потребительских': 3, 'строит': 3, '74': 3, 'осуждение': 3, 'приговорён': 3, 'рецидива': 3, 'условная': 3, '2003': 3, 'Например': 3, 'улицы': 3, 'семь': 3, 'направлены': 3, 'хищение': 3, 'погашены': 3, '2.3': 3, 'утерян': 3, 'Займа': 3, 'копеек': 3, 'отмечаться': 3, 'ржд': 3, 'повторном': 3, 'возместят': 3, 'проводила': 3, 'урок': 3, 'палок': 3, 'травм': 3, 'пояснение': 3, 'составлял': 3, 'схема': 3, 'входе': 3, 'Конечно': 3, 'кожи': 3, 'Причём': 3, 'пространство': 3, 'вызвать': 3, 'редко': 3, 'выдачу': 3, 'оставлю': 3, 'химию': 3, 'питания': 3, 'продуктов': 3, 'сверх': 3, 'ГПХ': 3, 'стажем': 3, 'запрашивает': 3, 'Коми': 3, 'приравненный': 3, 'внутреннее': 3, 'преподаватель': 3, 'заключает': 3, 'Ждать': 3, 'запчасти': 3, 'насчитал': 3, 'стационаре': 3, 'Пришлось': 3, 'Кредиты': 3, 'лишают': 3, 'материнских': 3, 'несмотря': 3, '8-ми': 3, 'нагрузки': 3, 'суммарно': 3, 'снижение': 3, 'процента': 3, 'сделке': 3, 'скриншоты': 3, 'считалось': 3, 'прошлой': 3, 'трудом': 3, 'совместитель': 3, 'располагается': 3, 'Как-то': 3, 'перерыв': 3, 'перевожу': 3, 'уклоняется': 3, 'вступление': 3, 'умерший': 3, 'вес': 3, 'хороший': 3, 'обследования': 3, 'торговой': 3, 'авторское': 3, 'торговать': 3, 'юридического': 3, 'числилась': 3, 'дкп': 3, 'произведен': 3, 'коридора': 3, 'началу': 3, 'подводные': 3, 'УФИЦ': 3, 'ежегодно': 3, 'учебе': 3, 'сзади': 3, 'дпс': 3, 'вперёд': 3, 'парковку': 3, 'включил': 3, 'собирался': 3, 'индивидуального': 3, '17000': 3, 'жилищный': 3, 'кассация': 3, 'вернулась': 3, 'Оформили': 3, 'самозанятость': 3, 'сменили': 3, 'будешь': 3, 'Других': 3, 'Владимир': 3, 'выставляет': 3, 'достроен': 3, 'выписывает': 3, 'объявлении': 3, 'Действия': 3, 'правильны': 3, 'возобновлении': 3, 'определено': 3, 'досталось': 3, 'Думала': 3, 'резко': 3, 'перестать': 3, 'Полагается': 3, 'ЗАГСа': 3, 'авторских': 3, 'неисправность': 3, 'остатка': 3, 'прим': 3, 'Судимость': 3, 'совместное': 3, 'шаг': 3, 'Чтоб': 3, 'свидетельством': 3, 'перечисляют': 3, 'разрешают': 3, 'проверке': 3, 'знаний': 3, 'небольшом': 3, 'наших': 3, 'apple': 3, 'обслуживания': 3, 'странно': 3, 'нравится': 3, 'вклада': 3, '35000': 3, 'пенсионном': 3, 'положила': 3, 'заканчиваю': 3, 'специальности': 3, 'кредитами': 3, 'электронном': 3, 'личному': 3, 'Трудовая': 3, 'инспекция': 3, 'прочие': 3, 'офисе': 3, 'желания': 3, 'плита': 3, 'извещения': 3, '20.000': 3, 'звонков': 3, 'последних': 3, 'покупка': 3, 'общаюсь': 3, 'поговорить': 3, 'повторное': 3, 'прочитал': 3, 'зацепил': 3, 'дышать': 3, 'ездил': 3, 'одноклассник': 3, 'экземпляр': 3, 'виновен': 3, 'разговаривать': 3, 'хорошему': 3, 'спрашивая': 3, 'пью': 3, 'теорию': 3, 'сданы': 3, 'препятствует': 3, 'Общение': 3, 'залога': 3, 'осуществлялось': 3, 'воинскую': 3, 'установленный': 3, 'списки': 3, 'последнем': 3, 'выехать': 3, 'Судом': 3, 'бывало': 3, 'вернее': 3, 'судимостей': 3, 'грозиться': 3, 'следить': 3, 'ставил': 3, 'военнослужащим': 3, 'содержит': 3, 'Остаётся': 3, 'Возможны': 3, '2002': 3, 'необходимое': 3, 'бригаде': 3, 'Прошла': 3, '44000': 3, 'массу': 3, 'Отцу': 3, 'Нотариус': 3, 'состоим': 3, 'разойтись': 3, 'приезжать': 3, 'выявлена': 3, 'учавствовать': 3, 'вступать': 3, 'теща': 3, 'комплектации': 3, 'холодно': 3, 'полосу': 3, 'ОСАГО': 3, 'увезли': 3, 'течет': 3, 'орет': 3, '0.25': 3, 'закончил': 3, 'несовершеннолетними': 3, 'приёмной': 3, 'перенос': 3, 'задач': 3, 'Иногда': 3, 'количества': 3, 'родство': 3, 'Оплачивать': 3, 'паспортных': 3, 'Адрес': 3, 'направил': 3, 'предприниматель': 3, 'расчетов': 3, 'обещанное': 3, 'узнает': 3, 'соучастником': 3, 'сообщать': 3, 'напитков': 3, '30.000': 3, 'детским': 3, 'Стоимость': 3, 'подав': 3, 'милиция': 3, 'Заседание': 3, 'приставку': 3, 'попечительства': 3, 'кто-нибудь': 3, 'опер': 3, 'думает': 3, 'задержкой': 3, 'адресную': 3, 'выкупную': 3, 'совпадает': 3, 'закрыты': 3, 'исковым': 3, 'разведена': 3, 'сил': 3, 'признает': 3, 'кочегаром': 3, 'предоставит': 3, 'выехала': 3, 'начальница': 3, 'имущественный': 3, 'бюро': 3, 'физическое': 3, 'среднем': 3, 'физического': 3, 'применены': 3, 'тяжёлая': 3, '16000': 3, 'обуви': 3, 'мыть': 3, 'полки': 3, 'заставлять': 3, 'закрывает': 3, 'несчастный': 3, 'единовременную': 3, 'форму': 3, 'спал': 3, 'потребительский': 3, 'признакам': 3, 'новых': 3, 'Оформила': 3, 'выглядеть': 3, 'комнатная': 3, 'скончалась': 3, 'Племянник': 3, 'осуществлена': 3, 'открыты': 3, 'довольствия': 3, 'некоторых': 3, 'занять': 3, 'сохранены': 3, 'приложении': 3, 'сделаем': 3, 'гарнитур': 3, 'довезли': 3, 'фасада': 3, 'передвижения': 3, 'прилегающей': 3, '08,12,21': 3, 'уговорили': 3, 'утверждения': 3, 'озвучил': 3, '09,12,21': 3, 'увидев': 3, 'алкоголик': 3, 'поиски': 3, 'разъехаться': 3, 'прожиточному': 3, 'определённую': 3, 'социальную': 3, 'выиграли': 3, 'посоветовать': 3, 'земельному': 3, 'счастья': 3, 'детстве': 3, 'рассказали': 3, 'семейному': 3, 'оценки': 3, 'дат': 3, 'подрабатывает': 3, 'C': 3, 'Чего': 3, 'женщинами': 3, 'малоимущих': 3, 'представителей': 3, 'значение': 3, 'расселения': 3, 'утверждая': 3, 'понятным': 3, 'ип': 3, 'Страховка': 3, 'Гражданский': 3, '280': 3, 'внёс': 3, 'профилю': 3, 'следственного': 3, 'органа': 3, 'частным': 3, '25000': 3, 'Имущества': 3, '123': 3, 'Большое': 3, 'карточку': 3, 'думаешь': 3, 'учредителем': 3, 'коробки': 3, 'считаются': 3, 'начинать': 3, 'Попросила': 3, 'сдает': 3, 'согласиться': 3, 'назвал': 3, 'колонию': 3, 'пассажирском': 3, 'сб': 3, 'вс': 3, '48': 3, '12.8': 3, 'переводом': 3, 'приватизированной': 3, 'полная': 3, 'приносит': 3, 'полу': 3, 'наотрез': 3, 'Вторую': 3, 'Нигде': 3, 'обл': 3, 'обращусь': 3, 'утвердить': 3, 'военного': 3, 'проводит': 3, 'употребляет': 3, 'кушать': 3, 'штатное': 3, '2-х': 3, 'кредите': 3, 'младший': 3, 'специалистов': 3, 'приложений': 3, 'городского': 3, 'коммунальная': 3, 'рб': 3, 'местности': 3, 'крайнему': 3, 'поделена': 3, 'Гражданин': 3, 'консульство': 3, 'иного': 3, 'портала': 3, 'давность': 3, 'Дмитрий': 3, 'квартплату': 3, 'занята': 3, 'выданный': 3, 'подвале': 3, 'Во-первых': 3, 'незаконные': 3, 'перепланировку': 3, 'туалет': 3, 'мир': 3, 'блокирует': 3, 'сервера': 3, 'ютубе': 3, 'ролик': 3, 'трачу': 3, 'Петрозаводск': 3, 'северные': 3, 'видеосъёмку': 3, 'процесса': 3, 'журналах': 3, 'полных': 3, 'рост': 3, 'количеству': 3, 'образованию': 3, 'продавцов-кассиров': 3, 'жаловался': 3, 'след': 3, 'поставками': 3, 'болел': 3, 'деяние': 3, 'действиях': 3, 'Лишили': 3, 'обвинения': 3, 'обыска': 3, 'планшет': 3, 'членом': 3, 'УИИ': 3, 'УФСИН': 3, 'приезжал': 3, 'выносить': 3, 'уезжал': 3, 'годен': 3, 'держали': 3, 'русская': 3, 'подачей': 3, 'перечислены': 3, 'образцы': 3, 'Положена': 3, 'Правительства': 3, 'старом': 3, 'Совершила': 3, 'ФЛП': 3, 'отчетность': 3, 'уничтожила': 3, 'проверок': 3, 'близкие': 3, 'заместитель': 3, 'физо': 3, 'высший': 3, 'пенсионера': 3, 'лицевой': 3, 'обязательную': 3, 'арестовывать': 3, '133': 3, 'Коллекторы': 3, 'допущено': 3, 'ответов': 3, 'молчат': 3, 'нынешний': 3, 'прекрасно': 3, 'Мужчина': 3, 'Великобритании': 3, 'оскорбления': 3, 'совершает': 3, 'крупного': 3, 'выплачивались': 3, 'Лишение': 3, 'скинут': 3, 'сеансы': 3, 'чёрный': 3, 'слесаря': 3, 'слесарь': 3, 'уточнял': 3, 'отвечали': 3, 'выписан': 3, 'аттестат': 3, 'дольщика': 3, 'оставшейся': 3, 'даны': 3, 'совместные': 3, 'деревни': 3, 'Впоследствии': 3, 'показаниях': 3, 'контакта': 3, 'коллекторского': 3, 'погашении': 3, 'ознакомил': 3, 'материалами': 3, 'расчётном': 3, 'братьями': 3, 'зарплатную': 3, '48000': 3, 'стимулирующие': 3, 'поручение': 3, 'законодательством': 3, 'максимально': 3, 'химии': 3, 'номинально': 3, 'прачечная': 3, 'бухгалтерией': 3, 'кинул': 3, 'документацию': 3, 'отчеты': 3, 'пытаясь': 3, 'выполненной': 3, 'снимается': 3, 'Работая': 3, 'прибыли': 3, 'накладная': 3, 'закрывается': 3, 'решает': 3, 'контакты': 3, 'мести': 3, 'уголовном': 3, 'Судя': 3, '327': 3, 'иное': 3, 'глаз': 3, 'кассир': 3, 'украла': 3, 'имели': 3, 'примирение': 3, 'воспользовался': 3, 'автосалоне': 3, 'автосалон': 3, 'председателем': 3, 'Уволился': 3, 'вывозят': 3, 'психически': 3, 'Хотели': 3, 'группой': 3, 'странице': 3, 'контакте': 3, 'отняли': 3, 'местной': 3, 'S': 3, 'ликвидацией': 3, 'затоплении': 3, 'увеличении': 3, 'неисправности': 3, 'сеть': 3, 'разорвать': 3, 'сказало': 3, 'торгового': 3, 'списываются': 3, 'архитектуры': 3, 'жилую': 3, 'баня': 3, 'Ваш': 3, 'УАЗ': 3, 'врезался': 3, 'лаборатории': 3, 'Постановления': 3, 'вопросах': 3, 'судами': 3, 'доле': 3, 'платежные': 3, 'обязательстве': 3, 'АПК': 3, '273': 3, 'Кота': 3, 'брокера': 3, 'неизвестный': 3, 'удивление': 3, 'уверен': 3, 'разрешено': 3, 'войны': 3, 'северных': 3, 'надбавок': 3, 'коэффициента': 3, 'Выплаты': 3, 'проверяли': 3, 'Случайно': 3, 'среднего': 3, 'поиск': 3, 'Получив': 3, 'причиненного': 3, 'личная': 3, 'иностранном': 3, 'совершеннолетними': 3, 'насильно': 3, 'Страховая': 3, 'Нашла': 3, 'подготовить': 3, 'отделом': 3, 'арендной': 3, 'исполнительных': 3, 'наследников': 3, 'Калининграде': 3, 'работающий': 3, 'агентства': 3, 'задержка': 3, 'долевую': 3, 'зарегистрировали': 3, 'Год': 3, 'ворота': 3, 'входную': 3, 'площадку': 3, 'страшно': 3, 'привести': 3, 'соседом': 3, 'жильца': 3, 'сломался': 3, 'делаю': 3, 'книге': 3, 'капремонт': 3, 'установлены': 3, 'Приморском': 3, 'транспортного': 3, 'страховые': 3, 'заболеваний': 3, 'член': 3, 'уходом': 3, 'автоматом': 3, 'возьмет': 3, 'беременную': 3, 'действующий': 3, 'удовлетворили': 3, 'Жене': 3, 'Первая': 3, 'кадастровую': 3, 'Газель': 3, 'журналиста': 3, 'памяти': 3, 'сумки': 3, 'реестр': 3, 'повредил': 3, '170': 3, 'депо': 3, '1994': 3, 'слесарем': 3, 'недееспособным': 3, '1982': 3, 'выбрал': 3, 'Финансовый': 3, 'инцидент': 3, 'живот': 3, 'завода': 3, 'ключа': 3, 'небыло': 3, 'ищу': 3, 'экономистом': 3, 'заявила': 3, 'нравиться': 3, 'аттестовать': 3, 'понизить': 3, 'коллективное': 3, 'разведут': 3, 'количестве': 3, 'покупал': 3, 'выпивал': 3, 'портить': 3, 'драка': 3, 'приостановить': 3, 'разъяснили': 3, 'порнографию': 3, 'родных': 3, 'детдома': 3, 'каникул': 3, 'летних': 3, 'утвержден': 3, 'старому': 3, 'утверждать': 3, 'алкотестер': 3, 'поднаем': 3, 'Потерпевший': 3, 'обговорили': 3, 'появляется': 3, 'Доля': 3, 'Молодой': 3, 'пояснила': 3, '1.2': 3, 'тратит': 3, 'Чукотском': 3, 'Белгороде': 3, 'Планируем': 3, 'оказались': 3, 'реструктуризации': 3, 'перевёл': 3, 'ведущего': 3, 'доказательствами': 3, 'Ежегодно': 3, 'старшей': 3, 'предупреждала': 3, 'пройдет': 3, 'скот': 3, 'представлен': 3, 'Донецк': 3, 'общались': 3, 'посольство': 3, 'Разъясните': 3, 'очередного': 3, 'забрав': 3, 'дежурства': 3, 'магазинах': 3, 'камерам': 3, 'значительно': 3, 'перерасчете': 3, 'центрального': 3, 'крупных': 3, 'строят': 3, 'выпил': 3, 'полотенцесушитель': 3, 'приватизировала': 3, 'эксплуатацию': 3, 'интернета': 3, 'добираться': 3, 'путевки': 3, 'нуждающаяся': 3, 'тюрьмы': 3, 'расположено': 3, 'графиком': 3, 'ГБ': 3, 'РК': 3, 'протоколе': 3, 'Писал': 3, 'подозреваю': 3, 'групп': 3, 'бассейне': 3, 'вписывать': 3, 'Платила': 3, 'мастера': 3, 'наркоман': 3, 'встреч': 3, 'вдвоём': 3, 'Могли': 3, 'нач': 3, 'ордер': 3, 'большим': 3, 'мешает': 3, 'скинули': 3, 'увеличение': 3, 'соседка': 3, 'пользователей': 3, '49': 3, 'правил': 3, 'листов': 3, '38': 3, 'купленные': 3, 'Возник': 3, 'вступили': 3, 'уважаемые': 3, 'призыв': 3, 'коронку': 3, 'сходила': 3, 'клинике': 3, 'случилась': 3, 'имеющего': 3, 'рассрочке': 3, 'альфа': 3, 'Обычно': 3, 'поиска': 3, 'высказывание': 3, 'содержании': 3, 'Выплату': 3, 'услугах': 3, 'рынке': 3, 'взламывать': 3, 'посещала': 3, 'сделаю': 3, 'бонусы': 3, 'Пошла': 3, 'Проживает': 3, 'Июля': 3, 'Квартиры': 3, 'Мебель': 3, 'какова': 3, 'Вконтакте': 3, 'система': 3, 'теоретически': 3, 'сработала': 3, 'ВКонтакте': 3, 'университете': 3, 'любит': 3, 'технические': 3, 'подтверждением': 3, 'кредитному': 3, 'подавал': 3, 'водки': 3, 'прогуливает': 3, 'случиться': 3, 'некое': 3, 'компьютере': 3, 'выселением': 3, 'вызывала': 3, '29.10.2020': 3, 'прокуратура': 3, 'касаемо': 3, 'рассказывать': 3, 'ликвидирован': 3, 'пользуются': 3, 'водой': 3, 'гор': 3, 'холодной': 3, 'академический': 3, 'дальнейших': 3, 'ваши': 3, 'Приказа': 3, 'захочу': 3, 'ютуб': 3, 'мошенником': 3, 'Дал': 3, 'вклады': 3, 'Сказал': 3, 'букет': 3, 'админ': 3, 'откроют': 3, 'доступе': 3, 'пораньше': 3, 'дистанционно': 3, 'приобретении': 3, 'попадаем': 3, 'приходилось': 3, 'кормил': 3, 'тратил': 3, 'недееспособности': 3, 'нанесения': 3, 'Обратились': 3, 'Славик': 3, 'Богдан': 3, 'примерный': 3, 'направлении': 3, 'подтверждающий': 3, 'неуплаты': 3, 'заказчик': 3, 'спам': 3, 'кодом': 3, 'покупкой': 3, 'последней': 3, 'уплаченных': 3, 'врачебной': 3, 'комментариях': 3, 'качеству': 3, 'экрана': 3, 'модели': 3, 'смещением': 3, 'вправили': 3, 'кость': 3, '1200': 3, 'повторный': 3, 'приеме': 3, 'норм': 3, 'длительного': 3, 'производится': 3, 'возникло': 3, 'BE': 3, 'трудоустроится': 3, 'согласования': 3, 'добавить': 3, 'техникуме': 3, 'рассчитывается': 3, 'юристов': 3, '5500': 3, 'протокола': 3, 'скидкой': 3, 'Нарушу': 3, 'аптеке': 3, 'Обязаны': 3, 'балансе': 3, 'карантина': 3, 'существованию': 3, 'актами': 3, 'нарушил': 3, 'сейф': 3, 'отчитываться': 3, 'одиночки': 3, 'ходатайству': 3, 'изготовление': 3, 'Уволили': 3, 'неприкосновенности': 3, '242': 3, 'закончить': 3, 'уголовный': 3, 'выставляют': 3, 'оставив': 3, 'ответчиком': 3, 'принятие': 3, 'упаковка': 3, 'Покупателю': 3, 'малютки': 3, 'приватизировал': 3, 'составляли': 3, 'грузчиком': 3, 'Года': 3, 'арендодатель': 3, 'обмене': 3, 'обществе': 3, 'общении': 3, 'сложностью': 3, 'подозреваемых': 3, 'задекларировать': 3, 'заказчика': 3, 'Увольняют': 3, 'волнует': 3, 'Документ': 3, 'ходим': 3, 'предоставлением': 3, 'оставляет': 3, 'предоплаты': 3, 'складывается': 3, 'аудио': 3, 'Вступила': 3, 'заказы': 3, 'Взяла': 3, 'Соглашения': 3, 'выполненные': 3, 'заблокирован': 3, 'четвертый': 3, 'оспаривание': 3, 'снята': 3, 'аннулирует': 3, 'подделали': 3, 'обращается': 3, 'пускает': 3, 'решим': 3, 'взносы': 3, 'пообещал': 3, 'записывать': 3, 'идите': 3, 'предупредить': 3, 'докажу': 3, 'представителями': 3, 'книги': 3, 'га': 3, 'проводят': 3, 'опытом': 3, 'закрылось': 3, 'прописал': 3, 'матерью-одиночкой': 3, 'Продавца': 3, 'восстановили': 3, 'YouTube': 3, 'СБ': 3, 'маске': 3, 'теста': 3, 'Карты': 3, 'информационно-телекоммуникационных': 3, 'прожил': 3, 'многих': 3, 'исключительно': 3, 'отсрочке': 3, '160': 3, 'понятен': 3, 'помогли': 3, 'СОУТ': 3, 'положительная': 3, 'отпустят': 3, 'растёт': 3, 'возьмёт': 3, 'работадателя': 3, 'опасаться': 3, 'встретиться': 3, 'новогодние': 3, 'тарифу': 3, 'местом': 3, 'Нарушение': 3, 'счетах': 3, 'перепланировки': 3, '12.26': 3, 'компьютер': 3, 'повреждение': 3, 'юридическую': 3, 'крыша': 3, 'касается': 3, 'исключении': 3, 'высоты': 3, '1700': 3, 'разницы': 3, 'Работадатель': 3, 'исковые': 3, 'лишние': 3, 'Просьба': 3, '¼': 3, 'принудили': 3, 'Вахта': 3, 'zc': 3, 'паспорту': 3, 'взятый': 3, 'закрытия': 3, 'входят': 3, 'демонстрация': 3, '1300': 3, 'остальных': 3, 'имуществу': 3, 'Зарплату': 3, 'провайдера': 3, 'проблемой': 3, 'похитил': 3, 'объяснение': 3, 'повер': 3, 'болгарку': 3, 'Эта': 3, 'стена': 3, 'Отдел': 3, 'предмета': 3, 'Обе': 3, 'наличия': 3, 'упаковку': 3, 'само': 3, 'Windows': 3, 'пробном': 3, 'причем': 3, 'расставания': 3, 'досудебной': 3, 'формате': 3, 'комиссией': 3, 'брокерский': 3, 'заявку': 3, 'сервитут': 3, 'весной': 3, 'рассказала': 3, 'подтвердила': 3, 'курьера': 3, 'органах': 3, 'остановить': 3, 'начислены': 3, 'биологически': 3, 'обманным': 3, 'Приехала': 3, 'считаете': 3, 'указывала': 3, 'безработным': 3, 'благоустройства': 3, 'переселении': 3, 'моём': 3, 'производить': 3, 'перехода': 3, 'консультанта': 3, '162': 3, 'Магнит': 3, 'Папа': 3, 'вакантна': 3, 'аттестовала': 3, 'службами': 3, 'исполнится': 3, 'производителя': 3, 'понятых': 3, 'наушники': 3, 'осознаю': 3, 'самому': 3, 'задала': 3, 'посмотрим': 3, 'социальная': 3, 'детской': 3, '1.3': 3, 'вызывал': 3, 'назначают': 3, 'относить': 3, 'стиральную': 3, 'машинку': 3, 'банкротстве': 3, 'Ваше': 3, 'коронавирус': 3, 'Е': 3, 'сделка': 3, 'зем': 3, 'туристов': 3, 'произвел': 3, 'залогов': 3, 'дарственная': 3, 'переводятся': 3, 'НКО': 3, 'высшую': 3, 'архив': 3, 'принудительного': 3, 'таков': 3, 'высокой': 3, 'ждите': 3, 'дознавателя': 3, 'фасад': 3, 'неровно': 3, 'устранении': 3, 'Сольвычегодск': 3, 'соблюдены': 3, 'доплаты': 3, 'среднюю': 3, 'получиться': 3, 'багажа': 3, 'видят': 3, 'Подпадют': 3, 'Петра': 3, 'газопровода': 3, '9,6': 3, 'риэлтора': 3, 'Покупатели': 3, 'займе': 2, 'заводить': 2, 'деловой': 2, 'снега': 2, 'взысканий': 2, 'выписался': 2, 'департаменте': 2, 'Беларусь': 2, 'платите': 2, 'прекратили': 2, 'молодую': 2, 'Самара': 2, 'квадрата': 2, 'критериям': 2, 'Светлана': 2, 'использована': 2, '28.08.2020': 2, '18.11.2021': 2, 'Зарегистрирован': 2, 'приобретенный': 2, 'ДДУ': 2, 'сдача': 2, 'работающие': 2, 'занимались': 2, 'бизнесом': 2, 'адвокатов': 2, 'договаривались': 2, 'заёмщиком': 2, 'соглашаюсь': 2, 'заемщиком': 2, 'вкладывала': 2, 'зарабатывала': 2, 'картам': 2, 'дс': 2, 'ездили': 2, 'списывались': 2, 'раскладе': 2, 'интересах': 2, 'выгодную': 2, 'касательно': 2, 'законе': 2, 'возить': 2, '156': 2, 'расчитают': 2, 'Предприятие': 2, 'труба': 2, 'зависимости': 2, 'осложнениями': 2, 'родах': 2, 'добавили': 2, 'установленной': 2, 'продолжительности': 2, '1984': 2, '1986': 2, 'вредное': 2, 'уголовно': 2, 'насильственной': 2, 'госпитализации': 2, 'Имеются': 2, 'пояснения': 2, 'преступники': 2, 'успеха': 2, 'правонарушения': 2, 'изучить': 2, 'подтверждено': 2, 'привлечением': 2, 'всём': 2, 'одинокого': 2, 'разгар': 2, 'разводиться': 2, 'раздельно': 2, 'мягким': 2, 'Якутии': 2, 'въехали': 2, 'багажника': 2, 'откладывала': 2, 'Работникам': 2, 'занятых': 2, 'вредными': 2, 'вредность': 2, 'молоко': 2, 'вредных': 2, 'сверхурочное': 2, 'рапорта': 2, 'гражданскую': 2, 'самовольном': 2, 'считая': 2, 'рассматривать': 2, 'качественная': 2, 'реализации': 2, 'выделения': 2, 'выделялись': 2, 'Росреестре': 2, 'госпошлину': 2, 'пострадал': 2, 'иностранный': 2, 'отбытие': 2, 'патента': 2, 'ваше': 2, 'рождена': 2, 'серьёзные': 2, 'запретят': 2, 'алкаш': 2, 'муляж': 2, 'сетка': 2, 'подошёл': 2, 'сено': 2, 'спроса': 2, 'выкрикивал': 2, 'показывал': 2, 'записано': 2, 'пожара': 2, 'телеграмм': 2, 'Отмена': 2, 'заведующая': 2, 'постоянные': 2, 'встречах': 2, 'подрос': 2, 'заменил': 2, 'административным': 2, 'надзором': 2, 'Маршрут': 2, 'бездействие': 2, 'установке': 2, 'запрещено': 2, 'бытовым': 2, 'убирать': 2, 'попытаются': 2, 'вышестоящему': 2, 'начальству': 2, 'кончится': 2, 'пропустил': 2, 'СТД': 2, 'подписанное': 2, 'торгов': 2, 'Живёт': 2, 'мужчины': 2, 'неохотно': 2, 'финансами': 2, 'выделяется': 2, 'родственником': 2, 'Относится': 2, 'подготовки': 2, 'Симферополе': 2, 'Украинскими': 2, 'номерами': 2, 'въехал': 2, 'отремонтировали': 2, 'амнистия': 2, 'Крыма': 2, 'закончилась': 2, 'создавать': 2, 'здоровые': 2, 'печи': 2, 'носит': 2, 'непрерывный': 2, 'сутками': 2, 'Продукты': 2, 'необходимой': 2, 'вакансии': 2, 'обстоит': 2, 'метод': 2, 'норме': 2, '3,': 2, 'деток': 2, 'иностранцем': 2, 'Родила': 2, 'дозвонится': 2, 'малышке': 2, 'талон': 2, 'настоящим': 2, 'должностям': 2, 'простое': 2, 'аргументированно': 2, 'сроками': 2, 'расписанием': 2, 'Президентом': 2, 'семей': 2, 'Указа': 2, '317': 2, 'указа': 2, 'тратила': 2, 'взыскал': 2, 'квартиросъёмщиком': 2, 'перезаключили': 2, 'получите': 2, 'вами': 2, 'вношу': 2, 'представитель': 2, 'Водоканал': 2, 'лейтенант': 2, 'восстановился': 2, 'осуществляю': 2, 'Начало': 2, 'войдут': 2, 'госпошлины': 2, 'алтайский': 2, 'разумный': 2, 'Признан': 2, 'поставлен': 2, 'структуре': 2, '2020-2022': 2, 'вопросам': 2, 'Написать': 2, '69000': 2, 'представлять': 2, 'ФСПП': 2, 'наркотика': 2, 'ожидать': 2, 'ощущение': 2, 'Общий': 2, 'ошейник': 2, 'подросток': 2, 'штаны': 2, 'наладили': 2, 'Разбил': 2, 'Окно': 2, 'восстановил': 2, 'хулиганство': 2, 'цифровой': 2, 'торговом': 2, 'предотвращения': 2, 'строился': 2, 'Сможем': 2, 'общедомовым': 2, 'Предлагают': 2, 'доплатой': 2, 'коллективном': 2, 'изменился': 2, 'начислить': 2, 'кости': 2, 'общему': 2, 'штате': 2, 'наблюдаюсь': 2, 'Самаре': 2, 'послали': 2, 'вставать': 2, 'потребительскому': 2, 'вахтами': 2, 'исключительных': 2, 'дезертирстве': 2, 'выстрел': 2, 'танк': 2, 'живы': 2, 'Выдача': 2, 'тмц': 2, 'перемещения': 2, 'перемещение': 2, 'безопасных': 2, 'Иркутской': 2, 'определяется': 2, 'необходимым': 2, 'проекту': 2, 'обойти': 2, 'Камчатке': 2, 'случаем': 2, 'воспитывал': 2, 'районной': 2, 'прах': 2, 'двухкомнатная': 2, 'однушка': 2, 'двухкомнатную': 2, 'пьяной': 2, 'драке': 2, 'край': 2, 'большей': 2, 'доработку': 2, 'перекрытие': 2, 'деталей': 2, 'скидывала': 2, 'обговаривалось': 2, 'праздников': 2, 'придя': 2, 'преподаватели': 2, '8.30': 2, 'науки': 2, 'объявлено': 2, '16.30': 2, 'актах': 2, 'дополнительному': 2, 'контрактник': 2, 'мужчин': 2, 'выбрала': 2, '19500': 2, 'Перевела': 2, 'автора': 2, 'скрин': 2, 'первичную': 2, 'стоила': 2, '19500/4': 2, 'оказана': 2, 'правильным': 2, '5125': 2, 'предоплата': 2, 'тренера': 2, 'зафиксировано': 2, '4500': 2, 'оформлю': 2, 'дарение': 2, 'сносе': 2, 'проходной': 2, 'несет': 2, 'хранения': 2, 'должностное': 2, 'самосвала': 2, 'перерывов': 2, 'детскую': 2, '6.11': 2, 'алиментному': 2, '½': 2, 'поведение': 2, 'доказательством': 2, 'создает': 2, 'Рассмотрят': 2, 'альтернативного': 2, 'братьев': 2, 'дядю': 2, 'сложится': 2, 'вернусь': 2, 'выплатит': 2, 'выделим': 2, 'социальному': 2, 'ухаживала': 2, 'Жилой': 2, 'вагон': 2, 'кубрике': 2, 'кровати': 2, 'вагоне': 2, 'соцсетях': 2, 'уголовную': 2, 'малолетнему': 2, 'путевой': 2, 'собирали': 2, 'смесь': 2, 'кадрах': 2, 'горячего': 2, 'вошел': 2, 'Контракт': 2, 'происходило': 2, 'стараются': 2, 'Министерство': 2, 'досрочном': 2, 'судьба': 2, 'двухквартирном': 2, 'долевая': 2, 'ознакомить': 2, 'Весь': 2, 'выслать': 2, 'рожден': 2, 'обманом': 2, 'передачей': 2, 'отслеживать': 2, 'санатория': 2, 'интерес': 2, 'посмотрела': 2, 'ампутация': 2, 'передавать': 2, 'привет': 2, 'позвать': 2, 'Выплачивал': 2, 'подписание': 2, 'отличие': 2, 'воспитатель': 2, 'кто-либо': 2, 'свяжутся': 2, 'связывались': 2, 'кое': 2, 'русский': 2, 'отозвали': 2, 'Никакой': 2, 'обычное': 2, 'кредитора': 2, 'цессии': 2, 'войну': 2, 'регистрировали': 2, 'рег': 2, 'ОКВЭД': 2, 'продано': 2, 'наличные': 2, 'книгу': 2, 'минимальными': 2, 'потерями': 2, '1000000': 2, '2300000': 2, 'объявят': 2, 'готовлюсь': 2, 'выпадает': 2, 'закрылся': 2, 'Врач': 2, 'уменьшится': 2, 'продолжу': 2, 'рукой': 2, '310': 2, 'удочерение': 2, 'нынешним': 2, 'войсках': 2, 'кодексу': 2, 'бил': 2, 'ругаться': 2, 'опекой': 2, 'государственное': 2, 'пригодным': 2, 'незнание': 2, 'иную': 2, 'выходы': 2, 'альтернативной': 2, 'гвардии': 2, 'продлевал': 2, 'погашенному': 2, 'Коллекторское': 2, 'выкупила': 2, 'выставило': 2, '14000': 2, 'Донецкой': 2, 'Закона': 2, 'Федеральный': 2, 'аналогичный': 2, 'разнятся': 2, 'напр': 2, 'Казахстане': 2, 'продаём': 2, 'Ростовской': 2, 'принадлежащей': 2, 'накладывают': 2, 'невозможна': 2, 'отчислен': 2, 'указывалось': 2, 'обучался': 2, 'обоснованно': 2, 'военнослужащему': 2, 'Сертификат': 2, 'потасовка': 2, 'Попросили': 2, 'отказную': 2, 'разговаривали': 2, 'множество': 2, 'приводов': 2, 'страх': 2, 'Повестки': 2, 'Умер': 2, 'знакома': 2, 'Похороны': 2, 'Который': 2, 'вердикт': 2, 'принуждают': 2, 'можешь': 2, 'физический': 2, 'оформленную': 2, 'ЦДУ': 2, '01.10.2020': 2, 'приостановили': 2, 'никакую': 2, 'бранью': 2, 'инцидента': 2, 'дожидаясь': 2, 'отстранении': 2, 'инстанция': 2, 'АСЦ': 2, 'неисправен': 2, 'электронные': 2, 'спиной': 2, 'видны': 2, 'возвращается': 2, 'Консультант': 2, 'Счет': 2, 'открытый': 2, 'мучает': 2, 'полагаться': 2, 'залоге': 2, '250000': 2, 'неуплата': 2, 'Подопечный': 2, 'опекуны': 2, 'похороны': 2, 'давным': 2, 'подсчетом': 2, 'испортил': 2, 'мыслимые': 2, 'отправит': 2, 'понимаете': 2, 'запускать': 2, 'обеспечивался': 2, 'формой': 2, 'началась': 2, 'близится': 2, 'концу': 2, 'Вызывают': 2, 'повестке': 2, 'кафедрой': 2, 'кафедре': 2, 'мероприятий': 2, 'решу': 2, 'появлялась': 2, 'понятия': 2, 'Узнала': 2, 'прописанные': 2, 'равные': 2, 'прибыть': 2, 'слева': 2, 'заняла': 2, 'работающем': 2, 'единственной': 2, 'сиротам': 2, 'отцовской': 2, 'двоюродной': 2, 'разом': 2, 'слову': 2, 'курсах': 2, 'Школа': 2, 'органами': 2, 'движении': 2, 'обратное': 2, 'последующего': 2, 'будит': 2, 'листам': 2, 'избивали': 2, 'увеличивается': 2, 'дополнительной': 2, 'нагрузке': 2, 'воспитание': 2, 'плательщика': 2, 'изменилась': 2, 'назначенную': 2, '50/50': 2, 'станков': 2, 'одевать': 2, 'захотим': 2, 'любое': 2, 'итд': 2, 'пределов': 2, 'русской': 2, 'бросает': 2, 'бухает': 2, 'выяснил': 2, 'Подумал': 2, 'перепутали': 2, 'сходится': 2, 'ИНН': 2, 'ссадины': 2, 'зафиксированы': 2, 'зуба': 2, 'пьяное': 2, 'угрожал': 2, 'Какие-то': 2, 'возвращено': 2, 'Фонда': 2, 'сменился': 2, 'доделать': 2, 'интимные': 2, 'интим': 2, 'посещения': 2, 'зала': 2, 'сняться': 2, 'полставки': 2, 'серая': 2, 'длительном': 2, 'ставок': 2, 'испортились': 2, 'разного': 2, 'Отпуска': 2, 'компенсаций': 2, 'аресты': 2, 'заказное': 2, 'расширение': 2, 'загородного': 2, 'единственная': 2, 'Осужден': 2, '20-х': 2, 'причастен': 2, '72': 2, 'решено': 2, 'приватизированные': 2, 'подлежат': 2, 'муниципальные': 2, 'расположены': 2, 'соседский': 2, 'кирпичный': 2, 'чей': 2, 'кирпич': 2, 'образовались': 2, 'Наши': 2, 'земельные': 2, 'включена': 2, 'большего': 2, 'соседские': 2, 'целесообразно': 2, 'сложная': 2, 'признала': 2, 'эпизодов': 2, 'впечатление': 2, 'мусор': 2, 'структуры': 2, 'повредило': 2, 'отдельной': 2, 'дополнительную': 2, 'положенные': 2, 'хозяев': 2, 'обочине': 2, 'правой': 2, 'приостановление': 2, 'положением': 2, 'жилищные': 2, 'нуждающегося': 2, 'удар': 2, 'выбил': 2, 'лишению': 2, 'Судебное': 2, 'физлица': 2, 'списана': 2, 'вокзале': 2, 'определенному': 2, 'розыске': 2, 'скрываюсь': 2, 'исправительного': 2, 'кисти': 2, 'какими-то': 2, 'дополнить': 2, 'тельфером': 2, 'обеспечили': 2, 'проведению': 2, 'материнском': 2, 'капитале': 2, '5.5': 2, 'маневренном': 2, 'переезде': 2, 'ипотекой': 2, 'юрьев-польский': 2, 'остатке': 2, 'выходя': 2, 'всплыл': 2, 'кругу': 2, 'несовершеннолетняя': 2, 'ужасная': 2, 'предлагал': 2, 'повлияли': 2, 'пандемию': 2, 'недвижимого': 2, 'ценного': 2, 'просрочила': 2, 'начисляются': 2, 'воздухе': 2, 'Поняла': 2, 'семейные': 2, 'мире': 2, 'пробовала': 2, 'дорогие': 2, 'советами': 2, 'внешность': 2, 'диагноза': 2, 'называть': 2, 'гендерный': 2, 'маркер': 2, 'вручении': 2, 'участвующих': 2, 'бишь': 2, 'местная': 2, 'Заставляют': 2, 'убежал': 2, 'Услугами': 2, 'написало': 2, 'удержанием': 2, 'добросовестно': 2, 'держу': 2, 'квартирам': 2, 'собираем': 2, 'готовить': 2, 'Казани': 2, 'территориально': 2, 'отзыв': 2, 'шаги': 2, '3/4': 2, 'мамина': 2, 'прежде': 2, 'госпошлина': 2, 'каждым': 2, 'делятся': 2, 'несчастных': 2, 'Менеджер': 2, 'намекал': 2, 'тянет': 2, 'сговор': 2, 'противоположной': 2, 'делаем': 2, 'нужное': 2, 'убежище': 2, 'занимала': 2, 'подсчётам': 2, 'регистрироваться': 2, 'подаю': 2, 'первоначально': 2, 'зимой': 2, 'действующими': 2, 'собственнику': 2, 'отвод': 2, 'засыпать': 2, 'выдвинул': 2, 'возместил': 2, 'переделывал': 2, 'однократно': 2, 'избивал': 2, 'разговаривает': 2, 'повышенных': 2, 'тонах': 2, 'Эти': 2, 'звонила': 2, 'производственного': 2, 'приступ': 2, 'лёгкий': 2, 'фундамент': 2, 'мессенджера': 2, 'выходными': 2, 'выступать': 2, 'поцарапал': 2, 'вотсап': 2, 'ПДН': 2, 'опросить': 2, 'опрос': 2, 'суммированный': 2, 'индивидуальной': 2, 'нормой': 2, 'конкретный': 2, '40-часовая': 2, 'рассчитываться': 2, 'зависит': 2, 'перенесут': 2, 'обидно': 2, 'отработок': 2, 'обнаружен': 2, 'Командование': 2, 'пообещали': 2, 'погасит': 2, 'гибели': 2, 'оплаченный': 2, 'отрезать': 2, 'доставить': 2, 'скидки': 2, 'руководством': 2, 'Грозят': 2, 'производственный': 2, 'отчислена': 2, 'отчимом': 2, 'вдова': 2, 'экране': 2, 'вчетвером': 2, 'миграционный': 2, 'покинуть': 2, 'адвокату': 2, 'обманывал': 2, 'потерялся': 2, 'покинул': 2, 'СМОГУ': 2, 'ЛИ': 2, 'ЗА': 2, 'догулять': 2, 'сократится': 2, 'деньгах': 2, 'удо': 2, 'прокуратуры': 2, 'убоя': 2, 'упаковки': 2, 'полуфабрикатов': 2, 'разрешается': 2, 'положенного': 2, 'срезают': 2, 'непредоставление': 2, 'предложением': 2, 'обработку': 2, 'AMOCRM': 2, 'браузер': 2, 'обзванивать': 2, 'помогали': 2, 'потребитель': 2, 'Двери': 2, 'приёмке': 2, 'Размещение': 2, 'озелененных': 2, 'территориях': 2, 'спортивных': 2, 'выгула': 2, 'Марий': 2, 'населенных': 2, 'предотвращение': 2, 'правонарушений': 2, 'аварий': 2, 'обеспечением': 2, 'общественной': 2, 'нарушена': 2, '1.4': 2, 'должностного': 2, 'ознакомится': 2, 'наказании': 2, 'выпустился': 2, 'стабильный': 2, 'частям': 2, '01.06.2022': 2, 'окладов': 2, 'Требую': 2, 'выселению': 2, 'хищения': 2, '1991': 2, 'ЧАЭС': 2, 'нуждающейся': 2, 'коммунальной': 2, 'квартиранты': 2, 'замка': 2, 'газовой': 2, 'долям': 2, 'Положено': 2, 'боксе': 2, 'арендуют': 2, 'бокс': 2, 'оказания': 2, 'ученический': 2, 'Понял': 2, 'ученическом': 2, 'предупрежден': 2, 'требованию': 2, 'уведомлен': 2, 'назначены': 2, 'повестки': 2, 'тёте': 2, 'последовательные': 2, 'контролировать': 2, 'прохождением': 2, 'переподготовки': 2, 'лазерной': 2, 'отработали': 2, 'тротуарная': 2, 'плитка': 2, 'Собственником': 2, 'пожарную': 2, 'экзамен': 2, 'уведомляя': 2, 'мотивировав': 2, 'Отправить': 2, 'растерянности': 2, 'фотографий': 2, 'выиграет': 2, 'обяжет': 2, 'слушание': 2, 'всякий': 2, '2-е': 2, 'местного': 2, 'самоуправления': 2, 'Верно': 2, 'бесполезно': 2, 'мфо': 2, 'согласованию': 2, 'возобновят': 2, 'гулял': 2, 'подругами': 2, 'держала': 2, 'Получилось': 2, 'толкнула': 2, 'невыплаты': 2, 'планируется': 2, 'проекты': 2, 'срочным': 2, 'договорам': 2, 'действующую': 2, '2019-2025': 2, 'Жить': 2, 'возможным': 2, 'угроза': 2, 'затратно': 2, 'Просит': 2, 'Липецка': 2, 'Находится': 2, 'возместили': 2, 'девочек': 2, 'поставят': 2, 'младшую': 2, 'логопедом': 2, 'освобождает': 2, 'Следовательно': 2, 'доверенностью': 2, 'признательна': 2, 'нескольким': 2, 'имеющее': 2, 'информационный': 2, 'изучения': 2, 'Окна': 2, 'психического': 2, 'расстройства': 2, 'утвержденный': 2, 'возбудить': 2, 'скажем': 2, 'возвратом': 2, 'Кореи': 2, 'планирует': 2, 'Саха': 2, 'Якутия': 2, 'Устроена': 2, 'заработала': 2, 'вынужденного': 2, 'IT': 2, 'занимаемся': 2, 'разработкой': 2, 'разработки': 2, 'команда': 2, 'продуктам': 2, 'испытательным': 2, 'должностными': 2, 'Арендатор': 2, 'съёмную': 2, 'открылась': 2, 'исход': 2, '450': 2, 'мира': 2, 'Мат': 2, 'выпишусь': 2, 'поломки': 2, 'Обороны': 2, 'методы': 2, 'насилие': 2, 'собиралась': 2, 'банкомата': 2, 'мобильном': 2, 'напарница': 2, 'доплачивают': 2, 'стажировка': 2, 'продолжается': 2, 'поднимаю': 2, 'пост': 2, 'эмоциях': 2, 'Сложно': 2, 'фразу': 2, 'защищает': 2, 'Машину': 2, 'возбуждать': 2, 'Дежурный': 2, 'настаивал': 2, 'лишали': 2, 'останутся': 2, 'Ипотека': 2, 'перечислением': 2, 'выплаченные': 2, '1,7': 2, 'Подавал': 2, 'ручкой': 2, 'нанес': 2, 'беседы': 2, 'Под': 2, 'подходят': 2, 'обоим': 2, 'неверные': 2, '98': 2, 'электричество': 2, 'справедливости': 2, 'подходил': 2, 'косить': 2, 'Отработал': 2, 'ожидании': 2, 'интернат': 2, 'перенёс': 2, 'падает': 2, 'питание': 2, 'покупаем': 2, 'интерната': 2, 'кричат': 2, 'Детский': 2, 'среде': 2, 'инвалидов': 2, 'бассейн': 2, 'успешно': 2, 'Мурманске': 2, 'небольшие': 2, 'Арестовали': 2, 'значатся': 2, 'скольки': 2, 'оплачивая': 2, 'ушибами': 2, 'понесёт': 2, 'отделался': 2, 'кем-то': 2, 'спецоперацию': 2, 'намеренное': 2, '15.11.2021': 2, 'рассмотрению': 2, '17.12.2021': 2, 'Приобрёл': 2, 'Раннее': 2, 'рассрочки': 2, 'документом': 2, 'вернёт': 2, 'регионах': 2, '116': 2, 'фиктивный': 2, 'соседнего': 2, 'балконом': 2, 'длятся': 2, 'искала': 2, 'погашен': 2, 'фактическое': 2, 'онкология': 2, 'включительно': 2, 'мышь': 2, 'Председатель': 2, 'электросчетчик': 2, 'Зачем': 2, 'Вкратце': 2, 'Отсутствие': 2, 'платежных': 2, 'отнять': 2, 'выложил': 2, 'Хоть': 2, 'переживаем': 2, 'товарищей': 2, 'штрафе': 2, 'опасения': 2, 'переехал': 2, 'копятся': 2, 'устраивал': 2, 'загорелся': 2, 'договариваться': 2, 'институте': 2, 'справка-вызов': 2, 'Исковое': 2, 'отключил': 2, 'возвращают': 2, 'обогащением': 2, 'прекращается': 2, 'Впереди': 2, 'остановил': 2, 'скзали': 2, 'Третий': 2, 'строим': 2, 'претендовал': 2, 'укусила': 2, 'лиса': 2, 'допускается': 2, 'отдельные': 2, 'заразных': 2, 'источников': 2, 'отвественности': 2, 'Служу': 2, 'созаёмщик': 2, 'Родная': 2, 'пригодной': 2, 'отпустила': 2, 'этапе': 2, 'лицензии': 2, 'отчислили': 2, 'получалось': 2, 'чист': 2, 'жениться': 2, 'ковида': 2, 'перенес': 2, 'смерть': 2, 'женитьбы': 2, 'советское': 2, 'Будьте': 2, 'добры': 2, 'родит': 2, 'Письменного': 2, 'начальства': 2, 'взымать': 2, 'общежития': 2, 'медицинское': 2, 'календарный': 2, '01.09.2020': 2, 'школ': 2, 'находящееся': 2, 'жкх': 2, 'повороте': 2, 'утверждённому': 2, 'зачислены': 2, 'праздничных': 2, 'Украина': 2, 'недостач': 2, 'считали': 2, 'списывает': 2, 'государству': 2, 'отбытия': 2, 'ППС': 2, 'особом': 2, 'отягчающих': 2, 'характеристика': 2, 'расписке': 2, 'заверенной': 2, 'нотариусом': 2, 'обязательствам': 2, 'Ее': 2, 'учащиеся': 2, 'ученица': 2, 'участника': 2, 'b': 2, 'стоить': 2, 'Мной': 2, 'коммерческой': 2, 'пустом': 2, 'функция': 2, 'Работница': 2, 'РКС': 2, '21.10.2021': 2, 'ИК': 2, 'замещать': 2, 'Имела': 2, 'аккумуляторщика': 2, 'стоять': 2, 'Учреждение': 2, 'Наличие': 2, 'юристом': 2, 'позиции': 2, 'команде': 2, 'предложило': 2, 'позицию': 2, 'правомерен': 2, 'подход': 2, 'Антон': 2, 'виновного': 2, 'запреты': 2, 'детская': 2, 'отмыла': 2, 'болею': 2, 'оставалось': 2, 'кричала': 2, 'поднимается': 2, 'отправлять': 2, 'исчез': 2, 'поля': 2, 'покое': 2, 'Тест': 2, 'поначалу': 2, 'сказаться': 2, 'видя': 2, 'оценили': 2, 'гости': 2, 'дальнейшая': 2, 'алиментных': 2, 'понятна': 2, 'краже': 2, 'Отцовство': 2, 'раннее': 2, 'заявленным': 2, 'заявленное': 2, 'процессу': 2, 'белую': 2, 'пробовал': 2, 'вручить': 2, 'транспортное': 2, 'положительного': 2, 'микрозайма': 2, 'отвечал': 2, 'испол': 2, 'ИД': 2, '24.07.2020': 2, 'трактор': 2, 'родственнику': 2, 'появлялся': 2, 'запланирован': 2, 'Необходимо': 2, 'Костромской': 2, 'Саратовской': 2, 'полномочия': 2, 'войска': 2, 'потерь': 2, 'возвращения': 2, 'взыскателя': 2, 'интересовался': 2, 'Нынешний': 2, 'нынешнему': 2, 'учения': 2, 'военные': 2, 'депутатов': 2, 'многоквартирным': 2, 'косметический': 2, 'бездействует': 2, 'понравилась': 2, 'бирки': 2, 'удерживала': 2, 'удерживал': 2, 'Принесла': 2, 'пустить': 2, 'заказали': 2, 'редактировать': 2, '22000': 2, 'реорганизация': 2, 'беседу': 2, 'Правил': 2, 'Следует': 2, 'непрерывной': 2, 'Закрывают': 2, 'женаты': 2, 'скандал': 2, 'ставкой': 2, 'содержимом': 2, 'транспортная': 2, 'дол': 2, 'доставке': 2, 'сообщив': 2, 'вымогательство': 2, 'единовременное': 2, 'выплачивается': 2, 'отрицать': 2, 'доставку': 2, 'Посылка': 2, 'спрашивала': 2, 'осуществление': 2, 'серой': 2, 'коллективе': 2, 'белая': 2, 'начальном': 2, 'протоколов': 2, 'варианте': 2, 'распорядился': 2, 'несовершеннолетней': 2, 'материнским': 2, 'совместным': 2, 'лицевого': 2, '04': 2, 'преследования': 2, 'Обязана': 2, 'оператора': 2, 'содержанием': 2, 'доставлен': 2, 'прошествии': 2, 'наркодиспансере': 2, 'лечь': 2, 'анализа': 2, 'сохранении': 2, 'вручил': 2, 'свободные': 2, 'вступают': 2, 'Новосибирске': 2, 'обнаружился': 2, 'бракованного': 2, 'обмена': 2, 'несоответствие': 2, 'тёща': 2, 'приезжают': 2, 'Делал': 2, 'говорилось': 2, 'открытым': 2, 'тепло': 2, 'открыта': 2, 'диван': 2, 'самоуправство': 2, 'медицинского': 2, 'Мартьянова': 2, '39,': 2, 'справок': 2, 'попались': 2, 'лицевые': 2, 'водоотведение': 2, 'косяк': 2, 'Юристы': 2, 'отключение': 2, 'Проработал': 2, 'брачного': 2, 'Л': 2, 'Своё': 2, 'мотивировал': 2, 'слушания': 2, 'мочи': 2, 'штукатурка': 2, 'потолка': 2, 'Арест': 2, 'Заключили': 2, 'подрядчику': 2, 'условному': 2, 'отменялось': 2, 'Будучи': 2, 'Освободился': 2, 'приговорил': 2, 'Смягчающие': 2, 'прокурор': 2, 'предусматривает': 2, 'условным': 2, 'Ключи': 2, 'подработка': 2, 'максимум': 2, 'Выяснил': 2, 'Разговор': 2, 'мелкое': 2, 'компенсацией': 2, 'ЖКУ': 2, 'ВЦ': 2, 'нетрудоспособности': 2, 'Военный': 2, 'восемь': 2, 'пятьдесят': 2, 'направляются': 2, 'тысяча': 2, 'Договору': 2, '76000': 2, 'наказывают': 2, 'кузнецом': 2, 'Прошел': 2, 'результаты': 2, 'Отправляют': 2, 'извещен': 2, 'лыжах': 2, 'проводятся': 2, 'соответствовал': 2, 'Лыжня': 2, 'анонимная': 2, 'завучем': 2, 'обсудили': 2, 'составляется': 2, 'ФГОС': 2, 'палками': 2, 'классу': 2, 'Жалоба': 2, 'спрашивали': 2, 'поданы': 2, 'зачислен': 2, 'медосмотр': 2, 'выполняя': 2, 'мошенниками': 2, 'сдали': 2, 'Иду': 2, 'брендовой': 2, 'натуральной': 2, 'схем': 2, 'выходят': 2, 'покупками': 2, 'предупреждать': 2, 'межкомнатные': 2, 'застройщик': 2, 'сложные': 2, 'отстранён': 2, 'вакцинироваться': 2, 'ковидные': 2, 'упаковать': 2, 'пакеты': 2, 'желании': 2, 'образовался': 2, 'отключения': 2, 'заключался': 2, 'ВЧ': 2, 'возникшей': 2, 'республике': 2, 'районам': 2, 'северного': 2, 'английского': 2, 'структурных': 2, 'оформляет': 2, 'восстановилась': 2, 'миллион': 2, 'Старшая': 2, 'Мою': 2, 'обеспеченная': 2, 'доставлять': 2, 'миллионов': 2, 'рулем': 2, 'ночам': 2, 'добирайтесь': 2, 'деваться': 2, 'дисциплину': 2, 'принадлежащего': 2, 'подсобного': 2, 'предпринимательство': 2, 'объяснила': 2, 'поверила': 2, 'вступали': 2, 'безоговорочно': 2, 'финансового': 2, 'выросли': 2, 'здания': 2, 'конторе': 2, 'аргументировать': 2, 'Алиментов': 2, 'прошлые': 2, 'смущает': 2, 'объекте': 2, 'Последствия': 2, 'курсантом': 2, 'называется': 2, 'Тольятти': 2, 'переходила': 2, 'набрала': 2, 'влиять': 2, 'выпишут': 2, 'Занимаюсь': 2, 'популярной': 2, 'игроками': 2, 'ценности': 2, 'юристам': 2, 'юристами': 2, 'предоставлю': 2, 'заселилась': 2, 'сломанный': 2, 'шторки': 2, 'балконе': 2, 'восстановлению': 2, 'течь': 2, 'сохранен': 2, 'Благовещенск': 2, 'собрался': 2, 'согласованно': 2, 'остановлен': 2, 'показалось': 2, '0,58': 2, 'вождения': 2, 'регистратор': 2, 'свободны': 2, '5-6': 2, 'городке': 2, 'жилым': 2, 'свободной': 2, 'Почти': 2, 'исключили': 2, 'оформиться': 2, 'самозанятая': 2, 'списывали': 2, 'расследования': 2, 'Субсидию': 2, 'РЖУ': 2, 'оценкой': 2, 'пометкой': 2, 'руководители': 2, 'оплатите': 2, 'настояла': 2, 'Пенсионный': 2, 'произвёл': 2, 'Остальное': 2, 'Оказывается': 2, 'привязан': 2, 'мошенница': 2, 'собраний': 2, 'отсутствовал': 2, 'собрании': 2, 'написании': 2, 'вышеперечисленное': 2, 'обстоятельство': 2, 'ВУЗа': 2, 'квадратуру': 2, 'недостроенный': 2, 'реализовать': 2, 'неустойке': 2, 'неофициальный': 2, 'плиту': 2, 'оплачиваемом': 2, 'предъявили': 2, 'поровну': 2, 'потихоньку': 2, 'набрал': 2, 'Оплатить': 2, 'заказывать': 2, 'Звонила': 2, 'сервиса': 2, 'заключением': 2, 'самая': 2, 'должнику': 2, 'УМВД': 2, 'легче': 2, 'по-прежнему': 2, 'чувствую': 2, 'букву': 2, 'участником': 2, 'накопительной': 2, 'верховного': 2, 'здравоохранения': 2, '10-дневный': 2, 'отменил': 2, 'заваливает': 2, 'собирает': 2, 'тратится': 2, 'федеральной': 2, 'определён': 2, 'негативно': 2, 'сказывается': 2, 'целая': 2, 'врезались': 2, 'носят': 2, 'недействителен': 2, 'попечении': 2, 'Ввиду': 2, 'надлежащего': 2, 'захотел': 2, 'Авито': 2, 'составит': 2, 'отправлю': 2, 'соглашусь': 2, 'удержана': 2, 'жалко': 2, '-20000': 2, 'подаётся': 2, 'наследником': 2, 'наследстве': 2, 'работающей': 2, 'инструкция': 2, 'узнавать': 2, 'родному': 2, 'целевого': 2, 'контору': 2, 'отстранили': 2, 'офиса': 2, '7600': 2, 'продаёт': 2, 'умолчанию': 2, '13.000': 2, 'помогаю': 2, 'нахожу': 2, 'записями': 2, 'открывает': 2, 'разработка': 2, 'передавал': 2, 'передо': 2, 'встречаться': 2, 'штрафами': 2, '12500': 2, 'вашей': 2, 'пойман': 2, 'пьяным': 2, 'гаишники': 2, 'выбежал': 2, 'доехать': 2, '2800': 2, 'роли': 2, 'подтверждал': 2, 'разбираются': 2, 'заверить': 2, 'играет': 2, 'роль': 2, 'предвзято': 2, 'незнакомый': 2, 'невыполнения': 2, 'состояла': 2, 'предметам': 2, 'пила': 2, 'Сдали': 2, 'вождению': 2, 'медицинская': 2, 'просрочена': 2, 'стечению': 2, 'предоставлению': 2, 'агентом': 2, 'воцап': 2, 'вынуждена': 2, 'Возврата': 2, 'агенства': 2, 'вложил': 2, 'равнозначную': 2, 'штаб': 2, 'усмотрению': 2, '337': 2, 'отмечаюсь': 2, 'спортивный': 2, 'костюм': 2, 'наложенным': 2, 'платежом': 2, 'устала': 2, 'культуре': 2, 'проданной': 2, 'отданные': 2, 'Проживал': 2, 'равнозначного': 2, 'выселении': 2, 'служебную': 2, 'арендный': 2, 'подвальное': 2, 'причинение': 2, 'прежнее': 2, 'адресе': 2, 'соотвественно': 2, 'Счета': 2, 'высчитывается': 2, 'арбитражного': 2, 'кинологом': 2, 'подразделении': 2, 'ивс': 2, 'оставлено': 2, 'принудить': 2, 'конкурсную': 2, 'использует': 2, 'разрешении': 2, 'св-ва': 2, 'ошибок': 2, 'Занял': 2, '167': 2, 'включается': 2, 'ответьте': 2, 'уведомлял': 2, 'Российскую': 2, 'отсидел': 2, 'параметрам': 2, 'наличку': 2, 'добавила': 2, 'расписок': 2, 'наиболее': 2, 'развития': 2, 'ребятишек': 2, 'прогула': 2, 'механизма': 2, 'выслала': 2, 'Сгорела': 2, 'Подушки': 2, 'каждая': 2, 'уголовные': 2, 'использовали': 2, 'обратную': 2, 'встречную': 2, 'переднюю': 2, 'агента': 2, 'балкона': 2, 'наледь': 2, 'Телевизор': 2, 'перегорели': 2, 'заменили': 2, 'гарантийного': 2, 'охранником': 2, 'поделить': 2, 'разнополые': 2, 'однокомнатная': 2, 'Прошёл': 2, 'видеоролик': 2, 'ютуба': 2, 'привык': 2, 'вызов': 2, 'веских': 2, 'учительница': 2, 'физике': 2, 'индивидуальным': 2, 'Людмила': 2, 'насчёт': 2, 'потерей': 2, 'вступаю': 2, 'Требует': 2, 'Вологда': 2, 'началом': 2, 'ДС': 2, 'выданную': 2, 'исполнительной': 2, 'исполнительную': 2, 'приложив': 2, 'Пенсионного': 2, 'Исполнитель': 2, 'работающего': 2, 'браком': 2, '205.6': 2, 'отдельных': 2, 'комментариев': 2, 'обещания': 2, 'устное': 2, 'просроченный': 2, 'привлечению': 2, 'тс': 2, 'обойдется': 2, 'пострадавшему': 2, 'многодетный': 2, 'чате': 2, 'наемной': 2, 'уступки': 2, 'Своего': 2, 'СДЭК': 2, 'приют': 2, 'Супруги': 2, 'разводятся': 2, 'Какими': 2, 'металла': 2, 'инструменты': 2, 'опросили': 2, 'кормят': 2, 'мировым': 2, 'судьям': 2, 'отменять': 2, 'чистую': 2, 'Платит': 2, 'металл': 2, 'отдыхал': 2, 'подумал': 2, 'привёз': 2, 'вызове': 2, 'региональную': 2, 'переселению': 2, 'приписали': 2, 'страна': 2, 'поселок': 2, '126': 2, 'Ремонт': 2, 'взяты': 2, 'минусом': 2, 'нынешнего': 2, 'посуды': 2, 'форма': 2, 'Получили': 2, 'отрицает': 2, 'мужчину': 2, 'заведующим': 2, 'неопределенный': 2, 'заседаниях': 2, '3.1': 2, 'глючит': 2, 'лето': 2, 'Глава': 2, 'прописалась': 2, 'Московской': 2, 'Трудовую': 2, 'переуступке': 2, 'Где-то': 2, 'лимитом': 2, 'внесено': 2, 'отработку': 2, '14.10.2021': 2, 'гостинице': 2, 'Паспорта': 2, 'понятное': 2, 'психологическая': 2, 'крупном': 2, 'разы': 2, 'физическим': 2, 'движимого': 2, 'указанному': 2, 'близким': 2, 'применении': 2, 'Белоруссии': 2, 'взрослая': 2, 'обстановка': 2, 'тараканы': 2, 'пожизненный': 2, 'закрытием': 2, 'протирать': 2, 'зале': 2, 'прежней': 2, 'закрывая': 2, 'принимала': 2, 'рецепту': 2, 'феназепам': 2, 'принимаю': 2, 'зубы': 2, 'огромный': 2, 'соответствующую': 2, 'новогоднюю': 2, 'испорчен': 2, 'следом': 2, 'обвинила': 2, 'избиении': 2, 'пьяном': 2, 'квартиросъёмщик': 2, 'совершеннолетняя': 2, 'порядку': 2, 'удочерена': 2, 'поликлиники': 2, 'племянника': 2, 'Отсюда': 2, 'называемая': 2, 'сть': 2, 'Сбер': 2, 'переписок': 2, 'сохранилось': 2, 'Некоторые': 2, 'сменному': 2, 'фио': 2, 'Заказали': 2, 'привезут': 2, 'сборщик': 2, 'ящики': 2, 'вскрывали': 2, 'магазином': 2, 'собранием': 2, 'сборщиком': 2, 'заболеванием': 2, 'Ц': 2, 'повлияла': 2, 'память': 2, 'ударилась': 2, 'пролежала': 2, 'наступил': 2, 'залезла': 2, 'ведомства': 2, 'расписалась': 2, 'оставляют': 2, 'неявки': 2, 'соглашении': 2, 'Мало': 2, 'Узнали': 2, 'Всю': 2, 'социальном': 2, 'невыносимо': 2, 'небольшую': 2, 'осложняется': 2, 'надежде': 2, 'чьей': 2, 'осуществлен': 2, 'действовал': 2, 'создав': 2, 'выписывается': 2, 'собственницей': 2, 'Разошлись': 2, 'некого': 2, 'дало': 2, 'Евгений': 2, 'Площадь': 2, 'ОМС': 2, 'риск': 2, 'страховым': 2, 'веду': 2, 'здоровый': 2, 'гарнизон': 2, 'Нальчик': 2, 'подписывают': 2, 'распространении': 2, 'свидетелями': 2, 'головного': 2, 'Бюро': 2, 'Инвалидность': 2, 'Дагестане': 2, 'определена': 2, 'упражнения': 2, 'заказчиком': 2, 'топить': 2, '16.5': 2, 'девочкой': 2, 'учеба': 2, 'Грузии': 2, 'бесплатной': 2, 'квадратные': 2, 'Дадут': 2, 'тестя': 2, 'тесть': 2, 'офицер': 2, 'подготовке': 2, 'плохое': 2, 'окончательное': 2, 'полномочий': 2, 'виды': 2, 'исполнять': 2, 'исполнено': 2, 'погашенной': 2, 'языком': 2, 'ясно': 2, 'Ударил': 2, 'Хозяин': 2, 'вписал': 2, 'ти': 2, 'выкупили': 2, 'предоставляют': 2, 'выезжать': 2, 'Прописано': 2, 'строчку': 2, 'неизвестен': 2, 'управляющего': 2, 'купит': 2, 'выразил': 2, 'обязательным': 2, 'поскользнулся': 2, 'колено': 2, 'обменялись': 2, 'чёрная': 2, 'половой': 2, '121': 2, 'ученика': 2, 'уроке': 2, 'машиниста': 2, 'ген': 2, 'Беременна': 2, 'ранние': 2, 'помешать': 2, 'Находилась': 2, 'стимулирующих': 2, 'выделяют': 2, 'возмущаться': 2, 'социально': 2, 'налоговых': 2, 'избить': 2, 'признался': 2, 'описание': 2, 'оскорбительное': 2, 'выводы': 2, 'призовут': 2, 'ответу': 2, 'подругу': 2, 'протоколы': 2, 'оставляю': 2, 'злостного': 2, 'передумал': 2, 'проконсультировать': 2, 'удержании': 2, 'ознакомиться': 2, 'кассиром': 2, 'сварщиком': 2, 'база': 2, 'базу': 2, 'кормить': 2, 'пригоден': 2, 'смотрю': 2, 'нужные': 2, 'хранит': 2, 'меняет': 2, 'надеяться': 2, 'Иначе': 2, 'предупреждением': 2, 'Оплату': 2, '7300': 2, 'пцр': 2, 'должностную': 2, 'изменениями': 2, 'Исправительном': 2, 'начиная': 2, 'старое': 2, 'свободное': 2, 'пускают': 2, 'добровольному': 2, 'некогда': 2, 'нормальную': 2, 'удастся': 2, 'давай': 2, 'Проживают': 2, 'таблетки': 2, 'мальчики': 2, 'бесплатное': 2, 'вначале': 2, 'сократят': 2, 'ввести': 2, 'шантажирует': 2, 'дополнительного': 2, 'худшем': 2, 'продолжение': 2, 'темы': 2, 'www': 2, 'Входят': 2, 'употреблял': 2, 'посещении': 2, 'скидка': 2, 'Извините': 2, 'Приватизирована': 2, 'минуя': 2, 'заявлено': 2, 'разорваны': 2, 'цитата': 2, 'уполномоченные': 2, 'истребования': 2, 'посещение': 2, 'жителем': 2, 'юридические': 2, 'Признание': 2, 'копейку': 2, 'коллекторскому': 2, 'агенству': 2, 'отменяет': 2, 'во-вторых': 2, 'общедолевой': 2, 'туалета': 2, 'секции': 2, 'министерства': 2, 'слежу': 2, 'игрового': 2, 'игровой': 2, 'Прибыль': 2, 'получают': 2, 'рекламу': 2, 'возбуждаются': 2, 'анонимно': 2, 'вайбер': 2, 'местоположение': 2, 'вёл': 2, 'участвовала': 2, 'магистратуру': 2, 'несколькими': 2, 'вымышленными': 2, 'приобреталась': 2, 'цен': 2, 'заняться': 2, 'продавцов-консультантов': 2, 'взятых': 2, 'прошедшие': 2, 'руководствоваться': 2, 'отдыхали': 2, 'подъехала': 2, 'троем': 2, 'разнимать': 2, 'лезли': 2, 'лезть': 2, 'ехали': 2, 'головную': 2, 'партнером': 2, 'накладных': 2, 'КРУ': 2, 'УД': 2, 'сидим': 2, 'образует': 2, 'оконченное': 2, 'статей': 2, 'деяниях': 2, 'длящиеся': 2, 'истекли': 2, 'здании': 2, 'санузел': 2, 'обещала': 2, '70000': 2, '28.10.21': 2, 'случаю': 2, 'находящийся': 2, 'вагончике': 2, 'санитарные': 2, 'Можги': 2, 'гражданская': 2, 'злостным': 2, 'нарушителем': 2, 'поддерживаем': 2, 'ученическому': 2, 'хр': 2, 'посредством': 2, 'зря': 2, 'митральная': 2, 'трикуспидальная': 2, 'регургитация': 2, 'почках': 2, 'приступы': 2, 'диагнозом': 2, 'сердца': 2, 'МИЛИ': 2, 'обанкротилась': 2, 'задачу': 2, 'удержаны': 2, 'огромная': 2, 'покойного': 2, 'Делала': 2, 'назначал': 2, '2000000': 2, 'сотрудничества': 2, '11.11.2021': 2, 'вырасти': 2, 'неработающей': 2, 'налоговые': 2, 'последствиях': 2, 'продавцами': 2, 'едином': 2, 'налоге': 2, 'прекратила': 2, 'лежало': 2, 'уничтожить': 2, 'черной': 2, 'подрывает': 2, 'репутацию': 2, 'клеветника': 2, 'клеветы': 2, 'свидетельские': 2, 'установит': 2, 'берёт': 2, 'Свидетельство': 2, 'обеим': 2, 'выписка': 2, 'выходили': 2, 'отсутствовали': 2, 'двухнедельной': 2, 'закончен': 2, 'Сына': 2, 'пресечения': 2, 'арестовывают': 2, 'перевозок': 2, 'хирург': 2, 'странный': 2, 'кодексов': 2, 'единый': 2, 'крупный': 2, 'крупному': 2, 'заключены': 2, 'ожидания': 2, 'Начала': 2, 'предлагать': 2, 'повторюсь': 2, 'доступно': 2, 'контактов': 2, 'порочит': 2, 'недобросовестным': 2, 'обоев': 2, 'отучился': 2, 'филиале': 2, 'головной': 2, 'объясняют': 2, 'калькулятора': 2, 'разделен': 2, 'бараке': 2, 'Рублей': 2, 'диктофон': 2, 'озвучивание': 2, 'контора': 2, 'выплачиваем': 2, 'затянулся': 2, 'глухой': 2, 'гол': 2, 'повезли': 2, 'требовалась': 2, 'Собака': 2, 'нахождении': 2, 'убили': 2, 'служебном': 2, 'отделениях': 2, 'угрозах': 2, 'накладывать': 2, 'листке': 2, 'потратил': 2, 'вносит': 2, 'молодых': 2, 'продавец-кассир': 2, 'соответсвии': 2, 'принимали': 2, 'вычитали': 2, 'Ниже': 2, 'текста': 2, 'изложено': 2, 'прачечную': 2, 'технического': 2, 'обязанностями': 2, 'собеседования': 2, 'бюджетного': 2, 'закупает': 2, 'пользуясь': 2, 'предыдущий': 2, 'отчета': 2, 'выполняют': 2, 'Дела': 2, 'некой': 2, 'отгружено': 2, 'поддельной': 2, 'резкость': 2, '0.7': 2, 'кассационную': 2, 'законны': 2, 'рассрочка': 2, 'лететь': 2, 'МАГНИТ': 2, 'Оплатил': 2, 'невыплате': 2, 'сверхурочных': 2, 'ночных': 2, 'Роспотребнадзора': 2, 'Сдала': 2, 'трейд-ин': 2, 'возмутилась': 2, 'счетчиков': 2, 'приносят': 2, 'обернуться': 2, 'месторождения': 2, 'рейсы': 2, 'ужасные': 2, 'мыться': 2, 'нормальная': 2, 'больна': 2, 'прекрасные': 2, 'адекватно': 2, 'кидает': 2, 'судах': 2, 'убьёт': 2, 'регулярные': 2, 'судимый': 2, 'летия': 2, 'ряда': 2, 'убийством': 2, 'Одновременно': 2, 'исключила': 2, 'предварительному': 2, 'сговору': 2, 'обмана': 2, 'строгий': 2, 'разглашения': 2, 'когда-нибудь': 2, 'направленные': 2, 'купленном': 2, 'Военнослужащий': 2, '59,1': 2, 'вычли': 2, 'съеме': 2, 'продавцам': 2, 'намеренно': 2, 'соседки': 2, 'особого': 2, 'многодетные': 2, 'начислен': 2, 'Брянске': 2, 'понимал': 2, 'вернётся': 2, 'Прокуратуру': 2, 'Сами': 2, 'ВК': 2, 'сканы': 2, 'сомнений': 2, 'решаются': 2, 'вашу': 2, 'подробно': 2, 'волнуйтесь': 2, 'четырех': 2, 'Алкоголь': 2, 'открытом': 2, 'списывается': 2, 'денежная': 2, 'всплыло': 2, 'Квартплату': 2, 'накопила': 2, 'обременений': 2, 'построить': 2, 'хоз': 2, 'распологается': 2, 'охранной': 2, 'размещения': 2, 'жилищного': 2, 'строить': 2, 'бросить': 2, 'Уговаривают': 2, 'согласовано': 2, 'сяду': 2, 'выезжая': 2, 'гаишника': 2, 'COVID-19': 2, 'спора': 2, 'несовершенно': 2, 'Изучив': 2, 'Пленума': 2, '249': 2, 'смыслу': 2, 'вносится': 2, 'Семейного': 2, 'обязании': 2, 'ограниченно': 2, 'распространяется': 2, '“': 2, 'предъявлении': 2, 'участвуют': 2, 'долевых': 2, '229.4': 2, 'совпал': 2, 'рабочими': 2, 'казино': 2, 'экземпляре': 2, 'разработке': 2, 'программное': 2, 'принципиально': 2, 'платную': 2, 'версию': 2, 'разработчиков': 2, 'предложения': 2, 'купли': 2, 'мошенника': 2, 'госслужащая': 2, '14.01.2021': 2, 'сокращать': 2, 'техподдержку': 2, 'акк': 2, 'забанен': 2, 'совершена': 2, 'отсрочкой': 2, 'солдата': 2, 'итогам': 2, 'муниципалитет': 2, 'техническими': 2, 'просьбами': 2, 'Госуслуги': 2, 'ЦНЗ': 2, 'Доходы': 2, 'периоде': 2, 'доходам': 2, 'Снимут': 2, 'совершеннолетним': 2, 'отдельную': 2, 'устраивало': 2, 'сообщал': 2, 'припишут': 2, 'какую-либо': 2, 'Родитель': 2, 'нос': 2, 'актерами': 2, 'кому-либо': 2, 'оставшаяся': 2, 'производств': 2, 'поезд': 2, 'самолет': 2, 'пересадки': 2, 'отпускном': 2, 'куплены': 2, 'свадьбой': 2, 'проездные': 2, 'маршруту': 2, 'выезжала': 2, 'из-заработной': 2, 'пил': 2, 'вследствие': 2, 'Оформил': 2, 'каско': 2, 'смотрели': 2, 'готовятся': 2, 'документу': 2, 'Газпрома': 2, 'автомобили': 2, 'ключом': 2, 'Вместо': 2, 'Две': 2, 'тамбура': 2, 'август-сентябрь': 2, 'сохранив': 2, 'аналог': 2, 'нуля': 2, 'постепенно': 2, 'НИС': 2, 'дцп': 2, 'Питере': 2, '2-': 2, 'доски': 2, 'многое': 2, 'Последние': 2, 'совершала': 2, 'скитаюсь': 2, 'временным': 2, 'ремонтировать': 2, 'подавали': 2, 'уменьшения': 2, 'производился': 2, 'стояке': 2, 'специфики': 2, 'Хабаровском': 2, 'эксплуатируется': 2, 'ковидном': 2, 'дню': 2, 'внуками': 2, 'достигшими': 2, 'постороннем': 2, 'какие-нибудь': 2, 'роддома': 2, 'подтвердит': 2, 'Прописан': 2, 'водителю': 2, 'пассажир': 2, 'осуществлял': 2, 'уважительной': 2, 'Налоговая': 2, '1,8': 2, 'марки': 2, 'законодательство': 2, 'ложном': 2, 'уж': 2, 'выражаю': 2, 'обсуждали': 2, 'признавать': 2, 'посетить': 2, 'спиртных': 2, 'общественном': 2, 'полученной': 2, '21,5': 2, 'Владивосток': 2, 'доплатить': 2, 'оплатит': 2, 'судят': 2, 'рассчитал': 2, 'архиве': 2, 'склад': 2, 'материалом': 2, 'Жилищный': 2, 'поставка': 2, 'Предложили': 2, 'кабина': 2, 'приезда': 2, 'генерального': 2, 'законодательству': 2, 'желаемого': 2, 'допускают': 2, 'ждет': 2, 'небольшого': 2, 'запугивает': 2, 'процентная': 2, 'текущее': 2, 'возобновила': 2, 'платного': 2, 'стояку': 2, 'эт': 2, 'доработать': 2, '131': 2, 'наркотик': 2, 'товарищ': 2, 'разводом': 2, 'курю': 2, 'внука': 2, 'присылает': 2, 'удочерении': 2, 'мгновенно': 2, 'прекратилась': 2, 'указанно': 2, 'организатором': 2, 'засчитали': 2, 'начислении': 2, 'досрочной': 2, 'подруге': 2, 'нехватает': 2, 'засчитан': 2, 'Выходит': 2, 'приватизирован': 2, 'землей': 2, 'ставился': 2, 'убедили': 2, 'раздача': 2, 'жертвуем': 2, 'родную': 2, 'достижению': 2, 'психологу': 2, 'дд': 2, 'агентство': 2, 'опираться': 2, 'социальные': 2, 'выплатам': 2, 'регламент': 2, 'освидетельствование': 2, 'бессрочного': 2, 'подписанием': 2, 'передним': 2, '11.01.2022': 2, 'произведены': 2, '06': 2, 'собственном': 2, '161': 2, 'Характеристики': 2, 'запрещать': 2, 'осуществить': 2, 'СИЗ': 2, 'почитать': 2, 'Вызвала': 2, 'Работаем': 2, 'вахтовом': 2, 'непонятные': 2, 'столе': 2, 'упакованы': 2, 'храниться': 2, 'устанавливается': 2, 'соблюдения': 2, 'вносятся': 2, 'Госреестр': 2, 'автомойки': 2, 'госреестр': 2, 'стекло': 2, 'лесу': 2, 'разбив': 2, 'ближайшим': 2, 'Основной': 2, 'найдена': 2, 'кормит': 2, 'Жила': 2, 'название': 2, 'потребуются': 2, 'оштрафовать': 2, 'Израиля': 2, 'успеть': 2, 'закупку': 2, 'обосновать': 2, 'однокомнатной': 2, 'Ссылается': 2, 'ТС': 2, 'Полагаю': 2, 'эксперты': 2, 'недействительной': 2, 'моральных': 2, 'виновнику': 2, 'длилось': 2, 'отеле': 2, 'Египта': 2, 'Оформление': 2, 'Шарм': 2, 'эш': 2, 'перерыва': 2, 'отеля': 2, '1.12': 2, 'Развелся': 2, 'Белгород': 2, 'приём': 2, 'спор': 2, 'реструктуризацию': 2, 'сцены': 2, 'злоупотреблял': 2, 'спиртным': 2, 'Всегда': 2, 'родитель': 2, 'находящиеся': 2, 'добираемся': 2, 'переведён': 2, 'аспирантуры': 2, 'отчислиться': 2, 'цитату': 2, 'безобидный': 2, 'оригинального': 2, 'предоставляя': 2, 'спина': 2, 'расторгнул': 2, 'срокам': 2, 'направлять': 2, 'Приехать': 2, 'законное': 2, 'вскрывать': 2, 'просрочкой': 2, 'Карелия': 2, 'Крайнему': 2, 'Северу': 2, 'Северный': 2, 'окончание': 2, 'успею': 2, 'психическое': 2, 'ночной': 2, 'официантом': 2, 'управляющему': 2, 'фиг': 2, 'ваш': 2, 'отличный': 2, 'Читал': 2, 'учёба': 2, 'апреле-мае': 2, 'скота': 2, 'накладным': 2, 'Первые': 2, 'сопровождения': 2, 'ЛНР': 2, 'внешняя': 2, 'вызвало': 2, 'покупалась': 2, 'распаковке': 2, 'менеджеру': 2, 'закрепили': 2, 'Много': 2, 'свадьбу': 2, 'кучу': 2, 'Россия': 2, 'попадет': 2, 'пропустят': 2, 'бери': 2, 'прилетай': 2, 'узнавал': 2, 'позвали': 2, 'пахнет': 2, 'усыновили': 2, 'городском': 2, 'сотрудница': 2, 'мессенджер': 2, 'публичным': 2, 'родственницу': 2, 'магазинов': 2, 'понравился': 2, 'переработку': 2, 'старших': 2, 'наказывать': 2, 'боевого': 2, 'Мамой': 2, 'потратить': 2, 'магазины': 2, 'отчёты': 2, 'исправления': 2, 'Устно': 2, 'Откуда': 2, 'газовая': 2, 'одобрить': 2, 'верю': 2, 'договорённость': 2, 'установлена': 2, 'договорённости': 2, 'капитального': 2, 'границ': 2, 'Стала': 2, 'Администрации': 2, 'организме': 2, 'принадлежащий': 2, 'бти': 2, 'санпину': 2, 'просроченным': 2, 'выплачена': 2, 'сдачу': 2, 'неведении': 2, 'телевидения': 2, 'выявил': 2, 'гласит': 2, 'пересадкой': 2, 'перезвонили': 2, 'старшую': 2, 'профзаболевания': 2, 'изменением': 2, 'Доп': 2, 'проживая': 2, 'отрабатываю': 2, 'льготами': 2, 'садов': 2, 'МКК': 2, 'степень': 2, 'утраты': 2, 'профессиональной': 2, 'СУПТ': 2, 'Д': 2, 'учитывать': 2, 'правительство': 2, 'дорогую': 2, 'арестует': 2, 'роман': 2, 'скачать': 2, 'ссылку': 2, 'скачала': 2, 'пиратская': 2, 'Привлекут': 2, 'делопроизводство': 2, 'приостановлено': 2, 'отклонили': 2, 'лишать': 2, 'задержек': 2, 'общению': 2, 'псих': 2, 'обижал': 2, 'подробностей': 2, 'часам': 2, 'стройке': 2, 'ставили': 2, 'легкий': 2, 'реанимации': 2, 'коллектор': 2, 'съемную': 2, 'смягчение': 2, 'узнав': 2, 'выбраться': 2, 'погасится': 2, 'цветы': 2, 'плотно': 2, 'правилах': 2, 'гаражом': 2, 'сервере': 2, 'проживающим': 2, 'качают': 2, 'голливудские': 2, 'читала': 2, 'раздачи': 2, 'скачали': 2, 'удалили': 2, 'Российских': 2, 'файлов': 2, 'одобрил': 2, 'кредитным': 2, 'устроила': 2, 'тротуар': 2, 'мошенников': 2, 'нехватки': 2, 'устранения': 2, 'досмотра': 2, 'буквы': 2, 'обоснование': 2, 'правильности': 2, 'свободе': 2, 'сыновей': 2, 'ухаживать': 2, 'животные': 2, 'клиентка': 2, 'собаке': 2, 'пострадала': 2, 'гражданстве': 2, 'государстве': 2, 'Российского': 2, 'детях': 2, 'разделят': 2, 'Специалист': 2, 'уплаченный': 2, 'заказчику': 2, 'энную': 2, 'отдав': 2, 'пошло': 2, 'удалять': 2, 'агрессией': 2, 'финансов': 2, 'ооо': 2, 'Санкт-Петербурге': 2, 'северный': 2, 'дн': 2, 'уверяет': 2, 'оповестил': 2, 'должницы': 2, 'незаконное': 2, 'автобуса': 2, 'осмотров': 2, 'сознательно': 2, 'контексте': 2, 'субсидия': 2, 'заместителю': 2, 'административно': 2, 'истории': 2, 'шлет': 2, 'Трое': 2, 'Примеры': 2, 'Создай': 2, 'убивать': 2, '236': 2, 'выявили': 2, 'инвентаризацию': 2, 'бумажка': 2, 'отгулянные': 2, 'расчету': 2, 'отгулянный': 2, 'выдала': 2, 'полов': 2, 'петли': 2, 'коробку': 2, 'уголовка': 2, 'срочном': 2, 'поваром': 2, 'расчетного': 2, 'собственную': 2, 'нажала': 2, 'удивилась': 2, 'чужие': 2, 'компьютера': 2, 'задумалась': 2, 'неправомерный': 2, 'независящим': 2, 'увидит': 2, 'Стало': 2, 'Нарушила': 2, 'кладовку': 2, 'быт': 2, 'оплаченные': 2, 'чье': 2, 'выборочно': 2, 'начнет': 2, 'многочисленные': 2, 'Существуют': 2, 'взгляд': 2, 'Та': 2, 'наконец': 2, 'фактах': 2, 'лавочке': 2, 'признака': 2, 'рассуждения': 2, 'сексом': 2, 'съемке': 2, 'видеофайлы': 2, '31.03.2021': 2, 'заказывала': 2, 'списано': 2, 'черным': 2, 'белому': 2, 'представлял': 2, 'КАК': 2, 'ЕСЛИ': 2, 'ЗАЯВЛЕНИЕ': 2, 'строений': 2, 'строения': 2, 'прямиком': 2, 'лужи': 2, 'воздействовать': 2, 'опыт': 2, 'удивлена': 2, 'Пишут': 2, 'номеров': 2, 'возникать': 2, 'однозначно': 2, 'кадастр': 2, 'накопленные': 2, 'ипотечное': 2, 'льготном': 2, 'исчислении': 2, 'пропажу': 2, 'слетела': 2, 'оторвалась': 2, 'возвращаю': 2, 'небольшими': 2, 'суммами': 2, 'академического': 2, 'ЕГЭ': 2, 'отправлено': 2, 'Надеюсь': 2, 'исчисление': 2, 'списках': 2, 'появляться': 2, 'тайны': 2, 'тестовое': 2, 'выполняется': 2, 'анкете': 2, 'электрослесарь': 2, 'подземный': 2, 'включение': 2, 'обсерваторе': 2, 'знакомую': 2, 'валюту': 2, 'мелкие': 2, 'стрижку': 2, 'стыдно': 2, 'поступков': 2, '07.2020': 2, 'ежедневные': 2, 'Ф': 2, 'знаешь': 2, 'уменьшился': 2, 'чиновниками': 2, 'правительстве': 2, 'обязательными': 2, 'соцзащиты': 2, 'соцзащиту': 2, 'вечера': 2, 'избиение': 2, 'отвезли': 2, 'камере': 2, 'признаюсь': 2, 'подавленном': 2, 'перекрыли': 2, 'Жалобу': 2, '1.7': 2, 'спали': 2, 'заверенный': 2, 'Разведены': 2, 'целевой': 2, 'образовательной': 2, 'исполнил': 2, 'осуществлению': 2, 'нормативными': 2, 'перечислить': 2, 'Общих': 2, 'мелких': 2, 'мягкую': 2, 'денежный': 2, 'нервно': 2, 'отказывалась': 2, 'бегала': 2, 'мужиками': 2, 'приводила': 2, 'возможные': 2, 'отзывов': 2, 'Требуют': 2, 'населенном': 2, 'Петрозаводске': 2, 'поселке': 2, 'ужасном': 2, 'вернет': 2, 'выслуга': 2, 'жилищную': 2, 'недавнем': 2, 'вычтут': 2, 'взрослой': 2, 'позднее': 2, 'уговорил': 2, 'купле': 2, 'отданы': 2, 'стекла': 2, 'разбился': 2, 'незначительные': 2, 'распечатал': 2, 'купон': 2, 'кого-нибудь': 2, 'кабине': 2, 'положительное': 2, 'Здравствуй': 2, 'уважительных': 2, 'состоят': 2, 'соответствующими': 2, 'приношу': 2, 'оповестив': 2, 'исполнителем': 2, 'крупную': 2, 'Александр': 2, 'чаем': 2, 'показать': 2, 'заболели': 2, 'межвахтового': 2, 'Чуть': 2, 'оператору': 2, 'медицинскую': 2, 'взяв': 2, 'сфотографировал': 2, 'сталкивался': 2, 'Объясняя': 2, 'подстраховать': 2, 'утроен': 2, 'предполагает': 2, 'Работы': 2, 'Республика': 2, 'Гражданка': 2, 'посещаю': 2, 'совершенных': 2, 'нервничаю': 2, 'применение': 2, 'ноутбука': 2, 'кисть': 2, 'Калининград': 2, 'прикреплён': 2, '149': 2, 'градусов': 2, 'палец': 2, 'валюта': 2, 'валютные': 2, 'сложность': 2, 'признается': 2, 'наткнулся': 2, 'Цитата': 2, 'Силуанов': 2, 'вводить': 2, 'Минфина': 2, 'уплата': 2, 'НК': 2, 'полученные': 2, 'компаний': 2, 'работающих': 2, 'операций': 2, 'неверно': 2, 'BF': 2, 'BC': 2, 'E': 2, 'ФНС': 2, 'простите': 2, 'контролем': 2, 'вышеизложенное': 2, 'Старшему': 2, 'Алексей': 2, 'удалению': 2, 'физическая': 2, 'погрузчика': 2, 'периодический': 2, '28.01.2021': 2, 'персоналу': 2, 'Полина': 2, 'Подать': 2, 'боялась': 2, 'кнп': 2, 'вынесет': 2, 'потеряет': 2, 'военкомат': 2, 'оружию': 2, 'патронам': 2, 'неоднократные': 2, 'смотрят': 2, 'сторонних': 2, 'мировому': 2, 'Определением': 2, 'удовлетворения': 2, 'информационных': 2, 'держал': 2, 'остановился': 2, 'помешали': 2, 'увидеть': 2, 'Номер': 2, '08': 2, 'Кадастровый': 2, 'будущего': 2, 'пола': 2, 'нижней': 2, 'огромное': 2, 'моральное': 2, 'выслушивать': 2, 'врачам': 2, 'вырвала': 2, 'хранила': 2, 'чем-то': 2, 'рад': 2, 'коньяк': 2, 'родом': 2, 'переработка': 2, '3,6': 2, 'населённого': 2, '12.15': 2, 'колеса': 2, 'водительскую': 2, 'разобравшись': 2, 'ломбард': 2, 'грудного': 2, 'спрашиваю': 2, 'математики': 2, 'внеурочки': 2, 'диплому': 2, 'преподавать': 2, 'математику': 2, 'фотограф': 2, 'бегал': 2, 'Никто': 2, 'видеоматериалы': 2, 'распространять': 2, 'Яндекс': 2, 'собирание': 2, 'поле': 2, 'местных': 2, 'опубликую': 2, 'общедоступной': 2, 'ветеринара': 2, 'Комната': 2, 'Роспотребнадзор': 2, 'ОРВИ': 2, 'распределена': 2, 'пошлину': 2, 'чьи': 2, 'инженером': 2, 'отвечаю': 2, 'Салехард': 2, 'передвигаюсь': 2, 'экзамена': 2, 'бугалтерия': 2, 'задолжала': 2, 'полноценный': 2, 'датами': 2, 'разбираюсь': 2, 'рука': 2, 'специальное': 2, 'конверты': 2, 'предрейсовому': 2, 'соцнайму': 2, 'страховке': 2, 'нетрудоспособность': 2, '3-е': 2, 'медицинские': 2, 'препаратов': 2, 'отпугивания': 2, 'медведей': 2, 'нечаянно': 2, 'Незаконное': 2, 'минусе': 2, 'возбудил': 2, 'двор': 2, 'мессенджере': 2, 'ерунда': 2, 'малозначительности': 2, 'подтверждена': 2, 'целевое': 2, 'куча': 2, 'курсу': 2, 'нужную': 2, 'Извиняюсь': 2, 'телесных': 2, 'ввод': 2, 'перекрыл': 2, 'разным': 2, 'чинит': 2, 'препятствия': 2, 'посторонних': 2, 'одинаковых': 2, 'оклады': 2, 'записала': 2, 'колодец': 2, 'Иск': 2, 'вычеты': 2, 'посуда': 2, 'публичной': 2, 'Жесткая': 2, 'транспортную': 2, 'Моментом': 2, 'транспортировке': 2, 'вышеизложенного': 2, 'транспортной': 2, 'одноклассниках': 2, 'фейсбуке': 2, 'доки': 2, 'Прожили': 2, 'предки': 2, 'мальчиков': 2, 'ио': 2, 'заведующего': 2, 'распоряжению': 2, 'штат': 2, 'составлены': 2, 'длительную': 2, '14.00': 2, 'отъезда': 2, 'отправления': 2, 'внучкой': 2, 'заработки': 2, 'наркоза': 2, 'клиника': 2, 'объявлению': 2, 'несовершенолетних': 2, 'досих': 2, 'графики': 2, 'больничных': 2, 'водительского': 2, 'вывих': 2, 'пальца': 2, 'переводил': 2, 'прочих': 2, 'синяк': 2, 'глазом': 2, 'приговоров': 2, 'доступом': 2, 'сплетен': 2, 'потенциальных': 2, 'содеянного': 2, 'опасности': 2, 'сплетничают': 2, 'Правильны': 2, 'мысли': 2, 'предоставлял': 2, 'младшим': 2, 'Отказываюсь': 2, 'криптовалюты': 2, 'реквизитам': 2, 'почты': 2, 'воспитывается': 2, 'ограничивается': 2, 'варианта': 2, 'составляют': 2, 'меньшую': 2, 'Латвии': 2, 'НРЯ': 2, 'восходящей': 2, 'внеочередного': 2, 'ипотечному': 2, 'кредитованию': 2, 'переезжает': 2, 'середины': 2, 'объявила': 2, 'микрофинансовых': 2, 'открыт': 2, 'переоформлении': 2, 'попросту': 2, 'нашими': 2, 'Которая': 2, 'Цена': 2, 'фурнитуру': 2, 'инвалидностью': 2, 'Федеральным': 2, 'ТО': 2, 'расторгнутым': 2, 'Вашим': 2, 'заказам': 2, 'наложит': 2, 'Гражданство': 2, 'просрочен': 2, 'опоздал': 2, 'применяется': 2, 'Ответ': 2, 'комментарии': 2, 'совершать': 2, 'понравились': 2, 'разрешенного': 2, 'похожей': 2, 'конкретики': 2, 'обеспечивал': 2, 'отказывался': 2, 'Пособие': 2, 'перечисление': 2, 'требовал': 2, 'учесть': 2, 'нежилом': 2, 'движимое': 2, 'чел': 2, 'иждивенкой': 2, 'фактическим': 2, 'двоюродного': 2, 'иждивенец': 2, 'случится': 2, 'выплачу': 2, 'Самой': 2, 'меньшей': 2, 'парковке': 2, 'сигнализация': 2, 'спускалась': 2, 'бьёт': 2, 'проучить': 2, 'вызова': 2, 'останавливаясь': 2, 'минимальном': 2, 'соседу': 2, 'владельцу': 2, 'блокировки': 2, 'ЕГО': 2, 'подделку': 2, 'поменяю': 2, 'проснулся': 2, 'выкинула': 2, 'сдаёт': 2, 'гнилые': 2, 'микрофинансовой': 2, 'платной': 2, 'поступал': 2, 'свекра': 2, 'выгнал': 2, 'постановил': 2, 'глупо': 2, 'родину': 2, 'плечами': 2, 'Иванова': 2, 'слив': 2, 'зароботной': 2, 'прекращения': 2, 'виделись': 2, 'Стою': 2, 'законность': 2, 'тюрьма': 2, 'Сельский': 2, 'прожив': 2, '2.2': 2, 'Очередь': 2, 'позвонив': 2, 'строки': 2, 'выяснить': 2, 'выплачивали': 2, 'погибли': 2, 'Оклад': 2, 'Премия': 2, 'заплатят': 2, 'желательно': 2, 'красное': 2, 'белое': 2, 'жителям': 2, 'бытовых': 2, 'Молдовы': 2, 'Российское': 2, 'имеющимся': 2, 'медкомиссию': 2, 'рабочую': 2, 'сохранением': 2, 'блокировать': 2, 'фрагменты': 2, 'Записи': 2, 'удалены': 2, 'отметить': 2, 'зайдя': 2, 'Кипре': 2, 'привлечении': 2, 'почтовый': 2, 'Нужен': 2, '1/5': 2, 'юридическая': 2, 'Продала': 2, 'проекте': 2, 'приятелем': 2, 'вывод': 2, 'штрафные': 2, 'причиняет': 2, 'перекрёсток': 2, 'светофора': 2, 'скорости': 2, 'удара': 2, 'богу': 2, 'пальто': 2, 'трудоустройством': 2, 'подойти': 2, 'торговых': 2, 'точек': 2, 'выплатами': 2, 'соответствующей': 2, 'истребовании': 2, 'незаконного': 2, 'руководствуясь': 2, 'павильон': 2, 'совершал': 2, 'пошутил': 2, 'вкладку': 2, 'слепок': 2, 'существенные': 2, 'третьих': 2, 'физических': 2, 'p': 2, 'криптовалюту': 2, 'лабораторной': 2, 'госпитале': 2, 'госпиталя': 2, 'серьезной': 2, 'оценивать': 2, 'увы': 2, 'уйдет': 2, 'Пункт': 2, 'нм': 2, 'оскорбила': 2, 'выполнили': 2, 'законодательном': 2, 'производителей': 2, 'интересное': 2, 'вытекающими': 2, 'правомерность': 2, 'производителем': 2, 'Раз': 2, 'государство': 2, 'угрожая': 2, 'отбывания': 2, 'осужденной': 2, 'противоречит': 2, 'Позвонив': 2, 'назначенного': 2, 'уточнении': 2, 'частей': 2, 'состоится': 2, 'малоимущей': 2, 'легли': 2, 'цехе': 2, 'ипотечный': 2, 'обращению': 2, 'пьяная': 2, 'розетку': 2, 'гарантию': 2, 'графы': 2, 'коллекторами': 2, 'изо': 2, 'технологии': 2, 'Барнауле': 2, 'Грозится': 2, 'тёти': 2, '03.03.21': 2, 'садика': 2, 'шоке': 2, 'Характеристика': 2, 'Бумагу': 2, 'мвд': 2, 'собрали': 2, 'телефоном': 2, 'настал': 2, 'портал': 2, 'Ситилинке': 2, 'вылазить': 2, 'Сочи': 2, 'неисправный': 2, 'ликвидирована': 2, 'займу': 2, 'описания': 2, 'канала': 2, 'последствии': 2, 'проконтролировать': 2, 'весом': 2, 'душ': 2, 'затопить': 2, 'воде': 2, 'затопили': 2, 'составлялось': 2, '128.1': 2, 'ложную': 2, 'бумагам': 2, 'праздники': 2, 'агентстве': 2, 'велся': 2, 'Работу': 2, 'малолетнего': 2, 'расстаться': 2, 'запахом': 2, 'Снимала': 2, 'Клиент': 2, 'изделие': 2, 'клиенту': 2, 'салона': 2, 'сроках': 2, 'Кому': 2, 'давления': 2, 'поселка': 2, 'владельцев': 2, 'досрочное': 2, 'частности': 2, 'трактовки': 2, 'реальности': 2, 'проучился': 2, 'Постановлением': 2, 'Нанимать': 2, 'исчисляется': 2, 'назначит': 2, 'Хожу': 2, 'китайский': 2, 'вызовов': 2, 'мастером': 2, 'картинок': 2, 'использоваться': 2, 'иностранец': 2, 'готовый': 2, 'ответить': 2, 'Ревизию': 2, 'фсс': 2, 'Расторгнуть': 2, 'транспорте': 2, 'оговаривали': 2, 'достается': 2, 'нашим': 2, 'капельницу': 2, 'химиотерапии': 2, 'Частная': 2, 'строительная': 2, 'физическими': 2, 'этажное': 2, 'проведены': 2, 'падения': 2, 'Месяц': 2, 'Женат': 2, 'гражданке': 2, 'обязательных': 2, 'аналогичная': 2, 'оказываемых': 2, 'лифтом': 2, 'заключала': 2, 'пристройку': 2, 'Совместный': 2, 'мировую': 2, 'civic': 2, 'кузове': 2, 'Решили': 2, 'персонала': 2, 'Вредность': 2, 'заполнена': 2, 'публичная': 2, 'выводу': 2, 'втроем': 2, 'докладную': 2, 'нужным': 2, 'активов': 2, '31.05.21': 2, 'возможна': 2, 'разрешена': 2, 'кухней': 2, 'Остальные': 2, 'комнатах': 2, 'любого': 2, 'БКИ': 2, 'кол': 2, 'медсестрой': 2, 'коронавирусной': 2, 'точности': 2, 'предприятием': 2, 'проживающей': 2, 'покрытие': 2, 'бане': 2, 'ключей': 2, 'надолго': 2, 'страницу': 2, 'нужного': 2, 'сборки': 2, 'черте': 2, 'страдает': 2, 'опасность': 2, 'вонь': 2, 'болгаркой': 2, 'резал': 2, 'ругались': 2, 'выигрыш': 2, 'рулона': 2, 'следущий': 2, 'злодея': 2, 'посадит': 2, 'совершены': 2, 'вменяют': 2, 'пообщаться': 2, 'дождь': 2, 'Рядом': 2, 'сожительницы': 2, 'пароксетин': 2, 'вымышленную': 2, 'сильнодействующий': 2, 'связана': 2, 'примера': 2, 'достал': 2, 'занимаю': 2, 'улучшению': 2, 'духовка': 2, 'шкафы': 2, 'бланке': 2, 'первоначальной': 2, 'юрисдикцией': 2, 'окружного': 2, 'Соединенных': 2, 'Штатов': 2, 'Америки': 2, 'приму': 2, 'апелляции': 2, 'судам': 2, 'предусмотренных': 2, 'платформы': 2, 'третье': 2, 'поручителем': 2, 'электронно': 2, 'разбирательстве': 2, 'Определения': 2, 'родились': 2, 'алкаши': 2, 'шумят': 2, 'мерзнуть': 2, 'заплатила': 2, 'законный': 2, '2.': 2, 'лишены': 2, 'начисляли': 2, 'подрастет': 2, 'застройщика': 2, 'Гос': 2, 'дружеских': 2, 'Заплатил': 2, 'Возьмут': 2, 'снимала': 2, 'Первое': 2, 'открытой': 2, 'староста': 2, 'видеозапись': 2, 'приятно': 2, 'Дедушка': 2, 'гарантий': 2, 'большом': 2, 'смазаны': 2, 'деталь': 2, 'планового': 2, 'масло': 2, 'недостаточно': 2, 'тысячам': 2, 'нарушая': 2, 'грань': 2, 'схемы': 2, 'программного': 2, 'Новосибирска': 2, 'Пособия': 2, 'уезжать': 2, '07.09.2020': 2, 'транспортный': 2, 'удовлетворено': 2, 'счетами': 2, '28.10.2020': 2, 'удержанных': 2, '02.11.2020': 2, '03.11.2020': 2, '229-ФЗ': 2, 'Корея': 2, 'бытовая': 2, 'конфликтов': 2, 'направились': 2, 'Юрий': 2, 'задерживают': 2, 'встали': 2, 'удочерили': 2, 'ставила': 2, 'праву': 2, 'устранить': 2, 'способами': 2, 'погоню': 2, 'сиденье': 2, 'голосового': 2, 'нанимателя': 2, 'Бабушке': 2, 'останемся': 2, 'владение': 2, 'воинского': 2, 'Снял': 2, 'остальным': 2, 'подписка': 2, 'соцнайм': 2, 'подьезд': 2, 'водопровод': 2, 'тайна': 2, 'корзине': 2, 'продлился': 2, 'нотариальному': 2, 'злоупотребляет': 2, 'знакомств': 2, 'интересуют': 2, 'оглашения': 2, 'СТ': 2, 'фактов': 2, 'файле': 2, 'направления': 2, 'Кодекса': 2, 'перепишет': 2, 'пора': 2, 'пломбы': 2, '***': 2, 'печатью': 2, 'похвастался': 2, 'моралист': 2, 'админа': 2, 'увидеться': 2, 'обиды': 2, 'вложений': 2, 'перечислено': 2, 'госслужащий': 2, 'положить': 2, 'Пять': 2, '2-24/2-2018': 2, 'отменяют': 2, 'достиг': 2, 'стучат': 2, 'поведения': 2, 'спим': 2, 'арку': 2, 'держат': 2, 'накопил': 2, 'неисправностей': 2, 'вернут': 2, 'фотку': 2, 'Такие': 2, 'Столкнулись': 2, 'СМС': 2, 'имеющейся': 2, 'примерке': 2, 'заявка': 2, 'недостатка': 2, 'Доказательством': 2, 'отработаю': 2, 'доплачивать': 2, 'Сижу': 2, 'проведённой': 2, '19.10.2020': 2, '90000': 2, 'отменила': 2, 'диспетчер': 2, 'аварию': 2, 'вспомнила': 2, 'нарушаются': 2, 'пятого': 2, 'бакалавриат': 2, 'высшим': 2, 'ТВ': 2, '10.09.2020': 2, 'ТВ-приставки': 2, 'экземпляра': 2, 'приёма-передачи': 2, 'таблице': 2, 'Абоненту': 2, 'вышеуказанной': 2, '3990': 2, 'имеющихся': 2, 'написана': 2, 'наименования': 2, 'Их': 2, '28000': 2, 'гражданкой': 2, 'снаружи': 2, 'наняла': 2, 'уплаченные': 2, '25.09.2020': 2, 'сборке': 2, 'рекламацию': 2, 'побил': 2, 'че': 2, '16.11.2020': 2, 'Пенсионер': 2, 'рассчитается': 2, 'общество': 2, 'служебных': 2, 'правомочны': 2, 'должностей': 2, 'запланированную': 2, 'плановый': 2, 'растяжения': 2, 'связок': 2, 'голеностопного': 2, 'сустава': 2, 'трудоспособность': 2, 'расследованию': 2, 'фурнитура': 2, 'смысла': 2, 'вывода': 2, 'сделок': 2, 'интимного': 2, 'делят': 2, 'выбора': 2, 'задаю': 2, 'достижении': 2, 'распоряжаться': 2, 'тетя': 2, 'коноплю': 2, 'выращивает': 2, 'вставала': 2, 'недостатки': 2, 'обновление': 2, 'трёхкомнатная': 2, 'просидел': 2, 'свертка': 2, 'районным': 2, 'родится': 2, 'мам': 2, 'неадекватно': 2, 'междувахтовый': 2, 'изнасиловании': 2, 'разумеется': 2, 'милая': 2, 'близость': 2, 'адекватный': 2, 'эмоции': 2, 'обслуживанию': 2, 'должником': 2, 'шапке': 2, 'постоянная': 2, 'Прим': 2, 'франшизу': 2, 'местному': 2, 'уволились': 2, '23000': 2, 'присвоена': 2, 'предъявлять': 2, 'перспективы': 2, 'объекты': 2, 'ср': 2, 'остановках': 2, '20.10.2020': 2, 'публичном': 2, 'старостой': 2, 'зачислении': 2, 'прописывается': 2, 'досудебную': 2, 'Астрахань': 2, 'устроены': 2, 'сменам': 2, 'экономист': 2, 'принцип': 2, 'таб': 2, 'неизвестных': 2, 'тесты': 2, 'звоню': 2, 'собственных': 2, 'жилище': 2, 'минимизировать': 2, 'полдома': 2, 'пройдя': 2, 'сплошную': 2, 'объясняет': 2, 'знаете': 2, 'оценке': 2, 'Израиле': 2, 'переплату': 2, 'Достаточно': 2, 'Этому': 2, 'распространяет': 2, 'обеспечении': 2, 'судебная': 2, 'контролером': 2, 'исходный': 2, 'Встал': 2, 'Здраствуйте': 2, 'увеличили': 2, 'малолетний': 2, 'выделять': 2, 'защищают': 2, 'спины': 2, 'вгуэс': 2, 'подачу': 2, 'рассматривают': 2, 'нереально': 2, '6-8': 2, 'лайк': 2, 'Сотрудница': 2, 'удостоверяющих': 2, 'рубеж': 2, 'оправдать': 2, 'скидывать': 2, 'ношу': 2, 'Учеба': 2, 'похудения': 2, 'изъять': 2, 'явится': 2, 'содержат': 2, 'БАДы': 2, 'Покупателем': 2, 'таможни': 2, 'шло': 2, 'графический': 2, 'полиграфической': 2, 'подготовка': 2, 'правовом': 2, 'заработанные': 2, 'начальнице': 2, 'Возникает': 2, 'добилась': 2, 'квадрокоптер': 2, 'орденом': 2, 'отстранения': 2, 'видеозаписи': 2, 'дознания': 2, 'турагента': 2, 'туры': 2, 'Турцию': 2, '10.01.2020': 2, 'Турагент': 2, 'Туроператору': 2, 'Турагенту': 2, '07': 2, 'прикладывала': 2, 'материалах': 2, 'приобщен': 2, 'Туроператор': 2, 'Процент': 2, 'начислению': 2, '152': 2, 'Более': 2, '80.000': 2, 'договоренностью': 2, 'пройду': 2, 'Так-же': 2, 'бывшими': 2, 'пенсионерам': 2, '12.10.2020': 2, 'послал': 2, 'возмещения': 2, 'вышестоящего': 2, 'производственных': 2, 'ограниченной': 2, 'ездила': 2, 'уменьшению': 2, 'мошенник': 2, 'исца': 2, 'Кредитная': 2, '20.3.': 2, 'написанные': 2, '282': 2, '19.09.19': 2, 'гуляла': 2, 'льготную': 2, 'колонию-поселение': 2, 'арендуемые': 2, 'попали': 2, 'отчетности': 2, 'высшей': 2, 'приватизированы': 2, 'швырнула': 2, 'местные': 2, 'стену': 2, 'расположенных': 2, 'привлечено': 2, 'понятого': 2, 'сокращением': 2, 'сложной': 2, 'подменной': 2, 'Волкова': 2, 'капучино': 2, 'пенки': 2, 'клеветой': 2, '0,75': 2, 'санатории': 2, 'бронь': 2, 'роспотребнадзор': 2, 'обоснования': 2, 'загнали': 2, 'выяснила': 2, 'обход': 2, 'оповещали': 2, 'переподготовке': 2, 'списалось': 2, 'роспись': 2, 'вероятнее': 2, 'скандалы': 2, 'БРАТ': 2, 'коктейлей': 2, 'некий': 2, 'потребителя': 2, '12.02.2020': 2, 'изготовили': 2, 'модули': 2, 'ящик': 2, 'мешала': 2, 'дырки': 2, 'фабрику': 2, 'установщика': 2, 'привели': 2, 'кг': 2, 'премия': 2, 'Закону': 2, 'приступил': 2, 'Архангельской': 2, 'Санатория': 2, 'ремонтных': 2, 'трудоустроиться': 2, 'сопровождающий': 2, 'совмещение': 2, 'мчс': 2, 'комитета': 2, 'попечения': 2, 'преподаваемого': 2, 'удочерил': 2, 'независимому': 2, 'эксперту': 2, '166': 2, 'основных': 2, 'обучающихся': 2, 'образовательную': 2, 'подчинённых': 2, 'представлены': 2, 'северу': 2, 'центральных': 2, 'концов': 2, 'вылета': 2, 'местностях': 2, 'провоза': 2, 'договорами': 2, 'Паспорт': 2, 'СУ': 2, 'юбиляра': 2, 'СКВ': 2, 'коридорного': 2, 'флэш': 2, 'носитель': 2, 'кредитах': 2, '85': 2, 'трудоустроилась': 2, 'алкогольной': 2, 'Арбитраж': 2, 'рассмотрел': 2, 'трижды': 2, 'тестер': 2, 'покупатели': 2, '322.2': 2, 'Фиктивная': 2, 'фиктивная': 2, 'вмешательства': 2, 'развитии': 2, 'дойдет': 2, 'Крайнем': 2, 'передумали': 2, 'PayPal': 2, 'безопасно': 2, 'Дочери': 2, 'дозвониться': 2, 'рассказывает': 2, 'громкой': 2, '1,2,': 2, 'Лены': 2, 'поднаема': 2, 'ресницы': 2, 'работами': 2, 'Учитывается': 2, 'комп': 2, 'увольнению': 2, '6500': 2, 'специальных': 2, 'предназначенных': 2, 'негласного': 2, 'включении': 2, 'бутылкой': 2, '219': 2, 'хватало': 2, 'отдельным': 2, 'ГосУслуги': 2, 'Авиакасса': 2, 'Победа': 2, 'Ревды': 2, 'величины': 2, 'недействующего': 2, 'мера': 2, 'ЕГРЮЛ': 2, 'ОВЗ': 2, 'телеграмме': 2, '19700': 2, 'исцу': 2, 'ОСС': 2, 'туфли': 2, 'Зинаида': 2, 'игра': 2, '283': 2, 'кредитор': 2, 'библиотекарь': 2, 'КИ': 2, 'Букинг': 2, 'Абхазией': 2, 'приюте': 2, 'уголовку': 1, 'дознаватели': 1, 'подтвердится': 1, 'Многоквартирный': 1, 'самоуправлением': 1, 'Расчистка': 1, 'Бычков': 1, 'Максим': 1, 'Владимирович': 1, 'высылал': 1, 'Пройдём': 1, '2.09.2019,': 1, '16.03': 1, '26.03.2020': 1, 'годового': 1, '27.03.2020': 1, '29.08.2020': 1, '19.11.2021': 1, '2.01.2022': 1, 'Всего': 1, '3.01.2022-18.05.2023': 1, '19.05.2023': 1, 'сожители': 1, '-общее': 1, 'Приобретена': 1, 'кредитном': 1, 'открывал': 1, 'вкладывали': 1, 'прогарели': 1, 'исключает': 1, 'принципу': 1, 'согласует': 1, 'дговора': 1, 'прежних': 1, 'отказывайся': 1, 'покупая': 1, 'Переводила': 1, 'ремонтнику': 1, 'теплицу': 1, 'сантехнику': 1, 'элементарно': 1, 'сохраняла': 1, 'ипотечные': 1, 'завышением': 1, 'продолжаю': 1, 'вложением': 1, 'вложены': 1, 'обращаясь': 1, 'прийдем': 1, 'мирному': 1, 'Общем': 1, 'трехкомнатной': 1, 'разменять': 1, 'допрашивался': 1, 'допрошен': 1, 'открывшимся': 1, 'купленного': 1, 'заверено': 1, 'разделено': 1, 'ходу': 1, 'среднедневногло': 1, 'продолжительное': 1, 'Беременности': 1, '17.12': 1, '26.12.': 1, '27.12.22-': 1, 'среднедневной': 1, '25.01': 1, 'прекратило': 1, 'окончанием': 1, 'теплоснабжающей': 1, 'теплоснабжения': 1, 'отрезали': 1, 'проходящая': 1, '16-ти': 1, 'отапливался': 1, 'электроконвертерами': 1, '23.01.2023': 1, '01.01.23': 1, 'взыскивании': 1, 'берётся': 1, 'премией': 1, '11,3': 1, 'третьему': 1, 'итого': 1, 'административно-хозяйственной': 1, 'АХЧ': 1, 'согласовать': 1, 'юристконсультом': 1, 'приступила': 1, 'исполнениям': 1, 'исполняла': 1, 'служебные': 1, 'ссылаюсь': 1, '1237': 1, 'Прикреплю': 1, 'обзаца': 1, 'предоставите': 1, 'железобетонные': 1, 'поговорим': 1, 'Указ': 1, 'словосочетание': 1, 'расписано': 1, 'фломастером': 1, 'применимо': 1, 'связать': 1, 'несвязное': 1, 'ПТУ': 1, 'металлургическом': 1, 'списку': 1, 'рядя': 1, 'Советской': 1, 'Вопрос-войдет': 1, 'предпринята': 1, 'наказуемого': 1, 'незаконной': 1, 'психиатрическую': 1, 'противозаконности': 1, 'руководителей': 1, 'лечебницы': 1, 'занимающейся': 1, 'госпитализацией': 1, 'пойманы': 1, 'преступное': 1, 'доведено': 1, 'госпитализуемый': 1, 'запереться': 1, 'укрепленной': 1, 'насильственно': 1, 'упрятать': 1, 'психушку': 1, 'отреагировать': 1, 'виновных': 1, '181.4': 1, 'связанным': 1, 'принятым': 1, '1-й': 1, 'Абакан': 1, 'втб': 1, 'ложен': 1, 'поступающие': 1, 'замораживались': 1, 'арестовавшим': 1, 'приложил': 1, 'подставили': 1, '51469,84': 1, 'летнем': 1, 'необычная': 1, 'галочку': 1, 'вируса': 1, 'Дочка': 1, 'начинаю': 1, 'заботится': 1, 'фрилансер': 1, 'заполним': 1, 'бить': 1, 'климатом': 1, 'осудили': 1, 'прерывался': 1, 'рассчитывают': 1, 'Смотрят': 1, 'расчеты': 1, 'крыло': 1, 'послезавтра': 1, 'подверженых': 1, 'факторами': 1, 'доплачивается': 1, 'выдается': 1, 'пропало': 1, 'постарался': 1, 'убыть': 1, 'госпиталь': 1, 'Обременение': 1, 'обновления': 1, 'росреестре': 1, 'заморозит': 1, 'недвижимостью': 1, 'перейдёт': 1, 'Выделили': 1, 'Использован': 1, 'внесения': 1, 'Определении': 1, 'Судебной': 1, 'коллегии': 1, 'No': 1, '18-КГ': 1, '15-224': 1, 'признавались': 1, 'имущественному': 1, 'важна': 1, 'пострадавших': 1, 'черепа': 1, 'перемирия': 1, 'пострадавшие': 1, 'выпрашивают': 1, 'тяжкое': 1, 'въезд': 1, '6,5': 1, 'воспитанием': 1, 'разногласия': 1, 'спереди': 1, 'угол': 1, 'натянута': 1, 'жарил': 1, 'нёс': 1, 'горит': 1, 'калитку': 1, 'оскорблять': 1, 'твари': 1, 'лба': 1, 'кричал': 1, 'помрёт': 1, 'заходила': 1, 'Маринка': 1, 'тварь': 1, '**': 1, 'аная': 1, 'Соси': 1, 'засунь': 1, 'мамке': 1, 'пу': 1, 'дулю': 1, 'еб': 1, 'высушит': 1, 'звуком': 1, 'скинуто': 1, 'флешку': 1, 'датам': 1, 'попытку': 1, 'съёмка': 1, 'охотничье': 1, 'собутыльники': 1, 'жарился': 1, 'психушка': 1, 'неадекват': 1, 'скину': 1, 'Верховный': 1, 'няней': 1, 'подрядной': 1, 'выполняла': 1, 'оповестила': 1, 'дежурить': 1, 'доказано': 1, 'переслала': 1, 'поднялась': 1, 'температура': 1, 'отпустить': 1, 'Совместное': 1, 'Прописывать': 1, 'споре': 1, 'Максимум': 1, 'игрушки': 1, 'Финансовой': 1, 'поживает': 1, 'маловероятным': 1, 'Маленький': 1, 'КАКОВЫ': 1, 'ШАНСЫ': 1, 'ДОКАЗАТЬ': 1, 'ОТЦОВСТВО': 1, 'ПОТРЕБОВАТЬ': 1, 'ОБЩЕНИЕ': 1, 'РЕБЕНКОМ': 1, 'ПРОТИВ': 1, 'ВОЛИ': 1, 'пострадает': 1, 'электроприборами': 1, 'потребляющим': 1, 'вольт': 1, 'метал': 1, 'пылесосить': 1, 'обычным': 1, 'пылесосом': 1, 'мощностью': 1, 'ват': 1, 'пылесоса': 1, 'сажу': 1, 'графит': 1, 'технадзор': 1, 'притронусь': 1, 'напугать': 1, 'сунув': 1, 'морду': 1, 'добром': 1, 'Каждые': 1, 'текущей': 1, 'бессрочным': 1, 'состоящая': 1, 'Чеховском': 1, 'Ленинском': 1, 'Молоково': 1, 'соседству': 1, 'Шумит': 1, 'дебоширит': 1, 'зафиксировать': 1, 'алкогольное': 1, 'опьянение': 1, 'освидетельствовать': 1, 'оформляю': 1, 'спросив': 1, 'фигурирует': 1, 'трудновато': 1, 'выделяются': 1, 'комплекс': 1, 'застройке': 1, 'сбережений': 1, 'Крымскими': 1, 'Решать': 1, 'переместили': 1, 'санитарно': 1, 'бытовые': 1, 'элементарного': 1, 'раздевалок': 1, 'безопасные': 1, 'СВЧ': 1, 'перерывы': 1, 'здоровыми': 1, 'систематическому': 1, 'голоданию': 1, 'разогревать': 1, 'укомплектовать': 1, 'техникой': 1, 'переместил': 1, 'Аналогичным': 1, '379': 1, 'Допустимо': 1, 'дисциплине': 1, 'утратившим': 1, 'раннем': 1, '7.02.2018': 1, 'кол-ве': 1, 'сентябре-28': 1, '2021-28': 1, '2022-28': 1, 'Приняли': 1, '7.02': 1, 'Неоднократно': 1, 'обвалится': 1, 'игнорировал': 1, 'Потолок': 1, 'обвалился': 1, 'Начали': 1, 'отнекивается': 1, 'предупреждали': 1, 'Губкинский': 1, 'койко': 1, '8.1': 1, 'описывать': 1, '163': 1, 'ПРИЗНАЛ': 1, 'запросил': 1, 'вынесла': 1, '7,6': 1, 'УСЛОВНО': 1, 'По-вашему': 1, 'Закрыть': 1, 'маловесную': 1, 'недоношенную': 1, 'следующему': 1, 'уволившись': 1, 'декрктных': 1, 'выкладывается': 1, '30-31': 1, 'повторяю': 1, 'Чаще': 1, 'отмалчивается': 1, 'педагогов': 1, 'законодательная': 1, 'обсуждение': 1, 'инвесторы': 1, '30.09.2019-06.10.2021': 1, '11.05.2020': 1, '06.2020': 1, '412': 1, 'подготовку': 1, '02.07.2021': 1, '396': 1, 'пригодно': 1, 'проживанию': 1, 'заключаем': 1, 'живи': 1, 'заключим': 1, 'выговоров': 1, 'водоканала': 1, 'Лейтенант': 1, 'несоблюдения': 1, 'Воинская': 1, 'едет': 1, 'Подписки': 1, 'Необходимы': 1, 'краевой': 1, 'админитивному': 1, 'разумый': 1, 'избранному': 1, 'развелся': 1, '84': 1, 'комуналке': 1, 'Развестись': 1, '23.10.22': 1, '14.03.2017': 1, 'перестается': 1, 'платиться': 1, '2012-2017': 1, 'запросу': 1, 'Вечером': 1, 'отмеченному': 1, 'Вышли': 1, 'оккупировали': 1, 'Запечатлели': 1, 'очная': 1, 'Смотрел': 1, 'висят': 1, 'взялись': 1, 'дубле': 1, 'Вычеты': 1, '510': 1, 'убежала': 1, 'налаживали': 1, 'царапин': 1, 'шестилетней': 1, 'Звонков': 1, 'кровавым': 1, 'пятнам': 1, 'осколки': 1, 'отмыл': 1, 'инкриминирует': 1, 'крупное': 1, '213': 1, 'розничные': 1, 'обустроена': 1, 'краж': 1, 'антикражного': 1, 'визуально': 1, 'осматривать': 1, 'удержаний': 1, 'зарплат': 1, 'Подвально': 1, 'Сдача': 1, 'происходила': 1, 'рукава': 1, 'пайщиков': 1, 'паевый': 1, 'кооператив': 1, 'члену': 1, 'кооператива': 1, 'Подвал': 1, 'гжи': 1, 'выдворить': 1, 'молодому': 1, 'увеличилась': 1, 'коллективный': 1, 'Поликлиника': 1, 'выдает': 1, 'берцовой': 1, 'остеосинтез': 1, 'ИПРА': 1, 'травматолога': 1, 'послеоперационный': 1, 'дана': 1, 'Идут': 1, '255': 1, 'самарской': 1, 'Педагог': 1, 'плановое': 1, 'совещание': 1, 'директоре': 1, 'закрытому': 1, 'Предъявили': 1, 'госпошлиной': 1, 'сбору': 1, 'отходов': 1, 'Погибшего': 1, 'бтра': 1, 'Бтр': 1, 'бтр': 1, 'подстрелен': 1, 'БТРе': 1, 'случившемся': 1, 'Рапорта': 1, 'бтре': 1, 'ГБОУ': 1, 'дошкольном': 1, 'производит': 1, 'ответственного': 1, 'проведением': 1, 'моющих': 1, 'закупленных': 1, 'поставщиков': 1, 'адресам': 1, 'процессы': 1, 'останавливаться': 1, 'ежегодной': 1, 'происходили': 1, 'повлияют': 1, 'преимущественного': 1, 'удаленного': 1, 'формата': 1, 'Дату': 1, 'конечная': 1, 'периодом': 1, 'завершение': 1, 'берем': 1, 'предвзятым': 1, 'педагогическом': 1, 'Уйти': 1, '10.10.22': 1, 'Расследование': 1, 'фельдшером': 1, 'организационно-методического': 1, 'статистика': 1, 'Дважды': 1, '264.3': 1, 'нарушениям': 1, 'подвергнут': 1, 'свилельстве': 1, 'подействовать': 1, 'изменяла': 1, 'использованы': 1, 'Рыночная': 1, 'илн': 1, 'ипотечного': 1, 'долгаУ': 1, 'трети': 1, 'претендуют': 1, 'однушки': 1, 'воткнул': 1, 'вену': 1, 'Бийск': 1, 'Алтайский': 1, 'беременностью': 1, 'татуировки': 1, 'добавление': 1, 'отговаривать': 1, 'довериться': 1, 'перекрывать': 1, 'татуировку': 1, 'Итог': 1, 'татуировка': 1, 'перекрыта': 1, 'аккредитацию': 1, '15.00': 1, '16.00': 1, '1601': 1, '7.2': 1, 'расчасовку': 1, 'реальную': 1, 'изменён': 1, 'дежурят': 1, 'кураторство': 1, 'закреплен': 1, 'локальных': 1, 'приказах': 1, 'уменьшая': 1, 'выходим': 1, 'включены': 1, 'невычитки': 1, 'пересчитывают': 1, 'проводим': 1, 'замен': 1, 'преподавателями': 1, 'Сможете': 1, 'обвиняемому': 1, 'психологии': 1, 'тренингов': 1, 'платных': 1, '000,': 1, 'переписывалась': 1, 'рекомендация': 1, 'Договоров': 1, 'назначенном': 1, 'назначать': 1, 'хамят': 1, '9500': 1, 'Дословно': 1, 'по-правильному': 1, 'практикуем': 1, 'первичная': 1, 'письменная': 1, 'встреча': 1, '4875': 1, 'условимся': 1, 'записывал': 1, '2625': 1, 'повысили': 1, 'Цены': 1, 'идешь': 1, 'прайсу': 1, 'Скрины': 1, 'сообщениях': 1, 'скрина': 1, 'оставят': 1, 'достигла': 1, 'архивные': 1, 'размешены': 1, 'столы': 1, 'заместителе': 1, 'неправильную': 1, 'архивных': 1, 'Правонарушения': 1, 'карьерного': 1, '2/1': 1, 'самосвалом': 1, 'составляло': 1, '2.11.22': 1, 'застегнуть': 1, 'молнию': 1, 'воротнике': 1, 'пятнышко': 1, 'шеи': 1, 'нервах': 1, 'молчала': 1, 'требовала': 1, 'забери': 1, 'выгодней': 1, 'Сожитель': 1, 'приходиться': 1, 'невыносимых': 1, 'поддерживаю': 1, 'тесную': 1, 'прилагаться': 1, 'агрессивное': 1, '117': 1, 'невозможные': 1, 'урегулирование': 1, 'Родительский': 1, '3300': 1, 'долларов': 1, 'лишилась': 1, 'хватит': 1, 'развожусь': 1, 'ребёнок-инвалид': 1, 'тете': 1, 'парализован': 1, 'мобилизованным': 1, 'передовую': 1, 'кубрика': 1, 'ярусные': 1, 'спальных': 1, 'переезжаем': 1, 'фейковым': 1, 'мужским': 1, 'убить': 1, 'расспросила': 1, 'заселиться': 1, 'пускать': 1, 'Необоснованное': 1, 'недоказанное': 1, 'коррупция': 1, 'некомпетентность': 1, 'Аппеляция': 1, 'монтером': 1, 'звеносборочной': 1, 'машинной': 1, 'рельсошпальную': 1, 'решетку': 1, 'деревянных': 1, 'шпалах': 1, 'пропитанных': 1, 'креозотом': 1, 'Креозот': 1, 'фенолов': 1, 'связанна': 1, 'длинномерными': 1, 'грузами': 1, 'рельсы': 1, 'звенья': 1, 'работавший': 1, 'давало': 1, 'уходили': 1, 'ИЛС': 1, 'горячий': 1, 'менялся': 1, 'сво': 1, 'поправками': 1, 'образце': 1, 'принуждал': 1, 'действиям': 1, 'стеснялась': 1, 'Рассказала': 1, 'Свидетель': 1, 'виновность': 1, 'заводили': 1, 'Назначали': 1, 'принудительные': 1, 'Министерством': 1, 'имущественных': 1, 'Объекты': 1, 'сидя': 1, '20.10.2022': 1, 'дистанционную': 1, '7.11.2022': 1, 'обговаривалась': 1, 'поднимались': 1, 'Указан': 1, 'мб': 1, 'Отчество': 1, 'задавал': 1, 'Покинул': 1, 'многократный': 1, 'командира': 1, 'чужое': 1, 'военослужашему': 1, 'Ленске': 1, 'РС': 1, 'Якутскэнергосбыт': 1, 'Совершенно': 1, 'Пациент': 1, 'инсультом': 1, 'пожаловался': 1, 'ожог': 1, 'лечил': 1, 'предпринималось': 1, 'помазали': 1, 'повязку': 1, 'реабилитацию': 1, 'проявила': 1, 'ноге': 1, 'вероятно': 1, 'лечился': 1, 'инсульта': 1, 'пальцев': 1, 'невропатологов': 1, 'профильного': 1, 'осмотрит': 1, 'проведет': 1, 'тиньков': 1, 'стабильно': 1, '180': 1, 'инвентаризационные': 1, 'настаивание': 1, 'тяжелая': 1, '150000': 1, 'платежами': 1, 'медсестры': 1, 'санитарок': 1, 'психиатрического': 1, 'Временами': 1, 'больными': 1, 'контактирует': 1, 'сберкарту': 1, 'отдельными': 1, 'дозвонилась': 1, 'бурят': 1, 'принижением': 1, 'нации': 1, 'Советский': 1, 'Перестал': 1, 'приемников': 1, 'преемника': 1, 'любопытна': 1, 'сума': 1, 'точные': 1, 'Пени': 1, '611': 1, 'предпринимать': 1, 'телефонеитолтко': 1, 'олерон': 1, 'сбежал': 1, 'побег': 1, 'изнасиловал': 1, 'аборт': 1, 'деление': 1, 'выглядит': 1, '-завтра': 1, 'развалится': 1, 'поругаемся': 1, 'разойдемся': 1, 'Некуда': 1, 'палате': 1, 'кассового': 1, 'аппарата': 1, 'ККТ': 1, 'кадастровая': 1, '304000,': 1, 'названивает': 1, '19.12.2022': 1, '1-4': 1, 'Консультация': 1, 'повода': 1, 'маткапа': 1, 'минимальны': 1, 'выделяем': 1, 'продаваемой': 1, 'регпалата': 1, 'Выплатил': 1, 'пограничных': 1, 'руководствуется': 1, 'внутренними': 1, 'приказами': 1, 'Указала': 1, 'почитав': 1, 'Говорю': 1, 'Расстались': 1, 'присвоен': 1, 'непригодного': 1, 'занималась': 1, 'уточните': 1, 'национальной': 1, 'указе': 1, 'важного': 1, 'подозрения': 1, 'умалчивает': 1, 'явлюсь': 1, 'Контакт': 1, 'вгоняет': 1, 'Агенство': 1, 'посылают': 1, 'ХКФ': 1, '70215': 1, 'индексацию': 1, '104777': 1, 'рЕсть': 1, 'жесть': 1, 'вхождением': 1, 'Народной': 1, '05.10': 1, 'Соответствующего': 1, 'Федер': 1, 'Констит': 1, '52-': 1, 'пребывающих': 1, 'запасе': 1, 'разрядам': 1, 'рядовых': 1, 'всеобщей': 1, 'Казахстан': 1, 'физлицами': 1, 'школьного': 1, 'одономнатные': 1, 'ростовской': 1, 'обнаруживают': 1, 'Странность': 1, 'переоформляет': 1, 'зарегистрировал': 1, 'неуспеваемость': 1, 'Минздрав': 1, 'универом': 1, 'Выплачивается': 1, 'Отслужил': 1, 'странная': 1, 'потолкались': 1, 'драки': 1, 'потасовки': 1, 'подходили': 1, 'докапывался': 1, 'заключённый': 1, 'побитый': 1, 'Объявляется': 1, 'стандартным': 1, 'процессом': 1, 'развернуть': 1, 'организовывала': 1, 'незарегестрированном': 1, 'браке-Показания': 1, 'мировые': 1, 'педагоги': 1, 'завуч': 1, 'говоришь': 1, '03.10.2022': 1, '03': 1, 'Дарственную': 1, 'совмещаю': 1, '1.0': 1, 'совмещать': 1, 'положенное': 1, 'войне': 1, 'сделаешь': 1, 'сельсовет': 1, 'набора': 1, 'цензурной': 1, 'ращу': 1, 'учатся': 1, '27.09.22': 1, '03.10.22': 1, '3.10.22': 1, 'уезжаю': 1, 'обжаловано': 1, 'апелляционном': 1, 'Апелляционная': 1, 'отказало': 1, 'восстановления': 1, 'игровую': 1, 'консоль': 1, 'Нинтендо': 1, 'Шёл': 1, 'курил': 1, 'называемые': 1, 'сигареты': 1, 'подбегают': 1, 'обтянули': 1, 'веревкой': 1, 'вырывают': 1, 'устройство': 1, 'избивают': 1, 'Покупаю': 1, 'Реальная': 1, 'Росреестр': 1, 'дополнительным': 1, 'Соглашением': 1, 'РаспискаРиэлтор': 1, 'обговорит': 1, 'Сбербанком': 1, 'клик': 1, 'Кыргызстана': 1, 'заграну': 1, 'изучать': 1, 'глазах': 1, 'неправмочным': 1, 'закрою': 1, 'начав': 1, 'Уведомлять': 1, 'эьлм': 1, 'ГосУслугах': 1, 'лизинговой': 1, 'выставив': 1, 'снимется': 1, 'асфальтированная': 1, 'горки': 1, 'уходящая': 1, 'грунтовую': 1, 'грунтовой': 1, 'горы': 1, 'идем': 1, 'въехала': 1, 'асфальтированную': 1, 'продолжила': 1, 'движение': 1, 'горку': 1, 'разъехавшись': 1, 'снесут': 1, 'выехали': 1, 'предупреждая': 1, 'выезжает': 1, 'поселяется': 1, 'Опекуны': 1, 'похорон': 1, 'милиции': 1, 'Раздельное': 1, 'оформленно': 1, 'опекаемым': 1, 'опекунам': 1, 'вклеено': 1, 'мобилизационное': 1, 'неявку': 1, 'модилизации': 1, 'увольняли': 1, 'почве': 1, 'командованием': 1, 'отсутствующий': 1, 'рапортом': 1, 'мобилизация': 1, 'улыбкой': 1, 'пиндец': 1, 'доводит': 1, 'убываю': 1, 'доводы': 1, 'заинтересовали': 1, 'изъявил': 1, 'рапорте': 1, 'экспертом': 1, 'Беременность': 1, 'явки': 1, 'декан': 1, 'Занятий': 1, 'совещаний': 1, 'консультаций': 1, 'запланировано': 1, 'Декан': 1, 'апеллирует': 1, 'применительно': 1, 'являлась': 1, 'выписывалась': 1, 'Накопилось': 1, 'Отца': 1, 'переселив': 1, 'капают': 1, 'Оплатив': 1, 'став': 1, 'прочтение': 1, 'ППД': 1, 'отгуленные': 1, 'Совершая': 1, 'обгоняющим': 1, 'мопеда': 1, 'пытавшимся': 1, 'проскочить': 1, 'сбавлена': 1, 'скорость': 1, 'Сплошная': 1, 'разрывом': 1, 'Дознаватель': 1, 'оперирует': 1, 'крайнее': 1, 'Расстояние': 1, 'разделительной': 1, 'полосы': 1, 'цифровых': 1, 'значений': 1, 'дознавателем': 1, 'игнорируется': 1, 'выключить': 1, 'поворотник': 1, 'обгон': 1, 'сигнале': 1, 'влево': 1, 'запрещён': 1, 'ошибаюсь': 1, 'Девушке': 1, 'мотопедиста': 1, 'сломана': 1, 'нога': 1, 'унаследовала': 1, 'бабушкина': 1, 'продолжала': 1, 'нереальная': 1, '750': 1, 'лишним': 1, 'скорей': 1, 'ористовывали': 1, 'многом': 1, 'Закончила': 1, 'куда-либо': 1, 'вмешиваться': 1, 'Петропавловск': 1, 'камчатский': 1, 'электросамокат': 1, 'отвалился': 1, 'наезда': 1, 'столкновения': 1, 'самокатов': 1, 'самоката': 1, 'ломала': 1, 'самокат': 1, 'неисправное': 1, 'уверять': 1, 'готового': 1, 'ограничить': 1, 'предварительное': 1, 'Ограничения': 1, 'жи': 1, 'отправленных': 1, 'повышения': 1, 'разрабатывать': 1, '20.02.2022': 1, '02.11.2022': 1, '14-дней': 1, 'перемены': 1, 'ударяли': 1, 'обзывали': 1, 'выбивать': 1, 'социальным': 1, 'педагогом': 1, 'преподавала': 1, '335': 1, 'ненормированным': 1, 'Невестку': 1, 'воспитывать': 1, 'Логвинова': 1, 'Ю': 1, 'худшую': 1, 'фиксированную': 1, 'снизилась': 1, 'ухудшилось': 1, 'подождёт': 1, 'откусить': 1, '27600': 1, 'зарядку': 1, 'программным': 1, 'гидроабразивная': 1, 'резка': 1, 'защитную': 1, 'живых': 1, 'Завещания': 1, 'подаем': 1, 'Одобряют': 1, 'Берем': 1, 'Продать': 1, 'правоведы': 1, 'минфина': 1, 'Указал': 1, 'ссылался': 1, 'первичной': 1, 'катать': 1, 'внучки': 1, 'Внучке': 1, 'Отпускной': 1, 'начинаться': 1, 'отпускной': 1, 'Познакомился': 1, 'разницей': 1, 'имеющую': 1, 'гулянок': 1, 'Рассказывает': 1, 'прилетела': 1, 'приличная': 1, 'Предварительно': 1, 'соцнайме': 1, 'тезка': 1, 'нарисовался': 1, 'сравнил': 1, 'СНИЛС': 1, '31.07.2021': 1, 'Похоже': 1, 'передней': 1, 'носовой': 1, 'пазухи': 1, 'текла': 1, 'Ходил': 1, 'стоматологу': 1, 'шатания': 1, 'отбирали': 1, 'таксисту': 1, 'грабеже': 1, 'Братске': 1, 'существовании': 1, 'Отправляла': 1, 'доказала': 1, 'отметка': 1, 'специализированного': 1, 'Росжилкомплекса': 1, 'росжилкомплекса': 1, 'вложилась': 1, 'доделала': 1, 'гарнизоне': 1, 'БОЛЕЕ': 1, 'ЧЕМ': 1, 'пустого': 1, 'необихоженного': 1, 'Фотографии': 1, 'скриншотах': 1, 'полугодовалый': 1, 'фитнес': 1, 'Карту': 1, 'переоформлением': 1, 'зал': 1, 'ссылались': 1, 'переоформление': 1, 'читать': 1, 'распишите': 1, 'влиянием': 1, 'мошейников': 1, 'мошейники': 1, 'Заведено': 1, 'гасить': 1, 'снялась': 1, 'хочешь-': 1, 'оставайся': 1, 'переводи': 1, 'выходило': 1, 'Закрыла': 1, 'трудоустроили': 1, 'мизерная': 1, 'Начались': 1, 'упреки': 1, 'отпуски': 1, 'годик': 1, 'Разряд': 1, 'Вес': 1, 'принудительному': 1, 'вступал': 1, 'Остальная': 1, 'свете': 1, 'загородном': 1, 'маткапиталу': 1, '-то': 1, 'пятерых': 1, 'задолженностью': 1, 'Зарплаты': 1, 'текущих': 1, 'недавнего': 1, 'Домклик': 1, 'Данной': 1, '1975': 1, 'узкий': 1, 'стенами': 1, 'границе': 1, 'Линия': 1, 'заборов': 1, 'фасаду': 1, 'обозначает': 1, 'Напротив': 1, 'ЗУ': 1, 'ширина': 1, 'деревянные': 1, 'придомовая': 1, 'подъехать': 1, 'сетует': 1, 'затопчат': 1, 'лужок': 1, 'размышления': 1, 'вздулись': 1, 'крошится': 1, 'трещины': 1, 'углах': 1, 'угрозе': 1, 'поставлены': 1, 'периметру': 1, 'желал': 1, 'залезал': 1, 'выдавали': 1, 'замера': 1, 'пашни': 1, 'огороду': 1, 'влез': 1, 'кадастровых': 1, 'могли-нарисовали': 1, 'рухнет': 1, 'ответите': 1, 'бьюсь': 1, 'Свою': 1, 'эпизоды': 1, 'многолетней': 1, 'косвенное': 1, 'посредник': 1, 'брокерской': 1, 'отразиться': 1, 'эпизод': 1, 'тяжёлую': 1, 'досудебного': 1, 'судимая': 1, 'Поддалась': 1, 'психологическому': 1, 'давлению': 1, 'Складывается': 1, 'прислугу': 1, 'принеси': 1, 'вынеси': 1, 'присмотри': 1, 'сиди': 1, 'ешь': 1, 'выделяет': 1, 'соберётся': 1, 'разнообразия': 1, 'прислугой': 1, 'прояснить': 1, 'ураганом': 1, 'отремонтировало': 1, 'разделила': 1, 'платежке': 1, 'строкой': 1, 'взимая': 1, 'кубышек': 1, 'жилые': 1, 'наименьшей': 1, 'знаки': 1, 'мотоцикле': 1, 'кубов': 1, 'скутер': 1, 'разорвал': 1, 'заднее': 1, 'сальто': 1, 'ущербы': 1, 'ответчик-должник': 1, 'ответчику-должнику': 1, 'трудным': 1, 'негодный': 1, 'словесный': 1, 'Нанёс': 1, 'быда': 1, 'апелляциия': 1, 'Московский': 1, 'пересмотрение': 1, 'Применима': 1, '177-злостное': 1, 'уклонение': 1, 'описанных': 1, 'дознание': 1, 'закрыло': 1, 'незначительная': 1, 'повторная': 1, 'доначисления': 1, 'Санкт-Петербург': 1, 'отвели': 1, 'метро': 1, 'обоснован': 1, 'краткосрочный': 1, 'Отбываем': 1, 'ампутировали': 1, 'пальцами': 1, 'моментами': 1, 'Вина': 1, 'сотруднике': 1, 'манипуляции': 1, 'провёл': 1, 'опасной': 1, 'тельфер': 1, 'исправность': 1, 'крюка': 1, 'ППР': 1, 'раскладах': 1, 'краевом': 1, 'остальными': 1, 'кратко': 1, 'занимали': 1, '20,1': 1, '38,3': 1, 'Сироту': 1, 'заселяют': 1, 'учётной': 1, 'зарегистрированном': 1, 'Основного': 1, 'рожает': 1, 'первенца': 1, 'ошибаться': 1, 'Весной': 1, '524527,90': 1, 'рассматривает': 1, 'владимир': 1, 'Прислали': 1, 'попятную': 1, 'Положен': 1, '8.000': 1, 'старых': 1, '10-летней': 1, 'истечение': 1, 'обсудить': 1, 'оскорбляет': 1, 'доводя': 1, 'шока': 1, 'навредить': 1, 'удушение': 1, 'сексуальную': 1, 'свидетелю': 1, 'правоохранительные': 1, '460000': 1, 'содействия': 1, 'предпринимательства': 1, 'кондитерка': 1, 'пережил': 1, 'оборудованием': 1, 'банкротиться': 1, 'холодильники': 1, 'морозильные': 1, 'домашнего': 1, 'прогулках': 1, 'свежем': 1, 'вложения': 1, 'маленькую': 1, 'однушку': 1, 'неë': 1, 'улететь': 1, 'закрытыми': 1, 'планировали': 1, 'различные': 1, 'требовались': 1, 'затягиваются': 1, 'международные': 1, 'располагаю': 1, 'простили': 1, 'укрываться': 1, 'прилететь': 1, 'юридическими': 1, 'квалифицированными': 1, '🙏🙏🙏': 1, 'брачным': 1, 'плохая': 1, 'трансаспекту': 1, 'совершают': 1, 'ОТКАЗАТЬ': 1, 'мужские': 1, 'Избил': 1, 'переубеждать': 1, 'чем-либо': 1, 'Нету': 1, 'конституционном': 1, 'принуждать': 1, 'лечению': 1, 'психиатрии': 1, 'трансгендерность': 1, 'психологической': 1, 'осправить': 1, 'удобней': 1, 'паспортным': 1, 'сменит': 1, 'желаемым': 1, 'поспорит': 1, 'мужской': 1, 'Уведомление': 1, '15.08.2021': 1, '15.05.2022': 1, '02.03.2007': 1, '25-ФЗ': 1, 'осуждения': 1, 'исключающему': 1, 'вступившему': 1, 'Появилась': 1, 'автосалона': 1, 'РосБанк': 1, 'дорожную': 1, 'Автодруг': 1, 'абонентская': 1, '57000-консультации': 1, 'аобнентским': 1, 'опросил': 1, 'гасила': 1, 'прогулов': 1, '66': 1, 'препятствовать': 1, 'остановят': 1, 'руля': 1, 'застрахован': 1, 'ожидаем': 1, '-на': 1, 'защищаться': 1, 'Челябинскую': 1, 'Челябинской': 1, 'секцию': 1, 'бокса': 1, 'тренер': 1, 'прилюдно': 1, 'оскорбляла': 1, 'произносила': 1, 'вставляя': 1, 'посмешище': 1, 'binance': 1, 'Филиппины': 1, 'небольших': 1, 'прозрачны': 1, 'подозрительны': 1, 'разблокировали': 1, 'Задача': 1, 'повторяющимися': 1, 'повторяющиеся': 1, 'нормативной': 1, 'повторяющихся': 1, 'промышленной': 1, 'повторяющееся': 1, 'ГОСТ': 1, 'ГСМ': 1, 'Замена': 1, 'Отбыла': 1, 'Подошло': 1, 'мягкий': 1, 'росеестр': 1, 'поделенной': 1, 'крайней': 1, 'зарегать': 1, 'Выплатить': 1, 'Оплачивал': 1, 'Внёс': 1, 'проходило': 1, 'приобретены': 1, 'гибель': 1, 'негативный': 1, 'автоэкспертизу': 1, 'проведут': 1, 'подробную': 1, 'нестыковки': 1, 'ихней': 1, 'длилась': 1, 'аппелировал': 1, 'противная': 1, 'судился': 1, 'Предполагаю': 1, 'затягивал': 1, 'противоположная': 1, 'делалось': 1, 'клевета': 1, 'правомочно': 1, '???': 1, 'беженцы': 1, 'вырвались': 1, 'пригласила': 1, 'пустующей': 1, 'конфликтовать': 1, 'Приблизительно': 1, 'честном': 1, 'слове': 1, 'статусу': 1, 'напечатанную': 1, 'арендовать': 1, 'свободных': 1, 'вряд-ли': 1, 'откажемся': 1, 'обошлось': 1, 'написанием': 1, 'кардинальные': 1, 'моментально': 1, 'разрешили': 1, 'особенность': 1, 'Лишён': 1, 'пьянку': 1, 'ремень': 1, 'предоставился': 1, 'нормированный': 1, 'пятидневка': 1, 'организовывается': 1, 'корпоратив': 1, 'корпоратива': 1, 'Оправдывая': 1, 'нехваткой': 1, 'минималка': 1, 'недоплачивают': 1, 'канава': 1, 'осушение': 1, 'посли': 1, 'коровы': 1, 'раздали': 1, 'многоэтажных': 1, 'зданий': 1, 'закапать': 1, 'обучать': 1, 'организовывать': 1, 'Установили': 1, 'прячется': 1, 'потребую': 1, 'демонтаж': 1, 'тп': 1, 'тсж': 1, 'нервничать': 1, 'выматывает': 1, 'накопительно': 1, 'лежат': 1, 'аннуляцию': 1, 'случился': 1, 'эпилептический': 1, 'приступа': 1, 'разбила': 1, 'травматизме': 1, 'хроническое': 1, 'хроническому': 1, 'перешёл': 1, 'снесён': 1, 'залит': 1, 'проекта': 1, 'докозательств': 1, 'вац': 1, 'деления': 1, 'Многодетного': 1, 'часовые': 1, 'плавающими': 1, 'дедом': 1, 'Бабушки': 1, 'отгуле': 1, 'безосновательно': 1, 'допросить': 1, 'приглашение': 1, 'доказана': 1, 'приближенных': 1, 'посменная': 1, '36-часовая': 1, 'мужская': 1, 'сменного': 1, '36-часовой': 1, 'общероссийской': 1, '40-часовой': 1, 'стационар': 1, 'накладывается': 1, 'Ноябрьске': 1, 'превышение': 1, 'янао': 1, 'Учитывают': 1, 'технически': 1, 'сложном': 1, 'товаре': 1, 'Экспертизы': 1, 'выяснится': 1, 'существенный': 1, 'недостаток': 1, 'дневное': 1, 'военная': 1, 'министерство': 1, 'уверены': 1, 'погибшим': 1, 'вели': 1, '08.07.2022': 1, 'огромно': 1, 'благодарны': 1, 'расчётный': 1, 'многоплодной': 1, 'оставленный': 1, 'доставленный': 1, 'линолеум': 1, 'требуемые': 1, 'куски': 1, 'Причина': 1, 'поторопились': 1, 'объявлены': 1, 'перелёт': 1, 'самолёты': 1, 'чартерные': 1, 'жд': 1, 'обычных': 1, 'самолётов': 1, 'отработанной': 1, 'последовали': 1, '71.1': 1, 'ОБ': 1, 'Университет': 1, 'Генеральная': 1, 'приобретали': 1, 'настоящую': 1, 'дефектами': 1, 'отражаются': 1, 'белых': 1, 'заметных': 1, 'полосах': 1, 'покупки-магазин': 1, 'DNS': 1, 'сохранена': 1, 'арендованой': 1, 'нанимали': 1, 'земляков': 1, 'посудили': 1, 'помогло': 1, 'короче': 1, 'КУПИТЬ': 1, 'СРОЧНО': 1, 'АВИАБИЛЕТ': 1, 'СЕБЯ': 1, 'СЕМЬЕ': 1, 'УЛЕТЕТЬ': 1, 'КИРГИЗИЮ': 1, 'АЭРОПОРТУ': 1, 'ЗАДЕРЖИВАТЬ': 1, 'БУДУТ': 1, 'ТОЖЕ': 1, 'ЗАКРОЮТ': 1, 'ДАННЫЙ': 1, 'МОМЕНТ': 1, 'ОТВЕТ': 1, 'Отгуляла': 1, 'прервать': 1, 'Терять': 1, 'нежелательно': 1, 'мясоперерабатывающем': 1, 'обвалки': 1, 'нарезке': 1, 'шашлыка': 1, 'передвигаться': 1, 'заводу': 1, 'походов': 1, 'заказывают': 1, 'Обоснуйте': 1, 'БИР': 1, 'уточняла': 1, 'секретаря': 1, 'уверили': 1, 'рассчитают': 1, 'ГЖИ': 1, 'Вынесено': 1, 'поймают': 1, 'Повышение': 1, 'Сахалинская': 1, 'обзвон': 1, 'тёплой': 1, 'Альфабанка': 1, 'дубли': 1, 'недозвоны': 1, 'отправка': 1, 'заняло': 1, 'хром': 1, 'скачанным': 1, 'звонилка': 1, 'скрипты': 1, 'звонилки': 1, 'имена': 1, 'сохранённое': 1, 'сдельной': 1, 'успешных': 1, 'заявок': 1, 'Юлией': 1, 'Толоконцевой': 1, 'помощники': 1, 'Владислав': 1, 'Шишков': 1, 'Никита': 1, 'Нижник': 1, '104': 1, 'эротического': 1, 'массажа': 1, 'мужском': 1, 'спа-салоне': 1, 'правонорашении': 1, '9.2': 1, 'Законом': 1, '08.05.2018': 1, '17-З': 1, 'травянистыми': 1, 'растениями': 1, 'газоны': 1, 'цветники': 1, 'направленных': 1, 'ликвидацию': 1, 'стихийных': 1, 'бедствий': 1, 'чрезвычайных': 1, 'неотложных': 1, 'функционированием': 1, 'жизнеобеспечения': 1, 'влечет': 1, 'наложение': 1, 'нарушевших': 1, 'поставления': 1, 'выписаны': 1, 'учатники': 1, 'адмнистративного': 1, 'рассматривающего': 1, 'должностным': 1, 'Принцип': 1, 'равенства': 1, 'правопреемстве': 1, 'совершеннолетием': 1, 'описью': 1, 'микрозаймах': 1, 'Стабильного': 1, 'рефинансирование': 1, 'появления': 1, 'одобряли': 1, 'появится': 1, 'силах': 1, 'всякого': 1, 'обманувшего': 1, 'принесет': 1, 'участковым': 1, 'педиатром': 1, 'Потребовал': 1, 'Предоставил': 1, '27.': 1, 'Мол': 1, 'попробуй': 1, 'выйди': 1, 'Несмотря': 1, 'опись': 1, 'кооперативная': 1, 'приватизировалось': 1, 'кооперативного': 1, 'препятствием': 1, '29.06': 1, '23.06': 1, '26.06': 1, 'Грозятся': 1, '4-6': 1, 'кранов': 1, 'унитаза': 1, 'шлангов': 1, 'скинутся': 1, 'скидываются': 1, 'Состоялся': 1, 'отметкой': 1, 'Перебирали': 1, 'механиков': 1, 'передач': 1, 'дорогостоящий': 1, 'механикам': 1, 'Работают': 1, 'Чека': 1, 'расходные': 1, 'причинен': 1, 'основные': 1, 'Расторжение': 1, 'Работника': 1, 'трудойстройства': 1, 'учредителем-генеральным': 1, 'прогуле': 1, 'заочным': 1, 'выписанного': 1, 'переносят': 1, 'Дозвониться': 1, 'алиментщик': 1, 'Прохожу': 1, 'танковый': 1, 'курсов': 1, 'Категория': 1, 'коррекцией': 1, 'устроились': 1, 'брусчатки': 1, 'штатов': 1, 'уведомляем': 1, 'Арсений': 1, 'Сдал': 1, 'пропишусь': 1, 'Какой-нибудь': 1, 'соотношение': 1, '70/30': 1, 'Переделали': 1, 'дубликат': 1, 'сказал-узнала': 1, 'скрываться': 1, 'Туда': 1, 'Юридическое': 1, 'вылет': 1, 'Выпустят': 1, 'уплачу': 1, 'Полная': 1, 'квадрат': 1, 'Тульской': 1, 'Адвокаты': 1, 'Туле': 1, 'проиграем': 1, 'посчитает': 1, 'выселиться': 1, 'мЕсть': 1, 'выпишемся': 1, 'пропишемся': 1, 'выселяла': 1, 'Пропишут': 1, '3000-4000': 1, 'оплачивалась': 1, '15500': 1, 'обэп': 1, 'Наташей': 1, 'Соней': 1, 'прыгнул': 1, 'схватился': 1, 'плечи': 1, 'Наташи': 1, 'Наташа': 1, 'Соню': 1, 'уронила': 1, 'уронит': 1, 'микрокредита': 1, 'микрокредит': 1, 'тексту': 1, 'определен': 1, 'сжиманием': 1, 'объема': 1, 'озвучивается': 1, 'объявляли': 1, 'средневзвешенный': 1, 'будущих': 1, '1-двух': 1, 'Претендую': 1, 'аварийных': 1, 'вошли': 1, 'признанные': 1, '2025': 1, 'представляется': 1, 'обрушения': 1, 'маневринного': 1, 'Снимать': 1, 'отлучился': 1, 'беспокоят': 1, 'Смоленске': 1, 'рембате': 1, 'Выписке': 1, 'спецоперация': 1, 'нынешних': 1, 'Девочка': 1, 'одноклассницей': 1, 'киндер': 1, 'сюрприз': 1, 'сверхнормативную': 1, 'численность': 1, 'логопед': 1, 'уеду': 1, 'логистика': 1, 'долгая': 1, 'подскажете': 1, 'Татьяна': 1, 'суммирования': 1, 'неоплачиваемых': 1, 'льготным': 1, 'ЭТО': 1, 'ПРОСТО': 1, 'МНЕНИЕ': 1, 'СПЕЦИАЛИСТОВ': 1, 'Игорь': 1, '28.03.2022': 1, '20.05.2022': 1, '12.05.2022': 1, '24.05.2022': 1, '26.05.2022': 1, 'Кадровая': 1, 'Верен': 1, 'отравила': 1, 'договорных': 1, 'выложен': 1, 'геткурса': 1, 'Продукт': 1, 'Носову': 1, 'Носова': 1, 'взыскана': 1, 'государственная': 1, 'почерковедческой': 1, 'веским': 1, 'Изменить': 1, 'утвержденного': 1, 'работницы': 1, 'ткнул': 1, 'промеж': 1, 'лопаток': 1, 'спящую': 1, 'посудомоечная': 1, 'поставщику': 1, 'поставщик': 1, 'дефектов': 1, 'стоил': 1, 'снизил': 1, 'Узнать': 1, 'Южной': 1, 'введён': 1, 'безвизовый': 1, 'Жених': 1, 'визы': 1, 'пребывании': 1, 'Юж': 1, 'ввода': 1, 'программистом': 1, 'условные': 1, 'структурные': 1, 'Каждая': 1, 'уникального': 1, 'Вопроса': 1, 'прекращает': 1, 'финансирование': 1, 'разрабатывает': 1, 'грейдом': 1, 'инструкциями': 1, 'оффлайн': 1, 'записанные': 1, 'присоединии': 1, 'сетям': 1, 'врезку': 1, 'Арендодателя': 1, 'Арендодателю': 1, 'переложить': 1, 'Арендатора': 1, 'возвращаясь': 1, 'тёмное': 1, 'ошибся': 1, 'спальню': 1, 'лёг': 1, 'Проснулся': 1, 'криков': 1, 'шума': 1, 'спальне': 1, 'находящуюся': 1, 'Лёг': 1, 'разбудили': 1, 'полицейские': 1, 'Медкомиссия': 1, 'путайте': 1, 'Дайте': 1, 'многодетных': 1, 'четвёртый': 1, 'раздельной': 1, 'выделю': 1, 'брачному': 1, 'нежелательный': 1, 'Ps': 1, 'идеальная': 1, 'картина': 1, 'Брачный': 1, 'вложить': 1, 'передадут': 1, 'маленькому': 1, 'Федеральном': 1, 'сегодняшним': 1, 'Срочник': 1, 'казармы': 1, 'обеду': 1, 'губа': 1, 'грубое': 1, 'дисциплинарное': 1, 'неоднозначная': 1, 'называемый': 1, 'сексуальное': 1, 'прикрыто': 1, 'убитым': 1, 'массы': 1, 'вскрылись': 1, 'лжи': 1, 'разрушили': 1, 'отдай': 1, 'шантажируя': 1, 'Устраиваясь': 1, 'припарковался': 1, 'поперёк': 1, 'Связаться': 1, 'ИЛИ': 1, 'БЫЛ': 1, 'НЕТРЕЗВ': 1, 'нетрезв': 1, 'расценивать': 1, 'высиживать': 1, 'безобразия': 1, 'арендодатели': 1, 'возвращал': 1, 'Заставили': 1, 'МЫ': 1, 'НИКАКИХ': 1, 'ПРЕТЕНЗИЙ': 1, 'НИ': 1, 'КОМУ': 1, 'ИМЕМ': 1, 'органам': 1, 'Озачает': 1, 'взысканием': 1, 'Родительских': 1, 'проспала': 1, 'опоздала': 1, 'подписываться': 1, 'пропитание': 1, 'поделиться': 1, 'откажится': 1, 'погребение': 1, 'ежемесячную': 1, '07.06.22': 1, '27.06.22': 1, 'примут': 1, 'безработной': 1, 'Пропал': 1, 'вилосипед': 1, 'долгих': 1, 'подсобку': 1, 'велосипеда': 1, 'прислонившись': 1, 'долгой': 1, 'вымогательства': 1, 'причиненный': 1, 'профрисков': 1, 'угнали': 1, 'угонщика': 1, 'составлено': 1, 'раскаялся': 1, '75.000': 1, 'участием': 1, 'Мальчик': 1, 'Женится': 1, 'Брали': 1, 'закреплена': 1, 'выпустились': 1, 'отрезан': 1, 'отключено': 1, 'заколочены': 1, 'ответы🙏': 1, 'заразили': 1, 'хламидиозом': 1, 'заразил': 1, 'вычтены': 1, 'электросамокате': 1, 'электросамоката': 1, 'w': 1, 'остановивших': 1, 'полицейских': 1, 'меняли': 1, 'столбы': 1, 'сипкабель': 1, 'кабель': 1, 'стандартам': 1, '16-го': 1, '22-ой': 1, 'сажала': 1, 'Приезжала': 1, '22-ом': 1, 'умственно': 1, 'отсталых': 1, 'инсульт': 1, 'островков': 1, 'ест': 1, 'сосал': 1, 'бутылку': 1, 'трубка': 1, 'пищеводе': 1, 'шприцом': 1, 'медсестра': 1, 'физическом': 1, 'закостенелого': 1, 'зародыша': 1, 'приезжаем': 1, 'навещаем': 1, 'Поездка': 1, 'навещать': 1, 'Транспортация': 1, 'бегают': 1, 'прыгают': 1, 'посещают': 1, 'заразить': 1, 'ребенка-инвалида': 1, 'ребёнку-инвалиду': 1, 'комфорта': 1, 'тащили': 1, 'забираем': 1, 'нарастили': 1, 'кофейни': 1, 'испорченной': 1, 'Ежемесячно': 1, '172000': 1, '105000': 1, 'сняв': 1, 'наследница': 1, 'распечатать': 1, 'подписанного': 1, 'декретное': 1, 'выплачиваться': 1, 'декретница': 1, 'расторгают': 1, 'ниоткуда': 1, 'Ученического': 1, 'Единственный': 1, 'документ-выдали': 1, 'возмещая': 1, 'АНО': 1, 'Пробанкротиться': 1, 'прекращу': 1, 'вычету': 1, 'братЯ': 1, 'негодное': 1, 'выбиты': 1, 'затапливались': 1, 'ловил': 1, 'белые': 1, 'горячки': 1, 'разговору': 1, 'способствовать': 1, 'нетИнтересует': 1, 'одиночку': 1, 'сотрясением': 1, 'подобный': 1, 'приговорить': 1, 'приемными': 1, 'Вовремя': 1, '787': 1, 'штампа': 1, 'штампом': 1, 'ВНГ': 1, '06.08.2021': 1, 'рубежа': 1, 'ПЦР': 1, 'размещал': 1, 'Надлежащим': 1, 'извещали': 1, 'Протокол': 1, '05.10.2021': 1, 'обучающий': 1, 'Доступ': 1, 'урокам': 1, 'кураторами': 1, 'рассрочкам': 1, 'необходим': 1, 'связанную': 1, 'Заводчица': 1, 'Исполнительные': 1, 'Рожать': 1, 'цветочник': 1, 'бросают': 1, 'гниет': 1, 'Разговоры': 1, 'балконо': 1, 'отходя': 1, 'покакал': 1, '21.11.2017': 1, '29.11.2018': 1, 'поручительство': 1, 'поручителей': 1, 'возобновили': 1, 'возобновление': 1, '19000': 1, '01.12.2021': 1, '27.04.2022': 1, 'Посчитать': 1, 'компьютерную': 1, 'инфляции': 1, 'ТСН': 1, 'принадлежал': 1, 'столбе': 1, 'странные': 1, 'передана': 1, 'Платежных': 1, 'такую-то': 1, 'явилось': 1, 'дополнения': 1, 'микрозайму': 1, 'отнести': 1, 'вступивший': 1, 'прописанный': 1, 'унаследованной': 1, 'счетам': 1, 'досмотр': 1, 'марихуанна': 1, '0.30': 1, 'мефедрон': 1, '1.40': 1, 'iPhone': 1, 'медосведетельсвтования': 1, 'марихуанне': 1, '134': 1, 'Денис': 1, 'Ноября': 1, 'медосвидетельствования': 1, '14.01.2018': 1, 'сдано': 1, 'утеряно': 1, 'уплачен': 1, 'остановлены': 1, 'упоминаний': 1, '08.05.': 1, 'спокойным': 1, 'шагом': 1, 'наступало': 1, '01.02.2022': 1, '20.01.2022': 1, 'Донбасс': 1, 'близка': 1, 'разводу': 1, 'взаимопонимания': 1, 'Общалась': 1, 'психдиспансере': 1, 'Ведет': 1, 'матрац': 1, 'Ссылаясь': 1, 'бывают': 1, 'обострения': 1, 'бабашку': 1, 'психбольницу': 1, 'добровольного': 1, 'Высшего': 1, 'Сессию': 1, 'преддипломной': 1, 'диплома': 1, 'Незаконно': 1, '04.05.2022': 1, 'намекнули': 1, 'решится': 1, 'Возникла': 1, 'Единственным': 1, 'утратившими': 1, 'судов': 1, 'зарегистрироваться': 1, 'миостимуляцию': 1, 'прессотерапию': 1, 'Отходив': 1, '4800': 1, 'Межвахту': 1, 'межвахту': 1, 'Продлится': 1, 'праздника': 1, 'крайняя': 1, '16.04.22': 1, '21.04.22': 1, 'Человека': 1, 'приходите': 1, 'Утром': 1, 'Прождал': 1, 'Другие': 1, 'похоронах': 1, 'вторника': 1, 'съездит': 1, 'Указанное': 1, 'фотосессий': 1, 'Минприроды': 1, 'лицензировании': 1, 'специальном': 1, 'внесенного': 1, '795': 1, '22.06.2019': 1, 'АКПИ': 1, '21-184': 1, '498': 1, '27.12.2018': 1, 'включенных': 1, 'Включение': 1, 'Перечень': 1, 'ответственном': 1, 'законодательные': 1, 'причинения': 1, 'Животное': 1, '01.05.2021': 1, 'Подпадает': 1, 'приобретению': 1, 'выдавалось': 1, 'ввоз': 1, 'сопроводительные': 1, 'дикое': 1, 'выявления': 1, 'путей': 1, 'возбудителей': 1, 'лицензия': 1, 'использованию': 1, 'вакцинация': 1, 'бешенства': 1, 'ветнадзоре': 1, 'заверенные': 1, '2,8': 1, 'северную': 1, 'Предлагала': 1, 'Продавать': 1, 'Калужской': 1, 'Газ': 1, 'Мирном': 1, 'Фармацевт': 1, 'рецептурные': 1, 'Ознакомила': 1, 'приёмом': 1, 'фармацевта': 1, 'Ветеринарии': 1, 'вступительных': 1, 'тестов': 1, 'специальность': 1, 'Зоотехнию': 1, 'Кормили': 1, 'обещанием': 1, 'скорейшем': 1, 'вета': 1, 'наконец-то': 1, 'приступала': 1, 'предметы': 1, 'готовится': 1, 'Слушать': 1, 'моменте': 1, 'дирекцию': 1, 'изъятием': 1, 'Моë': 1, 'Михаил': 1, 'неким': 1, 'разведясь': 1, 'моëм': 1, 'пройдëт': 1, 'холост': 1, 'Решается': 1, 'получим': 1, 'Настоять': 1, 'минусы': 1, 'плюсы': 1, 'невестка': 1, 'внебрачная': 1, 'Невестка': 1, 'вдовой': 1, 'передел': 1, 'распределяться': 1, 'планировки': 1, 'числились': 1, 'показателей': 1, 'кесарево': 1, 'тяжелое': 1, '1.8': 1, 'Образно': 1, 'Субботник': 1, 'мероприятиях': 1, 'соответствуещее': 1, 'срочную': 1, 'Признали': 1, 'Армия': 1, 'вещь': 1, 'армия': 1, 'Влияет': 1, 'ход': 1, 'исполнял': 1, 'званию': 1, 'государственного': 1, 'местонахождение': 1, 'техникуму': 1, 'корректировке': 1, '12.04.2021-29.08.2021': 1, '30.08.2021-18.11.2021': 1, '1.03.2022': 1, 'садиков': 1, '20.06.2022': 1, 'июль-август': 1, 'целовался': 1, 'намёков': 1, 'еше': 1, 'Уведомления': 1, 'колендарных': 1, '25.04.2022': 1, 'праздничный': 1, 'Означает': 1, 'таперь': 1, 'включено': 1, '30/30': 1, 'Ревизии': 1, 'Вешают': 1, 'невиновность': 1, 'отчисляются': 1, 'отплата': 1, 'погашеная': 1, 'Речь': 1, 'совмещении': 1, 'совместительстве': 1, 'выполнению': 1, 'функционала': 1, 'Договорам': 1, 'укрф': 1, 'пьяны': 1, 'смягчающие': 1, 'индексируются': 1, 'невозможностью': 1, 'долговым': 1, 'перепродать': 1, 'конфискации': 1, 'Стамбуле': 1, 'переходили': 1, 'первыми': 1, 'стенке': 1, 'выбегала': 1, 'головы': 1, '24.03.2022': 1, 'нотариал': 1, 'юридич': 1, '31.03.2022': 1, 'шагам': 1, 'вестнике': 1, 'публикаци': 1, 'совпадающие': 1, 'проставлены': 1, 'гардеробщиком': 1, '15.09.21': 1, '18.04.22': 1, 'срок-до': 1, '31.05.2022.': 1, 'сдавать-могут': 1, 'гардеробе': 1, 'выполняться': 1, '15.09.2021': 1, '31.05.2022': 1, 'отпуск-нужно': 1, 'заблаговременно': 1, 'неотгулянный': 1, 'объегорят': 1, 'отсчет': 1, 'Йошкар-Олинским': 1, 'городским': 1, '314.1': 1, 'Верховным': 1, 'оставлен': 1, 'ОДНАКО': 1, 'Шестым': 1, 'Кассационным': 1, 'юрисдикции': 1, 'снижен': 1, 'освобожден': 1, 'из-зала': 1, '-4': 1, 'пересидел': 1, 'Состояла': 1, 'содействующая': 1, 'биржа': 1, 'Замещала': 1, 'возложении': 1, 'напросто': 1, 'допиться': 1, 'повар': 1, 'пересмотреть': 1, 'Пятёрочке': 1, 'Прогулы': 1, 'долгий': 1, 'автоэлектриком': 1, 'совмещенку': 1, 'обещая': 1, 'автоэлектрика': 1, 'специализированном': 1, 'налогообложение': 1, 'патенте': 1, 'кассации': 1, 'UX': 1, 'исследователя': 1, 'Управление': 1, 'приняло': 1, 'похожую': 1, 'месячных': 1, 'зарплатС': 1, 'принёс': 1, 'цифровое': 1, 'табло': 1, 'прибора': 1, 'свалить': 1, 'Родные': 1, 'виновника': 1, 'Запрещает': 1, '23.00': 1, '28.10.2021': 1, '09.02.2022': 1, 'пребывала': 1, 'Чукотке': 1, 'Магадане': 1, 'посадочные': 1, 'талоны': 1, '117000': 1, '86910.62': 1, 'алиментоплательщик': 1, 'влименты': 1, 'Январь': 1, 'Шла': 1, 'коляска': 1, 'выкинули': 1, 'привезла': 1, 'Потерпевшая': 1, 'сахарным': 1, 'диабетом': 1, 'инсулине': 1, 'пв': 1, 'бабушкины': 1, 'продадут': 1, 'Участвовать': 1, 'нервничает': 1, 'догонку': 1, 'позволит': 1, 'настоял': 1, '6-7': 1, 'кошмар': 1, 'познакомилась': 1, 'казалось': 1, 'договаривает': 1, 'неадеквате': 1, 'могло': 1, 'психике': 1, 'мечется': 1, 'смогло': 1, 'урегулировали': 1, 'исполнился': 1, 'высказано': 1, 'негатива': 1, 'расстояние': 1, 'утихло': 1, 'появление': 1, 'разведенная': 1, 'Идёт': 1, 'настраивают': 1, 'определенном': 1, 'доверяет': 1, 'Бывшей': 1, 'тдс': 1, 'Новая': 1, 'ММС': 1, 'присудят': 1, '1/8': 1, 'расплатится': 1, 'встретится': 1, 'неправильного': 1, 'соврал': 1, 'скрывался': 1, 'невозврат': 1, 'исходящей': 1, 'корреспонденции': 1, '07.04.2022': 1, 'Ухаживаем': 1, 'здоровым': 1, 'проведем': 1, 'заложены': 1, 'переселить': 1, 'Далматово': 1, '8-е': 1, 'переселяют': 1, 'микрорайон': 1, 'Олимпийский': 1, 'Членом': 1, 'Расписались': 1, 'Переехали': 1, 'Мировом': 1, 'Украинское': 1, 'нерезидентом': 1, 'транзитом': 1, 'превышающей': 1, 'долл': 1, 'распространяются': 1, 'Костромкую': 1, 'офицером': 1, 'взводным': 1, '24.02': 1, '01.03': 1, 'выведены': 1, 'участники': 1, 'ветеранами': 1, 'военных': 1, 'Взвод': 1, 'взвод': 1, 'бросок': 1, 'взводный': 1, 'четырехмесячном': 1, 'Объявилась': 1, 'заботилась': 1, 'контрактника': 1, 'измена': 1, 'родине': 1, 'общежитием': 1, 'народных': 1, 'управляющие': 1, 'любят': 1, 'упорно': 1, 'экстренный': 1, 'прорвало': 1, 'трубу': 1, 'перекрытиями': 1, 'протечка': 1, 'нейтральной': 1, 'Лишила': 1, 'Уголовная': 1, 'расцветка': 1, 'фасон': 1, 'сохранение': 1, 'вырученные': 1, 'Пол': 1, 'тетрадей': 1, 'тетрадь': 1, 'распался': 1, 'определены': 1, 'распределить': 1, 'лишится': 1, 'использованной': 1, 'подобным': 1, 'населённом': 1, 'персчета': 1, 'удалят': 1, '122': 1, 'Рассрочка': 1, 'сетевую': 1, 'точку': 1, 'Другая': 1, 'Общие': 1, 'социопат': 1, 'психопат': 1, 'попойке': 1, 'позорный': 1, 'унижал': 1, 'последними': 1, 'Вызывала': 1, 'ненужный': 1, 'элемент': 1, 'кое-какие': 1, 'любимых': 1, 'знакомы': 1, 'сдружились': 1, 'родными': 1, 'перелет': 1, 'опровержения': 1, 'передала': 1, 'эстафету': 1, 'Соц': 1, 'Службе': 1, 'отправке': 1, 'вацап': 1, 'сканировании': 1, 'криминального': 1, 'сильное': 1, 'полом': 1, 'отмывательстве': 1, 'заведует': 1, 'договорникам': 1, 'летПросят': 1, 'Виновник': 1, 'скрылся': 1, 'встанут': 1, 'перекупают': 1, 'игнорирует': 1, '25.03.2022': 1, 'Белую': 1, 'перерабатывали': 1, 'делилась': 1, '4-ый': 1, '11.04': 1, 'выпустила': 1, 'допсоглашение': 1, 'вводе': 1, 'неполного': 1, 'Неполный': 1, 'вводится': 1, 'Браке': 1, '2-м': 1, 'заседаниям': 1, 'бумажном': 1, 'Правомочно': 1, 'Накопился': 1, 'оплачена': 1, 'Чистый': 1, '120001': 1, '245': 1, 'возникнут': 1, 'Продажа': 1, 'кончились': 1, 'низкооплачиваемая': 1, 'заочном': 1, 'отдана': 1, 'весенняя': 1, 'сессия': 1, 'осеннью': 1, 'руководителю': 1, 'доверенным': 1, 'абонент': 1, 'размещенных': 1, 'обязуюсь': 1, '6.9.': 1, 'Узнав': 1, '2,7': 1, 'диспансер': 1, 'Главврач': 1, 'кредиторы': 1, 'предложив': 1, 'вакантные': 1, 'ветерану': 1, 'просужен': 1, 'Направил': 1, 'пересылку': 1, 'отправление': 1, 'таунхаус': 1, 'Томской': 1, 'ванны': 1, 'современного': 1, 'полноправная': 1, 'долечку': 1, 'ванну': 1, 'боиться': 1, 'становиться': 1, 'справедливость': 1, 'ремонты': 1, 'оказываюсь': 1, 'выкупит': 1, 'Случилась': 1, 'неприятность': 1, 'Жилстрой': 1, 'подъезды': 1, 'Закрывали': 1, 'коммуникаций': 1, 'убедиться': 1, 'раскрыта': 1, 'линолиум': 1, 'Забирал': 1, 'видело': 1, 'боялся': 1, 'перемат': 1, 'зашел': 1, 'УКРАЛ': 1, 'телевизоры': 1, 'допросила': 1, 'инициативой': 1, 'командиром': 1, 'батальона': 1, 'префикс': 1, 'Удалось': 1, 'электроснабжение': 1, 'ГВС': 1, 'забили': 1, 'квитанций': 1, 'адресацией': 1, 'предпринимали': 1, 'отменят': 1, 'макс': 1, 'Господа': 1, 'сварить': 1, 'котле': 1, 'недоплачивали': 1, 'кунилингус': 1, 'Рассматривая': 1, 'завладения': 1, 'электросамокатом': 1, 'цели': 1, 'оперуполномоченный': 1, 'накапливаются': 1, 'продержали': 1, 'онолизов': 1, 'наркотикам': 1, 'Третья': 1, '1937': 1, 'плачевном': 1, 'потолку': 1, 'отвалилась': 1, 'плесень': 1, 'грибок': 1, 'стенах': 1, 'задолго': 1, 'приобретая': 1, '7235': 1, '7325': 1, 'Кяхтинском': 1, 'взымает': 1, 'Отдали': 1, 'выясняем': 1, '3-го': 1, '31.01.22': 1, 'алогичные': 1, 'осуждённым': 1, 'реальному': 1, 'Применил': 1, '73': 1, 'приговором': 1, 'ходатайствовала': 1, 'мягком': 1, 'неправомерности': 1, 'выявлении': 1, 'ред': 1, 'осуждённый': 1, 'сроком-как': 1, 'составляющую': 1, 'опасного': 1, 'родном': 1, 'Баюновские': 1, 'исполняют': 1, 'центральной': 1, 'каток': 1, 'предаварийных': 1, 'главе': 1, 'зиму': 1, 'чистили': 1, 'расходуются': 1, 'формирования': 1, 'довод': 1, 'препятствие': 1, 'тяжелом': 1, 'финансовом': 1, 'угла': 1, 'задолженностями': 1, 'полторы': 1, 'запугал': 1, 'машинка': 1, 'стиралка': 1, 'петлю': 1, 'залезет': 1, '17.04.2022': 1, 'описи': 1, 'покойных': 1, 'юрисконсулом': 1, 'правонарушитель': 1, 'хищенное': 1, 'возмещено': 1, 'Директора': 1, 'незаконности': 1, '1.01.20': 1, 'платёжной': 1, 'переплатой': 1, '31.01.20': 1, 'квартплате': 1, 'Призвался': 1, 'отслужил': 1, 'увольняясь': 1, 'вставал': 1, 'Заёмщик': 1, 'уплатить': 1, 'единовременный': 1, 'единовременного': 1, 'Заёмщика': 1, '9372': 1, 'триста': 1, 'семьдесят': 1, '8150': 1, 'копеек–': 1, '1222': 1, 'двести': 1, 'двадцать': 1, 'погашениепроцентов': 1, 'Заёмщиком': 1, 'единовременногоплатежа': 1, 'Вышеуказанный': 1, 'содержится': 1, 'вГрафике': 1, 'являющемся': 1, 'Приложением': 1, 'настоящему': 1, 'Перепутала': 1, '12800': 1, '2560': 1, '16.03.202': 1, 'невыплата': 1, 'умышленно': 1, 'обманула': 1, '200000': 1, 'пошагово': 1, 'ручной': 1, 'ковки': 1, 'вэк': 1, 'слухом': 1, 'сурдолога': 1, 'хроническая': 1, 'правосторонняя': 1, 'кондуктивная': 1, 'тугоухость': 1, 'завернули': 1, 'КТ': 1, 'Обследование': 1, 'врачами': 1, 'лыжи': 1, 'Температурный': 1, 'СанПин': 1, 'скользкая': 1, 'слегка': 1, 'рыхловат': 1, 'укатана': 1, 'Кататься': 1, 'удовольствие': 1, 'Лыжню': 1, 'уроком': 1, 'катаются': 1, 'общаются': 1, 'руководящие': 1, 'поговорили': 1, 'Программа': 1, 'руководствуемся': 1, 'авторской': 1, 'Ляха': 1, 'результатами': 1, 'заданий': 1, 'методика': 1, 'дураку': 1, 'палки': 1, 'ДОКУМЕНТ': 1, 'нажаловалась': 1, 'правам': 1, 'Пояснения': 1, 'температурный': 1, 'лыжня': 1, 'трав': 1, 'руководствовалась': 1, 'методическими': 1, 'рекомендациями': 1, 'конфликт': 1, 'учителей': 1, 'научить': 1, 'учить': 1, 'узналась': 1, 'вписаться': 1, 'минпросвещения': 1, 'родителю': 1, 'педиатр': 1, 'КГБУЗ': 1, 'Хороль': 1, 'МИНИСТЕРСТВО': 1, 'ЗДРАВООХРАНЕНИЯ': 1, 'РОССИЙСКОЙ': 1, 'ФЕДЕРАЦИИПРИКАЗот': 1, '514': 1, 'нО': 1, 'ПОРЯДКЕ': 1, 'ПРОВЕДЕНИЯ': 1, 'ПРОФИЛАКТИЧЕСКИХ': 1, 'МЕДИЦИНСКИХ': 1, 'ОСМОТРОВ': 1, 'НЕСОВЕРШЕННОЛЕТНИХ': 1, 'педиатры': 1, 'РУНО': 1, 'садику': 1, 'медосмотры': 1, 'привычного': 1, 'магазинчика': 1, 'усердно': 1, 'крик': 1, 'рупор': 1, 'Заходите': 1, 'распродажа': 1, 'Подхожу': 1, 'входу': 1, 'украшен': 1, 'шариками': 1, 'стремянке': 1, 'табличкой': 1, 'рупором': 1, 'РАСПРОДАЖА': 1, 'СКИДКИ': 1, 'знающий': 1, 'поймёт': 1, 'разводов': 1, 'закупают': 1, 'дешманскую': 1, 'привозят': 1, 'ценники': 1, 'зачёркнутой': 1, 'внутрь': 1, 'консультанты': 1, 'занято': 1, 'пустое': 1, 'Единственное': 1, 'отличалось': 1, 'подставных': 1, 'радовались': 1, 'покупкам': 1, 'смеяться': 1, 'Полицию': 1, 'наблюдаю': 1, 'заходят': 1, 'пожилые': 1, 'благо': 1, 'входа': 1, 'постоять': 1, 'бе': 1, 'барыги': 1, 'напасть': 1, 'свинарник': 1, 'пьянствует': 1, 'завалено': 1, 'бутылками': 1, 'гадит': 1, 'выводится': 1, 'обозначены': 1, 'пунктиром': 1, 'возводит': 1, 'замерял': 1, 'возведения': 1, 'планом': 1, 'реальной': 1, 'долгим': 1, 'неофициальных': 1, 'отказов': 1, 'обьяснений': 1, 'ограничен': 1, 'аргументировал': 1, 'предельного': 1, 'рассмотрен': 1, 'дезертирство': 1, 'трибунал': 1, 'специальную': 1, 'отчислениями': 1, 'Фонде': 1, 'выписках': 1, 'Непрерывный': 1, 'Фонд': 1, 'утилизировал': 1, 'как-либо': 1, 'скрыл': 1, 'заселения': 1, 'нуждающемся': 1, 'Уехал': 1, 'возвращению': 1, 'расформировывают': 1, 'прописывался': 1, 'полученная': 1, 'нажитом': 1, '19.04': 1, '1.04': 1, 'выезжаю': 1, 'подсчетам': 1, 'пропали': 1, '12-13': 1, 'подразделениях': 1, 'образовательного': 1, 'внутренним': 1, 'Получатся': 1, 'довести': 1, 'совместмтельство': 1, '1.09': 1, '31.05': 1, 'одними': 1, 'разрывает': 1, 'соображений': 1, 'понадобились': 1, 'успев': 1, '20.04.22': 1, '10.03.22': 1, 'поддельным': 1, 'разобрать': 1, 'достойный': 1, 'Лежала': 1, 'ухаживал': 1, 'Перебиваюсь': 1, 'случайными': 1, 'заработками': 1, 'терпеть': 1, 'Большой': 1, 'Младшая': 1, 'Исполнительное': 1, 'исключатся': 1, 'числам': 1, 'знатоки': 1, 'иногородний': 1, 'корпоративный': 1, 'провожу': 1, 'часовой': 1, 'электросварщик': 1, 'физические': 1, 'напряжение': 1, 'развожу': 1, 'взирая': 1, 'погоду': 1, 'природные': 1, 'катаклизмы': 1, 'проезжаю': 1, 'необходимостью': 1, 'призывают': 1, 'выходным': 1, 'Будешь': 1, 'выпендриваться': 1, 'заберем': 1, 'событиями': 1, 'понимая': 1, 'коллегам': 1, 'пропагандируют': 1, 'Гестаповскую': 1, 'нон-спотом': 1, 'Твоя': 1, 'твои': 1, 'Оренбург': 1, 'Заполярный': 1, 'Нашёлся': 1, 'разрешённого': 1, 'продажами': 1, 'ладно': 1, 'помогу': 1, 'переводили': 1, 'счастью': 1, 'сглупила': 1, 'соучастницей': 1, 'учебное': 1, 'Нотариально': 1, 'солидарно': 1, 'честным': 1, 'Разводят': 1, 'принадлежала': 1, 'ежемесячное': 1, 'обсуждения': 1, 'мониторинга': 1, '368': 1, 'Открылись': 1, 'Письменно': 1, 'накопившиеся': 1, 'молчал': 1, 'Почта': 1, 'муз': 1, 'деском': 1, 'Внешний': 1, 'капитальным': 1, 'внешним': 1, 'КУ': 1, '650000': 1, '46000': 1, 'погряз': 1, 'долговой': 1, 'яме': 1, 'сглупил': 1, 'устраивала': 1, 'встанет': 1, 'взыскателей': 1, 'набежавшие': 1, 'судью': 1, 'ОАО': 1, 'специализация': 1, 'инструктажей': 1, 'Уплата': 1, 'неофициальном': 1, 'Ухаживаю': 1, 'ухудшаться': 1, 'комментариями': 1, 'твердной': 1, 'плательщик': 1, 'нестабильная': 1, 'быстрого': 1, 'ТДС': 1, 'непосильной': 1, 'учебно-боевой': 1, 'задачи': 1, 'заявиться': 1, 'академии': 1, 'необходима': 1, 'озвучивает': 1, 'Уложилась': 1, '6-месячный': 1, 'тяжелую': 1, 'Новокуйбышевск': 1, 'Самарской': 1, 'весу': 1, 'доношенная': 1, 'набрать': 1, 'здорова': 1, 'повышенные': 1, 'лейкоциты': 1, 'моют': 1, 'протирают': 1, 'салфетками': 1, 'прямую': 1, 'перепродажей': 1, 'игровых': 1, 'ценностей': 1, 'международной': 1, 'посредником': 1, 'внутриигровые': 1, 'Владельцы': 1, 'торговая': 1, 'площадка': 1, 'удаляет': 1, 'разбирался': 1, '01.05.16': 1, '01.08.2018': 1, '2016,17,18': 1, 'реальным': 1, 'продлевался': 1, 'сломанные': 1, 'ручка': 1, 'держатель': 1, 'спрятан': 1, 'скользящего': 1, 'ковра': 1, 'вырванные': 1, 'кладовую': 1, 'светильник': 1, 'обои': 1, 'порваны': 1, 'затертые': 1, 'грязные': 1, 'входной': 1, 'оторвана': 1, 'клеящая': 1, 'пленка': 1, 'смесителя': 1, 'крана': 1, 'отрицают': 1, 'поездил': 1, 'магазинам': 1, '20500': 1, 'назвав': 1, 'заняты': 1, 'встретив': 1, 'квартиросъемщика': 1, 'заездом': 1, 'испорченным': 1, 'Оказываете': 1, 'Амурской': 1, 'ИК-8': 1, 'Принудительные': 1, 'УФИЦе': 1, 'тыкая': 1, 'продул': 1, '8.01.2022': 1, '25.01.2022': 1, 'подъехал': 1, 'подвыпивший': 1, 'убери': 1, 'проезжей': 1, 'повелся': 1, 'отогнал': 1, 'мигалки': 1, 'заснял': 1, 'гнался': 1, 'растерялся': 1, 'схватил': 1, 'посадил': 1, 'наручники': 1, 'подъехали': 1, 'Продул': 1, 'видеосъемки': 1, '0.0': 1, 'Вернули': 1, 'Покапаться': 1, 'поедешь': 1, 'зачитали': 1, 'продувать': 1, 'нулям': 1, 'осведельствования': 1, 'штрафстоянку': 1, 'Штрафа': 1, 'Почитав': 1, 'окажется': 1, 'Попробовать': 1, 'объясниться': 1, 'обученного': 1, '15-ти': 1, 'найди': 1, 'материю': 1, 'Московскому': 1, 'обеспечился': 1, 'жилищной': 1, 'субсидией': 1, 'показаниям': 1, 'бз': 1, 'небоится': 1, 'инвалиду': 1, 'безвозмездного': 1, '1.12.2020': 1, 'уходим': 1, 'прежнюю': 1, 'стажерский': 1, 'директор-стажер': 1, '21.01.2022': 1, '31.12.9999': 1, 'директора-стажера': 1, 'авантюру': 1, '30.01.2020': 1, 'внесена': 1, 'недостоверности': 1, 'егрюл': 1, 'Юр': 1, 'карточек': 1, 'фсп': 1, 'обеде': 1, 'Своевременно': 1, '14/02': 1, '21/02': 1, '08/03': 1, 'изменили': 1, 'Снимаю': 1, 'накладно': 1, 'отчёта': 1, 'спорить': 1, 'переживай': 1, 'Оставили': 1, '307': 1, 'минималку': 1, 'Коллега': 1, 'заказчицы': 1, 'Скрин': 1, '270': 1, 'запретили': 1, 'оповещено': 1, 'рассылка': 1, 'мобильные': 1, 'приведя': 1, 'аргумент': 1, 'написание': 1, 'расторгаю': 1, 'проучившись': 1, 'ВУЗом': 1, 'ЦО': 1, 'росреестр': 1, 'провезти': 1, 'простоял': 1, 'пролетаем': 1, 'Совместным': 1, 'бютдетом': 1, 'расселяют': 1, 'мизирной': 1, 'оценивали': 1, 'строящийся': 1, 'обследовать': 1, 'аварийности': 1, 'пристав-исполнитель': 1, 'окончил': 1, '2021,': 1, 'фспп': 1, 'мвидео': 1, 'газовую': 1, 'одобрял': 1, 'Ренессанс': 1, 'Плиту': 1, '01.07.2020': 1, '27.08.2020': 1, '18.01.2021': 1, '19.01.2021': 1, 'тнр': 1, 'Голову': 1, 'ломаю': 1, 'неприятную': 1, 'западню': 1, 'замешательстве': 1, 'правильнее': 1, 'Большие': 1, 'дипломную': 1, '14381': 1, 'Антиплагиат': 1, 'оригинальность': 1, 'оригинальности': 1, 'Раздел': 1, 'предварительном': 1, 'заинтересован': 1, 'четвёртым': 1, 'обручение': 1, 'исламским': 1, 'канонам': 1, 'Давно': 1, 'принты': 1, 'картинами': 1, 'Цоя': 1, 'вручную': 1, 'обводить': 1, '24.12.2021': 1, 'матрицы': 1, 'симптомы': 1, '24.01.2022': 1, '15.02.2022': 1, 'исправен': 1, 'завис': 1, 'запуске': 1, 'обновлений': 1, 'разрядится': 1, 'батарея': 1, 'потух': 1, 'забирая': 1, 'Екатерина': 1, 'микрозайме': 1, 'продолжительными': 1, 'Встречаюсь': 1, 'донором': 1, 'Оговорюсь': 1, 'похоронил': 1, 'заднюю': 1, 'СнежаННа': 1, 'СнежаНой': 1, 'свид': 1, 'дипломы': 1, 'снилс-': 1, 'первоначальное': 1, 'актовую': 1, 'соответствовали': 1, 'паспортами': 1, 'подтверждать': 1, 'казначейство': 1, 'Закрыл': 1, 'казначестве': 1, 'ипотпчной': 1, 'Свои': 1, 'выкладывали': 1, 'Закончится': 1, 'приобретенного': 1, 'снис': 1, '4.02.2022': 1, 'немедленному': 1, 'обеспечению': 1, 'лекарственным': 1, 'препаратом': 1, 'Департамент': 1, '7.02.2022': 1, '15.02': 1, 'лекарством': 1, 'Бракоразводный': 1, 'вниманием': 1, '56000': 1, '24/7': 1, 'выдернута': 1, 'дошкольного': 1, '12-00': 1, 'удаленке': 1, 'разъездного': 1, 'Ждали': 1, 'догазификации': 1, 'толстая': 1, 'тонкими': 1, 'трубами': 1, 'вдоль': 1, 'применимы': 1, 'обязательный': 1, 'Алтайском': 1, 'несертифицированном': 1, 'устройств': 1, 'iphone': 1, 'поддался': 1, 'предназначенного': 1, 'Японии': 1, 'гарантийное': 1, 'дилера': 1, 'малейших': 1, 'нюанс': 1, 'реализован': 1, 'Знающие': 1, 'некую': 1, 'напополам': 1, 'маткапитала': 1, 'оформляться': 1, 'вкладу': 1, 'востребования': 1, 'Вернет': 1, 'кво': 1, 'подняли': 1, 'понятные': 1, 'масочный': 1, 'разрушился': 1, '1990': 1, 'Сняли': 1, 'обратившись': 1, 'ненадлежащего': 1, 'потерялась': 1, 'нг': 1, 'Женился': 1, 'практику': 1, 'закончу': 1, 'точке': 1, 'Оказавшись': 1, 'командировок': 1, 'инф': 1, 'Давят': 1, 'названивают': 1, 'рассматриваю': 1, 'Кто-то': 1, 'Появляться': 1, 'головном': 1, 'съемном': 1, 'электрическая': 1, 'розетка': 1, '18.03.2018': 1, 'позволила': 1, '5.02.2022': 1, 'круглую': 1, 'песнями': 1, 'отмечу': 1, 'периодичностью': 1, 'нужд': 1, 'фиксированные': 1, 'пересылал': 1, '12.000': 1, 'уходил': 1, 'голосовыми': 1, 'скрывается': 1, 'кумом': 1, '04.02.2021': 1, 'кума': 1, 'выдавал': 1, 'онлайн-казино': 1, 'занимал': 1, 'движимой': 1, 'недвижимой': 1, 'привожу': 1, 'клевещет': 1, 'отказное': 1, 'Недели': 1, 'повлиял': 1, 'попробует': 1, '07.02.2022': 1, 'уточняю': 1, 'вызовут': 1, 'удобном': 1, 'тревожит': 1, 'Разговаривать': 1, 'обходиться': 1, '8-17': 1, 'Составлялся': 1, 'сторонний': 1, 'прикрепил': 1, 'аферист': 1, 'поправки': 1, 'пенями': 1, 'привысить': 1, 'присудит': 1, 'переставил': 1, 'пацану': 1, 'трезвый': 1, 'контактировать': 1, '4.02.22': 1, 'домофон': 1, 'разъяренный': 1, 'рану': 1, 'обработали': 1, 'зашили': 1, 'Больница': 1, 'житье': 1, 'спортом': 1, 'родительского': 1, 'Федеральному': 1, '234-ФЗ': 1, '446': 1, 'ветеринарным': 1, 'санитаром': 1, '890': 1, 'положенных': 1, '1954': 1, 'заёмщика': 1, 'созаемщика': 1, 'состоишь': 1, 'неопытности': 1, 'проконтролировала': 1, 'звоните': 1, 'занизил': 1, 'бракоразводному': 1, 'проданного': 1, 'обговорить': 1, 'соглашаться': 1, '2022.': 1, 'Сделала': 1, 'досылают': 1, 'видеоматериалам': 1, 'Республиканский': 1, 'выставлен': 1, 'хиджаба': 1, 'сердцу': 1, 'повторений': 1, 'караться': 1, 'интересуясь': 1, 'подменить': 1, 'Всем': 1, 'холодильниками': 1, 'плитами': 1, 'морозильной': 1, 'камерой': 1, 'морозильного': 1, 'отсека': 1, 'работлодателя': 1, 'течении': 1, 'дочурку': 1, 'опекунша': 1, 'теория': 1, 'пересдавать': 1, 'экзамены': 1, 'подыскать': 1, 'нужный': 1, 'Встречи': 1, 'Неделя': 1, 'оказано': 1, 'Расстался': 1, 'сожительницей': 1, '900000': 1, 'Военнослужащего': 1, 'кпп': 1, 'пропускали': 1, 'обеденное': 1, 'запустили': 1, 'направился': 1, 'Начальника': 1, 'Доложил': 1, 'отратно': 1, 'убыл': 1, 'дальнейший': 1, 'ночальнику': 1, 'пустили': 1, 'командованию': 1, 'этово': 1, 'произведён': 1, 'доложил': 1, 'нерадивый': 1, 'кормилец': 1, 'выпустили': 1, 'смягчили': 1, 'передаю': 1, 'маашину': 1, 'Выполнять': 1, 'Мирового': 1, 'простом': 1, 'неотбытой': 1, 'исправ': 1, '149000': 1, 'тряпки': 1, 'значительная': 1, 'некачественные': 1, 'зачислил': 1, 'Производитель': 1, 'OOO': 1, 'заказанного': 1, 'сэконд-хэнд': 1, 'поднимает': 1, 'дальнобойщик': 1, 'возвращаюсь': 1, 'Выслуга': 1, 'календарей': 1, 'Собираю': 1, 'бк': 1, 'леон': 1, 'проигрывать': 1, 'проиграл': 1, 'Собственников': 1, 'Мун': 1, 'отправив': 1, 'заяаление': 1, 'незаконных': 1, 'выданное': 1, 'жома': 1, 'рещение': 1, 'препятствии': 1, 'дорогое': 1, 'убежден': 1, 'переезжали': 1, 'давит': 1, 'Заказчик': 1, 'гпх': 1, 'Пенсию': 1, '10300': 1, 'Половину': 1, '5150': 1, 'Псковская': 1, 'Изменится': 1, 'сложилось': 1, 'Признана': 1, 'ЛС': 1, 'рассматривалась': 1, 'ждём': 1, 'милиционером': 1, 'хозо': 1, 'поводок': 1, 'дрес': 1, 'инвентаря': 1, 'физио': 1, 'ковидной': 1, 'арбитражных': 1, 'заплатив': 1, 'выставляющего': 1, 'оскорбляющего': 1, 'автовладельцев': 1, 'Слова': 1, 'употребить': 1, 'поставивший': 1, 'Диагноз': 1, 'наказали': 1, 'гараж-': 1, 'гаражном': 1, 'кооперативе': 1, 'отчестве': 1, 'допущены': 1, 'Скидывал': 1, '37,5': 1, 'родившемся': 1, '1985': 1, 'КЗот': 1, 'РСФСР': 1, '6.10.1992': 1, 'поругавшись': 1, 'сошлись': 1, 'времЯ': 1, 'гололёда': 1, 'ув': 1, 'Сергей': 1, 'заступать': 1, 'наряд': 1, 'губой': 1, 'Ликвидируют': 1, 'торговый': 1, 'переучете': 1, 'Вынуждают': 1, 'недоверие': 1, 'подозвать': 1, 'Польше': 1, 'IT-компанию': 1, '832000': 1, 'Подходим': 1, '1-ую': 1, 'первоначальным': 1, 'взносом': 1, 'рассчитались': 1, 'трехкомнатную': 1, 'оптимальный': 1, 'определённая': 1, 'рот': 1, 'кровать': 1, 'Аскона': 1, 'подъёмного': 1, 'непонятном': 1, 'недовольна': 1, 'зацепило': 1, 'банкам': 1, '500000': 1, 'Появился': 1, 'лучшее': 1, '6200': 1, 'непредусмотрения': 1, 'Конституции': 1, 'Польши': 1, '1952': 1, 'выносящие': 1, 'преступлениях': 1, 'освобождались': 1, 'применять': 1, 'ретроактивные': 1, 'которй': 1, 'огибая': 1, 'микроавтобусе': 1, 'вынесло': 1, 'снес': 1, 'металлическое': 1, 'ограждение': 1, 'резине': 1, 'высчитают': 1, 'артели': 1, '5-тидневка': 1, 'пятиэтажного': 1, 'остеклен': 1, 'козырька': 1, 'затекает': 1, 'разгерметизированные': 1, 'мороз': 1, 'таяние': 1, 'чистит': 1, 'убираю': 1, 'отбиваю': 1, 'реагировали': 1, 'ломиться': 1, 'довел': 1, 'нервного': 1, 'срыва': 1, 'светодиоды': 1, 'ночная': 1, 'тарифная': 1, 'подарена': 1, 'маневренной': 1, 'строиться': 1, 'построиться': 1, 'реальны': 1, 'штатки': 1, 'делопроизводителя': 1, '0.75': 1, 'обучающие': 1, 'Техники': 1, 'сервисном': 1, 'сертификате': 1, 'штрих': 1, 'попадаешь': 1, 'проводивший': 1, 'потраченных': 1, 'приводить': 1, 'неделями': 1, 'Познакомилась': 1, 'зятя': 1, 'Лишенной': 1, 'Приемная': 1, 'Действительна': 1, 'исполниться': 1, 'детдом': 1, 'отпускное': 1, 'Деканат': 1, 'Бывает': 1, 'параграфа': 1, 'выучивать': 1, 'Физика': 1, 'проводится': 1, 'Учимся': 1, 'домашки': 1, 'предмету': 1, 'успеваешь': 1, 'домашнее': 1, 'торопит': 1, 'проектом': 1, 'Могоче': 1, 'собирать': 1, 'протяжение': 1, 'увеличивал': 1, 'Приватбанк': 1, 'Бинкбанк': 1, 'Открытие': 1, 'журналы': 1, 'доставшийся': 1, 'пропасть': 1, 'Марина': 1, 'Николаевна': 1, 'Сыктывкар': 1, '8300': 1, 'спустить': 1, 'Разделили': 1, 'идентификатор': 1, 'Квитанцию': 1, 'квартирантам': 1, 'нестабильно': 1, 'Претензий': 1, 'возил': 1, 'исполнителю': 1, 'пересчитала': 1, 'предпринимательской': 1, 'виден': 1, 'пересчитал': 1, 'удочерял': 1, 'Статьей': 1, 'несообщение': 1, '316': 1, 'укрывательство': 1, 'активные': 1, 'пассивное': 1, 'прочитанных': 1, 'Особо': 1, 'братской': 1, 'недонесение': 1, 'соучастием': 1, 'законодательстве': 1, 'умалчивать': 1, 'ответит': 1, 'прямого': 1, 'разливных': 1, 'пиво': 1, 'лимонады': 1, 'народу': 1, 'вмятина': 1, 'крышке': 1, 'toyota': 1, 'corolla': 1, 'fielder': 1, 'коммисариат': 1, 'схему': 1, 'приченённый': 1, '10.000-15.000': 1, 'вдовы': 1, 'ветерана': 1, 'РОНО': 1, 'родительниц': 1, 'Механик': 1, 'механик': 1, 'оформляемся': 1, 'Арестована': 1, 'скотопрогонные': 1, 'Пастбища': 1, 'Первой': 1, 'снизили': 1, 'Ингушетию': 1, 'Страховку': 1, 'отправленного': 1, 'Посылку': 1, 'вскрытии': 1, 'разбит': 1, 'уцелевшее': 1, 'уцелевшим': 1, 'Основанием': 1, 'антисанитарные': 1, 'закодировались': 1, 'приюта': 1, 'Законами': 1, '3.5': 1, 'доказав': 1, 'подожгли': 1, 'груда': 1, 'гараже': 1, 'косилки': 1, 'лодочный': 1, 'пилы': 1, 'шт': 1, 'Виновника': 1, 'звоним': 1, 'поджигателя': 1, 'отменяю': 1, 'реальных': 1, 'ми': 1, 'занялись': 1, 'расскажет': 1, 'обвиняемым': 1, 'Сфера': 1, 'автомобилестроение': 1, 'Ознакомили': 1, 'Законна': 1, 'украдёт': 1, 'увозит': 1, 'Новый': 1, 'турник': 1, 'железный': 1, 'украсть': 1, 'Сессия': 1, 'Оплатят': 1, 'подлежащим': 1, 'отпиской': 1, '👋': 1, '🤰': 1, 'смягчает': 1, 'совпадают': 1, 'бийский': 1, 'ясная': 1, 'поляна': 1, 'улица': 1, 'зелёная': 1, 'льва': 1, 'Толстого': 1, 'Бийске': 1, '17,10': 1, 'последствие': 1, 'реквизитов': 1, 'использовалась': 1, 'гасили': 1, 'разлад': 1, 'разблокировала': 1, 'прошили': 1, 'парне': 1, 'вооруженных': 1, 'Делали': 1, 'керамической': 1, 'мастерской': 1, 'индивидуальный': 1, 'примеров': 1, 'цвет': 1, 'тексте': 1, 'Цвета': 1, 'размеры': 1, 'встрече': 1, 'Сроки': 1, 'задержаны': 1, 'цвету': 1, 'обговаривался': 1, 'Переделывать': 1, 'отгородили': 1, 'колясочную': 1, 'заведующий': 1, 'Прежним': 1, 'заключенным': 1, 'случившейся': 1, 'передавались': 1, 'насчитываются': 1, 'техникум': 1, 'выслугу': 1, 'Выплачивать': 1, 'строящееся': 1, 'достигает': 1, 'переуступает': 1, '54000': 1, 'подробностями': 1, 'выдаёт': 1, 'ИС': 1, 'заявлениями': 1, 'связывало': 1, 'историй': 1, 'отметок': 1, 'Уфсин': 1, 'Водительское': 1, 'просрочилось': 1, '04.2020': 1, '01.01.2022': 1, 'просрочены': 1, 'всвязи': 1, 'деваются': 1, 'отчисляет': 1, 'распределением': 1, 'Находились': 1, 'обсервации': 1, 'Заселили': 1, 'номере': 1, 'Место': 1, 'курения': 1, 'Прикрепляю': 1, 'файл': 1, 'пачку': 1, 'пытка': 1, 'доказанного': 1, 'материально-ответственной': 1, 'товаровед': 1, 'фармацевт': 1, 'превышающем': 1, 'зарегистрированного': 1, 'взыскательного': 1, 'законодательно': 1, 'физическому': 1, 'отстаивании': 1, 'структурой': 1, 'жильём': 1, 'мочевой': 1, 'катетер': 1, 'промывать': 1, 'комуналку': 1, 'Питание': 1, 'убитое': 1, 'света': 1, 'бойлера': 1, 'входная': 1, '-все': 1, 'грязи': 1, 'Вложиться': 1, 'ремонтами': 1, 'Внучку': 1, 'поухаживать': 1, 'перезвонила': 1, 'Заведующая': 1, 'подметать': 1, 'коврики': 1, 'чистотой': 1, 'витрины': 1, 'уборщицы': 1, 'торговлю': 1, 'уборщица': 1, 'моет': 1, 'Задерживаюсь': 1, 'пластинку': 1, 'таблеток': 1, 'сесть': 1, 'годом': 1, 'Болгарка': 1, 'поранила': 1, 'выбило': 1, 'передние': 1, 'Швы': 1, 'зубов': 1, 'шрам': 1, 'заочную': 1, 'среднее': 1, 'покончит': 1, 'самоубийством': 1, 'суицида': 1, 'Исполнительного': 1, 'вышеперечисленным': 1, 'напившись': 1, 'выгонять': 1, 'захотелось': 1, 'ощущений': 1, 'расстроился': 1, 'вобщем': 1, 'проспавшись': 1, 'законная': 1, 'подсобное': 1, 'отв': 1, 'скоропостижно': 1, 'утратившей': 1, 'отличного': 1, 'ресурсоснабжающих': 1, 'квитанциях': 1, 'вопрос-то': 1, 'тётя': 1, 'пьющим': 1, 'буйным': 1, 'характером': 1, 'порог': 1, 'собутыльников': 1, 'пускала': 1, 'тактику': 1, 'избрать': 1, 'отчётный': 1, 'следующими': 1, 'приложены': 1, 'Суммы': 1, '5,10,20,15': 1, 'Нюанс': 1, 'осуществляла': 1, 'большинства': 1, 'голосовые': 1, 'текстовые': 1, 'скинуть': 1, 'вот-вот': 1, 'соглашалась': 1, '17,000': 1, '5,000': 1, '3,000': 1, '200,000': 1, 'чеках': 1, 'месяцы': 1, 'двоюродный': 1, 'убит': 1, 'заканчивает': 1, '1.10.21': 1, 'суббота': 1, 'уверяла': 1, 'ящиков': 1, 'рисунок': 1, 'сошёлся': 1, 'сколами': 1, 'вмятинами': 1, 'грузчиками': 1, 'грузчик': 1, 'разбирайтесь': 1, 'воспользовались': 1, 'вымотали': 1, 'новорожденную': 1, 'племянницу': 1, 'подаренный': 1, 'декретной': 1, 'замещаю': 1, 'Виталий': 1, 'рости': 1, 'обнулила': 1, 'принудительных': 1, 'гепатит': 1, 'онкологией': 1, 'лимфоузлов': 1, 'пересуд': 1, 'разбилась': 1, 'обычными': 1, 'стопку': 1, 'выпески': 1, 'потехоньку': 1, 'востанавливаюсь': 1, 'изменилось': 1, 'займеры': 1, 'ошиблась': 1, 'решиле': 1, 'напомнить': 1, 'просрочке': 1, 'коме': 1, 'объстоятельства': 1, 'непростая': 1, 'Сужусь': 1, '02,08,21': 1, 'возмещению': 1, 'обеспечила': 1, 'мусорным': 1, 'бакам': 1, 'покрыта': 1, '20,04,21': 1, 'льдом': 1, 'обслуживании': 1, 'судьёй': 1, 'повлечёт': 1, 'затратам': 1, 'Назначено': 1, 'вышлют': 1, '08,12,21.': 1, 'повторной': 1, 'Доказывать': 1, '23,12,21': 1, '03,01,22': 1, '27,12,21': 1, 'мотивом': 1, 'Мировое': 1, '30,12,21': 1, 'разумею': 1, 'честь': 1, 'ловко': 1, 'врёт': 1, 'старшему': 1, 'зависим': 1, 'портил': 1, 'дитё': 1, 'Ижевска': 1, 'Душа': 1, 'ребеночка': 1, 'роддом': 1, 'осознали': 1, 'взятые': 1, 'взымаются': 1, 'Материалы': 1, 'Оплачивала': 1, 'безналом': 1, 'вложенные': 1, 'добавленную': 1, 'доброте': 1, 'душевной': 1, 'создать': 1, 'уладить': 1, 'мужа-пенсионера': 1, 'минимуму': 1, 'увеличился': 1, 'Бухгалтер': 1, 'осуществила': 1, 'Разница': 1, 'существенна': 1, 'дистанционному': 1, 'нашлись': 1, 'пренебрегли': 1, 'санитарно-эпидемиологическими': 1, 'контактировали': 1, 'Нарушили': 1, 'санитарно-эпидемиологического': 1, 'Преподаватель': 1, 'Незнание': 1, 'информировать': 1, 'погашенная': 1, 'Условных': 1, 'приведет': 1, 'любовницу': 1, 'Незарегистрированный': 1, 'маленьким': 1, 'Подавали': 1, 'предприняли': 1, 'поддельное': 1, 'компенсируют': 1, 'сотки': 1, '2053': 1, 'мСпасибо': 1, 'сберстрахования': 1, 'утрате': 1, 'покрикивает': 1, 'совместимые': 1, 'фразы': 1, 'возражении': 1, 'новая': 1, 'вирус': 1, 'пьëт': 1, 'разгульную': 1, 'беспокоится': 1, 'Грозном': 1, 'рапорту': 1, 'допустимо': 1, 'Печаль': 1, 'Подозреваюсь': 1, 'порно': 1, 'опрашивать': 1, 'подозреваюсь': 1, 'неврологическое': 1, 'Эпилепсия': 1, 'гнойный': 1, 'минингит': 1, 'готовились': 1, 'главного': 1, 'выписок': 1, 'Невропатолога': 1, 'Эпилептолога': 1, 'психиатру': 1, 'пациенка': 1, 'мучаюсь': 1, 'несправедливости': 1, 'семейное': 1, 'занижаю': 1, 'ученице': 1, 'промежуточная': 1, 'аттестация': 1, 'учебника': 1, 'задавала': 1, 'упражнениям': 1, 'прорабатывал': 1, 'заплакал': 1, 'хлопнув': 1, 'педсовете': 1, 'промежуточную': 1, 'семейном': 1, 'коллегах': 1, 'прочитать': 1, '14.000': 1, 'переоформила': 1, 'Подтвждаюших': 1, 'Замерзаем': 1, 'топят': 1, 'ыну': 1, 'женится': 1, 'интима': 1, 'девочками': 1, 'встречался': 1, 'уме': 1, 'любовь': 1, 'лёгких': 1, 'жизненно': 1, 'шахтёрске': 1, 'столицей': 1, 'Караганда': 1, 'плохой': 1, 'воздух': 1, 'станицу': 1, 'Краснодарского': 1, 'климат': 1, 'встаю': 1, 'задают': 1, 'брачные': 1, '2-комнатная': 1, 'мэрия': 1, 'помещениях': 1, 'предоставляемых': 1, 'Минска': 1, '1956-1959': 1, 'биологических': 1, 'родителях': 1, 'огневой': 1, 'самочувствие': 1, 'дисциплинарную': 1, 'увольнительные': 1, 'сложения': 1, 'наказаний': 1, '3-х': 1, 'занимать': 1, 'служб': 1, 'организационно-': 1, 'распорядительных': 1, 'административно-хозяйственных': 1, 'Назначенные': 1, 'руководящую': 1, 'простого': 1, 'обывателя': 1, 'самосвале': 1, 'зад': 1, 'осаго': 1, '710': 1, 'максималку': 1, 'тянут': 1, 'недостающие': 1, 'тобиш': 1, 'Пропустил': 1, 'ПСБ': 1, 'очно-заочного': 1, 'Вузе': 1, 'Учебный': 1, 'привлекаемого': 1, 'общаге': 1, 'возбуждают': 1, 'частях': 1, 'настоящей': 1, 'зависимого': 1, 'беспомощного': 1, 'известны': 1, 'последнюю': 1, 'дееспособный': 1, 'зависимом': 1, 'неизвестным': 1, 'возбуждается': 1, 'частно-публичным': 1, 'преступник': 1, 'вознаграждения': 1, 'снимал': 1, 'проверяет': 1, 'встречаются': 1, 'забеременеет': 1, 'химического': 1, 'прерывания': 1, 'употребит': 1, 'произойдет': 1, 'прерывание': 1, 'кассационном': 1, 'тяжким': 1, 'выяснением': 1, 'направляясь': 1, 'Разошлась': 1, '35-40': 1, 'шее': 1, 'папилломы': 1, 'удаляю': 1, 'косметолога': 1, 'придаю': 1, 'вызывается': 1, 'вирусом': 1, 'излечим': 1, 'планеты': 1, 'опасен': 1, 'обследований': 1, 'половым': 1, 'придавал': 1, 'опасным': 1, 'защитила': 1, 'изменится': 1, 'выучился': 1, 'нулёвки': 1, 'беременных': 1, 'вставших': 1, 'отчисление': 1, '.?.': 1, 'исполняющий': 1, 'заметили': 1, 'резьба': 1, 'шурупах': 1, 'сорвана': 1, 'ножка': 1, 'подставка': 1, 'кривая': 1, 'вытаскивали': 1, 'нажитым': 1, 'присвоили': 1, '03.12.21': 1, '10.12.21': 1, 'Оплаты': 1, 'Заработная': 1, 'вышестоящим': 1, 'наобум': 1, 'начинаем': 1, 'грозим': 1, 'прокуратурой': 1, 'прибавляют': 1, 'Завершено': 1, 'Дворца': 1, 'Дворец': 1, 'юридическое': 1, 'культурную': 1, 'культурные': 1, 'Руководители': 1, 'опубликовали': 1, 'увидевших': 1, 'одноклассница': 1, 'неприличной': 1, 'эмо': 1, 'гёрл': 1, 'изменил': 1, 'одноклассников': 1, 'активно': 1, 'обрабатывать': 1, 'прислала': 1, 'голосовое': 1, 'родительницы': 1, 'буллинг': 1, 'верит': 1, 'Оплатила': 1, '7.11.2021': 1, '1047.': 1, '13.12.2021': 1, 'осб': 1, 'клиенты': 1, 'зашли': 1, 'сопроводили': 1, 'продержит': 1, '16.12': 1, '-150': 1, '-16': 1, 'сырые': 1, 'плесени': 1, 'наем': 1, 'распоряжении': 1, '3\\\\3': 1, 'автослесарем': 1, 'автобусном': 1, 'Впервые': 1, 'отличном': 1, 'Оригиналы': 1, 'нарисовав': 1, 'поинтересовался': 1, 'нарушили': 1, 'По-моему': 1, 'неправомерны': 1, 'Воспитатель': 1, 'прогулки': 1, 'шиворот': 1, 'закинула': 1, 'раздевались': 1, 'Написана': 1, 'Виктор': 1, 'Голоса': 1, 'Уважением': 1, 'горах': 1, 'видите': 1, 'уполномоченный': 1, 'задержат': 1, 'женщин': 1, 'Негде': 1, '101': 1, 'владею': 1, 'Челябинске': 1, '12.27': 1, 'Столкнулась': 1, 'простым': 1, 'Компанией': 1, 'скан': 1, 'уменьшать': 1, 'ненадлежащее': 1, 'антисанитария': 1, 'убирается': 1, 'коробках': 1, 'моется': 1, 'круглосуточно': 1, 'прямом': 1, 'смысле': 1, 'перегара': 1, 'грязного': 1, 'белья': 1, 'опекаемый': 1, 'Предлагаю': 1, 'выиграю': 1, 'АЗС': 1, 'совмещает': 1, '07.03.2022': 1, 'допытывает': 1, 'туалетной': 1, 'Мотивируя': 1, 'Алёна': 1, 'трудоустроить': 1, 'санитарной': 1, 'годности': 1, 'счётчика': 1, 'счёту': 1, 'представили': 1, 'воих': 1, '4300': 1, '–нетрудоспособен': 1, 'раонный': 1, 'алиментоа': 1, 'Ярославской': 1, 'чета': 1, 'поделены': 1, '805': 1, 'возражением': 1, 'согласовывает': 1, 'Маляр': 1, 'Пескоструйщик': 1, 'переболела': 1, 'двусторонняя': 1, 'ковидная': 1, 'пневмония': 1, 'иммуноглобулины': 1, 'джи': 1, 'подтверждён': 1, 'привита': 1, 'компесационной': 1, 'инструкцию': 1, 'даются': 1, 'указанными': 1, 'инструкцияи': 1, '20399': 1, 'отбываю': 1, 'Неотбытая': 1, 'насчитав': 1, 'Попался': 1, 'съёмных': 1, 'находят': 1, 'отмазок': 1, 'прёт': 1, 'поверил': 1, 'смертных': 1, 'грехах': 1, 'малые': 1, 'грешки': 1, 'посмертно': 1, 'понеюимают': 1, 'настроить': 1, 'манипулируют': 1, 'раздевайся': 1, 'трусов': 1, 'будим': 1, 'Создают': 1, 'барьеры': 1, 'шаманит': 1, 'что-ли': 1, '=))': 1, 'плохого': 1, 'развита': 1, 'интуиция': 1, 'приобретённые': 1, 'сторонняя': 1, 'присыл': 1, 'дядей': 1, 'недавних': 1, 'употреблять': 1, 'частенько': 1, 'полупустой': 1, 'дете': 1, 'двухкомнатной': 1, 'переведусь': 1, 'вручат': 1, 'Утверждены': 1, 'введения': 1, 'вручены': 1, 'уведжомления': 1, 'согласились': 1, 'дожидаться': 1, 'отложили': 1, 'военкомата': 1, '118': 1, 'элитные': 1, 'воздушно': 1, 'космические': 1, 'напоминаний': 1, 'РСВ': 1, 'дяди': 1, 'поясните': 1, 'Получение': 1, 'рут': 1, 'суперпользователя': 1, 'телевизоре': 1, 'LG': 1, 'WebOS': 1, 'андроид': 1, 'рекламы': 1, 'аналогичных': 1, 'контексту': 1, 'действующего': 1, 'yurist-online': 1, 'net': 1, 'question': 1, '173053': 1, 'ради': 1, 'заморачиваться': 1, 'взымают': 1, 'пасынки': 1, 'анонимное': 1, 'употреблении': 1, 'горотдел': 1, 'консультацией': 1, 'двухкомнатая': 1, 'двухозяина': 1, 'объединили': 1, '015': 1, 'отчего': 1, 'проц': 1, 'пенсионерке': 1, 'велика': 1, 'волокита': 1, 'Тамара': 1, 'Александровна': 1, 'приравненной': 1, 'микрозаймам': 1, 'Процесс': 1, 'Наследственное': 1, 'дипломатические': 1, 'Украиной': 1, 'проставлением': 1, 'апостиля': 1, 'Канада': 1, 'Гаагскую': 1, 'конвенцию': 1, '1961': 1, 'апостиль': 1, 'консульской': 1, 'легализации': 1, 'истребование': 1, 'консульский': 1, 'МИД': 1, 'Генеральное': 1, 'Торонто': 1, 'Иностранные': 1, 'консульские': 1, 'рассматриваются': 1, 'Канады': 1, 'Запрос': 1, 'централизованного': 1, 'аналога': 1, 'Госуслуг': 1, 'шансов': 1, 'успех': 1, 'имеющему': 1, 'владеющего': 1, 'Приобретательная': 1, 'безвестно': 1, 'отсутствующим': 1, 'Быть': 1, 'благодарностью': 1, 'Продавец-кассир': 1, 'Продавец-консультантДолжностные': 1, 'прилагаю': 1, 'Должность': 1, 'разными': 1, 'инструкциям': 1, 'вакансия': 1, 'конкретном': 1, 'оцененного': 1, 'Госуслугах': 1, 'поданное': 1, 'мемориального': 1, 'ордера': 1, 'предьявляемого': 1, 'подыграл': 1, 'Заблокированы': 1, 'старается': 1, 'переуступил': 1, 'прислало': 1, 'предьявляют': 1, 'накрутили': 1, 'накручивать': 1, 'ХМАО': 1, 'назначению': 1, 'шампиньонов': 1, 'доставляет': 1, 'дискомфорт': 1, 'счетчиком': 1, 'словесные': 1, 'по-хамски': 1, '3-ком': 1, 'владеющие': 1, 'ванных': 1, 'несущие': 1, 'вытяжки': 1, 'туалетов': 1, 'коридор': 1, 'поделив': 1, 'однокомнатных': 1, 'Вонь': 1, 'жуткая': 1, 'предписанию': 1, 'переустройство': 1, 'ванная': 1, 'жилыми': 1, 'помещениями': 1, 'Суды': 1, 'БТГР': 1, 'вышестоящую': 1, 'бригады': 1, 'нехватку': 1, 'чатом': 1, 'подсказываю': 1, 'игрокам': 1, 'онлайн-игре': 1, 'Игра': 1, 'популярная': 1, 'неофициальные': 1, 'игроков': 1, 'игроки': 1, 'украшения': 1, 'правообладатель': 1, 'Ютубе': 1, 'Теоретически': 1, 'сервер': 1, 'пиратским': 1, 'подрабатываю': 1, 'испугалась': 1, 'Совершаю': 1, '174': 1, '174.1': 1, 'совершаю': 1, 'вырос': 1, 'Квадратов': 1, 'каким-нибудь': 1, 'внесен': 1, 'Параллельно': 1, 'отчуждение': 1, 'оскорбляют': 1, 'воровстве': 1, 'сообществе': 1, 'Армении': 1, 'ТЦ': 1, 'независимая': 1, 'дивана': 1, 'смотрит': 1, 'конкурсе': 1, 'Стипендии': 1, 'публиковаться': 1, 'схитрить': 1, 'вымышленный': 1, 'выпусками': 1, 'встроила': 1, 'обложкой': 1, 'минпечати': 1, 'раскрылось': 1, 'Стипендию': 1, 'магистра': 1, 'действительный': 1, 'хитрость': 1, 'совращении': 1, 'шестнадцатилетия': 1, 'покажет': 1, 'партнера': 1, 'совращение': 1, 'Дорогого': 1, 'Мира': 1, '95': 1, 'пенсионеров': 1, '04.07.2019': 1, 'Заключение': 1, 'МВК': 1, '09.11.2017': 1, '87/2006': 1, 'Р-2714': 1, '28.11.2017': 1, 'соответствующем': 1, 'органе': 1, 'высок': 1, 'рас': 1, 'читывать': 1, 'ухудшаются': 1, 'коллекционированием': 1, 'исторической': 1, 'атрибутики': 1, 'связанной': 1, 'нацисткой': 1, 'Германией': 1, 'Статью': 1, '20.3': 1, 'регламентирующий': 1, 'инструктора': 1, 'спорту': 1, 'плаванию': 1, 'относимся': 1, 'Подведомственная': 1, 'спорта': 1, 'Должностные': 1, 'отличаются': 1, 'одинаковая': 1, 'численности': 1, 'Педагогический': 1, 'инвалидностм': 1, 'какого-то': 1, 'выясняла': 1, 'подъезжали': 1, 'местоположению': 1, 'выскочил': 1, 'сцепился': 1, 'выбежали': 1, 'били': 1, 'побежали': 1, 'молодыми': 1, 'разнимали': 1, 'поговорила': 1, 'рассечении': 1, 'щеки': 1, 'ухмыльнулись': 1, 'опухоли': 1, 'инфаркта': 1, 'идём': 1, 'винит': 1, 'интересуюсь': 1, 'казус': 1, 'Всеми': 1, 'рулил': 1, 'напарник': 1, 'нахимичил': 1, 'бюджетную': 1, 'Должностному': 1, 'вменили': 1, 'служебный': 1, 'результатам': 1, 'отвозить': 1, 'твой': 1, 'занимайся': 1, 'должностному': 1, 'итоговые': 1, 'дебиторская': 1, 'кредиторская': 1, 'бобах': 1, 'грозилась': 1, 'подложный': 1, '327,': 1, '292': 1, 'Проверка': 1, 'получены': 1, 'большинству': 1, 'окончены': 1, 'всплывут': 1, 'недостоверные': 1, '17.06.2020': 1, 'гаи': 1, 'швейной': 1, 'ателье': 1, 'портной': 1, 'непосредственная': 1, 'водопроводная': 1, 'отключена': 1, 'питьевой': 1, 'бутилированной': 1, 'обыск': 1, 'обыском': 1, '186': 1, 'выдвинуты': 1, 'Нечем': 1, 'Утеряна': 1, '30-ти': 1, 'сегодняшней': 1, 'интернет-портал': 1, 'Сведения': 1, 'предоставленные': 1, 'Пенсионным': 1, 'фондом': 1, 'недостаточными': 1, 'присвоения': 1, 'социальных': 1, 'Инженер-проектировщик': 1, 'авторский': 1, 'поселен': 1, 'принадлежали': 1, 'военному': 1, 'лесничеству': 1, 'Слышали': 1, 'Удмуртской': 1, 'Можгинского': 1, 'продолжал': 1, 'инспектору': 1, 'Инспектор': 1, 'представлением': 1, 'огроничения': 1, 'ребилитационном': 1, 'кдн': 1, 'Дмитровскую': 1, 'ССП': 1, 'присуживают': 1, 'официальных': 1, 'неотработанное': 1, 'панкреатит': 1, 'бракуют': 1, 'Сядет': 1, 'национальность': 1, 'Поймали': 1, 'выпившим': 1, 'тяжесть': 1, 'загладить': 1, 'перечисления': 1, 'практик': 1, 'случаются': 1, 'аритмии': 1, 'Военком': 1, 'Б-3': 1, 'призвал': 1, 'сборном': 1, 'армиии': 1, '19.11.21': 1, 'острый': 1, 'эхкг': 1, 'комиссировать': 1, 'решаем': 1, 'заявленной': 1, 'МФК': 1, 'выставляла': 1, 'Ао': 1, 'всяком': 1, 'мили': 1, 'дилигировали': 1, 'аутиста': 1, 'увеличенная': 1, 'колекторами': 1, 'ухвживаю': 1, 'Матери': 1, 'Двум': 1, 'сёстрам': 1, 'Сирии': 1, '11-ти': 1, 'въехать': 1, 'заверенному': 1, 'остальная': 1, 'сводной': 1, '116000': 1, 'срочное': 1, 'подавай': 1, 'Раздела': 1, 'обнулировать': 1, '118000': 1, 'Банковский': 1, 'фиксированная': 1, '09.12.2021': 1, 'пения': 1, 'федеральное': 1, 'пенсионеркой': 1, '455': 1, 'Анатолий': 1, 'грузовых': 1, 'ЕНВД': 1, 'самозанятые': 1, 'ПСН': 1, 'оказывать': 1, 'ГПД': 1, 'постоянных': 1, 'грузоперевозки': 1, 'подумав': 1, 'наемными': 1, 'Луганске': 1, 'обслуживала': 1, 'бухгалтерша': 1, 'фонды': 1, 'уволила': 1, 'проверках': 1, 'фондах': 1, 'Бухгалтерша': 1, 'папок': 1, 'учетная': 1, 'взносах': 1, 'ПФУ': 1, 'макулатуру': 1, 'Порвала': 1, 'выбросила': 1, 'почитала': 1, '357': 1, 'УКУ': 1, 'уничтожение': 1, 'Российским': 1, 'Криминальный': 1, 'заменился': 1, 'двойная': 1, 'Российско-украинским': 1, 'описала': 1, 'сапоги': 1, 'шоуруме': 1, 'москву': 1, 'занятиях': 1, 'магией': 1, 'Распространяет': 1, 'слухи': 1, 'Унижает': 1, 'достоинство': 1, 'добропорядочного': 1, 'писателем': 1, 'репутация': 1, 'многого': 1, 'подкрепить': 1, 'голосовая': 1, 'полугодовую': 1, 'Контрольную': 1, '2-кой': 1, 'промежуточным': 1, 'Контрольные': 1, 'одобрения': 1, 'завещал': 1, '6-ти': 1, 'пояснений': 1, 'сторонам': 1, 'неправомерные': 1, 'взыскивает': 1, 'достать': 1, 'насиловал': 1, 'вымогал': 1, 'фотки': 1, '16-летней': 1, 'восточном': 1, 'экспрессе': 1, 'названии': 1, 'сюрпризом': 1, 'расторгала': 1, 'принималась': 1, 'связан': 1, '16.11.21': 1, 'дисциплины': 1, 'Посчитав': 1, 'нарушающие': 1, 'прверок': 1, 'восстановиться': 1, 'белой': 1, 'дальнем': 1, 'востоке': 1, 'почасочую': 1, 'аж': 1, 'наркотиками': 1, 'марихуана': 1, 'Меру': 1, 'Наняли': 1, 'перешли': 1, 'Назначили': 1, 'Фсин': 1, '2.5': 1, 'длился': 1, 'гтда': 1, 'неизвестную': 1, 'допрашивал': 1, 'вымогательством': 1, 'начнутся': 1, 'Маска': 1, 'порвалась': 1, 'выходец': 1, 'Йемен': 1, 'скамнула': 1, 'виртуальное': 1, 'распространила': 1, 'сливом': 1, 'левые': 1, 'чтении': 1, 'условных': 1, 'квалифицирующей': 1, 'возбудят': 1, '26.11.2021': 1, '670': 1, 'монтажником': 1, 'Долевая': 1, 'Проживающий': 1, 'инстаграмме': 1, 'наборе': 1, 'моделей': 1, '8.11': 1, '30.11': 1, '₽Я': 1, 'согласовала': 1, 'загруженности': 1, 'Обьяснила': 1, 'распланировать': 1, 'Мастер': 1, 'вотсаппе': 1, 'осветила': 1, 'аватарки': 1, 'вотсаппа': 1, 'поступком': 1, 'показывая': 1, 'поздним': 1, 'залив': 1, 'намокания': 1, 'дежурный': 1, 'составление': 1, 'заливе': 1, 'заливания': 1, 'залива': 1, 'страховщик': 1, 'залития': 1, '1.07': 1, 'допустили': 1, 'ГОСов': 1, 'ГОСы': 1, 'уде': 1, 'головное': 1, 'погашу': 1, 'называли': 1, 'погашая': 1, 'бухгалтером': 1, 'специалистом': 1, 'захотели': 1, 'трубе': 1, 'Разрешение': 1, 'собсвености': 1, 'четырёх': 1, 'мансарды': 1, 'точную': 1, 'подсчета': 1, 'переоформления': 1, 'ситуация-': 1, 'ухудшением': 1, 'благополучия': 1, 'обмолвился-что': 1, 'кредита-для': 1, 'записывала': 1, 'провоцируя': 1, 'инвестиции': 1, 'прогорела': 1, 'рыночной': 1, 'расклад': 1, 'отличная': 1, 'двушка': 1, 'хорошем': 1, 'спальном': 1, 'шикарным': 1, 'Выкуп': 1, 'сокол': 1, 'Пару': 1, 'сводного': 1, 'так-я': 1, 'оформилось': 1, 'тянуть': 1, 'лентяем': 1, 'наращиванием': 1, 'ресниц-работаю': 1, 'клиенток': 1, 'ветклинику': 1, 'неправильный': 1, 'рак': 1, 'матки': 1, 'критическом': 1, 'укусил': 1, 'клещ': 1, 'усугубила': 1, 'путались': 1, 'горе': 1, 'УЗИ': 1, 'свидетельствует': 1, 'неправильном': 1, 'диагнозе': 1, 'нанесли': 1, '28.05.2017': 1, 'объяснительных': 1, 'передавался': 1, '17.11.2021': 1, 'белее': 1, 'Платежей': 1, 'знало': 1, 'значительна': 1, 'сравнению': 1, 'месяцами': 1, 'Случилось': 1, 'равную': 1, 'переплатили': 1, 'лишних': 1, 'прикрепить': 1, 'никакое': 1, 'СМП': 1, 'уменьшает': 1, 'ухудшает': 1, 'неотработанные': 1, 'Человеку': 1, '19,5': 1, 'самозарядное': 1, 'гладкоствольное': 1, 'ружье': 1, 'постановлением': 1, 'выемке': 1, 'как-бы': 1, 'баллистическую': 1, 'Повод': 1, 'каком-то': 1, 'убийство': 1, 'слюну': 1, 'Допрашивали': 1, 'выемка': 1, '18-21': 1, 'выемку': 1, 'делах': 1, 'выполнял': 1, 'напрягает': 1, 'продуктовом': 1, 'продавцом-кассиром': 1, 'допущенных': 1, 'ревизоры': 1, 'продавцы-кассиры': 1, 'коллектив': 1, 'нюансами': 1, 'повезла': 1, 'отпус': 1, 'поездка': 1, 'ращным': 1, 'напровлениям': 1, 'органищации': 1, 'найдется': 1, 'детально': 1, 'поисках': 1, 'Предприниматель': 1, 'бизнесе': 1, 'обслуживанием': 1, 'вникая': 1, 'трудоустраивается': 1, 'набирая': 1, 'короткого': 1, 'незнакомое': 1, 'Прачечная': 1, 'обсуживает': 1, 'частных': 1, 'стирку': 1, 'ведя': 1, 'сданные': 1, 'оформленных': 1, 'продукцию': 1, 'присваивает': 1, 'выручки': 1, 'негодование': 1, 'обслуживается': 1, 'обслуживался': 1, 'Видя': 1, 'честный': 1, 'добросовестный': 1, 'простодушностью': 1, 'малограмотностью': 1, 'партнер': 1, 'удобно': 1, 'нормальное': 1, 'дробление': 1, 'прочую': 1, 'неустроенные': 1, 'осознавая': 1, 'фиктивную': 1, 'выслужиться': 1, 'завышения': 1, 'завышать': 1, 'сданных': 1, 'журналу': 1, 'составляются': 1, 'уходят': 1, 'печатья': 1, 'максимуму': 1, 'заполнялся': 1, 'поручению': 1, 'имитацией': 1, 'передаваемые': 1, 'оформленному': 1, 'сдается': 1, 'Коротко': 1, 'ключе': 1, 'вполнезаконно': 1, 'завышенной': 1, 'накладную': 1, 'поставку': 1, 'подписывай': 1, 'сниму': 1, 'поставило': 1, 'поделило': 1, 'негодует': 1, 'преступный': 1, 'порвать': 1, 'жуликом': 1, 'выплатило': 1, 'компенсцию': 1, 'браковый': 1, 'понеся': 1, 'имигрировало': 1, 'Канаду': 1, 'влезло': 1, 'признало': 1, 'скрывалось': 1, 'кредиторов': 1, 'опасаясь': 1, 'Финансовых': 1, 'Каких': 1, 'преследовании': 1, 'связей': 1, 'поглощает': 1, 'организованная': 1, 'преступная': 1, 'предварительный': 1, 'амблеопия': 1, '0.2': 1, '0.6': 1, 'Зрение': 1, 'упало': 1, 'комиссовать': 1, 'Забыла': 1, 'Вернее': 1, 'суповой': 1, 'упаковал': 1, '5-кратном': 1, 'напишут': 1, 'Показали': 1, 'разволновалась': 1, 'штрафовать': 1, 'невнимательность': 1, 'областного': 1, 'Файл': 1, 'переслать': 1, 'члены': 1, 'Мотивация': 1, 'залогом': 1, 'матрас': 1, 'Воняет': 1, 'химией': 1, 'переговорить': 1, '27.11.2021': 1, 'Ярославле': 1, 'взрослый': 1, 'необходимая': 1, '47.9': 1, 'нехватке': 1, 'Совершил': 1, 'духов': 1, '1.': 1, 'представителем': 1, 'МАГАЗИНА': 1, 'полномочии': 1, 'заправил': 1, 'Камеры': 1, 'заправки': 1, 'материальное': 1, 'прессинг': 1, 'главная': 1, 'обвинять': 1, 'кричать': 1, 'подержанный': 1, 'страхование': 1, 'инициативной': 1, 'правлением': 1, 'пропускал': 1, 'чугунные': 1, 'биметаллические': 1, 'повесила': 1, 'секций': 1, 'понавешают': 1, 'батарей': 1, 'нормативы': 1, 'вешать': 1, 'тепловых': 1, 'Платежки': 1, '23-24': 1, 'градуса': 1, 'включенном': 1, 'отоплении': 1, 'струсить': 1, 'будь-здоров': 1, 'поддерживает': 1, 'кроет': 1, 'матом': 1, 'камеи': 1, 'педофил': 1, 'издевается': 1, 'думаем': 1, 'разбирается': 1, 'прово': 1, 'избывает': 1, 'синяков': 1, 'главное': 1, 'подговорил': 1, 'недостигших': 1, 'показаний': 1, 'вовлечение': 1, 'преступную': 1, 'следствием': 1, 'основываясь': 1, 'обвинительного': 1, 'совершенная': 1, 'очевидно': 1, 'ситуаци': 1, 'феврале-марте': 1, '1200000': 1, 'войсковой': 1, 'Страница': 1, 'взломана': 1, 'местонахождения': 1, 'прекращать': 1, 'предыдуший': 1, 'проиводство': 1, 'возвр': 1, 'Взыскателю': 1, 'собствеености': 1, 'сельском': 1, 'предположений': 1, 'появлении': 1, 'каптал': 1, 'выслугой': 1, 'бессрочное': 1, 'двойню': 1, 'контрактик': 1, 'страховкой': 1, 'Альфастрахование': 1, 'заявили': 1, 'СТРАХОВКА': 1, 'НАЗЫВАЕТСЯ': 1, 'Комплексная': 1, 'баню': 1, 'Перестройка': 1, 'узаконена': 1, 'известил': 1, 'структурного': 1, '08.11.21': 1, '16-17': 1, 'просили': 1, 'расставаться': 1, 'посуточно': 1, 'Клиентам': 1, 'БСО': 1, 'затапливали': 1, 'Обвинение': 1, 'ванне': 1, 'потолке': 1, 'желтые': 1, 'пятна': 1, 'затапливать': 1, 'отъезде': 1, 'виновна': 1, 'выявленной': 1, 'разблокируется': 1, 'face': 1, 'id': 1, 'неожиданно': 1, 'посторонний': 1, 'защищены': 1, 'Защита': 1, 'бесполезна': 1, 'мку': 1, 'нанимателю': 1, 'садоводстве': 1, 'владели': 1, '620': 1, 'говориться': 1, 'сыр': 1, 'мышеловке': 1, 'перенаправил': 1, 'выслушала': 1, 'напросился': 1, 'окажет': 1, 'помощь-подготовит': 1, 'мотивировала': 1, 'победа': 1, 'повёлся': 1, 'договор-вроде': 1, 'Само': 1, 'алиментах-мне': 1, 'огромную': 1, 'Приехав': 1, 'внимательно': 1, 'перечитал': 1, 'Предмет': 1, 'анализ-подбор': 1, 'норматива-подготовка': 1, 'ОСП-подготовка': 1, 'ФССП-подготовка': 1, 'УФССП-подготовка': 1, 'приехать-забрать': 1, 'подготовленные': 1, 'заказными': 1, 'письмами': 1, '92': 1, 'исполнительно': 1, 'агенстве': 1, 'Плохие': 1, 'плохие': 1, 'сотрудничаем': 1, 'способомЯ': 1, 'расскажу': 1, 'агентством': 1, '83000': 1, '73000': 1, 'накрутил': 1, '214000': 1, 'QR-коды': 1, 'лицее': 1, 'Местах': 1, 'сопровождающих': 1, 'пол-месяца': 1, 'Газпромбанка': 1, 'Погашение': 1, 'зарплатных': 1, 'Платежи': 1, 'Появились': 1, 'Просрочка': 1, 'отнесен': 1, 'скандалит': 1, 'издания': 1, 'Братуху': 1, 'аннулировали': 1, 'Российскими': 1, 'заключались': 1, 'подложных': 1, 'прививаться': 1, 'торговле': 1, '825': 1, 'торговля': 1, 'отраслей': 1, 'подлежащих': 1, 'обязательное': 1, 'газппромом': 1, 'ненадобностью': 1, 'квиток': 1, 'месячные': 1, 'профилактические': 1, 'квитке': 1, 'пустила': 1, 'коду': 1, '1240': 1, 'вступало': 1, 'земель': 1, 'Земли': 1, 'разрешённое': 1, 'обозначений': 1, 'электроэнергетики': 1, 'Вл-110': 1, 'особыми': 1, 'Магистральный': 1, 'трубопровод-вода': 1, 'охранную': 1, 'аэропорта': 1, 'сообщили-': 1, 'допустимости': 1, 'обьекта': 1, 'постройку': 1, 'распахивать': 1, 'огород': 1, 'веденные': 1, '4.01.21': 1, 'автоаварии': 1, 'плановую': 1, 'госпитализацию': 1, 'Головной': 1, 'грузовом': 1, 'гололёд': 1, 'УАЗа': 1, 'остановиться': 1, 'грузовой': 1, 'гаишников': 1, 'путевого': 1, 'отремонтировал': 1, 'отстранен': 1, 'кормильцем': 1, 'Результат': 1, '99.999999': 1, 'оспаривает': 1, 'результатом': 1, 'текущему': 1, 'общедомового': 1, 'обще': 1, 'долевым': 1, '122,': 1, '124': 1, 'усматривается': 1, 'экономически': 1, 'слабой': 1, 'вынесение': 1, '27.06.2017': 1, 'занимаемого': 1, 'Сособственники': 1, 'соразмерно': 1, '155': 1, 'сособственников': 1, 'платежного': 1, '21,': 1, '26,': 1, '56,': 1, '60,': 1, 'Должником': 1, 'предоставлялось': 1, '244': 1, 'определенная': 1, 'комнатой': 1, 'Арбитражного': 1, 'приказном': 1, 'основанного': 1, 'долевые': 1, 'должники': 1, 'сособственники': 1, 'нежилого': 1, 'установленных': 1, '229.2': 1, 'подается': 1, 'выносится': 1, 'содержатся': 1, 'должникам': 1, 'долевыми': 1, 'прилагаемыми': 1, 'затрагиваются': 1, 'солидарных': 1, 'предоставивших': 1, 'предъявляются': 1, 'бремя': 1, 'дайте': 1, 'разъяснение': 1, 'продлиться': 1, 'перепадет': 1, '2026': 1, 'обнаружились': 1, 'упаковке': 1, 'грузе': 1, 'повреждении': 1, 'Сдек': 1, 'прикреплены': 1, 'экземплярах': 1, 'специализированное': 1, 'платные': 1, 'бесплатные': 1, 'подкинуть': 1, 'взломанную': 1, 'тактично': 1, 'Потенциально': 1, '146,': 1, '272,': 1, 'Исключена': 1, 'командой': 1, 'кота': 1, 'Процедура': 1, 'чарджбек': 1, 'реальна': 1, 'ЮК': 1, 'щит': 1, 'меч': 1, 'Попалась': 1, 'Вляпалась': 1, 'выслуге': 1, 'госслужбу': 1, 'Информации': 1, 'Мария': 1, 'пресудил': 1, 'подовать': 1, 'кокие': 1, 'Лишена': 1, 'квалификационную': 1, 'Играл': 1, 'Warface': 1, 'прокачал': 1, 'звания': 1, 'соответсвенно': 1, 'донатил': 1, 'забросил': 1, 'сыграть': 1, 'читами': 1, 'навсегда': 1, 'удален': 1, 'емайлу': 1, 'взломан': 1, 'палатки': 1, 'наряде': 1, 'срочник': 1, 'истопником': 1, 'дневальным': 1, 'дембеля': 1, 'частное': 1, 'индексации': 1, 'размещать': 1, 'аватарку': 1, 'фотографию': 1, 'американской': 1, 'атрибутикой': 1, 'курящий': 1, 'солдат': 1, 'облокотился': 1, 'Вьетнамской': 1, 'Фотографию': 1, 'прикреплю': 1, 'фотография': 1, 'силуэт': 1, 'премий': 1, 'большими': 1, 'соцстрах': 1, 'соцзащита': 1, 'Компанию': 1, 'Вымпелком': 1, '21.08.21': 1, 'отремонтированным': 1, 'различается': 1, 'характеристиками': 1, '40.000': 1, 'верующий': 1, 'крещения': 1, 'христианка': 1, 'алиэкспресс': 1, 'наткнулась': 1, 'изображением': 1, 'Иисуса': 1, 'Христа': 1, 'Бог': 1, 'попираем': 1, 'ногами': 1, 'Предназначен': 1, 'лик': 1, 'носили': 1, 'ногах': 1, 'Невероятное': 1, 'кощунство': 1, 'православные': 1, 'кощунственное': 1, 'Господу': 1, 'МЛС': 1, 'имущественного': 1, 'реабилитацией': 1, 'вынесенной': 1, '470': 1, '17.06.21': 1, '17.09.21': 1, '27.09': 1, 'Справку': 1, 'уточнили': 1, 'нулевой': 1, '25.09.21': 1, '12.10': 1, 'минимальному': 1, 'размеру': 1, 'Скорректировали': 1, 'необходимых': 1, 'документов-': 1, 'Имея': 1, 'малоимущие': 1, 'очном': 1, 'Стипендия': 1, 'платой': 1, 'Выплачиваю': 1, 'почтовым': 1, 'искало': 1, 'бывавшая': 1, 'предприятий': 1, 'уплачивал': 1, 'рассчитан': 1, 'УПКРФ': 1, 'заглаживанием': 1, 'назначат': 1, 'увеличенную': 1, 'авиалесоохране': 1, 'тушу': 1, 'лесные': 1, 'пожары': 1, 'Заболел': 1, 'туберкулезом': 1, 'дружная': 1, 'расцарапала': 1, 'подмела': 1, 'заинтересуется': 1, 'сёстрами': 1, 'школьница': 1, 'интернет-мессенджере': 1, 'совершеннолетних': 1, 'обменом': 1, 'ссылками': 1, 'ролики': 1, 'размещены': 1, 'абонентов': 1, 'обнародования': 1, 'неизлечимо': 1, 'вытащить': 1, 'Автострах': 1, 'брокеры': 1, 'Росгосстрах': 1, 'РСА': 1, 'пострадали': 1, 'ликвидировали': 1, 'росгвардии': 1, 'отделах': 1, 'входили': 1, 'обособленным': 1, 'создали': 1, 'Арендодатель': 1, 'испорчено': 1, 'Залог': 1, 'изношенности': 1, 'Умерли': 1, 'преобрести': 1, 'Двоим': 1, 'наследия': 1, 'запрещены': 1, 'Имеетя': 1, 'маткапила': 1, 'инциативе': 1, 'вкладывается': 1, 'сомневаюсь': 1, 'следования': 1, 'выделяли': 1, 'Астрахани': 1, 'летел': 1, 'ВПД': 1, 'отгулы': 1, 'ненормированные': 1, '09.03.2021': 1, '09-03.2021-08.03.2022': 1, '09.03.2021-08.03.2023': 1, 'отработанным': 1, 'Заб': 1, 'предстоящей': 1, 'ФГБУ': 1, 'проездом': 1, 'авиаперевозкам': 1, 'зачислили': 1, 'проездных': 1, 'приезде': 1, 'разрыв': 1, 'поездками': 1, 'Омской': 1, 'успешного': 1, 'сожительстве': 1, 'плотной': 1, 'привез': 1, 'Лора': 1, '640': 1, 'продленный': 1, 'какско': 1, 'орден': 1, 'плательщиком': 1, '33,33': 1, '16500': 1, 'передарить': 1, 'неисправная': 1, 'проводка': 1, 'Пожарные': 1, 'тушили': 1, 'дальний': 1, 'горели': 1, 'возгарания': 1, 'закрыв': 1, 'сгоревшее': 1, 'застраховано': 1, 'Дать': 1, 'аргументированную': 1, 'правовыми': 1, 'нормами': 1, 'Маркина': 1, 'отделены': 1, 'тамбуре': 1, 'Маркиной': 1, 'следили': 1, 'переносить': 1, 'частичного': 1, 'алкоголиком': 1, 'размен': 1, 'проставлена': 1, '3827,': 1, '-основной': 1, 'формировании': 1, 'одобрении': 1, 'ВУЗЕ': 1, 'предпрениматель': 1, 'отражать': 1, 'последствиям': 1, 'отразить': 1, 'занятость': 1, 'поработаю': 1, 'заведу': 1, 'отражена': 1, 'перееду': 1, 'Понабрал': 1, 'микрозаймов': 1, 'Отдавать': 1, 'наемщик': 1, 'переизбрать': 1, 'наемщика': 1, 'Сухуме': 1, 'Абхазия': 1, 'настаиваю': 1, 'остального': 1, 'вскроется': 1, 'Строится': 1, 'Построили': 1, 'этажный': 1, 'домик': 1, 'проникновение': 1, 'Вскрыты': 1, 'выдернут': 1, 'Похищены': 1, 'профильные': 1, 'осветительные': 1, 'приборы': 1, 'проводомами': 1, 'розетки': 1, 'Вызывали': 1, 'Юлия': 1, 'незарегистрированном': 1, 'измене': 1, 'стоящим': 1, 'кормлю': 1, 'бездомных': 1, 'кошек': 1, 'приписывает': 1, 'любовники': 1, 'выгуливаю': 1, 'супружеский': 1, 'разваливается': 1, 'впридоставление': 1, 'съемным': 1, 'помоч': 1, 'кватиры': 1, 'потребляли': 1, 'водоснабжение': 1, 'неявке': 1, 'принудительном': 1, 'разное': 1, 'разведусь': 1, 'квартиросьемщиком': 1, 'Кв': 1, 'чайник': 1, 'чайников': 1, 'свести': 1, 'дебет': 1, 'Просрочил': 1, 'ЦБ': 1, 'заброшенный': 1, 'наследниках': 1, '3-ех': 1, 'Состоим': 1, 'домах': 1, 'отписано': 1, 'напряжённые': 1, 'критикует': 1, 'исполняющего': 1, 'переподписать': 1, 'соответствующая': 1, 'пишется': 1, 'расписываясь': 1, 'местном': 1, 'офисный': 1, 'офисного': 1, '27000': 1, 'Дому': 1, 'Ка': 1, 'наёме': 1, 'Отвалилась': 1, 'водопроводной': 1, 'рамка': 1, 'металлоискателя': 1, 'вредно': 1, 'поставлена': 1, 'Хабаровского': 1, 'расчёте': 1, 'ковид-19': 1, 'Заражение': 1, 'страховании': 1, 'профессиональных': 1, '24.07.1998': 1, 'достигшие': 1, 'обучающиеся': 1, 'такогообучения': 1, 'дольше': 1, 'родившийся': 1, 'нетрудоспособные': 1, 'состоявшие': 1, 'имевшиеко': 1, 'которыйне': 1, 'занят': 1, 'состоявшими': 1, 'егодетьми': 1, 'сестрами': 1, 'федеральногоучреждения': 1, 'медико-социальной': 1, 'организациипризнанными': 1, 'попадаю': 1, 'коим': 1, 'Случай': 1, 'Региональным': 1, 'отделением': 1, 'трехлетнего': 1, 'Собираемся': 1, 'Интересуют': 1, 'окончательного': 1, 'отчислять': 1, 'депозит': 1, 'бракоразводного': 1, 'Уточню': 1, 'Депозит': 1, 'накоплении': 1, 'любовника': 1, 'патронажная': 1, 'карточка': 1, 'междугороднем': 1, 'рейсе': 1, 'автобусе': 1, 'безбилетный': 1, 'довезет': 1, 'переданные': 1, 'взяткой': 1, 'Всë': 1, 'жильë': 1, 'неприятная': 1, 'чувствовал': 1, 'служебку': 1, 'ознакомили': 1, 'покупают': 1, '11.07.2011': 1, '11.09.2020': 1, '30.10': 1, '7.11': 1, '21.10.21': 1, 'Устроен': 1, '94': 1, 'загасить': 1, 'выписка-отчет': 1, 'росерестра': 1, '465182': 1, 'лестничную': 1, 'клетку': 1, '16,7': 1, 'Продан': 1, '950': 1, 'заполнении': 1, 'фактическую': 1, 'Кадастровая': 1, '2,4': 1, 'понижающий': 1, '!!!': 1, 'договорах': 1, 'иждивение': 1, 'Миграционная': 1, 'выходном': 1, 'личными': 1, 'делами': 1, 'нарушив': 1, 'совершились': 1, 'противоправные': 1, 'противоправными': 1, 'МФД': 1, 'скидывал': 1, 'СМИ': 1, 'обнародовать': 1, 'страницы': 1, 'отрытых': 1, 'обидчиков': 1, 'проволчки': 1, 'уверенным': 1, 'правду': 1, 'преувеличил': 1, 'некие': 1, 'противозаконные': 1, 'совершались': 1, 'намекнул': 1, 'сфабриковал': 1, 'советов': 1, 'озабоченность': 1, 'грустное': 1, 'концах': 1, 'подельнику': 1, 'соучастнику': 1, 'обвинят': 1, 'доносе': 1, 'итп': 1, 'Пожилой': 1, 'потеря': 1, 'слабоумия': 1, 'недееспособность': 1, 'Обвиняют': 1, 'хищении': 1, 'тайное': 1, 'распитие': 1, 'характеристику': 1, 'савхоза': 1, 'собчтвенность': 1, 'исключен': 1, 'реестра': 1, 'сохранил': 1, 'Регион': 1, 'приходящегося': 1, '64,6': 1, 'перекупам': 1, 'рынок': 1, 'недочеты': 1, 'автомат': 1, 'пинался': 1, 'бампер': 1, 'стоящей': 1, '06.01.1994': 1, 'Вагонное': 1, 'выданной': 1, '05.01': 1, 'подвижного': 1, 'низкий': 1, 'повышал': 1, 'квалификацию': 1, 'разряды': 1, 'сбила': 1, 'причинением': 1, 'тяжкого': 1, 'утраченный': 1, 'архива': 1, 'вагонного': 1, 'оспаривал': 1, 'судей': 1, 'Удостоверения': 1, 'выдавались': 1, 'словарях': 1, 'копией': 1, 'разрядов': 1, 'квалификационных': 1, 'Подтвердят': 1, 'оприходовали': 1, 'выездной': 1, 'налоговики': 1, 'фактуру': 1, 'НДС': 1, 'оприходованным': 1, 'фактуре': 1, 'графой': 1, 'церебральный': 1, 'параличи': 1, 'приостанавливают': 1, 'лекарство': 1, 'трудоспособный': 1, 'писано': 1, 'ответи': 1, 'тещу': 1, 'Оформлена': 1, 'душевую': 1, 'кабину': 1, 'вторник': 1, '18500': 1, 'поступала': 1, 'выбирали': 1, 'генеральный': 1, 'конфликтная': 1, 'брюшной': 1, 'полости': 1, '2-ое': 1, 'надеялись': 1, 'наемником': 1, 'таковой': 1, 'роде': 1, 'Севастополя': 1, 'Псковскую': 1, 'серьёзно': 1, 'ватсапу': 1, 'просроченного': 1, 'екапусте': 1, 'театр': 1, 'ведущим': 1, 'Придумывает': 1, 'короткими': 1, 'такое-то': 1, 'гадости': 1, 'Положения': 1, 'инструкций': 1, 'неправомочно': 1, 'порядки': 1, 'разрабатываются': 1, 'провомочным': 1, 'увеличивалась': 1, 'Возбуждены': 1, 'УСН': 1, '25.10.2010': 1, '1127435.76': 1, 'указывая': 1, 'утепление': 1, '4-ро': 1, 'устроюсь': 1, 'Замещаю': 1, 'находящегося': 1, 'красноярского': 1, 'читтинской': 1, 'сестер': 1, 'вступивших': 1, 'товарищем': 1, 'Даркнет': 1, 'задержании': 1, 'товарища': 1, 'отрицали': 1, 'товарищу': 1, 'переподать': 1, 'прилично': 1, 'виделся': 1, 'платились': 1, 'Рамил': 1, 'газовый': 1, 'баллон': 1, 'оказал': 1, 'залил': 1, 'обжалую': 1, 'депозите': 1, 'временном': 1, 'замкнутый': 1, 'круг': 1, '1.10.2021': 1, 'старости': 1, '56,5': 1, 'Засчитали': 1, 'Стаж': 1, '13,': 1, 'отцовских': 1, 'утере': 1, 'Оформляю': 1, 'скачиваем': 1, 'ужасы': 1, 'фантастику': 1, 'боевики': 1, 'рок': 1, 'поп': 1, 'шансон': 1, 'пиратского': 1, 'содержимого': 1, 'музыка': 1, 'взломанные': 1, 'Скачиваем': 1, 'раздаем': 1, 'раздавать': 1, 'перечисляем': 1, 'разделы': 1, 'играем': 1, 'пиратских': 1, 'серверах': 1, 'совершаем': 1, 'соучастников': 1, 'подстрекателей': 1, 'ложная': 1, 'соответствовала': 1, 'ложное': 1, 'дефис': 1, 'ухудшения': 1, 'уборщиц': 1, 'скользящему': 1, 'изм': 1, 'Учетный': 1, 'Переработки': 1, 'кретиная': 1, 'отменяла': 1, 'копания': 1, 'металлолома': 1, 'экскаватором': 1, 'Старой': 1, 'свалки': 1, 'медработника': 1, 'Яна': 1, 'нормативно-правовым': 1, 'актом': 1, 'предусмотрен': 1, 'доставления': 1, 'нетрезвого': 1, 'БЛИЖАЙШИХ': 1, 'ДВУХ': 1, 'ЧАСОВ': 1, '11.01.2021': 1, 'Объяснили': 1, 'бессрочному': 1, 'Проще': 1, 'утвердят': 1, 'расторгла': 1, 'подписав': 1, '10.12.2021': 1, 'уничтожать': 1, 'Завели': 1, 'Реально': 1, 'Гуп': 1, 'Мосгортранс': 1, 'материнства': 1, 'отложить': 1, 'помощником': 1, 'стажировке': 1, 'непогашенная': 1, 'обвиняется': 1, 'стражей': 1, 'идеальные': 1, 'родным': 1, 'помогла': 1, 'морально': 1, 'издеваться': 1, 'погрузо-разгрузочным': 1, 'вводный': 1, 'НПД': 1, 'рано': 1, 'Днём': 1, 'пятницы': 1, 'унаследую': 1, 'Вернуть': 1, 'неверный': 1, 'промысле': 1, 'вагон-домиках': 1, 'свихнулся': 1, 'лозунгом': 1, 'вагон-домиков': 1, 'Нельзя': 1, 'сумках': 1, 'рундуках': 1, 'шкафчиках': 1, 'Фотоотчёт': 1, 'поддержании': 1, 'Иными': 1, 'казарменный': 1, 'порядков': 1, 'Жилом': 1, 'личное': 1, 'производственном': 1, 'Нашу': 1, 'саде': 1, 'набрали': 1, 'Помещение': 1, 'переоборудовано': 1, 'изготовило': 1, 'техплан': 1, 'проектных': 1, 'наименование': 1, 'прежним': 1, 'автомойка': 1, 'намиенование': 1, 'переименовании': 1, 'компетенция': 1, 'некомпетенции': 1, 'простаивает': 1, 'внесение': 1, 'названия': 1, 'Установить': 1, 'контейнеры': 1, 'пластик': 1, 'труп': 1, 'накрыли': 1, 'тряпочкой': 1, 'трагедии': 1, 'неужели': 1, 'умерших': 1, 'самочувствия': 1, 'месяцем': 1, 'первая-задолженность': 1, 'вторая-исполнительский': 1, 'приеду': 1, 'разрешению': 1, 'перешедшей': 1, 'Малоимущей': 1, '52.6': 1, '57.3': 1, 'Соцзащита': 1, 'рассчитала': 1, 'превышают': 1, 'надуманным': 1, 'правляюсь': 1, 'Представляют': 1, 'жалобные': 1, 'анонимного': 1, 'отрицание': 1, 'запугать': 1, 'педагогический': 1, 'Двухквартирный': 1, 'квадратами': 1, 'первом-2': 1, 'ом': 1, 'Мамы': 1, 'больные': 1, 'Прилетел': 1, 'медицинскому': 1, 'приглашению': 1, 'применила': 1, 'типовой': 1, 'конкурентным': 1, 'ФАС': 1, 'неприменение': 1, 'типового': 1, 'напал': 1, 'улучшить': 1, 'выручка': 1, '23.09.2021': 1, 'месяцам': 1, 'освободится': 1, 'переведут': 1, 'отдыхе': 1, '-виновник': 1, 'Оформляли': 1, 'ГИБДд': 1, 'Стороны': 1, 'застрахованы': 1, 'думая': 1, 'уложится': 1, 'счастливы': 1, '287000': 1, 'проведенной': 1, 'прилагаемых': 1, 'подделана': 1, 'подделанной': 1, 'Назначить': 1, 'материальных': 1, 'лишила': 1, 'Исковые': 1, 'требованиях': 1, 'аниматором': 1, 'международную': 1, 'Egyptian': 1, 'Art': 1, 'Animations': 1, 'Mr': 1, 'Amr': 1, 'Шейхе': 1, 'Хургаду': 1, 'Хургады': 1, 'Шейха': 1, 'Обучаться': 1, 'танцам': 1, 'аппендицит': 1, 'возьмешь': 1, 'воспитала': 1, 'отдаленном': 1, 'копит': 1, 'даром': 1, 'непогашенных': 1, 'позвоночника': 1, 'падении': 1, 'сломаны': 1, 'перила': 1, 'парк': 1, 'взыскала': 1, 'взыскивали': 1, 'вел': 1, 'аморально': 1, 'дебоши': 1, 'подавалось': 1, 'воспитанию': 1, 'избегал': 1, 'психологическую': 1, 'Ближе': 1, 'пенсионному': 1, 'болеющий': 1, 'доводах': 1, 'уклонении': 1, 'аморальном': 1, 'поведении': 1, 'вещественным': 1, 'чартерными': 1, 'самолетами': 1, 'Исполнилось': 1, 'военника': 1, 'возникнет': 1, 'Важно': 1, 'аспирантом': 1, 'сомнение': 1, 'моею': 1, 'военник': 1, 'Пользователем': 1, 'локального': 1, 'форума': 1, 'пользователем': 1, 'цитированием': 1, 'комментировании': 1, 'произвольно': 1, 'изменять': 1, 'искажать': 1, 'прокомментировано': 1, 'негативной': 1, 'высказывания': 1, 'отредактировал': 1, 'Восстановить': 1, 'цитате': 1, 'оригинальное': 1, 'счётЯ': 1, 'неотработал': 1, '1997': 1, 'ОТ': 1, 'учредитель-': 1, '16900': 1, '16800': 1, '4600': 1, 'позвоним': 1, 'пытаемся': 1, 'унаследовал': 1, 'производством': 1, '23.06.2021': 1, 'объективная': 1, 'подающий': 1, 'привлекаемым': 1, 'взыскателям': 1, 'сводному': 1, 'регламентировано': 1, 'Ставка': 1, 'понижают': 1, 'трубопровода': 1, 'Жека': 1, 'предположительно': 1, 'засор': 1, 'вещественными': 1, 'жителей': 1, 'районов': 1, 'рождённый': 1, 'признаёт': 1, 'предшествующий': 1, 'ликвидируется': 1, 'Соответсвенно': 1, 'уволюсь': 1, 'встану': 1, 'насчет': 1, 'чаевые': 1, 'ищ': 1, 'запрещают': 1, 'моющими': 1, 'щалыхаюсь': 1, 'аллергическую': 1, 'реакцию': 1, 'стажеру': 1, 'расплатился': 1, '168': 1, 'поселение': 1, 'товарищи': 1, 'поднималась': 1, 'вечерам': 1, 'темп': 1, '37.8': 1, 'слабость': 1, 'озноб': 1, 'симптомов': 1, 'корона': 1, 'корону': 1, 'привитая': 1, 'профессионалы': 1, 'фактическая': 1, 'переведу': 1, 'дипломом': 1, 'подлинность': 1, 'опровергает': 1, 'Ветеринарный': 1, 'сопроводительный': 1, 'ветеринарного': 1, 'забирал': 1, 'первичным': 1, 'бухгалтерским': 1, 'Малолетнего': 1, 'вывезли': 1, 'удерживается': 1, 'ущемлен': 1, 'обклеена': 1, 'скотчем': 1, 'отклеивании': 1, 'внешнего': 1, 'возложив': 1, 'Видеоматериал': 1, 'покраску': 1, 'внешней': 1, 'Статус': 1, 'Вскоре': 1, 'Мачеха': 1, 'сдаюсь': 1, 'комнатке': 1, 'Притом': 1, 'Надоело': 1, 'Пьет': 1, 'Житья': 1, 'приветствие': 1, 'Поможите': 1, 'Макеевки': 1, 'граничит': 1, 'просроченные': 1, 'консульстве': 1, 'возвращении': 1, 'выпустят': 1, 'пограничникам': 1, 'действительны': 1, 'беженца': 1, 'пропустит': 1, 'решай': 1, 'накопи': 1, 'Пути': 1, 'Устраивайся': 1, 'оспаривай': 1, 'делай': 1, 'пересечения': 1, '\\u200b\\u200bсовет': 1, 'пересечение': 1, 'мудрить': 1, 'корекционный': 1, 'совете': 1, 'Телеграме': 1, 'назвала': 1, 'оскорбительным': 1, 'пересказываю': 1, 'приравнивается': 1, 'оскорблению': 1, 'Правонарушений': 1, '06.11.2020': 1, 'Воркута': 1, 'ПОЛОВИНУ': 1, '07.07.': 1, '06.10.21': 1, 'длительность': 1, 'июле-августе': 1, 'шуруповерт': 1, 'поработал': 1, 'недолго': 1, '10.09.2021': 1, 'сменяюсь': 1, 'промежуток': 1, 'отдохнули': 1, 'выходите': 1, 'приобретаем': 1, 'Стоимостью': 1, '500.000': 1, '17.05.2021': 1, '21.09.21': 1, '23.09.21': 1, 'расплачивался': 1, 'субботы': 1, 'расплачивались': 1, 'Работало': 1, 'товарные': 1, 'навешают': 1, 'бумагах': 1, 'необеспеченная': 1, 'ссуда': 1, 'Джамани': 1, 'годовых': 1, 'ссуды': 1, 'договорилась': 1, 'ежемесячного': 1, 'обанкротился': 1, 'перекуплен': 1, 'совкомбанком': 1, 'перерасчётом': 1, '135000': 1, 'обанкротившийся': 1, 'перепродавать': 1, 'собственное': 1, 'трёхэтажном': 1, 'Горячей': 1, 'колонка': 1, 'отсоединится': 1, 'двухконтурный': 1, 'котел': 1, 'родительские': 1, 'займами': 1, '350-400': 1, 'красивым': 1, 'рекламам': 1, 'известном': 1, 'нежели': 1, 'заложен': 1, 'годовом': 1, 'отдано': 1, 'сомневается': 1, 'выкупа': 1, 'Администрацию': 1, 'Распоряжение': 1, 'заяление': 1, 'демонтажа': 1, 'рыхлых': 1, 'элементов': 1, 'пригодный': 1, 'Признать': 1, 'нежилым': 1, 'недействительными': 1, 'восстановила': 1, 'конфигугаций': 1, 'саманные': 1, 'заменила': 1, 'брус': 1, 'утеплителем': 1, 'размеров': 1, 'высотки': 1, 'oneclickmoney': 1, 'просрочил': 1, 'кредитования': 1, 'трезвом': 1, 'Грозного': 1, 'Моздоке': 1, 'менты': 1, 'двоим': 1, '1-комнатной': 1, 'пятиэтажке': 1, 'плану': 1, 'Сбербанку': 1, 'приглашали': 1, 'Присутствовали': 1, 'представители': 1, 'Ключ': 1, 'кабеля': 1, 'кабельного': 1, 'мастеров': 1, 'кровля': 1, 'прежнего': 1, '3250': 1, 'среднему': 1, 'дубликата': 1, 'запроса': 1, 'поддельную': 1, 'Собрался': 1, '23.04.2021': 1, '25.10.2021': 1, 'отозван': 1, 'образов': 1, 'исполнителського': 1, 'аргументы': 1, 'пробовать': 1, 'останавливать': 1, 'мотоблоке': 1, 'мск': 1, 'клялись': 1, 'сентябрю': 1, 'дадим': 1, 'молчек': 1, 'съездили': 1, 'мэрию': 1, '19.08.2021': 1, '03.09.2021': 1, '12.07.2021': 1, '22.08.2021': 1, '01.09': 1, '03.09': 1, 'позволяют': 1, 'санитарным': 1, 'систематически': 1, 'происходят': 1, 'распития': 1, 'курение': 1, 'адресованное': 1, 'Образовательное': 1, 'воевал': 1, 'Чечне': 1, 'старшеклассник': 1, 'Выписалась': 1, 'маминой': 1, 'Наложили': 1, 'ясельную': 1, 'двойня': 1, 'невероятно': 1, 'ясельные': 1, 'воздействия': 1, 'дошкольным': 1, 'учреждениям': 1, 'кинотеатр': 1, 'причём': 1, 'получалась': 1, 'нагружали': 1, 'перегорела': 1, 'косо': 1, 'рассталась': 1, '29.06.2021': 1, 'УН-ФИНАНС': 1, '61': 1, '760,10': 1, 'делили': 1, 'построила': 1, 'пропущенный': 1, '17.09.1996': 1, '-не': 1, 'неквалифицированным': 1, 'выступить': 1, 'президенту': 1, 'Генпрокуратуру': 1, 'Минтруд': 1, 'отписки': 1, 'дарит': 1, 'ворует': 1, 'выпытывать': 1, 'выспрашивать': 1, 'молча': 1, 'ужинаем': 1, '175': 1, 'добыты': 1, 'преступным': 1, 'инструктором': 1, 'занятие': 1, 'подгруппы': 1, 'физкультуре': 1, 'поменялся': 1, 'физкультура': 1, 'занятию': 1, 'плавание': 1, 'пенсионером': 1, 'пансионате': 1, 'свидетельсте': 1, 'виндовс': 1, 'торрент': 1, 'трекер': 1, 'скайпу': 1, 'догадывалась': 1, 'предала': 1, 'слесарных': 1, 'разрешающие': 1, 'обучаться': 1, 'длиться': 1, 'ребенк': 1, 'Служба': 1, 'инфокурс': 1, 'отнимает': 1, 'бонусов': 1, 'бесплатных': 1, 'быструю': 1, 'алкогольно': 1, 'зависимые': 1, 'братик': 1, 'дргую': 1, 'присмотр': 1, 'забота': 1, 'беспокоюсь': 1, '79': 1, 'унаследовали': 1, 'манипулировала': 1, 'обвиняла': 1, 'Учете': 1, 'ссор': 1, 'присутствием': 1, 'виделась': 1, 'обидчиком': 1, 'нафиг': 1, 'соучастие': 1, 'подстрекательство': 1, 'написанное': 1, 'Стажировку': 1, 'аванса': 1, '28.12.2020': 1, 'пятку': 1, 'опалубка': 1, 'ребре': 1, 'Нач': 1, 'поломал': 1, 'отдавай': 1, 'справился': 1, 'дееспособного': 1, 'вынесена': 1, '950000': 1, 'тужили': 1, 'бац': 1, 'нажил': 1, 'привлекательная': 1, 'ненее': 1, 'пепеписали': 1, 'одиночной': 1, 'детками': 1, 'кассационной': 1, 'Осталось': 1, 'прямым': 1, 'нарушителя': 1, 'грубых': 1, 'поощрений': 1, 'минимоиу': 1, 'калининградской': 1, 'облаТи': 1, 'Пенсия': 1, 'чт': 1, 'Бв': 1, 'Завода': 1, 'Жега': 1, '5.300': 1, 'аыпласиваю': 1, 'проживающая': 1, 'посадила': 1, 'внедорожником': 1, 'припарковаться': 1, 'фундаменту': 1, 'нормативные': 1, 'Прежде': 1, 'обсудила': 1, 'домуправом': 1, 'одобрение': 1, 'ГСК': 1, 'межевания': 1, 'гаражной': 1, 'амнистии': 1, 'вклинится': 1, 'Допускает': 1, 'Гараж': 1, 'странами': 1, '1,': 1, 'расследоваться': 1, 'торренты': 1, 'удаляют': 1, 'Россияне': 1, 'скачивают': 1, 'перепутал': 1, '13500': 1, 'приезжали': 1, 'недосдачу': 1, 'производительность': 1, 'шумная': 1, 'магазини': 1, 'бракоразводном': 1, 'тарте': 1, 'жертвой': 1, 'улик': 1, 'переводились': 1, 'отсутствовала': 1, 'санитарную': 1, 'обрубку': 1, 'акаций': 1, 'берез': 1, 'палисаднике': 1, 'СанпиН': 1, '2.1.': 1, '2.2645-10': 1, 'Обрезка': 1, 'Жилья': 1, 'бумами': 1, 'работодателям': 1, 'Начисляется': 1, 'Осуждён': 1, '228/1': 1, 'упоминания': 1, 'режимности': 1, 'внутреннего': 1, 'распорядка': 1, 'прилагался': 1, 'порекомендуете': 1, 'конфликтом': 1, 'Олег': 1, 'оазряда': 1, 'относил': 1, 'вкл': 1, 'гб': 1, 'оперативной': 1, 'характеристиках': 1, 'перепроверил': 1, 'отнёс': 1, 'сослались': 1, 'перепроверка': 1, 'независимую': 1, 'внизу': 1, 'реабилитационных': 1, 'центров': 1, 'Кдн': 1, 'зарплатные': 1, '16-летняя': 1, 'отрицательные': 1, 'осудить': 1, 'свёкр': 1, 'интересуются': 1, 'отдохнуть': 1, 'созвоне': 1, 'клиентки': 1, 'укуса': 1, 'укусе': 1, 'телефонного': 1, 'единого': 1, 'Прокатит': 1, 'экспертов': 1, '338': 1, 'происшествия': 1, 'приобрету': 1, 'недееспособному': 1, 'усыновлены': 1, 'техника': 1, 'выключены': 1, 'присылали': 1, 'Завтрашним': 1, 'завтрашним': 1, 'отчитаться': 1, 'Ямале': 1, 'Пишу': 1, 'пишем': 1, 'Салам': 1, 'новости': 1, 'выдержал': 1, '354': 1, 'судить': 1, 'призывы': 1, 'Донорские': 1, 'оплачиваемых': 1, 'лечила': 1, 'канале': 1, 'нерв': 1, 'воспаление': 1, 'корне': 1, 'Достать': 1, 'пломбировать': 1, 'вылечить': 1, 'областях': 1, 'ненавижу': 1, 'столкнулся': 1, 'беда': 1, 'вакцинацию': 1, 'неинтересно': 1, 'телефонный': 1, 'чётко': 1, 'сыпаться': 1, 'соответсвующие': 1, 'записью': 1, 'рсв': 1, 'Отменили': 1, 'хлебозаводе': 1, 'СПб': 1, 'заменять': 1, 'мотивирует': 1, 'достоверно': 1, 'ложь': 1, 'кончается': 1, 'двухквартирный': 1, 'капитальной': 1, 'Растут': 1, 'учтены': 1, 'Иностранный': 1, 'потребление': 1, 'наркотических': 1, 'значительном': 1, 'соль': 1, 'ПВП': 1, 'ночевкой': 1, 'неработающим': 1, 'женщинам': 1, 'ликвидатору': 1, 'ликвидатором': 1, 'Кадровое': 1, 'неизвестное': 1, 'копиями': 1, 'мошенических': 1, 'пасажирского': 1, 'рейса': 1, 'поломка': 1, 'отогнан': 1, 'автосервис': 1, 'обвинил': 1, 'халатное': 1, 'автотранспорту': 1, 'Предрейсовых': 1, 'проводилось': 1, 'впрочем': 1, 'ремонтные': 1, 'поисковый': 1, 'формируется': 1, 'отправляться': 1, 'поисковым': 1, 'системам': 1, 'форуму': 1, 'представляет': 1, 'символов': 1, 'образующих': 1, 'нецензурную': 1, 'экстремистское': 1, 'поисковом': 1, 'запросе': 1, 'отправляется': 1, 'сетевому': 1, 'сохраняться': 1, 'просматриваться': 1, 'поисковые': 1, 'приравнены': 1, 'высказываниям': 1, 'распространению': 1, 'отправившего': 1, 'соцзаемщик': 1, 'Предоставляется': 1, 'преобретение': 1, 'относящимся': 1, 'хозяйственной': 1, 'Пристава': 1, '0,98': 1, '0.00': 1, 'гробами': 1, 'моральном': 1, 'вреде': 1, 'заявой': 1, 'заяве': 1, 'Направлена': 1, 'школьников': 1, 'школьникам': 1, 'начинающий': 1, 'программист': 1, 'вакансий': 1, 'Планируют': 1, 'злоумышленником': 1, 'преступных': 1, 'слышно': 1, 'телевизору': 1, 'хакеры': 1, 'модуль': 1, 'дизайн': 1, 'наполнения': 1, 'мошеннические': 1, 'нанесен': 1, 'Понятное': 1, 'заданию': 1, 'что-это': 1, 'динамит': 1, 'завалы': 1, 'расчищать': 1, 'системой': 1, 'шифровки': 1, 'коммерческую': 1, 'охранять': 1, 'скрывать': 1, 'соучастницу': 1, 'флюорографию': 1, 'особой': 1, 'надобности': 1, 'клиники': 1, 'стригла': 1, 'заразные': 1, 'остеохондроз': 1, 'гастрит': 1, 'услышала': 1, 'распечатанная': 1, 'понимание': 1, 'цифр': 1, 'Зп': 1, 'показатели': 1, 'умудряется': 1, 'Представитель': 1, 'называет': 1, 'расхода': 1, 'рассчетки': 1, 'ДКМО': 1, 'собствкник': 1, 'бывших': 1, 'управляющию': 1, 'Ответили': 1, 'компьютеру': 1, '1959': 1, 'Вдова': 1, 'алексей': 1, 'представился': 1, 'некая': 1, 'Новикова': 1, 'владельцам': 1, 'сантехника': 1, 'стяжки': 1, 'черновая': 1, 'отделка': 1, 'дверей': 1, 'ломая': 1, 'Отдаёт': 1, 'убиралась': 1, 'заходит': 1, 'открывая': 1, 'настойчиво': 1, 'вывязываем': 1, 'уместилось': 1, 'увозим': 1, 'уезжает': 1, 'Мебели': 1, 'сегодгя': 1, 'владельцы': 1, 'сломаю': 1, 'выезду': 1, 'второ': 1, 'совместительства': 1, 'педстаж': 1, 'Местонахождение': 1, 'Одним': 1, 'Предупредили': 1, 'перевозками': 1, 'грузовое': 1, 'вывожу': 1, 'дебетовую': 1, 'многоуважаемые': 1, 'Kate': 1, 'Mobile': 1, 'закладка': 1, 'английском': 1, 'тыкать': 1, 'записях': 1, 'высвечивалось': 1, 'непонимания': 1, 'удалила': 1, 'закладку': 1, 'произведено': 1, 'удаление': 1, 'покушение': 1, 'Журнал': 1, 'покушением': 1, 'просветите': 1, 'тыкаю': 1, 'натыкать': 1, 'наверно': 1, 'юрисконсультом': 1, '0.05': 1, 'обузаюсь': 1, 'Прежних': 1, 'кладовка': 1, 'когда-': 1, 'заняли': 1, 'кладовки': 1, 'этажом': 1, 'вникать': 1, 'обрашайтесь': 1, 'пжл': 1, 'неиспользуемые': 1, 'ерунду': 1, 'мелочи': 1, 'используются': 1, 'отучить': 1, 'ненужное': 1, 'фанатизма': 1, 'трогает': 1, 'спорные': 1, 'Придумала': 1, 'переборщить': 1, 'бед': 1, 'наделать': 1, 'нарушается': 1, 'припугнуть': 1, 'приглашу': 1, 'доведет': 1, 'обуздать': 1, 'полицейского': 1, 'ушибы': 1, '127': 1, 'ложной': 1, 'представляющей': 1, '207.1': 1, 'сомнительное': 1, 'предположение': 1, 'выражение': 1, 'утверждением': 1, 'источник': 1, 'откуда-либо': 1, 'событиях': 1, 'первоисточник': 1, 'заведомости': 1, 'заблуждался': 1, 'правдива': 1, 'занялся': 1, 'предупреждена': 1, 'секса': 1, 'уверил': 1, 'выложены': 1, 'конфликтуем': 1, 'примерные': 1, '2000-2001': 1, 'Подарила': 1, 'заехал': 1, 'единоличный': 1, 'бесправном': 1, 'Никитин': 1, 'Даниил': 1, 'Олегович': 1, 'бездействии': 1, 'проверяла': 1, 'приставша': 1, 'ГРАЖДАНИН': 1, 'УМЕР': 1, 'Приставшу': 1, '0.89': 1, 'Приставов': 1, 'Приставша': 1, 'ДАЛЬШЕ': 1, 'ДОБИТЬСЯ': 1, 'СПРАВЕДЛИВОСТИ': 1, 'ПОТРЕБУЕТСЯ': 1, 'МОГУ': 1, 'СКИНУТЬ': 1, 'КОПИЮ': 1, 'ТРУДОВОЙ': 1, 'ПРОКУРАТУРУ': 1, 'коттедж': 1, 'Скат': 1, 'бытовка': 1, 'скат': 1, 'дождя': 1, 'огромные': 1, 'осадки': 1, 'текут': 1, 'переполняются': 1, 'заливает': 1, 'скаты': 1, 'списываться': 1, 'солидную': 1, 'Сходу': 1, 'пообщалась': 1, 'рекрутером': 1, 'наступить': 1, '183': 1, 'планируют': 1, 'таунхаусе': 1, 'огородить': 1, 'гореть': 1, 'ограду': 1, 'Компенсация': 1, 'Аварийная': 1, 'рассчитываются': 1, 'ХИМИК': 1, 'садовую': 1, 'САДОВАЯ': 1, 'КНИГА': 1, 'участнику': 1, 'прослужившему': 1, 'водителем-экспедитором': 1, 'развоза': 1, 'сумка': 1, 'некоторую': 1, 'собранные': 1, 'Домком': 1, 'подвальным': 1, 'разобрала': 1, 'подвалов': 1, 'некоторым': 1, 'домком': 1, 'кр': 1, 'сои': 1, 'титан': 1, 'конвектора': 1, 'стояка': 1, 'Стоят': 1, 'отсрочка': 1, 'ВУЗ-е': 1, 'СУДЕБНЫЕРЕШЕНИЯ': 1, 'Обнаружены': 1, 'персональные': 1, 'нормативно–правовые': 1, '28.06.21': 1, 'Рапорт': 1, '25.03.21': 1, 'выведен': 1, 'Откажут': 1, 'раскрытии': 1, 'приемных': 1, 'разработчика': 1, 'стажера': 1, 'Варианты': 1, 'понравится': 1, 'тестовые': 1, 'каким-либо': 1, 'провалю': 1, 'карьеры': 1, 'справляться': 1, 'заданиями': 1, 'Аналогично': 1, 'поиску': 1, 'возьмусь': 1, 'навыков': 1, 'пообещаю': 1, 'конкретные': 1, 'действительную': 1, 'конт': 1, 'становилось': 1, '1984-1985': 1, 'шахту': 1, 'электрослесарем': 1, 'ряды': 1, 'СА': 1, 'подкреплены': 1, 'периодов': 1, 'гражданское': 1, 'нарочно': 1, 'взятку': 1, 'пятисот': 1, 'завезли': 1, 'инвалидами': 1, 'БЕЗ': 1, 'ОТРАБОТКИ': 1, 'женатым': 1, 'женатого': 1, 'чему-нибудь': 1, 'растет': 1, 'компьютерах': 1, 'соображает': 1, 'Доверили': 1, 'картами': 1, 'смартфон': 1, 'собственные': 1, 'смартфона': 1, '10.000': 1, 'ловили': 1, 'постригся': 1, 'присвоил': 1, '50-100': 1, 'карман': 1, 'положит': 1, 'соврет': 1, 'выгадывает': 1, 'племяннику': 1, 'злоупотребление': 1, 'доверием': 1, 'неверная': 1, 'пандемия': 1, 'гбдд': 1, 'режиму': 1, '23.07.20': 1, 'зависело': 1, 'накручиваю': 1, 'Подписали': 1, 'УЖЕ': 1, 'контрактников': 1, 'обнаружилась': 1, 'обзыванием': 1, 'глупая': 1, 'дура': 1, 'живешь': 1, 'вернём': 1, 'съездил': 1, 'квиткам': 1, 'указов': 1, 'указы': 1, 'подобрала': 1, 'увезла': 1, 'сбежать': 1, 'Подозревают': 1, 'старика': 1, 'немножко': 1, 'адекватном': 1, 'завтрашний': 1, 'осознав': 1, 'боясь': 1, 'побоях': 1, '11.07.2021': 1, 'стояк': 1, '16.07': 1, 'Воды': 1, 'отключении': 1, 'посидели': 1, 'выпили': 1, 'пива': 1, 'поругались': 1, 'Великом': 1, 'Устюге': 1, 'обижала': 1, 'чистые': 1, 'убеп': 1, '13550': 1, 'доя': 1, 'пьющего': 1, 'растрогаю': 1, '302': 1, 'завершил': 1, 'освоение': 1, 'затратами': 1, 'неотработанного': 1, 'Литовцем': 1, 'Литовское': 1, 'Литве': 1, 'быстрый': 1, 'пятница': 1, 'кормять': 1, 'пятницей': 1, 'придёт': 1, 'расследовая': 1, 'переквалифицировать': 1, 'автошколой': 1, 'автошколе': 1, 'расплатиться': 1, 'малосемейке': 1, 'Снимаем': 1, 'сдаем': 1, 'классификацию': 1, 'уберечь': 1, 'скандалила': 1, 'школам': 1, 'кидалась': 1, 'зарезать': 1, 'трезвая': 1, 'скрытой': 1, 'шизофрении': 1, 'повторялось': 1, 'пьющей': 1, 'опекунстве': 1, 'пьянки': 1, 'суицидальными': 1, 'приступами': 1, 'уговоры': 1, 'подавалась': 1, 'любил': 1, 'произвол': 1, 'окончательно': 1, 'выжила': 1, 'переламывали': 1, 'поножовщина': 1, 'пили': 1, 'жилось': 1, 'пахал': 1, 'лошадь': 1, 'стирать': 1, 'Помог': 1, 'летним': 1, 'берега': 1, 'весны': 1, 'экономили': 1, 'ныне': 1, 'намечается': 1, 'угнетения': 1, 'психологические': 1, 'поводам': 1, 'возможного': 1, 'нормальному': 1, 'аварией': 1, 'сталкивались': 1, 'Таких': 1, 'Окуловского': 1, 'Карелии': 1, 'предлогают': 1, 'Некачественное': 1, 'наращивание': 1, 'соцвыплаты': 1, 'зачислению': 1, 'военнослужащей': 1, 'психоневрологическом': 1, 'интернате': 1, 'прививки': 1, 'голый': 1, 'дорожной': 1, 'возражал': 1, 'открывшиеся': 1, 'опасение': 1, 'кровного': 1, 'наполовину': 1, 'совладельцем': 1, 'Осталась': 1, 'двухэтажном': 1, 'сфотографироваться': 1, 'лавку': 1, 'залезть': 1, 'колени': 1, 'упали': 1, 'защитное': 1, 'серьезные': 1, 'защитного': 1, 'переживала': 1, 'обратятся': 1, 'листок': 1, 'порвал': 1, 'Нижняя': 1, 'заказчица': 1, 'Богдану': 1, 'ребят': 1, 'АГП': 1, 'авто-гидро-подъемник': 1, 'инспектора': 1, 'подлинности': 1, 'таблички': 1, 'табличка': 1, 'оригинальная': 1, 'шрифт': 1, 'газпроме': 1, 'отказат': 1, 'm': 1, 'ся': 1, 'Органу': 1, 'позволяется': 1, 'самыми': 1, 'разнообразными': 1, 'приводится': 1, 'вступающим': 1, 'органу': 1, 'Безусловно': 1, 'числу': 1, 'отнесены': 1, 'невесты': 1, 'жениха': 1, 'вступающие': 1, 'фактических': 1, 'брачных': 1, 'исчерпывается': 1, 'Причины': 1, 'объясняющие': 1, 'вступающих': 1, 'подтверждены': 1, 'отпускным': 1, 'удостоверением': 1, 'рестораном': 1, 'Загс': 1, 'ужиться': 1, 'сезонные': 1, 'Оплачиваю': 1, 'газом': 1, 'электроэнергией': 1, 'успеют': 1, 'трогать': 1, '150.000': 1, 'Дополнить': 1, 'украденного': 1, 'юридическим': 1, 'Калуга': 1, 'июл': 1, 'разоблачение': 1, 'стоп': 1, 'кассовый': 1, 'сделанное': 1, 'оплатиться': 1, 'взносов': 1, 'документооборотом': 1, 'контролируется': 1, 'незаконную': 1, 'предпринимательскую': 1, 'пищевом': 1, 'молочный': 1, 'задержался': 1, 'целый': 1, 'проносить': 1, 'столовая': 1, 'межвахте': 1, 'Дни': 1, 'пропадают': 1, 'Переносятся': 1, 'Рассчитался': 1, 'пороля': 1, 'пакета': 1, 'чат': 1, 'рассмотрели': 1, 'порча': 1, '264.2': 1, 'колонии-поселения': 1, 'Нареканий': 1, 'рожу': 1, 'первоклассник': 1, 'эпилепсия': 1, 'расчётке': 1, 'неустановленное': 1, 'нанесло': 1, 'двухсот': 1, 'корпусы': 1, 'лакокрасочного': 1, 'покрытия': 1, 'снижается': 1, 'расставить': 1, 'исходное': 1, 'напоследок': 1, 'двигается': 1, 'осуществим': 1, 'логин': 1, 'пароль': 1, 'УГОЛОВНОЙ': 1, 'ОТВЕТСТВЕННОСТИ': 1, 'быстрым': 1, 'безопасным': 1, 'приблизительно': 1, 'будущее': 1, 'удер': 1, 'бегунок': 1, 'обошла': 1, 'бегунками': 1, '18.08.2020': 1, '18.12.2020': 1, '22.03.2021': 1, 'уменя': 1, 'дележке': 1, 'иностранца': 1, 'Иностранец': 1, 'стрессов': 1, 'противозаконных': 1, 'прямое': 1, 'сокрытия': 1, 'Подделка': 1, 'отругал': 1, 'настучит': 1, 'известной': 1, 'товару': 1, 'выразила': 1, 'негативное': 1, 'низкокачественный': 1, 'стыд': 1, 'позор': 1, 'экономию': 1, 'дешевом': 1, 'планшете': 1, 'скайпа': 1, 'компьютерный': 1, 'убедилась': 1, 'марках': 1, 'дисплеи': 1, 'Ноутбук': 1, 'бренда': 1, 'ругала': 1, 'приемлемым': 1, 'экраном': 1, 'дописала': 1, 'восприятия': 1, 'изображения': 1, 'экраны': 1, 'графикой': 1, 'уважение': 1, 'бренду': 1, 'фирма-производитель': 1, 'бспм': 1, 'оказали': 1, 'бумажке': 1, 'переспросил': 1, 'отвёл': 1, 'шепчемся': 1, 'услышали': 1, 'срослась': 1, 'срослось': 1, 'конечном': 1, 'точней': 1, 'сгибается': 1, 'БСМП': 1, 'посмотрели': 1, 'реагировать': 1, 'Главному': 1, 'Инженеру': 1, 'Ген': 1, 'устного': 1, 'задействуя': 1, 'нормативных': 1, 'сооружений': 1, 'сходил': 1, 'запрещена': 1, 'современной': 1, 'свободно': 1, 'задумывается': 1, '03-04-06/8370': 1, 'облагается': 1, 'интересные': 1, 'Ссылки': 1, 'скопировав': 1, 'строку': 1, 'браузера': 1, 'kommersant': 1, 'doc': 1, '2709423': 1, 'Министр': 1, 'опроверг': 1, 'россиян': 1, 'валютно-обменные': 1, 'вводиться': 1, 'отметив': 1, 'ведомство': 1, 'напомним': 1, 'Минфин': 1, 'департамента': 1, 'таможенно-тарифной': 1, 'политики': 1, 'Рубен': 1, 'Саакян': 1, 'отмечал': 1, 'налогоплательщиком': 1, 'подаваемой': 1, '210': 1, 'Налогового': 1, 'налогоплательщика': 1, 'формах': 1, 'господина': 1, 'налогообложении': 1, 'валютном': 1, 'предполагал': 1, 'министр': 1, '.…': 1, 'трактовано': 1, 'fintelligence-ru': 1, 'medium': 1, 'com': 1, '83': 1, 'B-6176984': 1, 'bc': 1, 'Судебная': 1, 'Зато': 1, 'чиновников': 1, 'противоречащие': 1, 'нажал': 1, 'обстоят': 1, 'куплей': 1, 'аудит': 1, 'вакуума': 1, 'задумается': 1, 'декларировать': 1, 'паховой': 1, 'грыжи': 1, 'предпенсионный': 1, 'противопоказана': 1, 'иностранная': 1, 'повредишь': 1, 'напитка': 1, 'мочу': 1, 'Минздрава': 1, 'безопасными': 1, 'ПВЭМ': 1, 'технологическом': 1, 'побоялась': 1, 'сознания': 1, 'мертвый': 1, 'Споров': 1, 'доходе': 1, 'Завершилась': 1, 'Верная': 1, 'Налога': 1, '1625000': 1, '675000': 1, '87750': 1, 'мотоциклами': 1, 'обменщик': 1, 'обмениваться': 1, 'заводиться': 1, 'привезет': 1, 'мотоцикл': 1, 'угоне': 1, 'тыщу': 1, 'километров': 1, 'поеду': 1, 'перестану': 1, 'отсутствую': 1, 'выделены': 1, 'призывником': 1, 'отлучаться': 1, 'уложить': 1, 'оружейный': 1, 'приводы': 1, 'голая': 1, 'указывал': 1, 'груди': 1, 'половых': 1, 'распространял': 1, 'суск': 1, 'угл': 1, 'раскидывают': 1, 'скачивать': 1, 'торрента': 1, 'существующему': 1, 'коммунальному': 1, '01.08.2013': 1, '30.06.2016': 1, '19.09.2016': 1, 'Отменил': 1, '07.06.2018': 1, '05.08.2020': 1, 'Седьмой': 1, 'кассационный': 1, '28.05.2020': 1, 'касс': 1, 'окончен': 1, 'Свердловской': 1, 'десять': 1, 'Искал': 1, 'ручника': 1, 'стукнула': 1, 'критично': 1, 'сожительствует': 1, 'платятся': 1, 'алиментные': 1, 'заклеены': 1, 'рекламной': 1, 'акт-извещение': 1, 'размещение': 1, 'конструкций': 1, 'остекление': 1, 'оклеено': 1, 'пленкой': 1, 'витрина': 1, 'избивать': 1, 'Вступилась': 1, 'искали': 1, 'Вопрос-': 1, 'категориям': 1, 'торгах': 1, 'незарегистрированной': 1, 'постройкой': 1, 'собственник-продавец': 1, 'перейдет': 1, '162002': 1, '1401': 1, 'Удмуртская': 1, 'Завьяловский': 1, 'Хохряки': 1, 'Цветочная': 1, '389.4': 1, 'Этажность': 1, 'Домашних': 1, 'АнатольевичДата': 1, '2021-05-25': 1, 'Тип': 1, 'Ко': 1, 'Архив': 1, 'препятствуют': 1, 'Уровень': 1, '360': 1, 'линий': 1, 'зелёный': 1, 'луч': 1, 'Заказывал': 1, 'рулетка-лазер': 1, 'пакетах': 1, 'Средняя': 1, '14.06.21.11.06.21': 1, '18.06.21': 1, '7035': 1, 'просуженный': 1, 'Выслуги': 1, 'дополняющие': 1, 'календарях': 1, 'Ордена': 1, 'дружбы': 1, 'народов': 1, 'политехническом': 1, 'ГМТ': 1, 'Владикавказ': 1, 'дресс-коде': 1, 'мужского': 1, 'ОБЯЗАНЫ': 1, 'классическую': 1, 'мужскую': 1, 'ношение': 1, 'длинных': 1, 'предубеждений': 1, 'длина': 1, 'губы': 1, 'духовное': 1, 'парикмахерскую': 1, 'заведения': 1, 'иди': 1, 'принципов': 1, 'убеждений': 1, 'влияют': 1, 'знания': 1, 'длины': 1, 'отчислить': 1, '07.06.2021': 1, '17.06.2021': 1, '14.06.2021': 1, '21.06.2021': 1, 'понервничала': 1, 'померили': 1, 'неврастения': 1, 'тетрадка': 1, 'клеточку': 1, 'спрашивают': 1, 'задавали': 1, 'регистратуру': 1, 'административка': 1, 'выплотах': 1, 'мужей': 1, 'нуждаюсь': 1, 'обычного': 1, 'перекидывают': 1, 'РТГР': 1, 'нужде': 1, 'ртгр': 1, 'отправляются': 1, 'предлагала': 1, 'умеренную': 1, 'взрослые': 1, 'поймут': 1, 'оказанием': 1, 'Вспомнил': 1, 'подарка': 1, 'передам': 1, 'координаты': 1, 'поступлю': 1, 'совершу': 1, 'Совершу': 1, 'Нарушать': 1, 'уважаемых': 1, 'Передумал': 1, 'идеи': 1, 'подарю': 1, 'гасил': 1, 'Очередной': 1, 'Звонит': 1, 'доработал': 1, 'Поженились': 1, 'максимальное': 1, '7,2': 1, 'переработки': 1, 'сельскохозяйственного': 1, 'ВРИ': 1, 'садоводство': 1, 'особый': 1, 'половинке': 1, 'мотокросс': 1, 'инвентарь': 1, '12.7,': 1, '12.5,': 1, 'ценнике': 1, 'чехол': 1, 'sim-карту': 1, 'проплачен': 1, 'закончатся': 1, 'объяснял': 1, 'бонус': 1, 'блуд': 1, '2.500': 1, 'Заложила': 1, 'укрошение': 1, 'выкупил': 1, 'растаемся': 1, '?!?!': 1, 'деревообрабатывающем': 1, 'болеть': 1, 'протрузия': 1, 'поясничного': 1, 'МРТ': 1, 'грыжу': 1, 'позвоночник': 1, 'приёмах': 1, 'связанно': 1, 'профзаболевание': 1, 'отговариваться': 1, 'выделяла': 1, 'Участник': 1, 'земский': 1, 'заявке': 1, 'портале': 1, 'информатик': 1, 'смежных': 1, 'профессий': 1, 'Отработав': 1, 'внеурочных': 1, 'занятий': 1, 'убирают': 1, 'внеурочку': 1, 'информатику': 1, 'прыгала': 1, 'парашютом': 1, 'аэродроме': 1, 'съемка': 1, 'видеосъемка': 1, 'взлета': 1, 'прыжков': 1, 'Отдельно': 1, 'групповые': 1, 'командами': 1, 'взлет': 1, 'присутствующих': 1, 'выражал': 1, 'съемкой': 1, 'отснято': 1, 'приобретать': 1, '152.1': 1, 'отснятые': 1, 'ноутбуке': 1, 'закрытом': 1, 'удаленном': 1, 'хранилище': 1, 'диске': 1, 'съемку': 1, 'теории': 1, 'аэродром': 1, 'чистом': 1, 'зрители': 1, 'деревень': 1, 'коллективные': 1, 'летаю': 1, 'шатаюсь': 1, 'аэродрому': 1, 'воспоминания': 1, 'атмосфере': 1, 'любовной': 1, 'аптеку': 1, 'караулит': 1, 'аптеки': 1, '11.06': 1, 'уведомляет': 1, '15.06': 1, 'отзывают': 1, 'Пустая': 1, 'одобряет': 1, 'инициатор': 1, 'любовнику': 1, 'неделю-две': 1, 'нарушила': 1, 'СанПина': 1, 'коллега': 1, 'компромата': 1, 'зарядил': 1, 'планшета': 1, 'невыполнению': 1, 'соблюдает': 1, 'распорядок': 1, 'кормления': 1, 'игнорируя': 1, 'возникали': 1, 'заболевало': 1, 'проявлял': 1, 'пунктам': 1, 'Бюджетная': 1, 'материальная': 1, 'ценность': 1, 'План': 1, 'докладной': 1, 'Ясно': 1, 'попросят': 1, 'серьезности': 1, 'ввернуть': 1, 'Сотруднику': 1, 'ФПС': 1, 'ГПС': 1, 'приехавший': 1, 'короткие': 1, 'пускали': 1, 'Основная': 1, 'ставка-секретарь': 1, 'педагог-организатор': 1, 'отгуляю': 1, '!.': 1, 'учились': 1, 'обработкой': 1, 'специалистами': 1, 'Которой': 1, 'подтвердился': 1, 'территорией': 1, 'убирала': 1, 'выдужденной': 1, 'уборкой': 1, 'спецодежды': 1, 'чувствовать': 1, 'госпитализирована': 1, 'выписного': 1, 'эпикриза': 1, 'больного': 1, 'признаками': 1, 'простуды': 1, 'отстранять': 1, 'просрочилась': 1, 'санкнижка': 1, 'медкомиссии': 1, 'проходим': 1, 'возмещаем': 1, 'Обьясняя': 1, 'вынужденна': 1, 'Арбитражный': 1, 'федерального': 1, 'государственную': 1, 'Вид': 1, 'регистрацией': 1, 'ввоза': 1, 'действующей': 1, 'карантинных': 1, 'таможенном': 1, 'продлен': 1, 'экзаменом': 1, 'короткое': 1, 'сохранился': 1, 'Мурманской': 1, 'атомохране': 1, 'заработал': 1, 'полярок': 1, 'приносил': 1, 'заработано': 1, 'полярки': 1, 'берутся': 1, 'кал': 1, 'открытыми': 1, 'Законы': 1, 'законодательными': 1, 'правоте': 1, 'выставляю': 1, 'скандалистами': 1, 'схеме': 1, 'лёжа': 1, 'обнимались': 1, 'лежали': 1, 'друге': 1, 'обнимаясь': 1, 'обнимку': 1, 'дремали': 1, 'одеты': 1, 'обнимашек': 1, 'поцелуев': 1, 'мыслей': 1, 'развратных': 1, 'допустить': 1, 'экзамену': 1, 'гостехнадзора': 1, 'лишался': 1, 'шланг': 1, 'обсолютно': 1, 'переходник': 1, 'подобрать': 1, 'шланги': 1, 'засунув': 1, 'карманы': 1, 'метражом': 1, 'тяжеленного': 1, 'резинового': 1, 'шланга': 1, 'легкого': 1, 'таскать': 1, 'придумывать': 1, 'крепить': 1, 'переходником': 1, 'краном': 1, 'хрень': 1, 'вкручивается': 1, 'гусак': 1, 'Обсолютно': 1, 'компетентные': 1, 'пиццерии': 1, 'выручку': 1, 'скидываем': 1, 'окошко': 1, 'скидывали': 1, 'выручкой': 1, 'Выручку': 1, 'инкассации': 1, 'сейфа': 1, 'конвертов': 1, 'странное': 1, 'Бывшего': 1, '1,2': 1, 'био': 1, 'записав': 1, 'Якутск': 1, 'трудовому-': 1, 'правовому': 1, 'Северск': 1, 'Кавказа': 1, 'терялись': 1, 'переводится': 1, 'Северске': 1, 'теряются': 1, 'осмотру': 1, 'Рабочий': 1, '4-30': 1, 'общественный': 1, 'автотранспортом': 1, 'Лешили': 1, '10.2020': 1, 'перевернул': 1, 'формальная': 1, '1.1.': 1, 'Временная': 1, 'иждевинии': 1, 'даный': 1, 'колхозного': 1, 'Чечни': 1, '8500': 1, '8600': 1, '17100': 1, 'неприватизированную': 1, 'транспортным': 1, 'средством': 1, 'жертв': 1, 'папину': 1, 'аптечку': 1, 'греха': 1, 'подальше': 1, 'содержимое': 1, 'препаратами': 1, 'попадал': 1, 'злилась': 1, 'смешал': 1, 'поправился': 1, 'преступила': 1, '303': 1, 'бомбочку': 1, 'балона': 1, 'пистолета': 1, 'Начинил': 1, 'спичек': 1, 'Развлечения': 1, 'взорвать': 1, 'нелюдном': 1, 'огороде': 1, 'взрыв': 1, 'осколками': 1, '223.1': 1, 'взрывчатых': 1, 'переклафикацировать': 1, 'корыстных': 1, 'целей': 1, 'преследовал': 1, 'пасынку': 1, 'Вернут': 1, 'комиссиии': 1, '150-152': 1, 'Частный': 1, 'видеонаблюдение': 1, 'табличек': 1, 'видеосъемке': 1, 'объектив': 1, 'персональных': 1, 'видеокамеры': 1, 'объединение': 1, 'нравственные': 1, 'страдания': 1, 'поспорили': 1, 'учимся': 1, 'Европе': 1, 'порнография': 1, 'легальна': 1, 'вернемся': 1, 'отправим': 1, 'Понятно': 1, 'окружающим': 1, 'Результаты': 1, 'Налоговым': 1, 'органом': 1, 'поступят': 1, 'еньги': 1, 'медицинском': 1, 'выплатить-больнице': 1, 'Минздраву': 1, 'семестре': 1, 'недопуск': 1, 'гарантированное': 1, 'подумать': 1, 'такового': 1, 'успеваемости': 1, 'пропусков': 1, 'вопросами': 1, 'определенно': 1, 'некорректные': 1, 'запуталась': 1, 'нанесение': 1, 'тяжких': 1, 'ЖЭУ': 1, 'нарастающим': 1, 'итогом': 1, 'Мораторий': 1, 'начисленные': 1, 'элеваторный': 1, 'узел': 1, 'будкой': 1, 'элеватора': 1, 'замкнутой': 1, 'электроэнергии': 1, 'разводкой': 1, 'счётчиком': 1, 'энергетики': 1, 'счётчики': 1, 'опоре': 1, 'чердачное': 1, 'элеватор': 1, 'будке': 1, 'кадастровым': 1, 'теплосети': 1, 'Изменился': 1, 'переделок': 1, 'блочной': 1, 'техпаспорте': 1, 'житья': 1, 'инструкцией': 1, 'функционал': 1, 'дублируется': 1, 'одинаковыми': 1, 'идентичных': 1, 'зависимо': 1, 'уравнивания': 1, 'текущую': 1, 'водоканале': 1, 'Неявка': 1, 'неоплата': 1, 'риэлторы': 1, 'реабилитационный': 1, 'полученный': 1, 'охранник': 1, 'презирают': 1, 'финподдержке': 1, 'профессиональная': 1, 'заказана': 1, 'Выбрал': 1, 'курьерскую': 1, 'выбирает': 1, 'Курьер': 1, 'доставил': 1, 'запечатанной': 1, 'вскрытия': 1, 'разбита': 1, 'зафотографировал': 1, 'отослал': 1, 'интернет-магазину': 1, 'оферте': 1, 'акцептованной': 1, '6.3.': 1, 'самовывозе': 1, 'тарифным': 1, 'зонам': 1, 'A': 1, 'F': 1, 'заказанный': 1, 'переходят': 1, 'Продавцом': 1, 'Экпедиторское': 1, 'Акт-передачи': 1, 'Поставщиком': 1, 'Транспортной': 1, 'передаются': 1, 'подписанная': 1, 'заказ-наряд': 1, 'экспедиторское': 1, 'предупреждены': 1, 'телефонном': 1, 'рисках': 1, 'жесткой': 1, 'хрупкого': 1, 'вынуждены': 1, 'поврежденного': 1, 'записанный': 1, 'слово': 1, 'таре': 1, 'пенсионную': 1, 'хорошей': 1, 'разрешат': 1, 'включив': 1, 'Землю': 1, 'землёй': 1, 'Ущемлены': 1, 'современных': 1, 'законах': 1, 'страницами': 1, 'Судить': 1, 'Страницы': 1, 'ТМЦ': 1, 'слезам': 1, 'расставании': 1, 'увлечённо': 1, 'собирая': 1, 'констатируя': 1, 'воспитает': 1, 'зарабатывать': 1, 'попадая': 1, 'зари': 1, 'заката': 1, 'усыновлённый': 1, 'садом': 1, 'понижением': 1, 'предстоящее': 1, 'Отправление': 1, 'появиться': 1, 'освободилась': 1, 'меток': 1, 'отсидела': 1, 'Узнал': 1, 'заехали': 1, 'племянница': 1, 'кошку': 1, 'стерилизацию': 1, 'ветеринарную': 1, 'кошка': 1, 'возвращена': 1, 'отходит': 1, 'мучилась': 1, 'вкололи': 1, 'Кассы': 1, 'рихтовка': 1, 'покраска': 1, 'загнал': 1, 'починит': 1, '5.11.2020': 1, '11.3.2021': 1, 'больной': 1, 'шизофренией': 1, 'Прописки': 1, 'киржач': 1, 'русклимат': 1, 'зануси': 1, '12.03.21': 1, '06.04.21': 1, 'подписало': 1, '6.09.19': 1, 'Прилагаю': 1, 'туберкулез': 1, 'протарифицировать': 1, 'ву': 1, 'профессией': 1, 'профессия': 1, 'работаете': 1, 'работайте': 1, 'мизинца': 1, 'безымянного': 1, 'шоковом': 1, 'морочат': 1, 'DJ': 1, 'контроллер': 1, 'переломом': 1, 'челюсти': 1, 'льготой': 1, 'обналичивал': 1, 'подействовал': 1, '342000': 1, 'Снимал': 1, 'словесная': 1, 'перепалка': 1, 'Приезжали': 1, 'следователи': 1, 'увлекалась': 1, 'слухах': 1, 'сплетнях': 1, 'современном': 1, 'социуме': 1, 'коммуникации': 1, 'Частью': 1, 'законодательных': 1, 'нужном': 1, 'Правоприменительная': 1, 'составляющей': 1, 'несанкционированным': 1, 'весьма': 1, 'небрежно': 1, 'слухов': 1, 'друзьями': 1, 'оговаривается': 1, 'нередко': 1, 'Формально': 1, 'правоприменительной': 1, 'практике': 1, 'ситуациям': 1, 'доказательной': 1, 'понимания': 1, 'проанализировать': 1, 'Листала': 1, 'доверенной': 1, 'упустила': 1, 'автозаполнение': 1, 'подделывал': 1, 'погашал': 1, 'больших': 1, 'Осужденный': 1, 'Мценск': 1, 'Нарушил': 1, 'употребил': 1, 'Помещен': 1, 'изолятор': 1, 'Ставит': 1, 'валютой': 1, 'платформе': 1, 'бинанс': 1, 'фиатные': 1, 'выводить': 1, 'прозрачно': 1, 'блокировал': 1, 'Копии': 1, 'приобщили': 1, 'отошло': 1, 'гражданинка': 1, 'Кыргызской': 1, 'ускоренной': 1, 'пропадает': 1, 'Изредка': 1, 'надышал': 1, 'Отвели': 1, '0.42': 1, 'промилле': 1, 'разъяснил': 1, 'Составляется': 1, 'Ленинграде': 1, 'заявителя': 1, 'визе': 1, 'истечением': 1, 'закредитованности': 1, 'выпускница': 1, 'Кадры': 1, 'желают': 1, 'отгульные': 1, 'морякам': 1, 'отгуливайте': 1, 'Рейс': 1, 'пособии': 1, 'близнецов': 1, 'ЗПР': 1, 'невролога': 1, 'Иных': 1, 'ездим': 1, 'развивающие': 1, 'по-разному': 1, 'родами': 1, 'доучив': 1, 'отспук': 1, 'объявленные': 1, 'указом': 1, 'нерабочие': 1, 'невыхода': 1, 'выкупом': 1, 'Арендаторы': 1, 'переделали': 1, 'переделываю': 1, 'отсрочивают': 1, 'шифер': 1, 'перебили': 1, 'кирпичом': 1, 'востановят': 1, 'комитетом': 1, 'неисполнения': 1, 'трудоустройству': 1, 'двукратном': 1, 'Меры': 1, 'стипендии': 1, 'комитету': 1, 'потраченные': 1, 'нынешней': 1, 'обращаются': 1, 'ИО': 1, 'Являются': 1, 'мошенническими': 1, 'ряду': 1, 'существующих': 1, 'усложнив': 1, 'Личный': 1, 'терминал': 1, 'Связной': 1, 'нерегулярна': 1, 'технической': 1, 'неустойчивости': 1, 'маленьком': 1, 'Во-вторых': 1, 'каникулах': 1, 'представлялось': 1, 'добраться': 1, 'расторг': 1, 'перечисленного': 1, 'употребляющий': 1, 'Разводиться': 1, 'изготовлением': 1, 'партнерами': 1, 'обьясняя': 1, 'изготовлению': 1, 'Отдельным': 1, 'выполение': 1, 'ДМС': 1, 'описано': 1, 'Пострадавших': 1, 'тайне': 1, 'нормативную': 1, 'поругал': 1, 'сказанного': 1, 'ПРИБУДУ': 1, 'ВЫ': 1, 'ПОСОВЕТУЕТЕ': 1, '10.04.2021': 1, 'двойней': 1, 'Взять': 1, 'возьмём': 1, 'Амурская': 1, 'Свободный': 1, 'Зарегистрировалась': 1, 'студенческие': 1, 'БИК': 1, 'самозанятого': 1, 'Делая': 1, 'УВЕДОМЛЕНИЕ': 1, 'Настоящим': 1, 'извещаем': 1, 'Соглашение': 1, 'доработки': 1, 'доработок': 1, 'файлам': 1, 'самых': 1, 'север': 1, 'оговаривалось': 1, 'узбека': 1, 'каждое': 1, 'реального': 1, 'административных': 1, 'смягчающим': 1, 'обстоятельством': 1, 'некоторыми': 1, 'исключениями': 1, 'погашенных': 1, 'судимостью': 1, 'имеющим': 1, 'услышать': 1, 'прописаной': 1, 'обналичили': 1, 'маткапиталом': 1, 'обналичивали': 1, 'близкого': 1, '205.2': 1, 'призывал': 1, 'Биржа': 1, 'отчитывается': 1, 'двойного': 1, 'видах': 1, 'Иные': 1, 'застройки': 1, 'размытые': 1, 'Точнее': 1, 'исполню': 1, 'ТОГДА': 1, 'ПОДАТЬ': 1, 'УПЛАТУ': 1, 'АЛИМЕНТОВ': 1, 'ДАТЫ': 1, 'РОЖДЕНИЯ': 1, 'РЕБЕНКА': 1, 'Попытки': 1, 'уговорить': 1, 'предпринимались': 1, 'путинское': 1, 'Удерживаются': 1, 'путинской': 1, 'работающим': 1, 'ковидных': 1, 'Неофициальный': 1, '200-300': 1, 'Официальный': 1, 'траты': 1, 'немаленький': 1, 'быстрых': 1, 'темпах': 1, 'тратили': 1, 'посёлок': 1, 'молодые': 1, 'восстановим': 1, 'огороженный': 1, 'простят': 1, 'Продажу': 1, 'исключаю': 1, 'счётчику': 1, 'печное': 1, 'упк': 1, 'папина': 1, 'опасаюсь': 1, 'противопрвные': 1, 'представила': 1, 'признанием': 1, 'записей': 1, 'оставлял': 1, 'перевезти': 1, 'нормальный': 1, 'Свидетели': 1, 'кп': 1, 'понудил': 1, 'невыгодно': 1, 'сдержал': 1, 'повесил': 1, 'минимальные': 1, 'отобрал': 1, 'избавления': 1, 'путями': 1, 'отложенных': 1, 'опубликованном': 1, 'ответах': 1, 'посоветовали': 1, 'кормящая': 1, 'родившая': 1, 'позиция': 1, 'грудной': 1, 'вайбере': 1, 'сделкой': 1, 'словесно': 1, 'гарантировал': 1, 'глухом': 1, 'минимальным': 1, 'парковочных': 1, 'Привозили': 1, 'соленья-варенья': 1, 'тяжёлые': 1, 'заблокировать': 1, 'поспешно': 1, 'спустилась': 1, 'агрессивно': 1, 'выключала': 1, 'принялся': 1, 'лексики': 1, 'высказывать': 1, 'ударит': 1, 'проколет': 1, 'выбьет': 1, 'разукрасит': 1, 'Мимо': 1, 'неуважение': 1, 'последовала': 1, 'подъезду': 1, 'ходом': 1, 'двигаться': 1, 'переставлять': 1, 'побежала': 1, 'целостности': 1, 'разгоняться': 1, 'тормозить': 1, 'ног': 1, 'задела': 1, 'отчётливо': 1, 'отъезжать': 1, 'парковочного': 1, 'высказал': 1, 'намерений': 1, 'повредить': 1, 'задавить': 1, 'пешехода': 1, 'дворовой': 1, 'Утверждая': 1, 'средва': 1, 'Оформлением': 1, 'Произошел': 1, 'расставание': 1, 'ТЕПЕРЬ': 1, 'ОН': 1, 'ТРЕБУЕТ': 1, 'ЧТОБЫ': 1, 'ПОДПИСАЛА': 1, 'НОТАРИУСА': 1, 'ДОГОВОР': 1, 'ТОМ': 1, 'ПОЛОВИНА': 1, 'КВАРТИРЫ': 1, 'подобном': 1, 'агрессивен': 1, 'ненадежен': 1, 'подл': 1, 'манипулировать': 1, 'МОЙ': 1, 'ОТКАЗ': 1, 'УГРОЖАЕТ': 1, 'ПОДАСТ': 1, 'СУД': 1, 'ПОДДЕЛКУ': 1, 'ДОКУМЕНТОВ': 1, 'значится': 1, 'сообщит': 1, 'риэлтору': 1, 'продавали': 1, '325000': 1, '95000': 1, '230000': 1, 'фиктивности': 1, 'указание': 1, 'фиктивной': 1, 'Дд': 1, 'реестровую': 1, 'Случился': 1, 'будил': 1, 'просыпался': 1, 'тяжёлый': 1, 'мочевого': 1, 'пузыря': 1, 'стс': 1, 'Хозяйка': 1, 'Четыре': 1, 'деревянный': 1, '1963': 1, 'обшивкой': 1, 'Сильно': 1, '23.03.21': 1, '05.04.21': 1, 'начислила': 1, '3/3': 1, 'ManeyMan': 1, 'Началось': 1, 'покрылся': 1, 'повесив': 1, 'Пыталась': 1, 'Обсуждая': 1, 'грубейщей': 1, 'занимайте': 1, 'делайте': 1, 'террорезировать': 1, 'оформлялся': 1, 'присутствию': 1, 'Возможности': 1, '1-комнатная': 1, 'неосторожность': 1, 'отслужив': 1, 'бюджетных': 1, 'Планировали': 1, 'Попали': 1, 'ущербом': 1, 'зашугали': 1, 'меняю': 1, 'вычете': 1, 'взаимозависимые': 1, 'сееодня': 1, 'выгнали': 1, 'опоздание': 1, 'звонком': 1, 'вещдоком': 1, 'конфискацию': 1, 'звучит': 1, 'кыргызстан': 1, 'улетать': 1, 'черный': 1, 'прикомандирован': 1, 'Южно-Сахалинске': 1, 'Итуруп': 1, 'устраивать': 1, 'повиной': 1, 'Кураторство': 1, 'закреплены': 1, 'отсутствуешь': 1, 'скрыты': 1, 'мирным': 1, 'Жену': 1, 'завал': 1, 'меняя': 1, 'Сидорова': 1, 'Сидоровой': 1, 'числиться': 1, 'Желательно': 1, 'аргументацией': 1, 'законами': 1, 'запросов': 1, 'Слив': 1, 'топит': 1, 'Физ': 1, 'дицо': 1, 'сдало': 1, 'арендатор': 1, 'прокатиться': 1, 'угон': 1, 'разбитое': 1, 'Устроиться': 1, '1800': 1, 'испольнительной': 1, 'соблюдаю': 1, 'Неуплата': 1, '1.800': 1, 'конституции': 1, 'противоречат': 1, 'испольнительную': 1, 'осужденым': 1, 'архивная': 1, 'архивным': 1, 'архивного': 1, 'похозяйственные': 1, '1980-1982': 1, 'проживавшего': 1, 'имевшего': 1, '0.90': 1, 'сыновьями': 1, 'дядями': 1, '0.60': 1, 'остальной': 1, '0.50': 1, 'Газпром': 1, 'газораспределение': 1, 'неприватизированной': 1, 'ВКГО': 1, 'ВДГО': 1, 'присылают': 1, 'актам': 1, 'сдачи-приёмки': 1, 'выставляются': 1, 'введя': 1, 'выставленные': 1, 'дополнительное': 1, 'Принимается': 1, 'двухмесячный': 1, 'Клинический': 1, 'сельскую': 1, 'Алтай': 1, 'отрицал': 1, '21.01.19': 1, 'Становились': 1, 'контролировали': 1, 'становились': 1, 'актуализации': 1, 'зачислять': 1, 'найме': 1, 'коммунальный': 1, 'накопили': 1, 'превратил': 1, 'пригодное': 1, 'испачкал': 1, 'краской': 1, 'хулиганские': 1, 'выходки': 1, 'учтут': 1, 'приглашает': 1, 'сезонную': 1, 'горничную': 1, 'православного': 1, 'вероисповедания': 1, 'уборке': 1, 'номерного': 1, 'дискриминацией': 1, 'религиозному': 1, 'признаку': 1, 'бешеным': 1, 'процентом': 1, 'Еогда': 1, 'перевелся': 1, 'диспансере': 1, 'закрытый': 1, 'оформляюсь': 1, 'оформит': 1, 'поделит': 1, 'тропинку': 1, 'давалась': 1, 'рождены': 1, '3.03.21': 1, 'нефтяном': 1, 'месторождении': 1, '24.04.21': 1, '6.04.21': 1, 'плеча': 1, 'Местный': 1, 'травматологу': 1, '10.04.21': 1, 'выписав': 1, 'получивших': 1, '4.08.2014': 1, 'сообщаем': 1, 'приобретшими': 1, 'имеющими': 1, 'Румынии': 1, 'миграционную': 1, 'введен': 1, 'разделом': 1, 'круглым': 1, 'прописанным': 1, 'доме-памятнике': 1, '1870': 1, '1989': 1, 'Аварийным': 1, 'Сегежский': 1, 'ЦБК': 1, 'медкомиссия': 1, 'глухоты': 1, 'правого': 1, 'уха': 1, 'лору': 1, 'сантехником': 1, 'Комбинате': 1, 'погреб': 1, 'многоэтажного': 1, 'переодеваюсь': 1, 'кушаю': 1, 'перемещении': 1, 'Высчитывали': 1, '20800': 1, '21000-22000': 1, 'созвона': 1, 'зуме': 1, 'звука': 1, 'трансляции': 1, 'шуток': 1, 'демонстрировались': 1, 'порнографические': 1, 'возмутили': 1, 'затронули': 1, 'морально-этические': 1, 'чувства': 1, 'втянуть': 1, 'сомнительные': 1, 'сходные': 1, 'пирамидой': 1, 'кэшбека': 1, 'посмотрев': 1, 'ссылке': 1, 'ознакомившись': 1, 'документацией': 1, 'споры': 1, 'евро': 1, 'неустойками': 1, '44285': 1, 'Оплачен': 1, 'Вашего': 1, 'дублироваться': 1, 'ящикЕсли': 1, 'заказом': 1, 'бесплатному': 1, '533-95-91': 1, 'пришо': 1, '02.04.21': 1, 'office': 1, 'ozaris': 1, 'взаимного': 1, 'невыход': 1, 'донести': 1, 'неблагоприятных': 1, 'скидывает': 1, 'месяцу': 1, 'связанный': 1, 'рукам': 1, 'вписала': 1, 'Детские': 1, 'материнскому': 1, 'капиталу': 1, 'отмена': 1, 'распространенный': 1, 'Lineage': 1, 'Essence': 1, 'вложено': 1, 'крадут': 1, 'удаленный': 1, 'пожизненно': 1, 'Многочисленные': 1, 'просьба': 1, 'прокомментированы': 1, 'объяснены': 1, 'заинтересует': 1, 'компетентно': 1, 'оплат': 1, 'неопрятного': 1, 'разговаривал': 1, 'хамил': 1, 'Отказался': 1, 'Хочется': 1, 'допросом': 1, 'наличных': 1, 'обременении': 1, 'покупателю': 1, 'опечатать': 1, 'идею': 1, 'промоутеры': 1, 'раздают': 1, 'листовки': 1, 'рекламой': 1, 'Раздавать': 1, 'листвоки': 1, 'зарабатываю': 1, 'копеечку': 1, 'рефералов': 1, 'пообщавшись': 1, 'рекламировать-': 1, 'настоящих': 1, 'погашать': 1, 'Начисляются': 1, 'превышением': 1, 'пересекал': 1, 'регулируемый': 1, 'разрешающий': 1, 'привышением': 1, 'учасник': 1, 'запрещающий': 1, 'поворачивая': 1, 'остоновился': 1, 'перегородив': 1, 'дордгу': 1, 'Уходя': 1, 'фару': 1, 'скольз': 1, 'задней': 1, 'часттю': 1, 'влетел': 1, 'столб': 1, 'слава': 1, '13.03.2021': 1, 'подкладка': 1, 'расходится': 1, 'швам': 1, 'надето': 1, 'сменены': 1, 'Приглашают': 1, 'менял': 1, 'стопорится': 1, 'ЛПХ': 1, 'аукциона': 1, 'реабмлитационном': 1, 'перемирии': 1, 'восстановится': 1, 'уведомило': 1, 'планерке': 1, 'велели': 1, 'настаивают': 1, 'прогулом': 1, 'Оформлены': 1, 'Спор': 1, 'торговец': 1, 'ЗПП': 1, 'заявлен': 1, 'заявит': 1, 'утрачено': 1, 'подарено': 1, 'погибло': 1, 'убито': 1, 'недоношка': 1, 'родившегося': 1, 'зяти': 1, 'заботы': 1, 'мыслит': 1, 'благоразумно': 1, 'дееспособным': 1, 'достигшего': 1, 'Разведен': 1, 'освоения': 1, 'установленные': 1, 'размерах': 1, 'топливу': 1, 'Урала': 1, 'Киров': 1, 'Калужская': 1, 'тёще': 1, 'вял': 1, 'закончились': 1, 'передают': 1, 'ломать': 1, 'коронки': 1, 'потеряли': 1, 'лечиться': 1, 'ТМК': 1, '1400': 1, 'деньУ': 1, 'СЕТЬ': 1, 'СВЯЗНОЙ': 1, 'МЧСе': 1, 'проезды': 1, 'присоединяется': 1, 'загребенном': 1, 'впишу': 1, 'расписана': 1, 'принудительнл': 1, 'дар': 1, 'замужества': 1, 'подаренную': 1, 'добавляет': 1, 'Получать': 1, 'заказывал': 1, 'матерей': 1, 'Обоим': 1, 'шестая': 1, 'Эос': 1, 'правоприемничества': 1, 'Альфа-Банк': 1, 'Переводы': 1, 'криптовалют': 1, 'инвестирования': 1, 'заражение': 1, 'диагностики': 1, 'Мазок': 1, 'положительный': 1, 'определенным': 1, 'имевшим': 1, 'сложный': 1, 'шиться': 1, 'офорлять': 1, 'таможня': 1, 'выпустит': 1, 'партию': 1, 'опредилении': 1, 'Припятствий': 1, 'ухать': 1, 'правильный': 1, 'локальный': 1, 'висела': 1, '1996': 1, 'мачехой': 1, 'Ответственный': 1, 'квартиросъемщик': 1, 'мачеха': 1, 'вражде': 1, 'секта': 1, 'годе': 1, 'ен': 1, 'хочем': 1, 'выжить': 1, 'вообщем': 1, 'онкологии': 1, 'жилотделе': 1, 'убедительное': 1, 'напрочь': 1, 'нарушить': 1, 'помрет': 1, 'придете': 1, 'оформите': 1, 'газу': 1, 'тупик': 1, 'переоформят': 1, 'Переживаю': 1, 'Больная': 1, 'благодарная': 1, 'дельные': 1, 'продолжаемое': 1, 'удаления': 1, '7-8': 1, 'тронут': 1, '6.1': 1, 'совершении': 1, 'публичных': 1, 'призывов': 1, 'экстремистской': 1, 'рассылки': 1, 'абонентам': 1, 'мобильной': 1, 'электронных': 1, 'оконченным': 1, 'обращений': 1, 'форумах': 1, 'блогах': 1, 'Нахамила': 1, 'бросила': 1, 'выполняли': 1, 'откуда-то': 1, 'скопировано': 1, 'прочтении': 1, 'большинство': 1, 'сидели': 1, 'меняют': 1, 'Ребенка': 1, 'переписывают': 1, 'документальный': 1, 'автозапчастей': 1, 'Картина': 1, 'повсеместная': 1, 'изготовления': 1, 'устанавливают': 1, 'шлют': 1, 'лесом': 1, 'вполне': 1, 'адекватны': 1, 'отступление': 1, 'датчик': 1, 'кислорода': 1, 'BOSCH': 1, 'пробега': 1, 'провалы': 1, 'Bosch': 1, 'деффектовки': 1, 'чудесный': 1, 'официальными': 1, 'статьями': 1, 'накопившихся': 1, '23.03.2021': 1, '6900': 1, 'информировали': 1, 'четырнадцатилетнего': 1, 'отбывание': 1, 'отсрочено': 1, 'уголовно-исполнительной': 1, 'имеющей': 1, 'четырнадцати': 1, 'освобождением': 1, 'снятием': 1, 'обговорила': 1, 'возможная': 1, 'разъясниться': 1, 'Секретарь': 1, 'Ходатайство': 1, '397': 1, '124000': 1, 'Явка': 1, 'Заемщик': 1, 'трудосустроен': 1, '31.12.2021': 1, 'обладаю': 1, 'заветных': 1, 'районная': 1, 'капремонта': 1, 'частичная': 1, 'Районная': 1, 'чугунолитейном': 1, 'вагоноремонтный': 1, 'колодку': 1, 'локомотивах': 1, 'подвижных': 1, 'составов': 1, 'допуска': 1, 'нарядов': 1, 'ЛВРЗ': 1, 'бытовке': 1, 'администратором': 1, 'продовольственных': 1, 'супермаркет': 1, 'продавцам-кассирам': 1, 'уборщице': 1, 'обеспечены': 1, 'форменной': 1, 'одеждой': 1, 'нетрудоспособный': 1, 'наследникам': 1, '3-я': 1, 'искусственная': 1, 'дубленка': 1, '20.11.20': 1, '12000,': 1, '19.03.21': 1, 'потрескалась': 1, 'сезон': 1, 'приватизированный': 1, 'пожаре': 1, 'несуществующего': 1, 'сгоревшего': 1, 'собственник-бывший': 1, 'сестрёнку': 1, 'бьет': 1, 'Йошкар-Оле': 1, 'Чувашии': 1, 'кому-нибудь': 1, 'Ночью': 1, 'долбиться': 1, 'Этим': 1, 'напугала': 1, 'стуков': 1, 'установка': 1, 'заполнили': 1, '1790': 1, 'бесплатная': 1, 'упрощенным': 1, 'борьбе': 1, 'высчитали': 1, 'музыки': 1, 'тарификацию': 1, '2021-2122': 1, 'уч': 1, 'Сноха': 1, 'Снимает': 1, 'шестеро': 1, 'совместителю': 1, 'работающему': 1, 'доктора': 1, 'оклеветала': 1, 'дергают': 1, 'алкоголю': 1, 'приемную': 1, 'губернатора': 1, 'ХМао': 1, 'освобождать': 1, 'Вотсапе': 1, 'прочёл': 1, 'осторожно': 1, 'отнёсся': 1, 'раскается': 1, 'Новосибирск': 1, 'Тюрьмой': 1, 'Штрафом': 1, 'слышит': 1, 'попользоваться': 1, 'лишний': 1, 'разобьют': 1, 'разбили': 1, 'порче': 1, 'готовимся': 1, 'рождению': 1, 'запишем': 1, 'жилищном': 1, 'комитете': 1, 'автомобильного': 1, 'коллективной': 1, 'максимальным': 1, 'аргументируется': 1, 'половине': 1, 'бралась': 1, 'обращайтесь': 1, 'переправляются': 1, 'Кировский': 1, 'Томска': 1, 'центру': 1, 'Областной': 1, 'тянется': 1, 'операционной': 1, 'тачпад': 1, 'программно': 1, 'сформулировать': 1, 'аналогичную': 1, 'отзывам': 1, 'распространяться': 1, 'блоки': 1, 'узлы': 1, 'колена': 1, 'генетическое': 1, 'образуются': 1, 'коленях': 1, 'наросты': 1, 'мешали': 1, 'движениям': 1, 'суставам': 1, 'освободят': 1, 'Наросты': 1, 'организм': 1, 'Отсрочки': 1, 'вылетала': 1, 'летала': 1, 'отдыхать': 1, 'инвентаризация': 1, '128000': 1, 'недостачей': 1, 'ознакомлены': 1, 'увольняемся': 1, 'Интернет-магазин': 1, 'качественного': 1, 'сломавшегося': 1, 'ремонтопригодности': 1, 'ремонтную': 1, 'мастерскую': 1, 'интернет-магазина': 1, 'обеденного': 1, 'прежняя': 1, '2019-2020': 1, 'ликвидировалась': 1, '2-НДФЛ': 1, '2019,2020': 1, 'оператор-топогеодезист': 1, 'СНАР-10': 1, '727': 1, 'особые': 1, 'УФО': 1, 'изделия': 1, 'Покупка': 1, 'канал': 1, 'распространитель': 1, 'вымогать': 1, 'присланные': 1, 'продышался': 1, '0.18': 1, 'независимой': 1, 'Обжаловал': 1, 'адвокатом': 1, 'приготовил': 1, 'Карелию': 1, 'Краснодара': 1, 'Северного': 1, 'Трудоустроился': 1, 'половом': 1, 'романтического': 1, 'полночь': 1, 'затапливаем': 1, 'санузле': 1, 'сухо': 1, 'спустился': 1, 'провис': 1, 'натяжной': 1, 'аварийную': 1, 'поднялись': 1, 'осмотрели': 1, 'крохотную': 1, 'лужицу': 1, 'натекло': 1, 'Лужица': 1, 'грамм': 1, 'Аварийники': 1, 'спустились': 1, 'отовсюду': 1, 'хлещет': 1, 'Общаться': 1, 'потопа': 1, 'непричастность': 1, 'Акта': 1, 'дополнена': 1, 'фразой': 1, 'признаком': 1, 'индивидуально': 1, 'окрашенное': 1, 'эмоциональное': 1, 'содержащее': 1, 'неподтвержденную': 1, 'предполагаемых': 1, 'построенных': 1, 'домыслах': 1, 'мнении': 1, 'беседе': 1, 'подруг': 1, 'публичности': 1, 'использовано': 1, 'допустившего': 1, 'аудиозаписи': 1, 'доведение': 1, 'прилегающим': 1, 'садовые': 1, 'ножницы': 1, 'поработав': 1, 'сломались': 1, 'ручки': 1, 'возрат': 1, 'счётом': 1, 'РОСБАНК': 1, 'Столичная': 1, 'Сервисная': 1, '560': 1, 'РОСБАНКа': 1, '474': 1, 'замещение': 1, 'недостающих': 1, 'Штат': 1, 'укомплектован': 1, 'обычному': 1, 'отговорки': 1, 'Настаивать': 1, 'терять': 1, 'поджимает': 1, 'проценту': 1, '18.06.2018': 1, 'Предприятием': 1, 'Работником': 1, 'основным': 1, 'Нормированный': 1, 'пятидневная': 1, 'штатным': 1, 'уральский': 1, 'должностная': 1, 'расчетных': 1, 'листах': 1, 'выдаваемые': 1, 'Нарушены': 1, 'начислялась': 1, 'рождением': 1, 'Апелляционным': 1, 'возложена': 1, 'производствам': 1, 'находящимся': 1, 'озвучили': 1, 'выдаются': 1, 'физиков': 1, '04.03.2021': 1, 'Исп': 1, 'незаконными': 1, 'разъяснению': 1, 'Минобрнауки': 1, '845': 1, 'Минпросвещения': 1, '369': 1, '30.07.2020': 1, 'ученик': 1, 'изменила': 1, 'Всех': 1, 'препятствования': 1, 'попрекает': 1, 'дочерям': 1, 'курортном': 1, 'разъяснив': 1, '67000': 1, 'контактную': 1, 'освобождаюсь': 1, 'увольнительной': 1, 'запиской': 1, 'отменно': 1, 'бывать': 1, '112,': 1, '145': 1, 'трудо-устроин': 1, 'участкого': 1, 'реальное': 1, 'Особый': 1, 'льзя': 1, 'тяжкая': 1, 'смягчения': 1, 'вывезла': 1, 'Приобрел': 1, 'бу': 1, 'Придя': 1, 'торчит': 1, 'клей': 1, 'контуру': 1, 'юлить': 1, 'попыталась': 1, 'обнаружить': 1, 'свернуть': 1, 'парней': 1, 'страха': 1, 'помешает': 1, 'расквитаться': 1, 'Осмотр': 1, 'проводился': 1, 'медиком': 1, 'Задержали': 1, 'путевом': 1, 'стояло': 1, 'сообщат': 1, 'живом': 1, 'муже': 1, 'местность': 1, 'угасал': 1, 'вырученную': 1, 'выселяют': 1, 'испорченная': 1, '08.2020': 1, 'силе': 1, 'Составили': 1, 'квалифицировать': 1, 'повторность': 1, 'Али': 1, 'документи': 1, 'поедем': 1, 'обращением': 1, 'ГАС': 1, 'Правосудие': 1, 'Трудовое': 1, 'мигрантом': 1, 'трудовое': 1, 'легально': 1, 'мигранта': 1, 'индивидуальное': 1, 'принадлежащую': 1, 'Фирма': 1, 'Отдал': 1, 'пары': 1, 'неисправна': 1, 'непригодна': 1, 'неисправную': 1, 'открещивается': 1, 'задокументировать': 1, '25.02.21': 1, 'Зайдя': 1, 'помазав': 1, 'кремом': 1, 'ушиба': 1, 'узи': 1, 'мениска': 1, 'зарегистрированный': 1, 'Обременений': 1, 'найдено': 1, 'низкого': 1, 'переносите': 1, 'сносите': 1, 'покрыл': 1, 'вразумительного': 1, 'расселением': 1, 'власть': 1, 'выесняется': 1, 'залоговый': 1, 'интенсивности': 1, 'настроен': 1, 'трудоустроенный': 1, 'запасной': 1, 'Родственник': 1, 'перечисляю': 1, 'Пишит': 1, 'оскорблениями': 1, 'Просрочек': 1, 'допускаю': 1, 'Смысл': 1, 'предоставило': 1, 'относилась': 1, 'РФимеет': 1, '18-летний': 1, 'беретесь': 1, 'высосав': 1, 'несуществующую': 1, 'слабое': 1, 'способно': 1, 'наличием': 1, '-он': 1, 'военнообязанным': 1, 'освобождают': 1, 'служьы': 1, 'повинности': 1, 'глючить': 1, 'Произведён': 1, 'Забрала': 1, 'провалилась': 1, 'муниципалитете': 1, 'разрушение': 1, 'разрушенной': 1, 'крышей': 1, 'разрушаться': 1, 'муниципалитета': 1, 'ухаживает': 1, 'возрасло': 1, 'заём': 1, '0,997': 1, 'отчислении': 1, '402': 1, 'ПОДЕЛИТЕСЬ': 1, 'Сошлись': 1, 'установлением': 1, 'рожала': 1, 'красивая': 1, 'аварийная': 1, 'вызывалась': 1, 'расписания': 1, 'формил': 1, 'Приставом': 1, 'увенчались': 1, 'успехом': 1, 'Подкажите': 1, 'ремонтируют': 1, 'электрика': 1, 'строительному': 1, 'понятны': 1, 'Слесарь': 1, 'наладчик': 1, 'Лежит': 1, 'везти': 1, 'турбину': 1, 'механическое': 1, 'запчастью': 1, 'непригодность': 1, 'Сервисный': 1, 'вариантов': 1, 'плашмя': 1, 'чехле': 1, 'защитным': 1, 'стеклом': 1, 'целым': 1, 'меняла': 1, 'заменой': 1, 'починили': 1, 'починки': 1, 'выполняем': 1, 'ретушь': 1, 'гравировальных': 1, 'Ретушь': 1, 'особенным': 1, 'нестандартным': 1, 'мастерами': 1, 'интеллектуальной': 1, 'обработки': 1, 'скачанных': 1, 'композицию': 1, 'эскиз': 1, 'склоняюсь': 1, 'композиция': 1, 'налоговым': 1, 'уплачиваю': 1, 'розл': 1, 'парфюмерии': 1, 'Обвиняет': 1, 'заступления': 1, 'приступили': 1, 'недостаче': 1, '1.01.21': 1, '20.01.21': 1, 'прямые': 1, 'Выждать': 1, 'отводится': 1, 'общеизвестности': 1, 'общеизвестным': 1, 'существование': 1, '555': 1, 'Долги': 1, 'успевает': 1, 'автомобильном': 1, 'специальный': 1, 'БДД': 1, '201': 1, 'преференции': 1, 'заморочки': 1, 'купля-продажа': 1, 'вдовец': 1, '71': 1, 'Составил': 1, 'Живет': 1, 'взрослому': 1, 'составленное': 1, 'наследственные': 1, 'раком': 1, 'молочной': 1, 'железы': 1, 'сократились': 1, 'долечиться': 1, 'тяжелобольной': 1, 'Украинский': 1, 'Готова': 1, 'Общедолевая': 1, 'перемерзает': 1, 'несвоевременное': 1, 'связывался': 1, 'оскорбили': 1, 'тик': 1, 'ток': 1, 'Цитирую': 1, 'mama🆗from🥀kanava😏': 1, 'канаве': 1, 'апартаментов': 1, 'недостроенном': 1, 'воровство': 1, 'текущие': 1, 'уточнять': 1, 'Спросила': 1, 'Ярославлю': 1, 'перерегистрировать': 1, 'перераспределением': 1, 'выделена': 1, 'выделением': 1, 'примет': 1, 'направит': 1, 'Застройщик': 1, 'потребленную': 1, 'обогрев': 1, 'вышеописанной': 1, 'этом-же': 1, 'авар': 1, 'Доме': 1, 'Состояние': 1, 'критическое': 1, 'имеющееся': 1, 'вторичное': 1, 'маневренное': 1, 'Переехать': 1, 'автобусами': 1, 'Билеты': 1, 'ножей': 1, 'кроватка': 1, 'икона': 1, 'покупались': 1, 'наврать': 1, 'выглядят': 1, 'съëмной': 1, 'упрекает': 1, 'куском': 1, 'хлеба': 1, 'избила': 1, 'сдохла': 1, 'умереть': 1, 'Скажи': 1, 'плать': 1, 'парковка': 1, 'унаследован': 1, 'Наследники': 1, 'отступ': 1, 'метр': 1, 'Нотариальный': 1, 'бабули': 1, 'подучил': 1, 'ножевое': 1, 'ранение': 1, 'грудь': 1, 'проникающее': 1, 'желудочек': 1, 'диафрагмы': 1, 'печени': 1, 'оказывал': 1, 'Поступали': 1, 'поливает': 1, 'грязью': 1, 'Неоднократные': 1, 'подписки': 1, 'обидчику': 1, 'общедомовое': 1, 'ЖКО': 1, 'нечистоты': 1, 'вытекают': 1, 'допуская': 1, 'переквалифицирован': 1, 'вывозу': 1, 'регионально': 1, 'федеральном': 1, 'матерям-одиночкам': 1, 'малоимущим': 1, 'календарной': 1, 'постоянным': 1, 'Попытался': 1, 'нуждающийся': 1, 'считаюсь': 1, 'обеспеченным': 1, 'приобретался': 1, 'военнослужащих': 1, 'Просидел': 1, '7.5': 1, 'домашним': 1, 'арестом': 1, 'ограничениями': 1, 'долбит': 1, 'Общался': 1, 'тел': 1, 'достигший': 1, 'самообслуживания': 1, 'вытащил': 1, 'тележки': 1, 'дошел': 1, 'ek': 1, 'мотором': 1, 'd': 1, 'доказал': 1, 'сходив': 1, 'местное': 1, 'мрэо': 1, '1995': 1, 'Установление': 1, 'Загсе': 1, 'девичьей': 1, 'Предусмотрено': 1, 'гербовой': 1, 'Факт': 1, 'претендую': 1, 'начислено': 1, 'вычислять': 1, 'Провожу': 1, 'испытания': 1, 'ИИИ': 1, 'Cs': 1, 'Америций': 1, '241': 1, 'берилий': 1, 'присваивают': 1, 'заполнения': 1, 'выбить': 1, 'Дополнительные': 1, 'прощения': 1, 'нескромный': 1, 'скачивания': 1, 'демонстрировать': 1, 'Публичная': 1, 'рекламирование': 1, 'порнографических': 1, 'Непонятен': 1, 'термин': 1, 'поискав': 1, 'тему': 1, 'подчиненного': 1, 'подчиненному': 1, 'подделала': 1, 'УВД': 1, 'городка': 1, 'скрыли': 1, 'основаниисвидетельства': 1, 'еедочери': 1, 'Сделав': 1, 'фальшивое': 1, 'изменив': 1, 'немфамилию': 1, 'бракаТак': 1, 'фальшивый': 1, 'признаны': 1, 'ничтожными': 1, 'Нужны': 1, 'золотая': 1, 'мозаика': 1, 'арестуют': 1, 'загсе': 1, 'списанное': 1, 'безрезультатно': 1, 'исполняющей': 1, '11.01.21': 1, 'захотят': 1, 'ресселере': 1, 'РСТ': 1, 'Ростест': 1, 'евротест': 1, 'Звоня': 1, 'вашем': 1, 'сертифицированных': 1, 'просрочили': 1, 'стиральной': 1, 'дорогого': 1, 'полноценных': 1, 'балконах': 1, 'металлические': 1, 'перегородки': 1, 'Чисто': 1, 'застеклять': 1, 'касающуюся': 1, 'перегородку': 1, 'расчётам': 1, 'Тинькоф': 1, 'Фениксу': 1, 'приемопользовании': 1, 'прибавку': 1, 'подзаработать': 1, 'инвестиционный': 1, 'поторговать': 1, 'криптовалютной': 1, 'выводе': 1, 'опазданием': 1, 'опаздание': 1, 'перевязку': 1, 'инфекцией': 1, 'лечить': 1, 'производиться': 1, 'вычесть': 1, 'квартирами': 1, 'внебрачному': 1, 'несовершеннолетнему': 1, 'Покупал': 1, 'склада': 1, 'осматривал': 1, 'осмотреть': 1, 'достали': 1, 'разбитым': 1, 'Коробка': 1, '15.04.2021': 1, 'секретаря-руководителя': 1, 'предложенной': 1, 'экономиста': 1, 'исключение': 1, 'кварплату': 1, 'согласованной': 1, 'Бельгии': 1, 'Консульство': 1, 'нотариату': 1, 'просрочить': 1, 'красоты': 1, 'гель': 1, 'лака': 1, 'отработкой': 1, 'Работать': 1, 'подтвердят': 1, 'заинтересованные': 1, 'одолжил': 1, 'играть': 1, 'развивала': 1, 'персонажа': 1, 'аккаунте': 1, 'Согласия': 1, 'предъявлений': 1, 'наплевать': 1, 'спокойной': 1, 'заходил': 1, 'войти': 1, 'забанил': 1, 'маил': 1, 'частый': 1, 'ip': 1, 'посовещались': 1, 'взлом': 1, 'дееспособность': 1, 'Выбрали': 1, 'подключенных': 1, 'имеющих': 1, 'провайдер': 1, 'домами': 1, 'Дозвонились': 1, 'сообщено': 1, 'ноль': 1, 'формальный': 1, 'председателя': 1, 'подписалась': 1, 'декретницы': 1, 'сохранятся': 1, 'удаленное': 1, 'иностранцами': 1, 'ЕС': 1, 'являясь': 1, 'перфоратор': 1, 'уверив': 1, 'реакции': 1, 'медик': 1, 'заразился': 1, 'Выплатят': 1, 'контактный': 1, 'поста': 1, 'воровка': 1, 'низу': 1, 'помогаем': 1, 'разослал': 1, 'дыбом': 1, 'становятся': 1, 'предоставьте': 1, 'передадим': 1, 'проверим': 1, 'докажите': 1, 'погрузочной': 1, 'наехал': 1, 'голени': 1, 'неправда': 1, 'дополнительны': 1, 'платном': 1, 'нанесенной': 1, 'затраченные': 1, 'изделий': 1, 'достала': 1, 'полке': 1, 'шкаф': 1, 'ударило': 1, 'острым': 1, 'лбу': 1, 'верхней': 1, 'Мгновенно': 1, 'гематома': 1, 'Голова': 1, 'кружилась': 1, 'тошнило': 1, 'координация': 1, 'Кира': 1, 'запоминает': 1, 'показание': 1, 'кредитн': 1, 'Звонки': 1, 'пресечь': 1, 'мозговой': 1, 'штурм': 1, 'круга': 1, 'погашению': 1, 'встречалась': 1, 'заезд': 1, 'Заезд': 1, 'канаву': 1, 'печного': 1, 'деревянном': 1, 'захватил': 1, 'Выгнать': 1, 'подвалом': 1, 'посиделок': 1, 'гсм': 1, 'перфоратора': 1, 'субботам': 1, 'резки': 1, 'сваркой': 1, '30.01.2021': 1, 'сварочные': 1, 'выскочили': 1, 'воняло': 1, 'гарью': 1, 'вологодской': 1, 'Играю': 1, 'разработчики': 1, 'уровней': 1, 'прошедших': 1, 'столкнулись': 1, 'выигрыша': 1, 'обвинили': 1, 'взломе': 1, 'невиновности': 1, 'договор-гарантия': 1, 'возвращайте': 1, 'опустились': 1, 'приходи': 1, 'опорку': 1, 'благодаря': 1, 'отпустил': 1, 'пригрозив': 1, 'ели': 1, 'злодей': 1, 'уделенное': 1, 'Обвиняемому': 1, 'привязана': 1, 'нанесёт': 1, 'психологический': 1, 'занести': 1, 'вахтовиков': 1, 'навес-козырек': 1, 'дорожка': 1, 'снегу': 1, 'процессах': 1, 'Мог': 1, 'прописался': 1, 'сиротаЯ': 1, 'коррекционной': 1, 'Полгода': 1, 'стипендия': 1, 'слушатели': 1, 'вымышленной': 1, 'вымышленная': 1, 'рецепты': 1, 'гидазепам': 1, 'Проблем': 1, 'возникало': 1, 'уничтожаются': 1, 'Препараты': 1, 'использую': 1, 'Наткнулся': 1, 'прикрепленный': 1, 'описывается': 1, 'вымышленного': 1, 'пациента': 1, 'пациенту': 1, 'показан': 1, 'ПРИГОВОРА': 1, 'ПРИМЕРА': 1, 'ПРИКРЕПЛЕН': 1, 'сообщению': 1, 'отработке': 1, 'невыплатой': 1, 'детско-юношеской': 1, 'спортивной': 1, 'Произошёл': 1, 'чистке': 1, 'травматического': 1, 'биологическая': 1, 'материнство': 1, 'ад': 1, 'заботе': 1, 'несчастна': 1, 'Одной': 1, 'носителя': 1, 'русского': 1, '1987': 1, 'маткапу': 1, 'травме': 1, 'больничнего': 1, 'ренгент': 1, 'ребра': 1, 'газплиту': 1, 'гефест': 1, '3200-06': 1, 'нагревается': 1, 'горячая': 1, 'горячо': 1, 'гарнитура': 1, 'плитой': 1, 'подпортилась': 1, 'печёт': 1, 'температуре': 1, 'пирог': 1, 'готовиться': 1, 'плит': 1, 'марку': 1, 'автором': 1, 'заблокировано': 1, 'Вьетнама': 1, 'ютубом': 1, 'проставлен': 1, 'Страна': 1, 'UA': 1, 'встречного': 1, 'вьетнамца': 1, 'Гражанского': 1, 'прцессуального': 1, 'рассматриваться': 1, 'невидит': 1, 'Въетнаме': 1, 'международном': 1, 'Основания': 1, 'подсудности': 1, 'послужившее': 1, 'имело': 1, 'миру': 1, 'предусмотрели': 1, 'соглашением': 1, 'подсудность': 1, 'иностранным': 1, 'алиментом': 1, 'пользователи': 1, 'связывают': 1, 'Ютуб': 1, 'выступает': 1, 'задавая': 1, 'Испорчена': 1, 'Оплатили': 1, 'рассмотрено': 1, 'телепатов': 1, 'Просил': 1, 'гпк': 1, 'отложения': 1, 'просивший': 1, 'вторичному': 1, 'вызову': 1, 'гадать': 1, 'спецам': 1, 'оставления': 1, 'упустили': 1, 'направленное': 1, 'рассмотрение': 1, 'податься': 1, 'осужденным': 1, 'Родился': 1, 'откуплена': 1, 'авточапчастей': 1, 'эконимии': 1, 'холодный': 1, 'угловая': 1, 'Температура': 1, 'отключить': 1, 'Жилищном': 1, 'Кодексе': 1, 'юридический': 1, 'советской': 1, '1950-1960': 1, 'годов': 1, 'из-запоя': 1, 'бухают': 1, 'выносимая': 1, 'задохнуться': 1, 'вони': 1, 'побеседуют': 1, 'нольа': 1, 'нельзяу': 1, 'почки': 1, 'проблемные': 1, 'почками': 1, 'присмерти': 1, 'больничке': 1, 'хронический': 1, 'пиелонефрити': 1, 'Вариантов': 1, 'шататься': 1, 'Прямой': 1, 'мирный': 1, 'полицейским': 1, 'уговаривала': 1, 'зарег-но': 1, '1750': 1, '10600': 1, '52.500': 1, 'реорганизации': 1, 'определили': 1, 'проскочила': 1, 'льготных': 1, 'неделимого': 1, 'встречные': 1, 'провела': 1, 'далёком': 1, 'владела': 1, 'перечисляли': 1, 'Перечисления': 1, 'делаются': 1, 'Проверяю': 1, 'сайтам': 1, 'Обратился': 1, 'Таджикистане': 1, '17-ти': 1, 'Узбекистане': 1, '19.12.2014': 1, 'коллектору': 1, 'выиграл': 1, 'Коллектор': 1, '22.01.2021': 1, 'привод': 1, 'лет-питался': 1, 'злоупотреблять': 1, 'стройкой': 1, 'ведением': 1, 'пропивал': 1, 'неосновательном': 1, 'обогащении': 1, 'очухался': 1, 'совесть': 1, 'проснулась': 1, 'продумал': 1, 'обязывала': 1, 'добросовестном': 1, 'заблуждении': 1, 'жалости': 1, 'ел': 1, 'Закрыли': 1, 'Пенсионные': 1, 'сходили': 1, 'падал': 1, 'меньшим': 1, 'инвалид-колясочник': 1, 'нарушено': 1, 'вахтерша': 1, 'Второе': 1, 'разогнала': 1, 'комнатам': 1, 'подружками': 1, 'смотрела': 1, 'отдыхают': 1, 'мешаю': 1, 'созываю': 1, 'слышать': 1, 'статься': 1, 'самооборона': 1, 'погасили': 1, 'Обещает': 1, 'такие-то': 1, 'передумает': 1, 'лечу': 1, 'отработанных': 1, 'межвахта': 1, 'бригадиром': 1, 'утверждён': 1, 'Посольстве': 1, 'уполномочены': 1, 'Отправила': 1, 'соответствующие': 1, 'мы-ва': 1, 'СМС-уведомление': 1, 'конторы': 1, 'умалчиваю': 1, 'сообщаю': 1, 'запрашивают': 1, '07.01.2021': 1, 'затруднительно': 1, 'ВКС': 1, 'пробу': 1, 'слюны': 1, 'Переселяемся': 1, 'кладовщиком': 1, 'огромных': 1, 'количествах': 1, 'маслом': 1, 'грязную': 1, 'масляную': 1, 'непосредственное': 1, 'поштучно': 1, 'перечитывали': 1, 'вскрыть': 1, 'смазки': 1, 'кладовщиков': 1, 'инструкциях': 1, 'чёткого': 1, 'медосмотра': 1, 'раздражение': 1, 'зуд': 1, 'тряпочные': 1, 'перчатки': 1, 'кладовщикам': 1, 'мыло': 1, 'некачественное': 1, 'Выплатили': 1, 'посчитало': 1, 'проинформировать': 1, 'рубль': 1, 'программиста': 1, 'программа': 1, '-20.000': 1, 'Пробные': 1, 'версии': 1, 'правообладателей': 1, 'установлю': 1, 'суммарная': 1, 'превысит': 1, 'булет': 1, '146': 1, 'равна': 1, 'квалифицируется': 1, '7.12': 1, 'нейтрализации': 1, 'Верны': 1, 'Удастся': 1, 'обнулю': 1, 'пробный': 1, 'блокируется': 1, 'переустановив': 1, 'начисто': 1, 'взламывая': 1, 'продолжая': 1, 'переустанавливать': 1, 'создано': 1, 'нарушен': 1, 'Думаю': 1, 'нарушающая': 1, 'тщательно': 1, 'неполной': 1, 'законности': 1, 'Linux': 1, 'бесплатного': 1, 'трате': 1, 'Омчаке': 1, 'Сокол': 1, 'выездом': 1, 'бравируют': 1, 'безграмотные': 1, 'менеджеры': 1, 'Добиралась': 1, 'Красноярска': 1, 'Омс': 1, 'посещает': 1, 'перевозил': 1, 'ворованные': 1, 'перевез': 1, 'держут': 1, 'поменяет': 1, '24.08.2020': 1, '3614': 1, 'коп': 1, 'исправлены': 1, 'опечатки': 1, '2278': 1, 'СПИ': 1, 'электронное': 1, '16.09.2020': 1, 'расчетном': 1, '18.09.2020': 1, 'номинальный': 1, 'номинального': 1, 'МИР': 1, 'Денежные': 1, '3617,24': 1, 'Получено': 1, '12.01.2021': 1, 'сообщается': 1, '02.10.2007': 1, 'пропущен': 1, '477': 1, 'возросла': 1, 'Замуж': 1, 'временам': 1, 'Ковидом': 1, 'ID': 1, 'визу': 1, 'уточняли': 1, 'нормальным': 1, 'сотрудницу': 1, 'проищводственный': 1, 'опасные': 1, 'производственные': 1, 'факторы': 1, 'Постоянные': 1, 'движущиеся': 1, 'механизмы': 1, 'кранбалки': 1, 'грузы': 1, 'разлитое': 1, 'заехать': 1, 'узнало': 1, '14.01.21': 1, 'физкультуры': 1, 'бег': 1, 'задом': 1, 'подвернув': 1, 'забинтовали': 1, 'бинтом': 1, 'голеностоп': 1, 'Травмпункт': 1, 'подтверждающую': 1, 'Травматолог': 1, 'носить': 1, 'сертифицированна': 1, 'каскадом': 1, 'маркировки': 1, 'бессрочно': 1, 'нищете': 1, 'Кургана': 1, 'опекунов': 1, 'книгой': 1, 'введёт': 1, 'известность': 1, 'Стоял': 1, 'цент': 1, 'отчислений': 1, 'Управляющая': 1, '2,9': 1, 'ошибочно': 1, 'применяла': 1, 'заниженный': 1, 'тариф': 1, 'СРЖ': 1, 'перерасчетом': 1, 'суммарный': 1, 'сурв': 1, 'норму': 1, 'месячная': 1, 'Отработана': 1, 'регламента': 1, 'слепой': 1, 'Обслуживать': 1, 'начислит': 1, 'Чередовались': 1, 'Кварплата': 1, 'Досуг': 1, 'запросила': 1, 'разворотить': 1, 'любыми': 1, 'запрошенной': 1, 'такого-то': 1, 'следствию': 1, 'конкретную': 1, 'Какого': 1, 'ПС': 1, 'разломать': 1, 'совместную': 1, 'полезны': 1, 'Устроили': 1, 'улетел': 1, 'кювет': 1, 'соприкосновения': 1, 'выйдя': 1, 'избили': 1, 'Избивал': 1, 'подумай': 1, 'гематомы': 1, 'отниматься': 1, 'Следователю': 1, 'подозреваемого': 1, 'гематом': 1, 'звонок': 1, 'опознание': 1, 'контактировал': 1, 'замять': 1, 'смешные': 1, 'генетическую': 1, 'СпасиБо': 1, 'добьюсь': 1, 'редка': 1, 'пятнадцать': 1, 'переезда': 1, 'сонаниматели': 1, 'фигурируем': 1, 'вечная': 1, 'призыву': 1, 'военно-врачебной': 1, 'негоден': 1, 'единовременные': 1, 'бумагами': 1, 'иис': 1, 'разделении': 1, 'Используя': 1, 'завладел': 1, 'паспортными': 1, 'какого-либо': 1, 'трудная': 1, 'кредитное': 1, 'рабство': 1, 'микрофинансовым': 1, 'организациям': 1, 'махинаций': 1, 'банковских': 1, 'заявляли': 1, 'Совесть': 1, 'замучала': 1, 'гадом': 1, 'причинить': 1, 'продуктивный': 1, 'Жалеть': 1, 'верить': 1, 'всматриваться': 1, '-ых': 1, 'помеха': 1, 'справа': 1, 'пострадавшая': 1, 'недельный': 1, 'ударился': 1, 'ногой': 1, 'возместила': 1, 'разбитый': 1, 'появилось': 1, 'расстройство': 1, 'урегулировать': 1, 'обращайся': 1, 'дамы': 1, 'господа': 1, 'сажали': 1, 'картошку': 1, 'дарением': 1, 'асфальтированной': 1, 'глубине': 1, 'участками': 1, 'участков': 1, 'прихватил': 1, 'прогон': 1, 'Участки': 1, 'межованые': 1, 'самозахват': 1, 'лишил': 1, 'полноценного': 1, 'архитектуру': 1, 'госземконтроль': 1, 'смежные': 1, 'копки': 1, 'колодца': 1, 'свай': 1, 'прочего': 1, 'состоя': 1, 'Смена': 1, 'паспортный': 1, 'проигнорировал': 1, 'выпить': 1, 'оградить': 1, 'проведён': 1, 'обрезать': 1, 'зимнее': 1, 'отпливатся': 1, 'перемерзания': 1, 'труб': 1, 'кран': 1, 'Переживаем': 1, 'пострадают': 1, 'удочерила': 1, 'кузина': 1, 'русскими': 1, 'корнями': 1, 'биологическую': 1, 'осуществлён': 1, 'посоветовала': 1, 'телепередачи': 1, 'Говорить': 1, 'Давать': 1, 'преследует': 1, 'Wish': 1, 'списывалась': 1, 'перечислил': 1, '6760,': 1, 'Разницу': 1, 'общими': 1, 'фразами': 1, 'выслали': 1, 'отсутсвует': 1, '22.02.2022': 1, 'пребывать': 1, 'Великобританию': 1, 'алкогольными': 1, 'напитками': 1, 'присмотра': 1, 'Уговоры': 1, 'двухлетка': 1, 'стабильной': 1, 'горячих': 1, 'точках': 1, 'мужик': 1, 'смысль': 1, 'познакомиться': 1, 'известна': 1, 'публичную': 1, 'придумать': 1, 'Подсудимому': 1, '4.5': 1, 'обжаловать-как': 1, 'переписал': 1, 'делит': 1, 'нажит': 1, 'сенсор': 1, 'старыми': 1, 'телевизорами': 1, 'треснул': 1, '33000': 1, 'слушанье': 1, 'четвертое': 1, '1064': 1, 'Уголовно-процессуального': 1, 'Районным': 1, 'оспаривании': 1, 'совершенного': 1, 'нотариального': 1, 'Основание': 1, 'подведомственного': 1, 'судуОпределение': 1, 'пропустить': 1, '31.12.2020': 1, 'несогласии': 1, 'формальным': 1, 'содержащей': 1, 'конкретизации': 1, 'краткая': 1, 'Проект': 1, 'прикрепленном': 1, 'Дополнения': 1, 'поступит': 1, '333': 1, 'поданных': 1, '332': 1, 'соответствующих': 1, '322': 1, 'указанные': 1, 'представить': 1, 'Реорганизация': 1, 'приезжая': 1, 'погром': 1, 'постучались': 1, 'помнит': 1, 'впустил': 1, 'прошлых': 1, 'вспомнил': 1, 'незаметно': 1, 'сорвали': 1, 'счетчика': 1, 'Счетчик': 1, '378': 1, 'market': 1, 'yandex': 1, 'Люди': 1, 'Вашурина': 1, 'Наталья': 1, 'Михайловна': 1, 'приборов': 1, 'сельхоз': 1, 'стабильные': 1, 'свидания': 1, 'распутник': 1, 'распутников': 1, 'грубостью': 1, 'дословно': 1, 'тобой': 1, 'свиданиях': 1, 'блокировку': 1, 'юмористической': 1, 'личку': 1, 'создаст': 1, 'Серьёзно': 1, 'неприятности': 1, 'шутку': 1, '450000': 1, 'взыщут': 1, 'спрос': 1, 'оформим': 1, 'среднемесячной': 1, 'стараюсь': 1, 'настроению': 1, 'увидишь': 1, 'Дочку': 1, 'отказной': 1, 'вправду': 1, 'придумала': 1, 'удаётся': 1, 'алтайском': 1, '311.063.5': 1, 'хронических': 1, 'Группу': 1, 'Оскорбляют': 1, 'избиением': 1, 'созвонились': 1, 'убедил': 1, 'продемонстрировал': 1, 'вебер': 1, 'снегаход': 1, 'Договорились': 1, 'снегохода': 1, 'купле-продаже': 1, 'оценёнив': 1, '390000': 1, 'банковскому': 1, 'переводу': 1, 'легко': 1, '17.12.20': 1, 'терминале': 1, 'жёсткой': 1, 'обрешётке': 1, 'погрузили': 1, 'прицеп': 1, 'попытках': 1, 'запускается': 1, 'Выкупил': 1, 'обналичивании': 1, 'Затронут': 1, 'надворные': 1, 'гостей': 1, 'росреестра': 1, 'некорректный': 1, 'выдаст': 1, 'постановлений': 1, 'Большая': 1, 'принесёт': 1, '11.08.2020': 1, 'заказных': 1, '26.11.2020': 1, 'Вынесен': 1, '11.01.2018': 1, '18.01.2018': 1, '14.12.2020': 1, '23.01.2018': 1, 'заявитель': 1, 'махинация': 1, 'приклеплена': 1, 'активации': 1, 'Картой': 1, 'снимала-': 1, 'увеличивался': 1, 'удивил': 1, 'больше-260': 1, 'активировали': 1, 'Присудили': 1, 'закрывали': 1, 'подходите': 1, 'поодиночные': 1, 'стуки': 1, 'молотком': 1, 'записивать': 1, 'включают': 1, 'вой': 1, 'хлопают': 1, 'дверьми': 1, 'тостер': 1, 'прыгает': 1, 'падают': 1, 'Слышит': 1, 'бояться': 1, 'рассказов': 1, 'психикой': 1, 'Подслушивают': 1, 'дырка': 1, 'люстры': 1, '300000': 1, 'поженились': 1, 'Встаю': 1, 'устраивают': 1, 'аркой': 1, 'арка': 1, 'прохода-проезда': 1, 'функционирует': 1, 'живущие': 1, 'этажах': 1, 'семьям': 1, 'удобнее': 1, 'обходить': 1, 'кот': 1, 'пройден': 1, 'Прочитал': 1, 'складом': 1, 'детектор': 1, 'отчий': 1, 'Последнее': 1, 'выгнала': 1, 'тихую': 1, 'выехавшей': 1, 'ложью': 1, '21.12': 1, '22.10.2018': 1, '3.09.2018': 1, 'исключить': 1, 'удержанные': 1, 'купленное': 1, 'квадратом': 1, 'арестовано': 1, 'предлагая': 1, 'апеллируя': 1, 'часовую': 1, 'извиняюсь': 1, 'грамматические': 1, 'приписана': 1, 'оставшийся': 1, 'периодическое': 1, 'зависания': 1, 'включаться': 1, 'циклическая': 1, 'загрузка': 1, 'зозпп': 1, '11300': 1, 'блочного': 1, 'Расширить': 1, 'Поменять': 1, 'местами': 1, 'общаясь': 1, 'разместил': 1, 'паблике': 1, 'Админу': 1, 'паблика': 1, 'Админ': 1, 'полученную': 1, 'нашедших': 1, 'ВольтА': 1, 'рВ': 1, 'Че': 1, 'Посторонним': 1, 'ищите': 1, 'силамиВ': 1, 'вкладывал': 1, 'сообществаВ': 1, 'человеческий': 1, 'фактор': 1, 'забираю': 1, 'фига': 1, 'дадите': 1, 'услады': 1, 'Пес': 1, 'пес': 1, 'меняВ': 1, 'отдыхайтеА': 1, 'хорошоПоведение': 1, 'возмутило': 1, 'дробя': 1, 'кассу': 1, 'разбираетесь': 1, 'оставшись': 1, 'Маргарита': 1, 'Минске': 1, 'мини-кафе': 1, 'ксерокопии': 1, 'пульт': 1, 'пуховик': 1, 'кнопка': 1, 'застёжки': 1, 'верха': 1, 'недееспособный': 1, 'ввк': 1, 'цпд': 1, 'полиграф': 1, 'курительную': 1, 'Срезали': 1, 'глушитель': 1, 'выл': 1, 'племянницы': 1, '2020-декабрь': 1, 'промолчала': 1, 'мужиков': 1, 'наймем': 1, 'рулили': 1, 'командовал': 1, 'раскопал': 1, 'шеф': 1, 'отвёз': 1, 'подписывайся': 1, 'делись': 1, 'походу': 1, 'поделил': 1, 'пьют': 1, 'тыщ': 1, 'цемент': 1, 'врал': 1, 'репу': 1, 'чешу': 1, 'организованной': 1, 'преступной': 1, 'группировке': 1, 'алементы': 1, 'правельно': 1, 'накладовали': 1, 'ответчицы': 1, 'попечение': 1, 'недееспособна': 1, 'отоплением': 1, 'квадратуре': 1, 'прокуратуре': 1, 'непрерывен': 1, 'находишь': 1, 'прерывается': 1, 'фен': 1, '10.12.2020': 1, 'дуть': 1, 'горячим': 1, 'воздухом': 1, 'холодным': 1, 'дует': 1, 'направят': 1, 'феном': 1, 'МАКРО': 1, 'апеллировать': 1, 'биоматериала': 1, 'строили': 1, 'Владеем': 1, 'переквалифицировав': 1, 'различия': 1, 'кражей': 1, 'привлекались': 1, 'третьи': 1, 'диспетчерская': 1, 'перевоза': 1, 'городами': 1, 'попадут': 1, 'диспетчер-нелегал': 1, 'понесет': 1, 'рождается': 1, 'водным': 1, 'обьектом': 1, 'Прокуратура': 1, 'пруда': 1, 'выращиванию': 1, 'товарной': 1, 'рыбы': 1, 'Пруд': 1, 'донском': 1, 'верхнедонском': 1, 'Управлении': 1, 'Ростехнадзора': 1, 'экологическому': 1, 'технологическому': 1, 'атомному': 1, 'надзору': 1, 'Взяты': 1, 'Маленькие': 1, 'превратились': 1, 'непосильные': 1, 'заполняла': 1, 'Липецкой': 1, 'Липецк': 1, 'Клавдии': 1, 'Шаталовой': 1, 'Расселение': 1, 'Однокомнатная': 1, 'квадратный': 1, 'поправкам': 1, 'Подавайте': 1, 'устанавливает': 1, 'закрепляет': 1, 'вынужденных': 1, 'значительных': 1, 'конструктивных': 1, 'домов': 1, 'выселяться': 1, 'благоустроенные': 1, 'Муниципальные': 1, 'соблюдение': 1, 'небольшим': 1, 'кармане': 1, 'надеюсь': 1, 'восстанавливалась': 1, 'попробовала': 1, 'ЕДК': 1, 'Молодого': 1, 'высшего': 1, 'НЕПОЛНЫМ': 1, 'полноценным': 1, 'образованием': 1, 'Бакалавриат': 1, 'магистратура': 1, 'продлят': 1, 'Ростелекомом': 1, 'интерактивное': 1, 'предложено': 1, 'идентичными': 1, 'оформлялась': 1, 'Выслушав': 1, 'монтаж': 1, 'приема-передачи': 1, 'заполнены': 1, 'серийный': 1, 'наклеен': 1, 'заполненности': 1, 'вышеуказанного': 1, 'заполнит': 1, 'начислена': 1, 'описывалась': 1, 'фото-скринов': 1, 'заключённого': 1, 'дальнейшим': 1, 'произведением': 1, 'перерасчёта': 1, 'решён': 1, 'изложены': 1, 'вышеуказанные': 1, 'перезаключить': 1, 'принявший': 1, 'таблица': 1, 'серийного': 1, 'навязан': 1, 'посетил': 1, 'демонтированное': 1, 'внутренний': 1, 'очередную': 1, 'ЕИ': 1, 'Крайние': 1, 'ситуацииЯвляется': 1, 'Баня': 1, 'закрылась': 1, 'расторгли': 1, 'Поступила': 1, 'отчисляют': 1, 'забыла': 1, 'внесу': 1, 'езк': 1, 'продлили': 1, 'Придеться': 1, 'вносить': 1, 'послностью': 1, 'выходи': 1, 'нижестоящей': 1, 'таклй': 1, 'ребятами': 1, 'Догонялки': 1, 'выбегаю': 1, 'лестницы': 1, 'запинаясь': 1, 'незамечая': 1, 'учительницу': 1, 'очки': 1, 'извинился': 1, 'заучу': 1, 'проститутке': 1, 'Совместно': 1, '03.2017': 1, 'подделал': 1, '-так': 1, 'влажная': 1, 'наружняя': 1, 'изнутри': 1, 'сыро': 1, 'Специалисты': 1, 'микротрещин': 1, 'утеплять': 1, 'жилищная': 1, 'осужденных': 1, 'общественным': 1, 'жильцам': 1, 'осуждёнными': 1, 'быстрей': 1, 'хватило': 1, 'комплектующих': 1, 'хватающих': 1, 'напишем': 1, 'отошлём': 1, '06.12.2020': 1, '30.09.2020': 1, 'освободился': 1, 'Отсидел': 1, 'допрашивать': 1, 'разбой': 1, 'ном': 1, 'ранней': 1, 'отвезла': 1, 'Ждала': 1, 'предпоследний': 1, 'выпало': 1, '27.11.2020': 1, 'больничному': 1, 'некому': 1, '4.12.': 1, 'минимальная': 1, 'выяснения': 1, 'компенсировали': 1, 'Планирует': 1, 'дебильная': 1, 'семейка': 1, 'подонок': 1, 'халявщик': 1, 'Акционерное': 1, 'павильона': 1, '11.02.2008': 1, 'заявляло': 1, 'намерении': 1, 'обратилось': 1, 'обществу': 1, 'удовлетворен': 1, 'учтено': 1, '421': 1, 'общества': 1, 'апелляционный': 1, 'предыдущему': 1, 'замечание': 1, 'отсутствию': 1, 'вводного': 1, 'инструктажа': 1, 'Подрядчик': 1, 'закопал': 1, 'септик': 1, 'опалубки': 1, 'присвоением': 1, 'растратой': 1, '160,': 1, 'ПРЕДНАМЕРЕННОЕ': 1, 'НЕИСПОЛНЕНИЕ': 1, 'ДОГОВОРНЫХ': 1, 'ОБЯЗАТЕЛЬСТВ': 1, 'ПРИЗНАК': 1, 'МОШЕННИЧЕСТВА': 1, 'ПРЕДУСМОТРЕННОГО': 1, '159.4': 1, '3-5': 1, 'упущенной': 1, 'таджик': 1, 'ПМ': 1, 'ущемление': 1, 'хакассии': 1, 'Составляся': 1, 'ежедневных': 1, 'Непосредственный': 1, '06.05.2019': 1, 'Выплат': 1, 'предоставленно': 1, 'отпкске': 1, 'уминшение': 1, 'валюте': 1, 'пришивает': 1, 'сядет': 1, 'задумывалось': 1, 'замещающего': 1, 'уйдёт': 1, 'наложением': 1, 'маски': 1, 'Бланк': 1, 'установливает': 1, 'избивала': 1, 'издевалась': 1, 'голодом': 1, 'морила': 1, 'цепи': 1, 'особенности': 1, 'принципа': 1, 'достоверности': 1, 'учетной': 1, 'непосредственный': 1, 'супервайзера': 1, 'филькина': 1, 'грамота': 1, 'Созвонившись': 1, 'СВ': 1, 'реальная': 1, 'Заболеванием': 1, 'Ссылка': 1, 'clck': 1, 'SCfHT': 1, 'Правомочны': 1, 'Изучили': 1, 'досконально': 1, 'пообщались': 1, 'расходятся': 1, 'озвучено': 1, 'отлетело': 1, 'кольцо': 1, 'сломанной': 1, 'фурнитурной': 1, 'памятку': 1, 'потеряться': 1, 'озвучены': 1, 'абоненты': 1, 'расторгали': 1, 'лицевых': 1, 'оставались': 1, 'Путем': 1, 'собственноручно': 1, 'дальнейшего': 1, 'финансы': 1, 'Анастасия': 1, 'сгорит': 1, 'записываю': 1, 'незнакомыми': 1, 'Дабы': 1, 'вспомнить': 1, 'делюсь': 1, 'разговорами': 1, 'публикую': 1, 'политические': 1, 'записям': 1, 'нашедший': 1, 'опубликовать': 1, 'компрометирующие': 1, 'мстят': 1, 'повесят': 1, '28.11.2020': 1, 'воспользовавшись': 1, 'автокредитованием': 1, 'накинул': 1, '109000': 1, 'летнее': 1, 'Очерёдность': 1, 'регулирует': 1, 'намекают': 1, 'завещания': 1, 'Наследников': 1, 'Тетя': 1, 'подопечных': 1, 'водит': 1, 'резолютивной': 1, 'заочного': 1, 'конопля': 1, 'поздороваться': 1, 'встретил': 1, 'доносить': 1, 'лень': 1, 'молчим': 1, '15.': 1, '07.': 1, '1.1': 1, 'связаны': 1, 'прожиточным': 1, 'минимумом': 1, 'годика': 1, 'безработную': 1, 'Повторюсь': 1, 'полторатгода': 1, 'денежки': 1, 'Законо': 1, 'выявились': 1, 'проверен': 1, 'рекомендациям': 1, 'техподдержки': 1, 'убедится': 1, 'авторизованного': 1, 'уплаченной': 1, 'серии': 1, 'видеокарт': 1, 'удорожание': 1, 'характеристикам': 1, 'приобретал': 1, 'зафиксирована': 1, 'поддержкой': 1, 'уплаченная': 1, 'натянуты': 1, 'Коммуналку': 1, 'расседила': 1, 'сверток': 1, 'дежурку': 1, 'изъятие': 1, 'возили': 1, 'наркологию': 1, 'изъяв': 1, 'отдаваться': 1, 'Копию': 1, 'категорический': 1, 'сфотографировать': 1, 'инстанцию': 1, 'заказать': 1, 'блютуз': 1, 'беспроводные': 1, 'микрофоном': 1, 'черного': 1, 'цвета': 1, 'вставляются': 1, 'уши': 1, 'сантимеиров': 1, 'активы': 1, 'брокерском': 1, 'актива': 1, '10,': 1, 'Разведена': 1, 'кВ': 1, 'Молодежи': 1, 'доступное': 1, 'Коснется': 1, 'опубликовала': 1, 'четырёхлетнего': 1, 'Призывая': 1, 'даму': 1, 'КС': 1, '45/45': 1, 'рассчитывает': 1, 'езжу': 1, 'ртдых': 1, 'всерьез': 1, 'необоснованных': 1, 'обвинений': 1, 'взаимному': 1, 'фотографиями': 1, 'приятное': 1, 'параноик': 1, 'фоне': 1, 'барышня': 1, 'рационально': 1, 'дергаться': 1, 'абсурдная': 1, 'принятом': 1, 'сохранено': 1, 'длились': 1, 'подарков': 1, 'эмоциональной': 1, 'паника': 1, 'годовалый': 1, 'субботе': 1, 'планы': 1, 'мамашей': 1, 'орут': 1, 'сказанное': 1, 'воплощается': 1, 'РБ': 1, 'комплексному': 1, 'Расписка': 1, 'Иркутске': 1, 'краткосрочного': 1, 'дек': 1, 'сомнительной': 1, 'Автоматической': 1, 'пролонгации': 1, 'Вселили': 1, 'советских': 1, 'времен': 1, 'Шансы': 1, 'приобретательной': 1, 'уроженцем': 1, 'Башкирии': 1, 'Киргизию': 1, 'чин': 1, 'загранпаспорта': 1, 'посольстве': 1, 'убегу': 1, 'депортируют': 1, 'смельчака': 1, 'пропаже': 1, 'завербовал': 1, 'съём': 1, 'возлюбленного': 1, 'подвести': 1, 'сбежав': 1, 'депортирует': 1, 'побега': 1, 'филиалов': 1, 'Кр': 1, 'Готовят': 1, 'трудоустроились': 1, 'статусе': 1, 'предпенсионного': 1, 'настораживает': 1, 'франшиза': 1, 'субаренда': 1, 'дается': 1, 'Ощущение': 1, 'Филиала': 1, 'официальнл': 1, 'расч': 1, 'Лист': 1, 'птицефабрике': 1, '49500': 1, 'объяснив': 1, 'насчитала': 1, 'метрологии': 1, 'квалификационная': 1, 'сохранится': 1, 'испарилась': 1, 'ответственную': 1, 'эпиляцией': 1, 'Клиентка': 1, 'Эпиляция': 1, 'предупреждаю': 1, 'Волосы': 1, 'активный': 1, 'спящие': 1, 'наружу': 1, 'студии': 1, 'процедурой': 1, 'проинформирована': 1, 'отличатся': 1, 'ожидаемого': 1, 'гарантирован': 1, 'предложенного': 1, 'зависят': 1, 'особенностей': 1, 'организма': 1, 'прихода': 1, 'сборный': 1, 'присяги': 1, 'нежелания': 1, 'игнорировать': 1, 'Аргументы': 1, 'Общее': 1, 'собрание': 1, 'пп': 1, 'компетенции': 1, 'относятся': 1, 'введение': 1, 'имаргументы': 1, 'realty': 1, 'rbc': 1, 'news': 1, 'ad': 1, 'Собственникам': 1, 'алиментами': 1, 'озеленения': 1, 'предназначенные': 1, 'расположенные': 1, 'Границы': 1, 'определяются': 1, '„': 1, 'градостроительной': 1, 'Уменьшение': 1, 'реконструкции': 1, 'принятому': 1, 'Уволенный': 1, 'Определить': 1, 'величина': 1, 'субъекте': 1, 'федерации': 1, 'напился': 1, 'насиловать': 1, 'славу': 1, 'выграют': 1, 'заражении': 1, 'заражения': 1, 'больных': 1, 'общественные': 1, 'Путь': 1, 'пешком': 1, 'скопления': 1, 'Украинским': 1, 'нехорошим': 1, 'подлецом': 1, 'X': 1, 'Читаю': 1, 'генеральную': 1, 'ПГТ': 1, 'СУДЕБНЫЙ': 1, 'ПРИКАЗ': 1, 'Января': 1, 'Август': 1, '10200': 1, 'езду': 1, 'спецстоянки': 1, 'поджидал': 1, 'проехали': 1, 'моче': 1, 'конпенсировали': 1, 'рассходы': 1, 'съем': 1, 'комиссионным': 1, 'любому': 1, 'художниками': 1, 'картин': 1, 'Режима': 1, 'ЧС': 1, 'уложиться': 1, 'сберегательный': 1, 'выполнена': 1, 'Услугу': 1, 'выполняло': 1, 'исходники': 1, 'графическом': 1, 'редакторе': 1, 'Переписка': 1, 'выкупали': 1, 'ввел': 1, 'Продает': 1, 'неоплату': 1, 'Переехал': 1, 'Воронежа': 1, 'лаборанты': 1, 'более-менее': 1, 'равномерно': 1, 'шахматной': 1, 'строчках': 1, 'считаем': 1, 'Свой': 1, 'шахматный': 1, 'лаборант': 1, '-по': 1, '79,2': 1, 'Чернобыльской': 1, '1244': 1, 'пенсионной': 1, 'разнице': 1, 'Водители': 1, 'выгрузились': 1, 'выгрузится': 1, 'горем': 1, 'включенным': 1, 'жилфонда': 1, 'эконом': 1, 'упустить': 1, 'лучшего': 1, '1-го': 1, 'взятому': 1, 'заберёт': 1, 'покидал': 1, 'тарифа': 1, 'захожу': 1, 'покамичькам': 1, 'Таков': 1, 'девушка-сирота': 1, 'Проживала': 1, 'Нижнем': 1, 'Новгороде': 1, 'кредитные': 1, 'средст': 1, 'убрала': 1, 'моральную': 1, 'разовая': 1, 'торгует': 1, 'компьютерами': 1, 'обижать': 1, 'обижался': 1, 'тещи': 1, 'воспитывалась': 1, 'Керчи': 1, 'пед': 1, 'Ялте': 1, 'Феодосию': 1, '27.10.2020': 1, 'самсунг': 1, '06.11': 1, 'возвращён': 1, 'просмотре': 1, 'вертикальная': 1, 'тонкая': 1, 'полоса': 1, 'дефект': 1, 'замечен': 1, 'заправке': 1, 'письменным': 1, 'отписать': 1, 'Люда': 1, 'неположенном': 1, 'пересекла': 1, 'двойную': 1, 'двинулась': 1, 'Машин': 1, 'сбивает': 1, 'правым': 1, 'Торможения': 1, 'заметил': 1, 'ослепили': 1, 'фары': 1, 'прямая': 1, 'освещенная': 1, 'фонарями': 1, 'сухое': 1, 'вырвался': 1, 'вперед': 1, 'потока': 1, 'встречном': 1, 'просматривалась': 1, 'Экспертиза': 1, 'назначенная': 1, 'техническую': 1, 'невозможность': 1, 'двигался': 1, 'Следствие': 1, 'определяет': 1, 'ую': 1, 'Правилам': 1, 'двойной': 1, 'сплошной': 1, 'пожилыми': 1, 'берется': 1, 'дейстует': 1, 'окружную': 1, 'переписан': 1, 'обдумал': 1, 'поданного': 1, 'Куплен': 1, 'сносит': 1, 'посоветоваться': 1, 'найдёт': 1, 'флористы': 1, 'инн': 1, 'снилс': 1, 'Объяснив': 1, '11.11.2020': 1, 'РКК': 1, 'южнее': 1, 'пенсионку': 1, 'пенс': 1, 'социалке': 1, 'Рабочего': 1, '8,5': 1, 'общего-': 1, 'дурят': 1, 'побороться': 1, 'Хорошего': 1, 'Туалет': 1, 'переставая': 1, 'реагирует': 1, '17.01.2017': 1, '14.09.2020': 1, 'истекшим': 1, 'приписное': 1, 'Израиль': 1, 'Пабг': 1, 'Мобаил': 1, 'разработчикам': 1, 'Отвязали': 1, 'привязали': 1, 'Твиттер': 1, 'разбирая': 1, 'вкладыш': 1, 'advcash': 1, 'пополнение': 1, 'платежной': 1, 'валютное': 1, 'переводах': 1, 'Поколение': 1, 'робот': 1, 'мани': 1, 'реквизитами': 1, 'лояльности': 1, 'накапливая': 1, 'СЭБ': 1, 'практикант': 1, 'предложенный': 1, 'Станция': 1, 'транспорта': 1, 'заявило': 1, 'снимайте': 1, 'станцию': 1, 'съемного': 1, 'Целевик': 1, 'удочерит': 1, 'наложения': 1, 'исполнительными': 1, 'принадлежащее': 1, 'снилсу': 1, 'сим': 1, 'картыЕсть': 1, 'дикрете': 1, 'скажется': 1, 'Одно': 1, 'учел': 1, 'отбытию': 1, 'будуще': 1, 'переведены': 1, 'обещаниями': 1, 'доступен': 1, 'местонахождении': 1, 'Кредитор-гражданин': 1, 'заёмополучатель-гражданин': 1, 'Взломали': 1, 'вымогателю': 1, 'вымогатель': 1, 'рушится': 1, '2012-2013': 1, 'тяжелой': 1, 'Папе': 1, '171': 1, 'блокируются': 1, 'созаемщиков': 1, 'работоспособный': 1, 'крайний': 1, 'кадровики': 1, 'сборочном': 1, 'кузовной': 1, 'кузовном': 1, 'числятся': 1, 'контролерами': 1, 'ББК': 1, 'отключился': 1, 'Висит': 1, '15000,': 1, 'Смогут': 1, 'микроволновку': 1, 'ЭВМ': 1, 'прикладывать': 1, 'печатном': 1, 'CD': 1, 'диск': 1, 'ЕСВ': 1, 'Поставлен': 1, 'есв': 1, 'Наркоконтроле': 1, 'изменяет': 1, 'Малярное': 1, 'семичасовой': 1, 'бандероль': 1, 'прилагающимися': 1, 'ИПешника': 1, 'предпринимают': 1, 'извещении': 1, 'арендная': 1, 'повышалась': 1, 'построена': 1, 'ресурсов': 1, 'повысил': 1, 'неподьемная': 1, 'Владимире': 1, 'Владимира': 1, 'перемене': 1, 'СберБанке': 1, 'карточкой': 1, 'вспомнили': 1, 'выцвели': 1, 'Уволившись': 1, 'Осудили': 1, 'потерпевшими': 1, 'потерпевших': 1, 'Потерпевшие': 1, 'смягчит': 1, 'отменит': 1, 'вычитаю': 1, '66.5': 1, 'наркоманом': 1, 'дочере': 1, 'влиял': 1, 'падчерицы': 1, 'усыновляли': 1, 'Выделение': 1, 'сопровождаться': 1, 'налогом': 1, 's': 1, '13-и': 1, 'ужу': 1, 'беспроцентный': 1, '185000': 1, 'вгуэсе': 1, 'подаваться': 1, 'определённым': 1, 'дальшейшего': 1, 'ВГУЭС': 1, 'перевожусь': 1, 'вычитает': 1, 'Карта': 1, 'зарплатная': 1, 'Являемся': 1, 'Многодетной': 1, 'расширения': 1, 'ограниченная': 1, 'езды': 1, '25.08.2020': 1, 'Возбуждено': 1, 'хонор': 1, 'медиафайлов': 1, 'удалилась': 1, 'Обращался': 1, 'хуавей': 1, 'некачественного': 1, 'решают': 1, 'публиковала': 1, 'Дзен': 1, 'велись': 1, 'дочитывания': 1, '53000': 1, '151': 1, '176': 1, 'Северная': 1, 'коэфицент': 1, '1943': 1, 'благоустроенной': 1, 'Благовещенске': 1, 'совладею': 1, 'Удмуртия': 1, 'приостановила': 1, 'адвокатскую': 1, 'решаться': 1, 'Меняла': 1, 'возобновлять': 1, 'налажу': 1, 'рискуют': 1, 'познакомится': 1, 'вашими': 1, 'сотрудничестве': 1, 'ведете': 1, 'Милане': 1, '393922736499': 1, '27.12.2019': 1, '473': 1, '-фз': 1, 'Распространяется': 1, 'правоотношения': 1, 'возникшие': 1, 'сердечко': 1, 'постом': 1, 'комментарием': 1, 'противозаконным': 1, 'репостов': 1, 'нажать': 1, 'привлечённой': 1, '72.2': 1, '1,0': 1, 'задаваемый': 1, 'обьёме': 1, 'Выход': 1, '1.03': 1, '15.04': 1, '2.03': 1, 'остатком': 1, '12400': 1, 'вернется': 1, 'бир': 1, 'домоуправления': 1, 'сноха': 1, 'патенту': 1, 'высылать': 1, 'втёрся': 1, 'доверие': 1, 'называя': 1, 'Посещаю': 1, 'врача-психиатора': 1, 'неврозом': 1, 'Делаю': 1, 'осведомлен': 1, 'аптеках': 1, 'Препарат': 1, 'Принимаю': 1, 'рецепта': 1, 'привлечён': 1, 'пачки': 1, 'пароксетина': 1, 'пересечении': 1, 'иностранной': 1, 'углововной': 1, 'въезде': 1, 'таможне': 1, 'уделённое': 1, 'изучению': 1, 'Ситуации': 1, 'достанется': 1, 'взаймы': 1, 'набежало': 1, 'глупому': 1, 'обстоятельству': 1, 'непонятная': 1, 'испортила': 1, 'собеседовании': 1, 'ревизорами': 1, '82000': 1, '41000': 1, 'унести': 1, '80000': 1, 'растерявшись': 1, 'замазанные': 1, 'вспоминать': 1, 'Хоронила': 1, 'слухам': 1, 'сожительницу': 1, 'копиться': 1, '200.000': 1, '16.000': 1, '44.000': 1, 'Приехали': 1, 'Обучались': 1, 'мучится': 1, 'тратить': 1, 'лёгком': 1, 'несчастном': 1, 'капсулы': 1, 'БАД': 1, 'Билайт': 1, 'волшебные': 1, 'бобы': 1, 'пригласили': 1, 'жилища': 1, 'терпящих': 1, 'отлагательств': 1, 'обнаружены': 1, 'пачек': 1, 'скрывала': 1, 'грозились': 1, 'велено': 1, 'соседний': 1, 'Прибыв': 1, 'предложен': 1, 'предоставляемого': 1, 'проведен': 1, 'малейшего': 1, 'сильнодействующие': 1, 'вещества': 1, 'прилагающейся': 1, 'аннотация': 1, 'растительных': 1, 'компонентов': 1, 'Полностью': 1, 'идентичные': 1, 'продаются': 1, 'ozon': 1, 'wildberries': 1, 'описании': 1, 'сильнодействующих': 1, 'подставное': 1, 'совершившее': 1, 'контрольную': 1, 'вменяется': 1, '234': 1, 'дипломов': 1, 'медалей': 1, 'подобного': 1, 'независимое': 1, 'оценочное': 1, 'сложившихся': 1, '19.05.2016': 1, '1.11.2017': 1, 'Попадаем': 1, 'Переезжаем': 1, 'прикрепиться': 1, 'отдавали': 1, 'менялось': 1, 'Понимаем': 1, 'кидалово': 1, 'попадём': 1, 'правильная': 1, 'подача': 1, 'БлагодарюС': 1, 'Ленура': 1, 'сердечного': 1, 'ритма': 1, 'ночную': 1, 'Интернета': 1, 'Мтс': 1, 'дизайнер': 1, 'составило': 1, 'откликнулась': 1, 'рекламный': 1, 'Нижневартовске': 1, 'Томске': 1, 'графического': 1, 'дизайнера': 1, 'дневная': 1, 'общепринятых': 1, 'входило': 1, 'креативных': 1, 'концепций': 1, 'фирменного': 1, 'стиля': 1, 'дизайна': 1, 'макетов': 1, 'допечатная': 1, 'редактирование': 1, 'изображений': 1, 'справлялась': 1, 'профессионально': 1, 'баннеров': 1, 'Нижневартовску': 1, 'выплати': 1, 'отсылкой': 1, 'начальницей': 1, 'пообещала': 1, 'ежедневная': 1, 'менеджерами': 1, 'поступающей': 1, 'проделанной': 1, 'x': 1, 'el': 1, 'улицах': 1, 'согласованные': 1, 'макеты': 1, 'доказывает': 1, 'голословность': 1, 'обошлись': 1, 'жительница': 1, 'Нижневартовска': 1, 'приняты': 1, 'правового': 1, 'столкнувшись': 1, 'несправедливостью': 1, 'контракник': 1, 'учении': 1, 'выронил': 1, 'Телефону': 1, 'слетел': 1, 'пересуда': 1, 'заместителя': 1, 'УВР': 1, 'Продается': 1, 'калатушкой': 1, 'подбородку': 1, 'ссадина': 1, 'достигли': 1, 'вынесением': 1, '333.40': 1, 'правовым': 1, 'е-Интернет': 1, 'уничтожил': 1, 'телефонной': 1, 'мирное': 1, 'передает': 1, 'Пошли': 1, 'выпиской': 1, 'нанимать': 1, 'собственница': 1, 'непригодной': 1, 'благоустроенное': 1, 'Сохранилось': 1, 'непригодную': 1, '12.08.2020': 1, '16.10.2020': 1, 'передаётся': 1, 'выложу': 1, 'оглашать': 1, 'надлежащем': 1, 'надлежащую': 1, 'фронтального': 1, 'жилет': 1, 'сигнальный': 1, 'кабины': 1, 'источника': 1, 'разрыва': 1, '108': 1, 'стражу': 1, 'Подозреваемого': 1, 'грузоперевозками': 1, 'Отвёз': 1, 'перевозке': 1, 'национальностей': 1, 'Россией': 1, 'Империи': 1, 'награжден': 1, 'Красного': 1, 'Знамени': 1, 'Отечественной': 1, 'медалью': 1, 'Победы': 1, 'облегчить': 1, 'Наконец': 1, 'русским': 1, 'ожидается': 1, 'усматриваются': 1, 'разъясняет': 1, 'заполнил': 1, 'видеосъемку': 1, 'ВУД': 1, 'уд': 1, 'Аннулирован': 1, 'туроператором': 1, 'объявлением': 1, 'состоятся': 1, 'аннулирован': 1, 'нестабильной': 1, 'эпидемиологической': 1, 'Требовала': 1, 'претензиях': 1, 'соблюдением': 1, 'требую': 1, 'произведенную': 1, 'турпутевку': 1, 'указанным': 1, 'перечисленную': 1, 'туроператору': 1, 'Претензии': 1, 'вернулось': 1, 'Областному': 1, 'конверт': 1, 'ответом': 1, 'Претензия': 1, 'продублирована': 1, 'Информация': 1, 'хранении': 1, 'Продублировано': 1, 'подтверждений': 1, 'представил': 1, 'перечислении': 1, 'Турагентом': 1, 'полученных': 1, 'расторгнуты': 1, 'Муниципальном': 1, 'казенном': 1, '133.1': 1, 'неправильному': 1, 'Позднее': 1, 'обжаловал': 1, 'ожидал': 1, '05.03.2020': 1, '24.03.2020': 1, 'частичную': 1, 'расчетной': 1, '16.04.2020': 1, 'ходатайстве': 1, 'представленных': 1, '31.09.2020': 1, 'неправомерно': 1, 'применен': 1, 'исчислять': 1, 'исковыми': 1, 'предписанием': 1, '19.09.2019': 1, 'предписании': 1, 'выплаченной': 1, 'перерасчету': 1, 'переработке': 1, 'неправомерность': 1, 'подтверждается': 1, 'бухгалтерскими': 1, 'платежными': 1, 'поручениями': 1, 'выплатными': 1, 'реестрами': 1, '02.06.2020': 1, 'примененные': 1, 'примириться': 1, 'Отбывал': 1, 'жительницей': 1, 'Освободившись': 1, 'забрало': 1, 'погашенный': 1, 'дотации': 1, 'освобождению': 1, 'Нарушает': 1, 'активных': 1, 'браться': 1, 'безвыходная': 1, 'жилью': 1, 'ресурсах': 1, '05.2020': 1, 'ФНП': 1, 'Вайбер': 1, '3.000': 1, 'переселен': 1, 'программах': 1, 'подписана': 1, 'подарен': 1, 'Внучка': 1, '10-12': 1, 'надеется': 1, 'даренная': 1, 'детей-сирот': 1, 'Долгов': 1, '3.2': 1, 'применяет': 1, 'учётный': 1, 'Коллективный': 1, 'Роман': 1, 'испыт': 1, 'Сроке': 1, 'нед': 1, 'притрудоустройстве': 1, 'молоду': 1, 'писменном': 1, 'удержал': 1, 'отмененному': 1, 'сформирована': 1, 'появившася': 1, 'ода': 1, 'оформлнена': 1, 'откладывали': 1, 'преимущественно': 1, 'заработков': 1, 'вынуждено': 1, 'плохим': 1, 'самочувствием': 1, '1430000': 1, '440000': 1, 'несвоевременной': 1, 'напечатано': 1, '113000': 1, 'послабление': 1, 'проданы': 1, 'рассчитать': 1, 'вышеописанных': 1, 'послабления': 1, 'подсказку': 1, 'НКРФ': 1, 'уменьшении': 1, '13.30': 1, 'отклонил': 1, 'нетрезвым': 1, 'повздорил': 1, 'помял': 1, 'чужую': 1, 'Владелец': 1, '15.09.2019': 1, 'ипешницу': 1, 'парикмахером': 1, 'перезванивал': 1, 'Начальница': 1, 'переделывает': 1, 'действитвия': 1, 'Вывод': 1, 'изложенные': 1, 'подтвердились': 1, 'телефонных': 1, 'правоту': 1, 'Смарт': 1, 'предстоит': 1, 'продавала': 1, 'объектах': 1, 'наушник': 1, 'тише': 1, 'Связался': 1, 'Авторизованным': 1, 'привозите': 1, 'Диагностика': 1, 'Заявленная': 1, 'механической': 1, 'мембраны': 1, 'AirPods': 1, 'Изделия': 1, 'негарантийным': 1, 'Устройство': 1, 'Дальнейшее': 1, 'Повреждение': 1, 'наушника': 1, 'замятие': 1, 'мембрана': 1, 'подлежать': 1, 'имеющие': 1, 'механические': 1, 'рассрочкой': 1, 'проходную': 1, 'плакат': 1, 'предпринимает': 1, 'сдвигов': 1, 'посоветуйте': 1, 'Временный': 1, 'продержать': 1, 'переводя': 1, 'постоянное': 1, 'проработав': 1, 'оплатив': 1, 'ученические': 1, 'срокОна': 1, 'устройством': 1, 'бракованную': 1, 'заменят': 1, 'сломанную': 1, 'машинки': 1, 'неприятно': 1, 'оплаченных': 1, 'приближённый': 1, 'неудобно': 1, 'сады': 1, 'передавая': 1, 'Списывает': 1, 'Фсс': 1, 'арестована': 1, 'Ддя': 1, 'зафиксируем': 1, 'положена—': 1, 'конкретным': 1, 'фиксировать': 1, 'ЦЗС': 1, 'Перерегистрацию': 1, 'авиазаводе': 1, 'трехдневный': 1, 'отгуляем': 1, 'Сломали': 1, 'присвоение': 1, 'брокера-мошенника': 1, 'метражу': 1, 'Собственности': 1, 'сообщением': 1, 'вынесший': 1, 'исцом': 1, 'поручительстве': 1, 'достоверные': 1, 'снятых': 1, 'Определение': 1, 'отнес': 1, 'испорчена': 1, 'форуме': 1, 'подпадающих': 1, 'Составлен': 1, 'найдены': 1, 'найденные': 1, 'наказываются': 1, 'возбуждение': 1, 'ненависти': 1, 'вражды': 1, 'унижение': 1, 'достоинства': 1, 'расы': 1, 'национальности': 1, 'происхождения': 1, 'религии': 1, 'принадлежности': 1, 'канализации': 1, '2-го': 1, 'подрабатывал': 1, 'сторожем': 1, 'отработанного': 1, 'привозить': 1, 'синдромом': 1, 'Дауна': 1, 'Инвалид': 1, 'ливый': 1, 'ри': 1, 'жельё': 1, 'объеденили': 1, 'дополнение': 1, 'процентного': 1, 'реьенка': 1, 'энной': 1, 'лег': 1, 'отложилось': 1, 'выздоровления': 1, 'пролежал': 1, 'свидание': 1, 'мизерном': 1, 'эквиваленте': 1, 'выросла': 1, 'снижают': 1, 'выплаты🤷♀Сам': 1, 'затягивает': 1, 'возражениями': 1, 'встречными': 1, 'исками': 1, 'больничными': 1, 'предоставлениями': 1, 'неполными': 1, 'пакетами': 1, 'документов🤦♀Вопрос': 1, 'добится': 1, 'ускорения': 1, 'процеса': 1, 'Отменят': 1, 'президентские': 1, '1.03.2018': 1, 'догуляла': 1, 'Разделила': 1, 'Отгуливала': 1, 'заложена': 1, 'Сирота': 1, 'очеди': 1, 'покупалось': 1, 'покупках': 1, 'разрешаю': 1, 'заставляла': 1, 'ждал': 1, 'комочек': 1, 'Свое': 1, 'озвучить': 1, 'видится': 1, 'головкой': 1, 'преград': 1, 'родства': 1, 'Носителя': 1, 'Русского': 1, 'Языка': 1, 'штрафная': 1, 'санкция': 1, 'распечатка': 1, 'недопуску': 1, 'располагались': 1, 'компьютеры': 1, 'бух': 1, 'С-отчетность': 1, 'судилось': 1, 'арендодателем': 1, 'меценаты': 1, 'разбежались': 1, 'отстаивать': 1, 'недопуска': 1, 'сдавалась': 1, 'во-первых': 1, 'отчетам': 1, 'представилось': 1, 'ИФНС': 1, 'оповещена': 1, 'тяжб': 1, 'предъявляла': 1, 'являющийся': 1, 'оставшимся': 1, 'седьмом': 1, 'Приказы': 1, 'отпускам': 1, 'материнством': 1, 'подписанные': 1, 'несдачу': 1, 'абонемент': 1, 'потянуть': 1, 'выдавался': 1, 'проигнорировать': 1, 'западном': 1, 'разорился': 1, '114000': 1, 'накатать': 1, 'Принять': 1, 'аналитический': 1, 'аттестационную': 1, 'аттестационной': 1, 'пермского': 1, 'Пьянкова': 1, 'дозвонился': 1, 'подождав': 1, 'Возможна': 1, 'переуступка': 1, 'приостановку': 1, 'пожилая': 1, 'пожилым': 1, 'официальнуюВ': 1, 'уверила': 1, 'переведёт': 1, 'ПФРф': 1, 'перестраховаться': 1, 'пометку': 1, 'нужноКакого': 1, 'инициалы': 1, 'пожилых': 1, 'меняются': 1, 'начислялось': 1, 'кц': 1, 'рПодскажите': 1, 'Выписку': 1, 'возьмуПодскажите': 1, 'приложите': 1, '2015-2016': 1, 'заттот': 1, 'Возражение': 1, 'уведомлена': 1, 'Видать': 1, 'казарма': 1, 'краю': 1, 'просела': 1, 'вывалится': 1, 'лицевая': 1, 'потянет': 1, 'болен': 1, 'покупательница': 1, 'туалетную': 1, '04.10.1994': 1, 'зарождение': 1, '12.12.1994': 1, 'правды': 1, 'кресло': 1, 'фронекс': 1, '04.09.20': 1, '16.09.': 1, 'передвинули': 1, 'Дозвонится': 1, 'Сахалине': 1, 'Камчатку': 1, '6600': 1, 'Женя': 1, 'региональные': 1, 'незамедлительно': 1, 'падала': 1, 'подрабатывала': 1, 'Опекун': 1, 'настрого': 1, 'проявлять': 1, 'накоплениями': 1, 'обуславливая': 1, 'пригодятся': 1, 'предоставляемую': 1, 'любопытно': 1, 'накопилось': 1, 'номинальном': 1, 'выпросила': 1, 'снимались': 1, 'деньгикогда': 1, 'опекуну': 1, 'пожала': 1, 'намудрили': 1, '50-60': 1, 'аргументировала': 1, '1956': 1, 'стоматологическая': 1, 'переоборудовании': 1, 'собственникам': 1, 'тротуара': 1, 'уничтожен': 1, 'газон': 1, 'вырублено': 1, 'засыпан': 1, 'уложена': 1, 'паркуются': 1, 'практикующих': 1, 'пациентов': 1, 'повешена': 1, 'множественная': 1, 'реклама': 1, 'Вход': 1, 'выполнен': 1, 'пристройки': 1, 'отстоит': 1, 'заказанной': 1, 'нежилой': 1, 'обозначено': 1, 'СТРОЕНИЕ': 1, 'укащанных': 1, 'согласии': 1, 'Поставили': 1, 'Зарегистрировавшись': 1, 'пая': 1, '99': 1, 'Сделка': 1, 'состоялась': 1, 'показана': 1, 'измену': 1, 'странах': 1, 'Молдове': 1, 'прикреплённом': 1, 'сопротивляется': 1, 'городок': 1, 'леонидовка': 1, 'пенза': 1, 'пропускают': 1, 'уйдут': 1, 'восстановят': 1, 'младших': 1, 'ждали': 1, 'больницей': 1, 'медперсонал': 1, 'Сотрудника': 1, 'обыске': 1, 'очевидцем': 1, 'Усматриваются': 1, 'Увольнения': 1, 'обьявили': 1, 'нижеоплачиваемой': 1, 'коммерческие': 1, 'контрактов': 1, 'лабораторией': 1, 'Специализации': 1, 'закупок': 1, 'сложную': 1, 'специфику': 1, 'медицины': 1, 'Авто': 1, 'рукописному': 1, 'переплата': 1, 'кадрам': 1, 'Отдала': 1, 'дальнейшую': 1, 'судьбу': 1, 'оставаясь': 1, 'тени': 1, 'Собственниками': 1, 'являлись': 1, 'возьмут': 1, 'интернет-сайт': 1, 'подошло': 1, 'размерам': 1, 'подменная': 1, 'Проработав': 1, 'постоянку': 1, 'подмене': 1, 'разрулить': 1, 'потерю': 1, 'обучила': 1, 'Скандалы': 1, 'ничье': 1, 'рассосется': 1, 'враг': 1, 'Индивидуальным': 1, 'предпринимателям': 1, 'Одного': 1, 'молитвам': 1, 'уговорам': 1, 'надеясь': 1, 'честность': 1, 'дне': 1, 'Ревизия': 1, 'выявила': 1, 'уволенного': 1, 'леса': 1, 'вернулись': 1, 'искал': 1, 'сдам': 1, 'сфотографировали': 1, 'показано': 1, 'позвонят': 1, 'передвижка': 1, 'удобна': 1, 'Которого': 1, 'алдане': 1, 'переносится': 1, 'автоматическую': 1, 'кофемашину': 1, 'krups': 1, 'приготовлении': 1, 'встроенная': 1, 'стакан': 1, 'выливалось': 1, 'горячее': 1, 'малейшей': 1, 'густой': 1, 'пышной': 1, 'отнесли': 1, 'Приготовили': 1, 'продавце': 1, 'исчисляться': 1, '16.09.20': 1, '26.09.20': 1, 'вогнали': 1, 'обо': 1, 'Обговорили': 1, 'отрабатывают': 1, 'Подошла': 1, 'злым': 1, 'недовольным': 1, 'высказалась': 1, 'неадекватная': 1, 'по-свинки': 1, 'повышенном': 1, 'тоне': 1, 'стоящего': 1, 'пк': 1, 'Подписывать': 1, 'Повлияет': 1, 'Материальной': 1, 'встречается': 1, 'навешать': 1, 'стройматериалов': 1, 'Встретились': 1, 'Передал': 1, 'Привезли': 1, 'отговаривался': 1, 'рецедив': 1, 'изменениях': 1, 'лишает': 1, 'Оформляла': 1, 'трудвсем': 1, '24.06.2020': 1, 'ошибкой': 1, 'поделать': 1, 'попытаться': 1, 'бронировании': 1, 'санаторно': 1, 'курортный': 1, 'возвратные': 1, 'перенесена': 1, 'работодатели': 1, 'ЦРС': 1, 'нефтяной': 1, 'понесла': 1, 'невнимательности': 1, 'самолёт': 1, 'Средства': 1, 'агент': 1, 'перевозчика': 1, 'перевозчик': 1, 'агенту': 1, 'шаблонами': 1, 'порекомендовать': 1, 'привит': 1, 'полиемилита': 1, 'САда': 1, 'удалении': 1, 'группах': 1, 'законадетельства': 1, 'Вычитала': 1, 'прививаются': 1, 'календарю': 1, 'обоснованием': 1, 'прочем': 1, 'непривитых': 1, 'привитых': 1, 'родитеей': 1, 'надавили': 1, 'капатся': 1, 'нлмк': 1, 'вышло-в': 1, 'тыкают': 1, 'Приказу': 1, '15.11.2019': 1, 'касающихся': 1, 'потрачены': 1, 'сочла': 1, 'подозреваемую': 1, 'процессуальных': 1, 'суди': 1, 'предоставлена': 1, 'вотак': 1, 'условной': 1, 'самостоятельной': 1, 'высокий': 1, 'накоплению': 1, 'сменились': 1, 'энное': 1, 'заключалась': 1, 'явке': 1, 'взятии': 1, 'определенные': 1, 'предупреждении': 1, 'проделанная': 1, 'празднует': 1, 'отвода': 1, 'проф': 1, 'проишествия': 1, 'отпрашивался': 1, 'технике': 1, 'черевато': 1, 'Травма-': 1, 'прокатывающий': 1, 'станок': 1, 'точного': 1, 'спадет': 1, 'отек': 1, 'перелома': 1, 'агентству': 1, 'Истекли': 1, 'пенсионная': 1, 'трудоустроенным': 1, 'трудоустроенная': 1, 'загнан': 1, 'электр': 1, 'списалась': 1, 'списанную': 1, 'обязательны': 1, 'отчитывался': 1, 'выставляли': 1, 'намерено': 1, 'проживаемс': 1, 'поделят': 1, 'предпенсионером': 1, 'правопреемником': 1, 'составу': 1, 'намеревался': 1, 'будущая': 1, 'сдавались': 1, '1979': 1, 'комсомольский': 1, 'профсоюзный': 1, 'косвенным': 1, '1986-1991': 1, 'намереваюсь': 1, 'проводили': 1, 'определённых': 1, 'старость': 1, 'Надзор': 1, 'попало': 1, 'кодексе': 1, 'приоритет': 1, 'отдается': 1, 'ос': 1, 'авят': 1, 'крики': 1, 'ИНВАЛИД': 1, 'ДЕТСТВА': 1, 'ДОЧЬ': 1, 'ПРОПИСАНА': 1, 'ГОРОДЕ': 1, 'МОСКВЕ': 1, 'МАМИНОМ': 1, 'ДОМЕ': 1, 'ОТЧИМ': 1, 'ТАМ': 1, 'ПРОПИСАН': 1, 'ИМЕЮ': 1, 'ПРАВО': 1, 'НАПИСАТЬ': 1, 'ПОЛИЦИЮ': 1, 'НЕГО': 1, 'ИЗ-ЗА': 1, 'КРИКОВ': 1, 'СКАНДАЛОВ': 1, 'УБЕЖАЛ': 1, 'простейшей': 1, 'закуски': 1, '6100': 1, 'Google': 1, 'Pay': 1, 'Спрашивая': 1, 'официанток': 1, 'смотрите': 1, 'одиночном': 1, 'столике': 1, 'темноте': 1, 'разглядеть': 1, 'VK': 1, 'коктейли': 1, 'пробивали': 1, '347': 1, 'заказанное': 1, 'блюдо': 1, 'пробитых': 1, 'заказанных': 1, 'приносили': 1, 'здраво': 1, 'минуту': 1, 'заморозить': 1, 'немаленькая': 1, 'неподъемная': 1, 'автомобилем': 1, 'ограничениях': 1, '17.17': 1, 'ограничении': 1, 'студия': 1, 'интересуется': 1, 'школьном': 1, 'ракеты': 1, 'двигателя': 1, 'используем': 1, 'селитру': 1, 'двигатель': 1, 'искры': 1, 'взрывного': 1, 'трасса': 1, 'отсыпать': 1, 'трассе': 1, '010624': 1, 'прилегает': 1, 'снт': 1, '010500': 1, 'Ходатайствую': 1, '01.01.2011': 1, '31.08.2020': 1, 'Ответчиком': 1, 'предъявлен': 1, 'Отчет': 1, '01.08.2015': 1, '01.02.2020': 1, '478,00': 1, 'уменьшаю': 1, '31.01.2020': 1, 'предъявляю': 1, 'уточнение': 1, 'извещать': 1, 'сектора': 1, 'нижестоящая': 1, 'перепланировка': 1, 'сущая': 1, 'докум-в': 1, 'возникнуть': 1, 'россреестре': 1, '61.2': 1, '61.5': 1, 'напугали': 1, 'оф-ть': 1, 'Старшей': 1, 'насчитывают': 1, 'Удовлетворит': 1, 'заказу': 1, 'доукомплектовали': 1, 'полкой': 1, 'ящике': 1, 'механихму': 1, 'закрываться': 1, 'укорачивать': 1, 'подъемного': 1, 'му': 1, 'повешены': 1, 'щели': 1, 'отрегулированы': 1, 'фасадов': 1, 'прикручен': 1, 'сколы': 1, 'устанавливал': 1, 'отрегулировать': 1, 'перевесил': 1, 'висящий': 1, 'прикрытие': 1, 'выровнен': 1, 'установщик': 1, 'выдвижной': 1, 'механизм': 1, 'преиензиям': 1, 'переделаю': 1, 'Слишком': 1, 'косяков': 1, 'фабрики': 1, 'займёт': 1, 'принес': 1, 'справку-вызов': 1, 'выплаченными': 1, 'отпускными': 1, 'кадастровые': 1, 'месторасположением': 1, 'издержки': 1, 'межевого': 1, 'понесенные': 1, 'Подскажи': 1, 'формулировка': 1, 'расценка': 1, 'добытое': 1, 'сырье': 1, 'Слово': 1, 'северной': 1, 'Договором': 1, 'пятью': 1, 'годами': 1, 'пробегом': 1, 'наступит': 1, 'выявлены': 1, 'направлена': 1, 'использовался': 1, 'Указанный': 1, 'устранению': 1, 'устранил': 1, 'отработанный': 1, 'море': 1, 'Государственного': 1, 'ГАУЗ': 1, 'Санаторий': 1, 'подведомственным': 1, 'учреждением': 1, 'эпидемии': 1, 'обсерватор': 1, '13.04.20': 1, 'создании': 1, 'требуемых': 1, 'санитарно-технических': 1, 'организационных': 1, 'Точных': 1, 'Работники': 1, 'проинформированы': 1, '2/': 1, 'длительным': 1, 'узнаём': 1, 'выделы': 1, 'региональных': 1, 'продлится': 1, 'информируют': 1, 'оговариваться': 1, 'владея': 1, 'малонаселенном': 1, 'просим': 1, 'аспекты': 1, 'Проведение': 1, 'капитальных': 1, 'Простой': 1, 'Просим': 1, 'документальной': 1, 'представлено': 1, 'градостроительства': 1, 'отступы': 1, 'ограждения': 1, 'занимаемая': 1, 'совместном': 1, 'завысил': 1, 'така': 1, 'весят': 1, 'тьма': 1, 'просишь': 1, 'посидеть': 1, 'водку': 1, 'заптсан': 1, 'свед': 1, 'северном': 1, 'кавказе': 1, 'малейший': 1, 'пожарным': 1, 'Спереди': 1, 'переднее': 1, 'стёкла': 1, 'тонированные': 1, 'присесть': 1, 'заднего': 1, 'пассажирского': 1, 'сиденья': 1, 'дыхнул': 1, 'подписался': 1, 'отстранение': 1, 'управлял': 1, 'Заберут': 1, 'немец': 1, 'бабушкиной': 1, '21000': 1, 'сруб': 1, 'сруба': 1, 'тайно': 1, 'проникшего': 1, 'похитившего': 1, '1980-90': 1, 'Косили': 1, 'заготавливали': 1, 'Высчитывают': 1, 'Проезд': 1, 'выплатите': 1, 'удалённую': 1, 'инд': 1, 'Код': 1, '1976': 1, 'паи': 1, 'выкуплены': 1, 'собственницы': 1, 'Допустим': 1, 'действием': 1, 'Интернете': 1, 'беспредел': 1, 'формулировок': 1, 'подпадать': 1, 'месячным': 1, 'грудничком': 1, 'Переезжать': 1, 'собираемся': 1, 'конкретнее': 1, 'старшим': 1, 'электромехаником': 1, 'соседней': 1, 'механики': 1, 'душа': 1, 'техническое': 1, 'колясок': 1, 'велосипедов': 1, 'поселился': 1, 'зек': 1, 'туалетом': 1, 'душем': 1, 'пожилой': 1, 'думают': 1, 'отличные': 1, 'помощников': 1, 'хозяйству': 1, 'артрита': 1, 'испортит': 1, 'проживающего': 1, 'конфликтные': 1, 'существенного': 1, 'временая': 1, 'Украинском': 1, 'языке': 1, 'русском': 1, 'нотприально': 1, 'Перевод': 1, 'Инженер': 1, 'систем': 1, 'технологий': 1, 'информатики': 1, 'профстандарт': 1, 'педагогическую': 1, 'переподготовку': 1, 'профстандарту': 1, 'профстандарте': 1, 'соответствие': 1, 'записалась': 1, 'дистанционной': 1, 'педагогической': 1, '14.06.20': 1, '3.08.20': 1, 'военным': 1, 'падчерицей': 1, 'крыш': 1, 'воспитатели': 1, 'сьезжаем': 1, 'закс': 1, 'оценщику': 1, 'определенное': 1, '26600': 1, 'подписывайте': 1, 'независимого': 1, 'насчитает': 1, 'независимый': 1, 'логистом': 1, 'перевозка': 1, '132000': 1, '10.10.20': 1, 'Вуз': 1, 'Явку': 1, '20.11.2019': 1, 'бесхозное': 1, 'Обстановка': 1, 'напряженная': 1, 'частое': 1, 'выяснение': 1, 'предлагаем': 1, 'кошки': 1, 'следит': 1, 'увезешь': 1, 'исходы': 1, 'утраченных': 1, 'амортизации': 1, 'Основные': 1, 'эксплуатировались': 1, 'механических': 1, 'Донецке': 1, 'днр': 1, 'вписывал': 1, 'ДНР-РФ': 1, 'подрезали': 1, 'куст': 1, 'чего-то': 1, 'Никакие': 1, 'ударила': 1, 'кошельком': 1, 'САМ': 1, 'ПМПК': 1, 'адаптированной': 1, 'умственной': 1, 'отсталостью': 1, 'интеллектуальными': 1, 'легкой': 1, 'Пр': 1, '15991': 1, 'ИН': 1, 'Форма': 1, 'образования-в': 1, 'осуществляющей': 1, 'Использование': 1, 'Учебников': 1, 'подбор': 1, 'Учебного': 1, 'дидактического': 1, 'материала': 1, 'перепройти': 1, 'перепрохождения': 1, 'словесной': 1, 'зачлись': 1, 'переподписания': 1, 'Увольняясь': 1, 'подрабтки': 1, '2-хкомнатной': 1, 'приобретенной': 1, '2-хкомнатная': 1, 'взрослого': 1, 'родственном': 1, 'дележе': 1, 'делим': 1, 'отказываемся': 1, 'регламентируются': 1, 'списанием': 1, 'топлива': 1, 'психологического': 1, 'внесению': 1, 'Морально': 1, 'унижает': 1, 'унизительные': 1, 'вахта': 1, 'Арендовал': 1, 'Пробили': 1, 'стоянки': 1, 'вычерк': 1, 'свЗи': 1, 'доверил': 1, 'отделов': 1, 'сверку': 1, 'остатками': 1, 'остаткам': 1, 'исправлял': 1, 'сверить': 1, 'выравнивал': 1, 'выписывали': 1, 'апеляцоную': 1, 'затянулось': 1, 'обманывает': 1, 'СНЯТЬ': 1, 'РЕГИСТРАЦИОННОГО': 1, 'УЧЁТА': 1, 'размешена': 1, 'выставлять': 1, 'всеобщее': 1, 'осмотрение': 1, 'социсточника': 1, 'Первую': 1, 'квитанцию': 1, 'письмо-постановление': 1, 'отведено': 1, 'устраивался': 1, 'духе': 1, 'жильцами': 1, 'зарегистрированно': 1, 'изимут': 1, 'зарегестрированы': 1, '01.04.2020': 1, '27.05.2020': 1, '06.06.2020': 1, 'отстажировалась': 1, 'заявляют': 1, 'грозятся': 1, 'умвд': 1, 'сложившийся': 1, 'малолетним': 1, 'Родилась': 1, 'приравненном': 1, 'окладу': 1, 'Переехала': 1, 'Сахалин': 1, 'Бурятия': 1, '31.12.1987': 1, '794/33-82': 1, 'утверждении': 1, 'методе': 1, '7.1': 1, 'Ежегодный': 1, 'занятым': 1, 'отгулов': 1, 'унижать': 1, 'съехала': 1, 'привозит': 1, 'Общению': 1, 'препятствую': 1, 'начнется': 1, 'Одежду': 1, 'Чем-то': 1, 'полезным': 1, 'сти': 1, 'взыскали': 1, 'заявлениях': 1, 'прибавленную': 1, 'инстанцией': 1, 'Апелляционное': 1, 'апелляционного': 1, 'молодетской': 1, 'определенного': 1, 'оплачивался': 1, 'продлялся': 1, 'прекращена': 1, 'Мфо': 1, 'передало': 1, 'согласится': 1, 'заплачены': 1, 'пролонгациями': 1, 'момент-': 1, 'пы': 1, 'сы': 1, 'Сотрудником': 1, 'авансовый': 1, '20.08.2020': 1, 'авансового': 1, 'авиабилет': 1, '31.05.2020': 1, '2,00': 1, '04.06.2020': 1, '28.07.2020': 1, '13.08.2020': 1, '3,00': 1, 'представленным': 1, 'проезду': 1, '26.05.2020': 1, '19.06.2020': 1, '24.09.2021': 1, 'Право': 1, 'работодателей': 1, 'относящихся': 1, 'устанавливаются': 1, 'коллективными': 1, 'локальными': 1, 'принимаемыми': 1, 'выборных': 1, 'первичных': 1, 'профсоюзных': 1, 'трудовыми': 1, 'Коллективным': 1, '2019-2021': 1, '28.03.2019': 1, '7.9': 1, 'Общества': 1, 'подразделений': 1, 'железнодорожным': 1, 'транспортом': 1, 'купе': 1, 'авиатранспортом': 1, 'экономкласс': 1, 'провоз': 1, 'Коллективного': 1, 'Ваших': 1, 'разъяснений': 1, 'правомерности': 1, 'консультантом': 1, 'актив': 1, 'перезвонить': 1, 'пропадать': 1, 'веская': 1, 'отвечала': 1, 'пропадала': 1, 'аворийном': 1, 'признавали': 1, 'Перевели': 1, 'новорождённым': 1, 'патологии': 1, 'помириться': 1, 'подашь': 1, 'посажу': 1, 'Ехал': 1, 'Наследник': 1, 'насильственные': 1, 'пионерском': 1, 'лагере': 1, 'Тема': 1, 'травматичная': 1, 'похоронена': 1, 'глубинах': 1, 'психики': 1, 'страшна': 1, 'Всплыла': 1, 'психотерапевтом': 1, 'пересмотрен': 1, '78': 1, 'детдомовская': 1, 'детдомовскими': 1, 'муниципальному': 1, 'округу': 1, 'БСМ': 1, 'развиваться': 1, 'события': 1, 'описан': 1, 'всеь': 1, 'Статьи': 1, 'поздравило': 1, 'записало': 1, 'отправило': 1, 'оценить': 1, 'поздравления': 1, 'благодарности': 1, 'юбиляру': 1, 'отчеству': 1, 'Нарушило': 1, 'записавшее': 1, 'отправившее': 1, 'отвественность': 1, 'Банке': 1, 'кредитованием': 1, 'выполняю': 1, 'ситуацияМой': 1, 'постоянный': 1, 'Своей': 1, 'Метров': 1, 'навещает': 1, 'забыл': 1, 'неполностью': 1, 'производила': 1, 'Северсталь': 1, 'пропускам': 1, '18-20': 1, 'человекаМать': 1, 'Наше': 1, 'разнополость': 1, 'второстепенной': 1, 'направо': 1, 'краем': 1, 'остановилась': 1, 'налево': 1, 'левую': 1, 'знак': 1, 'уступи': 1, 'тётка': 1, 'Передали': 1, '1-Если': 1, 'опрошены': 1, 'понятые': 1, 'копирование': 1, '2-Обязателен': 1, 'изъятии': 1, 'присутствие': 1, '3-В': 1, 'полные': 1, 'Полные': 1, 'копируется': 1, 'Количество': 1, 'копированных': 1, 'испытательном': 1, 'вычитывать': 1, 'секционном': 1, 'Несовершеннолетних': 1, 'обраться': 1, 'разошлет': 1, 'задаток': 1, 'риэлтаров': 1, 'г-2002': 1, 'Часто': 1, 'Бытовые': 1, 'ссоры': 1, 'навестить': 1, 'Подрабатываю': 1, 'нв': 1, 'Совместного': 1, 'иммущества': 1, 'приобреталось': 1, 'видеда': 1, 'блокировке': 1, 'пароле': 1, 'венерическом': 1, 'переспала': 1, 'деревню': 1, 'Алиментс': 1, 'тётей': 1, 'обследовали': 1, 'проверялся': 1, '16.08.2020': 1, 'ладит': 1, 'бывшею': 1, 'педагогика': 1, 'профильному': 1, 'педагогическому': 1, 'перечисляются': 1, 'Родственница': 1, 'Жен': 1, 'родправ': 1, 'сложнее': 1, 'заграницам': 1, 'присылала': 1, 'заграницей': 1, 'приездов': 1, 'зависимостью': 1, 'запои': 1, 'асоциально': 1, 'носится': 1, 'долгах': 1, 'Поговаривает': 1, 'расшатал': 1, 'оглядки': 1, 'прошлое': 1, 'насилия': 1, 'наберёт': 1, 'подложным': 1, 'Арб-ном': 1, 'подложные': 1, 'неизвестному': 1, 'уг': 1, 'оспорю': 1, 'рейдерский': 1, 'захват': 1, 'пройдут': 1, 'апелляция': 1, 'Воевать': 1, 'нецензурно': 1, 'утверждающих': 1, 'состоящих': 1, 'заявителем': 1, 'штрафстоянки': 1, 'откладывают': 1, '9000': 1, 'продлевала': 1, 'маминого': 1, 'представилась': 1, 'отберут': 1, 'нюансах': 1, 'возвращен': 1, 'агентскому': 1, 'электронного': 1, 'Посмотреть': 1, 'Сайт': 1, 'высылала': 1, 'таковым': 1, 'палатку': 1, 'кофе': 1, 'некем': 1, '9-00': 1, '21-': 1, 'хамски': 1, 'направляя': 1, 'оформлению': 1, 'шапки': 1, 'удобное': 1, 'неприватизированного': 1, 'предлагается': 1, 'новостройке': 1, 'гостиница': 1, 'подделывает': 1, 'смердящем': 1, 'запахе': 1, 'исходящем': 1, 'превратила': 1, 'маргиналов': 1, 'платежеспособен': 1, 'неправомерному': 1, 'неправомочный': 1, 'подготовил': 1, 'уплачиваются': 1, 'прилагать': 1, 'Детали': 1, 'подробные': 1, 'приложенном': 1, 'свидетелях': 1, 'Клеветой': 1, 'соседку': 1, 'надёжнее': 1, 'фальсификацией': 1, 'коллективного': 1, 'покупательского': 1, 'экстремизма': 1, 'косметики': 1, 'полочках': 1, 'тестеры': 1, 'помечен': 1, 'наклейкой': 1, 'Тестер': 1, 'протягивают': 1, 'тестеров': 1, 'вскрывают': 1, 'Разумеется': 1, 'редких': 1, 'скандалить': 1, 'таможенных': 1, 'звание': 1, 'госслужащим': 1, 'смехотворной': 1, 'застрахованным': 1, 'парадокс': 1, 'среднедушевого': 1, 'оформленная': 1, 'подлежащей': 1, 'равноценное': 1, '36-ЗАО': 1, '28-3': 1, 'отступных': 1, 'Санитарный': 1, 'Посетители': 1, 'академических': 1, '21.12.2013': 1, '376-ФЗ': 1, 'изголовье': 1, 'проветривали': 1, 'пылесосили': 1, 'проветривать': 1, 'бракованным': 1, 'Билайн': 1, 'участковой': 1, 'оперирована': 1, 'позвоночнике': 1, 'ИПР': 1, 'индивидуальная': 1, 'приему': 1, 'участковая': 1, 'иа': 1, 'лифт': 1, 'сырая': 1, 'чёрные': 1, 'линевка': 1, 'забита': 1, 'козырёк': 1, 'сгнил': 1, 'трескаться': 1, 'Поменяла': 1, 'негодность': 1, 'жек': 1, 'признанной': 1, 'переселять': 1, 'педагогического': 1, 'студентов': 1, 'психическом': 1, 'перечисленные': 1, 'постах': 1, 'Неравнодушная': 1, 'увидевшая': 1, 'следят': 1, 'подозреваем': 1, 'отстаёт': 1, 'Выйдет': 1, 'важнее': 1, 'учениками': 1, 'Прецеденты': 1, 'психотерапевту': 1, 'Мошенники': 1, 'яндекс': 1, 'Украли': 1, 'изымут': 1, 'видимся': 1, 'железнодорожных': 1, 'прямых': 1, 'вписаны': 1, 'специальностей': 1, 'дополнит': 1, 'территорий': 1, 'заступлением': 1, 'примирились': 1, 'пробеге': 1, '289': 1, 'округ': 1, 'взялась': 1, 'табелируют': 1, '10,5': 1, 'положенным': 1, 'прибавили': 1, 'карьерных': 1, 'засчитывают': 1, 'оплачиваемой': 1, 'согласием': 1, '08.04.2019': 1, '17.09.2020': 1, 'Заплатили': 1, 'заверяли': 1, 'оговорены': 1, 'Разбила': 1, 'Заменили': 1, 'перепрошивка': 1, 'работало': 1, 'приносите': 1, 'исчезли': 1, 'оригинала': 1, 'айфон': 1, 'изображение': 1, 'тусклое': 1, 'Китай': 1, 'выдавая': 1, 'заложил': 1, 'быстрое': 1, 'скором': 1, 'самоизоляция': 1, 'Залез': 1, '18-ти': 1, 'удалю': 1, 'кошелёк': 1, 'занимайтесь': 1, 'близкий': 1, 'интернет-банком': 1, 'Доверенностей': 1, 'Наказуемо': 1, 'оформляют': 1, 'начнёт': 1, 'февраль-август': 1, 'прошествия': 1, 'прошение': 1, 'Кристина': 1, 'погостить': 1, 'РОВД': 1, 'сдан': 1, 'Ликвидатор': 1, 'машинистом': 1, 'катка': 1, 'грунтового': 1, 'привилегии': 1, 'ребёнка-в': 1, 'психологическое': 1, 'Доказательств': 1, 'разговорить': 1, 'установив': 1, 'Личные': 1, 'приятеля': 1, 'запрещенное': 1, 'вещество': 1, 'незначительном': 1, 'приятель': 1, 'объяснении': 1, 'употребляли': 1, 'подтянуть': 1, 'употреблению': 1, 'Приятель': 1, 'Телефона': 1, 'Сотруднице': 1, 'решал': 1, 'возмущенно': 1, 'Продолжать': 1, 'молчать': 1, 'Справок': 1, 'запрашивала': 1, 'нижеоплачиваемую': 1, 'совершенное': 1, 'военнослужащие': 1, 'вышестоящее': 1, 'неудовлетворительную': 1, 'Петр': 1, 'Петру': 1, 'Кате': 1, 'свадьба': 1, 'простудой': 1, 'Катю': 1, 'Иване': 1, 'жизниБ': 1, 'рассказав': 1, 'неком': 1, 'згнакомом': 1, 'Леной': 1, 'храпела': 1, 'рассказ': 1, 'составляющих': 1, 'выступлении': 1, 'демонстрирующемся': 1, 'произведении': 1, 'средствах': 1, 'привычку': 1, 'огорожена': 1, 'железным': 1, 'пинкод': 1, 'нарушают': 1, 'теще': 1, 'пообещав': 1, 'Мая': 1, 'изрядно': 1, 'чайно': 1, 'полицейский': 1, 'Сохранится': 1, 'ожидают': 1, 'Ип': 1, 'необратима': 1, 'особых': 1, 'разной': 1, 'измучены': 1, 'отношениями': 1, 'пап': 1, 'целуются': 1, 'обнимают': 1, 'осложняет': 1, 'финансовое': 1, 'пи': 1, 'очках': 1, 'подвчы': 1, 'ФОП': 1, 'разбирайся': 1, 'потрачено': 1, 'банально': 1, 'еды': 1, 'каждодневных': 1, 'юристыПодскажите': 1, 'ОКС': 1, 'описана': 1, 'мала': 1, 'Подходит': 1, 'готовят': 1, 'подтверждали': 1, 'позреваемый': 1, 'ограничено': 1, 'дееспособен': 1, 'расчётного': 1, 'Заключается': 1, 'смешанные': 1, 'супругам': 1, 'обязательному': 1, 'заверению': 1, 'сдвигается': 1, 'Посадили': 1, 'covid': 1, 'Выходные': 1, 'Переработку': 1, 'исполняли': 1, 'Увезла': 1, 'алкоголем': 1, '01/07/20': 1, '30/07/20': 1, 'Окончательный': 1, '28/07/20': 1, '24/07/20': 1, 'Ориентировочная': 1, '03/08/20': 1, 'нетрудоспо': 1, 'обности': 1, 'Ответчику': 1, 'Обращаясь': 1, 'специальным': 1, 'вносил': 1, 'Задолжал': 1, '1.03.20': 1, 'конкурсной': 1, 'МУП': 1, 'барменом': 1, 'самих': 1, 'Исполнительский': 1, 'такой-то': 1, 'Какая-то': 1, 'ВЗЯЛИ': 1, 'пьяную': 1, 'драку': 1, 'Требований': 1, 'просроченной': 1, 'нарастила': 1, 'ресницу': 1, 'веку': 1, 'приклеины': 1, 'покраснел': 1, 'щипал': 1, 'пучок': 1, 'приклеен': 1, 'Глаз': 1, 'красный': 1, 'Покупаем': 1, 'прикрепила': 1, 'обвела': 1, 'теряют': 1, 'штрафу': 1, 'совершен': 1, 'Тех': 1, 'ограничивать': 1, 'отцу-алиментщику': 1, 'гипоксия': 1, 'бронхиальная': 1, 'астма': 1, 'подселенка': 1, 'высказывал': 1, 'оскорбительные': 1, 'собеседника': 1, 'сугубо': 1, 'Оскорбление': 1, 'властиПубличное': 1, '-наказывается': 1, 'сорока': 1, 'трехсот': 1, 'шестидесяти': 1, 'исправительными': 1, 'Помогает': 1, 'хронические': 1, 'Затрудняюсь': 1, 'заполнением': 1, 'медкарт': 1, 'позволю': 1, 'прикоснуться': 1, 'ручонками': 1, '****': 1, 'вырву': 1, 'смеешься': 1, 'набираю': 1, 'качаться': 1, 'трясти': 1, 'вены': 1, 'приближение': 1, 'Опекуном': 1, 'Назначены': 1, 'тратах': 1, 'субсидии-': 1, 'учитывают': 1, 'забеременеть': 1, 'родить': 1, 'запрашиваемой': 1, 'Росгвардии': 1, 'постоянном': 1, 'нетрудоспособная': 1, 'вощможности': 1, 'кадры': 1, 'инициаторами': 1, 'окружная': 1, 'Завладев': 1, 'Клиента': 1, 'общепита': 1, '6.9': 1, 'газопровод': 1, 'Смоленск': 1, 'Смоленскмежрегионгаз': 1, 'Какте': 1, 'принятых': 1, '04.06.2007': 1, '343': 1, 'компенсационные': 1, 'престарелым': 1, 'достигшим': 1, 'подтверждающее': 1, 'фактический': 1, 'компенсационную': 1, 'Выплата': 1, 'переехавшим': 1, 'получавшим': 1, 'уточнения': 1, 'текущим': 1, 'суббота-среда': 1, 'четверг-пятница': 1, 'оплачивающих': 1, 'зарегистрированных': 1, 'въезжать': 1, 'препятствовали': 1, 'Услышала': 1, '720': 1, 'семейной': 1, 'Поменял': 1, 'одобрять': 1, 'произойти': 1, 'слияние': 1, 'фермера': 1, 'теряется': 1, 'фермер': 1, 'надеть': 1, 'коров': 1, 'GPS': 1, 'трекером': 1, 'уточнив': 1, 'Здесь': 1, 'фермере': 1, 'разместившем': 1, 'Незаконный': 1, 'оборот': 1, 'информацииНезаконные': 1, 'сбыт': 1, 'Именно': 1, 'годовалая': 1, 'Барнаула': 1, 'обжалоать': 1, 'совмещённые': 1, 'Отказываться': 1, 'конфликте': 1, 'душить': 1, 'вырваться': 1, 'пустой': 1, 'пальцам': 1, 'разрезал': 1, 'Вызвал': 1, 'самообороной': 1, 'Родственники': 1, 'Привели': 1, 'Сходили': 1, 'устном': 1, 'сможете': 1, 'продайте': 1, 'Дачу': 1, 'молчок': 1, 'Знакомой': 1, 'Знакомая': 1, 'накопленный': 1, '462': 1, 'платя': 1, 'думали': 1, 'приобретают': 1, 'принадлежащая': 1, 'накопленного': 1, 'сокрыли': 1, 'Видимо': 1, 'риелтором': 1, 'Описываю': 1, 'разбирающейся': 1, 'обострилась': 1, 'злостью': 1, 'риелтор': 1, 'кучей': 1, 'Получить': 1, 'покупателям': 1, 'наняли': 1, 'Идя': 1, 'поскользнулась': 1, 'медпункт': 1, 'госпитализировали': 1, 'Н-1': 1, 'обвиняемая': 1, 'Очно': 1, 'инет': 1, 'сунуть': 1, 'МИФНС': 1, 'Административное': 1, 'недоимке': 1, 'налогу': 1, '19.02.20': 1, 'Расмотрение': 1, '28.07.20': 1, 'АИЗ': 1, 'КАС': 1, 'рание': 1, 'заключив': 1, 'обязывает': 1, 'встроенно-пристроенной': 1, 'входом': 1, 'оплачивать-санитарное': 1, 'лестничных': 1, 'клеток': 1, 'подъездах': 1, 'никаким': 1, 'боком': 1, 'санитарное': 1, 'территории-вывоз': 1, 'негабаритного': 1, 'мусора-организацию': 1, 'ТБО-техническое': 1, 'дворником': 1, 'утилизацию': 1, 'включать': 1, 'водосточной': 1, 'отмостки': 1, 'влажность': 1, '20.25': 1, 'коап': 1, 'назначенное': 1, 'изложив': 1, 'перенесении': 1, 'уклоняюсь': 1, 'произвела': 1, 'решается': 1, 'организатор': 1, 'устраивается': 1, 'дистанционного': 1, 'педагога-организатора': 1, 'увольняет': 1, 'восстанавливает': 1, 'организатора': 1, '20.07': 1, 'отклоняется': 1, 'разводят': 1, 'руками': 1, 'недельку': 1, 'решиться': 1, 'типо': 1, 'Времени': 1, 'отводить': 1, 'устроенного': 1, 'авиа': 1, 'Турции': 1, 'авиалинии': 1, 'кризис': 1, 'путешествии': 1, 'вытянуть': 1, 'Следующий': 1, 'безработных': 1, 'занимают': 1, 'чтобывстать': 1, 'попадешь': 1, 'кураторы': 1, 'Короче': 1, 'отговорили': 1, 'вынужденавстать': 1, '01.10.19': 1, 'Соглашению': 1, '30.06.20': 1, 'куратор': 1, 'назначила': 1, 'Сославшись': 1, 'достучаться': 1, 'интервью': 1, 'Центра': 1, 'Верой': 1, 'Мангилевой': 1, '25.04.2020': 1, 'revda-info': 1, '2020/04/25': 1, 'maksimalnoe-posobie-po-bezrabotitse': 1, 'уволены': 1, 'процентном': 1, 'вашему': 1, 'среднемесячному': 1, 'заработку': 1, 'максимального': 1, 'минимального': 1, 'имеешь': 1, 'постановкой': 1, 'Размеры': 1, 'уволенным': 1, 'любым': 1, 'предшествовавших': 1, 'безработицы': 1, 'состоявшим': 1, 'признанным': 1, 'безработными': 1, 'среднемесячного': 1, 'исчисленного': 1, 'последнему': 1, 'максимальной': 1, 'увеличенных': 1, 'большее': 1, 'назначившие': 1, 'по-своему': 1, 'интерпретируют': 1, 'обьяснительную': 1, 'спецобуви': 1, 'ИТР': 1, 'спецобувь': 1, 'создается': 1, 'предвзятое': 1, 'стажёр': 1, 'Собралась': 1, 'максимальный': 1, 'корновируса': 1, 'найдет': 1, 'подводный': 1, 'камень': 1, 'чужих': 1, 'навязанных': 1, 'чрезвычайная': 1, 'ливень': 1, 'град': 1, 'размером': 1, 'перепелийного': 1, 'яйца': 1, 'наслаждения': 1, 'пластиковую': 1, '37000': 1, 'купли-ПРОДАЖИ': 1, '1.10': 1, 'рассмотрят': 1, 'увеличат': 1, 'уменьшили': 1, 'Переводились': 1, '30.04.19': 1, 'помещению': 1, 'приостановке': 1, 'предстоящего': 1, 'отдельному': 1, 'подобная': 1, 'предметом': 1, 'заявленных': 1, 'несоразмерной': 1, 'юрлица': 1, 'явствовало': 1, 'действующее': 1, '29.04.19': 1, 'проигнорирован': 1, '14.05.20': 1, 'субсидиарной': 1, 'учредителей': 1, 'полагался': 1, 'существенно': 1, 'учредители': 1, 'ГЛАВНЫЙ': 1, 'перспектива': 1, 'компенсирующей': 1, 'направленности': 1, 'списались': 1, 'выяснился': 1, 'подводных': 1, 'камней': 1, 'внешнему': 1, 'доктору': 1, 'уведомят': 1, 'Ездил': 1, 'суточные': 1, 'проживании': 1, 'отчитываюсь': 1, 'отчету': 1, 'основывая': 1, 'телеграммы': 1, 'обоснованным': 1, 'Судима': 1, '18.04.20': 1, '29.04.20': 1, 'пересчитали': 1, '11700': 1, '28.04.20': 1, 'вертолетом': 1, 'Менять': 1, 'обусловливая': 1, '111.4': 1, '13.07': 1, '26.07': 1, 'осн': 1, '27.07': 1, 'мнне': 1, 'ОК': 1, 'допотпуска': 1, 'двухнедельного': 1, 'автоматическое': 1, 'определённое': 1, 'определённому': 1, 'назадДеньги': 1, 'заставлял': 1, 'областяхВ': 1, 'километрах': 1, 'минуты': 1, 'Суде': 1, 'излишне': 1, 'Аналогичные': 1, 'выйграны': 1, 'апеляцию': 1, 'кассацию': 1, 'предъявила': 1, 'имевшейся': 1, 'заявляя': 1, 'вквитанциях': 1, 'былпредъявлен': 1, 'утверждённый': 1, 'опратистовывался': 1, 'оказанным': 1, 'предъявляют': 1, 'Услуги': 1, 'согласованным': 1, 'Мерила': 1, 'одела': 1, 'безнадежно': 1, 'жмут': 1, 'больший': 1, 'сбер': 1, 'коплю': 1, 'ден': 1, 'списанные': 1, 'Киевской': 1, 'Крымчанин': 1, 'Крымской': 1, 'двоюродную': 1, 'тётю': 1, 'втроём': 1, 'Ведут': 1, 'Спать': 1, 'ложатся': 1, 'громкие': 1, 'Танки': 1, 'известная': 1, 'орёт': 1, 'Орёт': 1, 'Просьбы': 1, 'Никогда': 1, 'Пригрозить': 1, 'угомонятся': 1, 'Состав': 1, 'Вычитается': 1, '58.2': 1, '59.6': 1, 'проделанную': 1, 'Готовлю': 1, 'снижении': 1, 'иимея': 1, 'учитываю': 1, 'оперирировать': 1, 'фактами': 1, 'проживанияСпасибо': 1, 'Судебным': 1, 'выигранного': 1, 'аукционе': 1, 'Удержания': 1, 'производятся': 1, 'Волгограде': 1, 'наложившие': 1, 'Алании': 1, 'однушке': 1, 'трасс': 1, 'расписывается': 1, 'слесарей': 1, 'Сокращают': 1, 'уходила': 1, 'перерасход': 1, 'вскрыл': 1, 'адресат': 1, 'делались': 1, 'поможете': 1, 'правильное': 1, 'даных': 1, 'мошеннику': 1, 'черном': 1, 'грн': 1, 'банковская': 1, 'Целью': 1, 'мелкий': 1, 'промышляет': 1, 'шантажом': 1, 'причинении': 1, 'Соседский': 1, '11800': 1, 'покупался': 1, '1.06.20': 1, 'починить': 1, 'запчастей': 1, 'Другой': 1, 'зарплатую': 1, '02.19': 1, 'методистом': 1, '30.06.2020': 1, 'вынудили': 1, 'сократил': 1, 'удивлению': 1, 'скоринговый': 1, 'балл': 1, 'балов': 1, 'успокоившись': 1, 'сослался': 1, 'эпидемией': 1, 'успокоился': 1, 'совету': 1, 'хранится': 1, 'сделав': 1, 'удивлен': 1, 'возросли': 1, 'негативную': 1, 'непонятной': 1, 'поездку': 1, 'Абхазию': 1, 'противном': 1, 'совершали': 1, 'бронью': 1, 'повременили': 1, 'Граница': 1, 'переносили': 1, 'затруднительное': 1, 'Абхазии': 1, 'придеться': 1, 'дешево': 1, 'недельном': 1, 'карантине': 1, 'полноценно': 1, 'отнесется': 1, 'лояльно': 1, 'Букингом': 1, 'отель': 1, 'путевку': 1, 'Букинга': 1, 'брони': 1, 'отелем': 1, 'неудобные': 1, 'Тула': 1, 'разведен': 1, 'поссорились': 1, 'оф': 1, '10500': 1, 'Подписывал': 1, 'удалёнке': 1, 'электронно-': 1, 'редактор': 1, 'PowerPoint': 1, 'портит': 1, 'предоставляющими': 1, 'натворил': 1, 'угаре': 1, 'смеситель': 1, 'Затопил': 1, 'перебивается': 1, 'подработками': 1, 'различными': 1, 'пропивает': 1, 'возложит': 1, 'Краснокаменск': 1, 'Забайкальского': 1, 'присылая': 1, 'реализацию': 1, '968': 1, '000-2000000': 1, 'Расскажу': 1, 'долевом': 1, 'строительстве': 1, 'достраивать': 1, 'конкурсному': 1, 'конкурсного': 1, 'обозначен': 1, 'обанкротившейся': 1, 'неисполненых': 1, '201.5': 1, '26.10.2002': 1, '835,167': 1, 'Неустойка': 1, 'обнулить': 1, 'межвахтовый': 1, 'туже': 1, 'Зарабатывает': 1, 'осуществил': 1, 'бан': 1, 'музыкальной': 1, 'получаемую': 1, 'накопиться': 1, 'трёх-четырёхмесячный': 1, 'опереться': 1, '03.07.2020': 1, '24.01.2020': 1, 'извещений': 1, 'являющаяся': 1, 'приезжает': 1, 'близкую': 1, 'неизвестном': 1, 'Дел': 1, 'Места': 1, 'постараться': 1, '2.07.2020': 1, 'визита': 1, '2.07': 1, 'продлён': 1, 'Наследство': 1, 'перешло': 1, 'доплатили': 1, '18-летия': 1, 'использованный': 1, '15.08.2018': 1, '22.08.2018': 1, '25.08.2018': 1, '04.10.2018': 1, 'несовершенолетняя': 1, 'остаёмся': 1, 'перенесены': 1, 'переподписан': 1, 'отсидели': 1, 'привлекают': 1, 'подсовывают': 1, 'изоляция': 1, 'прибывания': 1, 'изоляцию': 1, 'удлинняется': 1, 'произволом': 1, '5.35': 1, 'иными': 1, 'законными': 1, 'выразившееся': 1, 'интересам': 1, 'намеренном': 1, 'сокрытии': 1, 'воли': 1, 'Вначале': 1, 'обеими': 1, 'ежели': 1, 'посещений': 1, 'киви': 1, 'кошелек': 1, 'раскручивать': 1, 'повредили': 1, '20.06': 1, 'Уточняет': 1}\n"
     ]
    }
   ],
   "source": [
    "print(token_stats)"
   ]
  },
  {
   "cell_type": "markdown",
   "id": "dfb2b5d8",
   "metadata": {},
   "source": [
    "Теперь давайте из каждого текста отберем только значащие слова.\n",
    "Для этого воспользуемся таким извлечением значащих признаков как IDF"
   ]
  },
  {
   "cell_type": "code",
   "execution_count": 16,
   "id": "2bac2fcc",
   "metadata": {},
   "outputs": [],
   "source": [
    "from sklearn.feature_extraction.text import TfidfVectorizer"
   ]
  },
  {
   "cell_type": "code",
   "execution_count": 17,
   "id": "5d4cc351",
   "metadata": {},
   "outputs": [],
   "source": [
    "corpus = suit_quest_clean.Text.values\n",
    "vectorizer = TfidfVectorizer()\n",
    "fx = vectorizer.fit_transform(corpus)\n",
    "quest_features = vectorizer.get_feature_names_out()"
   ]
  },
  {
   "cell_type": "code",
   "execution_count": 18,
   "id": "5233f3dd",
   "metadata": {},
   "outputs": [
    {
     "data": {
      "text/plain": [
       "'Нанёс человеку 1 удар сломал челюсть и выбил зуб Что грозит'"
      ]
     },
     "execution_count": 18,
     "metadata": {},
     "output_type": "execute_result"
    }
   ],
   "source": [
    "suit_quest_clean.Text.values[302]"
   ]
  },
  {
   "cell_type": "markdown",
   "id": "2ee8e63f",
   "metadata": {},
   "source": [
    "#### Let's create dataframe in which contained CodesType, ArticleNumber in Codes, AnswerId, Question ID.\n",
    "We will use this dataframe for obtain `y` value for predictions"
   ]
  },
  {
   "cell_type": "code",
   "execution_count": 589,
   "id": "7df07d14",
   "metadata": {},
   "outputs": [],
   "source": [
    "extracted_codes = art_left_words.ArtString.str.extract(re_short_codes_ptr)\n",
    "extracted_codes = extracted_codes[0][extracted_codes.notna()[0]]\n",
    "art_left_words"
   ]
  },
  {
   "cell_type": "code",
   "execution_count": 591,
   "id": "4a31aa7f",
   "metadata": {},
   "outputs": [
    {
     "data": {
      "text/html": [
       "<div>\n",
       "<style scoped>\n",
       "    .dataframe tbody tr th:only-of-type {\n",
       "        vertical-align: middle;\n",
       "    }\n",
       "\n",
       "    .dataframe tbody tr th {\n",
       "        vertical-align: top;\n",
       "    }\n",
       "\n",
       "    .dataframe thead th {\n",
       "        text-align: right;\n",
       "    }\n",
       "</style>\n",
       "<table border=\"1\" class=\"dataframe\">\n",
       "  <thead>\n",
       "    <tr style=\"text-align: right;\">\n",
       "      <th></th>\n",
       "      <th>ArtString</th>\n",
       "      <th>AnswerId</th>\n",
       "      <th>QuestionId</th>\n",
       "    </tr>\n",
       "  </thead>\n",
       "  <tbody>\n",
       "    <tr>\n",
       "      <th>0</th>\n",
       "      <td>ук рф статья 159.1</td>\n",
       "      <td>13</td>\n",
       "      <td>176804</td>\n",
       "    </tr>\n",
       "    <tr>\n",
       "      <th>1</th>\n",
       "      <td>упк рф статья 24</td>\n",
       "      <td>14</td>\n",
       "      <td>176804</td>\n",
       "    </tr>\n",
       "    <tr>\n",
       "      <th>6</th>\n",
       "      <td>и упк рф.  статья 49</td>\n",
       "      <td>25</td>\n",
       "      <td>176802</td>\n",
       "    </tr>\n",
       "    <tr>\n",
       "      <th>17</th>\n",
       "      <td>жк рф статья 164</td>\n",
       "      <td>50</td>\n",
       "      <td>176798</td>\n",
       "    </tr>\n",
       "    <tr>\n",
       "      <th>18</th>\n",
       "      <td>жк рф статья 168</td>\n",
       "      <td>50</td>\n",
       "      <td>176798</td>\n",
       "    </tr>\n",
       "    <tr>\n",
       "      <th>...</th>\n",
       "      <td>...</td>\n",
       "      <td>...</td>\n",
       "      <td>...</td>\n",
       "    </tr>\n",
       "    <tr>\n",
       "      <th>17264</th>\n",
       "      <td>тк рф статья 138</td>\n",
       "      <td>42234</td>\n",
       "      <td>167279</td>\n",
       "    </tr>\n",
       "    <tr>\n",
       "      <th>17269</th>\n",
       "      <td>инспекцию.  тк рф статья 138</td>\n",
       "      <td>42237</td>\n",
       "      <td>167279</td>\n",
       "    </tr>\n",
       "    <tr>\n",
       "      <th>17270</th>\n",
       "      <td>разделу.  ск рф статья 39</td>\n",
       "      <td>42259</td>\n",
       "      <td>167269</td>\n",
       "    </tr>\n",
       "    <tr>\n",
       "      <th>17282</th>\n",
       "      <td>ребенка.  ск рф статья 65</td>\n",
       "      <td>42316</td>\n",
       "      <td>167245</td>\n",
       "    </tr>\n",
       "    <tr>\n",
       "      <th>17283</th>\n",
       "      <td>своем.  ук рф статья 158</td>\n",
       "      <td>42320</td>\n",
       "      <td>167243</td>\n",
       "    </tr>\n",
       "  </tbody>\n",
       "</table>\n",
       "<p>3275 rows × 3 columns</p>\n",
       "</div>"
      ],
      "text/plain": [
       "                          ArtString  AnswerId  QuestionId\n",
       "0                ук рф статья 159.1        13      176804\n",
       "1                  упк рф статья 24        14      176804\n",
       "6              и упк рф.  статья 49        25      176802\n",
       "17                 жк рф статья 164        50      176798\n",
       "18                 жк рф статья 168        50      176798\n",
       "...                             ...       ...         ...\n",
       "17264              тк рф статья 138     42234      167279\n",
       "17269  инспекцию.  тк рф статья 138     42237      167279\n",
       "17270     разделу.  ск рф статья 39     42259      167269\n",
       "17282     ребенка.  ск рф статья 65     42316      167245\n",
       "17283      своем.  ук рф статья 158     42320      167243\n",
       "\n",
       "[3275 rows x 3 columns]"
      ]
     },
     "execution_count": 591,
     "metadata": {},
     "output_type": "execute_result"
    }
   ],
   "source": [
    "art_left_words.loc[extracted_codes.index]"
   ]
  },
  {
   "cell_type": "code",
   "execution_count": 215,
   "id": "72e2c0a5",
   "metadata": {},
   "outputs": [
    {
     "name": "stdout",
     "output_type": "stream",
     "text": [
      "Total frequancy of codes names in first 6-th right words:  0\n"
     ]
    }
   ],
   "source": [
    "re_short_codes_ptr = re.compile(short_codes_ptr, re.IGNORECASE)\n",
    "total_freq = art_words.article.str.match(re_short_codes_ptr).sum()\n",
    "print(f'Total frequancy of codes names in first {right_count}-th right words: ', total_freq)"
   ]
  },
  {
   "cell_type": "markdown",
   "id": "6e659be4",
   "metadata": {},
   "source": [
    "## Построим Dataset и DataLoader\n"
   ]
  },
  {
   "cell_type": "markdown",
   "id": "468d8d06",
   "metadata": {},
   "source": [
    "Мы можем теперь, используя таблицы:\n",
    "1. `final_answers`\n",
    "2. `questions`\n",
    "3. `answers`\n",
    "\n",
    "Построить Dataset и DataLoader для наших данных. \n",
    "Есть одна принципиально важная вещь, которая должна быть в Dataset. Мы должны понимать,что у нас должны быть примеры не верхных ответов. Давайте сами насемплируем неверных ответов таким образом:\n",
    "\n",
    "1. Для каждого ответа случайным образом возьмем k статей из каждого кодекса с вероятностью p, параграфы которых мы имеем и при том такие статьи, которые не равны нашей и укажем, что похожесть этого ответа и случайно взятых статей k равна 0. Тем самым мы увеличим датасет и дадим понимание будущей модели, где плохие ответы, а где нет\n",
    "2. Использовать первый подход, только наложить случайность на кодексы. Просто в ином случае, датасет становится слишком несбалансированным\n",
    "При этом, наш датасет будет возвращать картеж из 3-х элементов:\n",
    "1. Текст вопроса\n",
    "2. Текст статьи\n",
    "3. score\n",
    "\n",
    "Соответствующий Dataset смотреть в  `JurstEngine/DataWrapper`"
   ]
  },
  {
   "cell_type": "code",
   "execution_count": 39,
   "id": "e24c4cbf",
   "metadata": {},
   "outputs": [],
   "source": [
    "from JuristEngine import DataWrapper\n",
    "from sklearn.model_selection import train_test_split\n",
    "from sklearn.model_selection import GroupShuffleSplit"
   ]
  },
  {
   "cell_type": "code",
   "execution_count": 40,
   "id": "82a0d755",
   "metadata": {},
   "outputs": [],
   "source": [
    "reload(DataWrapper)\n",
    "pass"
   ]
  },
  {
   "cell_type": "markdown",
   "id": "dc18e31d",
   "metadata": {},
   "source": [
    "Теперь произведем разбиение на тестовю и тренировочную выборки.\n",
    "Для простоты мы пока не будем бить вопросы по конкретным статьям, категориям обращения, а защитимся лишь от того, чтобы ответ на вопрос, который был в тренировочной не попал в тестовую.\n",
    "Конечно может встать вопрос о том, а почему бы не взять лишь один ответ для вопроса? Ответ прост и заключается в том, что в разных  ответах указываются разные статьи. Можно конечно провести и такую предобработку, но давайте для `BaseLine` ограничимся таким подходом"
   ]
  },
  {
   "cell_type": "code",
   "execution_count": 41,
   "id": "f03661f2",
   "metadata": {},
   "outputs": [],
   "source": [
    "gss = GroupShuffleSplit(n_splits=1, train_size=.7, random_state=42)"
   ]
  },
  {
   "cell_type": "code",
   "execution_count": 42,
   "id": "a1fb8d9d",
   "metadata": {},
   "outputs": [],
   "source": [
    "groups = pd.Categorical(final_answers.index.values).codes"
   ]
  },
  {
   "cell_type": "code",
   "execution_count": 43,
   "id": "cb266967",
   "metadata": {},
   "outputs": [],
   "source": [
    "train_index, test_val_index = next(gss.split(final_answers, groups = groups))"
   ]
  },
  {
   "cell_type": "code",
   "execution_count": 44,
   "id": "bf02bdb6",
   "metadata": {},
   "outputs": [],
   "source": [
    "gss_val = GroupShuffleSplit(n_splits=1, train_size=0.5, random_state=42)"
   ]
  },
  {
   "cell_type": "code",
   "execution_count": 45,
   "id": "93727db0",
   "metadata": {},
   "outputs": [],
   "source": [
    "test_val_groups = pd.Categorical(final_answers.iloc[test_val_index].index).codes\n",
    "test_index, val_index = next(gss_val.split(final_answers.iloc[test_val_index], groups = test_val_groups))"
   ]
  },
  {
   "cell_type": "code",
   "execution_count": 46,
   "id": "71eb826a",
   "metadata": {},
   "outputs": [
    {
     "data": {
      "text/plain": [
       "((7346, 11), (1574, 11), (1586, 11))"
      ]
     },
     "execution_count": 46,
     "metadata": {},
     "output_type": "execute_result"
    }
   ],
   "source": [
    "train_databridge = final_answers.iloc[train_index] \n",
    "test_databridge = final_answers.iloc[test_val_index].iloc[test_index]\n",
    "test_val_bridge = final_answers.iloc[test_val_index].iloc[val_index]\n",
    "train_databridge.shape, test_databridge.shape, test_val_bridge.shape"
   ]
  },
  {
   "cell_type": "code",
   "execution_count": 47,
   "id": "cd7c8d68",
   "metadata": {},
   "outputs": [
    {
     "name": "stderr",
     "output_type": "stream",
     "text": [
      "/home/otvc/ottovoncwim/Projects/JuristNLP/notebooks/JuristEngine/DataWrapper.py:86: SettingWithCopyWarning: \n",
      "A value is trying to be set on a copy of a slice from a DataFrame.\n",
      "Try using .loc[row_indexer,col_indexer] = value instead\n",
      "\n",
      "See the caveats in the documentation: https://pandas.pydata.org/pandas-docs/stable/user_guide/indexing.html#returning-a-view-versus-a-copy\n",
      "  join_question_bridge['question_id'] = join_question_bridge.index\n",
      "100%|██████████████████████████████████████| 2090/2090 [00:17<00:00, 116.36it/s]\n",
      "100%|████████████████████████████████████████| 448/448 [00:03<00:00, 142.24it/s]\n",
      "100%|████████████████████████████████████████| 448/448 [00:03<00:00, 142.60it/s]\n"
     ]
    }
   ],
   "source": [
    "train_dataset = DataWrapper.JuristDataset(train_databridge, questions, codes, codes_tree, answers, codes_par)\n",
    "test_dataset = DataWrapper.JuristDataset(test_databridge, questions, codes, codes_tree, answers, codes_par)\n",
    "val_dataset = DataWrapper.JuristDataset(test_databridge, questions, codes, codes_tree, answers, codes_par)"
   ]
  },
  {
   "cell_type": "code",
   "execution_count": 49,
   "id": "2fd8aa9c",
   "metadata": {},
   "outputs": [],
   "source": [
    "import torch\n",
    "from torch.utils.data import DataLoader"
   ]
  },
  {
   "cell_type": "code",
   "execution_count": 51,
   "id": "d656a41a",
   "metadata": {},
   "outputs": [],
   "source": [
    "torch.save(train_dataset, './data/train_dataset.pt')\n",
    "torch.save(test_dataset, './data/test_dataset.pt')\n",
    "torch.save(val_dataset, './data/val_dataset.pt')"
   ]
  },
  {
   "cell_type": "code",
   "execution_count": 382,
   "id": "073da788",
   "metadata": {},
   "outputs": [],
   "source": [
    "train_dataloader = DataLoader(train_dataset, batch_size = 32, shuffle = True)\n",
    "test_dataloader = DataLoader(test_dataset, batch_size = 32, shuffle = True)\n",
    "val_dataloader = DataLoader(val_dataset, batch_size = 32, shuffle = True)"
   ]
  },
  {
   "cell_type": "markdown",
   "id": "13a9fdff",
   "metadata": {},
   "source": [
    "# Строим модель"
   ]
  },
  {
   "cell_type": "code",
   "execution_count": 480,
   "id": "763a37a3",
   "metadata": {},
   "outputs": [],
   "source": [
    "import torch\n",
    "from torch import nn \n",
    "\n",
    "from sklearn.feature_extraction.text import TfidfVectorizer\n",
    "from sklearn.metrics import roc_auc_score, roc_curve, accuracy_score\n",
    "\n",
    "from JuristEngine import Models \n",
    "from JuristEngine.Models import RetrieverDouble, TFIDFNet, LinearScore"
   ]
  },
  {
   "cell_type": "code",
   "execution_count": 481,
   "id": "e51efafe",
   "metadata": {},
   "outputs": [],
   "source": [
    "reload(Models)\n",
    "pass"
   ]
  },
  {
   "cell_type": "code",
   "execution_count": 52,
   "id": "8b6045b1",
   "metadata": {},
   "outputs": [],
   "source": [
    "df_art_to_par = codes_par.groupby('article_id').agg({'paragraph': ' '.join})"
   ]
  },
  {
   "cell_type": "code",
   "execution_count": 55,
   "id": "eba84e69",
   "metadata": {},
   "outputs": [],
   "source": [
    "df_art_to_par.to_csv('data/df_art_to_par.csv')"
   ]
  },
  {
   "cell_type": "code",
   "execution_count": 385,
   "id": "e5fcbaf8",
   "metadata": {},
   "outputs": [
    {
     "data": {
      "text/html": [
       "<style>#sk-container-id-4 {color: black;background-color: white;}#sk-container-id-4 pre{padding: 0;}#sk-container-id-4 div.sk-toggleable {background-color: white;}#sk-container-id-4 label.sk-toggleable__label {cursor: pointer;display: block;width: 100%;margin-bottom: 0;padding: 0.3em;box-sizing: border-box;text-align: center;}#sk-container-id-4 label.sk-toggleable__label-arrow:before {content: \"▸\";float: left;margin-right: 0.25em;color: #696969;}#sk-container-id-4 label.sk-toggleable__label-arrow:hover:before {color: black;}#sk-container-id-4 div.sk-estimator:hover label.sk-toggleable__label-arrow:before {color: black;}#sk-container-id-4 div.sk-toggleable__content {max-height: 0;max-width: 0;overflow: hidden;text-align: left;background-color: #f0f8ff;}#sk-container-id-4 div.sk-toggleable__content pre {margin: 0.2em;color: black;border-radius: 0.25em;background-color: #f0f8ff;}#sk-container-id-4 input.sk-toggleable__control:checked~div.sk-toggleable__content {max-height: 200px;max-width: 100%;overflow: auto;}#sk-container-id-4 input.sk-toggleable__control:checked~label.sk-toggleable__label-arrow:before {content: \"▾\";}#sk-container-id-4 div.sk-estimator input.sk-toggleable__control:checked~label.sk-toggleable__label {background-color: #d4ebff;}#sk-container-id-4 div.sk-label input.sk-toggleable__control:checked~label.sk-toggleable__label {background-color: #d4ebff;}#sk-container-id-4 input.sk-hidden--visually {border: 0;clip: rect(1px 1px 1px 1px);clip: rect(1px, 1px, 1px, 1px);height: 1px;margin: -1px;overflow: hidden;padding: 0;position: absolute;width: 1px;}#sk-container-id-4 div.sk-estimator {font-family: monospace;background-color: #f0f8ff;border: 1px dotted black;border-radius: 0.25em;box-sizing: border-box;margin-bottom: 0.5em;}#sk-container-id-4 div.sk-estimator:hover {background-color: #d4ebff;}#sk-container-id-4 div.sk-parallel-item::after {content: \"\";width: 100%;border-bottom: 1px solid gray;flex-grow: 1;}#sk-container-id-4 div.sk-label:hover label.sk-toggleable__label {background-color: #d4ebff;}#sk-container-id-4 div.sk-serial::before {content: \"\";position: absolute;border-left: 1px solid gray;box-sizing: border-box;top: 0;bottom: 0;left: 50%;z-index: 0;}#sk-container-id-4 div.sk-serial {display: flex;flex-direction: column;align-items: center;background-color: white;padding-right: 0.2em;padding-left: 0.2em;position: relative;}#sk-container-id-4 div.sk-item {position: relative;z-index: 1;}#sk-container-id-4 div.sk-parallel {display: flex;align-items: stretch;justify-content: center;background-color: white;position: relative;}#sk-container-id-4 div.sk-item::before, #sk-container-id-4 div.sk-parallel-item::before {content: \"\";position: absolute;border-left: 1px solid gray;box-sizing: border-box;top: 0;bottom: 0;left: 50%;z-index: -1;}#sk-container-id-4 div.sk-parallel-item {display: flex;flex-direction: column;z-index: 1;position: relative;background-color: white;}#sk-container-id-4 div.sk-parallel-item:first-child::after {align-self: flex-end;width: 50%;}#sk-container-id-4 div.sk-parallel-item:last-child::after {align-self: flex-start;width: 50%;}#sk-container-id-4 div.sk-parallel-item:only-child::after {width: 0;}#sk-container-id-4 div.sk-dashed-wrapped {border: 1px dashed gray;margin: 0 0.4em 0.5em 0.4em;box-sizing: border-box;padding-bottom: 0.4em;background-color: white;}#sk-container-id-4 div.sk-label label {font-family: monospace;font-weight: bold;display: inline-block;line-height: 1.2em;}#sk-container-id-4 div.sk-label-container {text-align: center;}#sk-container-id-4 div.sk-container {/* jupyter's `normalize.less` sets `[hidden] { display: none; }` but bootstrap.min.css set `[hidden] { display: none !important; }` so we also need the `!important` here to be able to override the default hidden behavior on the sphinx rendered scikit-learn.org. See: https://github.com/scikit-learn/scikit-learn/issues/21755 */display: inline-block !important;position: relative;}#sk-container-id-4 div.sk-text-repr-fallback {display: none;}</style><div id=\"sk-container-id-4\" class=\"sk-top-container\"><div class=\"sk-text-repr-fallback\"><pre>TfidfVectorizer(max_features=10000)</pre><b>In a Jupyter environment, please rerun this cell to show the HTML representation or trust the notebook. <br />On GitHub, the HTML representation is unable to render, please try loading this page with nbviewer.org.</b></div><div class=\"sk-container\" hidden><div class=\"sk-item\"><div class=\"sk-estimator sk-toggleable\"><input class=\"sk-toggleable__control sk-hidden--visually\" id=\"sk-estimator-id-4\" type=\"checkbox\" checked><label for=\"sk-estimator-id-4\" class=\"sk-toggleable__label sk-toggleable__label-arrow\">TfidfVectorizer</label><div class=\"sk-toggleable__content\"><pre>TfidfVectorizer(max_features=10000)</pre></div></div></div></div></div>"
      ],
      "text/plain": [
       "TfidfVectorizer(max_features=10000)"
      ]
     },
     "execution_count": 385,
     "metadata": {},
     "output_type": "execute_result"
    }
   ],
   "source": [
    "max_quest_features, max_doc_features = 10000, 10000\n",
    "\n",
    "vectorizer_quest = TfidfVectorizer(max_features = max_quest_features)\n",
    "vectorizer_doc = TfidfVectorizer(max_features = max_doc_features)\n",
    "\n",
    "vectorizer_quest.fit(train_dataset.dataset.question.values)\n",
    "vectorizer_doc.fit(df_art_to_par.paragraph.values)"
   ]
  },
  {
   "cell_type": "code",
   "execution_count": 386,
   "id": "92192b06",
   "metadata": {},
   "outputs": [],
   "source": [
    "quest_features = vectorizer_quest.transform(['0']).toarray().shape[-1]\n",
    "doc_features = vectorizer_doc.transform(['0']).toarray().shape[-1]"
   ]
  },
  {
   "cell_type": "markdown",
   "id": "157aa298",
   "metadata": {},
   "source": [
    "Давайте рассмотрим ретривер через решение задачи бинарной классификации, а именно подходит или нет документ"
   ]
  },
  {
   "cell_type": "code",
   "execution_count": 483,
   "id": "d48e27dc",
   "metadata": {},
   "outputs": [],
   "source": [
    "from JuristEngine import Instruments\n",
    "reload(Instruments)\n",
    "pass"
   ]
  },
  {
   "cell_type": "code",
   "execution_count": 487,
   "id": "4281a8da",
   "metadata": {},
   "outputs": [],
   "source": [
    "tfidf_retriever = TFIDFNet(vectorizer_quest)\n",
    "doc_retriever = TFIDFNet(vectorizer_doc)\n",
    "\n",
    "linear_score = LinearScore(quest_features, doc_features, n_scores=2)\n",
    "base_retriever = RetrieverDouble(linear_score, tfidf_retriever, doc_retriever)"
   ]
  },
  {
   "cell_type": "code",
   "execution_count": 488,
   "id": "c06042e5",
   "metadata": {},
   "outputs": [],
   "source": [
    "criterion = nn.CrossEntropyLoss()\n",
    "optimizer = torch.optim.Adam(base_retriever.parameters(), lr = 1e-4)"
   ]
  },
  {
   "cell_type": "code",
   "execution_count": 489,
   "id": "6489949b",
   "metadata": {},
   "outputs": [
    {
     "data": {
      "image/png": "[encoded data removed]",
      "text/plain": [
       "<Figure size 1500x500 with 2 Axes>"
      ]
     },
     "metadata": {},
     "output_type": "display_data"
    },
    {
     "name": "stderr",
     "output_type": "stream",
     "text": [
      "100%|███████████████████████████████████████████| 20/20 [02:48<00:00,  8.43s/it]\n"
     ]
    },
    {
     "data": {
      "text/plain": [
       "RetrieverDouble(\n",
       "  (score_model): LinearScore(\n",
       "    (fc): Linear(in_features=20000, out_features=2, bias=True)\n",
       "  )\n",
       "  (model_quest): TFIDFNet()\n",
       "  (model_doc): TFIDFNet()\n",
       ")"
      ]
     },
     "execution_count": 489,
     "metadata": {},
     "output_type": "execute_result"
    }
   ],
   "source": [
    "Instruments.train_tfidf_linear_score(base_retriever, train_dataloader, val_dataloader, \n",
    "                                     optimizer, criterion, epochs = 20, every_batch = 1)"
   ]
  },
  {
   "cell_type": "code",
   "execution_count": 490,
   "id": "5a890183",
   "metadata": {},
   "outputs": [],
   "source": [
    "with torch.no_grad():\n",
    "    y_preds, y_gt = Instruments.test_loop(base_retriever, test_dataloader, Instruments.unpack_retriever_tfidf)"
   ]
  },
  {
   "cell_type": "code",
   "execution_count": 491,
   "id": "66ae3324",
   "metadata": {},
   "outputs": [],
   "source": [
    "y_probas, y_gt = torch.concat(y_preds), torch.concat(y_gt)"
   ]
  },
  {
   "cell_type": "code",
   "execution_count": 492,
   "id": "30af4d11",
   "metadata": {},
   "outputs": [
    {
     "data": {
      "text/plain": [
       "(torch.Size([3501, 2]), torch.Size([3501]))"
      ]
     },
     "execution_count": 492,
     "metadata": {},
     "output_type": "execute_result"
    }
   ],
   "source": [
    "y_probas.shape, y_gt.shape"
   ]
  },
  {
   "cell_type": "code",
   "execution_count": 493,
   "id": "40164db1",
   "metadata": {},
   "outputs": [
    {
     "data": {
      "text/plain": [
       "0.9305752223008891"
      ]
     },
     "execution_count": 493,
     "metadata": {},
     "output_type": "execute_result"
    }
   ],
   "source": [
    "roc_auc_score(y_gt.detach().numpy(), y_probas.detach().numpy().argmax(1))"
   ]
  },
  {
   "cell_type": "code",
   "execution_count": null,
   "id": "18aac7cc",
   "metadata": {},
   "outputs": [],
   "source": []
  }
 ],
 "metadata": {
  "kernelspec": {
   "display_name": "Python 3 (ipykernel)",
   "language": "python",
   "name": "python3"
  },
  "language_info": {
   "codemirror_mode": {
    "name": "ipython",
    "version": 3
   },
   "file_extension": ".py",
   "mimetype": "text/x-python",
   "name": "python",
   "nbconvert_exporter": "python",
   "pygments_lexer": "ipython3",
   "version": "3.10.6"
  }
 },
 "nbformat": 4,
 "nbformat_minor": 5
}
